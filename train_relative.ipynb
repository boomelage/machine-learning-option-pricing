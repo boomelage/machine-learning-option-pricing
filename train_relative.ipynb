{
 "cells": [
  {
   "cell_type": "code",
   "execution_count": 1,
   "id": "756bdd82-6c20-4e3d-999a-7bd7497bfe98",
   "metadata": {},
   "outputs": [
    {
     "name": "stdout",
     "output_type": "stream",
     "text": [
      "\n",
      "##################\n",
      "# training start #\n",
      "##################\n",
      "\n",
      "Fri Nov  8 17:17:40 2024\n"
     ]
    }
   ],
   "source": [
    "import os\n",
    "import time\n",
    "import joblib\n",
    "import numpy as np\n",
    "import pandas as pd\n",
    "import matplotlib.pyplot as plt\n",
    "from pathlib import Path\n",
    "from datetime import datetime\n",
    "from model_settings import ms\n",
    "from df_collector import df_collector\n",
    "pd.set_option(\"display.max_columns\",0)\n",
    "pd.options.display.float_format = '{:.6f}'.format\n",
    "root = Path().resolve().parent.parent\n",
    "df_collector.root = root\n",
    "models_dir = os.path.join(root,ms.trained_models)\n",
    "train_start = time.time()\n",
    "train_start_datetime = datetime.fromtimestamp(train_start)\n",
    "train_start_tag = train_start_datetime.strftime('%c')\n",
    "print(\"\\n\"+\"#\"*18+\"\\n# training start #\\n\"+\n",
    "      \"#\"*18+\"\\n\"+f\"\\n{train_start_tag}\")"
   ]
  },
  {
   "cell_type": "code",
   "execution_count": 2,
   "id": "d6a0d19f-83ac-4525-b33a-f55afa3c9da3",
   "metadata": {},
   "outputs": [
    {
     "name": "stdout",
     "output_type": "stream",
     "text": [
      "collected barrier options\n",
      "          spot_price   strike_price        barrier  days_to_maturity         rebate  dividend_rate  risk_free_rate          theta          kappa            rho            eta             v0  barrier_price\n",
      "count 2037988.000000 2037988.000000 2037988.000000    2037988.000000 2037988.000000 2037988.000000  2037988.000000 2037988.000000 2037988.000000 2037988.000000 2037988.000000 2037988.000000 2037988.000000\n",
      "mean     3771.972490    3771.988511    3785.619135        323.112634       0.000000       0.016717        0.023852       0.127303       5.861038      -0.795742       2.001972       0.060612     177.360437\n",
      "std       844.635317     880.736463    1459.605277        240.806413       0.000000       0.002448        0.018788       0.186416       9.132415       0.162223       2.112885       0.090671     328.070614\n",
      "min      2389.000000    2150.100000    1194.500000         60.000000       0.000000       0.012624        0.000330       0.000000       0.000000      -1.000000       0.000000       0.000102       0.000000\n",
      "25%      2916.000000    2955.000000    2677.510000         90.000000       0.000000       0.014215        0.002183       0.035144       0.671483      -0.999982       0.610257       0.012647       1.635566\n",
      "50%      3906.000000    3798.975000    3629.662500        180.000000       0.000000       0.016776        0.020822       0.083088       2.102587      -0.783729       1.183543       0.023179      50.164341\n",
      "75%      4401.000000    4412.850000    4676.092500        540.000000       0.000000       0.019006        0.045853       0.145793       6.534477      -0.696753       2.462491       0.067072     225.734882\n",
      "max      5863.000000    6449.300000    8794.500000        720.000000       0.000000       0.023780        0.054889       1.869788      88.141944      -0.012846      10.045761       0.567582    5424.825644\n",
      "spot_price           float64\n",
      "strike_price         float64\n",
      "barrier              float64\n",
      "days_to_maturity       int64\n",
      "updown                object\n",
      "outin                 object\n",
      "w                     object\n",
      "barrier_type_name     object\n",
      "rebate               float64\n",
      "dividend_rate        float64\n",
      "risk_free_rate       float64\n",
      "theta                float64\n",
      "kappa                float64\n",
      "rho                  float64\n",
      "eta                  float64\n",
      "v0                   float64\n",
      "calculation_date      object\n",
      "date                  object\n",
      "barrier_price        float64\n",
      "dtype: object\n",
      "0          2017-11-16 15:56:27.025\n",
      "2161       2017-11-17 13:06:50.720\n",
      "4321       2017-11-22 09:30:04.794\n",
      "6480       2017-11-28 15:46:56.031\n",
      "8640       2017-11-28 16:06:47.133\n",
      "                    ...           \n",
      "2131920    2024-10-07 15:57:53.651\n",
      "2134080    2024-10-08 15:48:23.420\n",
      "2136240    2024-10-09 15:33:43.664\n",
      "2138400    2024-10-14 12:23:32.382\n",
      "2140560    2024-10-14 15:26:27.717\n",
      "Name: calculation_date, Length: 987, dtype: object\n"
     ]
    }
   ],
   "source": [
    "data = df_collector.cboe_spx_barriers().iloc[:,1:]\n",
    "pricename = [f for f in data.columns if f.find('_price')!=-1 and f.find('spot_')==-1 and f.find('strike_')==-1][0]\n",
    "relative_pricename = 'relative_'+pricename\n",
    "data = data[data[pricename]<=data['spot_price']]\n",
    "print(f'collected {pricename[:pricename.find('_',0)]} options')\n",
    "print(data.describe())\n",
    "print(data.dtypes)\n",
    "print(data['calculation_date'].drop_duplicates())"
   ]
  },
  {
   "cell_type": "code",
   "execution_count": 3,
   "id": "a1912ada-08b8-4e26-8cba-54fa03863b5a",
   "metadata": {},
   "outputs": [],
   "source": [
    "filetag = f'cboe spx relative {pricename[:pricename.find('_',0)]}'"
   ]
  },
  {
   "cell_type": "code",
   "execution_count": 4,
   "id": "7b7c8926-4f61-40d6-a9f4-bdc224e6bd7a",
   "metadata": {},
   "outputs": [
    {
     "data": {
      "text/plain": [
       "count   2037988.000000\n",
       "mean        177.360437\n",
       "std         328.070614\n",
       "min           0.000000\n",
       "25%           1.635566\n",
       "50%          50.164341\n",
       "75%         225.734882\n",
       "max        5424.825644\n",
       "Name: barrier_price, dtype: float64"
      ]
     },
     "execution_count": 4,
     "metadata": {},
     "output_type": "execute_result"
    }
   ],
   "source": [
    "data[pricename].describe()"
   ]
  },
  {
   "cell_type": "code",
   "execution_count": 9,
   "id": "4f961d02-88ee-4da7-aa28-7165d32051d5",
   "metadata": {},
   "outputs": [
    {
     "data": {
      "text/plain": [
       "spot_price                       float64\n",
       "strike_price                     float64\n",
       "barrier                          float64\n",
       "days_to_maturity                   int64\n",
       "updown                            object\n",
       "outin                             object\n",
       "w                                 object\n",
       "barrier_type_name                 object\n",
       "rebate                           float64\n",
       "dividend_rate                    float64\n",
       "risk_free_rate                   float64\n",
       "theta                            float64\n",
       "kappa                            float64\n",
       "rho                              float64\n",
       "eta                              float64\n",
       "v0                               float64\n",
       "calculation_date          datetime64[ns]\n",
       "date                      datetime64[ns]\n",
       "barrier_price                    float64\n",
       "relative_spot                    float64\n",
       "relative_barrier_price           float64\n",
       "relative_barrier                 float64\n",
       "relative_rebate                  float64\n",
       "dtype: object"
      ]
     },
     "execution_count": 9,
     "metadata": {},
     "output_type": "execute_result"
    }
   ],
   "source": [
    "data_strikes = data['strike_price']\n",
    "data['relative_spot'] = data['spot_price']/data_strikes\n",
    "data[relative_pricename] = data[pricename]/data_strikes\n",
    "try:\n",
    "    data['relative_barrier'] = data['barrier']/data_strikes\n",
    "    data['relative_rebate'] = data['rebate']/data_strikes\n",
    "except Exception:\n",
    "    pass\n",
    "\n",
    "data['calculation_date'] = pd.to_datetime(data['calculation_date'],format='mixed')\n",
    "data['date'] = pd.to_datetime(data['date'],format='mixed')\n",
    "data.dtypes"
   ]
  },
  {
   "cell_type": "code",
   "execution_count": 7,
   "id": "c659839a-3a9a-4b1e-b923-067ece3f864b",
   "metadata": {},
   "outputs": [
    {
     "ename": "SyntaxError",
     "evalue": "invalid syntax (2701300105.py, line 1)",
     "output_type": "error",
     "traceback": [
      "\u001b[1;36m  Cell \u001b[1;32mIn[7], line 1\u001b[1;36m\u001b[0m\n\u001b[1;33m    stop yo\u001b[0m\n\u001b[1;37m         ^\u001b[0m\n\u001b[1;31mSyntaxError\u001b[0m\u001b[1;31m:\u001b[0m invalid syntax\n"
     ]
    }
   ],
   "source": [
    "stop yo "
   ]
  },
  {
   "cell_type": "code",
   "execution_count": null,
   "id": "0c97f5f6-84d4-4c7d-b57a-3f206d439ad7",
   "metadata": {},
   "outputs": [],
   "source": [
    "\"\"\"\n",
    "plot\n",
    "\"\"\"\n",
    "rels = data[relative_pricename]\n",
    "plt.figure()\n",
    "plt.hist(rels,color='purple',label=relative_pricename.replace('_',' '),bins=int(np.sqrt(len(rels))))\n",
    "plt.legend()\n",
    "plt.show()\n",
    "rels.describe()"
   ]
  },
  {
   "cell_type": "code",
   "execution_count": null,
   "id": "e82f1192-21e5-41ae-9cbf-f65446dd7897",
   "metadata": {},
   "outputs": [],
   "source": [
    "from plotters import PlotCols\n",
    "col_names = ['spot_price','kappa','theta','rho','eta','v0','risk_free_rate','dividend_rate','spot_price','relative_observed']\n",
    "index = 'calculation_date'\n",
    "plot_data = data[col_names+[index]].copy().sort_values(by='relative_observed').drop_duplicates(subset=index,keep='first').sort_values(by=index).reset_index(drop=True)\n",
    "data_cols = [index] + col_names\n",
    "PlotCols(\n",
    "    plot_data,\n",
    "    col_names=col_names,\n",
    "    index=index,\n",
    "    figsize=(10,15)\n",
    ")\n",
    "pd.Series(plot_data[index])\n",
    "data['relative_observed'].describe()"
   ]
  },
  {
   "cell_type": "markdown",
   "id": "94f374a1-65e8-4908-a29a-79432a2adb59",
   "metadata": {},
   "source": [
    "# training procedure"
   ]
  },
  {
   "cell_type": "code",
   "execution_count": null,
   "id": "40447543-0d04-4a5a-9ea8-36d55367797b",
   "metadata": {},
   "outputs": [],
   "source": [
    "from convsklearn import convsklearn\n",
    "trainer = convsklearn()\n",
    "trainer.target_name = 'relative_observed'\n",
    "trainer.excluded_features = trainer.excluded_features + ['spot_price','strike_price','barrier','rebate','relative_observed']\n",
    "trainer.__dict__"
   ]
  },
  {
   "cell_type": "code",
   "execution_count": null,
   "id": "5b2e079e-cbbf-4218-9a07-5a023fe5cc53",
   "metadata": {
    "scrolled": true
   },
   "outputs": [],
   "source": [
    "trainer.load_data(data)\n",
    "print('features:')\n",
    "for f in trainer.feature_set:\n",
    "    print(f\"   {f}\")\n",
    "print(f\"\\ntarget:\\n   {trainer.target_name}\")"
   ]
  },
  {
   "cell_type": "markdown",
   "id": "ea17b297-4ae2-4a81-8fff-8942b943a843",
   "metadata": {},
   "source": [
    "## preprocessing"
   ]
  },
  {
   "cell_type": "code",
   "execution_count": null,
   "id": "fd578101-a596-4e58-9def-d2a4981157f9",
   "metadata": {
    "scrolled": true
   },
   "outputs": [],
   "source": [
    "data['calculation_date'].drop_duplicates()"
   ]
  },
  {
   "cell_type": "code",
   "execution_count": null,
   "id": "d4711add-2c0b-4796-8330-d93d91857a1c",
   "metadata": {},
   "outputs": [],
   "source": [
    "stop yo"
   ]
  },
  {
   "cell_type": "code",
   "execution_count": null,
   "id": "9d16a1f0-d8ab-4054-b34b-ef6a4942c858",
   "metadata": {},
   "outputs": [],
   "source": [
    "development_dates = dates[:len(dates)//3]\n",
    "test_dates = dates[~dates.isin(development_dates)]\n",
    "trainer.preprocess_data(development_dates,test_dates)"
   ]
  },
  {
   "cell_type": "markdown",
   "id": "c7052011-8582-4eb0-b290-20ee59e53b0f",
   "metadata": {},
   "source": [
    "## training"
   ]
  },
  {
   "cell_type": "code",
   "execution_count": null,
   "id": "fd36430b-9406-4a75-9ca3-63653fc52cc3",
   "metadata": {},
   "outputs": [],
   "source": [
    "trainer.run_dnn()"
   ]
  },
  {
   "cell_type": "code",
   "execution_count": null,
   "id": "57ec44a1-d6a1-4edc-932e-ac0ffa206c8c",
   "metadata": {
    "scrolled": true
   },
   "outputs": [],
   "source": [
    "print('instance variables:')\n",
    "\n",
    "for key, value in trainer.__dict__.items():\n",
    "    print(f\"{key}:\\n  {value}\\n\")"
   ]
  },
  {
   "cell_type": "markdown",
   "id": "adb7f936-ce4a-401e-addb-276b0d297551",
   "metadata": {},
   "source": [
    "### initial test"
   ]
  },
  {
   "cell_type": "code",
   "execution_count": null,
   "id": "93d332cf-355a-46db-976b-bef54d021abc",
   "metadata": {},
   "outputs": [],
   "source": [
    "train_test = trainer.test_prediction_accuracy()"
   ]
  },
  {
   "cell_type": "code",
   "execution_count": null,
   "id": "df9b403d-1843-4740-83c5-3573f04dc1e3",
   "metadata": {},
   "outputs": [],
   "source": [
    "oserr = trainer.test_data['outofsample_error']\n",
    "iserr = trainer.train_data['insample_error']"
   ]
  },
  {
   "cell_type": "code",
   "execution_count": null,
   "id": "8346cc72-d7d5-4965-93a5-fa28ec82368f",
   "metadata": {},
   "outputs": [],
   "source": [
    "plt.figure()\n",
    "plt.hist(oserr,color='purple',label='out-of-sample',bins=int(np.sqrt(len(oserr))))\n",
    "plt.hist(iserr,color='green',label='in-sample',bins=int(np.sqrt(len(iserr))))\n",
    "plt.legend()\n",
    "plt.title('distributions of prediction error')\n",
    "plt.show()"
   ]
  },
  {
   "cell_type": "markdown",
   "id": "0d3d455a-0c63-4d2d-8ee6-0c26f2a11163",
   "metadata": {},
   "source": [
    "## saving"
   ]
  },
  {
   "cell_type": "code",
   "execution_count": null,
   "id": "af25cd08-41b6-4ade-aa2c-487f41e03811",
   "metadata": {},
   "outputs": [],
   "source": [
    "train_end = time.time()\n",
    "train_end_tag = str(datetime.fromtimestamp(\n",
    "    train_end).strftime(\"%Y_%m_%d %H%M%S%f\"))\n",
    "file_tag = str(train_end_tag + \" \" + filetag)\n",
    "files_dir = os.path.join(models_dir,file_tag)\n",
    "\n",
    "def save_model():\n",
    "    if Path(files_dir).exists():\n",
    "        pass\n",
    "    else:\n",
    "        os.mkdir(files_dir)\n",
    "    file_dir = os.path.join(files_dir,file_tag)\n",
    "    joblib.dump(trainer.__dict__,str(f\"{file_dir}.pkl\"))\n",
    "    pd.set_option(\"display.max_columns\",None)\n",
    "    print(f\"model saved to {file_dir}\")\n",
    "\n",
    "print(f\"execute the command 'save_model()' to save the following model: {file_tag}\")\n",
    "train_runtime = train_end-train_start\n",
    "print(f\"\\ncpu: {train_runtime}\")"
   ]
  },
  {
   "cell_type": "code",
   "execution_count": null,
   "id": "600af1a4-0418-405d-b23c-a8e22573de3a",
   "metadata": {},
   "outputs": [],
   "source": [
    "save_model()"
   ]
  }
 ],
 "metadata": {
  "kernelspec": {
   "display_name": "Python 3 (ipykernel)",
   "language": "python",
   "name": "python3"
  },
  "language_info": {
   "codemirror_mode": {
    "name": "ipython",
    "version": 3
   },
   "file_extension": ".py",
   "mimetype": "text/x-python",
   "name": "python",
   "nbconvert_exporter": "python",
   "pygments_lexer": "ipython3",
   "version": "3.12.7"
  }
 },
 "nbformat": 4,
 "nbformat_minor": 5
}
