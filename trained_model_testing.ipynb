{
 "cells": [
  {
   "cell_type": "code",
   "execution_count": null,
   "id": "ebb2167f-a343-46fa-8483-f7d3cac0f399",
   "metadata": {},
   "outputs": [],
   "source": [
    "import os\n",
    "import joblib\n",
    "import pandas as pd\n",
    "import numpy as np\n",
    "import matplotlib.pyplot as plt\n",
    "from pathlib import Path"
   ]
  },
  {
   "cell_type": "markdown",
   "id": "b2b2659b-972b-49fc-be2d-a1a9d7857433",
   "metadata": {},
   "source": [
    "# functions"
   ]
  },
  {
   "cell_type": "code",
   "execution_count": null,
   "id": "90726a8b-c36d-4d03-b43b-04d6805e9762",
   "metadata": {},
   "outputs": [],
   "source": [
    "def compute_RMSE(diff):\n",
    "    if len(diff)>0:\n",
    "        return np.sqrt(np.mean(diff.values**2))\n",
    "        \n",
    "def compute_MAE(diff):\n",
    "    if len(diff)>0:\n",
    "        return np.mean(np.abs(diff.values))\n",
    "\n",
    "def plot_errors(plotcols, test_data, train_data):\n",
    "    test_diff = test_data['outofsample_error']\n",
    "    train_diff = train_data['insample_error']\n",
    "    \n",
    "    test_data['RMSE'] = test_diff.resample('D').apply(compute_RMSE).dropna()\n",
    "    test_data['MAE'] = test_diff.resample('D').apply(compute_MAE).dropna()\n",
    "    test_plot = test_data[plotcols].copy().drop_duplicates()\n",
    "    \n",
    "    train_data['RMSE'] = train_diff.resample('D').apply(compute_RMSE).dropna()\n",
    "    train_data['MAE'] = train_diff.resample('D').apply(compute_MAE).dropna()\n",
    "    train_plot = train_data[plotcols].copy().drop_duplicates()\n",
    "    \n",
    "    fig,axs = plt.subplots(len(plotcols),figsize=(10,10),sharex=True)\n",
    "    for i,col in enumerate(plotcols):\n",
    "        axs[i].plot(train_plot[col],color='green',label='in-sample')\n",
    "        axs[i].set_title(col.replace('_',' '))\n",
    "        axs[i].legend()\n",
    "    for i,col in enumerate(plotcols):\n",
    "        axs[i].plot(test_plot[col],color='purple',label='out-of-sample')\n",
    "        axs[i].set_title(col.replace('_',' '))\n",
    "        axs[i].legend()\n",
    "    plt.show()\n",
    "\n",
    "def retrain(old_train_data,old_test_data,train_to_date):\n",
    "    new_train = pd.concat([old_train_data,old_test_data[old_test_data.index<=train_to_date]],ignore_index=False).dropna(how='any',axis=1).reset_index(drop=False)\n",
    "    new_test = old_test_data[~old_test_data.index.isin(new_train['calculation_date'])].copy().reset_index(drop=False)\n",
    "    arrs = trainer.get_train_test_arrays(new_train, new_test)\n",
    "    train_X = arrs['train_X']\n",
    "    train_y = arrs['train_y']\n",
    "    test_X = arrs['test_X']\n",
    "    test_y = arrs['test_y']\n",
    "    preprocessor = trainer.preprocess()\n",
    "    retrained_model = trainer.run_dnn(preprocessor,train_X,train_y)\n",
    "    train_test = trainer.test_prediction_accuracy(new_train,new_test,retrained_model)\n",
    "    new_test_data = train_test['test_data'].set_index('calculation_date')\n",
    "    new_train_data = train_test['train_data'].set_index('calculation_date')\n",
    "    print()\n",
    "    plot_errors(plotcols,new_test_data,new_train_data)\n",
    "    return new_train_data, new_test_data"
   ]
  },
  {
   "cell_type": "markdown",
   "id": "5b74eca8-8c42-496d-9e9d-026a609f5e35",
   "metadata": {},
   "source": [
    "# loading model"
   ]
  },
  {
   "cell_type": "code",
   "execution_count": null,
   "id": "5807adc3-5fab-4f79-b75e-fadeb37ae179",
   "metadata": {},
   "outputs": [],
   "source": [
    "from model_settings import ms\n",
    "root = Path().resolve().parent.parent\n",
    "models_dir = os.path.join(root,ms.trained_models)\n",
    "models = [f for f in os.listdir(models_dir) if f.find('ipynb')==-1]\n",
    "for i,m in enumerate(models):\n",
    "    print(f\"{i}     {m}\")"
   ]
  },
  {
   "cell_type": "markdown",
   "id": "a42d6d97-cf5b-462e-8012-8cae156d290a",
   "metadata": {},
   "source": [
    "# loading data"
   ]
  },
  {
   "cell_type": "code",
   "execution_count": null,
   "id": "1ecc1ca4-32fd-4157-8431-0d309488f7ee",
   "metadata": {
    "scrolled": true
   },
   "outputs": [],
   "source": [
    "\"\"\"\n",
    "select model here\n",
    "\"\"\"\n",
    "model = models[2]\n",
    "\"\"\"\"\"\"\n",
    "\n",
    "plotcols = ['v0','RMSE', 'MAE','spot_price']\n",
    "\n",
    "from convsklearn import asian_trainer, barrier_trainer\n",
    "\n",
    "model_dir = os.path.join(models_dir,model)\n",
    "model_files = [f for f in os.listdir(model_dir) if f.find('ipynb')==-1 and f.find('.html')==-1]\n",
    "for i,m in enumerate(model_files):\n",
    "    print(f\"{i}     {m}\")\n",
    "print()\n",
    "if any('asian' in file for file in model_files):\n",
    "    trainer = asian_trainer\n",
    "if any('barrier' in file for file in model_files):\n",
    "    trainer = barrier_trainer\n",
    "\n",
    "train_data = pd.read_csv(os.path.join(model_dir,[f for f in model_files if f.find('train')!=-1][0])).iloc[:,1:].copy()\n",
    "test_data = pd.read_csv(os.path.join(model_dir,[f for f in model_files if f. find('test')!=-1][0])).iloc[:,1:].copy()\n",
    "train_data['calculation_date'] = pd.to_datetime(train_data['calculation_date'])\n",
    "test_data['calculation_date'] = pd.to_datetime(test_data['calculation_date'])\n",
    "train_data = train_data.set_index('calculation_date')\n",
    "test_data = test_data.set_index('calculation_date')\n",
    "test_dates = pd.Series(test_data.index).sort_values(ascending=True).drop_duplicates().reset_index(drop=True)\n",
    "model_fit = joblib.load(os.path.join(model_dir,[f for f in model_files if f.endswith('.pkl')][0]))\n",
    "\n",
    "for col in trainer.feature_set:\n",
    "    print(f\"{col.replace(\"_\",\" \"):}\",f\"\\n{test_data[col].copy().squeeze().sort_values().drop_duplicates().reset_index(drop=True)}\\n\")\n",
    "print()\n",
    "print(model_fit)\n",
    "\n",
    "plot_errors(plotcols, test_data, train_data)"
   ]
  },
  {
   "cell_type": "code",
   "execution_count": null,
   "id": "94def41c-5524-40b1-b303-2fe2943f225e",
   "metadata": {},
   "outputs": [],
   "source": [
    "from sklearn.inspection import partial_dependence,PartialDependenceDisplay\n",
    "\n",
    "part_disp_X = train_data[model_fit.feature_names_in_]\n",
    "fig, ax = plt.subplots(figsize=(12, 6))\n",
    "disp = PartialDependenceDisplay.from_estimator(model_fit, part_disp_X, ['spot_price','v0'], ax=ax)"
   ]
  },
  {
   "cell_type": "markdown",
   "id": "b23cc184-4e78-421c-ac47-01336deb644c",
   "metadata": {},
   "source": [
    "# retraining"
   ]
  },
  {
   "cell_type": "code",
   "execution_count": null,
   "id": "44c25b80-4a4b-4ad1-9264-b044b2ce0ea7",
   "metadata": {},
   "outputs": [],
   "source": [
    "retraining_frequency = 10  # days\n",
    "retraining_i = np.arange(retraining_frequency,len(test_dates),retraining_frequency)\n",
    "retraining_dates = test_dates[retraining_i].reset_index(drop=True)\n",
    "print(retraining_dates)"
   ]
  },
  {
   "cell_type": "code",
   "execution_count": null,
   "id": "6b23a9e4-fc69-4cad-a9e2-3ce4f9690ab1",
   "metadata": {},
   "outputs": [],
   "source": [
    "for date in retraining_dates:\n",
    "    print()\n",
    "    print(date.strftime('%c'))\n",
    "    retrain(train_data,test_data,date)\n",
    "    print()"
   ]
  }
 ],
 "metadata": {
  "kernelspec": {
   "display_name": "Python 3 (ipykernel)",
   "language": "python",
   "name": "python3"
  },
  "language_info": {
   "codemirror_mode": {
    "name": "ipython",
    "version": 3
   },
   "file_extension": ".py",
   "mimetype": "text/x-python",
   "name": "python",
   "nbconvert_exporter": "python",
   "pygments_lexer": "ipython3",
   "version": "3.12.7"
  }
 },
 "nbformat": 4,
 "nbformat_minor": 5
}
