{
 "cells": [
  {
   "cell_type": "code",
   "execution_count": 1,
   "id": "ebb2167f-a343-46fa-8483-f7d3cac0f399",
   "metadata": {},
   "outputs": [],
   "source": [
    "import os\n",
    "import joblib\n",
    "import pandas as pd\n",
    "import numpy as np\n",
    "import matplotlib.pyplot as plt\n",
    "from pathlib import Path"
   ]
  },
  {
   "cell_type": "markdown",
   "id": "b2b2659b-972b-49fc-be2d-a1a9d7857433",
   "metadata": {},
   "source": [
    "# functions"
   ]
  },
  {
   "cell_type": "code",
   "execution_count": 2,
   "id": "90726a8b-c36d-4d03-b43b-04d6805e9762",
   "metadata": {},
   "outputs": [],
   "source": [
    "def compute_RMSE(diff):\n",
    "    if len(diff)>0:\n",
    "        return np.sqrt(np.mean(diff.values**2))\n",
    "        \n",
    "def compute_MAE(diff):\n",
    "    if len(diff)>0:\n",
    "        return np.mean(np.abs(diff.values))\n",
    "\n",
    "def plot_errors(plotcols, test_data, train_data):\n",
    "    test_diff = test_data['outofsample_error']\n",
    "    train_diff = train_data['insample_error']\n",
    "    \n",
    "    test_data['RMSE'] = test_diff.resample('D').apply(compute_RMSE).dropna()\n",
    "    test_data['MAE'] = test_diff.resample('D').apply(compute_MAE).dropna()\n",
    "    test_plot = test_data[plotcols].copy().drop_duplicates()\n",
    "    \n",
    "    train_data['RMSE'] = train_diff.resample('D').apply(compute_RMSE).dropna()\n",
    "    train_data['MAE'] = train_diff.resample('D').apply(compute_MAE).dropna()\n",
    "    train_plot = train_data[plotcols].copy().drop_duplicates()\n",
    "    \n",
    "    trainx = pd.date_range(start=min(train_data.index),end=max(train_data.index),periods=train_plot.shape[0])\n",
    "    testx = pd.date_range(start=min(test_data.index),end=max(test_data.index),periods=test_plot.shape[0])\n",
    "    \n",
    "    fig,axs = plt.subplots(len(plotcols),figsize=(10,10),sharex=True)\n",
    "    for i,col in enumerate(plotcols):\n",
    "        axs[i].plot(trainx,train_plot[col],color='green',label='in-sample')\n",
    "        axs[i].set_title(col.replace('_',' '))\n",
    "        axs[i].legend()\n",
    "    for i,col in enumerate(plotcols):\n",
    "        axs[i].plot(testx,test_plot[col],color='purple',label='out-of-sample')\n",
    "        axs[i].set_title(col.replace('_',' '))\n",
    "        axs[i].legend()\n",
    "    plt.show()\n",
    "\n",
    "def retrain(train_data,test_data,retraining_frequency):\n",
    "    retraining_i = np.arange(retraining_frequency,len(test_dates),retraining_frequency)\n",
    "    retraining_dates = test_dates[retraining_i].reset_index(drop=True)\n",
    "    print(f\"retraining dates:\\n{retraining_dates}\")\n",
    "    for i,date in enumerate(retraining_dates):\n",
    "        if i<len(retraining_dates)-1:\n",
    "            print()\n",
    "            print(date.strftime('%c'))\n",
    "            new_train = pd.concat([train_data,test_data[test_data.index<=date]],ignore_index=False).copy().dropna(how='any',axis=1).reset_index(drop=False)\n",
    "            new_test = test_data[\n",
    "                (test_data.index>date)\n",
    "                # &(test_data.index<=retraining_dates[i+1])\n",
    "            ].reset_index(drop=False)\n",
    "            arrs = trainer.get_train_test_arrays(new_train, new_test)\n",
    "            train_X = arrs['train_X']\n",
    "            train_y = arrs['train_y']\n",
    "            test_X = arrs['test_X']\n",
    "            test_y = arrs['test_y']\n",
    "            preprocessor = trainer.preprocess()\n",
    "            retrained_model = trainer.run_dnn(preprocessor,train_X,train_y)\n",
    "            train_test = trainer.test_prediction_accuracy(new_train,new_test,retrained_model)\n",
    "            new_test_data = train_test['test_data'].set_index('calculation_date')\n",
    "            new_train_data = train_test['train_data'].set_index('calculation_date')\n",
    "            print()\n",
    "            plot_errors(plotcols,new_test_data,new_train_data)\n",
    "    return retrained_model"
   ]
  },
  {
   "cell_type": "markdown",
   "id": "5b74eca8-8c42-496d-9e9d-026a609f5e35",
   "metadata": {},
   "source": [
    "# loading model"
   ]
  },
  {
   "cell_type": "code",
   "execution_count": 3,
   "id": "5807adc3-5fab-4f79-b75e-fadeb37ae179",
   "metadata": {},
   "outputs": [
    {
     "name": "stdout",
     "output_type": "stream",
     "text": [
      "0     2024_11_01 180435470848 short-term cboe asians\n",
      "1     2024_11_01 195924619203 live cboe barriers\n",
      "2     2024_11_01 204910611379 bloomberg barriers\n",
      "3     2024_11_01 205356527985 bloomberg asians\n",
      "4     2024_11_02 113141414136 cboe asians\n",
      "5     2024_11_02 113706914873 cboe barriers\n",
      "6     2024_11_03 145046372112 cboe asians\n",
      "7     2024_11_05 184958719691 Oosterlee test\n"
     ]
    }
   ],
   "source": [
    "from model_settings import ms\n",
    "root = Path().resolve().parent.parent\n",
    "models_dir = os.path.join(root,ms.trained_models)\n",
    "models = [f for f in os.listdir(models_dir) if f.find('.')==-1]\n",
    "for i,m in enumerate(models):\n",
    "    print(f\"{i}     {m}\")"
   ]
  },
  {
   "cell_type": "markdown",
   "id": "a42d6d97-cf5b-462e-8012-8cae156d290a",
   "metadata": {},
   "source": [
    "# loading data"
   ]
  },
  {
   "cell_type": "code",
   "execution_count": 5,
   "id": "1ecc1ca4-32fd-4157-8431-0d309488f7ee",
   "metadata": {
    "scrolled": true
   },
   "outputs": [
    {
     "name": "stdout",
     "output_type": "stream",
     "text": [
      "0     2024_11_05 184958719691 Oosterlee test test_data.csv\n",
      "1     2024_11_05 184958719691 Oosterlee test train_data.csv\n",
      "2     2024_11_05 184958719691 Oosterlee test.pkl\n",
      "\n"
     ]
    },
    {
     "ename": "NameError",
     "evalue": "name 'trainer' is not defined",
     "output_type": "error",
     "traceback": [
      "\u001b[1;31m---------------------------------------------------------------------------\u001b[0m",
      "\u001b[1;31mNameError\u001b[0m                                 Traceback (most recent call last)",
      "Cell \u001b[1;32mIn[5], line 30\u001b[0m\n\u001b[0;32m     27\u001b[0m test_dates \u001b[38;5;241m=\u001b[39m pd\u001b[38;5;241m.\u001b[39mSeries(test_data\u001b[38;5;241m.\u001b[39mindex)\u001b[38;5;241m.\u001b[39msort_values(ascending\u001b[38;5;241m=\u001b[39m\u001b[38;5;28;01mTrue\u001b[39;00m)\u001b[38;5;241m.\u001b[39mdrop_duplicates()\u001b[38;5;241m.\u001b[39mreset_index(drop\u001b[38;5;241m=\u001b[39m\u001b[38;5;28;01mTrue\u001b[39;00m)\n\u001b[0;32m     28\u001b[0m model_fit \u001b[38;5;241m=\u001b[39m joblib\u001b[38;5;241m.\u001b[39mload(os\u001b[38;5;241m.\u001b[39mpath\u001b[38;5;241m.\u001b[39mjoin(model_dir,[f \u001b[38;5;28;01mfor\u001b[39;00m f \u001b[38;5;129;01min\u001b[39;00m model_files \u001b[38;5;28;01mif\u001b[39;00m f\u001b[38;5;241m.\u001b[39mendswith(\u001b[38;5;124m'\u001b[39m\u001b[38;5;124m.pkl\u001b[39m\u001b[38;5;124m'\u001b[39m)][\u001b[38;5;241m0\u001b[39m]))\n\u001b[1;32m---> 30\u001b[0m \u001b[38;5;28;01mfor\u001b[39;00m col \u001b[38;5;129;01min\u001b[39;00m \u001b[43mtrainer\u001b[49m\u001b[38;5;241m.\u001b[39mfeature_set:\n\u001b[0;32m     31\u001b[0m     \u001b[38;5;28mprint\u001b[39m(\u001b[38;5;124mf\u001b[39m\u001b[38;5;124m\"\u001b[39m\u001b[38;5;132;01m{\u001b[39;00mcol\u001b[38;5;241m.\u001b[39mreplace(\u001b[38;5;124m\"\u001b[39m\u001b[38;5;124m_\u001b[39m\u001b[38;5;124m\"\u001b[39m,\u001b[38;5;124m\"\u001b[39m\u001b[38;5;124m \u001b[39m\u001b[38;5;124m\"\u001b[39m)\u001b[38;5;132;01m:\u001b[39;00m\u001b[38;5;132;01m}\u001b[39;00m\u001b[38;5;124m\"\u001b[39m,\u001b[38;5;124mf\u001b[39m\u001b[38;5;124m\"\u001b[39m\u001b[38;5;130;01m\\n\u001b[39;00m\u001b[38;5;132;01m{\u001b[39;00mtest_data[col]\u001b[38;5;241m.\u001b[39mcopy()\u001b[38;5;241m.\u001b[39msqueeze()\u001b[38;5;241m.\u001b[39msort_values()\u001b[38;5;241m.\u001b[39mdrop_duplicates()\u001b[38;5;241m.\u001b[39mreset_index(drop\u001b[38;5;241m=\u001b[39m\u001b[38;5;28;01mTrue\u001b[39;00m)\u001b[38;5;132;01m}\u001b[39;00m\u001b[38;5;130;01m\\n\u001b[39;00m\u001b[38;5;124m\"\u001b[39m)\n\u001b[0;32m     32\u001b[0m \u001b[38;5;28mprint\u001b[39m()\n",
      "\u001b[1;31mNameError\u001b[0m: name 'trainer' is not defined"
     ]
    }
   ],
   "source": [
    "\"\"\"\n",
    "select model here\n",
    "\"\"\"\n",
    "model = models[-1]\n",
    "\"\"\"\"\"\"\n",
    "\n",
    "plotcols = ['v0','RMSE', 'MAE','spot_price']\n",
    "\n",
    "from convsklearn import asian_trainer, barrier_trainer\n",
    "\n",
    "model_dir = os.path.join(models_dir,model)\n",
    "model_files = [f for f in os.listdir(model_dir) if f.find('ipynb')==-1 and f.find('.html')==-1]\n",
    "for i,m in enumerate(model_files):\n",
    "    print(f\"{i}     {m}\")\n",
    "print()\n",
    "if any('asian' in file for file in model_files):\n",
    "    trainer = asian_trainer\n",
    "if any('barrier' in file for file in model_files):\n",
    "    trainer = barrier_trainer\n",
    "\n",
    "train_data = pd.read_csv(os.path.join(model_dir,[f for f in model_files if f.find('train')!=-1][0])).iloc[:,1:].copy()\n",
    "test_data = pd.read_csv(os.path.join(model_dir,[f for f in model_files if f. find('test')!=-1][0])).iloc[:,1:].copy()\n",
    "train_data['calculation_date'] = pd.to_datetime(train_data['calculation_date'],format='mixed').dt.normalize()\n",
    "test_data['calculation_date'] = pd.to_datetime(test_data['calculation_date'],format='mixed').dt.normalize()\n",
    "train_data = train_data.set_index('calculation_date')\n",
    "test_data = test_data.set_index('calculation_date')\n",
    "test_dates = pd.Series(test_data.index).sort_values(ascending=True).drop_duplicates().reset_index(drop=True)\n",
    "model_fit = joblib.load(os.path.join(model_dir,[f for f in model_files if f.endswith('.pkl')][0]))\n",
    "\n",
    "for col in trainer.feature_set:\n",
    "    print(f\"{col.replace(\"_\",\" \"):}\",f\"\\n{test_data[col].copy().squeeze().sort_values().drop_duplicates().reset_index(drop=True)}\\n\")\n",
    "print()\n",
    "print(model_fit)\n",
    "\n",
    "plot_errors(plotcols, test_data, train_data)\n",
    "test_data"
   ]
  },
  {
   "cell_type": "code",
   "execution_count": 7,
   "id": "bcec5114-1ca7-4fa2-b1ad-7d83bbffa497",
   "metadata": {},
   "outputs": [
    {
     "data": {
      "text/plain": [
       "Index(['spot_price', 'strike_price', 'barrier', 'days_to_maturity', 'updown',\n",
       "       'outin', 'w', 'barrier_type_name', 'rebate', 'dividend_rate',\n",
       "       'risk_free_rate', 'theta', 'kappa', 'rho', 'eta', 'v0', 'date',\n",
       "       'barrier_price', 'observed_price', 'moneyness', 'relative_moneyness',\n",
       "       'relative_barrier', 'relative_price'],\n",
       "      dtype='object')"
      ]
     },
     "execution_count": 7,
     "metadata": {},
     "output_type": "execute_result"
    }
   ],
   "source": [
    "test_data.columns"
   ]
  },
  {
   "cell_type": "raw",
   "id": "604f2ef8-617d-411c-aec3-353ee34cf852",
   "metadata": {},
   "source": [
    "from sklearn.inspection import partial_dependence,PartialDependenceDisplay\n",
    "\n",
    "part_disp_X = train_data[model_fit.feature_names_in_]\n",
    "fig, ax = plt.subplots(figsize=(12, 6))\n",
    "disp = PartialDependenceDisplay.from_estimator(model_fit, part_disp_X, ['spot_price','v0'], ax=ax)"
   ]
  },
  {
   "cell_type": "markdown",
   "id": "b23cc184-4e78-421c-ac47-01336deb644c",
   "metadata": {},
   "source": [
    "# retraining"
   ]
  },
  {
   "cell_type": "code",
   "execution_count": null,
   "id": "44c25b80-4a4b-4ad1-9264-b044b2ce0ea7",
   "metadata": {},
   "outputs": [],
   "source": [
    "retrained_model = retrain(train_data=train_data,test_data=test_data,retraining_frequency=30)"
   ]
  },
  {
   "cell_type": "code",
   "execution_count": null,
   "id": "e638c436-67f8-40e0-8fa7-dc27c21ae5d6",
   "metadata": {},
   "outputs": [],
   "source": []
  }
 ],
 "metadata": {
  "kernelspec": {
   "display_name": "Python 3 (ipykernel)",
   "language": "python",
   "name": "python3"
  },
  "language_info": {
   "codemirror_mode": {
    "name": "ipython",
    "version": 3
   },
   "file_extension": ".py",
   "mimetype": "text/x-python",
   "name": "python",
   "nbconvert_exporter": "python",
   "pygments_lexer": "ipython3",
   "version": "3.12.7"
  }
 },
 "nbformat": 4,
 "nbformat_minor": 5
}
