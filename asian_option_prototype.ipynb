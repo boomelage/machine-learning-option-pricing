{
 "cells": [
  {
   "cell_type": "code",
   "execution_count": 1,
   "id": "be977e61-96e9-4b52-b560-6b334f3bb543",
   "metadata": {},
   "outputs": [
    {
     "name": "stdout",
     "output_type": "stream",
     "text": [
      "\n",
      "pricing settings:\n",
      "Actual/365 (Fixed) day counter\n",
      "New York stock exchange calendar\n",
      "compounding: continuous\n",
      "frequency: annual\n",
      "\n"
     ]
    }
   ],
   "source": [
    "import QuantLib as ql\n",
    "import numpy as np\n",
    "import pandas as pd\n",
    "from datetime import datetime\n",
    "from model_settings import ms\n",
    "from itertools import product"
   ]
  },
  {
   "cell_type": "code",
   "execution_count": 2,
   "id": "b96b04a5-0eae-45d5-ba7f-0010f7b4576a",
   "metadata": {},
   "outputs": [],
   "source": [
    "calculation_datetime = datetime.today()\n",
    "calculation_date = ql.Date(\n",
    "    calculation_datetime.day,\n",
    "    calculation_datetime.month,\n",
    "    calculation_datetime.year\n",
    ")\n",
    "r = 0.05\n",
    "g = 0.02\n",
    "s = 100.00\n",
    "k = 50\n",
    "w = 'put'\n",
    "t = 360\n",
    "\n",
    "v0 = 0.01 \n",
    "kappa = 0.2\n",
    "theta = 0.02\n",
    "rho = -0.75\n",
    "eta = 0.5\n",
    "\n",
    "n_paths = 100000\n",
    "\n",
    "past_fixings = 0 # Empty because this is a new contract\n",
    "\n",
    "averaging_frequency = 5"
   ]
  },
  {
   "cell_type": "code",
   "execution_count": 3,
   "id": "035c95ba-ef63-42be-91d9-052ba519780c",
   "metadata": {},
   "outputs": [],
   "source": [
    "my_geometric = ms.ql_asian_price(\n",
    "            s,k,t,r,g,calculation_datetime, w,\n",
    "            'geometric',past_fixings,averaging_frequency,\n",
    "            kappa,theta,rho,eta,v0\n",
    "            )\n",
    "\n",
    "my_arithmetic = ms.ql_asian_price(\n",
    "            s,k,t,r,g,calculation_datetime, w,\n",
    "            'arithmetic',past_fixings,averaging_frequency,\n",
    "            kappa,theta,rho,eta,v0\n",
    "            )"
   ]
  },
  {
   "cell_type": "code",
   "execution_count": 4,
   "id": "7f80fc89-e365-420a-8f54-bfc28469db58",
   "metadata": {},
   "outputs": [
    {
     "name": "stdout",
     "output_type": "stream",
     "text": [
      "\n",
      "vanilla: 44.737210108887545\n",
      "\n",
      "geometric: 46.241440446606575\n",
      "\n",
      "arithmetic: 46.125983965125606\n",
      "\n"
     ]
    }
   ],
   "source": [
    "vanilla = ms.ql_heston_price(\n",
    "    s,k,t,r,g,w, \n",
    "    kappa, theta, rho, eta, v0, \n",
    "    calculation_datetime\n",
    ")\n",
    "print(f\"\\nvanilla: {vanilla}\\n\\ngeometric: {my_geometric}\\n\\narithmetic: {my_arithmetic}\\n\")"
   ]
  },
  {
   "cell_type": "code",
   "execution_count": null,
   "id": "e622a9c5-6a71-4f79-8727-3e8821974b97",
   "metadata": {},
   "outputs": [],
   "source": [
    "# K = np.arange(int(s*0.5),int(s)*1.5+1,5).astype(int).tolist()\n",
    "K = np.arange(s*0.5,s*1.5,5).astype(int).tolist()\n",
    "averaging_frequencies = [5,10,15,30,45]\n",
    "T = [90,180,360]\n",
    "past_fixings = [0]\n",
    "\n",
    "features = pd.DataFrame(\n",
    "    product(\n",
    "        [s],K,T,\n",
    "        averaging_frequencies,\n",
    "        ['call','put'],\n",
    "        ['geometric','arithmetic'],\n",
    "        past_fixings,\n",
    "        [theta],\n",
    "        [kappa],\n",
    "        [rho],\n",
    "        [eta],\n",
    "        [v0],\n",
    "        [r],\n",
    "        [g],\n",
    "        [calculation_datetime]\n",
    "    ),\n",
    "    columns = [\n",
    "        'spot_price',\n",
    "        'strike_price',\n",
    "        'days_to_maturity',\n",
    "        'averaging_frequency',\n",
    "        'w',\n",
    "        'averaging_type',\n",
    "        'past_fixings',\n",
    "        'kappa','theta','rho','eta','v0',\n",
    "        'risk_free_rate',\n",
    "        'dividend_rate',\n",
    "        'calculation_date',\n",
    "    ]\n",
    ")\n",
    "\n",
    "features['vanilla_price'] = ms.vector_heston_price(features)\n",
    "features['asian_price'] = ms.vector_asian_price(features)\n",
    "pd.set_option(\"display.float_format\", '{:.2f}'.format)\n",
    "pd.set_option(\"display.max_rows\",None)\n",
    "features"
   ]
  },
  {
   "cell_type": "code",
   "execution_count": null,
   "id": "2e9caefd-6c11-4c7f-82c5-2768784b28ff",
   "metadata": {},
   "outputs": [],
   "source": [
    "pd.reset_option(\"display.max_rows\")"
   ]
  },
  {
   "cell_type": "code",
   "execution_count": null,
   "id": "23c227c8-d700-4472-9b0a-2237e1fe45bf",
   "metadata": {},
   "outputs": [],
   "source": []
  }
 ],
 "metadata": {
  "kernelspec": {
   "display_name": "Python 3 (ipykernel)",
   "language": "python",
   "name": "python3"
  },
  "language_info": {
   "codemirror_mode": {
    "name": "ipython",
    "version": 3
   },
   "file_extension": ".py",
   "mimetype": "text/x-python",
   "name": "python",
   "nbconvert_exporter": "python",
   "pygments_lexer": "ipython3",
   "version": "3.12.7"
  }
 },
 "nbformat": 4,
 "nbformat_minor": 5
}
