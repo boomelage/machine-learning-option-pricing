{
 "cells": [
  {
   "cell_type": "code",
   "execution_count": 1,
   "id": "8a503fd2-c8b2-4bc1-a2d7-720317eb0701",
   "metadata": {},
   "outputs": [
    {
     "data": {
      "text/plain": [
       "strike_price             335.0\n",
       "w                         call\n",
       "market_price              34.6\n",
       "volatility             0.33141\n",
       "days_to_maturity            34\n",
       "calculation_date    2022-10-20\n",
       "spot_price              365.41\n",
       "risk_free_rate            0.04\n",
       "dividend_rate              0.0\n",
       "theta                  0.17771\n",
       "kappa                 0.412367\n",
       "eta                   0.785592\n",
       "rho                  -0.582856\n",
       "v0                     0.08079\n",
       "moneyness             0.090776\n",
       "black_scholes        35.227613\n",
       "heston_price          34.77996\n",
       "error                -0.447652\n",
       "Name: 3420, dtype: object"
      ]
     },
     "execution_count": 1,
     "metadata": {},
     "output_type": "execute_result"
    }
   ],
   "source": [
    "import os\n",
    "from pathlib import Path\n",
    "import pandas as pd\n",
    "import QuantLib as ql\n",
    "file_dir = os.path.join(str(Path().resolve()),'historical_data_collection','historical_av_collection')\n",
    "files = os.listdir(file_dir)\n",
    "filename = [f for f in files if f.endswith('.h5')][0]\n",
    "\n",
    "file = os.path.join(file_dir,filename)\n",
    "with pd.HDFStore(file) as store:\n",
    "    df = store[\"/date_2022_10_20/heston_calibration/calibration_results\"]\n",
    "eg = df.iloc[0]\n",
    "eg"
   ]
  },
  {
   "cell_type": "code",
   "execution_count": 2,
   "id": "47aa1e88-86d7-4246-ab32-8ce30b26f7ae",
   "metadata": {},
   "outputs": [],
   "source": [
    "calculation_date = ql.Date.todaysDate()\n",
    "\n",
    "r = 0.04\n",
    "g = 0.0\n",
    "s = 365.41\n",
    "k = 335.0\n",
    "w = 'call'\n",
    "\n",
    "expiration_date = calculation_date + ql.Period(34,ql.Days)\n",
    "\n",
    "kappa = 0.412367\n",
    "theta = 0.17771\n",
    "rho = -0.582856\n",
    "eta = 0.785592\n",
    "v0 = 0.08079 \n",
    "\n",
    "\n",
    "past_fixings = 0\n",
    "rng = \"pseudorandom\" # could use \"lowdiscrepancy\"\n",
    "numPaths = 100000\n",
    "geometricRunningAccumulator = 1.0\n",
    "fixing_dates = [expiration_date]\n",
    "\n",
    "riskFreeTS = ql.YieldTermStructureHandle(ql.FlatForward(calculation_date, r, ql.Actual365Fixed()))\n",
    "dividendTS = ql.YieldTermStructureHandle(ql.FlatForward(calculation_date, g, ql.Actual365Fixed()))\n",
    "\n",
    "hestonProcess = ql.HestonProcess(riskFreeTS, dividendTS, ql.QuoteHandle(ql.SimpleQuote(s)), v0, kappa, theta, eta, rho)\n",
    "hestonModel = ql.HestonModel(hestonProcess)\n",
    "vanillaPayoff = ql.PlainVanillaPayoff(ql.Option.Call, k)\n",
    "europeanExercise = ql.EuropeanExercise(expiration_date)"
   ]
  },
  {
   "cell_type": "raw",
   "id": "bee4c250-f6f9-4934-8614-5e735eb41923",
   "metadata": {
    "jupyter": {
     "source_hidden": true
    }
   },
   "source": [
    "calculation_date = ql.Date.todaysDate()\n",
    "\n",
    "r = 0.05\n",
    "g = 0.02\n",
    "s = 100.00\n",
    "k = 90\n",
    "w = 'put'\n",
    "\n",
    "expiration_date = calculation_date + ql.Period(\"24M\")\n",
    "\n",
    "kappa = 0.2\n",
    "theta = 0.02\n",
    "rho = -0.75\n",
    "eta = 0.5\n",
    "v0 = 0.01 \n",
    "\n",
    "\n",
    "past_fixings = 0\n",
    "rng = \"pseudorandom\" # could use \"lowdiscrepancy\"\n",
    "numPaths = 100000\n",
    "geometricRunningAccumulator = 1.0\n",
    "fixing_dates = [expiration_date]\n",
    "\n",
    "riskFreeTS = ql.YieldTermStructureHandle(ql.FlatForward(calculation_date, r, ql.Actual365Fixed()))\n",
    "dividendTS = ql.YieldTermStructureHandle(ql.FlatForward(calculation_date, g, ql.Actual365Fixed()))\n",
    "\n",
    "hestonProcess = ql.HestonProcess(riskFreeTS, dividendTS, ql.QuoteHandle(ql.SimpleQuote(s)), v0, kappa, theta, eta, rho)\n",
    "hestonModel = ql.HestonModel(hestonProcess)\n",
    "vanillaPayoff = ql.PlainVanillaPayoff(ql.Option.Put, k)\n",
    "europeanExercise = ql.EuropeanExercise(expiration_date)"
   ]
  },
  {
   "cell_type": "code",
   "execution_count": 3,
   "id": "59e45f32-0234-4d1e-92c3-3f6490508b6a",
   "metadata": {},
   "outputs": [
    {
     "data": {
      "text/plain": [
       "34.779970977560126"
      ]
     },
     "execution_count": 3,
     "metadata": {},
     "output_type": "execute_result"
    }
   ],
   "source": [
    "vanilla_engine = ql.AnalyticHestonEngine(hestonModel)\n",
    "vanilla = ql.VanillaOption(vanillaPayoff, europeanExercise)\n",
    "vanilla.setPricingEngine(vanilla_engine)\n",
    "vanilla.NPV()"
   ]
  },
  {
   "cell_type": "code",
   "execution_count": 4,
   "id": "14f091b5-e63e-47df-be0d-fa9b6eb263fc",
   "metadata": {},
   "outputs": [
    {
     "data": {
      "text/plain": [
       "34.70413563954013"
      ]
     },
     "execution_count": 4,
     "metadata": {},
     "output_type": "execute_result"
    }
   ],
   "source": [
    "asian_engine = ql.MCDiscreteGeometricAPHestonEngine(hestonProcess, rng, requiredSamples=numPaths)\n",
    "\n",
    "geometricAverage = ql.Average().Geometric\n",
    "\n",
    "discreteGeometricAsianOption = ql.DiscreteAveragingAsianOption(\n",
    "\tgeometricAverage, geometricRunningAccumulator, past_fixings, fixing_dates, vanillaPayoff, europeanExercise\n",
    ")\n",
    "discreteGeometricAsianOption.setPricingEngine(asian_engine)\n",
    "discreteGeometricAsianOption.NPV()"
   ]
  },
  {
   "cell_type": "code",
   "execution_count": null,
   "id": "473cff3a-9788-4d7e-8658-08fe2708f3dd",
   "metadata": {},
   "outputs": [],
   "source": []
  },
  {
   "cell_type": "code",
   "execution_count": null,
   "id": "ef6e1196-0755-43f3-8c4b-6bf6b3e635c8",
   "metadata": {},
   "outputs": [],
   "source": []
  },
  {
   "cell_type": "code",
   "execution_count": null,
   "id": "79eefa0f-ee71-46f0-a9c3-28d0f35a274e",
   "metadata": {},
   "outputs": [],
   "source": []
  }
 ],
 "metadata": {
  "kernelspec": {
   "display_name": "Python 3 (ipykernel)",
   "language": "python",
   "name": "python3"
  },
  "language_info": {
   "codemirror_mode": {
    "name": "ipython",
    "version": 3
   },
   "file_extension": ".py",
   "mimetype": "text/x-python",
   "name": "python",
   "nbconvert_exporter": "python",
   "pygments_lexer": "ipython3",
   "version": "3.12.7"
  }
 },
 "nbformat": 4,
 "nbformat_minor": 5
}
