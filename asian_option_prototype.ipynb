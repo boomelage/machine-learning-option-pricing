{
 "cells": [
  {
   "cell_type": "code",
   "execution_count": null,
   "id": "8a503fd2-c8b2-4bc1-a2d7-720317eb0701",
   "metadata": {},
   "outputs": [],
   "source": [
    "import os\n",
    "import time\n",
    "from pathlib import Path\n",
    "import pandas as pd\n",
    "import QuantLib as ql\n",
    "import numpy as np\n",
    "from datetime import datetime\n",
    "from model_settings import ms\n",
    "from itertools import product\n",
    "from joblib import Parallel, delayed"
   ]
  },
  {
   "cell_type": "code",
   "execution_count": null,
   "id": "2da04906-65fe-4784-96d2-ec36fe9bdb4c",
   "metadata": {},
   "outputs": [],
   "source": [
    "from model_settings import asian_option_pricer\n",
    "aop = asian_option_pricer.asian_option_pricer()"
   ]
  },
  {
   "cell_type": "markdown",
   "id": "e15397bd-5f71-4ad0-a757-79db4d78ac9e",
   "metadata": {
    "jp-MarkdownHeadingCollapsed": true
   },
   "source": [
    "# functions in package"
   ]
  },
  {
   "cell_type": "code",
   "execution_count": null,
   "id": "47aa1e88-86d7-4246-ab32-8ce30b26f7ae",
   "metadata": {},
   "outputs": [],
   "source": [
    "def asian_option_price(s,k,r,g,w,averaging_type,n_fixings,fixing_frequency,past_fixings,kappa,theta,rho,eta,v0,calculation_datetime):\n",
    "    s = float(s)\n",
    "    k = float(k)\n",
    "    r = float(r)\n",
    "    g = float(g)\n",
    "    rng = \"pseudorandom\" # could use \"lowdiscrepancy\"\n",
    "    numPaths = 100000\n",
    "    \n",
    "    if w == 'call':\n",
    "        option_type = ql.Option.Call \n",
    "    elif w == 'put':\n",
    "        option_type = ql.Option.Put\n",
    "    t = n_fixings*fixing_frequency\n",
    "    \n",
    "    calculation_date = ql.Date(calculation_datetime.day,calculation_datetime.month,calculation_datetime.year)\n",
    "    \n",
    "    periods = np.arange(fixing_frequency,t+1,fixing_frequency).astype(int)\n",
    "    \n",
    "    fixing_dates = [calculation_date + ql.Period(int(p),ql.Days) for p in periods]\n",
    "    expiration_date = calculation_date + ql.Period(int(t),ql.Days)\n",
    "    \n",
    "    riskFreeTS = ql.YieldTermStructureHandle(ql.FlatForward(calculation_date, float(r), ql.Actual365Fixed()))\n",
    "    dividendTS = ql.YieldTermStructureHandle(ql.FlatForward(calculation_date, float(g), ql.Actual365Fixed()))\n",
    "    \n",
    "    hestonProcess = ql.HestonProcess(riskFreeTS, dividendTS, ql.QuoteHandle(ql.SimpleQuote(s)), v0, kappa, theta, eta, rho)\n",
    "    hestonModel = ql.HestonModel(hestonProcess)\n",
    "    vanillaPayoff = ql.PlainVanillaPayoff(option_type, float(k))\n",
    "    europeanExercise = ql.EuropeanExercise(expiration_date)\n",
    "    \n",
    "    if averaging_type == 'geometric':\n",
    "        geometric_engine = ql.MCDiscreteGeometricAPHestonEngine(hestonProcess, rng, requiredSamples=numPaths,seed=123)\n",
    "        geometricAverage = ql.Average().Geometric\n",
    "        geometricRunningAccumulator = 1.0\n",
    "        discreteGeometricAsianOption = ql.DiscreteAveragingAsianOption(\n",
    "        \tgeometricAverage, geometricRunningAccumulator, past_fixings,\n",
    "            fixing_dates, vanillaPayoff, europeanExercise)\n",
    "        discreteGeometricAsianOption.setPricingEngine(geometric_engine)\n",
    "        geometric_price = float(discreteGeometricAsianOption.NPV())\n",
    "        return geometric_price\n",
    "        \n",
    "    elif averaging_type == 'arithmetic':\n",
    "        arithmetic_engine = ql.MCDiscreteArithmeticAPHestonEngine(hestonProcess, rng, requiredSamples=numPaths)\n",
    "        arithmeticAverage = ql.Average().Arithmetic\n",
    "        arithmeticRunningAccumulator = 0.0\n",
    "        discreteArithmeticAsianOption = ql.DiscreteAveragingAsianOption(\n",
    "            arithmeticAverage, arithmeticRunningAccumulator, past_fixings, \n",
    "            fixing_dates, vanillaPayoff, europeanExercise)\n",
    "        discreteArithmeticAsianOption.setPricingEngine(arithmetic_engine)\n",
    "        arithmetic_price = float(discreteArithmeticAsianOption.NPV())\n",
    "        return arithmetic_price\n",
    "    else:\n",
    "        print(\"invalid Asian option averaging type out of 'arithmetic' and geometric'\")\n",
    "        pass"
   ]
  },
  {
   "cell_type": "code",
   "execution_count": null,
   "id": "1426fe14-e760-4c39-9953-e97293ebd09d",
   "metadata": {},
   "outputs": [],
   "source": [
    "def row_asian_option_price(row):\n",
    "    return  asian_option_price(\n",
    "        row['spot_price'],\n",
    "        row['strike_price'],\n",
    "        row['risk_free_rate'],\n",
    "        row['dividend_rate'],\n",
    "        row['w'],\n",
    "        row['averaging_type'],\n",
    "        row['fixing_frequency'],\n",
    "        row['n_fixings'],\n",
    "        row['past_fixings'],\n",
    "        row['kappa'],\n",
    "        row['theta'],\n",
    "        row['rho'],\n",
    "        row['eta'],\n",
    "        row['v0'],\n",
    "        row['calculation_date']\n",
    "    )"
   ]
  },
  {
   "cell_type": "code",
   "execution_count": null,
   "id": "9f209b1f-46ae-47c4-bdc3-6ffd5a5db880",
   "metadata": {},
   "outputs": [],
   "source": [
    "def df_asian_option_price(df):\n",
    "    prices = Parallel(n_jobs=-1)(delayed(row_asian_option_price)(row) for _, row in df.iterrows())\n",
    "    return prices"
   ]
  },
  {
   "cell_type": "markdown",
   "id": "c60d6138-0a23-4dfe-ad40-f050de1fc1e6",
   "metadata": {},
   "source": [
    "# example usage"
   ]
  },
  {
   "cell_type": "code",
   "execution_count": null,
   "id": "14f091b5-e63e-47df-be0d-fa9b6eb263fc",
   "metadata": {},
   "outputs": [],
   "source": [
    "calculation_datetime = datetime.today()\n",
    "\"\"\"\n",
    "365.41\t548\t 0.04\t0.0\tput\tgeometric\t90\t10\t0\t0.412367\t0.17771\t-0.582856\t0.785592\t0.08079\t2024-10-18 13:38:09.345440\t900\t147.330432\t156.641565\n",
    "\"\"\"\n",
    "r = 0.04\n",
    "g = 0.0\n",
    "\n",
    "w = 'put'\n",
    "\n",
    "past_fixings = 0\n",
    "s,k = 365.41, 548\n",
    "# s = 365.41\n",
    "# k = 370.00\n",
    "kappa = 0.412367\n",
    "theta = 0.17771\n",
    "rho = -0.582856\n",
    "eta = 0.785592\n",
    "v0 = 0.08079\n",
    "n_fixings = 10\n",
    "fixing_frequency = 90\n",
    "\n",
    "averaging_type = 'geometric'\n",
    "\n",
    "t = n_fixings*fixing_frequency\n",
    "\n",
    "\n",
    "price = asian_option_price(s,k,r,g,w,averaging_type,n_fixings,fixing_frequency,past_fixings,kappa,theta,rho,eta,v0,calculation_datetime)\n",
    "package_price = aop.asian_option_price(s,k,r,g,w,averaging_type,n_fixings,fixing_frequency,past_fixings,kappa,theta,rho,eta,v0,calculation_datetime)\n",
    "vanilla = ms.ql_heston_price(s,k,t,r,g,w,kappa,theta,rho,eta,v0,datetime.today())\n",
    "\n",
    "print(f\"asian: {price}  {package_price}\\nvanilla: {vanilla}\")"
   ]
  },
  {
   "cell_type": "code",
   "execution_count": null,
   "id": "ec7b8c3f-15fc-46c7-8875-faea288a958d",
   "metadata": {},
   "outputs": [],
   "source": [
    "fixing_frequencies = [\n",
    "    1,7,\n",
    "    30,\n",
    "    90\n",
    "]\n",
    "n_fixings = [\n",
    "    5,\n",
    "    10\n",
    "]\n",
    "K = np.unique(np.linspace(s*0.5,s*1.5,50).astype(int))\n",
    "\n",
    "W = [\n",
    "    'call',\n",
    "    'put'\n",
    "]\n",
    "types = [\n",
    "    'arithmetic',\n",
    "    'geometric'\n",
    "]\n",
    "past_fixings = [0]\n",
    "features = pd.DataFrame(\n",
    "    product(\n",
    "        [s],\n",
    "        K,\n",
    "        [r],\n",
    "        [g],\n",
    "        W,\n",
    "        types,\n",
    "        fixing_frequencies,\n",
    "        n_fixings,\n",
    "        past_fixings,\n",
    "        [kappa],\n",
    "        [theta],\n",
    "        [rho],\n",
    "        [eta],\n",
    "        [v0],\n",
    "        [calculation_datetime]\n",
    "    ),\n",
    "    columns = [\n",
    "        'spot_price','strike_price','risk_free_rate','dividend_rate','w',\n",
    "        'averaging_type','fixing_frequency','n_fixings','past_fixings',\n",
    "        'kappa','theta','rho','eta','v0','calculation_date'\n",
    "    ]\n",
    ")\n",
    "features['days_to_maturity'] = features['n_fixings']*features['fixing_frequency']"
   ]
  },
  {
   "cell_type": "code",
   "execution_count": null,
   "id": "1020cc55-322e-4a7a-9c4b-60fa0d61f123",
   "metadata": {},
   "outputs": [],
   "source": [
    "# start = time.time()\n",
    "# features['asian_price'] = features.apply(asian_option_pricer.row_asian_option_price,axis=1)\n",
    "# end = time.time()\n",
    "# print(\"pandas apply cpu:\")\n",
    "# print(end-start)\n",
    "# print()\n",
    "\n",
    "start= time.time()\n",
    "features['asian_price'] = aop.df_asian_option_price(features)\n",
    "end = time.time()\n",
    "print(\"parallelized cpu:\")\n",
    "print(end-start)"
   ]
  },
  {
   "cell_type": "code",
   "execution_count": null,
   "id": "9ac312ca-04f8-438b-b7cd-d971e85d2f21",
   "metadata": {},
   "outputs": [],
   "source": [
    "features"
   ]
  }
 ],
 "metadata": {
  "kernelspec": {
   "display_name": "Python 3 (ipykernel)",
   "language": "python",
   "name": "python3"
  },
  "language_info": {
   "codemirror_mode": {
    "name": "ipython",
    "version": 3
   },
   "file_extension": ".py",
   "mimetype": "text/x-python",
   "name": "python",
   "nbconvert_exporter": "python",
   "pygments_lexer": "ipython3",
   "version": "3.12.7"
  }
 },
 "nbformat": 4,
 "nbformat_minor": 5
}
