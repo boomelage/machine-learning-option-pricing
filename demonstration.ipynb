{
 "cells": [
  {
   "cell_type": "code",
   "execution_count": 1,
   "id": "c0249a65-f367-427b-9931-d83520606172",
   "metadata": {},
   "outputs": [
    {
     "name": "stdout",
     "output_type": "stream",
     "text": [
      "\n",
      "initializing vanilla pricer\n",
      "Actual/365 (Fixed) day counter\n",
      "seed: 123\n",
      "\n",
      "barrier option pricer initialized\n"
     ]
    },
    {
     "data": {
      "text/html": [
       "<div>\n",
       "<style scoped>\n",
       "    .dataframe tbody tr th:only-of-type {\n",
       "        vertical-align: middle;\n",
       "    }\n",
       "\n",
       "    .dataframe tbody tr th {\n",
       "        vertical-align: top;\n",
       "    }\n",
       "\n",
       "    .dataframe thead th {\n",
       "        text-align: right;\n",
       "    }\n",
       "</style>\n",
       "<table border=\"1\" class=\"dataframe\">\n",
       "  <thead>\n",
       "    <tr style=\"text-align: right;\">\n",
       "      <th></th>\n",
       "      <th>1. symbol</th>\n",
       "      <th>2. name</th>\n",
       "      <th>3. type</th>\n",
       "      <th>4. region</th>\n",
       "      <th>5. marketOpen</th>\n",
       "      <th>6. marketClose</th>\n",
       "      <th>7. timezone</th>\n",
       "      <th>8. currency</th>\n",
       "      <th>9. matchScore</th>\n",
       "    </tr>\n",
       "  </thead>\n",
       "  <tbody>\n",
       "    <tr>\n",
       "      <th>0</th>\n",
       "      <td>SPY</td>\n",
       "      <td>SPDR S&amp;P 500 ETF Trust</td>\n",
       "      <td>ETF</td>\n",
       "      <td>United States</td>\n",
       "      <td>09:30</td>\n",
       "      <td>16:00</td>\n",
       "      <td>UTC-04</td>\n",
       "      <td>USD</td>\n",
       "      <td>1.0000</td>\n",
       "    </tr>\n",
       "    <tr>\n",
       "      <th>1</th>\n",
       "      <td>SPY1.FRK</td>\n",
       "      <td>SSgA SPDR ETFs Europe I Public Limited Company...</td>\n",
       "      <td>ETF</td>\n",
       "      <td>Frankfurt</td>\n",
       "      <td>08:00</td>\n",
       "      <td>20:00</td>\n",
       "      <td>UTC+02</td>\n",
       "      <td>EUR</td>\n",
       "      <td>0.6667</td>\n",
       "    </tr>\n",
       "    <tr>\n",
       "      <th>2</th>\n",
       "      <td>SPY2.FRK</td>\n",
       "      <td>SSgA SPDR ETFs Europe I Public Limited Company...</td>\n",
       "      <td>ETF</td>\n",
       "      <td>Frankfurt</td>\n",
       "      <td>08:00</td>\n",
       "      <td>20:00</td>\n",
       "      <td>UTC+02</td>\n",
       "      <td>EUR</td>\n",
       "      <td>0.6667</td>\n",
       "    </tr>\n",
       "    <tr>\n",
       "      <th>3</th>\n",
       "      <td>SPY3.LON</td>\n",
       "      <td>Leverage Shares 3x Long US 500 ETP Securities</td>\n",
       "      <td>ETF</td>\n",
       "      <td>United Kingdom</td>\n",
       "      <td>08:00</td>\n",
       "      <td>16:30</td>\n",
       "      <td>UTC+01</td>\n",
       "      <td>USD</td>\n",
       "      <td>0.6667</td>\n",
       "    </tr>\n",
       "    <tr>\n",
       "      <th>4</th>\n",
       "      <td>SPY4.FRK</td>\n",
       "      <td>SSgA SPDR S&amp;P 400 US Mid Cap</td>\n",
       "      <td>ETF</td>\n",
       "      <td>Frankfurt</td>\n",
       "      <td>08:00</td>\n",
       "      <td>20:00</td>\n",
       "      <td>UTC+02</td>\n",
       "      <td>EUR</td>\n",
       "      <td>0.6667</td>\n",
       "    </tr>\n",
       "    <tr>\n",
       "      <th>5</th>\n",
       "      <td>SPY4.LON</td>\n",
       "      <td>SPDR® S&amp;P 400 US Mid Cap UCITS ETF</td>\n",
       "      <td>ETF</td>\n",
       "      <td>United Kingdom</td>\n",
       "      <td>08:00</td>\n",
       "      <td>16:30</td>\n",
       "      <td>UTC+01</td>\n",
       "      <td>USD</td>\n",
       "      <td>0.6667</td>\n",
       "    </tr>\n",
       "    <tr>\n",
       "      <th>6</th>\n",
       "      <td>SPY1.DEX</td>\n",
       "      <td>SPDR® S&amp;P 500 Low Volatility UCITS ETF</td>\n",
       "      <td>ETF</td>\n",
       "      <td>XETRA</td>\n",
       "      <td>08:00</td>\n",
       "      <td>20:00</td>\n",
       "      <td>UTC+02</td>\n",
       "      <td>EUR</td>\n",
       "      <td>0.6000</td>\n",
       "    </tr>\n",
       "    <tr>\n",
       "      <th>7</th>\n",
       "      <td>SPY2.DEX</td>\n",
       "      <td>SPDR® Dow Jones Global Real Estate UCITS ETF U...</td>\n",
       "      <td>ETF</td>\n",
       "      <td>XETRA</td>\n",
       "      <td>08:00</td>\n",
       "      <td>20:00</td>\n",
       "      <td>UTC+02</td>\n",
       "      <td>EUR</td>\n",
       "      <td>0.6000</td>\n",
       "    </tr>\n",
       "    <tr>\n",
       "      <th>8</th>\n",
       "      <td>SPY4.DEX</td>\n",
       "      <td>SSgA SPDR S&amp;P 400 US Mid Cap</td>\n",
       "      <td>ETF</td>\n",
       "      <td>XETRA</td>\n",
       "      <td>08:00</td>\n",
       "      <td>20:00</td>\n",
       "      <td>UTC+02</td>\n",
       "      <td>EUR</td>\n",
       "      <td>0.6000</td>\n",
       "    </tr>\n",
       "    <tr>\n",
       "      <th>9</th>\n",
       "      <td>SPY4.PAR</td>\n",
       "      <td>SSgA SPDR S&amp;P 400 US Mid Cap</td>\n",
       "      <td>ETF</td>\n",
       "      <td>Paris</td>\n",
       "      <td>09:00</td>\n",
       "      <td>17:30</td>\n",
       "      <td>UTC+02</td>\n",
       "      <td>EUR</td>\n",
       "      <td>0.6000</td>\n",
       "    </tr>\n",
       "  </tbody>\n",
       "</table>\n",
       "</div>"
      ],
      "text/plain": [
       "  1. symbol                                            2. name 3. type  \\\n",
       "0       SPY                             SPDR S&P 500 ETF Trust     ETF   \n",
       "1  SPY1.FRK  SSgA SPDR ETFs Europe I Public Limited Company...     ETF   \n",
       "2  SPY2.FRK  SSgA SPDR ETFs Europe I Public Limited Company...     ETF   \n",
       "3  SPY3.LON      Leverage Shares 3x Long US 500 ETP Securities     ETF   \n",
       "4  SPY4.FRK                       SSgA SPDR S&P 400 US Mid Cap     ETF   \n",
       "5  SPY4.LON                 SPDR® S&P 400 US Mid Cap UCITS ETF     ETF   \n",
       "6  SPY1.DEX             SPDR® S&P 500 Low Volatility UCITS ETF     ETF   \n",
       "7  SPY2.DEX  SPDR® Dow Jones Global Real Estate UCITS ETF U...     ETF   \n",
       "8  SPY4.DEX                       SSgA SPDR S&P 400 US Mid Cap     ETF   \n",
       "9  SPY4.PAR                       SSgA SPDR S&P 400 US Mid Cap     ETF   \n",
       "\n",
       "        4. region 5. marketOpen 6. marketClose 7. timezone 8. currency  \\\n",
       "0   United States         09:30          16:00      UTC-04         USD   \n",
       "1       Frankfurt         08:00          20:00      UTC+02         EUR   \n",
       "2       Frankfurt         08:00          20:00      UTC+02         EUR   \n",
       "3  United Kingdom         08:00          16:30      UTC+01         USD   \n",
       "4       Frankfurt         08:00          20:00      UTC+02         EUR   \n",
       "5  United Kingdom         08:00          16:30      UTC+01         USD   \n",
       "6           XETRA         08:00          20:00      UTC+02         EUR   \n",
       "7           XETRA         08:00          20:00      UTC+02         EUR   \n",
       "8           XETRA         08:00          20:00      UTC+02         EUR   \n",
       "9           Paris         09:00          17:30      UTC+02         EUR   \n",
       "\n",
       "  9. matchScore  \n",
       "0        1.0000  \n",
       "1        0.6667  \n",
       "2        0.6667  \n",
       "3        0.6667  \n",
       "4        0.6667  \n",
       "5        0.6667  \n",
       "6        0.6000  \n",
       "7        0.6000  \n",
       "8        0.6000  \n",
       "9        0.6000  "
      ]
     },
     "execution_count": 1,
     "metadata": {},
     "output_type": "execute_result"
    }
   ],
   "source": [
    "import os\n",
    "import sys\n",
    "import time\n",
    "import requests\n",
    "import pandas as pd\n",
    "import numpy as np\n",
    "import QuantLib as ql\n",
    "import matplotlib.pyplot as plt\n",
    "from pathlib import Path\n",
    "from tqdm import tqdm\n",
    "from itertools import product\n",
    "from datetime import datetime\n",
    "from datetime import timedelta\n",
    "\n",
    "import model_settings\n",
    "from model_settings import ms, vanilla_pricer, barrier_option_pricer\n",
    "from plotters import plot_surface\n",
    "from av_fetchers import underlying, link\n",
    "vanp = vanilla_pricer()\n",
    "barp = barrier_option_pricer()\n",
    "\n",
    "search_symbol = 'SPY'\n",
    "url = f\"https://www.alphavantage.co/query?function=SYMBOL_SEARCH&keywords={search_symbol}&apikey={ms.av_key}\"\n",
    "r = requests.get(url)\n",
    "data = r.json()\n",
    "pd.DataFrame(data['bestMatches'])"
   ]
  },
  {
   "cell_type": "code",
   "execution_count": 2,
   "id": "a657551c-0c23-479d-ade8-e8d0547a534b",
   "metadata": {},
   "outputs": [],
   "source": [
    "symbol = search_symbol\n",
    "spots = underlying(symbol,ms.av_key)\n",
    "spots = pd.Series(spots).astype(float)"
   ]
  },
  {
   "cell_type": "markdown",
   "id": "28bb3c23-b34e-46d8-93d7-b610069d78c3",
   "metadata": {},
   "source": [
    "# example data collection"
   ]
  },
  {
   "cell_type": "markdown",
   "id": "8ad10d09-75db-4e8f-b7a5-0a4581d1523c",
   "metadata": {},
   "source": [
    "let us collect a few recent trading days and inspect the data"
   ]
  },
  {
   "cell_type": "code",
   "execution_count": 3,
   "id": "e7222664-a621-49f7-bd1e-cd5176a63039",
   "metadata": {},
   "outputs": [
    {
     "name": "stdout",
     "output_type": "stream",
     "text": [
      "0    2024-10-23\n",
      "1    2024-10-22\n",
      "2    2024-10-21\n",
      "3    2024-10-18\n",
      "4    2024-10-17\n",
      "dtype: object\n"
     ]
    }
   ],
   "source": [
    "dates = pd.Series(spots).index\n",
    "dates = pd.Series(dates[:5])\n",
    "print(dates)"
   ]
  },
  {
   "cell_type": "code",
   "execution_count": 4,
   "id": "0341fa34-7a03-418c-a533-243295436a20",
   "metadata": {},
   "outputs": [
    {
     "data": {
      "text/plain": [
       "2024-10-23    577.9900\n",
       "2024-10-22    583.3200\n",
       "2024-10-21    583.6300\n",
       "2024-10-18    584.5900\n",
       "2024-10-17    582.3500\n",
       "                ...   \n",
       "1999-11-05    137.8750\n",
       "1999-11-04    136.5312\n",
       "1999-11-03    135.5000\n",
       "1999-11-02    134.5937\n",
       "1999-11-01    135.5625\n",
       "Length: 6285, dtype: float64"
      ]
     },
     "execution_count": 4,
     "metadata": {},
     "output_type": "execute_result"
    }
   ],
   "source": [
    "spots"
   ]
  },
  {
   "cell_type": "code",
   "execution_count": 5,
   "id": "e37d59ed-3039-4363-8b6d-713160c31ae4",
   "metadata": {
    "scrolled": true
   },
   "outputs": [
    {
     "name": "stderr",
     "output_type": "stream",
     "text": [
      "100%|████████████████████████████████████████████████████████████████████████████████████| 5/5 [00:06<00:00,  1.39s/it]\n"
     ]
    }
   ],
   "source": [
    "chain = {}\n",
    "bar = tqdm(total=len(dates))\n",
    "for date in dates:\n",
    "    spot = float(spots[date])\n",
    "    chain_link = link(date,symbol,ms.av_key)\n",
    "    printdate = datetime.strptime(date, '%Y-%m-%d').strftime('%A, %Y-%m-%d')\n",
    "    chain[date] = chain_link\n",
    "    bar.update(1)\n",
    "bar.close()"
   ]
  },
  {
   "cell_type": "code",
   "execution_count": 6,
   "id": "f80914eb-394e-4262-a26c-27aa24aa2f8c",
   "metadata": {},
   "outputs": [
    {
     "data": {
      "image/png": "[encoded data removed]",
      "text/plain": [
       "<Figure size 640x480 with 1 Axes>"
      ]
     },
     "metadata": {},
     "output_type": "display_data"
    },
    {
     "data": {
      "text/plain": [
       "<Figure size 640x480 with 0 Axes>"
      ]
     },
     "metadata": {},
     "output_type": "display_data"
    }
   ],
   "source": [
    "demo_spots = spots[dates]\n",
    "demo_spots.index = pd.to_datetime(demo_spots.index, format='%Y-%m-%d')\n",
    "plt.figure()\n",
    "plt.plot(demo_spots,color='black')\n",
    "plt.title(f'{symbol} option data collected')\n",
    "plt.xticks(rotation=45)\n",
    "plt.show()\n",
    "plt.clf()"
   ]
  },
  {
   "cell_type": "markdown",
   "id": "294ac0eb-6e8f-4314-973a-c192a1a8a8cd",
   "metadata": {},
   "source": [
    "# example calibraion"
   ]
  },
  {
   "cell_type": "markdown",
   "id": "dc137805-8699-4457-b4ba-ed5139e40cfd",
   "metadata": {},
   "source": [
    "now why not select the one trading day and proceed with an example calibration of our Heston (1993) model"
   ]
  },
  {
   "cell_type": "code",
   "execution_count": 7,
   "id": "1422ad50-0417-4ccb-b4ba-e7da52b2f932",
   "metadata": {},
   "outputs": [
    {
     "name": "stdout",
     "output_type": "stream",
     "text": [
      "Monday, October 21st, 2024\n"
     ]
    }
   ],
   "source": [
    "date = dates[2]\n",
    "raw_data = pd.DataFrame(chain[date])\n",
    "calculation_datetime = datetime.strptime(date,'%Y-%m-%d')\n",
    "calculation_date = ql.Date(\n",
    "    calculation_datetime.day,\n",
    "    calculation_datetime.month,\n",
    "    calculation_datetime.year,\n",
    ")\n",
    "notebook_printdate = str(calculation_datetime.strftime('%A, '))+str(calculation_date)\n",
    "print(notebook_printdate)"
   ]
  },
  {
   "cell_type": "markdown",
   "id": "e866b009-f368-4662-89ea-a95dca69d215",
   "metadata": {},
   "source": [
    "## extracting calibration contracts"
   ]
  },
  {
   "cell_type": "code",
   "execution_count": 8,
   "id": "678b1db2-3f9a-428d-b55b-f6ca7941def3",
   "metadata": {},
   "outputs": [],
   "source": [
    "df = raw_data.copy()\n",
    "df['volume'] = pd.to_numeric(df['volume'])\n",
    "df['implied_volatility'] = pd.to_numeric(df['implied_volatility'])\n",
    "df['strike'] = pd.to_numeric(df['strike'])\n",
    "df['volume'] = pd.to_numeric(df['volume'])\n",
    "df['expiration'] = pd.to_datetime(df['expiration'],format='%Y-%m-%d')\n",
    "df['date'] = pd.to_datetime(df['date'],format='%Y-%m-%d')\n",
    "df['days_to_maturity'] = df['expiration'] - df['date']\n",
    "df['days_to_maturity'] = df['days_to_maturity'] / np.timedelta64(1, 'D')\n",
    "df['days_to_maturity'] = df['days_to_maturity'].astype('int64')\n",
    "df = df[df['days_to_maturity']>=7]\n",
    "df = df[df['volume']>0].copy()\n",
    "df['spot_price'] = spot\n",
    "df['moneyness'] = ms.vmoneyness(df['spot_price'],df['strike'],df['type'])\n",
    "df = df[(df['moneyness']<0)&(df['moneyness']>-0.5)]\n",
    "pivoted = df.pivot(index = 'strike',columns='days_to_maturity',values='implied_volatility')\n",
    "\n",
    "\n",
    "T = np.sort(df['days_to_maturity'].unique())\n",
    "T = T[T<400]\n",
    "T = T[np.linspace(0, len(T) - 1, num=5, dtype=int)]\n",
    "\n",
    "K = np.sort(df['strike'].unique())\n",
    "K1 = np.sort(pivoted.dropna(how='any',axis=0).index).tolist()\n",
    "K2 = K[np.linspace(0, len(K) - 1, num=5-len(K1), dtype=int)].tolist()\n",
    "K = np.sort(np.unique(np.array(K1+K2)))\n",
    "\n",
    "contracts = pivoted.loc[K,T].unstack().dropna().reset_index().copy()\n",
    "contracts.columns.values[-1] = 'volatility'"
   ]
  },
  {
   "cell_type": "markdown",
   "id": "ecb08af0-6ff4-43b1-ad94-8b7be89693a8",
   "metadata": {},
   "source": [
    "## calibrating a Heston (1993) model"
   ]
  },
  {
   "cell_type": "code",
   "execution_count": 9,
   "id": "f3140868-c6a4-4e37-9467-1ec64336051d",
   "metadata": {},
   "outputs": [
    {
     "name": "stdout",
     "output_type": "stream",
     "text": [
      "kappa    1.534528\n",
      "theta    0.055582\n",
      "rho     -0.999957\n",
      "eta      0.939482\n",
      "v0       0.023684\n",
      "dtype: float64\n"
     ]
    }
   ],
   "source": [
    "s = spots[date]\n",
    "r = 0.04\n",
    "g = 0.0\n",
    "\n",
    "ql.Settings.instance().evaluationDate = calculation_date\n",
    "flat_ts = ql.YieldTermStructureHandle(ql.FlatForward(calculation_date,float(r),ql.Actual365Fixed()))\n",
    "dividend_ts = ql.YieldTermStructureHandle(ql.FlatForward(calculation_date,float(g),ql.Actual365Fixed()))\n",
    "S_handle = ql.QuoteHandle(ql.SimpleQuote(s))\n",
    "\n",
    "heston_helpers = []\n",
    "v0 = 0.01; kappa = 0.2; theta = 0.02; rho = -0.75; eta = 0.5;\n",
    "process = ql.HestonProcess(\n",
    "    flat_ts,\n",
    "    dividend_ts,\n",
    "    S_handle,\n",
    "    v0,                # Initial volatility\n",
    "    kappa,             # Mean reversion speed\n",
    "    theta,             # Long-run variance (volatility squared)\n",
    "    eta,               # Volatility of the volatility\n",
    "    rho                # Correlation between asset and volatility\n",
    ")\n",
    "model = ql.HestonModel(process)\n",
    "engine = ql.AnalyticHestonEngine(model)\n",
    "\n",
    "for i,row in contracts.iterrows():\n",
    "    t = row['days_to_maturity']\n",
    "    k = row['strike']\n",
    "    p = ql.Period(int(t),ql.Days)\n",
    "    volatility = row['volatility']\n",
    "    helper = ql.HestonModelHelper(\n",
    "        p, ql.UnitedStates(ql.UnitedStates.NYSE), float(s), k, \n",
    "        ql.QuoteHandle(ql.SimpleQuote(volatility)), \n",
    "        flat_ts, \n",
    "        dividend_ts\n",
    "        )\n",
    "    helper.setPricingEngine(engine)\n",
    "    heston_helpers.append(helper)\n",
    "\n",
    "lm = ql.LevenbergMarquardt(1e-8, 1e-8, 1e-8)\n",
    "\n",
    "\n",
    "model.calibrate(heston_helpers, lm,\n",
    "                  ql.EndCriteria(500, 50, 1.0e-8,1.0e-8, 1.0e-8))\n",
    "\n",
    "theta, kappa, eta, rho, v0 = model.params()\n",
    "heston_parameters = {'kappa':kappa,'theta':theta,'rho':rho,'eta':eta,'v0':v0}\n",
    "heston_parameters = pd.Series(heston_parameters)\n",
    "print(heston_parameters)\n"
   ]
  },
  {
   "cell_type": "markdown",
   "id": "2c3b25d7-ae6f-448a-b34b-61da5179dac3",
   "metadata": {},
   "source": [
    "# repricing calibration contracts"
   ]
  },
  {
   "cell_type": "code",
   "execution_count": 10,
   "id": "6744fbfa-21b5-46b0-9708-8ec729504440",
   "metadata": {},
   "outputs": [
    {
     "data": {
      "text/html": [
       "<div>\n",
       "<style scoped>\n",
       "    .dataframe tbody tr th:only-of-type {\n",
       "        vertical-align: middle;\n",
       "    }\n",
       "\n",
       "    .dataframe tbody tr th {\n",
       "        vertical-align: top;\n",
       "    }\n",
       "\n",
       "    .dataframe thead th {\n",
       "        text-align: right;\n",
       "    }\n",
       "</style>\n",
       "<table border=\"1\" class=\"dataframe\">\n",
       "  <thead>\n",
       "    <tr style=\"text-align: right;\">\n",
       "      <th></th>\n",
       "      <th>days_to_maturity</th>\n",
       "      <th>strike_price</th>\n",
       "      <th>volatility</th>\n",
       "      <th>kappa</th>\n",
       "      <th>theta</th>\n",
       "      <th>rho</th>\n",
       "      <th>eta</th>\n",
       "      <th>v0</th>\n",
       "      <th>spot_price</th>\n",
       "      <th>risk_free_rate</th>\n",
       "      <th>dividend_rate</th>\n",
       "      <th>w</th>\n",
       "      <th>black_scholes</th>\n",
       "      <th>heston</th>\n",
       "    </tr>\n",
       "  </thead>\n",
       "  <tbody>\n",
       "    <tr>\n",
       "      <th>0</th>\n",
       "      <td>7</td>\n",
       "      <td>540.0</td>\n",
       "      <td>0.24193</td>\n",
       "      <td>1.534528</td>\n",
       "      <td>0.055582</td>\n",
       "      <td>-0.999957</td>\n",
       "      <td>0.939482</td>\n",
       "      <td>0.023684</td>\n",
       "      <td>583.63</td>\n",
       "      <td>0.04</td>\n",
       "      <td>0.0</td>\n",
       "      <td>call</td>\n",
       "      <td>44.104912</td>\n",
       "      <td>44.085086</td>\n",
       "    </tr>\n",
       "    <tr>\n",
       "      <th>1</th>\n",
       "      <td>7</td>\n",
       "      <td>600.0</td>\n",
       "      <td>0.07517</td>\n",
       "      <td>1.534528</td>\n",
       "      <td>0.055582</td>\n",
       "      <td>-0.999957</td>\n",
       "      <td>0.939482</td>\n",
       "      <td>0.023684</td>\n",
       "      <td>583.63</td>\n",
       "      <td>0.04</td>\n",
       "      <td>0.0</td>\n",
       "      <td>put</td>\n",
       "      <td>15.919398</td>\n",
       "      <td>15.916728</td>\n",
       "    </tr>\n",
       "    <tr>\n",
       "      <th>2</th>\n",
       "      <td>14</td>\n",
       "      <td>540.0</td>\n",
       "      <td>0.21785</td>\n",
       "      <td>1.534528</td>\n",
       "      <td>0.055582</td>\n",
       "      <td>-0.999957</td>\n",
       "      <td>0.939482</td>\n",
       "      <td>0.023684</td>\n",
       "      <td>583.63</td>\n",
       "      <td>0.04</td>\n",
       "      <td>0.0</td>\n",
       "      <td>call</td>\n",
       "      <td>44.753372</td>\n",
       "      <td>44.845984</td>\n",
       "    </tr>\n",
       "    <tr>\n",
       "      <th>3</th>\n",
       "      <td>14</td>\n",
       "      <td>600.0</td>\n",
       "      <td>0.09696</td>\n",
       "      <td>1.534528</td>\n",
       "      <td>0.055582</td>\n",
       "      <td>-0.999957</td>\n",
       "      <td>0.939482</td>\n",
       "      <td>0.023684</td>\n",
       "      <td>583.63</td>\n",
       "      <td>0.04</td>\n",
       "      <td>0.0</td>\n",
       "      <td>put</td>\n",
       "      <td>15.884182</td>\n",
       "      <td>15.631357</td>\n",
       "    </tr>\n",
       "    <tr>\n",
       "      <th>4</th>\n",
       "      <td>71</td>\n",
       "      <td>540.0</td>\n",
       "      <td>0.20291</td>\n",
       "      <td>1.534528</td>\n",
       "      <td>0.055582</td>\n",
       "      <td>-0.999957</td>\n",
       "      <td>0.939482</td>\n",
       "      <td>0.023684</td>\n",
       "      <td>583.63</td>\n",
       "      <td>0.04</td>\n",
       "      <td>0.0</td>\n",
       "      <td>call</td>\n",
       "      <td>52.350484</td>\n",
       "      <td>53.024561</td>\n",
       "    </tr>\n",
       "    <tr>\n",
       "      <th>5</th>\n",
       "      <td>71</td>\n",
       "      <td>544.0</td>\n",
       "      <td>0.19772</td>\n",
       "      <td>1.534528</td>\n",
       "      <td>0.055582</td>\n",
       "      <td>-0.999957</td>\n",
       "      <td>0.939482</td>\n",
       "      <td>0.023684</td>\n",
       "      <td>583.63</td>\n",
       "      <td>0.04</td>\n",
       "      <td>0.0</td>\n",
       "      <td>call</td>\n",
       "      <td>48.798927</td>\n",
       "      <td>49.500448</td>\n",
       "    </tr>\n",
       "    <tr>\n",
       "      <th>6</th>\n",
       "      <td>71</td>\n",
       "      <td>600.0</td>\n",
       "      <td>0.12090</td>\n",
       "      <td>1.534528</td>\n",
       "      <td>0.055582</td>\n",
       "      <td>-0.999957</td>\n",
       "      <td>0.939482</td>\n",
       "      <td>0.023684</td>\n",
       "      <td>583.63</td>\n",
       "      <td>0.04</td>\n",
       "      <td>0.0</td>\n",
       "      <td>put</td>\n",
       "      <td>19.259630</td>\n",
       "      <td>17.636636</td>\n",
       "    </tr>\n",
       "    <tr>\n",
       "      <th>7</th>\n",
       "      <td>161</td>\n",
       "      <td>540.0</td>\n",
       "      <td>0.19513</td>\n",
       "      <td>1.534528</td>\n",
       "      <td>0.055582</td>\n",
       "      <td>-0.999957</td>\n",
       "      <td>0.939482</td>\n",
       "      <td>0.023684</td>\n",
       "      <td>583.63</td>\n",
       "      <td>0.04</td>\n",
       "      <td>0.0</td>\n",
       "      <td>call</td>\n",
       "      <td>62.757665</td>\n",
       "      <td>63.454165</td>\n",
       "    </tr>\n",
       "    <tr>\n",
       "      <th>8</th>\n",
       "      <td>161</td>\n",
       "      <td>544.0</td>\n",
       "      <td>0.19147</td>\n",
       "      <td>1.534528</td>\n",
       "      <td>0.055582</td>\n",
       "      <td>-0.999957</td>\n",
       "      <td>0.939482</td>\n",
       "      <td>0.023684</td>\n",
       "      <td>583.63</td>\n",
       "      <td>0.04</td>\n",
       "      <td>0.0</td>\n",
       "      <td>call</td>\n",
       "      <td>59.423356</td>\n",
       "      <td>60.045684</td>\n",
       "    </tr>\n",
       "    <tr>\n",
       "      <th>9</th>\n",
       "      <td>161</td>\n",
       "      <td>600.0</td>\n",
       "      <td>0.12882</td>\n",
       "      <td>1.534528</td>\n",
       "      <td>0.055582</td>\n",
       "      <td>-0.999957</td>\n",
       "      <td>0.939482</td>\n",
       "      <td>0.023684</td>\n",
       "      <td>583.63</td>\n",
       "      <td>0.04</td>\n",
       "      <td>0.0</td>\n",
       "      <td>put</td>\n",
       "      <td>23.089812</td>\n",
       "      <td>21.985245</td>\n",
       "    </tr>\n",
       "    <tr>\n",
       "      <th>10</th>\n",
       "      <td>344</td>\n",
       "      <td>540.0</td>\n",
       "      <td>0.20230</td>\n",
       "      <td>1.534528</td>\n",
       "      <td>0.055582</td>\n",
       "      <td>-0.999957</td>\n",
       "      <td>0.939482</td>\n",
       "      <td>0.023684</td>\n",
       "      <td>583.63</td>\n",
       "      <td>0.04</td>\n",
       "      <td>0.0</td>\n",
       "      <td>call</td>\n",
       "      <td>82.181359</td>\n",
       "      <td>81.243110</td>\n",
       "    </tr>\n",
       "    <tr>\n",
       "      <th>11</th>\n",
       "      <td>344</td>\n",
       "      <td>600.0</td>\n",
       "      <td>0.13584</td>\n",
       "      <td>1.534528</td>\n",
       "      <td>0.055582</td>\n",
       "      <td>-0.999957</td>\n",
       "      <td>0.939482</td>\n",
       "      <td>0.023684</td>\n",
       "      <td>583.63</td>\n",
       "      <td>0.04</td>\n",
       "      <td>0.0</td>\n",
       "      <td>put</td>\n",
       "      <td>27.703673</td>\n",
       "      <td>29.647895</td>\n",
       "    </tr>\n",
       "  </tbody>\n",
       "</table>\n",
       "</div>"
      ],
      "text/plain": [
       "    days_to_maturity  strike_price  volatility     kappa     theta       rho  \\\n",
       "0                  7         540.0     0.24193  1.534528  0.055582 -0.999957   \n",
       "1                  7         600.0     0.07517  1.534528  0.055582 -0.999957   \n",
       "2                 14         540.0     0.21785  1.534528  0.055582 -0.999957   \n",
       "3                 14         600.0     0.09696  1.534528  0.055582 -0.999957   \n",
       "4                 71         540.0     0.20291  1.534528  0.055582 -0.999957   \n",
       "5                 71         544.0     0.19772  1.534528  0.055582 -0.999957   \n",
       "6                 71         600.0     0.12090  1.534528  0.055582 -0.999957   \n",
       "7                161         540.0     0.19513  1.534528  0.055582 -0.999957   \n",
       "8                161         544.0     0.19147  1.534528  0.055582 -0.999957   \n",
       "9                161         600.0     0.12882  1.534528  0.055582 -0.999957   \n",
       "10               344         540.0     0.20230  1.534528  0.055582 -0.999957   \n",
       "11               344         600.0     0.13584  1.534528  0.055582 -0.999957   \n",
       "\n",
       "         eta        v0  spot_price  risk_free_rate  dividend_rate     w  \\\n",
       "0   0.939482  0.023684      583.63            0.04            0.0  call   \n",
       "1   0.939482  0.023684      583.63            0.04            0.0   put   \n",
       "2   0.939482  0.023684      583.63            0.04            0.0  call   \n",
       "3   0.939482  0.023684      583.63            0.04            0.0   put   \n",
       "4   0.939482  0.023684      583.63            0.04            0.0  call   \n",
       "5   0.939482  0.023684      583.63            0.04            0.0  call   \n",
       "6   0.939482  0.023684      583.63            0.04            0.0   put   \n",
       "7   0.939482  0.023684      583.63            0.04            0.0  call   \n",
       "8   0.939482  0.023684      583.63            0.04            0.0  call   \n",
       "9   0.939482  0.023684      583.63            0.04            0.0   put   \n",
       "10  0.939482  0.023684      583.63            0.04            0.0  call   \n",
       "11  0.939482  0.023684      583.63            0.04            0.0   put   \n",
       "\n",
       "    black_scholes     heston  \n",
       "0       44.104912  44.085086  \n",
       "1       15.919398  15.916728  \n",
       "2       44.753372  44.845984  \n",
       "3       15.884182  15.631357  \n",
       "4       52.350484  53.024561  \n",
       "5       48.798927  49.500448  \n",
       "6       19.259630  17.636636  \n",
       "7       62.757665  63.454165  \n",
       "8       59.423356  60.045684  \n",
       "9       23.089812  21.985245  \n",
       "10      82.181359  81.243110  \n",
       "11      27.703673  29.647895  "
      ]
     },
     "execution_count": 10,
     "metadata": {},
     "output_type": "execute_result"
    }
   ],
   "source": [
    "contracts[heston_parameters.index] = np.tile(heston_parameters,(contracts.shape[0],1))\n",
    "contracts = contracts.rename(columns={'strike':'strike_price'})\n",
    "contracts['spot_price'] = s\n",
    "contracts['risk_free_rate'] = r\n",
    "contracts['dividend_rate'] = g\n",
    "contracts['w'] = ['call' if d < 0 else 'put' for d in contracts['strike_price']-contracts['spot_price']]\n",
    "contracts['black_scholes'] = vanp.df_numpy_black_scholes(contracts)\n",
    "contracts['heston'] = vanp.df_heston_price(contracts)\n",
    "contracts"
   ]
  },
  {
   "cell_type": "markdown",
   "id": "25fa0600-e383-4caa-bd34-8d8cb5a3d4aa",
   "metadata": {},
   "source": [
    "# train data generation"
   ]
  },
  {
   "cell_type": "raw",
   "id": "8a26e9b2-789a-4d13-b950-2820ce6856b1",
   "metadata": {},
   "source": [
    "now that we have calibrated our pricing engine, let us proceed with generating \n",
    "all real down barrier option contract combinations for this trading day\n",
    "(i.e., all barriers less than underlying spot price)"
   ]
  },
  {
   "cell_type": "code",
   "execution_count": 11,
   "id": "0dc1be7d-f008-4ab6-afb2-4d235e53df3e",
   "metadata": {},
   "outputs": [
    {
     "name": "stdout",
     "output_type": "stream",
     "text": [
      "\n",
      "SPY spot price:\n",
      "     582.35\n",
      "\n",
      "strikes:\n",
      "     [466, 470, 475, 480, 485, 489, 494, 499, 504, 508, 513, 518, 523, 528, 532, 537, 542, 547, 551, 556, 561, 566, 571, 575, 580, 585, 590, 594, 599, 604, 609, 614, 618, 623, 628, 633, 637, 642, 647, 652, 657, 661, 666, 671, 676, 680, 685, 690, 695, 700]\n",
      "\n",
      "barriers:\n",
      "     [291, 312, 332, 353, 373, 393, 414, 434, 455, 475, 496, 516, 536, 557, 577]\n",
      "\n",
      "maturities:\n",
      "     [30, 60, 90, 180, 360, 540, 720]\n",
      "\n"
     ]
    }
   ],
   "source": [
    "strike_spread = 0.2\n",
    "K = np.linspace(\n",
    "    int(s*(1-strike_spread)),\n",
    "    int(s*(1+strike_spread)),\n",
    "    50\n",
    ").astype(int).tolist()\n",
    "\n",
    "barrier_step = 10\n",
    "down_barriers =  np.linspace(\n",
    "    s*0.5,\n",
    "    s*0.99,\n",
    "    15\n",
    ").astype(int).tolist()\n",
    "\n",
    "T = [\n",
    "    30,60,90,\n",
    "    180,360,540,720\n",
    "]\n",
    "print(f\"\\n{symbol} spot price:\\n     {spot}\\n\\nstrikes:\\n     {K}\\n\\nbarriers:\\n     {down_barriers}\\n\\nmaturities:\\n     {T}\\n\")"
   ]
  },
  {
   "cell_type": "code",
   "execution_count": 12,
   "id": "a681f397-bfd6-40fc-8004-3920f36782ce",
   "metadata": {},
   "outputs": [
    {
     "name": "stdout",
     "output_type": "stream",
     "text": [
      "generating contracts...\n",
      "contracts generated\n",
      "pricing 21000 contracts...\n",
      "cpu: 316.13180708885193\n"
     ]
    }
   ],
   "source": [
    "print('generating contracts...')\n",
    "pricing_start = time.time()\n",
    "features = pd.DataFrame(\n",
    "    product(\n",
    "        [spot],\n",
    "        K,\n",
    "        T,\n",
    "        down_barriers,\n",
    "        [0.0], # rebate\n",
    "        ['put','call'],\n",
    "        [0.04], # risk-free rate\n",
    "        [0.0], # dividend rate\n",
    "        [theta], \n",
    "        [kappa], \n",
    "        [eta], \n",
    "        [rho], \n",
    "        [v0],\n",
    "        ['Out','In']\n",
    "    ),\n",
    "    columns = [\n",
    "        'spot_price',\n",
    "        'strike_price',\n",
    "        'days_to_maturity',\n",
    "        'barrier',\n",
    "        'rebate',\n",
    "        'w',\n",
    "        'risk_free_rate',\n",
    "        'dividend_rate',\n",
    "        'theta', 'kappa', 'eta', 'rho', 'v0',\n",
    "        'outin',\n",
    "    ]\n",
    ")\n",
    "features['moneyness'] = ms.vmoneyness(features['spot_price'],features['strike_price'],features['w'])\n",
    "features['barrier_type_name'] = 'Down' + features['outin']\n",
    "print('contracts generated')\n",
    "print(f'pricing {features.shape[0]} contracts...')\n",
    "features['vanilla_price'] = vanp.df_heston_price(features)\n",
    "features['barrier_price'] = barp.df_barrier_price(features)\n",
    "featuresby_t = features.copy().set_index('days_to_maturity')\n",
    "pricing_end = time.time()\n",
    "pricingtime = pricing_end - pricing_start\n",
    "print(f\"cpu: {pricingtime}\")"
   ]
  },
  {
   "cell_type": "code",
   "execution_count": 13,
   "id": "ace577a8-e4ef-4942-8a7c-d41797012d96",
   "metadata": {
    "scrolled": true
   },
   "outputs": [
    {
     "data": {
      "image/png": "[encoded data removed]",
      "text/plain": [
       "<Figure size 640x480 with 1 Axes>"
      ]
     },
     "metadata": {},
     "output_type": "display_data"
    },
    {
     "data": {
      "text/plain": [
       "<Figure size 640x480 with 0 Axes>"
      ]
     },
     "metadata": {},
     "output_type": "display_data"
    },
    {
     "data": {
      "image/png": "[encoded data removed]",
      "text/plain": [
       "<Figure size 640x480 with 1 Axes>"
      ]
     },
     "metadata": {},
     "output_type": "display_data"
    },
    {
     "data": {
      "text/plain": [
       "<Figure size 640x480 with 0 Axes>"
      ]
     },
     "metadata": {},
     "output_type": "display_data"
    },
    {
     "data": {
      "image/png": "[encoded data removed]",
      "text/plain": [
       "<Figure size 640x480 with 1 Axes>"
      ]
     },
     "metadata": {},
     "output_type": "display_data"
    },
    {
     "data": {
      "text/plain": [
       "<Figure size 640x480 with 0 Axes>"
      ]
     },
     "metadata": {},
     "output_type": "display_data"
    },
    {
     "data": {
      "image/png": "[encoded data removed]",
      "text/plain": [
       "<Figure size 640x480 with 1 Axes>"
      ]
     },
     "metadata": {},
     "output_type": "display_data"
    },
    {
     "data": {
      "text/plain": [
       "<Figure size 640x480 with 0 Axes>"
      ]
     },
     "metadata": {},
     "output_type": "display_data"
    },
    {
     "data": {
      "image/png": "[encoded data removed]",
      "text/plain": [
       "<Figure size 640x480 with 1 Axes>"
      ]
     },
     "metadata": {},
     "output_type": "display_data"
    },
    {
     "data": {
      "text/plain": [
       "<Figure size 640x480 with 0 Axes>"
      ]
     },
     "metadata": {},
     "output_type": "display_data"
    },
    {
     "data": {
      "image/png": "[encoded data removed]",
      "text/plain": [
       "<Figure size 640x480 with 1 Axes>"
      ]
     },
     "metadata": {},
     "output_type": "display_data"
    },
    {
     "data": {
      "text/plain": [
       "<Figure size 640x480 with 0 Axes>"
      ]
     },
     "metadata": {},
     "output_type": "display_data"
    },
    {
     "data": {
      "image/png": "[encoded data removed]",
      "text/plain": [
       "<Figure size 640x480 with 1 Axes>"
      ]
     },
     "metadata": {},
     "output_type": "display_data"
    },
    {
     "data": {
      "text/plain": [
       "<Figure size 640x480 with 0 Axes>"
      ]
     },
     "metadata": {},
     "output_type": "display_data"
    }
   ],
   "source": [
    "for t in T:\n",
    "    plt.figure()\n",
    "    prices= featuresby_t.loc[t,'barrier_price']\n",
    "    plt.hist(prices,bins=int(np.sqrt(prices.shape[0])))\n",
    "    plt.title(f'{t} day maturity')\n",
    "    plt.show()\n",
    "    plt.clf()"
   ]
  },
  {
   "cell_type": "markdown",
   "id": "57a1b88a-f65a-4a2b-8e36-c1e4987f47d0",
   "metadata": {},
   "source": [
    "# model training"
   ]
  },
  {
   "cell_type": "raw",
   "id": "9aa3a5db-db54-4f48-97a2-05021d4c8093",
   "metadata": {},
   "source": [
    "now that we have a dataset, we can for example, test whether our model is able to predict \n",
    "the prices of our two-year barrier options while only having seen the others in training.\n",
    "naturally, the result will not be great with a small dataset."
   ]
  },
  {
   "cell_type": "code",
   "execution_count": 14,
   "id": "0a892570-746e-4ad4-a359-8e9cf950ad09",
   "metadata": {},
   "outputs": [
    {
     "name": "stdout",
     "output_type": "stream",
     "text": [
      "Help on package convsklearn:\n",
      "\n",
      "NAME\n",
      "    convsklearn - a proprietary package of convenience wrappers for sklearn\n",
      "\n",
      "PACKAGE CONTENTS\n",
      "    convsklearn\n",
      "\n",
      "DATA\n",
      "    asian_trainer = <convsklearn.convsklearn.convsklearn object>\n",
      "    barrier_trainer = <convsklearn.convsklearn.convsklearn object>\n",
      "    categorical_features = ['averaging_type', 'w']\n",
      "    numerical_features = ['spot_price', 'strike_price', 'days_to_maturity'...\n",
      "    target_name = 'observed_price'\n",
      "\n",
      "FILE\n",
      "    e:\\python\\lib\\site-packages\\convsklearn\\__init__.py\n",
      "\n",
      "\n"
     ]
    }
   ],
   "source": [
    "import convsklearn\n",
    "help(convsklearn)"
   ]
  },
  {
   "cell_type": "code",
   "execution_count": 15,
   "id": "ccc5e96f-787e-4924-8369-009681ebd309",
   "metadata": {},
   "outputs": [],
   "source": [
    "from convsklearn import barrier_trainer\n",
    "barrier_trainer.solver = 'lbfgs'\n",
    "barrier_trainer.activation_function = 'tanh'"
   ]
  },
  {
   "cell_type": "code",
   "execution_count": 16,
   "id": "d0f43683-f6d4-445c-a195-8f3bc4d94407",
   "metadata": {},
   "outputs": [
    {
     "name": "stdout",
     "output_type": "stream",
     "text": [
      "train data count: 18000\n",
      "test data count: 3000\n",
      "\n",
      "training...\n",
      "\n",
      "Deep Neural Network\n",
      "hidden layers sizes: (13, 13, 13)\n",
      "learning rate: adaptive\n",
      "activation: tanh\n",
      "solver: lbfgs\n",
      "alpha: 0.0001\n",
      "\n",
      "in sample:\n",
      "     RMSE: 0.633027622607737\n",
      "     MAE: 0.40676642779301897\n",
      "\n",
      "out of sample:\n",
      "     RMSE: 2.2279921067872257\n",
      "     MAE: 1.7170647440847189\n",
      "\n",
      "TransformedTargetRegressor(regressor=Pipeline(steps=[('preprocessor',\n",
      "                                                      ColumnTransformer(transformers=[('StandardScaler',\n",
      "                                                                                       StandardScaler(),\n",
      "                                                                                       ['spot_price',\n",
      "                                                                                        'strike_price',\n",
      "                                                                                        'days_to_maturity',\n",
      "                                                                                        'risk_free_rate',\n",
      "                                                                                        'dividend_rate',\n",
      "                                                                                        'kappa',\n",
      "                                                                                        'theta',\n",
      "                                                                                        'rho',\n",
      "                                                                                        'eta',\n",
      "                                                                                        'v0',\n",
      "                                                                                        'barrier']),\n",
      "                                                                                      ('OneHotEncoder',\n",
      "                                                                                       OneHotEncoder(sparse_output=False),\n",
      "                                                                                       ['barrier_type_name',\n",
      "                                                                                        'w'])])),\n",
      "                                                     ('regressor',\n",
      "                                                      MLPRegressor(activation='tanh',\n",
      "                                                                   hidden_layer_sizes=(13,\n",
      "                                                                                       13,\n",
      "                                                                                       13),\n",
      "                                                                   learning_rate='adaptive',\n",
      "                                                                   max_iter=1000,\n",
      "                                                                   solver='lbfgs'))]),\n",
      "                           transformer=Pipeline(steps=[('StandardScaler',\n",
      "                                                        StandardScaler())]))\n"
     ]
    },
    {
     "name": "stderr",
     "output_type": "stream",
     "text": [
      "E:\\Python\\Lib\\site-packages\\sklearn\\neural_network\\_multilayer_perceptron.py:545: ConvergenceWarning: lbfgs failed to converge (status=1):\n",
      "STOP: TOTAL NO. of ITERATIONS REACHED LIMIT.\n",
      "\n",
      "Increase the number of iterations (max_iter) or scale the data as shown in:\n",
      "    https://scikit-learn.org/stable/modules/preprocessing.html\n"
     ]
    }
   ],
   "source": [
    "features['observed_price'] = np.maximum(features['barrier_price'] + np.random.normal(scale=(0.15)**2,size=features.shape[0]),0)\n",
    "    # apply slight peturbation\n",
    "train_data = features[features['days_to_maturity']!=720]\n",
    "test_data = features[features['days_to_maturity']==720]\n",
    "print(f\"train data count: {train_data.shape[0]}\")\n",
    "print(f\"test data count: {test_data.shape[0]}\")\n",
    "arrs = barrier_trainer.get_train_test_arrays(train_data,test_data)\n",
    "train_X = arrs['train_X']\n",
    "train_y = arrs['train_y']\n",
    "test_X = arrs['test_X']\n",
    "test_y = arrs['train_y']\n",
    "preprocessor = barrier_trainer.preprocess()\n",
    "dnn_barriers, runtime, specs = barrier_trainer.run_dnn(preprocessor, train_X, train_y)\n",
    "in_sample, out_of_sample, errors = barrier_trainer.test_prediction_accuracy(dnn_barriers, test_data, train_data)\n",
    "outsample = out_of_sample.rename(\n",
    "    columns = {\n",
    "        'strike_price':'k',\n",
    "        'days_to_maturity':'t',\n",
    "        'barrier_type_name':'type',\n",
    "        'barrier_price':'price',\n",
    "        'vanilla_price':'vanilla',\n",
    "        'spot_price':'spot',\n",
    "        'outofsample_target':'target',\n",
    "        'outofsample_prediction':'dnn',\n",
    "        'outofsample_error':'error',\n",
    "        'barrier':'b'\n",
    "        }\n",
    ")\n",
    "outsample = outsample[[\n",
    "    'spot', 'k', 'b','price', 'vanilla', 'type', 'w','t', \n",
    "    'target', 'dnn', 'error'\n",
    "]]\n",
    "print(f\"\\n{dnn_barriers}\")"
   ]
  },
  {
   "cell_type": "code",
   "execution_count": 17,
   "id": "5995906e-8d17-4c1f-b21d-f43917d3d8b6",
   "metadata": {},
   "outputs": [
    {
     "name": "stdout",
     "output_type": "stream",
     "text": [
      "\n",
      "         spot       k       b   price  vanilla       t  target     dnn   error\n",
      "count 3000.00 3000.00 3000.00 3000.00  3000.00 3000.00 3000.00 3000.00 3000.00\n",
      "mean   582.35  582.52  434.27   31.21    62.43  720.00   31.21   30.61   -0.61\n",
      "std      0.00   68.95   88.25   36.58    41.55    0.00   36.58   35.32    2.14\n",
      "min    582.35  466.00  291.00    0.00    13.61  720.00    0.00    0.00   -8.78\n",
      "25%    582.35  523.00  353.00    1.82    29.40  720.00    1.81    3.10   -1.99\n",
      "50%    582.35  582.50  434.00   20.03    49.87  720.00   20.01   18.98   -0.28\n",
      "75%    582.35  642.00  516.00   44.44    80.03  720.00   44.45   44.10    0.86\n",
      "max    582.35  700.00  577.00  168.54   168.89  720.00  168.52  161.61    5.37\n",
      "\n",
      "SPY down barrier options for Monday, October 21st, 2024\n"
     ]
    },
    {
     "data": {
      "image/png": "[encoded data removed]",
      "text/plain": [
       "<Figure size 640x480 with 1 Axes>"
      ]
     },
     "metadata": {},
     "output_type": "display_data"
    }
   ],
   "source": [
    "pd.set_option(\"display.float_format\", \"{:.2f}\".format)\n",
    "pd.set_option(\"display.max_rows\",None)\n",
    "print(f\"\\n{outsample.describe()}\")\n",
    "outsample_preview = outsample.copy().sort_values(by=['w','type','k','b'],ascending=False).reset_index(drop=True)\n",
    "print(f\"\\n{symbol} down barrier options for {notebook_printdate}\")\n",
    "\n",
    "target = pd.Series(np.sort(outsample_preview['target']))\n",
    "estimate = pd.Series(np.sort(outsample_preview.iloc[:,-2]))\n",
    "np.array(target.index)\n",
    "plt.figure()\n",
    "plt.scatter(estimate.index,estimate,color='purple',s=0.1,label='estimated')\n",
    "plt.scatter(target.index,target,color='green',s=0.1,label='priced')\n",
    "plt.ylabel('price')\n",
    "plt.xlabel('ordinal position')\n",
    "plt.legend()\n",
    "plt.show()"
   ]
  },
  {
   "cell_type": "code",
   "execution_count": 18,
   "id": "87cf1c30-a48f-4d82-ad8a-c98ed3036417",
   "metadata": {},
   "outputs": [],
   "source": [
    "pd.reset_option(\"display.max_rows\")\n",
    "pd.reset_option(\"display.float_format\") "
   ]
  }
 ],
 "metadata": {
  "kernelspec": {
   "display_name": "Python 3 (ipykernel)",
   "language": "python",
   "name": "python3"
  },
  "language_info": {
   "codemirror_mode": {
    "name": "ipython",
    "version": 3
   },
   "file_extension": ".py",
   "mimetype": "text/x-python",
   "name": "python",
   "nbconvert_exporter": "python",
   "pygments_lexer": "ipython3",
   "version": "3.12.7"
  }
 },
 "nbformat": 4,
 "nbformat_minor": 5
}
