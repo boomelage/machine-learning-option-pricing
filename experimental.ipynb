{
 "cells": [
  {
   "cell_type": "code",
   "execution_count": null,
   "id": "85a4f182-8772-4e7a-a048-f0ce4305ce17",
   "metadata": {},
   "outputs": [],
   "source": [
    "import os\n",
    "import sys\n",
    "import time\n",
    "import joblib\n",
    "import numpy as np\n",
    "import pandas as pd\n",
    "import matplotlib.pyplot as plt\n",
    "from tqdm import tqdm\n",
    "from pathlib import Path\n",
    "from datetime import datetime\n",
    "from model_settings import ms\n",
    "from feature_collector import preprocess_data\n",
    "from df_collector import df_collector\n",
    "root = Path().resolve().parent.parent\n",
    "df_collector.root = root"
   ]
  },
  {
   "cell_type": "code",
   "execution_count": null,
   "id": "4b6e312b-a12c-478a-9ef3-918343b3adb0",
   "metadata": {
    "scrolled": true
   },
   "outputs": [],
   "source": [
    "from convsklearn import barrier_trainer, asian_trainer\n",
    "price_name = 'barrier_price' \n",
    "filetag = 'cboe barriers'\n",
    "trainer = barrier_trainer\n",
    "\n",
    "dataset = df_collector.cboe_spx_barriers().iloc[:,1:]\n",
    "dataset = dataset[dataset[price_name]<dataset['spot_price']].dropna().reset_index(drop=True).copy()\n",
    "dates = pd.Series(np.sort(dataset['date'].unique()))"
   ]
  },
  {
   "cell_type": "code",
   "execution_count": null,
   "id": "2664b121-3871-456b-b09d-7bbb65f57b6d",
   "metadata": {},
   "outputs": [],
   "source": [
    "\"\"\"\n",
    "define train test arrays!\n",
    "\"\"\""
   ]
  },
  {
   "cell_type": "code",
   "execution_count": null,
   "id": "99fee5ed-f645-4415-8e7b-9d787297609b",
   "metadata": {},
   "outputs": [],
   "source": [
    "dataset['moneyness'] = ms.df_moneyness(dataset)\n",
    "dataset['m'] = dataset['moneyness']/dataset['spot_price']\n",
    "dataset['b'] = dataset['barrier']/dataset['spot_price']"
   ]
  },
  {
   "cell_type": "code",
   "execution_count": null,
   "id": "ac2105ae-d757-4df2-a039-23a772d08eda",
   "metadata": {},
   "outputs": [],
   "source": [
    "train_dates = dates.iloc[:len(dates)//4]\n",
    "test_dates = dates[~dates.isin(train_dates)]"
   ]
  },
  {
   "cell_type": "code",
   "execution_count": null,
   "id": "4afad1fb-6f8e-43ef-9de1-56beb5b22110",
   "metadata": {},
   "outputs": [],
   "source": [
    "from sklearn.compose import ColumnTransformer\n",
    "from sklearn.preprocessing import OneHotEncoder, FunctionTransformer\n",
    "from sklearn.pipeline import Pipeline, make_pipeline\n",
    "from sklearn.neural_network import MLPRegressor"
   ]
  },
  {
   "cell_type": "code",
   "execution_count": null,
   "id": "710dc7a0-dead-4636-b3b5-37ae7ba7d68e",
   "metadata": {},
   "outputs": [],
   "source": [
    "feature_set = [\n",
    "    'm',\n",
    "    'b',\n",
    "    'days_to_maturity',\n",
    "    'risk_free_rate',\n",
    "    'dividend_rate',\n",
    "    'kappa',\n",
    "    'theta',\n",
    "    'rho',\n",
    "    'eta',\n",
    "    'v0',\n",
    "    'barrier',\n",
    "    'barrier_type_name',\n",
    "    'w'\n",
    "]\n",
    "feature_set"
   ]
  },
  {
   "cell_type": "code",
   "execution_count": null,
   "id": "1eac19c2-6236-4df0-bae5-7c4fa6bdef61",
   "metadata": {},
   "outputs": [],
   "source": [
    "preprocessor = ColumnTransformer(transformers=[\n",
    "    ('categorical',OneHotEncoder(),['w','averaging_type'])\n",
    "],remainder='passthrough',force_int_remainder_cols=False)\n",
    "\n",
    "dnn_pipeline = make_pipeline(preprocessor,MLPRegressor(random_state=1312))\n",
    "dnn = dnn_pipeline.fit(train_X,train_y)"
   ]
  },
  {
   "cell_type": "code",
   "execution_count": null,
   "id": "8d4f566d-3fb1-42d0-8779-82e73c96e4a6",
   "metadata": {},
   "outputs": [],
   "source": [
    "train_data = dataset[dataset['date'].isin(train_dates)]\n",
    "train_X = train_data[feature_set]\n",
    "train_y = train_data['observed_price']"
   ]
  },
  {
   "cell_type": "code",
   "execution_count": null,
   "id": "a0e2d755-376f-4020-be77-b44345d98261",
   "metadata": {},
   "outputs": [],
   "source": [
    "test_data = dataset[dataset['date'].isin(test_dates)]\n",
    "test_X = test_data[feature_set]\n",
    "train_y = test_data['observed_price']\n",
    "np.mean(np.abs(dnn.predict(test_X)-train_y))"
   ]
  },
  {
   "cell_type": "code",
   "execution_count": null,
   "id": "6f8d4770-5393-4f2e-8577-7110fefc9fc3",
   "metadata": {},
   "outputs": [],
   "source": []
  }
 ],
 "metadata": {
  "kernelspec": {
   "display_name": "Python 3 (ipykernel)",
   "language": "python",
   "name": "python3"
  },
  "language_info": {
   "codemirror_mode": {
    "name": "ipython",
    "version": 3
   },
   "file_extension": ".py",
   "mimetype": "text/x-python",
   "name": "python",
   "nbconvert_exporter": "python",
   "pygments_lexer": "ipython3",
   "version": "3.12.7"
  }
 },
 "nbformat": 4,
 "nbformat_minor": 5
}
