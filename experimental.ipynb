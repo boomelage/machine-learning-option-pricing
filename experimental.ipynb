{
 "cells": [
  {
   "cell_type": "code",
   "execution_count": 15,
   "id": "85a4f182-8772-4e7a-a048-f0ce4305ce17",
   "metadata": {
    "scrolled": true
   },
   "outputs": [],
   "source": [
    "from testing_keras import tictoc, dataset, development_dates, \\\n",
    "    test_dates, train_data, test_data, train_X, test_X, train_y, \\\n",
    "        test_y, normalizer, build_and_compile_model, mlp, pricename"
   ]
  },
  {
   "cell_type": "code",
   "execution_count": 16,
   "id": "a2557f38-5157-4d7a-9f84-58fa4a88fa3e",
   "metadata": {},
   "outputs": [],
   "source": [
    "import numpy as np"
   ]
  },
  {
   "cell_type": "code",
   "execution_count": 17,
   "id": "91c91ce3-fab0-4a15-aad4-1006688b8858",
   "metadata": {},
   "outputs": [
    {
     "name": "stdout",
     "output_type": "stream",
     "text": [
      "\u001b[1m737/737\u001b[0m \u001b[32m━━━━━━━━━━━━━━━━━━━━\u001b[0m\u001b[37m\u001b[0m \u001b[1m0s\u001b[0m 522us/step\n",
      "insample:\n",
      "   MAE: 0.004390176476046688\n",
      "   RMSE: 0.005967728099751723\n"
     ]
    }
   ],
   "source": [
    "insample = mlp.predict(train_X).flatten()\n",
    "insample_error = insample-train_y\n",
    "insample_MAE = np.mean(np.abs(insample_error))\n",
    "insample_RMSE = np.sqrt(np.mean(insample_error**2))\n",
    "print(f\"insample:\\n   MAE: {insample_MAE}\\n   RMSE: {insample_RMSE}\")"
   ]
  },
  {
   "cell_type": "code",
   "execution_count": 18,
   "id": "f401f870-8c1e-48a7-9bc4-020b301da7db",
   "metadata": {},
   "outputs": [
    {
     "name": "stdout",
     "output_type": "stream",
     "text": [
      "\u001b[1m9855/9855\u001b[0m \u001b[32m━━━━━━━━━━━━━━━━━━━━\u001b[0m\u001b[37m\u001b[0m \u001b[1m5s\u001b[0m 533us/step\n",
      "insample:\n",
      "   MAE: 0.03220244483348766\n",
      "   RMSE: 0.05995840477514595\n"
     ]
    }
   ],
   "source": [
    "outsample = mlp.predict(test_X).flatten()\n",
    "outsample_error = outsample-test_y\n",
    "outsample_MAE = np.mean(np.abs(outsample_error))\n",
    "outsample_RMSE = np.sqrt(np.mean(outsample_error**2))\n",
    "print(f\"insample:\\n   MAE: {outsample_MAE}\\n   RMSE: {outsample_RMSE}\")"
   ]
  },
  {
   "cell_type": "code",
   "execution_count": 29,
   "id": "4f846dbd-5449-4e15-8195-0589cc4a2be4",
   "metadata": {},
   "outputs": [
    {
     "data": {
      "text/plain": [
       "0       -4.016526e-03\n",
       "1                -inf\n",
       "2       -2.429070e-03\n",
       "3                -inf\n",
       "4       -1.142593e-02\n",
       "             ...     \n",
       "23575    6.186148e-03\n",
       "23576   -9.229122e+04\n",
       "23577    3.343816e-03\n",
       "23578   -4.658611e+03\n",
       "23579   -1.144734e-02\n",
       "Length: 23580, dtype: float64"
      ]
     },
     "execution_count": 29,
     "metadata": {},
     "output_type": "execute_result"
    }
   ],
   "source": [
    "(insample*train_data['strike_price']-train_data[pricename])/train_data[pricename]"
   ]
  },
  {
   "cell_type": "code",
   "execution_count": null,
   "id": "6920b0b5-4d42-45c7-8652-6c43f412cf49",
   "metadata": {},
   "outputs": [],
   "source": []
  }
 ],
 "metadata": {
  "kernelspec": {
   "display_name": "Python 3 (ipykernel)",
   "language": "python",
   "name": "python3"
  },
  "language_info": {
   "codemirror_mode": {
    "name": "ipython",
    "version": 3
   },
   "file_extension": ".py",
   "mimetype": "text/x-python",
   "name": "python",
   "nbconvert_exporter": "python",
   "pygments_lexer": "ipython3",
   "version": "3.12.7"
  }
 },
 "nbformat": 4,
 "nbformat_minor": 5
}
