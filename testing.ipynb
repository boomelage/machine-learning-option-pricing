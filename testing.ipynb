{
 "cells": [
  {
   "cell_type": "code",
   "execution_count": 1,
   "id": "6176769e-ecd5-48c0-8101-aefbbf1c906d",
   "metadata": {},
   "outputs": [],
   "source": [
    "import os\n",
    "import pandas as pd\n",
    "import numpy as np\n",
    "import matplotlib.pyplot as plt\n",
    "import time\n",
    "pd.set_option(\"display.max_rows\",None)\n",
    "pd.set_option(\"display.max_columns\",None)\n",
    "pd.set_option('display.float_format', '{:.6f}'.format)\n",
    "start_time = time.time()"
   ]
  },
  {
   "cell_type": "markdown",
   "id": "0083861f-2c9c-4675-a4bf-c685939b59f6",
   "metadata": {},
   "source": [
    "# Import Model"
   ]
  },
  {
   "cell_type": "code",
   "execution_count": 2,
   "id": "7a80bd33-fd82-4d4f-9e9b-4138f279af96",
   "metadata": {},
   "outputs": [
    {
     "name": "stdout",
     "output_type": "stream",
     "text": [
      "0   outputs\n",
      "1   testing.ipynb\n",
      "2   trained_models\n"
     ]
    }
   ],
   "source": [
    "models_path = os.path.join(os.getcwd(),'trained_models')\n",
    "models = os.listdir(models_path)\n",
    "for i, path in enumerate(models):\n",
    "    print(f\"{i}   {path}\")"
   ]
  },
  {
   "cell_type": "code",
   "execution_count": 3,
   "id": "cbc8c764-60f4-4d9d-a282-59b4a93917bc",
   "metadata": {},
   "outputs": [
    {
     "ename": "IndexError",
     "evalue": "list index out of range",
     "output_type": "error",
     "traceback": [
      "\u001b[1;31m---------------------------------------------------------------------------\u001b[0m",
      "\u001b[1;31mIndexError\u001b[0m                                Traceback (most recent call last)",
      "Cell \u001b[1;32mIn[3], line 1\u001b[0m\n\u001b[1;32m----> 1\u001b[0m model \u001b[38;5;241m=\u001b[39m \u001b[43mmodels\u001b[49m\u001b[43m[\u001b[49m\u001b[38;5;241;43m8\u001b[39;49m\u001b[43m]\u001b[49m\n\u001b[0;32m      2\u001b[0m model\n",
      "\u001b[1;31mIndexError\u001b[0m: list index out of range"
     ]
    }
   ],
   "source": [
    "model = models[8]\n",
    "model"
   ]
  },
  {
   "cell_type": "code",
   "execution_count": null,
   "id": "bdf95fb7-76a0-43bf-9449-13c42c404812",
   "metadata": {},
   "outputs": [],
   "source": [
    "model_path = os.path.join(models_path,model)"
   ]
  },
  {
   "cell_type": "code",
   "execution_count": null,
   "id": "474beaf4-9cdc-47c3-983d-cca07d043e3f",
   "metadata": {},
   "outputs": [],
   "source": [
    "model_files = os.listdir(model_path)\n",
    "model_files"
   ]
  },
  {
   "cell_type": "code",
   "execution_count": null,
   "id": "c244e9dd-f898-43a7-876f-f51df8f80157",
   "metadata": {},
   "outputs": [],
   "source": [
    "spec_path = os.path.join(model_path,[file for file in model_files if file.endswith('.txt')][0])"
   ]
  },
  {
   "cell_type": "code",
   "execution_count": null,
   "id": "65b37048-a838-4c17-a2ff-6d6cdbd54a80",
   "metadata": {},
   "outputs": [],
   "source": [
    "with open(spec_path, \"r\") as specs:\n",
    "    for line in specs:\n",
    "        print(line.strip())"
   ]
  },
  {
   "cell_type": "code",
   "execution_count": null,
   "id": "b6b4798a-2a53-45e5-8090-268876a6a7fc",
   "metadata": {},
   "outputs": [],
   "source": [
    "model_path"
   ]
  },
  {
   "cell_type": "code",
   "execution_count": null,
   "id": "6963be62-331b-41f8-997f-cce11f301fe1",
   "metadata": {},
   "outputs": [],
   "source": [
    "model_files"
   ]
  },
  {
   "cell_type": "code",
   "execution_count": null,
   "id": "5a069e73-4bf3-466e-b434-c22a1c7f46ab",
   "metadata": {},
   "outputs": [],
   "source": [
    "# insample_path = os.path.join(model_path,[file for file in model_files if file.find('insample') != -1][0])\n",
    "# insample = pd.read_csv(insample_path).iloc[:,1:]\n",
    "# insample"
   ]
  },
  {
   "cell_type": "code",
   "execution_count": null,
   "id": "74bcc688-02b2-4d31-8006-34ffe08bd416",
   "metadata": {},
   "outputs": [],
   "source": [
    "outsample_path = os.path.join(model_path,[file for file in model_files if file.find('outsample') != -1][0])\n",
    "outsample = pd.read_csv(outsample_path).iloc[:,1:]\n",
    "outsample"
   ]
  },
  {
   "cell_type": "markdown",
   "id": "fd86083b-98aa-41db-b0eb-de633e316c3d",
   "metadata": {},
   "source": [
    "# Test Model"
   ]
  },
  {
   "cell_type": "code",
   "execution_count": null,
   "id": "f5fd9994-2cb6-47e7-817b-ff7142ece932",
   "metadata": {},
   "outputs": [],
   "source": [
    "maturities = outsample['days_to_maturity'].unique().tolist()\n",
    "barrier_type_names = outsample['barrier_type_name'].unique().tolist()\n",
    "ws = outsample['w'].unique().tolist()\n",
    "print(f\"\\nmaturities:\\n     maturities = {maturities}\")\n",
    "print(f\"\\ntypes:\\n     barrier_type_names = {barrier_type_names}\\n     ws = {ws}\\n\")"
   ]
  },
  {
   "cell_type": "code",
   "execution_count": null,
   "id": "26a98412-cbf1-4bfe-ac10-7bc0278d1894",
   "metadata": {},
   "outputs": [],
   "source": [
    "by_wbt = outsample.copy().set_index(['w','barrier_type_name','days_to_maturity']).sort_index()"
   ]
  },
  {
   "cell_type": "code",
   "execution_count": null,
   "id": "9f0cde77-b6db-4a60-89ce-b3d01b97ba2d",
   "metadata": {},
   "outputs": [],
   "source": [
    "RMSE = pd.DataFrame(\n",
    "    np.zeros((len(maturities),len(barrier_type_names)),dtype=float),\n",
    "    columns = barrier_type_names,\n",
    "    index = maturities\n",
    ")\n",
    "\n",
    "for t in maturities:\n",
    "    for b in barrier_type_names:\n",
    "        RMSE.loc[t,b] = np.sqrt(np.average((by_wbt.loc[(slice(None), b, t),'outofsample_error'])**2))\n",
    "print(f\"\\nRMSE:\\n{RMSE}\")"
   ]
  },
  {
   "cell_type": "code",
   "execution_count": null,
   "id": "ba16d6ea-b7bb-4912-bb95-02beb3909bb3",
   "metadata": {},
   "outputs": [],
   "source": [
    "MAE = pd.DataFrame(\n",
    "    np.zeros((len(maturities),len(barrier_type_names)),dtype=float),\n",
    "    index = maturities,\n",
    "    columns = barrier_type_names\n",
    ")\n",
    "for t in maturities:\n",
    "    for b in barrier_type_names:\n",
    "        MAE.loc[t,b] = np.average(np.abs(by_wbt.loc[(slice(None), b, t),'outofsample_error']))\n",
    "print(f\"\\nMAE:\\n{MAE}\")"
   ]
  },
  {
   "cell_type": "code",
   "execution_count": null,
   "id": "1897e083-211e-4582-8300-e8071d0c12a2",
   "metadata": {},
   "outputs": [],
   "source": [
    "plt.figure()\n",
    "for b in barrier_type_names:\n",
    "    plt.plot(MAE.loc[:, b], label=b)\n",
    "plt.xlabel('maturities in days')\n",
    "plt.ylabel('RMSE')\n",
    "plt.legend()\n",
    "plt.show()\n",
    "plt.close()"
   ]
  },
  {
   "cell_type": "code",
   "execution_count": null,
   "id": "96f3b859-d7a2-4471-bd0d-ae90522f8669",
   "metadata": {},
   "outputs": [],
   "source": [
    "errors_bypayoff = {}\n",
    "for w in ws:\n",
    "    errors = {}\n",
    "    print(\n",
    "        f\"\\n         {'#'*(len(w)+5)}\"\n",
    "        f\"\\n         # {w}s #\"\n",
    "        f\"\\n         {'#'*(len(w)+5)}\"\n",
    "    )\n",
    "    RMSE = pd.DataFrame(\n",
    "        np.zeros((len(maturities),len(barrier_type_names)),dtype=float),\n",
    "        columns = barrier_type_names\n",
    "        )\n",
    "    RMSE[w] = maturities\n",
    "    RMSE = RMSE.set_index(w,drop=True)\n",
    "    for t in maturities:\n",
    "        for b in barrier_type_names:\n",
    "            RMSE.loc[t,b] = np.sqrt(np.average((by_wbt.loc[(w, b, t),'outofsample_error'])**2))\n",
    "    print(f\"RMSE:\\n{RMSE}\")\n",
    "    errors['RMSE'] = RMSE\n",
    "    \n",
    "\n",
    "\n",
    "    MAE = pd.DataFrame(\n",
    "        np.zeros((len(maturities),len(barrier_type_names)),dtype=float),\n",
    "        columns = barrier_type_names\n",
    "    )\n",
    "    MAE[w] = maturities\n",
    "    MAE = MAE.set_index(w,drop=True)\n",
    "    for t in maturities:\n",
    "        for b in barrier_type_names:\n",
    "            MAE.loc[t,b] = np.average(np.abs(by_wbt.loc[(w, b, t),'outofsample_error']))\n",
    "    print(f\"MAE:\\n{MAE}\")\n",
    "    errors['MAE'] = MAE\n",
    "\n",
    "    errors_bypayoff[w] = errors\n",
    "    print(\"\\n\\n\")"
   ]
  },
  {
   "cell_type": "code",
   "execution_count": null,
   "id": "1009d3ad-6ef6-42ee-b124-24b020aa6a3a",
   "metadata": {},
   "outputs": [],
   "source": [
    "barrier_type_names"
   ]
  },
  {
   "cell_type": "code",
   "execution_count": null,
   "id": "fb7871cd-543d-4425-b086-0f7d4146d6ec",
   "metadata": {},
   "outputs": [],
   "source": [
    "ws"
   ]
  },
  {
   "cell_type": "code",
   "execution_count": null,
   "id": "4598549c-c53f-4821-a309-81f39c78dd32",
   "metadata": {},
   "outputs": [],
   "source": [
    "for w, errors in errors_bypayoff.items():\n",
    "    for b in barrier_type_names: \n",
    "        print(errors['MAE'])"
   ]
  },
  {
   "cell_type": "code",
   "execution_count": null,
   "id": "c3f9481c-31c5-43f3-aff0-7b6beb9ff0d8",
   "metadata": {},
   "outputs": [],
   "source": [
    "plt.figure()\n",
    "for w, errors in errors_bypayoff.items():\n",
    "    for b in barrier_type_names: \n",
    "        MAE = errors['MAE'][b]\n",
    "        plt.plot(\n",
    "            MAE.sort_values(), label=f\"{b} {w}s \",\n",
    "        )\n",
    "plt.legend(loc='best')\n",
    "plt.show()\n",
    "plt.close()"
   ]
  },
  {
   "cell_type": "code",
   "execution_count": null,
   "id": "12fdbb75-7e5c-4664-80d1-ca29e5521878",
   "metadata": {},
   "outputs": [],
   "source": [
    "end_time = time.time()\n",
    "runtime = end_time - start_time\n",
    "print(f\"cpu: {runtime}\")"
   ]
  }
 ],
 "metadata": {
  "kernelspec": {
   "display_name": "Python 3 (ipykernel)",
   "language": "python",
   "name": "python3"
  },
  "language_info": {
   "codemirror_mode": {
    "name": "ipython",
    "version": 3
   },
   "file_extension": ".py",
   "mimetype": "text/x-python",
   "name": "python",
   "nbconvert_exporter": "python",
   "pygments_lexer": "ipython3",
   "version": "3.12.7"
  }
 },
 "nbformat": 4,
 "nbformat_minor": 5
}
