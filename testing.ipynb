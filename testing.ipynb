{
 "cells": [
  {
   "cell_type": "code",
   "execution_count": 19,
   "id": "6176769e-ecd5-48c0-8101-aefbbf1c906d",
   "metadata": {},
   "outputs": [],
   "source": [
    "import os\n",
    "import modin.pandas as pd\n",
    "import numpy as np\n",
    "import matplotlib.pyplot as plt\n",
    "import time\n",
    "from pathlib import Path\n",
    "import warnings\n",
    "warnings.filterwarnings(\"ignore\", message=\".*defaulting to pandas implementation.*\")\n",
    "pd.set_option('display.float_format', '{:.6f}'.format)\n",
    "start_time = time.time()"
   ]
  },
  {
   "cell_type": "markdown",
   "id": "0083861f-2c9c-4675-a4bf-c685939b59f6",
   "metadata": {},
   "source": [
    "# Import Model"
   ]
  },
  {
   "cell_type": "code",
   "execution_count": 20,
   "id": "6fb60afc-ba16-4768-933e-f5b353dda074",
   "metadata": {},
   "outputs": [
    {
     "data": {
      "text/plain": [
       "'E:\\\\git\\\\machine-learning-option-pricing'"
      ]
     },
     "execution_count": 20,
     "metadata": {},
     "output_type": "execute_result"
    }
   ],
   "source": [
    "jupyter_dir = os.path.abspath(str(Path()))\n",
    "jupyter_dir"
   ]
  },
  {
   "cell_type": "code",
   "execution_count": 21,
   "id": "7a80bd33-fd82-4d4f-9e9b-4138f279af96",
   "metadata": {},
   "outputs": [
    {
     "name": "stdout",
     "output_type": "stream",
     "text": [
      "0   2024_10_09 23-01-12 Deep Neural Network otm\n",
      "1   2024_10_09 23-11-23 Deep Neural Network\n"
     ]
    }
   ],
   "source": [
    "models_path = os.path.join(jupyter_dir,'trained_models','trained_models')\n",
    "models = os.listdir(models_path)\n",
    "for i, path in enumerate(models):\n",
    "    print(f\"{i}   {path}\")"
   ]
  },
  {
   "cell_type": "code",
   "execution_count": 4,
   "id": "cbc8c764-60f4-4d9d-a282-59b4a93917bc",
   "metadata": {},
   "outputs": [
    {
     "data": {
      "text/plain": [
       "'2024_10_09 23-01-12 Deep Neural Network otm'"
      ]
     },
     "execution_count": 4,
     "metadata": {},
     "output_type": "execute_result"
    }
   ],
   "source": [
    "model = models[0]\n",
    "model"
   ]
  },
  {
   "cell_type": "code",
   "execution_count": 5,
   "id": "bdf95fb7-76a0-43bf-9449-13c42c404812",
   "metadata": {},
   "outputs": [],
   "source": [
    "model_path = os.path.join(models_path,model)"
   ]
  },
  {
   "cell_type": "code",
   "execution_count": 6,
   "id": "474beaf4-9cdc-47c3-983d-cca07d043e3f",
   "metadata": {},
   "outputs": [
    {
     "data": {
      "text/plain": [
       "['2024_10_09 23-01-12 Deep Neural Network otm insample.csv',\n",
       " '2024_10_09 23-01-12 Deep Neural Network otm outsample.csv',\n",
       " '2024_10_09 23-01-12 Deep Neural Network otm.pkl',\n",
       " '2024_10_09 23-01-12 Deep Neural Network otm.txt']"
      ]
     },
     "execution_count": 6,
     "metadata": {},
     "output_type": "execute_result"
    }
   ],
   "source": [
    "model_files = os.listdir(model_path)\n",
    "model_files"
   ]
  },
  {
   "cell_type": "code",
   "execution_count": 7,
   "id": "c244e9dd-f898-43a7-876f-f51df8f80157",
   "metadata": {},
   "outputs": [],
   "source": [
    "spec_path = os.path.join(model_path,[file for file in model_files if file.endswith('.txt')][0])"
   ]
  },
  {
   "cell_type": "raw",
   "id": "2f34cf1e-d500-458d-b163-d22ffc4dc79d",
   "metadata": {},
   "source": [
    "with open(spec_path, \"r\") as specs:\n",
    "    for line in specs:\n",
    "        print(line.strip())"
   ]
  },
  {
   "cell_type": "code",
   "execution_count": 8,
   "id": "6963be62-331b-41f8-997f-cce11f301fe1",
   "metadata": {},
   "outputs": [
    {
     "data": {
      "text/plain": [
       "['2024_10_09 23-01-12 Deep Neural Network otm insample.csv',\n",
       " '2024_10_09 23-01-12 Deep Neural Network otm outsample.csv',\n",
       " '2024_10_09 23-01-12 Deep Neural Network otm.pkl',\n",
       " '2024_10_09 23-01-12 Deep Neural Network otm.txt']"
      ]
     },
     "execution_count": 8,
     "metadata": {},
     "output_type": "execute_result"
    }
   ],
   "source": [
    "model_files"
   ]
  },
  {
   "cell_type": "code",
   "execution_count": 9,
   "id": "74bcc688-02b2-4d31-8006-34ffe08bd416",
   "metadata": {},
   "outputs": [
    {
     "name": "stderr",
     "output_type": "stream",
     "text": [
      "2024-10-10 11:01:34,919\tINFO worker.py:1786 -- Started a local Ray instance.\n"
     ]
    },
    {
     "data": {
      "text/html": [
       "<div>\n",
       "<style scoped>\n",
       "    .dataframe tbody tr th:only-of-type {\n",
       "        vertical-align: middle;\n",
       "    }\n",
       "\n",
       "    .dataframe tbody tr th {\n",
       "        vertical-align: top;\n",
       "    }\n",
       "\n",
       "    .dataframe thead th {\n",
       "        text-align: right;\n",
       "    }\n",
       "</style>\n",
       "<table border=\"1\" class=\"dataframe\">\n",
       "  <thead>\n",
       "    <tr style=\"text-align: right;\">\n",
       "      <th></th>\n",
       "      <th>spot_price</th>\n",
       "      <th>strike_price</th>\n",
       "      <th>barrier</th>\n",
       "      <th>days_to_maturity</th>\n",
       "      <th>barrier_price</th>\n",
       "      <th>updown</th>\n",
       "      <th>outin</th>\n",
       "      <th>w</th>\n",
       "      <th>barrier_type_name</th>\n",
       "      <th>rebate</th>\n",
       "      <th>...</th>\n",
       "      <th>rho</th>\n",
       "      <th>eta</th>\n",
       "      <th>v0</th>\n",
       "      <th>calculation_date</th>\n",
       "      <th>expiration_date</th>\n",
       "      <th>observed_price</th>\n",
       "      <th>moneyness</th>\n",
       "      <th>outofsample_target</th>\n",
       "      <th>outofsample_prediction</th>\n",
       "      <th>outofsample_error</th>\n",
       "    </tr>\n",
       "  </thead>\n",
       "  <tbody>\n",
       "    <tr>\n",
       "      <th>0</th>\n",
       "      <td>1245.640000</td>\n",
       "      <td>1121.076000</td>\n",
       "      <td>622.820000</td>\n",
       "      <td>60</td>\n",
       "      <td>8.190283</td>\n",
       "      <td>Down</td>\n",
       "      <td>Out</td>\n",
       "      <td>put</td>\n",
       "      <td>DownOut</td>\n",
       "      <td>0.000000</td>\n",
       "      <td>...</td>\n",
       "      <td>-1.000000</td>\n",
       "      <td>0.158599</td>\n",
       "      <td>0.052568</td>\n",
       "      <td>2008-07-16</td>\n",
       "      <td>2008-09-14</td>\n",
       "      <td>8.309160</td>\n",
       "      <td>-0.946480</td>\n",
       "      <td>8.309160</td>\n",
       "      <td>11.206677</td>\n",
       "      <td>2.897517</td>\n",
       "    </tr>\n",
       "    <tr>\n",
       "      <th>1</th>\n",
       "      <td>1245.640000</td>\n",
       "      <td>1121.076000</td>\n",
       "      <td>622.820000</td>\n",
       "      <td>90</td>\n",
       "      <td>14.195102</td>\n",
       "      <td>Down</td>\n",
       "      <td>Out</td>\n",
       "      <td>put</td>\n",
       "      <td>DownOut</td>\n",
       "      <td>0.000000</td>\n",
       "      <td>...</td>\n",
       "      <td>-1.000000</td>\n",
       "      <td>0.158599</td>\n",
       "      <td>0.052568</td>\n",
       "      <td>2008-07-16</td>\n",
       "      <td>2008-10-14</td>\n",
       "      <td>13.822757</td>\n",
       "      <td>-0.919720</td>\n",
       "      <td>13.822757</td>\n",
       "      <td>15.700405</td>\n",
       "      <td>1.877648</td>\n",
       "    </tr>\n",
       "    <tr>\n",
       "      <th>2</th>\n",
       "      <td>1245.640000</td>\n",
       "      <td>1121.076000</td>\n",
       "      <td>622.820000</td>\n",
       "      <td>180</td>\n",
       "      <td>29.283856</td>\n",
       "      <td>Down</td>\n",
       "      <td>Out</td>\n",
       "      <td>put</td>\n",
       "      <td>DownOut</td>\n",
       "      <td>0.000000</td>\n",
       "      <td>...</td>\n",
       "      <td>-1.000000</td>\n",
       "      <td>0.158599</td>\n",
       "      <td>0.052568</td>\n",
       "      <td>2008-07-16</td>\n",
       "      <td>2009-01-12</td>\n",
       "      <td>29.240565</td>\n",
       "      <td>-0.839440</td>\n",
       "      <td>29.240565</td>\n",
       "      <td>27.892928</td>\n",
       "      <td>-1.347637</td>\n",
       "    </tr>\n",
       "    <tr>\n",
       "      <th>3</th>\n",
       "      <td>1245.640000</td>\n",
       "      <td>1121.076000</td>\n",
       "      <td>622.820000</td>\n",
       "      <td>180</td>\n",
       "      <td>0.572265</td>\n",
       "      <td>Down</td>\n",
       "      <td>In</td>\n",
       "      <td>put</td>\n",
       "      <td>DownIn</td>\n",
       "      <td>0.000000</td>\n",
       "      <td>...</td>\n",
       "      <td>-1.000000</td>\n",
       "      <td>0.158599</td>\n",
       "      <td>0.052568</td>\n",
       "      <td>2008-07-16</td>\n",
       "      <td>2009-01-12</td>\n",
       "      <td>0.700422</td>\n",
       "      <td>-0.839440</td>\n",
       "      <td>0.700422</td>\n",
       "      <td>1.272468</td>\n",
       "      <td>0.572046</td>\n",
       "    </tr>\n",
       "    <tr>\n",
       "      <th>4</th>\n",
       "      <td>1245.640000</td>\n",
       "      <td>1121.076000</td>\n",
       "      <td>622.820000</td>\n",
       "      <td>360</td>\n",
       "      <td>44.405170</td>\n",
       "      <td>Down</td>\n",
       "      <td>Out</td>\n",
       "      <td>put</td>\n",
       "      <td>DownOut</td>\n",
       "      <td>0.000000</td>\n",
       "      <td>...</td>\n",
       "      <td>-1.000000</td>\n",
       "      <td>0.158599</td>\n",
       "      <td>0.052568</td>\n",
       "      <td>2008-07-16</td>\n",
       "      <td>2009-07-11</td>\n",
       "      <td>44.650877</td>\n",
       "      <td>-0.678880</td>\n",
       "      <td>44.650877</td>\n",
       "      <td>39.640275</td>\n",
       "      <td>-5.010602</td>\n",
       "    </tr>\n",
       "    <tr>\n",
       "      <th>...</th>\n",
       "      <td>...</td>\n",
       "      <td>...</td>\n",
       "      <td>...</td>\n",
       "      <td>...</td>\n",
       "      <td>...</td>\n",
       "      <td>...</td>\n",
       "      <td>...</td>\n",
       "      <td>...</td>\n",
       "      <td>...</td>\n",
       "      <td>...</td>\n",
       "      <td>...</td>\n",
       "      <td>...</td>\n",
       "      <td>...</td>\n",
       "      <td>...</td>\n",
       "      <td>...</td>\n",
       "      <td>...</td>\n",
       "      <td>...</td>\n",
       "      <td>...</td>\n",
       "      <td>...</td>\n",
       "      <td>...</td>\n",
       "      <td>...</td>\n",
       "    </tr>\n",
       "    <tr>\n",
       "      <th>495523</th>\n",
       "      <td>895.240000</td>\n",
       "      <td>984.764000</td>\n",
       "      <td>1342.860000</td>\n",
       "      <td>360</td>\n",
       "      <td>5.643575</td>\n",
       "      <td>Up</td>\n",
       "      <td>In</td>\n",
       "      <td>put</td>\n",
       "      <td>UpIn</td>\n",
       "      <td>0.000000</td>\n",
       "      <td>...</td>\n",
       "      <td>-1.000000</td>\n",
       "      <td>0.262020</td>\n",
       "      <td>0.270330</td>\n",
       "      <td>2008-11-28</td>\n",
       "      <td>2009-11-23</td>\n",
       "      <td>5.544777</td>\n",
       "      <td>-0.634430</td>\n",
       "      <td>5.544777</td>\n",
       "      <td>11.039417</td>\n",
       "      <td>5.494640</td>\n",
       "    </tr>\n",
       "    <tr>\n",
       "      <th>495524</th>\n",
       "      <td>895.240000</td>\n",
       "      <td>984.764000</td>\n",
       "      <td>1342.860000</td>\n",
       "      <td>540</td>\n",
       "      <td>201.948472</td>\n",
       "      <td>Up</td>\n",
       "      <td>Out</td>\n",
       "      <td>put</td>\n",
       "      <td>UpOut</td>\n",
       "      <td>0.000000</td>\n",
       "      <td>...</td>\n",
       "      <td>-1.000000</td>\n",
       "      <td>0.262020</td>\n",
       "      <td>0.270330</td>\n",
       "      <td>2008-11-28</td>\n",
       "      <td>2010-05-22</td>\n",
       "      <td>201.864643</td>\n",
       "      <td>-0.451645</td>\n",
       "      <td>201.864643</td>\n",
       "      <td>189.007118</td>\n",
       "      <td>-12.857525</td>\n",
       "    </tr>\n",
       "    <tr>\n",
       "      <th>495525</th>\n",
       "      <td>895.240000</td>\n",
       "      <td>984.764000</td>\n",
       "      <td>1342.860000</td>\n",
       "      <td>540</td>\n",
       "      <td>12.874610</td>\n",
       "      <td>Up</td>\n",
       "      <td>In</td>\n",
       "      <td>put</td>\n",
       "      <td>UpIn</td>\n",
       "      <td>0.000000</td>\n",
       "      <td>...</td>\n",
       "      <td>-1.000000</td>\n",
       "      <td>0.262020</td>\n",
       "      <td>0.270330</td>\n",
       "      <td>2008-11-28</td>\n",
       "      <td>2010-05-22</td>\n",
       "      <td>12.666831</td>\n",
       "      <td>-0.451645</td>\n",
       "      <td>12.666831</td>\n",
       "      <td>25.250266</td>\n",
       "      <td>12.583435</td>\n",
       "    </tr>\n",
       "    <tr>\n",
       "      <th>495526</th>\n",
       "      <td>895.240000</td>\n",
       "      <td>984.764000</td>\n",
       "      <td>1342.860000</td>\n",
       "      <td>720</td>\n",
       "      <td>209.208646</td>\n",
       "      <td>Up</td>\n",
       "      <td>Out</td>\n",
       "      <td>put</td>\n",
       "      <td>UpOut</td>\n",
       "      <td>0.000000</td>\n",
       "      <td>...</td>\n",
       "      <td>-1.000000</td>\n",
       "      <td>0.262020</td>\n",
       "      <td>0.270330</td>\n",
       "      <td>2008-11-28</td>\n",
       "      <td>2010-11-18</td>\n",
       "      <td>209.110612</td>\n",
       "      <td>-0.268860</td>\n",
       "      <td>209.110612</td>\n",
       "      <td>204.764752</td>\n",
       "      <td>-4.345860</td>\n",
       "    </tr>\n",
       "    <tr>\n",
       "      <th>495527</th>\n",
       "      <td>895.240000</td>\n",
       "      <td>984.764000</td>\n",
       "      <td>1342.860000</td>\n",
       "      <td>720</td>\n",
       "      <td>20.983381</td>\n",
       "      <td>Up</td>\n",
       "      <td>In</td>\n",
       "      <td>put</td>\n",
       "      <td>UpIn</td>\n",
       "      <td>0.000000</td>\n",
       "      <td>...</td>\n",
       "      <td>-1.000000</td>\n",
       "      <td>0.262020</td>\n",
       "      <td>0.270330</td>\n",
       "      <td>2008-11-28</td>\n",
       "      <td>2010-11-18</td>\n",
       "      <td>20.960465</td>\n",
       "      <td>-0.268860</td>\n",
       "      <td>20.960465</td>\n",
       "      <td>35.890391</td>\n",
       "      <td>14.929925</td>\n",
       "    </tr>\n",
       "  </tbody>\n",
       "</table>\n",
       "<p>495528 rows x 24 columns</p>\n",
       "</div>"
      ],
      "text/plain": [
       "        spot_price  strike_price     barrier  days_to_maturity  barrier_price  \\\n",
       "0      1245.640000   1121.076000  622.820000                60       8.190283   \n",
       "1      1245.640000   1121.076000  622.820000                90      14.195102   \n",
       "2      1245.640000   1121.076000  622.820000               180      29.283856   \n",
       "3      1245.640000   1121.076000  622.820000               180       0.572265   \n",
       "4      1245.640000   1121.076000  622.820000               360      44.405170   \n",
       "...            ...           ...         ...               ...            ...   \n",
       "495523  895.240000    984.764000 1342.860000               360       5.643575   \n",
       "495524  895.240000    984.764000 1342.860000               540     201.948472   \n",
       "495525  895.240000    984.764000 1342.860000               540      12.874610   \n",
       "495526  895.240000    984.764000 1342.860000               720     209.208646   \n",
       "495527  895.240000    984.764000 1342.860000               720      20.983381   \n",
       "\n",
       "       updown outin    w barrier_type_name   rebate  ...       rho      eta  \\\n",
       "0        Down   Out  put           DownOut 0.000000  ... -1.000000 0.158599   \n",
       "1        Down   Out  put           DownOut 0.000000  ... -1.000000 0.158599   \n",
       "2        Down   Out  put           DownOut 0.000000  ... -1.000000 0.158599   \n",
       "3        Down    In  put            DownIn 0.000000  ... -1.000000 0.158599   \n",
       "4        Down   Out  put           DownOut 0.000000  ... -1.000000 0.158599   \n",
       "...       ...   ...  ...               ...      ...  ...       ...      ...   \n",
       "495523     Up    In  put              UpIn 0.000000  ... -1.000000 0.262020   \n",
       "495524     Up   Out  put             UpOut 0.000000  ... -1.000000 0.262020   \n",
       "495525     Up    In  put              UpIn 0.000000  ... -1.000000 0.262020   \n",
       "495526     Up   Out  put             UpOut 0.000000  ... -1.000000 0.262020   \n",
       "495527     Up    In  put              UpIn 0.000000  ... -1.000000 0.262020   \n",
       "\n",
       "             v0  calculation_date expiration_date observed_price  moneyness  \\\n",
       "0      0.052568        2008-07-16      2008-09-14       8.309160  -0.946480   \n",
       "1      0.052568        2008-07-16      2008-10-14      13.822757  -0.919720   \n",
       "2      0.052568        2008-07-16      2009-01-12      29.240565  -0.839440   \n",
       "3      0.052568        2008-07-16      2009-01-12       0.700422  -0.839440   \n",
       "4      0.052568        2008-07-16      2009-07-11      44.650877  -0.678880   \n",
       "...         ...               ...             ...            ...        ...   \n",
       "495523 0.270330        2008-11-28      2009-11-23       5.544777  -0.634430   \n",
       "495524 0.270330        2008-11-28      2010-05-22     201.864643  -0.451645   \n",
       "495525 0.270330        2008-11-28      2010-05-22      12.666831  -0.451645   \n",
       "495526 0.270330        2008-11-28      2010-11-18     209.110612  -0.268860   \n",
       "495527 0.270330        2008-11-28      2010-11-18      20.960465  -0.268860   \n",
       "\n",
       "        outofsample_target  outofsample_prediction  outofsample_error  \n",
       "0                 8.309160               11.206677           2.897517  \n",
       "1                13.822757               15.700405           1.877648  \n",
       "2                29.240565               27.892928          -1.347637  \n",
       "3                 0.700422                1.272468           0.572046  \n",
       "4                44.650877               39.640275          -5.010602  \n",
       "...                    ...                     ...                ...  \n",
       "495523            5.544777               11.039417           5.494640  \n",
       "495524          201.864643              189.007118         -12.857525  \n",
       "495525           12.666831               25.250266          12.583435  \n",
       "495526          209.110612              204.764752          -4.345860  \n",
       "495527           20.960465               35.890391          14.929925  \n",
       "\n",
       "[495528 rows x 24 columns]"
      ]
     },
     "execution_count": 9,
     "metadata": {},
     "output_type": "execute_result"
    }
   ],
   "source": [
    "pd.reset_option(\"display.max_rows\")\n",
    "pd.reset_option(\"display.max_columns\")\n",
    "outsample_path = os.path.join(model_path,[file for file in model_files if file.find('outsample') != -1][0])\n",
    "outsample = pd.read_csv(outsample_path).iloc[:,1:]\n",
    "outsample"
   ]
  },
  {
   "cell_type": "markdown",
   "id": "fd86083b-98aa-41db-b0eb-de633e316c3d",
   "metadata": {},
   "source": [
    "# Test Model"
   ]
  },
  {
   "cell_type": "code",
   "execution_count": 10,
   "id": "f5fd9994-2cb6-47e7-817b-ff7142ece932",
   "metadata": {},
   "outputs": [
    {
     "name": "stdout",
     "output_type": "stream",
     "text": [
      "\n",
      "maturities:\n",
      "     maturities = [60, 90, 180, 360, 540, 720]\n",
      "\n",
      "types:\n",
      "     barrier_type_names = ['DownOut', 'DownIn', 'UpOut', 'UpIn']\n",
      "     ws = ['put']\n",
      "\n"
     ]
    }
   ],
   "source": [
    "maturities = outsample['days_to_maturity'].unique().tolist()\n",
    "barrier_type_names = outsample['barrier_type_name'].unique().tolist()\n",
    "ws = outsample['w'].unique().tolist()\n",
    "print(f\"\\nmaturities:\\n     maturities = {maturities}\")\n",
    "print(f\"\\ntypes:\\n     barrier_type_names = {barrier_type_names}\\n     ws = {ws}\\n\")"
   ]
  },
  {
   "cell_type": "code",
   "execution_count": 11,
   "id": "26a98412-cbf1-4bfe-ac10-7bc0278d1894",
   "metadata": {},
   "outputs": [],
   "source": [
    "by_wbt = outsample.copy().set_index(['w','barrier_type_name','days_to_maturity']).sort_index()"
   ]
  },
  {
   "cell_type": "code",
   "execution_count": 12,
   "id": "9f0cde77-b6db-4a60-89ce-b3d01b97ba2d",
   "metadata": {},
   "outputs": [
    {
     "name": "stdout",
     "output_type": "stream",
     "text": [
      "\n",
      "RMSE:\n",
      "      DownOut    DownIn     UpOut      UpIn\n",
      "60  18.830373 10.835120 21.248105 11.887697\n",
      "90  17.914689 14.496323 22.685060 10.956622\n",
      "180 15.229064 20.639717 21.630809 10.330600\n",
      "360 12.549174 22.678720 14.591663 11.447154\n",
      "540 11.852249 21.666444 10.839893 12.502602\n",
      "720 11.204377 20.521894  9.620773 11.796006\n"
     ]
    }
   ],
   "source": [
    "RMSE = pd.DataFrame(\n",
    "    np.zeros((len(maturities),len(barrier_type_names)),dtype=float),\n",
    "    columns = barrier_type_names,\n",
    "    index = maturities\n",
    ")\n",
    "\n",
    "for t in maturities:\n",
    "    for b in barrier_type_names:\n",
    "        RMSE.loc[t,b] = np.sqrt(np.average((by_wbt.loc[(slice(None), b, t),'outofsample_error'])**2))\n",
    "print(f\"\\nRMSE:\\n{RMSE}\")"
   ]
  },
  {
   "cell_type": "code",
   "execution_count": 13,
   "id": "ba16d6ea-b7bb-4912-bb95-02beb3909bb3",
   "metadata": {},
   "outputs": [
    {
     "name": "stdout",
     "output_type": "stream",
     "text": [
      "\n",
      "MAE:\n",
      "      DownOut    DownIn     UpOut     UpIn\n",
      "60  10.990855  5.723831 11.613265 6.017784\n",
      "90   9.624860  7.877792 12.766717 5.433370\n",
      "180  8.800177 11.131006 11.074176 4.925002\n",
      "360  7.488050 12.525963  8.177811 5.788525\n",
      "540  6.768247 12.265612  6.318234 6.296213\n",
      "720  6.350893 12.001277  5.881890 6.201991\n"
     ]
    }
   ],
   "source": [
    "MAE = pd.DataFrame(\n",
    "    np.zeros((len(maturities),len(barrier_type_names)),dtype=float),\n",
    "    index = maturities,\n",
    "    columns = barrier_type_names\n",
    ")\n",
    "for t in maturities:\n",
    "    for b in barrier_type_names:\n",
    "        MAE.loc[t,b] = np.average(np.abs(by_wbt.loc[(slice(None), b, t),'outofsample_error']))\n",
    "print(f\"\\nMAE:\\n{MAE}\")"
   ]
  },
  {
   "cell_type": "code",
   "execution_count": 14,
   "id": "1897e083-211e-4582-8300-e8071d0c12a2",
   "metadata": {},
   "outputs": [
    {
     "data": {
      "image/png": "[encoded data removed]",
      "text/plain": [
       "<Figure size 640x480 with 1 Axes>"
      ]
     },
     "metadata": {},
     "output_type": "display_data"
    }
   ],
   "source": [
    "plt.figure()\n",
    "for b in barrier_type_names:\n",
    "    plt.plot(MAE.loc[:, b], label=b)\n",
    "plt.xlabel('maturities in days')\n",
    "plt.ylabel('RMSE')\n",
    "plt.legend()\n",
    "plt.show()\n",
    "plt.close()"
   ]
  },
  {
   "cell_type": "code",
   "execution_count": 15,
   "id": "96f3b859-d7a2-4471-bd0d-ae90522f8669",
   "metadata": {},
   "outputs": [
    {
     "name": "stdout",
     "output_type": "stream",
     "text": [
      "\n",
      "         ########\n",
      "         # puts #\n",
      "         ########\n",
      "RMSE:\n",
      "      DownOut    DownIn     UpOut      UpIn\n",
      "put                                        \n",
      "60  18.830373 10.835120 21.248105 11.887697\n",
      "90  17.914689 14.496323 22.685060 10.956622\n",
      "180 15.229064 20.639717 21.630809 10.330600\n",
      "360 12.549174 22.678720 14.591663 11.447154\n",
      "540 11.852249 21.666444 10.839893 12.502602\n",
      "720 11.204377 20.521894  9.620773 11.796006\n",
      "MAE:\n",
      "      DownOut    DownIn     UpOut     UpIn\n",
      "put                                       \n",
      "60  10.990855  5.723831 11.613265 6.017784\n",
      "90   9.624860  7.877792 12.766717 5.433370\n",
      "180  8.800177 11.131006 11.074176 4.925002\n",
      "360  7.488050 12.525963  8.177811 5.788525\n",
      "540  6.768247 12.265612  6.318234 6.296213\n",
      "720  6.350893 12.001277  5.881890 6.201991\n",
      "\n",
      "\n",
      "\n"
     ]
    }
   ],
   "source": [
    "errors_bypayoff = {}\n",
    "for w in ws:\n",
    "    errors = {}\n",
    "    print(\n",
    "        f\"\\n         {'#'*(len(w)+5)}\"\n",
    "        f\"\\n         # {w}s #\"\n",
    "        f\"\\n         {'#'*(len(w)+5)}\"\n",
    "    )\n",
    "    RMSE = pd.DataFrame(\n",
    "        np.zeros((len(maturities),len(barrier_type_names)),dtype=float),\n",
    "        columns = barrier_type_names\n",
    "        )\n",
    "    RMSE[w] = maturities\n",
    "    RMSE = RMSE.set_index(w,drop=True)\n",
    "    for t in maturities:\n",
    "        for b in barrier_type_names:\n",
    "            RMSE.loc[t,b] = np.sqrt(np.average((by_wbt.loc[(w, b, t),'outofsample_error'])**2))\n",
    "    print(f\"RMSE:\\n{RMSE}\")\n",
    "    errors['RMSE'] = RMSE\n",
    "    \n",
    "\n",
    "\n",
    "    MAE = pd.DataFrame(\n",
    "        np.zeros((len(maturities),len(barrier_type_names)),dtype=float),\n",
    "        columns = barrier_type_names\n",
    "    )\n",
    "    MAE[w] = maturities\n",
    "    MAE = MAE.set_index(w,drop=True)\n",
    "    for t in maturities:\n",
    "        for b in barrier_type_names:\n",
    "            MAE.loc[t,b] = np.average(np.abs(by_wbt.loc[(w, b, t),'outofsample_error']))\n",
    "    print(f\"MAE:\\n{MAE}\")\n",
    "    errors['MAE'] = MAE\n",
    "\n",
    "    errors_bypayoff[w] = errors\n",
    "    print(\"\\n\\n\")"
   ]
  },
  {
   "cell_type": "code",
   "execution_count": 16,
   "id": "4598549c-c53f-4821-a309-81f39c78dd32",
   "metadata": {},
   "outputs": [
    {
     "name": "stdout",
     "output_type": "stream",
     "text": [
      "      DownOut    DownIn     UpOut     UpIn\n",
      "put                                       \n",
      "60  10.990855  5.723831 11.613265 6.017784\n",
      "90   9.624860  7.877792 12.766717 5.433370\n",
      "180  8.800177 11.131006 11.074176 4.925002\n",
      "360  7.488050 12.525963  8.177811 5.788525\n",
      "540  6.768247 12.265612  6.318234 6.296213\n",
      "720  6.350893 12.001277  5.881890 6.201991\n",
      "      DownOut    DownIn     UpOut     UpIn\n",
      "put                                       \n",
      "60  10.990855  5.723831 11.613265 6.017784\n",
      "90   9.624860  7.877792 12.766717 5.433370\n",
      "180  8.800177 11.131006 11.074176 4.925002\n",
      "360  7.488050 12.525963  8.177811 5.788525\n",
      "540  6.768247 12.265612  6.318234 6.296213\n",
      "720  6.350893 12.001277  5.881890 6.201991\n",
      "      DownOut    DownIn     UpOut     UpIn\n",
      "put                                       \n",
      "60  10.990855  5.723831 11.613265 6.017784\n",
      "90   9.624860  7.877792 12.766717 5.433370\n",
      "180  8.800177 11.131006 11.074176 4.925002\n",
      "360  7.488050 12.525963  8.177811 5.788525\n",
      "540  6.768247 12.265612  6.318234 6.296213\n",
      "720  6.350893 12.001277  5.881890 6.201991\n",
      "      DownOut    DownIn     UpOut     UpIn\n",
      "put                                       \n",
      "60  10.990855  5.723831 11.613265 6.017784\n",
      "90   9.624860  7.877792 12.766717 5.433370\n",
      "180  8.800177 11.131006 11.074176 4.925002\n",
      "360  7.488050 12.525963  8.177811 5.788525\n",
      "540  6.768247 12.265612  6.318234 6.296213\n",
      "720  6.350893 12.001277  5.881890 6.201991\n"
     ]
    }
   ],
   "source": [
    "for w, errors in errors_bypayoff.items():\n",
    "    for b in barrier_type_names: \n",
    "        print(errors['MAE'])"
   ]
  },
  {
   "cell_type": "code",
   "execution_count": 17,
   "id": "c3f9481c-31c5-43f3-aff0-7b6beb9ff0d8",
   "metadata": {},
   "outputs": [
    {
     "data": {
      "image/png": "[encoded data removed]",
      "text/plain": [
       "<Figure size 640x480 with 1 Axes>"
      ]
     },
     "metadata": {},
     "output_type": "display_data"
    }
   ],
   "source": [
    "plt.figure()\n",
    "for w, errors in errors_bypayoff.items():\n",
    "    for b in barrier_type_names: \n",
    "        MAE = errors['MAE'][b]\n",
    "        plt.plot(\n",
    "            MAE.sort_values(), label=f\"{b} {w}s \",\n",
    "        )\n",
    "plt.legend(loc='best')\n",
    "plt.show()\n",
    "plt.close()"
   ]
  },
  {
   "cell_type": "code",
   "execution_count": 18,
   "id": "12fdbb75-7e5c-4664-80d1-ca29e5521878",
   "metadata": {},
   "outputs": [
    {
     "name": "stdout",
     "output_type": "stream",
     "text": [
      "cpu: 19.311000108718872\n"
     ]
    }
   ],
   "source": [
    "end_time = time.time()\n",
    "runtime = end_time - start_time\n",
    "print(f\"cpu: {runtime}\")"
   ]
  },
  {
   "cell_type": "code",
   "execution_count": null,
   "id": "c644b63a-9eab-4c7a-81c2-135752a4c7e3",
   "metadata": {},
   "outputs": [],
   "source": []
  },
  {
   "cell_type": "code",
   "execution_count": null,
   "id": "d8bc52d3-2a65-4fc5-85fb-de846b019469",
   "metadata": {},
   "outputs": [],
   "source": []
  }
 ],
 "metadata": {
  "kernelspec": {
   "display_name": "Python 3 (ipykernel)",
   "language": "python",
   "name": "python3"
  },
  "language_info": {
   "codemirror_mode": {
    "name": "ipython",
    "version": 3
   },
   "file_extension": ".py",
   "mimetype": "text/x-python",
   "name": "python",
   "nbconvert_exporter": "python",
   "pygments_lexer": "ipython3",
   "version": "3.12.7"
  }
 },
 "nbformat": 4,
 "nbformat_minor": 5
}
