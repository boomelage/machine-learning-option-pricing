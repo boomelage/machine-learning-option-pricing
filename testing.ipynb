{
 "cells": [
  {
   "cell_type": "code",
   "execution_count": 1,
   "id": "6176769e-ecd5-48c0-8101-aefbbf1c906d",
   "metadata": {},
   "outputs": [],
   "source": [
    "import os\n",
    "import pandas as pd\n",
    "import numpy as np\n",
    "import matplotlib.pyplot as plt\n",
    "import time\n",
    "from pathlib import Path\n",
    "pd.set_option(\"display.max_rows\",None)\n",
    "pd.set_option(\"display.max_columns\",None)\n",
    "pd.set_option('display.float_format', '{:.6f}'.format)\n",
    "start_time = time.time()"
   ]
  },
  {
   "cell_type": "markdown",
   "id": "0083861f-2c9c-4675-a4bf-c685939b59f6",
   "metadata": {},
   "source": [
    "# Import Model"
   ]
  },
  {
   "cell_type": "code",
   "execution_count": 2,
   "id": "6fb60afc-ba16-4768-933e-f5b353dda074",
   "metadata": {},
   "outputs": [],
   "source": [
    "jupyter_dir = os.path.abspath(str(Path()))"
   ]
  },
  {
   "cell_type": "code",
   "execution_count": 3,
   "id": "7a80bd33-fd82-4d4f-9e9b-4138f279af96",
   "metadata": {},
   "outputs": [
    {
     "name": "stdout",
     "output_type": "stream",
     "text": [
      "0   2024_10_07 17-55-55 Deep Neural Network 3oosRMSE\n",
      "1   2024_10_08 00-00-41 Deep Neural Network 3oosRMSE\n",
      "2   2024_10_08 00-24-59 Deep Neural Network 3oosRMSE\n",
      "3   2024_10_08 00-42-22 Deep Neural Network 3oosRMSE\n",
      "4   2024_10_09 09-01-43 Deep Neural Network 6oosRMSE\n",
      "5   2024_10_09 09-08-27 Deep Neural Network 9oosRMSE\n",
      "6   2024_10_09 09-11-43 Deep Neural Network 11oosRMSE\n",
      "7   2024_10_09 10-09-20 Deep Neural Network 15oosRMSE\n",
      "8   2024_10_09 11-11-13 Deep Neural Network 16oosRMSE\n"
     ]
    }
   ],
   "source": [
    "models_path = os.path.join(jupyter_dir,'trained_models','trained_models','trained_models_old')\n",
    "models = os.listdir(models_path)\n",
    "for i, path in enumerate(models):\n",
    "    print(f\"{i}   {path}\")"
   ]
  },
  {
   "cell_type": "code",
   "execution_count": 4,
   "id": "cbc8c764-60f4-4d9d-a282-59b4a93917bc",
   "metadata": {},
   "outputs": [
    {
     "data": {
      "text/plain": [
       "'2024_10_07 17-55-55 Deep Neural Network 3oosRMSE'"
      ]
     },
     "execution_count": 4,
     "metadata": {},
     "output_type": "execute_result"
    }
   ],
   "source": [
    "model = models[0]\n",
    "model"
   ]
  },
  {
   "cell_type": "code",
   "execution_count": 5,
   "id": "bdf95fb7-76a0-43bf-9449-13c42c404812",
   "metadata": {},
   "outputs": [],
   "source": [
    "model_path = os.path.join(models_path,model)"
   ]
  },
  {
   "cell_type": "code",
   "execution_count": 6,
   "id": "474beaf4-9cdc-47c3-983d-cca07d043e3f",
   "metadata": {},
   "outputs": [
    {
     "data": {
      "text/plain": [
       "['.ipynb_checkpoints',\n",
       " '2024_10_07 17-55-55 Deep Neural Network 3oosRMSE insample_results.csv',\n",
       " '2024_10_07 17-55-55 Deep Neural Network 3oosRMSE outofsample_results.csv',\n",
       " '2024_10_07 17-55-55 Deep Neural Network 3oosRMSE.pkl',\n",
       " '2024_10_07 17-55-55 Deep Neural Network 3oosRMSE.txt']"
      ]
     },
     "execution_count": 6,
     "metadata": {},
     "output_type": "execute_result"
    }
   ],
   "source": [
    "model_files = os.listdir(model_path)\n",
    "model_files"
   ]
  },
  {
   "cell_type": "code",
   "execution_count": 7,
   "id": "c244e9dd-f898-43a7-876f-f51df8f80157",
   "metadata": {},
   "outputs": [],
   "source": [
    "spec_path = os.path.join(model_path,[file for file in model_files if file.endswith('.txt')][0])"
   ]
  },
  {
   "cell_type": "code",
   "execution_count": 8,
   "id": "65b37048-a838-4c17-a2ff-6d6cdbd54a80",
   "metadata": {},
   "outputs": [
    {
     "name": "stdout",
     "output_type": "stream",
     "text": [
      "Mon Oct  7 17:49:14 2024\n",
      "spot(s):\n",
      "[1311.13 1325.42 1330.53 1333.44 1338.73 1351.52 1372.91 1374.2  1377.99\n",
      "1380.79 1386.77 1386.98 1387.16 1390.08 1391.82 1392.05 1395.15 1399.96\n",
      "1401.2  1401.5  1401.77 1402.74 1403.05 1406.48 1406.58 1406.64 1406.77\n",
      "1409.11 1409.82 1410.74 1411.59 1412.12 1412.71 1413.18 1414.71 1416.12\n",
      "1416.34 1416.4  1416.59 1416.97 1418.28 1419.95 1420.46 1420.83 1422.42\n",
      "1422.43 1423.07 1423.8  1424.27 1424.44 1426.09 1426.6  1428.02 1428.35\n",
      "1428.7  1428.81 1430.36 1430.59 1430.69 1431.78 1433.18 1433.19 1433.55\n",
      "1433.65 1434.56 1434.69 1436.11 1437.38 1437.45 1438.07 1438.45 1438.91\n",
      "1438.99 1439.15 1439.53 1439.88 1439.97 1443.66 1444.24 1444.47 1445.28\n",
      "1445.5  1445.71 1446.04 1446.9  1447.03 1447.04 1447.54 1447.77 1447.89\n",
      "1448.38 1448.46 1449.6  1449.93 1451.21 1451.23 1451.6  1452.52 1452.78\n",
      "1452.95 1452.96 1453.53 1453.85 1454.4  1454.47 1454.78 1455.05 1455.51\n",
      "1456.3  1456.93 1457.51 1457.85 1458.35 1459.18 1459.53 1460.37 1462.63\n",
      "1462.85 1463.59 1463.78 1466.35 1466.84 1467.25 1467.54 1467.95 1468.23\n",
      "1469.04 1469.89 1470.07 1470.62 1471.33 1471.43 1471.49 1471.93 1471.99\n",
      "1472.32 1472.58 1472.83 1473.51 1474.26 1475.44 1476.23 1476.68 1476.91\n",
      "1477.65 1477.88 1478.45 1479.09 1480.49 1480.57 1481.12 1481.25 1482.47\n",
      "1483.7  1484.16 1484.4  1484.51 1484.68 1484.86 1486.09 1486.9  1488.85\n",
      "1489.28 1489.55 1491.66 1492.47 1493.24 1494.22 1494.32 1495.27 1496.\n",
      "1496.9  1497.37 1497.42 1497.46 1500.66 1501.4  1502.13 1502.3  1502.37\n",
      "1503.06 1503.36 1504.31 1505.36 1505.49 1506.   1506.03 1506.09 1506.44\n",
      "1507.3  1507.68 1507.84 1507.94 1508.33 1509.13 1510.2  1510.29 1511.77\n",
      "1512.26 1512.52 1512.61 1513.95 1514.24 1515.42 1515.75 1515.9  1516.16\n",
      "1516.28 1517.65 1517.78 1517.93 1518.08 1518.59 1518.8  1519.26 1519.38\n",
      "1519.66 1520.45 1521.61 1522.16 1522.51 1522.95 1523.96 1524.76 1524.84\n",
      "1525.35 1525.39 1525.5  1526.61 1528.78 1529.95 1530.14 1530.37 1530.69\n",
      "1531.05 1531.08 1531.44 1531.83 1532.93 1533.31 1534.08 1535.14 1536.18\n",
      "1538.87 1539.04 1539.62 1539.7  1540.86 1541.15 1542.85 1544.83 1546.47\n",
      "1546.48 1547.66 1548.82 1549.07 1549.66 1549.68 1552.26 1552.65 1552.8\n",
      "1554.55 1557.09 1561.58 1562.09 1565.18]\n",
      "\n",
      "strikes:\n",
      "[1180.017      1185.36855102 1190.72010204 ... 1717.738      1718.299\n",
      "1721.698     ]\n",
      "\n",
      "maturities:\n",
      "[ 60  90 180 360 540 720]\n",
      "\n",
      "types:\n",
      "['call' 'put']\n",
      "\n",
      "['DownOut' 'DownIn' 'UpOut' 'UpIn']\n",
      "number of calls, puts:\n",
      "1202714,1237486\n",
      "\n",
      "total prices:\n",
      "2440200\n",
      "Deep Neural Network\n",
      "hidden layers sizes: (26, 26, 26)\n",
      "learning rate: adaptive\n",
      "activation: relu\n",
      "solver: sgd\n",
      "alpha: 0.0001\n",
      "#################\n",
      "# training data #\n",
      "#################\n",
      "spot_price  strike_price       barrier  days_to_maturity  \\\n",
      "count  2.440200e+06  2.440200e+06  2.440200e+06      2.440200e+06\n",
      "mean   1.482863e+03  1.481625e+03  1.481900e+03      3.318022e+02\n",
      "min    1.311130e+03  1.180017e+03  6.555650e+02      6.000000e+01\n",
      "25%    1.454400e+03  1.405528e+03  1.106087e+03      9.000000e+01\n",
      "50%    1.486900e+03  1.480626e+03  1.489267e+03      3.600000e+02\n",
      "75%    1.519260e+03  1.558822e+03  1.862044e+03      5.400000e+02\n",
      "max    1.565180e+03  1.721698e+03  2.347770e+03      7.200000e+02\n",
      "std    4.891417e+01  9.966849e+01  4.603474e+02      2.417603e+02\n",
      "\n",
      "barrier_price     rebate  dividend_rate  risk_free_rate         theta  \\\n",
      "count   2.440200e+06  2440200.0   2.440200e+06    2.440200e+06  2.440200e+06\n",
      "mean    5.289963e+01        0.0   1.895021e-02    4.000000e-02  4.324479e-02\n",
      "min     2.593117e-08        0.0   1.779800e-02    4.000000e-02  1.992058e-02\n",
      "25%     1.765449e+00        0.0   1.847300e-02    4.000000e-02  3.278129e-02\n",
      "50%     2.949520e+01        0.0   1.883200e-02    4.000000e-02  4.141361e-02\n",
      "75%     9.159960e+01        0.0   1.926900e-02    4.000000e-02  5.475912e-02\n",
      "max     2.930981e+02        0.0   2.163700e-02    4.000000e-02  4.050494e-01\n",
      "std     5.834516e+01        0.0   6.689564e-04    2.636780e-16  1.679049e-02\n",
      "\n",
      "kappa           rho           eta            v0  \\\n",
      "count  2.440200e+06  2.440200e+06  2.440200e+06  2.440200e+06\n",
      "mean   2.143468e+00 -9.428891e-01  2.069204e-01  3.601911e-02\n",
      "min    3.970018e-02 -1.000000e+00  8.817807e-02  5.244166e-03\n",
      "25%    9.955816e-01 -1.000000e+00  1.270672e-01  1.791752e-02\n",
      "50%    1.419579e+00 -9.999999e-01  1.716634e-01  3.342124e-02\n",
      "75%    2.340933e+00 -9.999996e-01  2.056080e-01  5.112312e-02\n",
      "max    1.232603e+01 -2.766103e-01  1.457690e+00  1.350097e-01\n",
      "std    2.060778e+00  1.588674e-01  1.657899e-01  2.114729e-02\n",
      "\n",
      "calculation_date                expiration_date  \\\n",
      "count                        2440200                        2440200\n",
      "mean   2007-08-25 18:13:40.768135168  2008-07-22 13:28:50.903368448\n",
      "min              2007-01-03 00:00:00            2007-03-04 00:00:00\n",
      "25%              2007-06-18 00:00:00            2007-12-22 00:00:00\n",
      "50%              2007-08-31 00:00:00            2008-06-05 00:00:00\n",
      "75%              2007-11-08 00:00:00            2009-02-24 00:00:00\n",
      "max              2008-01-25 00:00:00            2010-01-14 00:00:00\n",
      "std                              NaN                            NaN\n",
      "\n",
      "observed_price\n",
      "count    2.440200e+06\n",
      "mean     5.290726e+01\n",
      "min      0.000000e+00\n",
      "25%      1.768411e+00\n",
      "50%      2.949478e+01\n",
      "75%      9.159726e+01\n",
      "max      2.930300e+02\n",
      "std      5.833860e+01\n",
      "#############\n",
      "# test data #\n",
      "#############\n",
      "spot_price   strike_price        barrier  days_to_maturity  \\\n",
      "count  347537.000000  347537.000000  347537.000000     347537.000000\n",
      "mean     1347.861756    1347.046457    1348.769842        327.960390\n",
      "min      1293.410000    1164.069000     646.705000         60.000000\n",
      "25%      1331.490000    1279.465633    1004.870900         90.000000\n",
      "50%      1348.820000    1346.067306    1348.518600        360.000000\n",
      "75%      1366.540000    1413.950571    1694.137050        540.000000\n",
      "max      1395.000000    1534.500000    2092.500000        720.000000\n",
      "std        23.833523      82.364767     418.760200        241.407548\n",
      "\n",
      "barrier_price    rebate  dividend_rate  risk_free_rate          theta  \\\n",
      "count   3.475370e+05  347537.0  347537.000000    3.475370e+05  347537.000000\n",
      "mean    5.749639e+01       0.0       0.021741    4.000000e-02       0.054682\n",
      "min     1.222892e-07       0.0       0.020831    4.000000e-02       0.049040\n",
      "25%     3.782601e+00       0.0       0.021420    4.000000e-02       0.052993\n",
      "50%     3.847586e+01       0.0       0.021794    4.000000e-02       0.054977\n",
      "75%     1.001720e+02       0.0       0.021982    4.000000e-02       0.056480\n",
      "max     2.662305e+02       0.0       0.022745    4.000000e-02       0.057948\n",
      "std     5.874016e+01       0.0       0.000440    2.081671e-17       0.002302\n",
      "\n",
      "kappa            rho            eta             v0  \\\n",
      "count  347537.000000  347537.000000  347537.000000  347537.000000\n",
      "mean        2.360937      -0.991818       0.204107       0.059881\n",
      "min         0.865768      -1.000000       0.169703       0.039757\n",
      "25%         1.789696      -1.000000       0.185708       0.052649\n",
      "50%         2.225322      -1.000000       0.204820       0.059645\n",
      "75%         2.792851      -1.000000       0.209768       0.068024\n",
      "max         5.172695      -0.755241       0.329992       0.076897\n",
      "std         0.879155       0.043985       0.028096       0.009574\n",
      "\n",
      "calculation_date                expiration_date  \\\n",
      "count                         347537                         347537\n",
      "mean   2008-02-17 01:34:25.993548544  2009-01-10 00:37:23.674774528\n",
      "min              2008-01-28 00:00:00            2008-03-28 00:00:00\n",
      "25%              2008-02-06 00:00:00            2008-05-20 00:00:00\n",
      "50%              2008-02-15 00:00:00            2009-01-23 00:00:00\n",
      "75%              2008-02-28 00:00:00            2009-08-12 00:00:00\n",
      "max              2008-03-07 00:00:00            2010-02-25 00:00:00\n",
      "std                              NaN                            NaN\n",
      "\n",
      "observed_price\n",
      "count   347537.000000\n",
      "mean        57.502660\n",
      "min          0.000000\n",
      "25%          3.781632\n",
      "50%         38.470420\n",
      "75%        100.183285\n",
      "max        266.227644\n",
      "std         58.734252\n",
      "\n",
      "spot_price                  float64\n",
      "strike_price                float64\n",
      "barrier                     float64\n",
      "days_to_maturity              int64\n",
      "barrier_price               float64\n",
      "updown                       object\n",
      "outin                        object\n",
      "w                            object\n",
      "barrier_type_name            object\n",
      "rebate                      float64\n",
      "dividend_rate               float64\n",
      "risk_free_rate              float64\n",
      "theta                       float64\n",
      "kappa                       float64\n",
      "rho                         float64\n",
      "eta                         float64\n",
      "v0                          float64\n",
      "calculation_date     datetime64[ns]\n",
      "expiration_date      datetime64[ns]\n",
      "observed_price              float64\n",
      "dtype: object\n",
      "in sample results:\n",
      "RMSE: 3.3546520510358673\n",
      "MAE: 2.3698209969453807\n",
      "\n",
      "out of sample results:\n",
      "RMSE: 3.444383883806766\n",
      "MAE: 2.490489833504336\n",
      "\n",
      "features:\n",
      "spot_price\n",
      "strike_price\n",
      "days_to_maturity\n",
      "risk_free_rate\n",
      "dividend_rate\n",
      "kappa\n",
      "theta\n",
      "rho\n",
      "eta\n",
      "v0\n",
      "barrier\n",
      "barrier_type_name\n",
      "w\n",
      "\n",
      "target: observed_price\n",
      "\n",
      "cpu: 401.2407100200653\n",
      "Mon Oct  7 17:55:55 2024\n"
     ]
    }
   ],
   "source": [
    "with open(spec_path, \"r\") as specs:\n",
    "    for line in specs:\n",
    "        print(line.strip())"
   ]
  },
  {
   "cell_type": "code",
   "execution_count": 9,
   "id": "b6b4798a-2a53-45e5-8090-268876a6a7fc",
   "metadata": {},
   "outputs": [
    {
     "data": {
      "text/plain": [
       "'E:\\\\git\\\\machine-learning-option-pricing\\\\trained_models\\\\trained_models\\\\trained_models_old\\\\2024_10_07 17-55-55 Deep Neural Network 3oosRMSE'"
      ]
     },
     "execution_count": 9,
     "metadata": {},
     "output_type": "execute_result"
    }
   ],
   "source": [
    "model_path"
   ]
  },
  {
   "cell_type": "code",
   "execution_count": 10,
   "id": "6963be62-331b-41f8-997f-cce11f301fe1",
   "metadata": {},
   "outputs": [
    {
     "data": {
      "text/plain": [
       "['.ipynb_checkpoints',\n",
       " '2024_10_07 17-55-55 Deep Neural Network 3oosRMSE insample_results.csv',\n",
       " '2024_10_07 17-55-55 Deep Neural Network 3oosRMSE outofsample_results.csv',\n",
       " '2024_10_07 17-55-55 Deep Neural Network 3oosRMSE.pkl',\n",
       " '2024_10_07 17-55-55 Deep Neural Network 3oosRMSE.txt']"
      ]
     },
     "execution_count": 10,
     "metadata": {},
     "output_type": "execute_result"
    }
   ],
   "source": [
    "model_files"
   ]
  },
  {
   "cell_type": "code",
   "execution_count": 11,
   "id": "83b42486-1771-42d9-9cba-9aec6809a868",
   "metadata": {},
   "outputs": [
    {
     "data": {
      "text/plain": [
       "'E:\\\\git\\\\machine-learning-option-pricing\\\\trained_models\\\\trained_models\\\\trained_models_old\\\\2024_10_07 17-55-55 Deep Neural Network 3oosRMSE\\\\2024_10_07 17-55-55 Deep Neural Network 3oosRMSE outofsample_results.csv'"
      ]
     },
     "execution_count": 11,
     "metadata": {},
     "output_type": "execute_result"
    }
   ],
   "source": [
    "outsample_path = os.path.join(model_path,[file for file in model_files if file.find('outofsample') != -1][0])\n",
    "outsample_path"
   ]
  },
  {
   "cell_type": "code",
   "execution_count": null,
   "id": "74bcc688-02b2-4d31-8006-34ffe08bd416",
   "metadata": {},
   "outputs": [],
   "source": [
    "outsample_path = os.path.join(model_path,[file for file in model_files if file.find('insample') != -1][0])\n",
    "outsample = pd.read_csv(outsample_path).iloc[:,1:]\n",
    "outsample"
   ]
  },
  {
   "cell_type": "markdown",
   "id": "fd86083b-98aa-41db-b0eb-de633e316c3d",
   "metadata": {},
   "source": [
    "# Test Model"
   ]
  },
  {
   "cell_type": "code",
   "execution_count": null,
   "id": "f5fd9994-2cb6-47e7-817b-ff7142ece932",
   "metadata": {},
   "outputs": [],
   "source": [
    "maturities = outsample['days_to_maturity'].unique().tolist()\n",
    "barrier_type_names = outsample['barrier_type_name'].unique().tolist()\n",
    "ws = outsample['w'].unique().tolist()\n",
    "print(f\"\\nmaturities:\\n     maturities = {maturities}\")\n",
    "print(f\"\\ntypes:\\n     barrier_type_names = {barrier_type_names}\\n     ws = {ws}\\n\")"
   ]
  },
  {
   "cell_type": "code",
   "execution_count": null,
   "id": "26a98412-cbf1-4bfe-ac10-7bc0278d1894",
   "metadata": {},
   "outputs": [],
   "source": [
    "by_wbt = outsample.copy().set_index(['w','barrier_type_name','days_to_maturity']).sort_index()"
   ]
  },
  {
   "cell_type": "code",
   "execution_count": null,
   "id": "9f0cde77-b6db-4a60-89ce-b3d01b97ba2d",
   "metadata": {},
   "outputs": [],
   "source": [
    "RMSE = pd.DataFrame(\n",
    "    np.zeros((len(maturities),len(barrier_type_names)),dtype=float),\n",
    "    columns = barrier_type_names,\n",
    "    index = maturities\n",
    ")\n",
    "\n",
    "for t in maturities:\n",
    "    for b in barrier_type_names:\n",
    "        RMSE.loc[t,b] = np.sqrt(np.average((by_wbt.loc[(slice(None), b, t),'outofsample_error'])**2))\n",
    "print(f\"\\nRMSE:\\n{RMSE}\")"
   ]
  },
  {
   "cell_type": "code",
   "execution_count": null,
   "id": "ba16d6ea-b7bb-4912-bb95-02beb3909bb3",
   "metadata": {},
   "outputs": [],
   "source": [
    "MAE = pd.DataFrame(\n",
    "    np.zeros((len(maturities),len(barrier_type_names)),dtype=float),\n",
    "    index = maturities,\n",
    "    columns = barrier_type_names\n",
    ")\n",
    "for t in maturities:\n",
    "    for b in barrier_type_names:\n",
    "        MAE.loc[t,b] = np.average(np.abs(by_wbt.loc[(slice(None), b, t),'outofsample_error']))\n",
    "print(f\"\\nMAE:\\n{MAE}\")"
   ]
  },
  {
   "cell_type": "code",
   "execution_count": null,
   "id": "1897e083-211e-4582-8300-e8071d0c12a2",
   "metadata": {},
   "outputs": [],
   "source": [
    "plt.figure()\n",
    "for b in barrier_type_names:\n",
    "    plt.plot(MAE.loc[:, b], label=b)\n",
    "plt.xlabel('maturities in days')\n",
    "plt.ylabel('RMSE')\n",
    "plt.legend()\n",
    "plt.show()\n",
    "plt.close()"
   ]
  },
  {
   "cell_type": "code",
   "execution_count": null,
   "id": "96f3b859-d7a2-4471-bd0d-ae90522f8669",
   "metadata": {},
   "outputs": [],
   "source": [
    "errors_bypayoff = {}\n",
    "for w in ws:\n",
    "    errors = {}\n",
    "    print(\n",
    "        f\"\\n         {'#'*(len(w)+5)}\"\n",
    "        f\"\\n         # {w}s #\"\n",
    "        f\"\\n         {'#'*(len(w)+5)}\"\n",
    "    )\n",
    "    RMSE = pd.DataFrame(\n",
    "        np.zeros((len(maturities),len(barrier_type_names)),dtype=float),\n",
    "        columns = barrier_type_names\n",
    "        )\n",
    "    RMSE[w] = maturities\n",
    "    RMSE = RMSE.set_index(w,drop=True)\n",
    "    for t in maturities:\n",
    "        for b in barrier_type_names:\n",
    "            RMSE.loc[t,b] = np.sqrt(np.average((by_wbt.loc[(w, b, t),'outofsample_error'])**2))\n",
    "    print(f\"RMSE:\\n{RMSE}\")\n",
    "    errors['RMSE'] = RMSE\n",
    "    \n",
    "\n",
    "\n",
    "    MAE = pd.DataFrame(\n",
    "        np.zeros((len(maturities),len(barrier_type_names)),dtype=float),\n",
    "        columns = barrier_type_names\n",
    "    )\n",
    "    MAE[w] = maturities\n",
    "    MAE = MAE.set_index(w,drop=True)\n",
    "    for t in maturities:\n",
    "        for b in barrier_type_names:\n",
    "            MAE.loc[t,b] = np.average(np.abs(by_wbt.loc[(w, b, t),'outofsample_error']))\n",
    "    print(f\"MAE:\\n{MAE}\")\n",
    "    errors['MAE'] = MAE\n",
    "\n",
    "    errors_bypayoff[w] = errors\n",
    "    print(\"\\n\\n\")"
   ]
  },
  {
   "cell_type": "code",
   "execution_count": null,
   "id": "4598549c-c53f-4821-a309-81f39c78dd32",
   "metadata": {},
   "outputs": [],
   "source": [
    "for w, errors in errors_bypayoff.items():\n",
    "    for b in barrier_type_names: \n",
    "        print(errors['MAE'])"
   ]
  },
  {
   "cell_type": "code",
   "execution_count": null,
   "id": "c3f9481c-31c5-43f3-aff0-7b6beb9ff0d8",
   "metadata": {},
   "outputs": [],
   "source": [
    "plt.figure()\n",
    "for w, errors in errors_bypayoff.items():\n",
    "    for b in barrier_type_names: \n",
    "        MAE = errors['MAE'][b]\n",
    "        plt.plot(\n",
    "            MAE.sort_values(), label=f\"{b} {w}s \",\n",
    "        )\n",
    "plt.legend(loc='best')\n",
    "plt.show()\n",
    "plt.close()"
   ]
  },
  {
   "cell_type": "code",
   "execution_count": null,
   "id": "12fdbb75-7e5c-4664-80d1-ca29e5521878",
   "metadata": {},
   "outputs": [],
   "source": [
    "end_time = time.time()\n",
    "runtime = end_time - start_time\n",
    "print(f\"cpu: {runtime}\")"
   ]
  }
 ],
 "metadata": {
  "kernelspec": {
   "display_name": "Python 3 (ipykernel)",
   "language": "python",
   "name": "python3"
  },
  "language_info": {
   "codemirror_mode": {
    "name": "ipython",
    "version": 3
   },
   "file_extension": ".py",
   "mimetype": "text/x-python",
   "name": "python",
   "nbconvert_exporter": "python",
   "pygments_lexer": "ipython3",
   "version": "3.12.7"
  }
 },
 "nbformat": 4,
 "nbformat_minor": 5
}
