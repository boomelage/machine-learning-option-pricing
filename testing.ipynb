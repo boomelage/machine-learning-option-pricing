{
 "cells": [
  {
   "cell_type": "code",
   "execution_count": 7,
   "id": "6176769e-ecd5-48c0-8101-aefbbf1c906d",
   "metadata": {},
   "outputs": [],
   "source": [
    "import os\n",
    "import pandas as pd\n",
    "import numpy as np\n",
    "import matplotlib.pyplot as plt\n",
    "import time\n",
    "from pathlib import Path\n",
    "pd.set_option(\"display.max_rows\",None)\n",
    "pd.set_option(\"display.max_columns\",None)\n",
    "pd.set_option('display.float_format', '{:.6f}'.format)\n",
    "start_time = time.time()"
   ]
  },
  {
   "cell_type": "markdown",
   "id": "0083861f-2c9c-4675-a4bf-c685939b59f6",
   "metadata": {},
   "source": [
    "# Import Model"
   ]
  },
  {
   "cell_type": "code",
   "execution_count": 11,
   "id": "6fb60afc-ba16-4768-933e-f5b353dda074",
   "metadata": {},
   "outputs": [],
   "source": [
    "jupyter_dir = os.path.abspath(str(Path()))"
   ]
  },
  {
   "cell_type": "code",
   "execution_count": 12,
   "id": "7a80bd33-fd82-4d4f-9e9b-4138f279af96",
   "metadata": {},
   "outputs": [
    {
     "name": "stdout",
     "output_type": "stream",
     "text": [
      "0   2024_10_09 14-28-45 Random Forest OnlyOuts\n",
      "1   2024_10_09 14-58-00 Random Forest OnlyOuts\n",
      "2   2024_10_09 16-32-20 Deep Neural Network OnlyOuts\n",
      "3   trained_models_old\n"
     ]
    }
   ],
   "source": [
    "models_path = os.path.join(jupyter_dir,'trained_models','trained_models')\n",
    "models = os.listdir(models_path)\n",
    "for i, path in enumerate(models):\n",
    "    print(f\"{i}   {path}\")"
   ]
  },
  {
   "cell_type": "code",
   "execution_count": null,
   "id": "b599dc73-fb1c-4e1b-b564-03678a382fdd",
   "metadata": {},
   "outputs": [],
   "source": []
  },
  {
   "cell_type": "code",
   "execution_count": 13,
   "id": "cbc8c764-60f4-4d9d-a282-59b4a93917bc",
   "metadata": {},
   "outputs": [
    {
     "data": {
      "text/plain": [
       "'2024_10_09 16-32-20 Deep Neural Network OnlyOuts'"
      ]
     },
     "execution_count": 13,
     "metadata": {},
     "output_type": "execute_result"
    }
   ],
   "source": [
    "model = models[2]\n",
    "model"
   ]
  },
  {
   "cell_type": "code",
   "execution_count": 14,
   "id": "bdf95fb7-76a0-43bf-9449-13c42c404812",
   "metadata": {},
   "outputs": [],
   "source": [
    "model_path = os.path.join(models_path,model)"
   ]
  },
  {
   "cell_type": "code",
   "execution_count": 15,
   "id": "474beaf4-9cdc-47c3-983d-cca07d043e3f",
   "metadata": {},
   "outputs": [
    {
     "data": {
      "text/plain": [
       "['2024_10_09 16-32-20 Deep Neural Network OnlyOuts insample.csv',\n",
       " '2024_10_09 16-32-20 Deep Neural Network OnlyOuts outsample.csv',\n",
       " '2024_10_09 16-32-20 Deep Neural Network OnlyOuts.pkl',\n",
       " '2024_10_09 16-32-20 Deep Neural Network OnlyOuts.txt']"
      ]
     },
     "execution_count": 15,
     "metadata": {},
     "output_type": "execute_result"
    }
   ],
   "source": [
    "model_files = os.listdir(model_path)\n",
    "model_files"
   ]
  },
  {
   "cell_type": "code",
   "execution_count": 16,
   "id": "c244e9dd-f898-43a7-876f-f51df8f80157",
   "metadata": {},
   "outputs": [],
   "source": [
    "spec_path = os.path.join(model_path,[file for file in model_files if file.endswith('.txt')][0])"
   ]
  },
  {
   "cell_type": "code",
   "execution_count": 17,
   "id": "65b37048-a838-4c17-a2ff-6d6cdbd54a80",
   "metadata": {},
   "outputs": [
    {
     "name": "stdout",
     "output_type": "stream",
     "text": [
      "Wed Oct  9 16:30:03 2024\n",
      "spot(s):\n",
      "[1214.91 1228.34 1235.03 1240.01 1244.81 1245.64 1248.97 1251.98 1253.33\n",
      "1253.75 1257.85 1259.82 1260.39 1260.44 1260.47 1261.75 1263.07 1263.23\n",
      "1266.66 1267.3  1273.68 1274.24 1276.78 1276.84 1279.06 1279.51 1281.9\n",
      "1283.57 1284.14 1284.21 1285.13 1288.77 1289.26 1289.99 1293.41 1295.65\n",
      "1298.46 1304.46 1305.09 1308.8  1311.13 1314.51 1314.81 1315.19 1317.94\n",
      "1318.45 1320.45 1322.21 1322.24 1325.42 1325.9  1326.38 1326.79 1328.62\n",
      "1329.65 1329.75 1330.53 1330.91 1331.14 1331.49 1333.24 1333.44 1333.8\n",
      "1334.79 1335.63 1336.97 1337.24 1338.18 1338.73 1339.01 1340.15 1340.92\n",
      "1342.48 1342.83 1348.8  1348.82 1348.83 1349.69 1349.91 1350.78 1351.52\n",
      "1352.69 1353.69 1353.73 1354.63 1354.95 1358.24 1359.88 1360.   1360.03\n",
      "1360.47 1360.48 1362.14 1363.84 1365.56 1365.65 1366.54 1367.41 1367.69\n",
      "1369.22 1369.79 1370.68 1371.44 1372.41 1372.91 1374.2  1376.17 1376.18\n",
      "1376.5  1377.07 1377.59 1377.99 1379.83 1380.11 1380.72 1380.79 1381.38\n",
      "1385.23 1385.42 1385.74 1386.77 1386.98 1387.16 1388.04 1388.3  1388.63\n",
      "1390.08 1390.45 1390.84 1391.01 1391.18 1391.82 1392.05 1392.46 1394.07\n",
      "1395.   1395.15 1396.31 1397.45 1398.   1398.05 1399.4  1399.96 1401.2\n",
      "1401.5  1401.77 1402.74 1403.05 1403.12 1403.51 1403.52 1406.48 1406.58\n",
      "1406.64 1406.77 1407.53 1408.06 1409.11 1409.14 1409.82 1410.74 1411.59\n",
      "1412.12 1412.71 1413.18 1413.53 1413.8  1414.71 1416.12 1416.34 1416.4\n",
      "1416.59 1416.97 1418.28 1418.38 1419.95 1420.46 1420.83 1422.42 1422.43\n",
      "1423.07 1423.24 1423.8  1424.27 1424.44 1425.15 1426.09 1426.43 1426.6\n",
      "1428.02 1428.35 1428.7  1428.81 1430.36 1430.59 1430.69 1431.78 1433.18\n",
      "1433.19 1433.55 1433.65 1434.56 1434.69 1436.11 1437.38 1437.45 1438.07\n",
      "1438.45 1438.91 1438.99 1439.15 1439.53 1439.88 1439.97 1443.66 1444.24\n",
      "1444.47 1445.28 1445.5  1445.71 1446.04 1446.9  1447.03 1447.04 1447.54\n",
      "1447.77 1447.89 1448.38 1448.46 1449.6  1449.93 1451.21 1451.23 1451.6\n",
      "1452.52 1452.78 1452.95 1452.96 1453.53 1453.85 1454.4  1454.47 1454.78\n",
      "1455.05 1455.51 1456.3  1456.93 1457.51 1457.85 1458.35 1459.18 1459.53\n",
      "1460.37 1462.63 1462.85 1463.59 1463.78 1466.35 1466.84 1467.25 1467.54\n",
      "1467.95 1468.23 1469.04 1469.89 1470.07 1470.62 1471.33 1471.43 1471.49\n",
      "1471.93 1471.99 1472.32 1472.58 1472.83 1473.51 1474.26 1475.44 1476.23\n",
      "1476.68 1476.91 1477.65 1477.88 1478.45 1479.09 1480.49 1480.57 1481.12\n",
      "1481.25 1482.47 1483.7  1484.16 1484.4  1484.51 1484.68 1484.86 1486.09\n",
      "1486.9  1488.85 1489.28 1489.55 1491.66 1492.47 1493.24 1494.22 1494.32\n",
      "1495.27 1496.   1496.9  1497.37 1497.42 1497.46 1500.66 1501.4  1502.13\n",
      "1502.3  1502.37 1503.06 1503.36 1504.31 1505.36 1505.49 1506.   1506.03\n",
      "1506.09 1506.44 1507.3  1507.68 1507.84 1507.94 1508.33 1509.13 1510.2\n",
      "1510.29 1511.77 1512.26 1512.52 1512.61 1513.95 1514.24 1515.42 1515.75\n",
      "1515.9  1516.16 1516.28 1517.65 1517.78 1517.93 1518.08 1518.59 1518.8\n",
      "1519.26 1519.38 1519.66 1520.45 1521.61 1522.16 1522.51 1522.95 1523.96\n",
      "1524.76 1524.84 1525.35 1525.39 1525.5  1526.61 1528.78 1529.95 1530.14\n",
      "1530.37 1530.69 1531.05 1531.08 1531.44 1531.83 1532.93 1533.31 1534.08\n",
      "1535.14 1536.18 1538.87 1539.04 1539.62 1539.7  1540.86 1541.15 1542.85\n",
      "1544.83 1546.47 1546.48 1547.66 1548.82 1549.07 1549.66 1549.68 1552.26\n",
      "1552.65 1552.8  1554.55 1557.09 1561.58 1562.09 1565.18]\n",
      "\n",
      "strikes:\n",
      "[1093.419      1098.37781633 1103.33663265 ... 1717.738      1718.299\n",
      "1721.698     ]\n",
      "\n",
      "maturities:\n",
      "[ 60  90 180 360 540 720]\n",
      "\n",
      "types:\n",
      "['call' 'put']\n",
      "\n",
      "['DownOut' 'UpOut']\n",
      "number of calls, puts:\n",
      "1013294,1013294\n",
      "\n",
      "total prices:\n",
      "2026588\n",
      "Deep Neural Network\n",
      "hidden layers sizes: (13, 13, 13)\n",
      "learning rate: constant\n",
      "activation: relu\n",
      "solver: sgd\n",
      "alpha: 0.0001\n",
      "#################\n",
      "# training data #\n",
      "#################\n",
      "spot_price  strike_price       barrier  days_to_maturity  \\\n",
      "count 2026588.00000 2026588.00000 2026588.00000     2026588.00000\n",
      "mean     1425.91592    1425.91592    1425.91921         324.91474\n",
      "min      1214.91000    1093.41900     607.45500          60.00000\n",
      "25%      1359.88000    1340.56192    1041.54725          90.00000\n",
      "50%      1445.28000    1423.72847    1430.50340         180.00000\n",
      "75%      1503.06000    1514.65547    1807.16235         540.00000\n",
      "max      1565.18000    1721.69800    2347.77000         720.00000\n",
      "std        86.90401     121.06792     459.21807         241.51366\n",
      "\n",
      "barrier_price        rebate  dividend_rate  risk_free_rate  \\\n",
      "count  2026588.00000 2026588.00000  2026588.00000   2026588.00000\n",
      "mean        65.79462       0.00000        0.02013         0.04000\n",
      "min          0.00023       0.00000        0.01780         0.04000\n",
      "25%         14.80258       0.00000        0.01866         0.04000\n",
      "50%         53.32167       0.00000        0.01946         0.04000\n",
      "75%        106.91546       0.00000        0.02163         0.04000\n",
      "max        292.97177       0.00000        0.02406         0.04000\n",
      "std         56.90294       0.00000        0.00165         0.00000\n",
      "\n",
      "theta         kappa           rho           eta            v0  \\\n",
      "count 2026588.00000 2026588.00000 2026588.00000 2026588.00000 2026588.00000\n",
      "mean        0.04822       2.13466      -0.96130       0.19828       0.04014\n",
      "min         0.01992       0.03970      -1.00000       0.08818       0.00524\n",
      "25%         0.03824       1.13366      -1.00000       0.15360       0.02413\n",
      "50%         0.05281       1.75118      -1.00000       0.17385       0.03853\n",
      "75%         0.05665       2.27834      -1.00000       0.20080       0.05330\n",
      "max         0.40505      12.32603      -0.27661       1.45769       0.13501\n",
      "std         0.01488       1.70650       0.13080       0.13061       0.01994\n",
      "\n",
      "calculation_date                expiration_date  \\\n",
      "count                        2026588                        2026588\n",
      "mean   2007-12-02 05:36:58.214258944  2008-10-22 03:34:12.044125952\n",
      "min              2007-01-03 00:00:00            2007-03-04 00:00:00\n",
      "25%              2007-08-03 00:00:00            2008-03-15 00:00:00\n",
      "50%              2007-11-29 00:00:00            2008-09-22 00:00:00\n",
      "75%              2008-04-08 00:00:00            2009-05-27 00:00:00\n",
      "max              2008-08-12 00:00:00            2010-08-02 00:00:00\n",
      "std                              NaN                            NaN\n",
      "\n",
      "observed_price\n",
      "count   2026588.00000\n",
      "mean         65.79637\n",
      "min           0.00000\n",
      "25%          14.80634\n",
      "50%          53.31467\n",
      "75%         106.92030\n",
      "max         292.82875\n",
      "std          56.90108\n",
      "#############\n",
      "# test data #\n",
      "#############\n",
      "spot_price  strike_price      barrier  days_to_maturity  \\\n",
      "count 349164.00000  349164.00000 349164.00000      349164.00000\n",
      "mean    1185.11180    1185.11180   1185.11180         325.00000\n",
      "min      871.84000     784.65600    435.92000          60.00000\n",
      "25%     1165.72000    1121.97184    863.12160          90.00000\n",
      "50%     1231.72000    1209.04488   1195.48440         270.00000\n",
      "75%     1267.76000    1285.93902   1477.75500         540.00000\n",
      "max     1299.97000    1429.96700   1949.95500         720.00000\n",
      "std      119.87078     138.82030    394.60021         241.50604\n",
      "\n",
      "barrier_price       rebate  dividend_rate  risk_free_rate        theta  \\\n",
      "count   349164.00000 349164.00000   349164.00000    349164.00000 349164.00000\n",
      "mean        61.68386      0.00000        0.02461         0.04000      0.07137\n",
      "min          0.00008      0.00000        0.02231         0.04000      0.05525\n",
      "25%         12.33706      0.00000        0.02278         0.04000      0.05880\n",
      "50%         50.82869      0.00000        0.02357         0.04000      0.06219\n",
      "75%        101.21758      0.00000        0.02438         0.04000      0.06557\n",
      "max        248.25468      0.00000        0.03255         0.04000      0.13214\n",
      "std         53.51662      0.00000        0.00273         0.00000      0.02387\n",
      "\n",
      "kappa          rho          eta           v0  \\\n",
      "count 349164.00000 349164.00000 349164.00000 349164.00000\n",
      "mean       4.87666     -0.81060      0.39620      0.11266\n",
      "min        1.52114     -1.00000      0.16478      0.02683\n",
      "25%        2.33282     -1.00000      0.17287      0.04064\n",
      "50%        3.47328     -0.99975      0.28088      0.06022\n",
      "75%        7.89337     -0.63469      0.39647      0.14821\n",
      "max       11.87783     -0.24433      1.52388      0.37980\n",
      "std        3.10325      0.25606      0.32672      0.08981\n",
      "\n",
      "calculation_date                expiration_date  \\\n",
      "count                         349164                         349164\n",
      "mean   2008-09-18 12:35:24.590163712  2009-08-09 12:35:24.590163712\n",
      "min              2008-08-13 00:00:00            2008-10-12 00:00:00\n",
      "25%              2008-09-03 00:00:00            2008-12-19 00:00:00\n",
      "50%              2008-09-12 00:00:00            2009-06-25 12:00:00\n",
      "75%              2008-09-26 00:00:00            2010-03-06 00:00:00\n",
      "max              2008-11-14 00:00:00            2010-11-04 00:00:00\n",
      "std                              NaN                            NaN\n",
      "\n",
      "observed_price\n",
      "count    349164.00000\n",
      "mean         61.68618\n",
      "min           0.00000\n",
      "25%          12.34391\n",
      "50%          50.83952\n",
      "75%         101.20815\n",
      "max         248.45746\n",
      "std          53.51435\n",
      "\n",
      "spot_price                  float64\n",
      "strike_price                float64\n",
      "barrier                     float64\n",
      "days_to_maturity              int64\n",
      "barrier_price               float64\n",
      "updown                       object\n",
      "outin                        object\n",
      "w                            object\n",
      "barrier_type_name            object\n",
      "rebate                      float64\n",
      "dividend_rate               float64\n",
      "risk_free_rate              float64\n",
      "theta                       float64\n",
      "kappa                       float64\n",
      "rho                         float64\n",
      "eta                         float64\n",
      "v0                          float64\n",
      "calculation_date     datetime64[ns]\n",
      "expiration_date      datetime64[ns]\n",
      "observed_price              float64\n",
      "dtype: object\n",
      "in sample results:\n",
      "RMSE: 4.275308721656071\n",
      "MAE: 3.062717049613921\n",
      "\n",
      "out of sample results:\n",
      "RMSE: 15.109635871756026\n",
      "MAE: 8.376259709507607\n",
      "\n",
      "features:\n",
      "spot_price\n",
      "strike_price\n",
      "days_to_maturity\n",
      "risk_free_rate\n",
      "dividend_rate\n",
      "kappa\n",
      "theta\n",
      "rho\n",
      "eta\n",
      "v0\n",
      "barrier\n",
      "barrier_type_name\n",
      "w\n",
      "\n",
      "target: observed_price\n",
      "\n",
      "cpu: 136.97194385528564\n",
      "Wed Oct  9 16:32:20 2024\n"
     ]
    }
   ],
   "source": [
    "with open(spec_path, \"r\") as specs:\n",
    "    for line in specs:\n",
    "        print(line.strip())"
   ]
  },
  {
   "cell_type": "code",
   "execution_count": 18,
   "id": "b6b4798a-2a53-45e5-8090-268876a6a7fc",
   "metadata": {},
   "outputs": [
    {
     "data": {
      "text/plain": [
       "'E:\\\\git\\\\machine-learning-option-pricing\\\\trained_models\\\\trained_models\\\\2024_10_09 16-32-20 Deep Neural Network OnlyOuts'"
      ]
     },
     "execution_count": 18,
     "metadata": {},
     "output_type": "execute_result"
    }
   ],
   "source": [
    "model_path"
   ]
  },
  {
   "cell_type": "code",
   "execution_count": 19,
   "id": "6963be62-331b-41f8-997f-cce11f301fe1",
   "metadata": {},
   "outputs": [
    {
     "data": {
      "text/plain": [
       "['2024_10_09 16-32-20 Deep Neural Network OnlyOuts insample.csv',\n",
       " '2024_10_09 16-32-20 Deep Neural Network OnlyOuts outsample.csv',\n",
       " '2024_10_09 16-32-20 Deep Neural Network OnlyOuts.pkl',\n",
       " '2024_10_09 16-32-20 Deep Neural Network OnlyOuts.txt']"
      ]
     },
     "execution_count": 19,
     "metadata": {},
     "output_type": "execute_result"
    }
   ],
   "source": [
    "model_files"
   ]
  },
  {
   "cell_type": "code",
   "execution_count": null,
   "id": "74bcc688-02b2-4d31-8006-34ffe08bd416",
   "metadata": {},
   "outputs": [],
   "source": [
    "outsample_path = os.path.join(model_path,[file for file in model_files if file.find('outsample') != -1][0])\n",
    "outsample = pd.read_csv(outsample_path).iloc[:,1:]\n",
    "outsample"
   ]
  },
  {
   "cell_type": "markdown",
   "id": "fd86083b-98aa-41db-b0eb-de633e316c3d",
   "metadata": {},
   "source": [
    "# Test Model"
   ]
  },
  {
   "cell_type": "code",
   "execution_count": null,
   "id": "f5fd9994-2cb6-47e7-817b-ff7142ece932",
   "metadata": {},
   "outputs": [],
   "source": [
    "maturities = outsample['days_to_maturity'].unique().tolist()\n",
    "barrier_type_names = outsample['barrier_type_name'].unique().tolist()\n",
    "ws = outsample['w'].unique().tolist()\n",
    "print(f\"\\nmaturities:\\n     maturities = {maturities}\")\n",
    "print(f\"\\ntypes:\\n     barrier_type_names = {barrier_type_names}\\n     ws = {ws}\\n\")"
   ]
  },
  {
   "cell_type": "code",
   "execution_count": null,
   "id": "26a98412-cbf1-4bfe-ac10-7bc0278d1894",
   "metadata": {},
   "outputs": [],
   "source": [
    "by_wbt = outsample.copy().set_index(['w','barrier_type_name','days_to_maturity']).sort_index()"
   ]
  },
  {
   "cell_type": "code",
   "execution_count": null,
   "id": "9f0cde77-b6db-4a60-89ce-b3d01b97ba2d",
   "metadata": {},
   "outputs": [],
   "source": [
    "RMSE = pd.DataFrame(\n",
    "    np.zeros((len(maturities),len(barrier_type_names)),dtype=float),\n",
    "    columns = barrier_type_names,\n",
    "    index = maturities\n",
    ")\n",
    "\n",
    "for t in maturities:\n",
    "    for b in barrier_type_names:\n",
    "        RMSE.loc[t,b] = np.sqrt(np.average((by_wbt.loc[(slice(None), b, t),'outofsample_error'])**2))\n",
    "print(f\"\\nRMSE:\\n{RMSE}\")"
   ]
  },
  {
   "cell_type": "code",
   "execution_count": null,
   "id": "ba16d6ea-b7bb-4912-bb95-02beb3909bb3",
   "metadata": {},
   "outputs": [],
   "source": [
    "MAE = pd.DataFrame(\n",
    "    np.zeros((len(maturities),len(barrier_type_names)),dtype=float),\n",
    "    index = maturities,\n",
    "    columns = barrier_type_names\n",
    ")\n",
    "for t in maturities:\n",
    "    for b in barrier_type_names:\n",
    "        MAE.loc[t,b] = np.average(np.abs(by_wbt.loc[(slice(None), b, t),'outofsample_error']))\n",
    "print(f\"\\nMAE:\\n{MAE}\")"
   ]
  },
  {
   "cell_type": "code",
   "execution_count": null,
   "id": "1897e083-211e-4582-8300-e8071d0c12a2",
   "metadata": {},
   "outputs": [],
   "source": [
    "plt.figure()\n",
    "for b in barrier_type_names:\n",
    "    plt.plot(MAE.loc[:, b], label=b)\n",
    "plt.xlabel('maturities in days')\n",
    "plt.ylabel('RMSE')\n",
    "plt.legend()\n",
    "plt.show()\n",
    "plt.close()"
   ]
  },
  {
   "cell_type": "code",
   "execution_count": null,
   "id": "96f3b859-d7a2-4471-bd0d-ae90522f8669",
   "metadata": {},
   "outputs": [],
   "source": [
    "errors_bypayoff = {}\n",
    "for w in ws:\n",
    "    errors = {}\n",
    "    print(\n",
    "        f\"\\n         {'#'*(len(w)+5)}\"\n",
    "        f\"\\n         # {w}s #\"\n",
    "        f\"\\n         {'#'*(len(w)+5)}\"\n",
    "    )\n",
    "    RMSE = pd.DataFrame(\n",
    "        np.zeros((len(maturities),len(barrier_type_names)),dtype=float),\n",
    "        columns = barrier_type_names\n",
    "        )\n",
    "    RMSE[w] = maturities\n",
    "    RMSE = RMSE.set_index(w,drop=True)\n",
    "    for t in maturities:\n",
    "        for b in barrier_type_names:\n",
    "            RMSE.loc[t,b] = np.sqrt(np.average((by_wbt.loc[(w, b, t),'outofsample_error'])**2))\n",
    "    print(f\"RMSE:\\n{RMSE}\")\n",
    "    errors['RMSE'] = RMSE\n",
    "    \n",
    "\n",
    "\n",
    "    MAE = pd.DataFrame(\n",
    "        np.zeros((len(maturities),len(barrier_type_names)),dtype=float),\n",
    "        columns = barrier_type_names\n",
    "    )\n",
    "    MAE[w] = maturities\n",
    "    MAE = MAE.set_index(w,drop=True)\n",
    "    for t in maturities:\n",
    "        for b in barrier_type_names:\n",
    "            MAE.loc[t,b] = np.average(np.abs(by_wbt.loc[(w, b, t),'outofsample_error']))\n",
    "    print(f\"MAE:\\n{MAE}\")\n",
    "    errors['MAE'] = MAE\n",
    "\n",
    "    errors_bypayoff[w] = errors\n",
    "    print(\"\\n\\n\")"
   ]
  },
  {
   "cell_type": "code",
   "execution_count": null,
   "id": "1009d3ad-6ef6-42ee-b124-24b020aa6a3a",
   "metadata": {},
   "outputs": [],
   "source": [
    "barrier_type_names"
   ]
  },
  {
   "cell_type": "code",
   "execution_count": null,
   "id": "4598549c-c53f-4821-a309-81f39c78dd32",
   "metadata": {},
   "outputs": [],
   "source": [
    "for w, errors in errors_bypayoff.items():\n",
    "    for b in barrier_type_names: \n",
    "        print(errors['MAE'])"
   ]
  },
  {
   "cell_type": "code",
   "execution_count": null,
   "id": "c3f9481c-31c5-43f3-aff0-7b6beb9ff0d8",
   "metadata": {},
   "outputs": [],
   "source": [
    "plt.figure()\n",
    "for w, errors in errors_bypayoff.items():\n",
    "    for b in barrier_type_names: \n",
    "        MAE = errors['MAE'][b]\n",
    "        plt.plot(\n",
    "            MAE.sort_values(), label=f\"{b} {w}s \",\n",
    "        )\n",
    "plt.legend(loc='best')\n",
    "plt.show()\n",
    "plt.close()"
   ]
  },
  {
   "cell_type": "code",
   "execution_count": null,
   "id": "12fdbb75-7e5c-4664-80d1-ca29e5521878",
   "metadata": {},
   "outputs": [],
   "source": [
    "end_time = time.time()\n",
    "runtime = end_time - start_time\n",
    "print(f\"cpu: {runtime}\")"
   ]
  }
 ],
 "metadata": {
  "kernelspec": {
   "display_name": "Python 3 (ipykernel)",
   "language": "python",
   "name": "python3"
  },
  "language_info": {
   "codemirror_mode": {
    "name": "ipython",
    "version": 3
   },
   "file_extension": ".py",
   "mimetype": "text/x-python",
   "name": "python",
   "nbconvert_exporter": "python",
   "pygments_lexer": "ipython3",
   "version": "3.12.7"
  }
 },
 "nbformat": 4,
 "nbformat_minor": 5
}
