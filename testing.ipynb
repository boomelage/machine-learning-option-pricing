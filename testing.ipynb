{
 "cells": [
  {
   "cell_type": "code",
   "execution_count": 3,
   "id": "6176769e-ecd5-48c0-8101-aefbbf1c906d",
   "metadata": {},
   "outputs": [],
   "source": [
    "import os\n",
    "import pandas as pd\n",
    "import numpy as np\n",
    "import matplotlib.pyplot as plt\n",
    "from pathlib import Path\n",
    "pd.set_option('display.float_format', '{:.6f}'.format)"
   ]
  },
  {
   "cell_type": "markdown",
   "id": "0083861f-2c9c-4675-a4bf-c685939b59f6",
   "metadata": {},
   "source": [
    "# Import Model"
   ]
  },
  {
   "cell_type": "code",
   "execution_count": 4,
   "id": "6fb60afc-ba16-4768-933e-f5b353dda074",
   "metadata": {},
   "outputs": [
    {
     "data": {
      "text/plain": [
       "'E:\\\\git\\\\machine-learning-option-pricing'"
      ]
     },
     "execution_count": 4,
     "metadata": {},
     "output_type": "execute_result"
    }
   ],
   "source": [
    "jupyter_dir = os.path.abspath(str(Path()))\n",
    "jupyter_dir"
   ]
  },
  {
   "cell_type": "code",
   "execution_count": 5,
   "id": "7a80bd33-fd82-4d4f-9e9b-4138f279af96",
   "metadata": {},
   "outputs": [
    {
     "name": "stdout",
     "output_type": "stream",
     "text": [
      "0   2024_10_24 17-21-39 Deep Neural Network 7RMSE\n",
      "1   2024_10_24 17-31-33 Deep Neural Network 50RMSE\n"
     ]
    }
   ],
   "source": [
    "models_path = os.path.join(jupyter_dir,'trained_models','trained_models')\n",
    "models = os.listdir(models_path)\n",
    "for i, path in enumerate(models):\n",
    "    print(f\"{i}   {path}\")"
   ]
  },
  {
   "cell_type": "code",
   "execution_count": 6,
   "id": "cbc8c764-60f4-4d9d-a282-59b4a93917bc",
   "metadata": {},
   "outputs": [
    {
     "data": {
      "text/plain": [
       "'2024_10_24 17-31-33 Deep Neural Network 50RMSE'"
      ]
     },
     "execution_count": 6,
     "metadata": {},
     "output_type": "execute_result"
    }
   ],
   "source": [
    "model = models[1]\n",
    "model"
   ]
  },
  {
   "cell_type": "code",
   "execution_count": 7,
   "id": "bdf95fb7-76a0-43bf-9449-13c42c404812",
   "metadata": {},
   "outputs": [],
   "source": [
    "model_path = os.path.join(models_path,model)"
   ]
  },
  {
   "cell_type": "code",
   "execution_count": 8,
   "id": "474beaf4-9cdc-47c3-983d-cca07d043e3f",
   "metadata": {},
   "outputs": [
    {
     "data": {
      "text/plain": [
       "['.ipynb_checkpoints',\n",
       " '2024_10_24 17-31-33 Deep Neural Network 50RMSE insample.csv',\n",
       " '2024_10_24 17-31-33 Deep Neural Network 50RMSE outsample.csv',\n",
       " '2024_10_24 17-31-33 Deep Neural Network 50RMSE.pkl',\n",
       " '2024_10_24 17-31-33 Deep Neural Network 50RMSE.txt']"
      ]
     },
     "execution_count": 8,
     "metadata": {},
     "output_type": "execute_result"
    }
   ],
   "source": [
    "model_files = os.listdir(model_path)\n",
    "model_files"
   ]
  },
  {
   "cell_type": "code",
   "execution_count": 9,
   "id": "c244e9dd-f898-43a7-876f-f51df8f80157",
   "metadata": {},
   "outputs": [],
   "source": [
    "spec_path = os.path.join(model_path,[file for file in model_files if file.endswith('.txt')][0])"
   ]
  },
  {
   "cell_type": "code",
   "execution_count": 10,
   "id": "72cbbc52-d5d0-4024-a89e-c11e1e749f50",
   "metadata": {},
   "outputs": [],
   "source": [
    "import joblib"
   ]
  },
  {
   "cell_type": "code",
   "execution_count": 11,
   "id": "e97eff4b-339f-47c6-aebb-7b0fd5061b77",
   "metadata": {},
   "outputs": [],
   "source": [
    "model_fit = joblib.load(os.path.join(model_path,[file for file in model_files if file.endswith('.pkl')][0]))"
   ]
  },
  {
   "cell_type": "code",
   "execution_count": 12,
   "id": "1632bb15-9412-4548-8a1a-d1d1381dad10",
   "metadata": {
    "scrolled": true
   },
   "outputs": [
    {
     "name": "stdout",
     "output_type": "stream",
     "text": [
      "Thu Oct 24 17:26:41 2024\n",
      "spot(s):\n",
      "[1374.2  1377.99 1386.77 1386.98 1387.16 1391.82 1392.05 1395.15 1399.96\n",
      "1401.5  1401.77 1402.74 1403.05 1406.48 1406.64 1409.82 1410.74 1412.12\n",
      "1412.71 1414.71 1416.59 1416.97 1418.28 1420.46 1420.83 1422.42 1422.43\n",
      "1423.07 1423.8  1424.27 1424.44 1426.09 1428.02 1428.7  1428.81 1430.36\n",
      "1430.59 1430.69 1431.78 1433.55 1434.56 1434.69 1436.11 1437.38 1437.45\n",
      "1438.07 1438.45 1438.91 1439.15 1439.97 1443.66 1444.24 1444.47 1445.71\n",
      "1447.04 1447.77 1447.89 1448.38 1448.46 1449.6  1449.93 1451.23 1452.78\n",
      "1455.05 1455.51 1456.3  1456.93 1457.51 1459.53 1468.23 1470.62 1471.33\n",
      "1472.32 1480.49 1481.12 1482.47 1484.4  1486.09 1491.66 1494.22 1494.32\n",
      "1495.27 1496.   1501.4  1502.3  1503.36 1505.49 1506.   1507.68 1507.84\n",
      "1509.13 1512.52 1512.61 1513.95 1515.75 1522.16 1522.51 1523.96 1524.84]\n",
      "\n",
      "strikes:\n",
      "[1236.78    1240.191   1248.093   1248.282   1248.444   1252.638\n",
      "1252.845   1255.635   1259.964   1261.35    1261.593   1262.466\n",
      "1262.745   1265.832   1265.976   1268.838   1269.666   1270.908\n",
      "1271.135   1271.439   1273.239   1274.64075 1274.931   1275.273\n",
      "1276.452   1278.414   1278.747   1280.178   1280.187   1280.763\n",
      "1281.42    1281.843   1281.996   1282.76225 1282.9565  1283.123\n",
      "1283.481   1285.218   1285.83    1285.929   1287.324   1287.4335\n",
      "1287.531   1287.621   1287.64625 1288.602   1290.195   1290.51375\n",
      "1291.104   1291.221   1292.499   1293.642   1293.705   1294.263\n",
      "1294.605   1294.963   1295.019   1295.235   1295.973   1296.3875\n",
      "1296.63725 1297.5345  1297.82125 1299.294   1299.816   1300.023\n",
      "1300.994   1301.139   1301.142   1302.336   1302.993   1303.101\n",
      "1303.542   1303.614   1304.0835  1304.64    1304.9345  1304.937\n",
      "1305.49    1306.107   1306.211   1306.75675 1307.502   1308.60675\n",
      "1309.0905  1309.545   1309.959   1310.34575 1310.67    1310.69725\n",
      "1311.237   1311.759   1311.909   1313.577   1313.9255  1314.26775\n",
      "1315.7385  1315.74775 1316.33975 1317.015   1317.4315  1317.44975\n",
      "1317.607   1317.631   1317.802   1319.13325 1320.9185  1321.407\n",
      "1321.5475  1321.64925 1322.229   1322.4475  1323.083   1323.29575\n",
      "1323.38825 1323.558   1324.197   1324.3965  1325.088   1325.3925\n",
      "1326.03375 1326.968   1327.08825 1328.40175 1329.5765  1329.64125\n",
      "1329.962   1330.21475 1330.56625 1330.99175 1331.21375 1331.425\n",
      "1331.6815  1331.97225 1332.441   1332.603   1332.8975  1333.008\n",
      "1334.223   1335.3855  1335.922   1335.96    1336.13475 1336.156\n",
      "1336.308   1337.28175 1337.481   1338.512   1339.18725 1339.29825\n",
      "1339.329   1339.7515  1339.8255  1339.845   1340.203   1340.88\n",
      "1341.18525 1341.514   1342.0745  1342.38775 1342.494   1343.54025\n",
      "1343.8215  1343.9745  1344.798   1344.888   1345.743   1345.7605\n",
      "1345.92125 1346.1215  1346.34675 1346.4     1347.0775  1347.366\n",
      "1347.66025 1348.19675 1349.437   1349.7885  1350.06525 1351.26\n",
      "1351.299   1351.3085  1351.9165  1352.07    1352.10075 1352.3055\n",
      "1352.481   1352.61    1353.024   1353.0565  1353.218   1354.7855\n",
      "1354.941   1355.4     1356.619   1356.912   1357.0245  1357.056\n",
      "1357.24875 1357.265   1357.3695  1358.11275 1358.217   1358.842\n",
      "1359.0605  1359.1555  1360.191   1360.27125 1360.3235  1360.98025\n",
      "1361.268   1361.349   1361.8725  1361.896   1362.555   1362.832\n",
      "1362.9555  1364.175   1364.3045  1364.961   1365.511   1365.5775\n",
      "1366.1665  1366.4625  1366.5275  1366.72575 1366.9645  1367.1925\n",
      "1367.6715  1367.9715  1367.97375 1369.45325 1369.944   1370.036\n",
      "1370.259   1371.28475 1371.318   1371.474   1371.477   1371.564\n",
      "1372.028   1372.2465  1372.356   1373.07    1373.4245  1374.2\n",
      "1374.5745  1374.63325 1374.688   1375.3815  1375.4715  1375.4955\n",
      "1375.961   1376.037   1376.817   1377.12    1377.39225 1377.4335\n",
      "1377.99    1378.6685  1379.34225 1379.7855  1380.141   1381.17525\n",
      "1381.54575 1382.1535  1382.246   1382.2975  1382.7345  1382.823\n",
      "1383.12475 1383.485   1383.8     1384.0835  1384.6345  1384.9485\n",
      "1385.30925 1386.5535  1386.77    1386.8595  1386.86925 1386.98\n",
      "1387.16    1387.49325 1388.205   1388.66325 1388.795   1388.829\n",
      "1389.6275  1390.43775 1390.608   1391.82    1392.05    1392.3195\n",
      "1392.57825 1392.9825  1393.05    1393.08975 1394.601   1394.604\n",
      "1394.752   1394.8185  1394.82525 1394.92275 1395.15    1395.94525\n",
      "1395.9855  1397.089   1397.71125 1397.7635  1398.696   1398.704\n",
      "1398.82275 1399.081   1399.16425 1399.96    1400.20725 1400.40375\n",
      "1401.4455  1401.5     1401.51375 1401.77    1402.06875 1402.11825\n",
      "1402.48875 1402.74    1402.93725 1403.05    1403.17125 1403.97075\n",
      "1406.4655  1406.48    1406.64    1407.064   1407.5685  1407.998\n",
      "1408.134   1408.32175 1408.3465  1408.35825 1408.555   1409.56725\n",
      "1409.663   1409.82    1410.18    1410.477   1410.74    1410.864\n",
      "1411.57575 1411.69275 1411.7855  1412.12    1412.1705  1412.2485\n",
      "1412.43975 1412.71    1413.36    1413.68175 1414.71    1414.94925\n",
      "1416.4605  1416.59    1416.97    1417.077   1418.28    1418.67375\n",
      "1419.12225 1419.509   1419.604   1419.8925  1420.46    1420.5065\n",
      "1420.50675 1420.83    1421.07225 1421.2     1421.43925 1421.6545\n",
      "1421.839   1422.42    1422.43    1423.04175 1423.07    1423.8\n",
      "1424.27    1424.44    1426.09    1426.33    1426.6155  1426.85125\n",
      "1427.185   1428.02    1428.192   1428.7     1428.81    1430.02875\n",
      "1430.2155  1430.36    1430.59    1430.69    1430.7     1431.52425\n",
      "1431.78    1432.296   1432.448   1433.55    1433.6735  1433.8545\n",
      "1434.54675 1434.56    1434.69    1434.959   1435.512   1436.11\n",
      "1436.5375  1436.81425 1436.894   1436.9795  1437.38    1437.45\n",
      "1437.8085  1438.07    1438.12625 1438.2525  1438.45    1438.91\n",
      "1439.15    1439.9625  1439.97    1441.642   1441.806   1442.91\n",
      "1443.47775 1443.66    1444.092   1444.24    1444.47    1445.0655\n",
      "1445.40825 1445.71    1446.0085  1446.052   1446.3845  1446.8895\n",
      "1447.04    1447.29    1447.423   1447.762   1447.77    1447.89\n",
      "1448.02775 1448.38    1448.46    1448.598   1448.93775 1449.6\n",
      "1449.93    1450.07775 1451.23    1452.00475 1452.39425 1452.78\n",
      "1453.737   1454.3685  1455.05    1455.51    1455.9715  1456.1085\n",
      "1456.3     1456.329   1456.35075 1456.518   1456.8645  1456.93\n",
      "1456.962   1457.51    1457.88825 1457.9805  1457.99075 1458.6\n",
      "1458.64675 1459.395   1459.53    1459.87675 1460.051   1461.411\n",
      "1461.6525  1461.74225 1463.7205  1463.865   1464.4175  1464.53025\n",
      "1464.7425  1464.9075  1465.776   1466.119   1466.35475 1466.45725\n",
      "1467.5745  1467.85275 1468.23    1468.35    1469.38875 1469.958\n",
      "1469.988   1470.144   1470.424   1470.55725 1470.62    1471.33\n",
      "1471.40175 1471.575   1471.8585  1472.01275 1472.32    1472.877\n",
      "1473.2025  1473.3145  1473.38625 1474.02175 1474.41125 1474.707\n",
      "1474.79475 1474.88275 1475.12875 1475.96925 1476.10125 1476.804\n",
      "1476.972   1477.265   1477.85625 1479.7515  1480.311   1480.346\n",
      "1480.49    1480.58175 1481.12    1481.277   1481.33925 1481.85275\n",
      "1482.47    1482.726   1483.216   1483.3455  1483.96425 1484.08725\n",
      "1484.106   1484.4     1484.44725 1484.5895  1484.6715  1485.4455\n",
      "1485.84    1485.861   1486.09    1486.17825 1486.719   1487.4195\n",
      "1487.51075 1487.8185  1489.0995  1489.194   1490.77775 1491.0035\n",
      "1491.197   1491.42625 1491.483   1491.66    1491.8715  1491.89775\n",
      "1492.7075  1493.35325 1493.541   1493.5515  1493.94775 1494.22\n",
      "1494.2235  1494.32    1494.99    1495.27    1495.4835  1495.662\n",
      "1496.      1496.01825 1496.2065  1496.45375 1497.3945  1499.421\n",
      "1499.78625 1500.135   1500.2505  1501.4     1501.878   1502.1195\n",
      "1502.2245  1502.3     1503.36    1503.369   1504.93575 1504.957\n",
      "1505.2275  1505.49    1506.      1506.288   1506.4245  1506.6125\n",
      "1506.90275 1507.3855  1507.68    1507.84    1507.9155  1507.9455\n",
      "1508.11325 1508.27875 1509.128   1509.13    1509.249   1509.3225\n",
      "1509.9735  1510.3725  1510.8555  1511.1075  1511.62    1511.966\n",
      "1511.9685  1512.138   1512.52    1512.61    1513.95    1515.5565\n",
      "1515.75    1515.789   1515.843   1516.452   1516.5455  1516.6935\n",
      "1517.50225 1517.9955  1518.029   1518.148   1518.66325 1519.392\n",
      "1519.53175 1520.1585  1520.2845  1520.799   1520.81325 1520.883\n",
      "1521.51    1522.08    1522.16    1522.4265  1522.51    1522.83425\n",
      "1523.24225 1523.24275 1523.7915  1523.96    1524.651   1524.84\n",
      "1525.419   1525.447   1525.678   1525.876   1526.9945  1527.39225\n",
      "1527.8025  1528.2855  1528.9515  1529.1015  1529.11225 1529.115\n",
      "1529.7765  1529.80025 1530.3855  1530.585   1531.002   1531.09025\n",
      "1531.255   1531.273   1531.5755  1531.678   1532.5065  1532.65175\n",
      "1533.04675 1533.4     1534.665   1535.1215  1535.8525  1535.97075\n",
      "1537.637   1537.88425 1537.99175 1538.935   1539.1635  1539.8575\n",
      "1539.956   1540.944   1541.06625 1541.6415  1541.65    1541.947\n",
      "1542.152   1542.29175 1543.014   1543.12725 1543.355   1543.65\n",
      "1543.81825 1544.151   1544.8965  1545.1835  1545.25875 1545.372\n",
      "1545.536   1545.92525 1545.936   1546.33375 1546.82825 1546.85825\n",
      "1547.08625 1547.128   1547.304   1547.96775 1550.333   1550.42525\n",
      "1550.802   1551.79875 1551.814   1551.9345  1552.558   1552.80525\n",
      "1553.332   1553.64375 1553.981   1554.13825 1554.5145  1555.176\n",
      "1555.568   1556.181   1556.35275 1556.48175 1556.5935  1557.0085\n",
      "1557.0945  1558.249   1558.32    1558.62    1558.667   1558.67475\n",
      "1560.07225 1560.108   1560.214   1560.3945  1560.57275 1561.7385\n",
      "1562.059   1562.506   1562.913   1562.961   1564.17875 1564.662\n",
      "1564.673   1564.67325 1565.377   1565.5225  1566.18    1566.19975\n",
      "1566.243   1566.697   1566.82325 1566.884   1568.699   1568.931\n",
      "1568.99475 1569.036   1570.0335  1570.8     1570.822   1571.57\n",
      "1571.691   1573.396   1573.649   1573.759   1574.958   1576.47\n",
      "1576.905   1577.415   1578.016   1578.159   1578.34725 1578.528\n",
      "1579.721   1580.7645  1580.9165  1581.118   1581.195   1581.3\n",
      "1581.67975 1581.877   1582.295   1582.744   1582.801   1583.064\n",
      "1583.065   1583.232   1583.967   1584.5865  1588.026   1588.146\n",
      "1588.2405  1588.664   1588.917   1589.6475  1590.281   1591.52675\n",
      "1591.5375  1591.744   1592.204   1592.547   1592.679   1593.218\n",
      "1593.306   1593.65525 1594.56    1594.923   1595.73    1596.353\n",
      "1597.54675 1598.058   1598.268   1598.6355  1600.158   1600.555\n",
      "1601.061   1601.082   1601.93    1602.623   1603.261   1603.5345\n",
      "1605.483   1606.2865  1606.394   1607.41525 1608.2     1614.005\n",
      "1614.9725  1615.053   1616.112   1617.682   1618.40175 1618.463\n",
      "1618.95    1619.552   1620.756   1620.928   1622.31475 1625.959\n",
      "1626.05575 1627.49625 1628.539   1629.232   1629.43125 1630.717\n",
      "1632.84    1634.699   1636.322   1636.69825 1638.257   1639.203\n",
      "1640.826   1643.642   1643.752   1644.797   1645.6     1651.54\n",
      "1652.53    1653.696   1656.039   1656.6     1658.448   1658.624\n",
      "1660.043   1663.772   1663.871   1665.345   1667.325   1674.376\n",
      "1674.761   1676.356   1677.324  ]\n",
      "\n",
      "maturities:\n",
      "[ 60  90 180 360 540 720]\n",
      "\n",
      "types:\n",
      "['call' 'put']\n",
      "\n",
      "['DownOut' 'DownIn' 'UpOut' 'UpIn']\n",
      "averaging_type:\n",
      "number of calls, puts:\n",
      "108000,108000\n",
      "\n",
      "total prices:\n",
      "216000\n",
      "Deep Neural Network\n",
      "hidden layers sizes: (13, 13, 13)\n",
      "learning rate: adaptive\n",
      "activation: relu\n",
      "solver: sgd\n",
      "alpha: 0.0001\n",
      "#################\n",
      "# training data #\n",
      "#################\n",
      "spot_price  strike_price      barrier  days_to_maturity       rebate  \\\n",
      "count 216000.00000  216000.00000 216000.00000      216000.00000 216000.00000\n",
      "mean    1448.21660    1448.21660   1448.21660         325.00000      0.00000\n",
      "min     1374.20000    1236.78000    687.10000          60.00000      0.00000\n",
      "25%     1422.02250    1366.38850   1074.83944          90.00000      0.00000\n",
      "50%     1441.81500    1447.35650   1442.33045         270.00000      0.00000\n",
      "75%     1480.64750    1528.45200   1808.32009         540.00000      0.00000\n",
      "max     1524.84000    1677.32400   2287.26000         720.00000      0.00000\n",
      "std       38.62485     101.17814    448.28530         241.50625      0.00000\n",
      "\n",
      "dividend_rate  risk_free_rate        theta        kappa          rho  \\\n",
      "count   216000.00000    216000.00000 216000.00000 216000.00000 216000.00000\n",
      "mean         0.01864         0.04000      0.03449      1.54806     -0.91300\n",
      "min          0.01780         0.04000      0.01992      0.03970     -1.00000\n",
      "25%          0.01813         0.04000      0.02178      0.67606     -1.00000\n",
      "50%          0.01859         0.04000      0.02431      1.05762     -1.00000\n",
      "75%          0.01915         0.04000      0.03114      2.11859     -0.77610\n",
      "max          0.01974         0.04000      0.40505     12.32603     -0.34710\n",
      "std          0.00055         0.00000      0.04006      1.64163      0.15717\n",
      "\n",
      "eta           v0               calculation_date  barrier_price  \\\n",
      "count 216000.00000 216000.00000                         216000   216000.00000\n",
      "mean       0.12996      0.01205  2007-03-16 00:14:23.999999744       38.30084\n",
      "min        0.08818      0.00524            2007-01-03 00:00:00        0.00000\n",
      "25%        0.10263      0.00830            2007-02-07 18:00:00        0.07799\n",
      "50%        0.10901      0.01198            2007-03-15 12:00:00       12.69709\n",
      "75%        0.12649      0.01380            2007-04-20 18:00:00       64.15642\n",
      "max        0.70802      0.03170            2007-05-25 00:00:00      252.11701\n",
      "std        0.08240      0.00497                            NaN       50.26165\n",
      "\n",
      "observed_price\n",
      "count    216000.00000\n",
      "mean         38.30200\n",
      "min           0.00000\n",
      "25%           0.08296\n",
      "50%          12.69626\n",
      "75%          64.14229\n",
      "max         252.15892\n",
      "std          50.26077\n",
      "#############\n",
      "# test data #\n",
      "#############\n",
      "spot_price  strike_price       barrier  days_to_maturity  \\\n",
      "count 3010680.00000 3010680.00000 3010680.00000     3010680.00000\n",
      "mean     1226.75927    1226.75927    1226.75927         323.22910\n",
      "min       676.03000     608.42700     338.01500          60.00000\n",
      "25%      1099.45000    1089.29000     877.77080          90.00000\n",
      "50%      1267.76000    1246.53775    1204.33448         180.00000\n",
      "75%      1370.20000    1380.93150    1528.77308         540.00000\n",
      "max      1565.18000    1721.69800    2347.77000         720.00000\n",
      "std       193.73254     209.66463     429.09777         241.30482\n",
      "\n",
      "rebate  dividend_rate  risk_free_rate         theta  \\\n",
      "count 3010680.00000  3010680.00000   3010680.00000 3010680.00000\n",
      "mean        0.00000        0.02217         0.04000       0.07068\n",
      "min         0.00000        0.01791         0.04000       0.02342\n",
      "25%         0.00000        0.01993         0.04000       0.05322\n",
      "50%         0.00000        0.02159         0.04000       0.06273\n",
      "75%         0.00000        0.02276         0.04000       0.07490\n",
      "max         0.00000        0.03773         0.04000       0.35610\n",
      "std         0.00000        0.00347         0.00000       0.03304\n",
      "\n",
      "kappa           rho           eta            v0  \\\n",
      "count 3010680.00000 3010680.00000 3010680.00000 3010680.00000\n",
      "mean        3.11697      -0.88889       0.22035       0.05459\n",
      "min         0.08326      -1.00000       0.10989       0.00739\n",
      "25%         1.62844      -1.00000       0.16426       0.02066\n",
      "50%         2.41118      -0.99997       0.18868       0.03432\n",
      "75%         4.22586      -0.83105       0.22930       0.05839\n",
      "max        15.99144      -0.18176       1.52882       0.69402\n",
      "std         2.15832       0.18073       0.13079       0.06233\n",
      "\n",
      "calculation_date  barrier_price  observed_price\n",
      "count                        3010680  3010680.00000   3010680.00000\n",
      "mean   2010-03-19 01:36:25.483678208       49.73170        49.73239\n",
      "min              2007-05-29 00:00:00        0.00000         0.00000\n",
      "25%              2008-10-28 00:00:00        1.34306         1.34290\n",
      "50%              2010-03-25 00:00:00       26.55503        26.55704\n",
      "75%              2011-08-11 00:00:00       87.11860        87.11947\n",
      "max              2012-12-31 00:00:00      293.09806       293.07380\n",
      "std                              NaN       55.44691        55.44633\n",
      "\n",
      "spot_price                  float64\n",
      "strike_price                float64\n",
      "barrier                     float64\n",
      "days_to_maturity              int64\n",
      "updown                       object\n",
      "outin                        object\n",
      "w                            object\n",
      "barrier_type_name            object\n",
      "rebate                      float64\n",
      "dividend_rate               float64\n",
      "risk_free_rate              float64\n",
      "theta                       float64\n",
      "kappa                       float64\n",
      "rho                         float64\n",
      "eta                         float64\n",
      "v0                          float64\n",
      "calculation_date     datetime64[ns]\n",
      "barrier_price               float64\n",
      "observed_price              float64\n",
      "dtype: object\n",
      "in sample results:\n",
      "RMSE: 4.698364674058325\n",
      "MAE: 3.0770484563643716\n",
      "\n",
      "out of sample results:\n",
      "RMSE: 50.080127438029955\n",
      "MAE: 20.2497888745519\n",
      "\n",
      "features:\n",
      "spot_price\n",
      "strike_price\n",
      "days_to_maturity\n",
      "risk_free_rate\n",
      "dividend_rate\n",
      "kappa\n",
      "theta\n",
      "rho\n",
      "eta\n",
      "v0\n",
      "barrier\n",
      "barrier_type_name\n",
      "w\n",
      "\n",
      "target: observed_price\n",
      "\n",
      "cpu: 291.321035861969\n",
      "Thu Oct 24 17:31:33 2024\n"
     ]
    }
   ],
   "source": [
    "with open(spec_path, \"r\") as specs:\n",
    "    for line in specs:\n",
    "        print(line.strip())"
   ]
  },
  {
   "cell_type": "code",
   "execution_count": 13,
   "id": "6963be62-331b-41f8-997f-cce11f301fe1",
   "metadata": {},
   "outputs": [
    {
     "data": {
      "text/plain": [
       "['.ipynb_checkpoints',\n",
       " '2024_10_24 17-31-33 Deep Neural Network 50RMSE insample.csv',\n",
       " '2024_10_24 17-31-33 Deep Neural Network 50RMSE outsample.csv',\n",
       " '2024_10_24 17-31-33 Deep Neural Network 50RMSE.pkl',\n",
       " '2024_10_24 17-31-33 Deep Neural Network 50RMSE.txt']"
      ]
     },
     "execution_count": 13,
     "metadata": {},
     "output_type": "execute_result"
    }
   ],
   "source": [
    "model_files"
   ]
  },
  {
   "cell_type": "code",
   "execution_count": 14,
   "id": "74bcc688-02b2-4d31-8006-34ffe08bd416",
   "metadata": {},
   "outputs": [],
   "source": [
    "pd.reset_option(\"display.max_rows\")\n",
    "pd.reset_option(\"display.max_columns\")\n",
    "\n",
    "outsample_path = os.path.join(model_path,[file for file in model_files if file.find('outsample') != -1][0])\n",
    "outsample = pd.read_csv(outsample_path).iloc[:,1:]\n",
    "\n",
    "insample_path = os.path.join(model_path,[file for file in model_files if file.find('insample') != -1][0])\n",
    "insample = pd.read_csv(insample_path).iloc[:,1:]"
   ]
  },
  {
   "cell_type": "markdown",
   "id": "fd86083b-98aa-41db-b0eb-de633e316c3d",
   "metadata": {},
   "source": [
    "# Test Model"
   ]
  },
  {
   "cell_type": "code",
   "execution_count": 15,
   "id": "f5fd9994-2cb6-47e7-817b-ff7142ece932",
   "metadata": {},
   "outputs": [
    {
     "name": "stdout",
     "output_type": "stream",
     "text": [
      "\n",
      "maturities:\n",
      "     maturities = [60, 90, 180, 360, 540, 720]\n",
      "\n",
      "types:\n",
      "     barrier_type_names = ['DownOut', 'DownIn', 'UpOut', 'UpIn']\n",
      "     ws = ['call', 'put']\n",
      "\n"
     ]
    }
   ],
   "source": [
    "maturities = outsample['days_to_maturity'].unique().tolist()\n",
    "barrier_type_names = outsample['barrier_type_name'].unique().tolist()\n",
    "ws = outsample['w'].unique().tolist()\n",
    "print(f\"\\nmaturities:\\n     maturities = {maturities}\")\n",
    "print(f\"\\ntypes:\\n     barrier_type_names = {barrier_type_names}\\n     ws = {ws}\\n\")"
   ]
  },
  {
   "cell_type": "code",
   "execution_count": 16,
   "id": "26a98412-cbf1-4bfe-ac10-7bc0278d1894",
   "metadata": {},
   "outputs": [],
   "source": [
    "by_wbt = outsample.copy().set_index(['w','barrier_type_name','days_to_maturity']).sort_index()"
   ]
  },
  {
   "cell_type": "code",
   "execution_count": 17,
   "id": "9f0cde77-b6db-4a60-89ce-b3d01b97ba2d",
   "metadata": {},
   "outputs": [
    {
     "name": "stdout",
     "output_type": "stream",
     "text": [
      "\n",
      "RMSE:\n",
      "      DownOut    DownIn     UpOut      UpIn\n",
      "60  46.449498 65.533974 72.458526 63.339406\n",
      "90  41.780884 59.634436 66.566788 57.333274\n",
      "180 30.809585 43.554319 49.879528 43.171495\n",
      "360 33.236383 39.550818 47.128125 44.694930\n",
      "540 36.889319 41.516010 49.971563 50.377792\n",
      "720 39.222910 43.549105 51.281533 55.389337\n"
     ]
    }
   ],
   "source": [
    "RMSE = pd.DataFrame(\n",
    "    np.zeros((len(maturities),len(barrier_type_names)),dtype=float),\n",
    "    columns = barrier_type_names,\n",
    "    index = maturities\n",
    ")\n",
    "\n",
    "for t in maturities:\n",
    "    for b in barrier_type_names:\n",
    "        RMSE.loc[t,b] = np.sqrt(np.average((by_wbt.loc[(slice(None), b, t),'outofsample_error'])**2))\n",
    "print(f\"\\nRMSE:\\n{RMSE}\")"
   ]
  },
  {
   "cell_type": "code",
   "execution_count": 18,
   "id": "ba16d6ea-b7bb-4912-bb95-02beb3909bb3",
   "metadata": {},
   "outputs": [
    {
     "name": "stdout",
     "output_type": "stream",
     "text": [
      "\n",
      "MAE:\n",
      "      DownOut    DownIn     UpOut      UpIn\n",
      "60  14.318900 15.079819 17.695323 14.118426\n",
      "90  13.713987 14.211049 16.883650 13.057826\n",
      "180 15.655750 14.262855 17.746454 14.811900\n",
      "360 19.857831 18.182577 21.929279 24.340825\n",
      "540 21.631697 23.098343 26.112764 31.759213\n",
      "720 24.063239 27.536133 28.830288 38.061552\n"
     ]
    }
   ],
   "source": [
    "MAE = pd.DataFrame(\n",
    "    np.zeros((len(maturities),len(barrier_type_names)),dtype=float),\n",
    "    index = maturities,\n",
    "    columns = barrier_type_names\n",
    ")\n",
    "for t in maturities:\n",
    "    for b in barrier_type_names:\n",
    "        MAE.loc[t,b] = np.average(np.abs(by_wbt.loc[(slice(None), b, t),'outofsample_error']))\n",
    "print(f\"\\nMAE:\\n{MAE}\")"
   ]
  },
  {
   "cell_type": "code",
   "execution_count": 19,
   "id": "96f3b859-d7a2-4471-bd0d-ae90522f8669",
   "metadata": {
    "scrolled": true
   },
   "outputs": [
    {
     "name": "stdout",
     "output_type": "stream",
     "text": [
      "\n",
      "         #########\n",
      "         # calls #\n",
      "         #########\n",
      "RMSE:\n",
      "       DownOut    DownIn     UpOut      UpIn\n",
      "call                                        \n",
      "60   52.516165 65.239641 75.046721 68.944305\n",
      "90   47.292479 60.111110 70.133411 61.752649\n",
      "180  34.136247 43.785546 54.805555 45.754568\n",
      "360  34.007634 39.230916 52.492042 50.624920\n",
      "540  36.804557 40.436932 54.787909 59.617616\n",
      "720  38.076481 39.720853 56.307859 67.753345\n",
      "\n",
      "MAE:\n",
      "       DownOut    DownIn     UpOut      UpIn\n",
      "call                                        \n",
      "60   16.922033 11.645190 16.729518 15.330175\n",
      "90   16.900652 11.184310 16.504693 14.128803\n",
      "180  18.298243 10.007825 17.388811 18.432299\n",
      "360  22.801115 11.474321 20.208186 34.727726\n",
      "540  26.320499 14.684992 22.930392 46.587172\n",
      "720  28.715147 17.008547 26.185262 56.294603\n",
      "\n",
      "\n",
      "         ########\n",
      "         # puts #\n",
      "         ########\n",
      "RMSE:\n",
      "      DownOut    DownIn     UpOut      UpIn\n",
      "put                                        \n",
      "60  39.460919 65.826991 69.774391 57.187791\n",
      "90  35.421829 59.153920 62.797922 52.543497\n",
      "180 27.077254 43.321859 44.410424 40.423699\n",
      "360 32.446805 39.868153 41.069526 37.846942\n",
      "540 36.973886 42.567742 44.638539 39.007483\n",
      "720 40.336768 47.067004 45.705756 39.312105\n",
      "\n",
      "MAE:\n",
      "      DownOut    DownIn     UpOut      UpIn\n",
      "put                                        \n",
      "60  11.715766 18.514449 18.661127 12.906677\n",
      "90  10.527323 17.237789 17.262607 11.986849\n",
      "180 13.013257 18.517885 18.104098 11.191500\n",
      "360 16.914547 24.890833 23.650373 13.953923\n",
      "540 16.942895 31.511695 29.295136 16.931254\n",
      "720 19.411332 38.063718 31.475314 19.828501\n",
      "\n"
     ]
    }
   ],
   "source": [
    "errors_bypayoff = {}\n",
    "for w in ws:\n",
    "    errors = {}\n",
    "    print(\n",
    "        f\"\\n         {'#'*(len(w)+5)}\"\n",
    "        f\"\\n         # {w}s #\"\n",
    "        f\"\\n         {'#'*(len(w)+5)}\"\n",
    "    )\n",
    "    RMSE = pd.DataFrame(\n",
    "        np.zeros((len(maturities),len(barrier_type_names)),dtype=float),\n",
    "        columns = barrier_type_names\n",
    "        )\n",
    "    RMSE[w] = maturities\n",
    "    RMSE = RMSE.set_index(w,drop=True)\n",
    "    for t in maturities:\n",
    "        for b in barrier_type_names:\n",
    "            RMSE.loc[t,b] = np.sqrt(np.average((by_wbt.loc[(w, b, t),'outofsample_error'])**2))\n",
    "    print(f\"RMSE:\\n{RMSE}\")\n",
    "    print()\n",
    "    errors['RMSE'] = RMSE\n",
    "    \n",
    "\n",
    "\n",
    "    MAE = pd.DataFrame(\n",
    "        np.zeros((len(maturities),len(barrier_type_names)),dtype=float),\n",
    "        columns = barrier_type_names\n",
    "    )\n",
    "    MAE[w] = maturities\n",
    "    MAE = MAE.set_index(w,drop=True)\n",
    "    for t in maturities:\n",
    "        for b in barrier_type_names:\n",
    "            MAE.loc[t,b] = np.average(np.abs(by_wbt.loc[(w, b, t),'outofsample_error']))\n",
    "    print(f\"MAE:\\n{MAE}\")\n",
    "    print()\n",
    "    errors['MAE'] = MAE\n",
    "    errors_bypayoff[w] = errors"
   ]
  },
  {
   "cell_type": "code",
   "execution_count": 20,
   "id": "d2bdc13e-17f1-426c-b5ad-490083a16ac1",
   "metadata": {},
   "outputs": [],
   "source": [
    "max_MAE = max(errors['MAE'].values.flatten())\n",
    "max_RMSE = max(errors['RMSE'].values.flatten())\n",
    "plot_height = max(max_RMSE,max_MAE)*1.05\n",
    "maturities = errors['MAE'].index.astype(str).tolist()"
   ]
  },
  {
   "cell_type": "code",
   "execution_count": 21,
   "id": "1c7703a4-6b28-4fb3-8d14-4d77960af8f2",
   "metadata": {},
   "outputs": [
    {
     "data": {
      "image/png": "[encoded data removed]",
      "text/plain": [
       "<Figure size 1500x1000 with 8 Axes>"
      ]
     },
     "metadata": {},
     "output_type": "display_data"
    }
   ],
   "source": [
    "fig, axs = plt.subplots(2, 4, figsize=(15,10))\n",
    "bar_width = 0.4\n",
    "i = 0\n",
    "for w, errors in errors_bypayoff.items():\n",
    "    for b in barrier_type_names:\n",
    "\n",
    "        MAE = errors['MAE'][b]\n",
    "        RMSE = errors['RMSE'][b]\n",
    "        x_positions = range(len(maturities))\n",
    "        axs[i // 4, i % 4].grid(True,which='both', linestyle='--', color='gray')\n",
    "        axs[i // 4, i % 4].bar(\n",
    "            [x - 0.5 * bar_width for x in x_positions], MAE, width=bar_width, color='green',label=\"MAE\"\n",
    "        )\n",
    "        \n",
    "        axs[i // 4, i % 4].bar(\n",
    "            [x + 0.5 * bar_width for x in x_positions], RMSE, width=bar_width, color='purple', label=\"RMSE\"\n",
    "        )\n",
    "        axs[i // 4, i % 4].set_title(f'{b} {w}s')\n",
    "        axs[i // 4, i % 4].set_xticks(x_positions)\n",
    "        axs[i // 4, i % 4].set_xticklabels(maturities)\n",
    "        axs[i // 4, i % 4].set_ylim(0, plot_height)\n",
    "        axs[i // 4, i % 4].legend()\n",
    "        i += 1\n",
    "\n",
    "fig.supxlabel('maturities')\n",
    "\n",
    "plt.tight_layout()\n",
    "plt.show()"
   ]
  },
  {
   "cell_type": "code",
   "execution_count": 22,
   "id": "7a2563de-60f9-4ca9-a667-411e09853169",
   "metadata": {},
   "outputs": [],
   "source": [
    "types  = ['DownOut', 'DownIn', 'UpOut', 'UpIn']"
   ]
  },
  {
   "cell_type": "code",
   "execution_count": 23,
   "id": "57a44bce-c7d7-4ca0-b342-e6e7142230be",
   "metadata": {},
   "outputs": [
    {
     "name": "stdout",
     "output_type": "stream",
     "text": [
      "\n",
      "DownOut\n",
      "376425\n",
      "\n",
      "DownIn\n",
      "376245\n",
      "\n",
      "UpOut\n",
      "376425\n",
      "\n",
      "UpIn\n",
      "376245\n"
     ]
    }
   ],
   "source": [
    "for b in types:\n",
    "    print(f\"\\n{b}\")\n",
    "    print(by_wbt.loc[('call',b,slice(None)),:].shape[0])"
   ]
  },
  {
   "cell_type": "code",
   "execution_count": 24,
   "id": "e02d13c1-3482-41ac-8c2c-2881b298f10d",
   "metadata": {},
   "outputs": [
    {
     "name": "stdout",
     "output_type": "stream",
     "text": [
      "\n",
      "DownOut\n",
      "376425\n",
      "\n",
      "DownIn\n",
      "376245\n",
      "\n",
      "UpOut\n",
      "376425\n",
      "\n",
      "UpIn\n",
      "376245\n"
     ]
    }
   ],
   "source": [
    "types  = ['DownOut', 'DownIn', 'UpOut', 'UpIn']\n",
    "for b in types:\n",
    "    print(f\"\\n{b}\")\n",
    "    print(by_wbt.loc[('put',b,slice(None)),:].shape[0])"
   ]
  },
  {
   "cell_type": "code",
   "execution_count": 25,
   "id": "2b37d06a-afee-436b-bb5e-e6508338bc5b",
   "metadata": {},
   "outputs": [],
   "source": [
    "outsample.loc[:,'security_type'] = outsample['w'] + outsample['barrier_type_name']"
   ]
  },
  {
   "cell_type": "code",
   "execution_count": 26,
   "id": "8761f6f4-9b32-4fc2-aca0-954f7df264c4",
   "metadata": {},
   "outputs": [
    {
     "name": "stdout",
     "output_type": "stream",
     "text": [
      "\n",
      "41026614.88816159\n",
      "39974818.68925922\n",
      "\n",
      "45.3947889289395\n"
     ]
    },
    {
     "data": {
      "text/plain": [
       "17.14074000152663"
      ]
     },
     "execution_count": 26,
     "metadata": {},
     "output_type": "execute_result"
    }
   ],
   "source": [
    "down_calls = outsample.copy()[\n",
    "    (\n",
    "        (outsample['w'] == 'call')\n",
    "        &\n",
    "        (outsample['updown'] =='Down')\n",
    "    )\n",
    "]\n",
    "observed_price = np.sum(down_calls['barrier_price'])\n",
    "outofsample_prediction = np.sum(down_calls['outofsample_prediction'])\n",
    "print(f\"\\n{observed_price}\\n{outofsample_prediction}\\n\")\n",
    "RMSE = float(np.sqrt(np.mean(np.array(down_calls['outofsample_prediction']-down_calls['barrier_price'])**2)))\n",
    "print(RMSE)\n",
    "MAE = float(np.average(np.abs(np.array(down_calls['outofsample_prediction']-down_calls['barrier_price']))))\n",
    "MAE"
   ]
  },
  {
   "cell_type": "code",
   "execution_count": 27,
   "id": "d3d0e1a5-f0f3-4d1e-9442-468211c21204",
   "metadata": {},
   "outputs": [
    {
     "name": "stdout",
     "output_type": "stream",
     "text": [
      "\n",
      "33837770.162849724\n",
      "34057496.79112185\n",
      "\n",
      "43.73611682430482\n"
     ]
    },
    {
     "data": {
      "text/plain": [
       "19.732669833831253"
      ]
     },
     "execution_count": 27,
     "metadata": {},
     "output_type": "execute_result"
    }
   ],
   "source": [
    "down_puts = outsample.copy()[\n",
    "    (\n",
    "        (outsample['w'] == 'put')\n",
    "        &\n",
    "        (outsample['updown'] =='Down')\n",
    "    )\n",
    "]\n",
    "observed_price = np.sum(down_puts['barrier_price'])\n",
    "outofsample_prediction = np.sum(down_puts['outofsample_prediction'])\n",
    "print(f\"\\n{observed_price}\\n{outofsample_prediction}\\n\")\n",
    "RMSE = float(np.sqrt(np.mean(np.array(down_puts['outofsample_prediction']-down_puts['barrier_price'])**2)))\n",
    "print(RMSE)\n",
    "MAE = float(np.average(np.abs(np.array(down_puts['outofsample_prediction']-down_puts['barrier_price']))))\n",
    "MAE"
   ]
  },
  {
   "cell_type": "code",
   "execution_count": 28,
   "id": "27e50554-4f4e-49a3-8c3d-944bf7c8f54f",
   "metadata": {},
   "outputs": [
    {
     "name": "stdout",
     "output_type": "stream",
     "text": [
      "\n",
      "41015737.66707724\n",
      "41421364.15697038\n",
      "\n",
      "60.48721252897858\n"
     ]
    },
    {
     "data": {
      "text/plain": [
       "25.38234409906189"
      ]
     },
     "execution_count": 28,
     "metadata": {},
     "output_type": "execute_result"
    }
   ],
   "source": [
    "up_calls = outsample.copy()[\n",
    "    (\n",
    "        (outsample['w'] == 'call')\n",
    "        &\n",
    "        (outsample['updown'] =='Up')\n",
    "    )\n",
    "]\n",
    "observed_price = np.sum(up_calls['barrier_price'])\n",
    "outofsample_prediction = np.sum(up_calls['outofsample_prediction'])\n",
    "print(f\"\\n{observed_price}\\n{outofsample_prediction}\\n\")\n",
    "RMSE = float(np.sqrt(np.mean(np.array(up_calls['outofsample_prediction']-up_calls['barrier_price'])**2)))\n",
    "print(RMSE)\n",
    "MAE = float(np.average(np.abs(np.array(up_calls['outofsample_prediction']-up_calls['barrier_price']))))\n",
    "MAE"
   ]
  },
  {
   "cell_type": "code",
   "execution_count": 29,
   "id": "1341e620-e50b-489f-bc2f-d55b35984e11",
   "metadata": {},
   "outputs": [
    {
     "name": "stdout",
     "output_type": "stream",
     "text": [
      "\n",
      "33846120.79740113\n",
      "35052748.703146026\n",
      "\n",
      "48.988219350559795\n"
     ]
    },
    {
     "data": {
      "text/plain": [
       "18.74256372161419"
      ]
     },
     "execution_count": 29,
     "metadata": {},
     "output_type": "execute_result"
    }
   ],
   "source": [
    "up_puts = outsample.copy()[\n",
    "    (\n",
    "        (outsample['w'] == 'put')\n",
    "        &\n",
    "        (outsample['updown'] =='Up')\n",
    "    )\n",
    "]\n",
    "observed_price = np.sum(up_puts['barrier_price'])\n",
    "outofsample_prediction = np.sum(up_puts['outofsample_prediction'])\n",
    "print(f\"\\n{observed_price}\\n{outofsample_prediction}\\n\")\n",
    "RMSE = float(np.sqrt(np.mean(np.array(up_puts['outofsample_prediction']-up_puts['barrier_price'])**2)))\n",
    "print(RMSE)\n",
    "MAE = float(np.average(np.abs(np.array(up_puts['outofsample_prediction']-up_puts['barrier_price']))))\n",
    "MAE"
   ]
  }
 ],
 "metadata": {
  "kernelspec": {
   "display_name": "Python 3 (ipykernel)",
   "language": "python",
   "name": "python3"
  },
  "language_info": {
   "codemirror_mode": {
    "name": "ipython",
    "version": 3
   },
   "file_extension": ".py",
   "mimetype": "text/x-python",
   "name": "python",
   "nbconvert_exporter": "python",
   "pygments_lexer": "ipython3",
   "version": "3.12.7"
  }
 },
 "nbformat": 4,
 "nbformat_minor": 5
}
