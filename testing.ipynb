{
 "cells": [
  {
   "cell_type": "code",
   "execution_count": 1,
   "id": "6176769e-ecd5-48c0-8101-aefbbf1c906d",
   "metadata": {},
   "outputs": [],
   "source": [
    "import os\n",
    "import modin.pandas as pd\n",
    "import numpy as np\n",
    "import matplotlib.pyplot as plt\n",
    "import time\n",
    "from pathlib import Path\n",
    "import warnings\n",
    "warnings.filterwarnings(\"ignore\", message=\".*defaulting to pandas implementation.*\")\n",
    "pd.set_option('display.float_format', '{:.6f}'.format)\n",
    "start_time = time.time()"
   ]
  },
  {
   "cell_type": "markdown",
   "id": "0083861f-2c9c-4675-a4bf-c685939b59f6",
   "metadata": {},
   "source": [
    "# Import Model"
   ]
  },
  {
   "cell_type": "code",
   "execution_count": 2,
   "id": "6fb60afc-ba16-4768-933e-f5b353dda074",
   "metadata": {},
   "outputs": [
    {
     "data": {
      "text/plain": [
       "'E:\\\\git\\\\machine-learning-option-pricing'"
      ]
     },
     "execution_count": 2,
     "metadata": {},
     "output_type": "execute_result"
    }
   ],
   "source": [
    "jupyter_dir = os.path.abspath(str(Path()))\n",
    "jupyter_dir"
   ]
  },
  {
   "cell_type": "code",
   "execution_count": 3,
   "id": "7a80bd33-fd82-4d4f-9e9b-4138f279af96",
   "metadata": {},
   "outputs": [
    {
     "name": "stdout",
     "output_type": "stream",
     "text": [
      "0   2024_10_09 23-01-12 Deep Neural Network otm\n",
      "1   2024_10_09 23-11-23 Deep Neural Network\n"
     ]
    }
   ],
   "source": [
    "models_path = os.path.join(jupyter_dir,'trained_models','trained_models')\n",
    "models = os.listdir(models_path)\n",
    "for i, path in enumerate(models):\n",
    "    print(f\"{i}   {path}\")"
   ]
  },
  {
   "cell_type": "code",
   "execution_count": 4,
   "id": "cbc8c764-60f4-4d9d-a282-59b4a93917bc",
   "metadata": {},
   "outputs": [
    {
     "data": {
      "text/plain": [
       "'2024_10_09 23-01-12 Deep Neural Network otm'"
      ]
     },
     "execution_count": 4,
     "metadata": {},
     "output_type": "execute_result"
    }
   ],
   "source": [
    "model = models[0]\n",
    "model"
   ]
  },
  {
   "cell_type": "code",
   "execution_count": 5,
   "id": "bdf95fb7-76a0-43bf-9449-13c42c404812",
   "metadata": {},
   "outputs": [],
   "source": [
    "model_path = os.path.join(models_path,model)"
   ]
  },
  {
   "cell_type": "code",
   "execution_count": 6,
   "id": "474beaf4-9cdc-47c3-983d-cca07d043e3f",
   "metadata": {},
   "outputs": [
    {
     "data": {
      "text/plain": [
       "['2024_10_09 23-01-12 Deep Neural Network otm insample.csv',\n",
       " '2024_10_09 23-01-12 Deep Neural Network otm outsample.csv',\n",
       " '2024_10_09 23-01-12 Deep Neural Network otm.pkl',\n",
       " '2024_10_09 23-01-12 Deep Neural Network otm.txt']"
      ]
     },
     "execution_count": 6,
     "metadata": {},
     "output_type": "execute_result"
    }
   ],
   "source": [
    "model_files = os.listdir(model_path)\n",
    "model_files"
   ]
  },
  {
   "cell_type": "code",
   "execution_count": 7,
   "id": "c244e9dd-f898-43a7-876f-f51df8f80157",
   "metadata": {},
   "outputs": [],
   "source": [
    "spec_path = os.path.join(model_path,[file for file in model_files if file.endswith('.txt')][0])"
   ]
  },
  {
   "cell_type": "raw",
   "id": "2f34cf1e-d500-458d-b163-d22ffc4dc79d",
   "metadata": {},
   "source": [
    "with open(spec_path, \"r\") as specs:\n",
    "    for line in specs:\n",
    "        print(line.strip())"
   ]
  },
  {
   "cell_type": "code",
   "execution_count": 8,
   "id": "6963be62-331b-41f8-997f-cce11f301fe1",
   "metadata": {},
   "outputs": [
    {
     "data": {
      "text/plain": [
       "['2024_10_09 23-01-12 Deep Neural Network otm insample.csv',\n",
       " '2024_10_09 23-01-12 Deep Neural Network otm outsample.csv',\n",
       " '2024_10_09 23-01-12 Deep Neural Network otm.pkl',\n",
       " '2024_10_09 23-01-12 Deep Neural Network otm.txt']"
      ]
     },
     "execution_count": 8,
     "metadata": {},
     "output_type": "execute_result"
    }
   ],
   "source": [
    "model_files"
   ]
  },
  {
   "cell_type": "code",
   "execution_count": 9,
   "id": "74bcc688-02b2-4d31-8006-34ffe08bd416",
   "metadata": {},
   "outputs": [
    {
     "ename": "KeyboardInterrupt",
     "evalue": "",
     "output_type": "error",
     "traceback": [
      "\u001b[1;31m---------------------------------------------------------------------------\u001b[0m",
      "\u001b[1;31mKeyboardInterrupt\u001b[0m                         Traceback (most recent call last)",
      "Cell \u001b[1;32mIn[9], line 4\u001b[0m\n\u001b[0;32m      2\u001b[0m pd\u001b[38;5;241m.\u001b[39mreset_option(\u001b[38;5;124m\"\u001b[39m\u001b[38;5;124mdisplay.max_columns\u001b[39m\u001b[38;5;124m\"\u001b[39m)\n\u001b[0;32m      3\u001b[0m outsample_path \u001b[38;5;241m=\u001b[39m os\u001b[38;5;241m.\u001b[39mpath\u001b[38;5;241m.\u001b[39mjoin(model_path,[file \u001b[38;5;28;01mfor\u001b[39;00m file \u001b[38;5;129;01min\u001b[39;00m model_files \u001b[38;5;28;01mif\u001b[39;00m file\u001b[38;5;241m.\u001b[39mfind(\u001b[38;5;124m'\u001b[39m\u001b[38;5;124moutsample\u001b[39m\u001b[38;5;124m'\u001b[39m) \u001b[38;5;241m!=\u001b[39m \u001b[38;5;241m-\u001b[39m\u001b[38;5;241m1\u001b[39m][\u001b[38;5;241m0\u001b[39m])\n\u001b[1;32m----> 4\u001b[0m outsample \u001b[38;5;241m=\u001b[39m \u001b[43mpd\u001b[49m\u001b[38;5;241;43m.\u001b[39;49m\u001b[43mread_csv\u001b[49m\u001b[43m(\u001b[49m\u001b[43moutsample_path\u001b[49m\u001b[43m)\u001b[49m\u001b[38;5;241m.\u001b[39miloc[:,\u001b[38;5;241m1\u001b[39m:]\n\u001b[0;32m      5\u001b[0m outsample\n",
      "File \u001b[1;32mE:\\Python\\Lib\\site-packages\\modin\\utils.py:613\u001b[0m, in \u001b[0;36mexpanduser_path_arg.<locals>.decorator.<locals>.wrapped\u001b[1;34m(*args, **kw)\u001b[0m\n\u001b[0;32m    611\u001b[0m     \u001b[38;5;28;01melif\u001b[39;00m \u001b[38;5;28misinstance\u001b[39m(patharg, Path):\n\u001b[0;32m    612\u001b[0m         params\u001b[38;5;241m.\u001b[39marguments[argname] \u001b[38;5;241m=\u001b[39m patharg\u001b[38;5;241m.\u001b[39mexpanduser()\n\u001b[1;32m--> 613\u001b[0m     \u001b[38;5;28;01mreturn\u001b[39;00m \u001b[43mfunc\u001b[49m\u001b[43m(\u001b[49m\u001b[38;5;241;43m*\u001b[39;49m\u001b[43mparams\u001b[49m\u001b[38;5;241;43m.\u001b[39;49m\u001b[43margs\u001b[49m\u001b[43m,\u001b[49m\u001b[43m \u001b[49m\u001b[38;5;241;43m*\u001b[39;49m\u001b[38;5;241;43m*\u001b[39;49m\u001b[43mparams\u001b[49m\u001b[38;5;241;43m.\u001b[39;49m\u001b[43mkwargs\u001b[49m\u001b[43m)\u001b[49m\n\u001b[0;32m    614\u001b[0m \u001b[38;5;28;01mreturn\u001b[39;00m func(\u001b[38;5;241m*\u001b[39margs, \u001b[38;5;241m*\u001b[39m\u001b[38;5;241m*\u001b[39mkw)\n",
      "File \u001b[1;32mE:\\Python\\Lib\\site-packages\\modin\\logging\\logger_decorator.py:144\u001b[0m, in \u001b[0;36menable_logging.<locals>.decorator.<locals>.run_and_log\u001b[1;34m(*args, **kwargs)\u001b[0m\n\u001b[0;32m    129\u001b[0m \u001b[38;5;250m\u001b[39m\u001b[38;5;124;03m\"\"\"\u001b[39;00m\n\u001b[0;32m    130\u001b[0m \u001b[38;5;124;03mCompute function with logging if Modin logging is enabled.\u001b[39;00m\n\u001b[0;32m    131\u001b[0m \n\u001b[1;32m   (...)\u001b[0m\n\u001b[0;32m    141\u001b[0m \u001b[38;5;124;03mAny\u001b[39;00m\n\u001b[0;32m    142\u001b[0m \u001b[38;5;124;03m\"\"\"\u001b[39;00m\n\u001b[0;32m    143\u001b[0m \u001b[38;5;28;01mif\u001b[39;00m LogMode\u001b[38;5;241m.\u001b[39mget() \u001b[38;5;241m==\u001b[39m \u001b[38;5;124m\"\u001b[39m\u001b[38;5;124mdisable\u001b[39m\u001b[38;5;124m\"\u001b[39m:\n\u001b[1;32m--> 144\u001b[0m     \u001b[38;5;28;01mreturn\u001b[39;00m \u001b[43mobj\u001b[49m\u001b[43m(\u001b[49m\u001b[38;5;241;43m*\u001b[39;49m\u001b[43margs\u001b[49m\u001b[43m,\u001b[49m\u001b[43m \u001b[49m\u001b[38;5;241;43m*\u001b[39;49m\u001b[38;5;241;43m*\u001b[39;49m\u001b[43mkwargs\u001b[49m\u001b[43m)\u001b[49m\n\u001b[0;32m    146\u001b[0m logger \u001b[38;5;241m=\u001b[39m get_logger()\n\u001b[0;32m    147\u001b[0m logger\u001b[38;5;241m.\u001b[39mlog(log_level, start_line)\n",
      "File \u001b[1;32mE:\\Python\\Lib\\site-packages\\modin\\pandas\\io.py:226\u001b[0m, in \u001b[0;36mread_csv\u001b[1;34m(filepath_or_buffer, sep, delimiter, header, names, index_col, usecols, dtype, engine, converters, true_values, false_values, skipinitialspace, skiprows, skipfooter, nrows, na_values, keep_default_na, na_filter, verbose, skip_blank_lines, parse_dates, infer_datetime_format, keep_date_col, date_parser, date_format, dayfirst, cache_dates, iterator, chunksize, compression, thousands, decimal, lineterminator, quotechar, quoting, doublequote, escapechar, comment, encoding, encoding_errors, dialect, on_bad_lines, delim_whitespace, low_memory, memory_map, float_precision, storage_options, dtype_backend)\u001b[0m\n\u001b[0;32m    224\u001b[0m _, _, _, f_locals \u001b[38;5;241m=\u001b[39m inspect\u001b[38;5;241m.\u001b[39mgetargvalues(inspect\u001b[38;5;241m.\u001b[39mcurrentframe())\n\u001b[0;32m    225\u001b[0m kwargs \u001b[38;5;241m=\u001b[39m {k: v \u001b[38;5;28;01mfor\u001b[39;00m k, v \u001b[38;5;129;01min\u001b[39;00m f_locals\u001b[38;5;241m.\u001b[39mitems() \u001b[38;5;28;01mif\u001b[39;00m k \u001b[38;5;129;01min\u001b[39;00m _pd_read_csv_signature}\n\u001b[1;32m--> 226\u001b[0m \u001b[38;5;28;01mreturn\u001b[39;00m \u001b[43m_read\u001b[49m\u001b[43m(\u001b[49m\u001b[38;5;241;43m*\u001b[39;49m\u001b[38;5;241;43m*\u001b[39;49m\u001b[43mkwargs\u001b[49m\u001b[43m)\u001b[49m\n",
      "File \u001b[1;32mE:\\Python\\Lib\\site-packages\\modin\\pandas\\io.py:116\u001b[0m, in \u001b[0;36m_read\u001b[1;34m(**kwargs)\u001b[0m\n\u001b[0;32m    113\u001b[0m \u001b[38;5;28;01mfrom\u001b[39;00m \u001b[38;5;21;01mmodin\u001b[39;00m\u001b[38;5;21;01m.\u001b[39;00m\u001b[38;5;21;01mcore\u001b[39;00m\u001b[38;5;21;01m.\u001b[39;00m\u001b[38;5;21;01mexecution\u001b[39;00m\u001b[38;5;21;01m.\u001b[39;00m\u001b[38;5;21;01mdispatching\u001b[39;00m\u001b[38;5;21;01m.\u001b[39;00m\u001b[38;5;21;01mfactories\u001b[39;00m\u001b[38;5;21;01m.\u001b[39;00m\u001b[38;5;21;01mdispatcher\u001b[39;00m \u001b[38;5;28;01mimport\u001b[39;00m FactoryDispatcher\n\u001b[0;32m    115\u001b[0m squeeze \u001b[38;5;241m=\u001b[39m kwargs\u001b[38;5;241m.\u001b[39mpop(\u001b[38;5;124m\"\u001b[39m\u001b[38;5;124msqueeze\u001b[39m\u001b[38;5;124m\"\u001b[39m, \u001b[38;5;28;01mFalse\u001b[39;00m)\n\u001b[1;32m--> 116\u001b[0m pd_obj \u001b[38;5;241m=\u001b[39m \u001b[43mFactoryDispatcher\u001b[49m\u001b[38;5;241;43m.\u001b[39;49m\u001b[43mread_csv\u001b[49m\u001b[43m(\u001b[49m\u001b[38;5;241;43m*\u001b[39;49m\u001b[38;5;241;43m*\u001b[39;49m\u001b[43mkwargs\u001b[49m\u001b[43m)\u001b[49m\n\u001b[0;32m    117\u001b[0m \u001b[38;5;66;03m# This happens when `read_csv` returns a TextFileReader object for iterating through\u001b[39;00m\n\u001b[0;32m    118\u001b[0m \u001b[38;5;28;01mif\u001b[39;00m \u001b[38;5;28misinstance\u001b[39m(pd_obj, TextFileReader):\n",
      "File \u001b[1;32mE:\\Python\\Lib\\site-packages\\modin\\core\\execution\\dispatching\\factories\\dispatcher.py:207\u001b[0m, in \u001b[0;36mFactoryDispatcher.read_csv\u001b[1;34m(cls, **kwargs)\u001b[0m\n\u001b[0;32m    204\u001b[0m \u001b[38;5;129m@classmethod\u001b[39m\n\u001b[0;32m    205\u001b[0m \u001b[38;5;129m@_inherit_docstrings\u001b[39m(factories\u001b[38;5;241m.\u001b[39mBaseFactory\u001b[38;5;241m.\u001b[39m_read_csv)\n\u001b[0;32m    206\u001b[0m \u001b[38;5;28;01mdef\u001b[39;00m \u001b[38;5;21mread_csv\u001b[39m(\u001b[38;5;28mcls\u001b[39m, \u001b[38;5;241m*\u001b[39m\u001b[38;5;241m*\u001b[39mkwargs):\n\u001b[1;32m--> 207\u001b[0m     \u001b[38;5;28;01mreturn\u001b[39;00m \u001b[38;5;28;43mcls\u001b[39;49m\u001b[38;5;241;43m.\u001b[39;49m\u001b[43mget_factory\u001b[49m\u001b[43m(\u001b[49m\u001b[43m)\u001b[49m\u001b[38;5;241m.\u001b[39m_read_csv(\u001b[38;5;241m*\u001b[39m\u001b[38;5;241m*\u001b[39mkwargs)\n",
      "File \u001b[1;32mE:\\Python\\Lib\\site-packages\\modin\\core\\execution\\dispatching\\factories\\dispatcher.py:115\u001b[0m, in \u001b[0;36mFactoryDispatcher.get_factory\u001b[1;34m(cls)\u001b[0m\n\u001b[0;32m    112\u001b[0m \u001b[38;5;28;01mif\u001b[39;00m \u001b[38;5;28mcls\u001b[39m\u001b[38;5;241m.\u001b[39m__factory \u001b[38;5;129;01mis\u001b[39;00m \u001b[38;5;28;01mNone\u001b[39;00m:\n\u001b[0;32m    113\u001b[0m     \u001b[38;5;28;01mfrom\u001b[39;00m \u001b[38;5;21;01mmodin\u001b[39;00m\u001b[38;5;21;01m.\u001b[39;00m\u001b[38;5;21;01mpandas\u001b[39;00m \u001b[38;5;28;01mimport\u001b[39;00m _update_engine\n\u001b[1;32m--> 115\u001b[0m     \u001b[43mEngine\u001b[49m\u001b[38;5;241;43m.\u001b[39;49m\u001b[43msubscribe\u001b[49m\u001b[43m(\u001b[49m\u001b[43m_update_engine\u001b[49m\u001b[43m)\u001b[49m\n\u001b[0;32m    116\u001b[0m     Engine\u001b[38;5;241m.\u001b[39msubscribe(\u001b[38;5;28mcls\u001b[39m\u001b[38;5;241m.\u001b[39m_update_factory)\n\u001b[0;32m    117\u001b[0m     StorageFormat\u001b[38;5;241m.\u001b[39msubscribe(\u001b[38;5;28mcls\u001b[39m\u001b[38;5;241m.\u001b[39m_update_factory)\n",
      "File \u001b[1;32mE:\\Python\\Lib\\site-packages\\modin\\config\\pubsub.py:295\u001b[0m, in \u001b[0;36mParameter.subscribe\u001b[1;34m(cls, callback)\u001b[0m\n\u001b[0;32m    286\u001b[0m \u001b[38;5;250m\u001b[39m\u001b[38;5;124;03m\"\"\"\u001b[39;00m\n\u001b[0;32m    287\u001b[0m \u001b[38;5;124;03mAdd `callback` to the `_subs` list and then execute it.\u001b[39;00m\n\u001b[0;32m    288\u001b[0m \n\u001b[1;32m   (...)\u001b[0m\n\u001b[0;32m    292\u001b[0m \u001b[38;5;124;03m    Callable to execute.\u001b[39;00m\n\u001b[0;32m    293\u001b[0m \u001b[38;5;124;03m\"\"\"\u001b[39;00m\n\u001b[0;32m    294\u001b[0m \u001b[38;5;28mcls\u001b[39m\u001b[38;5;241m.\u001b[39m_subs\u001b[38;5;241m.\u001b[39mappend(callback)\n\u001b[1;32m--> 295\u001b[0m \u001b[43mcallback\u001b[49m\u001b[43m(\u001b[49m\u001b[38;5;28;43mcls\u001b[39;49m\u001b[43m)\u001b[49m\n",
      "File \u001b[1;32mE:\\Python\\Lib\\site-packages\\modin\\pandas\\__init__.py:123\u001b[0m, in \u001b[0;36m_update_engine\u001b[1;34m(publisher)\u001b[0m\n\u001b[0;32m    120\u001b[0m     \u001b[38;5;28;01mif\u001b[39;00m _is_first_update\u001b[38;5;241m.\u001b[39mget(\u001b[38;5;124m\"\u001b[39m\u001b[38;5;124mRay\u001b[39m\u001b[38;5;124m\"\u001b[39m, \u001b[38;5;28;01mTrue\u001b[39;00m):\n\u001b[0;32m    121\u001b[0m         \u001b[38;5;28;01mfrom\u001b[39;00m \u001b[38;5;21;01mmodin\u001b[39;00m\u001b[38;5;21;01m.\u001b[39;00m\u001b[38;5;21;01mcore\u001b[39;00m\u001b[38;5;21;01m.\u001b[39;00m\u001b[38;5;21;01mexecution\u001b[39;00m\u001b[38;5;21;01m.\u001b[39;00m\u001b[38;5;21;01mray\u001b[39;00m\u001b[38;5;21;01m.\u001b[39;00m\u001b[38;5;21;01mcommon\u001b[39;00m \u001b[38;5;28;01mimport\u001b[39;00m initialize_ray\n\u001b[1;32m--> 123\u001b[0m         \u001b[43minitialize_ray\u001b[49m\u001b[43m(\u001b[49m\u001b[43m)\u001b[49m\n\u001b[0;32m    124\u001b[0m \u001b[38;5;28;01melif\u001b[39;00m publisher\u001b[38;5;241m.\u001b[39mget() \u001b[38;5;241m==\u001b[39m \u001b[38;5;124m\"\u001b[39m\u001b[38;5;124mDask\u001b[39m\u001b[38;5;124m\"\u001b[39m:\n\u001b[0;32m    125\u001b[0m     \u001b[38;5;28;01mif\u001b[39;00m _is_first_update\u001b[38;5;241m.\u001b[39mget(\u001b[38;5;124m\"\u001b[39m\u001b[38;5;124mDask\u001b[39m\u001b[38;5;124m\"\u001b[39m, \u001b[38;5;28;01mTrue\u001b[39;00m):\n",
      "File \u001b[1;32mE:\\Python\\Lib\\site-packages\\modin\\core\\execution\\ray\\common\\utils.py:139\u001b[0m, in \u001b[0;36minitialize_ray\u001b[1;34m(override_is_cluster, override_redis_address, override_redis_password)\u001b[0m\n\u001b[0;32m    132\u001b[0m         \u001b[38;5;66;03m# It should be enough to simply set the required variables for the main process\u001b[39;00m\n\u001b[0;32m    133\u001b[0m         \u001b[38;5;66;03m# for Ray to automatically propagate them to each new worker on the same node.\u001b[39;00m\n\u001b[0;32m    134\u001b[0m         \u001b[38;5;66;03m# Although Ray doesn't guarantee this behavior it works as expected most of the\u001b[39;00m\n\u001b[0;32m    135\u001b[0m         \u001b[38;5;66;03m# time and doesn't enforce us with any overhead that Ray's native `runtime_env`\u001b[39;00m\n\u001b[0;32m    136\u001b[0m         \u001b[38;5;66;03m# is usually causing. You can visit this gh-issue for more info:\u001b[39;00m\n\u001b[0;32m    137\u001b[0m         \u001b[38;5;66;03m# https://github.com/modin-project/modin/issues/5157#issuecomment-1500225150\u001b[39;00m\n\u001b[0;32m    138\u001b[0m         \u001b[38;5;28;01mwith\u001b[39;00m set_env(\u001b[38;5;241m*\u001b[39m\u001b[38;5;241m*\u001b[39menv_vars):\n\u001b[1;32m--> 139\u001b[0m             \u001b[43mray\u001b[49m\u001b[38;5;241;43m.\u001b[39;49m\u001b[43minit\u001b[49m\u001b[43m(\u001b[49m\u001b[38;5;241;43m*\u001b[39;49m\u001b[38;5;241;43m*\u001b[39;49m\u001b[43mray_init_kwargs\u001b[49m\u001b[43m)\u001b[49m\n\u001b[0;32m    141\u001b[0m \u001b[38;5;66;03m# Now ray is initialized, check runtime env config - especially useful if we join\u001b[39;00m\n\u001b[0;32m    142\u001b[0m \u001b[38;5;66;03m# an externally pre-configured cluster\u001b[39;00m\n\u001b[0;32m    143\u001b[0m runtime_env_vars \u001b[38;5;241m=\u001b[39m ray\u001b[38;5;241m.\u001b[39mget_runtime_context()\u001b[38;5;241m.\u001b[39mruntime_env\u001b[38;5;241m.\u001b[39mget(\u001b[38;5;124m\"\u001b[39m\u001b[38;5;124menv_vars\u001b[39m\u001b[38;5;124m\"\u001b[39m, {})\n",
      "File \u001b[1;32mE:\\Python\\Lib\\site-packages\\ray\\_private\\client_mode_hook.py:103\u001b[0m, in \u001b[0;36mclient_mode_hook.<locals>.wrapper\u001b[1;34m(*args, **kwargs)\u001b[0m\n\u001b[0;32m    101\u001b[0m     \u001b[38;5;28;01mif\u001b[39;00m func\u001b[38;5;241m.\u001b[39m\u001b[38;5;18m__name__\u001b[39m \u001b[38;5;241m!=\u001b[39m \u001b[38;5;124m\"\u001b[39m\u001b[38;5;124minit\u001b[39m\u001b[38;5;124m\"\u001b[39m \u001b[38;5;129;01mor\u001b[39;00m is_client_mode_enabled_by_default:\n\u001b[0;32m    102\u001b[0m         \u001b[38;5;28;01mreturn\u001b[39;00m \u001b[38;5;28mgetattr\u001b[39m(ray, func\u001b[38;5;241m.\u001b[39m\u001b[38;5;18m__name__\u001b[39m)(\u001b[38;5;241m*\u001b[39margs, \u001b[38;5;241m*\u001b[39m\u001b[38;5;241m*\u001b[39mkwargs)\n\u001b[1;32m--> 103\u001b[0m \u001b[38;5;28;01mreturn\u001b[39;00m \u001b[43mfunc\u001b[49m\u001b[43m(\u001b[49m\u001b[38;5;241;43m*\u001b[39;49m\u001b[43margs\u001b[49m\u001b[43m,\u001b[49m\u001b[43m \u001b[49m\u001b[38;5;241;43m*\u001b[39;49m\u001b[38;5;241;43m*\u001b[39;49m\u001b[43mkwargs\u001b[49m\u001b[43m)\u001b[49m\n",
      "File \u001b[1;32mE:\\Python\\Lib\\site-packages\\ray\\_private\\worker.py:1679\u001b[0m, in \u001b[0;36minit\u001b[1;34m(address, num_cpus, num_gpus, resources, labels, object_store_memory, local_mode, ignore_reinit_error, include_dashboard, dashboard_host, dashboard_port, job_config, configure_logging, logging_level, logging_format, logging_config, log_to_driver, namespace, runtime_env, storage, **kwargs)\u001b[0m\n\u001b[0;32m   1646\u001b[0m     ray_params \u001b[38;5;241m=\u001b[39m ray\u001b[38;5;241m.\u001b[39m_private\u001b[38;5;241m.\u001b[39mparameter\u001b[38;5;241m.\u001b[39mRayParams(\n\u001b[0;32m   1647\u001b[0m         node_ip_address\u001b[38;5;241m=\u001b[39m_node_ip_address,\n\u001b[0;32m   1648\u001b[0m         object_ref_seed\u001b[38;5;241m=\u001b[39m\u001b[38;5;28;01mNone\u001b[39;00m,\n\u001b[1;32m   (...)\u001b[0m\n\u001b[0;32m   1673\u001b[0m         node_name\u001b[38;5;241m=\u001b[39m_node_name,\n\u001b[0;32m   1674\u001b[0m     )\n\u001b[0;32m   1675\u001b[0m     \u001b[38;5;66;03m# Start the Ray processes. We set shutdown_at_exit=False because we\u001b[39;00m\n\u001b[0;32m   1676\u001b[0m     \u001b[38;5;66;03m# shutdown the node in the ray.shutdown call that happens in the atexit\u001b[39;00m\n\u001b[0;32m   1677\u001b[0m     \u001b[38;5;66;03m# handler. We still spawn a reaper process in case the atexit handler\u001b[39;00m\n\u001b[0;32m   1678\u001b[0m     \u001b[38;5;66;03m# isn't called.\u001b[39;00m\n\u001b[1;32m-> 1679\u001b[0m     _global_node \u001b[38;5;241m=\u001b[39m \u001b[43mray\u001b[49m\u001b[38;5;241;43m.\u001b[39;49m\u001b[43m_private\u001b[49m\u001b[38;5;241;43m.\u001b[39;49m\u001b[43mnode\u001b[49m\u001b[38;5;241;43m.\u001b[39;49m\u001b[43mNode\u001b[49m\u001b[43m(\u001b[49m\n\u001b[0;32m   1680\u001b[0m \u001b[43m        \u001b[49m\u001b[43mray_params\u001b[49m\u001b[38;5;241;43m=\u001b[39;49m\u001b[43mray_params\u001b[49m\u001b[43m,\u001b[49m\n\u001b[0;32m   1681\u001b[0m \u001b[43m        \u001b[49m\u001b[43mhead\u001b[49m\u001b[38;5;241;43m=\u001b[39;49m\u001b[38;5;28;43;01mTrue\u001b[39;49;00m\u001b[43m,\u001b[49m\n\u001b[0;32m   1682\u001b[0m \u001b[43m        \u001b[49m\u001b[43mshutdown_at_exit\u001b[49m\u001b[38;5;241;43m=\u001b[39;49m\u001b[38;5;28;43;01mFalse\u001b[39;49;00m\u001b[43m,\u001b[49m\n\u001b[0;32m   1683\u001b[0m \u001b[43m        \u001b[49m\u001b[43mspawn_reaper\u001b[49m\u001b[38;5;241;43m=\u001b[39;49m\u001b[38;5;28;43;01mTrue\u001b[39;49;00m\u001b[43m,\u001b[49m\n\u001b[0;32m   1684\u001b[0m \u001b[43m        \u001b[49m\u001b[43mray_init_cluster\u001b[49m\u001b[38;5;241;43m=\u001b[39;49m\u001b[38;5;28;43;01mTrue\u001b[39;49;00m\u001b[43m,\u001b[49m\n\u001b[0;32m   1685\u001b[0m \u001b[43m    \u001b[49m\u001b[43m)\u001b[49m\n\u001b[0;32m   1686\u001b[0m \u001b[38;5;28;01melse\u001b[39;00m:\n\u001b[0;32m   1687\u001b[0m     \u001b[38;5;66;03m# In this case, we are connecting to an existing cluster.\u001b[39;00m\n\u001b[0;32m   1688\u001b[0m     \u001b[38;5;28;01mif\u001b[39;00m num_cpus \u001b[38;5;129;01mis\u001b[39;00m \u001b[38;5;129;01mnot\u001b[39;00m \u001b[38;5;28;01mNone\u001b[39;00m \u001b[38;5;129;01mor\u001b[39;00m num_gpus \u001b[38;5;129;01mis\u001b[39;00m \u001b[38;5;129;01mnot\u001b[39;00m \u001b[38;5;28;01mNone\u001b[39;00m:\n",
      "File \u001b[1;32mE:\\Python\\Lib\\site-packages\\ray\\_private\\node.py:342\u001b[0m, in \u001b[0;36mNode.__init__\u001b[1;34m(self, ray_params, head, shutdown_at_exit, spawn_reaper, connect_only, default_worker, ray_init_cluster)\u001b[0m\n\u001b[0;32m    340\u001b[0m \u001b[38;5;66;03m# we should update the address info after the node has been started\u001b[39;00m\n\u001b[0;32m    341\u001b[0m \u001b[38;5;28;01mtry\u001b[39;00m:\n\u001b[1;32m--> 342\u001b[0m     \u001b[43mray\u001b[49m\u001b[38;5;241;43m.\u001b[39;49m\u001b[43m_private\u001b[49m\u001b[38;5;241;43m.\u001b[39;49m\u001b[43mservices\u001b[49m\u001b[38;5;241;43m.\u001b[39;49m\u001b[43mwait_for_node\u001b[49m\u001b[43m(\u001b[49m\n\u001b[0;32m    343\u001b[0m \u001b[43m        \u001b[49m\u001b[38;5;28;43mself\u001b[39;49m\u001b[38;5;241;43m.\u001b[39;49m\u001b[43mgcs_address\u001b[49m\u001b[43m,\u001b[49m\n\u001b[0;32m    344\u001b[0m \u001b[43m        \u001b[49m\u001b[38;5;28;43mself\u001b[39;49m\u001b[38;5;241;43m.\u001b[39;49m\u001b[43m_plasma_store_socket_name\u001b[49m\u001b[43m,\u001b[49m\n\u001b[0;32m    345\u001b[0m \u001b[43m    \u001b[49m\u001b[43m)\u001b[49m\n\u001b[0;32m    346\u001b[0m \u001b[38;5;28;01mexcept\u001b[39;00m \u001b[38;5;167;01mTimeoutError\u001b[39;00m \u001b[38;5;28;01mas\u001b[39;00m te:\n\u001b[0;32m    347\u001b[0m     \u001b[38;5;28;01mraise\u001b[39;00m \u001b[38;5;167;01mException\u001b[39;00m(\n\u001b[0;32m    348\u001b[0m         \u001b[38;5;124m\"\u001b[39m\u001b[38;5;124mThe current node timed out during startup. This \u001b[39m\u001b[38;5;124m\"\u001b[39m\n\u001b[0;32m    349\u001b[0m         \u001b[38;5;124m\"\u001b[39m\u001b[38;5;124mcould happen because some of the Ray processes \u001b[39m\u001b[38;5;124m\"\u001b[39m\n\u001b[0;32m    350\u001b[0m         \u001b[38;5;124m\"\u001b[39m\u001b[38;5;124mfailed to startup.\u001b[39m\u001b[38;5;124m\"\u001b[39m\n\u001b[0;32m    351\u001b[0m     ) \u001b[38;5;28;01mfrom\u001b[39;00m \u001b[38;5;21;01mte\u001b[39;00m\n",
      "File \u001b[1;32mE:\\Python\\Lib\\site-packages\\ray\\_private\\services.py:463\u001b[0m, in \u001b[0;36mwait_for_node\u001b[1;34m(gcs_address, node_plasma_store_socket_name, timeout)\u001b[0m\n\u001b[0;32m    461\u001b[0m start_time \u001b[38;5;241m=\u001b[39m time\u001b[38;5;241m.\u001b[39mtime()\n\u001b[0;32m    462\u001b[0m \u001b[38;5;28;01mwhile\u001b[39;00m time\u001b[38;5;241m.\u001b[39mtime() \u001b[38;5;241m-\u001b[39m start_time \u001b[38;5;241m<\u001b[39m timeout:\n\u001b[1;32m--> 463\u001b[0m     clients \u001b[38;5;241m=\u001b[39m \u001b[43mglobal_state\u001b[49m\u001b[38;5;241;43m.\u001b[39;49m\u001b[43mnode_table\u001b[49m\u001b[43m(\u001b[49m\u001b[43m)\u001b[49m\n\u001b[0;32m    464\u001b[0m     object_store_socket_names \u001b[38;5;241m=\u001b[39m [\n\u001b[0;32m    465\u001b[0m         client[\u001b[38;5;124m\"\u001b[39m\u001b[38;5;124mObjectStoreSocketName\u001b[39m\u001b[38;5;124m\"\u001b[39m] \u001b[38;5;28;01mfor\u001b[39;00m client \u001b[38;5;129;01min\u001b[39;00m clients\n\u001b[0;32m    466\u001b[0m     ]\n\u001b[0;32m    467\u001b[0m     \u001b[38;5;28;01mif\u001b[39;00m node_plasma_store_socket_name \u001b[38;5;129;01min\u001b[39;00m object_store_socket_names:\n",
      "File \u001b[1;32mE:\\Python\\Lib\\site-packages\\ray\\_private\\state.py:168\u001b[0m, in \u001b[0;36mGlobalState.node_table\u001b[1;34m(self)\u001b[0m\n\u001b[0;32m    161\u001b[0m \u001b[38;5;250m\u001b[39m\u001b[38;5;124;03m\"\"\"Fetch and parse the Gcs node info table.\u001b[39;00m\n\u001b[0;32m    162\u001b[0m \n\u001b[0;32m    163\u001b[0m \u001b[38;5;124;03mReturns:\u001b[39;00m\n\u001b[0;32m    164\u001b[0m \u001b[38;5;124;03m    Information about the node in the cluster.\u001b[39;00m\n\u001b[0;32m    165\u001b[0m \u001b[38;5;124;03m\"\"\"\u001b[39;00m\n\u001b[0;32m    166\u001b[0m \u001b[38;5;28mself\u001b[39m\u001b[38;5;241m.\u001b[39m_check_connected()\n\u001b[1;32m--> 168\u001b[0m \u001b[38;5;28;01mreturn\u001b[39;00m \u001b[38;5;28;43mself\u001b[39;49m\u001b[38;5;241;43m.\u001b[39;49m\u001b[43mglobal_state_accessor\u001b[49m\u001b[38;5;241;43m.\u001b[39;49m\u001b[43mget_node_table\u001b[49m\u001b[43m(\u001b[49m\u001b[43m)\u001b[49m\n",
      "\u001b[1;31mKeyboardInterrupt\u001b[0m: "
     ]
    }
   ],
   "source": [
    "pd.reset_option(\"display.max_rows\")\n",
    "pd.reset_option(\"display.max_columns\")\n",
    "outsample_path = os.path.join(model_path,[file for file in model_files if file.find('outsample') != -1][0])\n",
    "outsample = pd.read_csv(outsample_path).iloc[:,1:]\n",
    "outsample"
   ]
  },
  {
   "cell_type": "markdown",
   "id": "fd86083b-98aa-41db-b0eb-de633e316c3d",
   "metadata": {},
   "source": [
    "# Test Model"
   ]
  },
  {
   "cell_type": "code",
   "execution_count": null,
   "id": "f5fd9994-2cb6-47e7-817b-ff7142ece932",
   "metadata": {},
   "outputs": [],
   "source": [
    "maturities = outsample['days_to_maturity'].unique().tolist()\n",
    "barrier_type_names = outsample['barrier_type_name'].unique().tolist()\n",
    "ws = outsample['w'].unique().tolist()\n",
    "print(f\"\\nmaturities:\\n     maturities = {maturities}\")\n",
    "print(f\"\\ntypes:\\n     barrier_type_names = {barrier_type_names}\\n     ws = {ws}\\n\")"
   ]
  },
  {
   "cell_type": "code",
   "execution_count": null,
   "id": "26a98412-cbf1-4bfe-ac10-7bc0278d1894",
   "metadata": {},
   "outputs": [],
   "source": [
    "by_wbt = outsample.copy().set_index(['w','barrier_type_name','days_to_maturity']).sort_index()"
   ]
  },
  {
   "cell_type": "code",
   "execution_count": null,
   "id": "9f0cde77-b6db-4a60-89ce-b3d01b97ba2d",
   "metadata": {},
   "outputs": [],
   "source": [
    "RMSE = pd.DataFrame(\n",
    "    np.zeros((len(maturities),len(barrier_type_names)),dtype=float),\n",
    "    columns = barrier_type_names,\n",
    "    index = maturities\n",
    ")\n",
    "\n",
    "for t in maturities:\n",
    "    for b in barrier_type_names:\n",
    "        RMSE.loc[t,b] = np.sqrt(np.average((by_wbt.loc[(slice(None), b, t),'outofsample_error'])**2))\n",
    "print(f\"\\nRMSE:\\n{RMSE}\")"
   ]
  },
  {
   "cell_type": "code",
   "execution_count": null,
   "id": "ba16d6ea-b7bb-4912-bb95-02beb3909bb3",
   "metadata": {},
   "outputs": [],
   "source": [
    "MAE = pd.DataFrame(\n",
    "    np.zeros((len(maturities),len(barrier_type_names)),dtype=float),\n",
    "    index = maturities,\n",
    "    columns = barrier_type_names\n",
    ")\n",
    "for t in maturities:\n",
    "    for b in barrier_type_names:\n",
    "        MAE.loc[t,b] = np.average(np.abs(by_wbt.loc[(slice(None), b, t),'outofsample_error']))\n",
    "print(f\"\\nMAE:\\n{MAE}\")"
   ]
  },
  {
   "cell_type": "code",
   "execution_count": null,
   "id": "1897e083-211e-4582-8300-e8071d0c12a2",
   "metadata": {},
   "outputs": [],
   "source": [
    "plt.figure()\n",
    "for b in barrier_type_names:\n",
    "    plt.plot(MAE.loc[:, b], label=b)\n",
    "plt.xlabel('maturities in days')\n",
    "plt.ylabel('RMSE')\n",
    "plt.legend()\n",
    "plt.show()\n",
    "plt.close()"
   ]
  },
  {
   "cell_type": "code",
   "execution_count": null,
   "id": "96f3b859-d7a2-4471-bd0d-ae90522f8669",
   "metadata": {},
   "outputs": [],
   "source": [
    "errors_bypayoff = {}\n",
    "for w in ws:\n",
    "    errors = {}\n",
    "    print(\n",
    "        f\"\\n         {'#'*(len(w)+5)}\"\n",
    "        f\"\\n         # {w}s #\"\n",
    "        f\"\\n         {'#'*(len(w)+5)}\"\n",
    "    )\n",
    "    RMSE = pd.DataFrame(\n",
    "        np.zeros((len(maturities),len(barrier_type_names)),dtype=float),\n",
    "        columns = barrier_type_names\n",
    "        )\n",
    "    RMSE[w] = maturities\n",
    "    RMSE = RMSE.set_index(w,drop=True)\n",
    "    for t in maturities:\n",
    "        for b in barrier_type_names:\n",
    "            RMSE.loc[t,b] = np.sqrt(np.average((by_wbt.loc[(w, b, t),'outofsample_error'])**2))\n",
    "    print(f\"RMSE:\\n{RMSE}\")\n",
    "    errors['RMSE'] = RMSE\n",
    "    \n",
    "\n",
    "\n",
    "    MAE = pd.DataFrame(\n",
    "        np.zeros((len(maturities),len(barrier_type_names)),dtype=float),\n",
    "        columns = barrier_type_names\n",
    "    )\n",
    "    MAE[w] = maturities\n",
    "    MAE = MAE.set_index(w,drop=True)\n",
    "    for t in maturities:\n",
    "        for b in barrier_type_names:\n",
    "            MAE.loc[t,b] = np.average(np.abs(by_wbt.loc[(w, b, t),'outofsample_error']))\n",
    "    print(f\"MAE:\\n{MAE}\")\n",
    "    errors['MAE'] = MAE\n",
    "\n",
    "    errors_bypayoff[w] = errors\n",
    "    print(\"\\n\\n\")"
   ]
  },
  {
   "cell_type": "code",
   "execution_count": null,
   "id": "4598549c-c53f-4821-a309-81f39c78dd32",
   "metadata": {},
   "outputs": [],
   "source": [
    "for w, errors in errors_bypayoff.items():\n",
    "    for b in barrier_type_names: \n",
    "        print(errors['MAE'])"
   ]
  },
  {
   "cell_type": "code",
   "execution_count": null,
   "id": "c3f9481c-31c5-43f3-aff0-7b6beb9ff0d8",
   "metadata": {},
   "outputs": [],
   "source": [
    "plt.figure()\n",
    "for w, errors in errors_bypayoff.items():\n",
    "    for b in barrier_type_names: \n",
    "        MAE = errors['MAE'][b]\n",
    "        plt.plot(\n",
    "            MAE.sort_values(), label=f\"{b} {w}s \",\n",
    "        )\n",
    "plt.legend(loc='best')\n",
    "plt.show()\n",
    "plt.close()"
   ]
  },
  {
   "cell_type": "code",
   "execution_count": null,
   "id": "12fdbb75-7e5c-4664-80d1-ca29e5521878",
   "metadata": {},
   "outputs": [],
   "source": [
    "end_time = time.time()\n",
    "runtime = end_time - start_time\n",
    "print(f\"cpu: {runtime}\")"
   ]
  },
  {
   "cell_type": "code",
   "execution_count": null,
   "id": "c644b63a-9eab-4c7a-81c2-135752a4c7e3",
   "metadata": {},
   "outputs": [],
   "source": []
  },
  {
   "cell_type": "code",
   "execution_count": null,
   "id": "d8bc52d3-2a65-4fc5-85fb-de846b019469",
   "metadata": {},
   "outputs": [],
   "source": []
  }
 ],
 "metadata": {
  "kernelspec": {
   "display_name": "Python 3 (ipykernel)",
   "language": "python",
   "name": "python3"
  },
  "language_info": {
   "codemirror_mode": {
    "name": "ipython",
    "version": 3
   },
   "file_extension": ".py",
   "mimetype": "text/x-python",
   "name": "python",
   "nbconvert_exporter": "python",
   "pygments_lexer": "ipython3",
   "version": "3.12.7"
  }
 },
 "nbformat": 4,
 "nbformat_minor": 5
}
