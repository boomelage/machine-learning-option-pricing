{
 "cells": [
  {
   "cell_type": "code",
   "execution_count": 1,
   "id": "6140f92e-62cd-4b85-8085-d31182f84386",
   "metadata": {},
   "outputs": [
    {
     "name": "stdout",
     "output_type": "stream",
     "text": [
      "0     .DS_Store\n",
      "1     2024_10_27 08-05-24 Deep Neural Network asian options\n"
     ]
    }
   ],
   "source": [
    "import os\n",
    "import joblib\n",
    "import pandas as pd\n",
    "import numpy as np\n",
    "import matplotlib.pyplot as plt\n",
    "from pathlib import Path\n",
    "from model_settings import ms\n",
    "from convsklearn import asian_trainer\n",
    "\n",
    "from sklearn.compose import ColumnTransformer, TransformedTargetRegressor\n",
    "from sklearn.preprocessing import StandardScaler, OneHotEncoder\n",
    "from sklearn.pipeline import Pipeline\n",
    "from sklearn.neural_network import MLPRegressor\n",
    "from sklearn.model_selection import GridSearchCV\n",
    "\n",
    "trainer = asian_trainer\n",
    "root = Path().resolve().parent.parent\n",
    "models_dir = os.path.join(Path().resolve(),'trained_models','trained_models')\n",
    "models = [f for f in os.listdir(models_dir) if f.find('ipynb')==-1]\n",
    "for i,m in enumerate(models):\n",
    "    print(f\"{i}     {m}\")"
   ]
  },
  {
   "cell_type": "code",
   "execution_count": 2,
   "id": "f586741b-1683-494c-8a79-4cc3278d3136",
   "metadata": {},
   "outputs": [
    {
     "name": "stdout",
     "output_type": "stream",
     "text": [
      "0     2024_10_27 08-05-24 Deep Neural Network asian options insample.csv\n",
      "1     2024_10_27 08-05-24 Deep Neural Network asian options outsample.csv\n",
      "2     2024_10_27 08-05-24 Deep Neural Network asian options.pkl\n",
      "3     2024_10_27 08-05-24 Deep Neural Network asian options.txt\n"
     ]
    }
   ],
   "source": [
    "model = models[1]\n",
    "model_dir = os.path.join(models_dir,model)\n",
    "model_files = [f for f in os.listdir(model_dir) if f.find('ipynb')==-1 and f.find('.html')==-1]\n",
    "for i,m in enumerate(model_files):\n",
    "    print(f\"{i}     {m}\")"
   ]
  },
  {
   "cell_type": "code",
   "execution_count": 3,
   "id": "44d3c0e2-16c5-414d-ba63-a12236536745",
   "metadata": {},
   "outputs": [],
   "source": [
    "train_data = pd.read_csv(os.path.join(model_dir,[f for f in model_files if f.find('insample')!=-1][0])).iloc[:,1:].copy()\n",
    "test_data = pd.read_csv(os.path.join(model_dir,[f for f in model_files if f. find('outsample')!=-1][0])).iloc[:,1:].copy()\n",
    "arrs = trainer.get_train_test_arrays(train_data,test_data)\n",
    "train_X = trainer.get_X(train_data)\n",
    "train_y = trainer.get_y(train_data)\n",
    "test_X = trainer.get_X(test_data)\n",
    "test_y = trainer.get_y(test_data)\n",
    "\n",
    "\n",
    "n = len(trainer.feature_set)\n",
    "\n",
    "\n",
    "feature_transformers = [\n",
    "        ('numerical', StandardScaler(), trainer.numerical_features),\n",
    "        ('categoical', OneHotEncoder(), trainer.categorical_features)\n",
    "    ]\n",
    "\n",
    "taget_transformer = StandardScaler()"
   ]
  },
  {
   "cell_type": "code",
   "execution_count": 4,
   "id": "3b23ea49-76c7-4ef9-978a-10bcaa44143e",
   "metadata": {
    "scrolled": true
   },
   "outputs": [],
   "source": [
    "preprocessor = ColumnTransformer(\n",
    "    transformers=feature_transformers\n",
    ")\n",
    "\n",
    "dnn_pipeline = Pipeline([\n",
    "    ('preprocessor', preprocessor),\n",
    "    ('dnn', MLPRegressor(**trainer.dnn_params))\n",
    "])\n",
    "\n",
    "scaled_dnn = TransformedTargetRegressor(\n",
    "    regressor=dnn_pipeline,\n",
    "    transformer=taget_transformer\n",
    ")"
   ]
  },
  {
   "cell_type": "code",
   "execution_count": 5,
   "id": "9fb2049e-eaf2-4298-b7d0-5cc16af6fe3f",
   "metadata": {
    "scrolled": true
   },
   "outputs": [
    {
     "name": "stdout",
     "output_type": "stream",
     "text": [
      "Fitting 5 folds for each of 3 candidates, totalling 15 fits\n",
      "Best Parameters: {'regressor__dnn__tol': 0.0001}\n",
      "Best Score: -31.514182017843392\n"
     ]
    }
   ],
   "source": [
    "param_grid = {\n",
    "    # 'regressor__dnn__activation': ['identity', 'logistic', 'tanh', 'relu'],\n",
    "    # 'regressor__dnn__solver': ['lbfgs', 'sgd', 'adam'],\n",
    "    # 'regressor__dnn__alpha': [0.0001, 0.001, 0.01, 0.1],\n",
    "    # 'regressor__dnn__batch_size': ['auto', 32, 64, 128],\n",
    "    # 'regressor__dnn__learning_rate': ['constant', 'invscaling', 'adaptive'],\n",
    "    # 'regressor__dnn__learning_rate_init': [0.001, 0.01, 0.1],\n",
    "    # 'regressor__dnn__power_t': [0.5, 0.25],\n",
    "    # 'regressor__dnn__max_iter': [200, 500, 1000],\n",
    "    # 'regressor__dnn__shuffle': [True, False],\n",
    "    'regressor__dnn__tol': [1e-4, 1e-3, 1e-2],\n",
    "    # 'regressor__dnn__warm_start': [False, True],\n",
    "    # 'regressor__dnn__momentum': [0.9, 0.8, 0.7],\n",
    "    # 'regressor__dnn__nesterovs_momentum': [True, False],\n",
    "    # 'regressor__dnn__early_stopping': [False, True],\n",
    "    # 'regressor__dnn__validation_fraction': [0.1, 0.15, 0.2],\n",
    "    # 'regressor__dnn__beta_1': [0.9, 0.85],\n",
    "    # 'regressor__dnn__beta_2': [0.999, 0.99],\n",
    "    # 'regressor__dnn__epsilon': [1e-8, 1e-6],\n",
    "    # 'regressor__dnn__n_iter_no_change': [10, 20],\n",
    "    # 'regressor__dnn__max_fun': [15000, 20000]\n",
    "}\n",
    "\n",
    "\n",
    "grid_search = GridSearchCV(\n",
    "    estimator=scaled_dnn,\n",
    "    param_grid=param_grid,\n",
    "    cv=5,\n",
    "    scoring=\"neg_mean_squared_error\",\n",
    "    n_jobs=-1,\n",
    "    verbose=1,\n",
    "    error_score='raise'\n",
    ")\n",
    "\n",
    "grid_search.fit(train_X, train_y)\n",
    "\n",
    "print(\"Best Parameters:\", grid_search.best_params_)\n",
    "print(\"Best Score:\", grid_search.best_score_)"
   ]
  },
  {
   "cell_type": "code",
   "execution_count": null,
   "id": "faa15fcf-b214-4f79-8758-beae116436d2",
   "metadata": {},
   "outputs": [],
   "source": []
  }
 ],
 "metadata": {
  "kernelspec": {
   "display_name": "Python 3 (ipykernel)",
   "language": "python",
   "name": "python3"
  },
  "language_info": {
   "codemirror_mode": {
    "name": "ipython",
    "version": 3
   },
   "file_extension": ".py",
   "mimetype": "text/x-python",
   "name": "python",
   "nbconvert_exporter": "python",
   "pygments_lexer": "ipython3",
   "version": "3.12.7"
  }
 },
 "nbformat": 4,
 "nbformat_minor": 5
}
