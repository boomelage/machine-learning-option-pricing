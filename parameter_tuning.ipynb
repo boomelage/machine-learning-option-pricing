{
 "cells": [
  {
   "cell_type": "code",
   "execution_count": 1,
   "id": "6140f92e-62cd-4b85-8085-d31182f84386",
   "metadata": {},
   "outputs": [
    {
     "name": "stderr",
     "output_type": "stream",
     "text": [
      "100%|███████████████████████████████████████████████████████████████████████████████████████████████████████████████████████████████████████████████████████████████████████| 2122/2122 [00:20<00:00, 106.08it/s]\n"
     ]
    },
    {
     "data": {
      "text/plain": [
       "0      2024-10-16\n",
       "17     2024-10-15\n",
       "35     2024-10-14\n",
       "40     2024-10-12\n",
       "60     2024-10-11\n",
       "          ...    \n",
       "2039   2024-05-01\n",
       "2054   2024-04-30\n",
       "2077   2024-04-27\n",
       "2096   2024-04-26\n",
       "2105   2024-04-25\n",
       "Name: calculation_date, Length: 135, dtype: datetime64[ns]"
      ]
     },
     "execution_count": 1,
     "metadata": {},
     "output_type": "execute_result"
    }
   ],
   "source": [
    "import os\n",
    "import joblib\n",
    "import pandas as pd\n",
    "import numpy as np\n",
    "import matplotlib.pyplot as plt\n",
    "from pathlib import Path\n",
    "from model_settings import ms\n",
    "from convsklearn import asian_trainer,barrier_trainer\n",
    "\n",
    "from sklearn.compose import ColumnTransformer, TransformedTargetRegressor\n",
    "from sklearn.preprocessing import StandardScaler, OneHotEncoder, QuantileTransformer\n",
    "from sklearn.pipeline import Pipeline\n",
    "from sklearn.neural_network import MLPRegressor\n",
    "from sklearn.model_selection import GridSearchCV\n",
    "from sklearn.pipeline import make_pipeline\n",
    "from convsklearn import barrier_trainer, asian_trainer\n",
    "from feature_collector import collect_features, preprocess_data\n",
    "\n",
    "root = Path().resolve().parent.parent\n",
    "\n",
    "price_name = 'barrier_price' \n",
    "trainer = barrier_trainer\n",
    "data_dir = os.path.join(root,ms.cboe_spx_barriers['dump'])\n",
    "dataset = collect_features(data_dir,price_name)\n",
    "\n",
    "dates = dataset['calculation_date'].copy().squeeze().drop_duplicates().reset_index(drop=True)\n",
    "days = dates.dt.round('D').drop_duplicates()\n",
    "days"
   ]
  },
  {
   "cell_type": "code",
   "execution_count": 2,
   "id": "785e5cc4-0c52-4ca8-8dd6-16baaf9e684e",
   "metadata": {},
   "outputs": [
    {
     "name": "stdout",
     "output_type": "stream",
     "text": [
      "test:\n",
      "35   2024-10-14\n",
      "Name: calculation_date, dtype: datetime64[ns],\n",
      "\n",
      "train:\n",
      "17   2024-10-15\n",
      "Name: calculation_date, dtype: datetime64[ns]\n"
     ]
    }
   ],
   "source": [
    "latest = days.iloc[1:2]\n",
    "ante = days.iloc[2:3]\n",
    "print(f\"test:\\n{ante},\\n\\ntrain:\\n{latest}\")"
   ]
  },
  {
   "cell_type": "code",
   "execution_count": 3,
   "id": "fe110d00-b170-4a9f-809a-34df057979ad",
   "metadata": {},
   "outputs": [
    {
     "name": "stdout",
     "output_type": "stream",
     "text": [
      "20 20\n"
     ]
    },
    {
     "data": {
      "image/png": "[encoded data removed]",
      "text/plain": [
       "<Figure size 640x480 with 1 Axes>"
      ]
     },
     "metadata": {},
     "output_type": "display_data"
    },
    {
     "name": "stdout",
     "output_type": "stream",
     "text": [
      "41738 41738\n"
     ]
    }
   ],
   "source": [
    "development_dates = dates[dates.dt.normalize().isin(ante)]#.iloc[-1:]\n",
    "test_dates = dates[dates.dt.normalize().isin(latest)]#.iloc[:1]\n",
    "print(len(development_dates),len(test_dates))\n",
    "preprocessed = preprocess_data(dataset,development_dates,test_dates,trainer)\n",
    "preprocessed.keys()\n",
    "preprocessor = preprocessed['preprocessor']\n",
    "train_test = preprocessed['train_test_arrays']\n",
    "train_X = train_test['train_X']\n",
    "train_y = train_test['train_y']"
   ]
  },
  {
   "cell_type": "code",
   "execution_count": 4,
   "id": "68fa701e-e094-445d-a772-b74ebe0f1da7",
   "metadata": {},
   "outputs": [
    {
     "data": {
      "text/plain": [
       "['spot_price',\n",
       " 'strike_price',\n",
       " 'days_to_maturity',\n",
       " 'risk_free_rate',\n",
       " 'dividend_rate',\n",
       " 'kappa',\n",
       " 'theta',\n",
       " 'rho',\n",
       " 'eta',\n",
       " 'v0',\n",
       " 'barrier',\n",
       " 'barrier_type_name',\n",
       " 'w']"
      ]
     },
     "execution_count": 4,
     "metadata": {},
     "output_type": "execute_result"
    }
   ],
   "source": [
    "trainer.feature_set"
   ]
  },
  {
   "cell_type": "code",
   "execution_count": 5,
   "id": "44d3c0e2-16c5-414d-ba63-a12236536745",
   "metadata": {},
   "outputs": [],
   "source": [
    "numerical_scaler = StandardScaler()\n",
    "\n",
    "feature_transformers = [\n",
    "        ('numerical', numerical_scaler, trainer.numerical_features),\n",
    "        ('categorical', OneHotEncoder(sparse_output=False), trainer.categorical_features)\n",
    "    ]"
   ]
  },
  {
   "cell_type": "code",
   "execution_count": 6,
   "id": "3b23ea49-76c7-4ef9-978a-10bcaa44143e",
   "metadata": {
    "scrolled": true
   },
   "outputs": [],
   "source": [
    "preprocessor = ColumnTransformer(\n",
    "    transformers=feature_transformers\n",
    ")\n",
    "\n",
    "dnn_pipeline = Pipeline([\n",
    "    ('preprocessor', preprocessor),\n",
    "    ('dnn', MLPRegressor(**trainer.dnn_params))\n",
    "])\n",
    "\n",
    "scaled_dnn = TransformedTargetRegressor(\n",
    "    regressor=dnn_pipeline,\n",
    "    transformer=numerical_scaler\n",
    ")"
   ]
  },
  {
   "cell_type": "code",
   "execution_count": null,
   "id": "56ed82e8-dbbf-4163-8eda-5c1073570ba4",
   "metadata": {
    "scrolled": true
   },
   "outputs": [
    {
     "name": "stdout",
     "output_type": "stream",
     "text": [
      "Fitting 5 folds for each of 1152 candidates, totalling 5760 fits\n"
     ]
    }
   ],
   "source": [
    "param_grid = {\n",
    "    # 'regressor__dnn__activation': ['identity', 'logistic', 'tanh', 'relu'],\n",
    "    'regressor__dnn__solver': ['lbfgs', 'sgd',],\n",
    "    'regressor__dnn__alpha': [0.0001, 0.001, 0.01, 0.1],\n",
    "    'regressor__dnn__batch_size': ['auto', 32, 64, 128],\n",
    "    'regressor__dnn__learning_rate': ['constant', 'invscaling', 'adaptive'],\n",
    "    'regressor__dnn__learning_rate_init': [0.001, 0.01, 0.1],\n",
    "    # 'regressor__dnn__power_t': [0.5, 0.25],\n",
    "    # 'regressor__dnn__max_iter': [200, 500, 1000],\n",
    "    # 'regressor__dnn__shuffle': [True, False],\n",
    "    # 'regressor__dnn__tol': [1e-4, 1e-3, 1e-2],\n",
    "    'regressor__dnn__warm_start': [False, True],\n",
    "    # 'regressor__dnn__momentum': [0.9, 0.8, 0.7],\n",
    "    # 'regressor__dnn__nesterovs_momentum': [True, False],\n",
    "    'regressor__dnn__early_stopping': [False, True],\n",
    "    # 'regressor__dnn__validation_fraction': [0.1, 0.15, 0.2],\n",
    "    # 'regressor__dnn__beta_1': [0.9, 0.85],\n",
    "    # 'regressor__dnn__beta_2': [0.999, 0.99],\n",
    "    # 'regressor__dnn__epsilon': [1e-8, 1e-6],\n",
    "    # 'regressor__dnn__n_iter_no_change': [10, 20],\n",
    "    # 'regressor__dnn__max_fun': [15000, 20000]\n",
    "}\n",
    "\n",
    "grid_search = GridSearchCV(\n",
    "    estimator=scaled_dnn,\n",
    "    param_grid=param_grid,\n",
    "    cv=5,\n",
    "    scoring=\"neg_mean_squared_error\",\n",
    "    n_jobs=max(1,os.cpu_count()//4),\n",
    "    verbose=1\n",
    ")\n",
    "\n",
    "grid_search.fit(train_X, train_y)\n",
    "\n",
    "print(\"Best Parameters:\", grid_search.best_params_)"
   ]
  },
  {
   "cell_type": "code",
   "execution_count": null,
   "id": "f3b1b8d6-1780-44c6-9591-3c3b8df6c7e2",
   "metadata": {},
   "outputs": [],
   "source": []
  },
  {
   "cell_type": "code",
   "execution_count": null,
   "id": "30ebfae2-29a2-45e4-bd2a-1e3ad95e9a7a",
   "metadata": {},
   "outputs": [],
   "source": []
  }
 ],
 "metadata": {
  "kernelspec": {
   "display_name": "Python 3 (ipykernel)",
   "language": "python",
   "name": "python3"
  },
  "language_info": {
   "codemirror_mode": {
    "name": "ipython",
    "version": 3
   },
   "file_extension": ".py",
   "mimetype": "text/x-python",
   "name": "python",
   "nbconvert_exporter": "python",
   "pygments_lexer": "ipython3",
   "version": "3.12.7"
  }
 },
 "nbformat": 4,
 "nbformat_minor": 5
}
