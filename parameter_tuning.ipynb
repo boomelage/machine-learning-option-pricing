{
 "cells": [
  {
   "cell_type": "code",
   "execution_count": 1,
   "id": "6140f92e-62cd-4b85-8085-d31182f84386",
   "metadata": {},
   "outputs": [
    {
     "data": {
      "text/plain": [
       "['2024-11-26 222009133940 cboe spx relative asian',\n",
       " '2024-11-26 222433412525 cboe spx relative barrier']"
      ]
     },
     "execution_count": 1,
     "metadata": {},
     "output_type": "execute_result"
    }
   ],
   "source": [
    "import os\n",
    "import joblib\n",
    "import pandas as pd\n",
    "import numpy as np\n",
    "import matplotlib.pyplot as plt\n",
    "from pathlib import Path\n",
    "\n",
    "from model_settings import ms\n",
    "ms.find_root(Path())\n",
    "models_dir = os.path.join(ms.root,ms.trained_models)\n",
    "models = [f for f in os.listdir(models_dir) if f.find('Legacy')==-1]\n",
    "models"
   ]
  },
  {
   "cell_type": "code",
   "execution_count": 2,
   "id": "14f64596-7002-4277-b16c-92e8ffdabd4e",
   "metadata": {
    "scrolled": true
   },
   "outputs": [],
   "source": [
    "model_dir = os.path.join(models_dir,models[0])\n",
    "price_name = model_dir[model_dir.rfind(' ',0)+1:]+\"_price\"\n",
    "pickle = [os.path.join(model_dir,f) for f in os.listdir(model_dir) if f.endswith('.pkl')][0]\n",
    "model = joblib.load(pickle)\n",
    "mlp = model['model']"
   ]
  },
  {
   "cell_type": "code",
   "execution_count": 3,
   "id": "a7e19edb-84a3-4538-aede-eaf488130232",
   "metadata": {},
   "outputs": [],
   "source": [
    "from convsklearn.hypertuning import hypertuning\n",
    "hyper = hypertuning(model)\n",
    "hyper.search_parameters['n_jobs']=-1"
   ]
  },
  {
   "cell_type": "code",
   "execution_count": 4,
   "id": "51b358b3-a53d-44da-b59c-2a3bdbefaf8a",
   "metadata": {},
   "outputs": [
    {
     "name": "stdout",
     "output_type": "stream",
     "text": [
      "{'estimator': Pipeline(steps=[('preprocessor',\n",
      "                 ColumnTransformer(transformers=[('StandardScaler',\n",
      "                                                  StandardScaler(),\n",
      "                                                  ['days_to_maturity',\n",
      "                                                   'fixing_frequency',\n",
      "                                                   'past_fixings',\n",
      "                                                   'risk_free_rate',\n",
      "                                                   'dividend_rate', 'kappa',\n",
      "                                                   'theta', 'rho', 'eta', 'v0',\n",
      "                                                   'relative_spot']),\n",
      "                                                 ('OneHotEncoder',\n",
      "                                                  OneHotEncoder(sparse_output=False),\n",
      "                                                  ['averaging_type', 'w'])])),\n",
      "                ('regressor',\n",
      "                 MLPRegressor(alpha=0.01, hidden_layer_sizes=(13, 13),\n",
      "                              learning_rate='adaptive', learning_rate_init=0.1,\n",
      "                              max_iter=500, random_state=1312, solver='sgd',\n",
      "                              warm_start=True))]), 'cv': 5, 'scoring': 'neg_mean_squared_error', 'n_jobs': -1, 'verbose': 1}\n",
      "starting hypertuning\n",
      "Fitting 5 folds for each of 9 candidates, totalling 45 fits\n",
      "Best Parameters: {'regressor__learning_rate': 'adaptive', 'regressor__learning_rate_init': 0.1}\n"
     ]
    }
   ],
   "source": [
    "hyper.param_grid = {\n",
    "    'regressor__learning_rate': ['constant', 'invscaling', 'adaptive'],\n",
    "    'regressor__learning_rate_init': [0.001, 0.01, 0.1],\n",
    "}\n",
    "print(hyper.search_parameters)\n",
    "new = hyper.tune()\n",
    "model['dnn_params'].update(new)"
   ]
  },
  {
   "cell_type": "code",
   "execution_count": 5,
   "id": "9056fe52-66f5-4584-bd2f-97be3c99645c",
   "metadata": {},
   "outputs": [
    {
     "name": "stdout",
     "output_type": "stream",
     "text": [
      "{'estimator': Pipeline(steps=[('preprocessor',\n",
      "                 ColumnTransformer(transformers=[('StandardScaler',\n",
      "                                                  StandardScaler(),\n",
      "                                                  ['days_to_maturity',\n",
      "                                                   'fixing_frequency',\n",
      "                                                   'past_fixings',\n",
      "                                                   'risk_free_rate',\n",
      "                                                   'dividend_rate', 'kappa',\n",
      "                                                   'theta', 'rho', 'eta', 'v0',\n",
      "                                                   'relative_spot']),\n",
      "                                                 ('OneHotEncoder',\n",
      "                                                  OneHotEncoder(sparse_output=False),\n",
      "                                                  ['averaging_type', 'w'])])),\n",
      "                ('regressor',\n",
      "                 MLPRegressor(alpha=0.01, hidden_layer_sizes=(13, 13),\n",
      "                              learning_rate='adaptive', learning_rate_init=0.1,\n",
      "                              max_iter=500, random_state=1312, solver='sgd',\n",
      "                              warm_start=True))]), 'cv': 5, 'scoring': 'neg_mean_squared_error', 'n_jobs': -1, 'verbose': 1, 'param_grid': {'regressor__learning_rate': ['constant', 'invscaling', 'adaptive'], 'regressor__learning_rate_init': [0.001, 0.01, 0.1]}}\n",
      "starting hypertuning\n",
      "Fitting 5 folds for each of 16 candidates, totalling 80 fits\n",
      "Best Parameters: {'regressor__early_stopping': True, 'regressor__nesterovs_momentum': False, 'regressor__shuffle': True, 'regressor__warm_start': False}\n"
     ]
    }
   ],
   "source": [
    "hyper.param_grid = {\n",
    "    'regressor__shuffle': [True, False],\n",
    "    'regressor__warm_start': [False, True],\n",
    "    'regressor__nesterovs_momentum': [True, False],\n",
    "    'regressor__early_stopping': [False, True],\n",
    "}\n",
    "print(hyper.search_parameters)\n",
    "new = hyper.tune()\n",
    "model['dnn_params'].update(new)"
   ]
  },
  {
   "cell_type": "code",
   "execution_count": 6,
   "id": "4a702428-1de4-47cf-9d47-d27d0577361f",
   "metadata": {},
   "outputs": [
    {
     "name": "stdout",
     "output_type": "stream",
     "text": [
      "{'estimator': Pipeline(steps=[('preprocessor',\n",
      "                 ColumnTransformer(transformers=[('StandardScaler',\n",
      "                                                  StandardScaler(),\n",
      "                                                  ['days_to_maturity',\n",
      "                                                   'fixing_frequency',\n",
      "                                                   'past_fixings',\n",
      "                                                   'risk_free_rate',\n",
      "                                                   'dividend_rate', 'kappa',\n",
      "                                                   'theta', 'rho', 'eta', 'v0',\n",
      "                                                   'relative_spot']),\n",
      "                                                 ('OneHotEncoder',\n",
      "                                                  OneHotEncoder(sparse_output=False),\n",
      "                                                  ['averaging_type', 'w'])])),\n",
      "                ('regressor',\n",
      "                 MLPRegressor(alpha=0.01, hidden_layer_sizes=(13, 13),\n",
      "                              learning_rate='adaptive', learning_rate_init=0.1,\n",
      "                              max_iter=500, random_state=1312, solver='sgd',\n",
      "                              warm_start=True))]), 'cv': 5, 'scoring': 'neg_mean_squared_error', 'n_jobs': -1, 'verbose': 1, 'param_grid': {'regressor__shuffle': [True, False], 'regressor__warm_start': [False, True], 'regressor__nesterovs_momentum': [True, False], 'regressor__early_stopping': [False, True]}}\n",
      "starting hypertuning\n",
      "Fitting 5 folds for each of 18 candidates, totalling 90 fits\n",
      "Best Parameters: {'regressor__max_iter': 200, 'regressor__power_t': 0.5, 'regressor__tol': 0.0001}\n"
     ]
    }
   ],
   "source": [
    "hyper.param_grid = {\n",
    "    'regressor__power_t': [0.5, 0.25],\n",
    "    'regressor__max_iter': [200, 500, 1000],\n",
    "    'regressor__tol': [0.0001, 0.001, 0.01],\n",
    "}\n",
    "print(hyper.search_parameters)\n",
    "new = hyper.tune()\n",
    "model['dnn_params'].update(new)"
   ]
  },
  {
   "cell_type": "code",
   "execution_count": 7,
   "id": "1648d2c8-a54c-44bf-ab10-97137a6837e8",
   "metadata": {},
   "outputs": [
    {
     "name": "stdout",
     "output_type": "stream",
     "text": [
      "{'estimator': Pipeline(steps=[('preprocessor',\n",
      "                 ColumnTransformer(transformers=[('StandardScaler',\n",
      "                                                  StandardScaler(),\n",
      "                                                  ['days_to_maturity',\n",
      "                                                   'fixing_frequency',\n",
      "                                                   'past_fixings',\n",
      "                                                   'risk_free_rate',\n",
      "                                                   'dividend_rate', 'kappa',\n",
      "                                                   'theta', 'rho', 'eta', 'v0',\n",
      "                                                   'relative_spot']),\n",
      "                                                 ('OneHotEncoder',\n",
      "                                                  OneHotEncoder(sparse_output=False),\n",
      "                                                  ['averaging_type', 'w'])])),\n",
      "                ('regressor',\n",
      "                 MLPRegressor(alpha=0.01, hidden_layer_sizes=(13, 13),\n",
      "                              learning_rate='adaptive', learning_rate_init=0.1,\n",
      "                              max_iter=500, random_state=1312, solver='sgd',\n",
      "                              warm_start=True))]), 'cv': 5, 'scoring': 'neg_mean_squared_error', 'n_jobs': -1, 'verbose': 1, 'param_grid': {'regressor__power_t': [0.5, 0.25], 'regressor__max_iter': [200, 500, 1000], 'regressor__tol': [0.0001, 0.001, 0.01]}}\n",
      "starting hypertuning\n",
      "Fitting 5 folds for each of 16 candidates, totalling 80 fits\n",
      "Best Parameters: {'regressor__alpha': 0.01, 'regressor__batch_size': 32}\n"
     ]
    }
   ],
   "source": [
    "hyper.param_grid = {\n",
    "    'regressor__alpha': [0.0001, 0.001, 0.01, 0.1],\n",
    "    'regressor__batch_size': ['auto', 32, 64, 128],\n",
    "}\n",
    "print(hyper.search_parameters)\n",
    "new = hyper.tune()\n",
    "model['dnn_params'].update(new)"
   ]
  },
  {
   "cell_type": "code",
   "execution_count": 8,
   "id": "c6fd88e5-9f11-4eca-a17e-dff7ad051469",
   "metadata": {},
   "outputs": [
    {
     "name": "stdout",
     "output_type": "stream",
     "text": [
      "{'estimator': Pipeline(steps=[('preprocessor',\n",
      "                 ColumnTransformer(transformers=[('StandardScaler',\n",
      "                                                  StandardScaler(),\n",
      "                                                  ['days_to_maturity',\n",
      "                                                   'fixing_frequency',\n",
      "                                                   'past_fixings',\n",
      "                                                   'risk_free_rate',\n",
      "                                                   'dividend_rate', 'kappa',\n",
      "                                                   'theta', 'rho', 'eta', 'v0',\n",
      "                                                   'relative_spot']),\n",
      "                                                 ('OneHotEncoder',\n",
      "                                                  OneHotEncoder(sparse_output=False),\n",
      "                                                  ['averaging_type', 'w'])])),\n",
      "                ('regressor',\n",
      "                 MLPRegressor(alpha=0.01, hidden_layer_sizes=(13, 13),\n",
      "                              learning_rate='adaptive', learning_rate_init=0.1,\n",
      "                              max_iter=500, random_state=1312, solver='sgd',\n",
      "                              warm_start=True))]), 'cv': 5, 'scoring': 'neg_mean_squared_error', 'n_jobs': -1, 'verbose': 1, 'param_grid': {'regressor__alpha': [0.0001, 0.001, 0.01, 0.1], 'regressor__batch_size': ['auto', 32, 64, 128]}}\n",
      "starting hypertuning\n",
      "Fitting 5 folds for each of 9 candidates, totalling 45 fits\n",
      "Best Parameters: {'regressor__momentum': 0.9, 'regressor__validation_fraction': 0.1}\n"
     ]
    }
   ],
   "source": [
    "hyper.param_grid = {\n",
    "    'regressor__momentum': [0.9, 0.8, 0.7],\n",
    "    'regressor__validation_fraction': [0.1, 0.15, 0.2],\n",
    "}\n",
    "print(hyper.search_parameters)\n",
    "new = hyper.tune()\n",
    "model['dnn_params'].update(new)"
   ]
  },
  {
   "cell_type": "code",
   "execution_count": 9,
   "id": "a5d13629-8c2f-469b-9e0b-82e5b7ac24f9",
   "metadata": {},
   "outputs": [
    {
     "name": "stdout",
     "output_type": "stream",
     "text": [
      "{'estimator': Pipeline(steps=[('preprocessor',\n",
      "                 ColumnTransformer(transformers=[('StandardScaler',\n",
      "                                                  StandardScaler(),\n",
      "                                                  ['days_to_maturity',\n",
      "                                                   'fixing_frequency',\n",
      "                                                   'past_fixings',\n",
      "                                                   'risk_free_rate',\n",
      "                                                   'dividend_rate', 'kappa',\n",
      "                                                   'theta', 'rho', 'eta', 'v0',\n",
      "                                                   'relative_spot']),\n",
      "                                                 ('OneHotEncoder',\n",
      "                                                  OneHotEncoder(sparse_output=False),\n",
      "                                                  ['averaging_type', 'w'])])),\n",
      "                ('regressor',\n",
      "                 MLPRegressor(alpha=0.01, hidden_layer_sizes=(13, 13),\n",
      "                              learning_rate='adaptive', learning_rate_init=0.1,\n",
      "                              max_iter=500, random_state=1312, solver='sgd',\n",
      "                              warm_start=True))]), 'cv': 5, 'scoring': 'neg_mean_squared_error', 'n_jobs': -1, 'verbose': 1, 'param_grid': {'regressor__momentum': [0.9, 0.8, 0.7], 'regressor__validation_fraction': [0.1, 0.15, 0.2]}}\n",
      "starting hypertuning\n",
      "Fitting 5 folds for each of 4 candidates, totalling 20 fits\n",
      "Best Parameters: {'regressor__beta_1': 0.9, 'regressor__beta_2': 0.999}\n"
     ]
    }
   ],
   "source": [
    "hyper.param_grid = {\n",
    "    'regressor__beta_1': [0.9, 0.85],\n",
    "    'regressor__beta_2': [0.999, 0.99],\n",
    "}\n",
    "print(hyper.search_parameters)\n",
    "new = hyper.tune()\n",
    "model['dnn_params'].update(new)"
   ]
  },
  {
   "cell_type": "code",
   "execution_count": 10,
   "id": "ecdc4f67-804b-4132-b22c-881d03313c30",
   "metadata": {},
   "outputs": [
    {
     "name": "stdout",
     "output_type": "stream",
     "text": [
      "{'estimator': Pipeline(steps=[('preprocessor',\n",
      "                 ColumnTransformer(transformers=[('StandardScaler',\n",
      "                                                  StandardScaler(),\n",
      "                                                  ['days_to_maturity',\n",
      "                                                   'fixing_frequency',\n",
      "                                                   'past_fixings',\n",
      "                                                   'risk_free_rate',\n",
      "                                                   'dividend_rate', 'kappa',\n",
      "                                                   'theta', 'rho', 'eta', 'v0',\n",
      "                                                   'relative_spot']),\n",
      "                                                 ('OneHotEncoder',\n",
      "                                                  OneHotEncoder(sparse_output=False),\n",
      "                                                  ['averaging_type', 'w'])])),\n",
      "                ('regressor',\n",
      "                 MLPRegressor(alpha=0.01, hidden_layer_sizes=(13, 13),\n",
      "                              learning_rate='adaptive', learning_rate_init=0.1,\n",
      "                              max_iter=500, random_state=1312, solver='sgd',\n",
      "                              warm_start=True))]), 'cv': 5, 'scoring': 'neg_mean_squared_error', 'n_jobs': -1, 'verbose': 1, 'param_grid': {'regressor__beta_1': [0.9, 0.85], 'regressor__beta_2': [0.999, 0.99]}}\n",
      "starting hypertuning\n",
      "Fitting 5 folds for each of 8 candidates, totalling 40 fits\n",
      "Best Parameters: {'regressor__epsilon': 1e-08, 'regressor__max_fun': 15000, 'regressor__n_iter_no_change': 20}\n"
     ]
    }
   ],
   "source": [
    "hyper.param_grid = {\n",
    "    'regressor__epsilon': [1e-08, 1e-06],\n",
    "    'regressor__n_iter_no_change': [10, 20],\n",
    "    'regressor__max_fun': [15000, 20000]\n",
    "}\n",
    "print(hyper.search_parameters)\n",
    "new = hyper.tune()\n",
    "model['dnn_params'].update(new)"
   ]
  },
  {
   "cell_type": "code",
   "execution_count": 11,
   "id": "10497f94-1309-419d-bf79-bd0ca9a2bff5",
   "metadata": {},
   "outputs": [
    {
     "data": {
      "text/plain": [
       "{'alpha': 0.01,\n",
       " 'hidden_layer_sizes': (13, 13),\n",
       " 'learning_rate': 'adaptive',\n",
       " 'learning_rate_init': 0.1,\n",
       " 'solver': 'sgd',\n",
       " 'early_stopping': True,\n",
       " 'max_iter': 200,\n",
       " 'warm_start': False,\n",
       " 'tol': 0.0001,\n",
       " 'random_state': 1312,\n",
       " 'nesterovs_momentum': False,\n",
       " 'shuffle': True,\n",
       " 'power_t': 0.5,\n",
       " 'batch_size': 32,\n",
       " 'momentum': 0.9,\n",
       " 'validation_fraction': 0.1,\n",
       " 'beta_1': 0.9,\n",
       " 'beta_2': 0.999,\n",
       " 'epsilon': 1e-08,\n",
       " 'max_fun': 15000,\n",
       " 'n_iter_no_change': 20}"
      ]
     },
     "execution_count": 11,
     "metadata": {},
     "output_type": "execute_result"
    }
   ],
   "source": [
    "model['dnn_params']"
   ]
  }
 ],
 "metadata": {
  "kernelspec": {
   "display_name": "Python 3 (ipykernel)",
   "language": "python",
   "name": "python3"
  },
  "language_info": {
   "codemirror_mode": {
    "name": "ipython",
    "version": 3
   },
   "file_extension": ".py",
   "mimetype": "text/x-python",
   "name": "python",
   "nbconvert_exporter": "python",
   "pygments_lexer": "ipython3",
   "version": "3.12.7"
  }
 },
 "nbformat": 4,
 "nbformat_minor": 5
}
