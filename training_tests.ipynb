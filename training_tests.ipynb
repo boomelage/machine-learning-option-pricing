{
 "cells": [
  {
   "cell_type": "code",
   "execution_count": 1,
   "id": "6140f92e-62cd-4b85-8085-d31182f84386",
   "metadata": {},
   "outputs": [
    {
     "name": "stdout",
     "output_type": "stream",
     "text": [
      "0     .DS_Store\n",
      "1     2024_10_27 08-05-24 Deep Neural Network asian options\n"
     ]
    }
   ],
   "source": [
    "import os\n",
    "import joblib\n",
    "import pandas as pd\n",
    "import numpy as np\n",
    "import matplotlib.pyplot as plt\n",
    "from pathlib import Path\n",
    "from model_settings import ms\n",
    "from convsklearn import asian_trainer\n",
    "\n",
    "from sklearn.model_selection import train_test_split\n",
    "from sklearn.preprocessing import StandardScaler, PowerTransformer\n",
    "from sklearn import ensemble\n",
    "from sklearn.preprocessing import OneHotEncoder\n",
    "from sklearn.compose import ColumnTransformer,TransformedTargetRegressor\n",
    "from sklearn.pipeline import Pipeline\n",
    "from sklearn.model_selection import GridSearchCV\n",
    "\n",
    "\n",
    "trainer = asian_trainer\n",
    "root = Path().resolve().parent.parent\n",
    "models_dir = os.path.join(Path().resolve(),'trained_models','trained_models')\n",
    "models = [f for f in os.listdir(models_dir) if f.find('ipynb')==-1]\n",
    "for i,m in enumerate(models):\n",
    "    print(f\"{i}     {m}\")"
   ]
  },
  {
   "cell_type": "code",
   "execution_count": 2,
   "id": "f586741b-1683-494c-8a79-4cc3278d3136",
   "metadata": {},
   "outputs": [
    {
     "name": "stdout",
     "output_type": "stream",
     "text": [
      "0     2024_10_27 08-05-24 Deep Neural Network asian options insample.csv\n",
      "1     2024_10_27 08-05-24 Deep Neural Network asian options outsample.csv\n",
      "2     2024_10_27 08-05-24 Deep Neural Network asian options.pkl\n",
      "3     2024_10_27 08-05-24 Deep Neural Network asian options.txt\n"
     ]
    }
   ],
   "source": [
    "model = models[1]\n",
    "model_dir = os.path.join(models_dir,model)\n",
    "model_files = [f for f in os.listdir(model_dir) if f.find('ipynb')==-1 and f.find('.html')==-1]\n",
    "for i,m in enumerate(model_files):\n",
    "    print(f\"{i}     {m}\")"
   ]
  },
  {
   "cell_type": "code",
   "execution_count": 3,
   "id": "44d3c0e2-16c5-414d-ba63-a12236536745",
   "metadata": {},
   "outputs": [],
   "source": [
    "train_data = pd.read_csv(os.path.join(model_dir,[f for f in model_files if f.find('insample')!=-1][0])).iloc[:,1:].copy()\n",
    "test_data = pd.read_csv(os.path.join(model_dir,[f for f in model_files if f. find('outsample')!=-1][0])).iloc[:,1:].copy()\n",
    "arrs = trainer.get_train_test_arrays(train_data,test_data)\n",
    "test_X = arrs['test_X']\n",
    "test_y = arrs['test_y']\n",
    "train_X = arrs['train_X']\n",
    "train_y = arrs['train_y']"
   ]
  },
  {
   "cell_type": "code",
   "execution_count": 4,
   "id": "836e5ec4-450d-4c9d-a929-df6020a3eca5",
   "metadata": {},
   "outputs": [],
   "source": [
    "scaler = StandardScaler()\n",
    "\n",
    "preprocessor = ColumnTransformer(\n",
    "    transformers=[\n",
    "        ('num', scaler, trainer.numerical_features),\n",
    "        ('cat', OneHotEncoder(), trainer.categorical_features)\n",
    "    ]\n",
    ")\n",
    "\n",
    "params = {\n",
    "    \"n_estimators\": 500,\n",
    "    \"max_depth\": 4,\n",
    "    \"min_samples_split\": len(trainer.feature_set),\n",
    "    \"learning_rate\": 0.01,\n",
    "    \"loss\": \"squared_error\",\n",
    "}\n",
    "\n",
    "gbr = Pipeline(steps=[\n",
    "    ('preprocessor', preprocessor),\n",
    "    ('regressor', ensemble.GradientBoostingRegressor(**params))\n",
    "])\n",
    "\n",
    "gbr = TransformedTargetRegressor(\n",
    "            regressor=gbr,\n",
    "            transformer=Pipeline([\n",
    "                (\"feature_scaler\", scaler),\n",
    "            ])\n",
    ")"
   ]
  },
  {
   "cell_type": "code",
   "execution_count": null,
   "id": "aa1c155e-7b08-4f2c-a796-f13ab39f443b",
   "metadata": {},
   "outputs": [
    {
     "name": "stdout",
     "output_type": "stream",
     "text": [
      "Fitting 5 folds for each of 81 candidates, totalling 405 fits\n"
     ]
    }
   ],
   "source": [
    "param_grid = {\n",
    "    \"regressor__regressor__n_estimators\": [100, 300, 500],\n",
    "    \"regressor__regressor__learning_rate\": [0.01, 0.05, 0.1],\n",
    "    \"regressor__regressor__max_depth\": [3, 4, 5],\n",
    "    \"regressor__regressor__min_samples_split\": [2, 5, 10]\n",
    "}\n",
    "\n",
    "grid_search = GridSearchCV(\n",
    "    estimator=gbr,\n",
    "    param_grid=param_grid,\n",
    "    cv=5,\n",
    "    scoring=\"neg_mean_squared_error\",\n",
    "    n_jobs=-1,\n",
    "    verbose=1\n",
    ")\n",
    "\n",
    "grid_search.fit(train_X, train_y)\n",
    "print(\"Best Parameters:\", grid_search.best_params_)"
   ]
  },
  {
   "cell_type": "code",
   "execution_count": null,
   "id": "fb531b38-c7ea-4ac7-bf12-1073e954d1c7",
   "metadata": {},
   "outputs": [],
   "source": [
    "gbr_fit = gbr.fit(train_X, train_y)\n",
    "insample,outsample,errors = trainer.test_prediction_accuracy(gbr_fit,new_test,new_train)"
   ]
  }
 ],
 "metadata": {
  "kernelspec": {
   "display_name": "Python 3 (ipykernel)",
   "language": "python",
   "name": "python3"
  },
  "language_info": {
   "codemirror_mode": {
    "name": "ipython",
    "version": 3
   },
   "file_extension": ".py",
   "mimetype": "text/x-python",
   "name": "python",
   "nbconvert_exporter": "python",
   "pygments_lexer": "ipython3",
   "version": "3.12.7"
  }
 },
 "nbformat": 4,
 "nbformat_minor": 5
}
