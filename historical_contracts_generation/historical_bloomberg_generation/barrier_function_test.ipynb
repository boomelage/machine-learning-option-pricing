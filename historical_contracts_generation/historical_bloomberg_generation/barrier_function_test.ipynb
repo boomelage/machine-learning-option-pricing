{
 "cells": [
  {
   "cell_type": "code",
   "execution_count": 1,
   "id": "806c9935-d3f9-415b-b537-4272f789f9e3",
   "metadata": {},
   "outputs": [],
   "source": [
    "import pandas as pd\n",
    "with pd.HDFStore('SPX barriers.h5') as store:\n",
    "    key = store.keys()[0]\n",
    "    df = store[key]\n",
    "store.close()"
   ]
  },
  {
   "cell_type": "code",
   "execution_count": 2,
   "id": "13d18641-c196-4c8c-b1e6-ffdec1104800",
   "metadata": {},
   "outputs": [],
   "source": [
    "df = df.iloc[:50].copy()"
   ]
  },
  {
   "cell_type": "code",
   "execution_count": 3,
   "id": "d8922536-2492-40f2-b1c2-1be428a41116",
   "metadata": {},
   "outputs": [
    {
     "name": "stdout",
     "output_type": "stream",
     "text": [
      "\n",
      "pricing settings:\n",
      "Actual/365 (Fixed) day counter\n",
      "New York stock exchange calendar\n",
      "compounding: continuous\n",
      "frequency: annual\n",
      "\n",
      "barrier option pricer initialized\n"
     ]
    }
   ],
   "source": [
    "from model_settings import barrier_option_pricer\n",
    "bop = barrier_option_pricer.barrier_option_pricer()"
   ]
  },
  {
   "cell_type": "code",
   "execution_count": 4,
   "id": "947112bf-4122-4b55-afca-ecffa2d14533",
   "metadata": {},
   "outputs": [],
   "source": [
    "prices = bop.df_barrier_price(df)"
   ]
  },
  {
   "cell_type": "code",
   "execution_count": 5,
   "id": "e07e3bbc-332e-41b1-b089-05a41c79ff0d",
   "metadata": {},
   "outputs": [
    {
     "data": {
      "text/plain": [
       "[8.719778297426569,\n",
       " 0,\n",
       " 15.090684102383296,\n",
       " 0.009204575896472278,\n",
       " 30.823284347835852,\n",
       " 0.8729592965993369,\n",
       " 45.7215647549558,\n",
       " 10.100862369088993,\n",
       " 47.921478229954346,\n",
       " 25.421672201213624,\n",
       " 45.311409173355706,\n",
       " 41.778583848512106,\n",
       " 8.667624721490522,\n",
       " 0.046957115380338976,\n",
       " 14.517910806360568,\n",
       " 0.5819778719192001,\n",
       " 24.06932312420642,\n",
       " 7.626920520228769,\n",
       " 24.367346337696393,\n",
       " 31.4550807863484,\n",
       " 20.009788766662307,\n",
       " 53.33336166450566,\n",
       " 16.098887750028084,\n",
       " 70.99110527183973,\n",
       " 6.795600908761429,\n",
       " 1.9189809281094323,\n",
       " 8.649547056200777,\n",
       " 6.450341622078991,\n",
       " 7.995676040689988,\n",
       " 23.7005676037452,\n",
       " 4.791049819237523,\n",
       " 51.03137730480727,\n",
       " 3.1233334068635843,\n",
       " 70.21981702430439,\n",
       " 2.2177840641308153,\n",
       " 84.872208957737,\n",
       " 0.25955513979212586,\n",
       " 8.455026697078736,\n",
       " 0.19685234831316126,\n",
       " 14.903036329966607,\n",
       " 0.10520039511258368,\n",
       " 31.591043249322606,\n",
       " 0.054116293405815745,\n",
       " 55.768310830638974,\n",
       " 0.03711917354273811,\n",
       " 73.30603125762524,\n",
       " 0.028860057544549306,\n",
       " 87.06113296432326,\n",
       " 0.0,\n",
       " 8.714581836870861]"
      ]
     },
     "execution_count": 5,
     "metadata": {},
     "output_type": "execute_result"
    }
   ],
   "source": [
    "prices"
   ]
  },
  {
   "cell_type": "code",
   "execution_count": null,
   "id": "877b9138-a552-4808-86b2-10b95bf123bc",
   "metadata": {},
   "outputs": [],
   "source": []
  }
 ],
 "metadata": {
  "kernelspec": {
   "display_name": "Python 3 (ipykernel)",
   "language": "python",
   "name": "python3"
  },
  "language_info": {
   "codemirror_mode": {
    "name": "ipython",
    "version": 3
   },
   "file_extension": ".py",
   "mimetype": "text/x-python",
   "name": "python",
   "nbconvert_exporter": "python",
   "pygments_lexer": "ipython3",
   "version": "3.12.7"
  }
 },
 "nbformat": 4,
 "nbformat_minor": 5
}
