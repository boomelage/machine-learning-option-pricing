{
 "cells": [
  {
   "cell_type": "markdown",
   "id": "39073f85-f027-433c-b57d-255c4129d51d",
   "metadata": {},
   "source": [
    "# standard"
   ]
  },
  {
   "cell_type": "code",
   "execution_count": 1,
   "id": "806c9935-d3f9-415b-b537-4272f789f9e3",
   "metadata": {},
   "outputs": [
    {
     "name": "stdout",
     "output_type": "stream",
     "text": [
      "\n",
      "pricing settings:\n",
      "Actual/365 (Fixed) day counter\n",
      "New York stock exchange calendar\n",
      "compounding: continuous\n",
      "frequency: annual\n",
      "\n"
     ]
    }
   ],
   "source": [
    "import time\n",
    "import pandas as pd\n",
    "with pd.HDFStore('SPX barriers.h5') as store:\n",
    "    key = store.keys()[0]\n",
    "    df = store[key].iloc[:150]\n",
    "store.close()\n",
    "from model_settings import barrier_option_pricer\n",
    "bop = barrier_option_pricer.barrier_option_pricer()"
   ]
  },
  {
   "cell_type": "code",
   "execution_count": 2,
   "id": "947112bf-4122-4b55-afca-ecffa2d14533",
   "metadata": {},
   "outputs": [
    {
     "ename": "NameError",
     "evalue": "name 'bop' is not defined",
     "output_type": "error",
     "traceback": [
      "\u001b[1;31m---------------------------------------------------------------------------\u001b[0m",
      "\u001b[1;31mNameError\u001b[0m                                 Traceback (most recent call last)",
      "Cell \u001b[1;32mIn[2], line 2\u001b[0m\n\u001b[0;32m      1\u001b[0m start \u001b[38;5;241m=\u001b[39m time\u001b[38;5;241m.\u001b[39mtime()\n\u001b[1;32m----> 2\u001b[0m prices \u001b[38;5;241m=\u001b[39m \u001b[43mbop\u001b[49m\u001b[38;5;241m.\u001b[39mdf_barrier_price(df)\n\u001b[0;32m      3\u001b[0m end \u001b[38;5;241m=\u001b[39m time\u001b[38;5;241m.\u001b[39mtime()\n\u001b[0;32m      4\u001b[0m \u001b[38;5;28mprint\u001b[39m(\u001b[38;5;124m'\u001b[39m\u001b[38;5;124mjoblib parallel cpu time:\u001b[39m\u001b[38;5;124m'\u001b[39m)\n",
      "\u001b[1;31mNameError\u001b[0m: name 'bop' is not defined"
     ]
    }
   ],
   "source": [
    "start = time.time()\n",
    "prices = bop.df_barrier_price(df)\n",
    "end = time.time()\n",
    "print('joblib parallel cpu time:')\n",
    "print(end-start)"
   ]
  },
  {
   "cell_type": "code",
   "execution_count": null,
   "id": "1429e08a-5e97-4784-958b-936cce7212db",
   "metadata": {},
   "outputs": [],
   "source": [
    "start = time.time()\n",
    "prices = df.apply(bop.row_barrier_price,axis=1)\n",
    "end = time.time()\n",
    "print('pandas apply cpu time:')\n",
    "print(end-start)"
   ]
  },
  {
   "cell_type": "markdown",
   "id": "c1399ecf-4dda-499a-89cd-b2ba7ba3bb7c",
   "metadata": {},
   "source": [
    "# with modin"
   ]
  },
  {
   "cell_type": "code",
   "execution_count": null,
   "id": "8e92b9b9-d3ba-435e-b4ef-1258e722280d",
   "metadata": {},
   "outputs": [],
   "source": [
    "import modin.pandas as pd\n",
    "with pd.HDFStore('SPX barriers.h5') as store:\n",
    "    key = store.keys()[0]\n",
    "    df = store[key].iloc[:150]\n",
    "store.close()\n"
   ]
  },
  {
   "cell_type": "code",
   "execution_count": null,
   "id": "335a0d9b-1725-4013-af6a-31787e5fa7ce",
   "metadata": {},
   "outputs": [],
   "source": [
    "start = time.time()\n",
    "prices = bop.df_barrier_price(df)\n",
    "end = time.time()\n",
    "print('joblib parallel cpu time:')\n",
    "print(end-start)"
   ]
  },
  {
   "cell_type": "code",
   "execution_count": null,
   "id": "73fefa33-6adc-4e31-bb4b-03062e9d8095",
   "metadata": {},
   "outputs": [],
   "source": [
    "start = time.time()\n",
    "prices = df.apply(bop.row_barrier_price,axis=1)\n",
    "end = time.time()\n",
    "print('pandas apply cpu time:')\n",
    "print(end-start)"
   ]
  }
 ],
 "metadata": {
  "kernelspec": {
   "display_name": "Python 3 (ipykernel)",
   "language": "python",
   "name": "python3"
  },
  "language_info": {
   "codemirror_mode": {
    "name": "ipython",
    "version": 3
   },
   "file_extension": ".py",
   "mimetype": "text/x-python",
   "name": "python",
   "nbconvert_exporter": "python",
   "pygments_lexer": "ipython3",
   "version": "3.12.7"
  }
 },
 "nbformat": 4,
 "nbformat_minor": 5
}
