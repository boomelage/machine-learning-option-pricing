from pathlib import Path
import os
import sys
notebook_dir = str(Path().resolve())
parent_dir = str(Path().resolve().parent)
sys.path.append(parent_dir)





files = os.listdir(notebook_dir)
file = [file for file in files if file.endswith('.csv')][0]
file = os.path.join(notebook_dir,file)
file


import modin.pandas as pd
historical_calibrated = pd.read_csv(file).iloc[:,1:]
historical_calibrated






