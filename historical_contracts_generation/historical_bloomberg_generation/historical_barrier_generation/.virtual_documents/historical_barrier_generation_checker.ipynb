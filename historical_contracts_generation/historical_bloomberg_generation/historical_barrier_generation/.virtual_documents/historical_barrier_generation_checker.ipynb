from pathlib import Path
import os
import sys
import pandas as pd
import modin.pandas as md
notebook_dir = str(Path().resolve())
parent_dir = str(Path().resolve().parent)
sys.path.append(parent_dir)
os.listdir(parent_dir)


from HDF_collection import contracts


latest = max(contracts['calculation_date'].unique()).strftime('%Y-%m-%d')


files = os.listdir(notebook_dir)
file = [file for file in files if file.endswith('.csv')][0]
file = os.path.join(notebook_dir,file)
file


historical_calibrated = md.read_csv(file).iloc[:,1:]
historical_calibrated.columns


historical_calibrated[historical_calibrated['date']==latest]









