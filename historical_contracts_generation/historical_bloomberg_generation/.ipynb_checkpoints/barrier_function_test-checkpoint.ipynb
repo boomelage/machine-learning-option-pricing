{
 "cells": [
  {
   "cell_type": "code",
   "execution_count": 1,
   "id": "806c9935-d3f9-415b-b537-4272f789f9e3",
   "metadata": {},
   "outputs": [
    {
     "name": "stdout",
     "output_type": "stream",
     "text": [
      "barrier option pricer initialized\n"
     ]
    }
   ],
   "source": [
    "import time\n",
    "import pandas as pd\n",
    "with pd.HDFStore('SPX barriers.h5') as store:\n",
    "    key = store.keys()[0]\n",
    "    df = store[key].iloc[:150]\n",
    "store.close()\n",
    "from model_settings import barrier_option_pricer\n",
    "bop = barrier_option_pricer.barrier_option_pricer()"
   ]
  },
  {
   "cell_type": "code",
   "execution_count": 2,
   "id": "947112bf-4122-4b55-afca-ecffa2d14533",
   "metadata": {},
   "outputs": [
    {
     "name": "stdout",
     "output_type": "stream",
     "text": [
      "joblib parallel cpu time:\n",
      "1.6424150466918945\n"
     ]
    }
   ],
   "source": [
    "start = time.time()\n",
    "prices = bop.df_barrier_price(df)\n",
    "end = time.time()\n",
    "print('joblib parallel cpu time:')\n",
    "print(end-start)"
   ]
  },
  {
   "cell_type": "code",
   "execution_count": 3,
   "id": "1429e08a-5e97-4784-958b-936cce7212db",
   "metadata": {},
   "outputs": [
    {
     "name": "stdout",
     "output_type": "stream",
     "text": [
      "pandas apply cpu time:\n",
      "11.358916997909546\n"
     ]
    }
   ],
   "source": [
    "start = time.time()\n",
    "prices = df.apply(bop.row_barrier_price,axis=1)\n",
    "end = time.time()\n",
    "print('pandas apply cpu time:')\n",
    "print(end-start)"
   ]
  }
 ],
 "metadata": {
  "kernelspec": {
   "display_name": "Python 3 (ipykernel)",
   "language": "python",
   "name": "python3"
  },
  "language_info": {
   "codemirror_mode": {
    "name": "ipython",
    "version": 3
   },
   "file_extension": ".py",
   "mimetype": "text/x-python",
   "name": "python",
   "nbconvert_exporter": "python",
   "pygments_lexer": "ipython3",
   "version": "3.12.7"
  }
 },
 "nbformat": 4,
 "nbformat_minor": 5
}
