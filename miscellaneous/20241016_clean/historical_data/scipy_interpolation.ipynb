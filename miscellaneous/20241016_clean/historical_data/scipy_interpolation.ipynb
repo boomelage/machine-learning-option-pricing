{
 "cells": [
  {
   "cell_type": "code",
   "execution_count": null,
   "id": "3358969d-3c97-41a9-847d-8a10f2ffc956",
   "metadata": {},
   "outputs": [],
   "source": [
    "import numpy as np\n",
    "from scipy import interpolate\n",
    "import pandas as pd\n",
    "import matplotlib.pyplot as plt\n",
    "from matplotlib import cm\n",
    "import QuantLib as ql\n",
    "\n",
    "#Let's create some random  data\n",
    "array = np.random.randint(0,10,(10,10)).astype(float)\n",
    "#values grater then 7 goes to np.nan\n",
    "array[array>7] = np.nan"
   ]
  },
  {
   "cell_type": "code",
   "execution_count": null,
   "id": "62671d21-927f-4fb3-a5be-2f917a089814",
   "metadata": {},
   "outputs": [],
   "source": [
    "array"
   ]
  },
  {
   "cell_type": "code",
   "execution_count": null,
   "id": "16083132-cdbd-4669-8c4d-ab0d1cb168ce",
   "metadata": {},
   "outputs": [],
   "source": [
    "x = np.arange(0, array.shape[1])\n",
    "y = np.arange(0, array.shape[0])\n",
    "#mask invalid values\n",
    "array = np.ma.masked_invalid(array)\n",
    "xx, yy = np.meshgrid(x, y)\n",
    "#get only the valid values\n",
    "x1 = xx[~array.mask]\n",
    "y1 = yy[~array.mask]\n",
    "newarr = array[~array.mask]\n",
    "\n",
    "GD1 = interpolate.griddata((x1, y1), newarr.ravel(),\n",
    "                          (xx, yy),\n",
    "                             method='cubic')"
   ]
  },
  {
   "cell_type": "code",
   "execution_count": null,
   "id": "6546ce05-f1c7-4f8e-aac0-718f1b8af5b0",
   "metadata": {},
   "outputs": [],
   "source": [
    "GD1"
   ]
  },
  {
   "cell_type": "code",
   "execution_count": null,
   "id": "4f04f860-c447-490e-bcad-790e59ffc42a",
   "metadata": {},
   "outputs": [],
   "source": [
    "from historical_alphaVantage_collection import ivol_df\n",
    "ivol_df"
   ]
  },
  {
   "cell_type": "code",
   "execution_count": null,
   "id": "29353abf-e665-45fa-9666-11b73ddc1d02",
   "metadata": {},
   "outputs": [],
   "source": [
    "ivol_df = ivol_df.dropna(how='all',axis=0).dropna(how='all',axis=1)\n",
    "print(f\"\\nT: \\n{ivol_df.columns.tolist()}\\n\")\n",
    "print(f\"\\nK: \\n{ivol_df.index.tolist()}\\n\")"
   ]
  },
  {
   "cell_type": "code",
   "execution_count": null,
   "id": "4056ec12-0815-420f-ab26-ce94045ee320",
   "metadata": {},
   "outputs": [],
   "source": [
    "strikes = ivol_df.iloc[:,0].dropna().index\n",
    "ivol_df = ivol_df.loc[strikes,:].copy()\n",
    "T = ivol_df.columns.tolist()\n",
    "K = ivol_df.index.tolist()\n",
    "ivol_df"
   ]
  },
  {
   "cell_type": "code",
   "execution_count": null,
   "id": "0132c717-4ffc-435a-b215-140154351a27",
   "metadata": {},
   "outputs": [],
   "source": [
    "ivol_array = ivol_df.to_numpy()\n",
    "ivol_array"
   ]
  },
  {
   "cell_type": "code",
   "execution_count": null,
   "id": "38045fca-4f66-44c4-b342-84f357a52268",
   "metadata": {},
   "outputs": [],
   "source": [
    "x = np.arange(0, ivol_array.shape[1])\n",
    "y = np.arange(0, ivol_array.shape[0])\n",
    "#mask invalid values\n",
    "array = np.ma.masked_invalid(ivol_array)\n",
    "xx, yy = np.meshgrid(x, y)\n",
    "#get only the valid values\n",
    "x1 = xx[~array.mask]\n",
    "y1 = yy[~array.mask]\n",
    "newarr = array[~array.mask]\n",
    "\n",
    "GD1 = interpolate.griddata((x1, y1), newarr.ravel(),\n",
    "                          (xx, yy),\n",
    "                            method='cubic')\n",
    "\n",
    "GD1"
   ]
  },
  {
   "cell_type": "code",
   "execution_count": null,
   "id": "6c6ffb87-15d2-4b33-80ea-31055703b55d",
   "metadata": {},
   "outputs": [],
   "source": [
    "vol_surf = pd.DataFrame(\n",
    "    ivol_array,\n",
    "    index = K,\n",
    "    columns = T\n",
    ").copy()\n",
    "\n",
    "vol_surf"
   ]
  },
  {
   "cell_type": "code",
   "execution_count": null,
   "id": "44ea2c0d-ee54-43ef-bd56-491518e23a6f",
   "metadata": {},
   "outputs": [],
   "source": [
    "vol_surf = ivol_df.loc[:,ivol_df.columns>0].dropna(how='any', axis=1).copy()\n",
    "K = vol_surf.index.tolist()\n",
    "T = vol_surf.columns.tolist()\n",
    "vol_surf"
   ]
  },
  {
   "cell_type": "code",
   "execution_count": null,
   "id": "959c208b-2677-4d05-a765-838ddba94332",
   "metadata": {},
   "outputs": [],
   "source": [
    "vol_matrix = ql.Matrix(len(K),len(T),0.0)\n",
    "for i,k in enumerate(K):\n",
    "    for j,t in enumerate(T):\n",
    "        vol_matrix[i][j] = float(vol_surf.loc[k,t])\n",
    "\n",
    "print(vol_matrix)"
   ]
  },
  {
   "cell_type": "code",
   "execution_count": null,
   "id": "152c0ed0-048a-4c88-9416-ecd2c8ec827c",
   "metadata": {},
   "outputs": [],
   "source": [
    "bicubic_vol = ql.BicubicSpline(T,K,vol_matrix)"
   ]
  },
  {
   "cell_type": "code",
   "execution_count": null,
   "id": "f3dc3a6b-6f27-4d5e-a307-cfefa889ef59",
   "metadata": {},
   "outputs": [],
   "source": [
    "K = np.linspace(\n",
    "    min(K),\n",
    "    max(K),\n",
    "    50\n",
    ")\n",
    "T = np.linspace(\n",
    "    1,\n",
    "    10,\n",
    "    50\n",
    ")\n",
    "\n",
    "KK,TT = np.meshgrid(K,T)\n",
    "\n",
    "V = np.array(\n",
    "    [[bicubic_vol(float(t),float(k),False) for k in K] for t in T]\n",
    "    )\n",
    "\n",
    "plt.rcParams['figure.figsize']=(7,5)\n",
    "\n",
    "fig = plt.figure()\n",
    "ax = fig.add_subplot(projection='3d')\n",
    "ax.view_init(elev=20, azim=120)  \n",
    "surf = ax.plot_surface(KK,TT,V, rstride=1, cstride=1, cmap=cm.coolwarm,\n",
    "                linewidth=0.1)\n",
    "fig.colorbar(surf, shrink=0.3, aspect=5)\n",
    "\n",
    "ax.set_xlabel(\"Strike\", size=9)\n",
    "ax.set_ylabel(\"Maturity\", size=9)\n",
    "ax.set_zlabel(\"Volatility\", size=9)\n",
    "\n",
    "plt.tight_layout()\n",
    "plt.show()\n",
    "plt.cla()\n",
    "plt.clf()"
   ]
  }
 ],
 "metadata": {
  "kernelspec": {
   "display_name": "Python 3 (ipykernel)",
   "language": "python",
   "name": "python3"
  },
  "language_info": {
   "codemirror_mode": {
    "name": "ipython",
    "version": 3
   },
   "file_extension": ".py",
   "mimetype": "text/x-python",
   "name": "python",
   "nbconvert_exporter": "python",
   "pygments_lexer": "ipython3",
   "version": "3.12.7"
  }
 },
 "nbformat": 4,
 "nbformat_minor": 5
}
