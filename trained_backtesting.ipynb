{
 "cells": [
  {
   "cell_type": "code",
   "execution_count": null,
   "id": "ebb2167f-a343-46fa-8483-f7d3cac0f399",
   "metadata": {},
   "outputs": [],
   "source": [
    "import os\n",
    "import joblib\n",
    "import pandas as pd\n",
    "import numpy as np\n",
    "import matplotlib.pyplot as plt\n",
    "from pathlib import Path"
   ]
  },
  {
   "cell_type": "markdown",
   "id": "b2b2659b-972b-49fc-be2d-a1a9d7857433",
   "metadata": {},
   "source": [
    "# functions"
   ]
  },
  {
   "cell_type": "code",
   "execution_count": null,
   "id": "70228cb9-25bb-43b3-96db-c09e3384361e",
   "metadata": {},
   "outputs": [],
   "source": [
    "def compute_RMSE(diff):\n",
    "    if len(diff)>0:\n",
    "        return np.sqrt(np.mean(diff.values**2))\n",
    "        \n",
    "def compute_MAE(diff):\n",
    "    if len(diff)>0:\n",
    "        return np.mean(np.abs(diff.values))\n",
    "\n",
    "def plot_errors(train_data,test_data):\n",
    "    test_diff = test_data['outofsample_error']\n",
    "    train_diff = train_data['insample_error']\n",
    "    \n",
    "    test_plot = test_data[['date','spot_price','rho','v0']].copy()\n",
    "    test_plot = test_plot.reset_index().set_index('date')\n",
    "    test_plot['MAE'] = test_diff.resample('D').apply(compute_RMSE)\n",
    "    test_plot['RMSE'] = test_diff.resample('D').apply(compute_RMSE)\n",
    "    test_plot = test_plot.reset_index()\n",
    "    test_plot = test_plot.drop_duplicates(subset=['date'],keep='last').set_index('date').drop(columns='calculation_date')\n",
    "    \n",
    "    train_plot = train_data[['date','spot_price','rho','v0']].copy()\n",
    "    train_plot = train_plot.reset_index().set_index('date')\n",
    "    train_plot['MAE'] = train_diff.resample('D').apply(compute_RMSE)\n",
    "    train_plot['RMSE'] = train_diff.resample('D').apply(compute_RMSE)\n",
    "    train_plot = train_plot.reset_index()\n",
    "    train_plot = train_plot.drop_duplicates(subset=['date'],keep='last').set_index('date').drop(columns='calculation_date')\n",
    "    trainx = pd.date_range(start=min(train_data.index),end=max(train_data.index),periods=train_plot.shape[0])\n",
    "    train_plot.index = trainx\n",
    "\n",
    "    \n",
    "    testx = pd.date_range(start=min(test_data.index),end=max(test_data.index),periods=test_plot.shape[0])\n",
    "    test_plot.index = testx\n",
    "    \n",
    "    \n",
    "    fig,axs = plt.subplots(max(len(train_plot.columns),len(test_plot.columns)),figsize=(10,10),sharex=True)\n",
    "    for i,col in enumerate(train_plot.columns):\n",
    "        axs[i].plot(train_plot[col],color='green',label='in-sample')\n",
    "        axs[i].set_title(col.replace('_',' '))\n",
    "        axs[i].legend()\n",
    "    for i,col in enumerate(test_plot.columns):\n",
    "        axs[i].plot(test_plot[col],color='purple',label='out-of-sample')\n",
    "        axs[i].set_title(col.replace('_',' '))\n",
    "        axs[i].legend()\n",
    "    plt.show()"
   ]
  },
  {
   "cell_type": "markdown",
   "id": "5b74eca8-8c42-496d-9e9d-026a609f5e35",
   "metadata": {},
   "source": [
    "# loading model"
   ]
  },
  {
   "cell_type": "code",
   "execution_count": null,
   "id": "5807adc3-5fab-4f79-b75e-fadeb37ae179",
   "metadata": {},
   "outputs": [],
   "source": [
    "from model_settings import ms\n",
    "root = Path().resolve().parent.parent\n",
    "models_dir = os.path.join(root,ms.trained_models)\n",
    "models = pd.Series([f for f in os.listdir(models_dir) if f.find('Legacy')==-1])\n",
    "for i,m in enumerate(models):\n",
    "    print(f\"{i}     {m}\")"
   ]
  },
  {
   "cell_type": "code",
   "execution_count": null,
   "id": "91741749-43c5-40a7-9270-60eb6989b3a8",
   "metadata": {
    "scrolled": true
   },
   "outputs": [],
   "source": [
    "selected_model = models.iloc[0]\n",
    "model_dir = os.path.join(models_dir,selected_model)\n",
    "pickle = [f for f in os.listdir(model_dir) if f.endswith('.pkl')][0]\n",
    "picke_dir = os.path.join(model_dir,pickle)\n",
    "model = joblib.load(picke_dir)\n",
    "model"
   ]
  },
  {
   "cell_type": "code",
   "execution_count": null,
   "id": "eec474c2-1a9f-4dfd-983d-1fd03e5b6a27",
   "metadata": {},
   "outputs": [],
   "source": [
    "model['train_data']"
   ]
  },
  {
   "cell_type": "code",
   "execution_count": null,
   "id": "adf0dbe6-8c88-42ad-99d9-9394bceaa615",
   "metadata": {},
   "outputs": [],
   "source": [
    "print('model attributes:\\n')\n",
    "for k in model.keys():\n",
    "    print(k)"
   ]
  },
  {
   "cell_type": "code",
   "execution_count": null,
   "id": "7bffb1df-20ad-42a7-811d-1ac8702cb091",
   "metadata": {
    "scrolled": true
   },
   "outputs": [],
   "source": [
    "for col in model['feature_set']:\n",
    "    print(f\"{col.replace(\"_\",\" \")}:\",f\"\\n{model['test_data'][col].copy().squeeze().sort_values().drop_duplicates().reset_index(drop=True)}\\n\")\n",
    "print()"
   ]
  },
  {
   "cell_type": "raw",
   "id": "604f2ef8-617d-411c-aec3-353ee34cf852",
   "metadata": {},
   "source": [
    "from sklearn.inspection import partial_dependence,PartialDependenceDisplay\n",
    "\n",
    "part_disp_X = train_data[model_fit.feature_names_in_]\n",
    "fig, ax = plt.subplots(figsize=(12, 6))\n",
    "disp = PartialDependenceDisplay.from_estimator(model_fit, part_disp_X, ['spot_price','v0'], ax=ax)"
   ]
  },
  {
   "cell_type": "code",
   "execution_count": null,
   "id": "475bead7-3d0d-41b1-8cca-c6aa690b62af",
   "metadata": {},
   "outputs": [],
   "source": [
    "train_data = model['train_data'].copy()\n",
    "test_data = model['test_data'].copy()\n",
    "train_data['calculation_date'] = pd.to_datetime(train_data['calculation_date'],format='mixed')\n",
    "test_data['calculation_date'] = pd.to_datetime(test_data['calculation_date'],format='mixed')\n",
    "test_data = test_data.set_index('calculation_date').sort_index()\n",
    "train_data = train_data.set_index('calculation_date').sort_index()\n",
    "plot_errors(train_data,test_data)\n",
    "print(model['feature_set'])"
   ]
  },
  {
   "cell_type": "markdown",
   "id": "b23cc184-4e78-421c-ac47-01336deb644c",
   "metadata": {},
   "source": [
    "# retraining"
   ]
  },
  {
   "cell_type": "code",
   "execution_count": null,
   "id": "a93d2299-8776-41e6-95e7-4e03facccf1a",
   "metadata": {},
   "outputs": [],
   "source": [
    "from convsklearn import convsklearn\n",
    "help(convsklearn)"
   ]
  },
  {
   "cell_type": "code",
   "execution_count": null,
   "id": "86cad7c7-72a5-460d-a55e-0a13643794db",
   "metadata": {},
   "outputs": [],
   "source": [
    "retraining_frequency = 30 #days\n",
    "test_dates = model['test_dates']\n",
    "full_dataset = model['dataset']\n",
    "all_dates = full_dataset['date'].drop_duplicates().sort_values().reset_index(drop=True)\n",
    "all_dates"
   ]
  },
  {
   "cell_type": "code",
   "execution_count": null,
   "id": "ef79931e-8f89-421f-bbb9-41596ce857f3",
   "metadata": {
    "scrolled": true
   },
   "outputs": [],
   "source": [
    "retraining_dates = len(test_dates)//retraining_frequency\n",
    "retraining_dates = test_dates.iloc[np.linspace(0,len(test_dates)-1,retraining_dates,dtype=int)]\n",
    "retraining_dates = retraining_dates.reset_index(drop=True)\n",
    "\n",
    "def retrain(date):\n",
    "    development_dates = all_dates[all_dates<=date]\n",
    "    subset_test_dates = all_dates[~all_dates.isin(development_dates)].iloc[:retraining_frequency]\n",
    "    retrainer = convsklearn()\n",
    "    retrainer.excluded_features += model['excluded_features']\n",
    "    retrainer.target_name = model['target_name']\n",
    "    retrainer.load_data(full_dataset)\n",
    "    retrainer.preprocess_data(development_dates, subset_test_dates,plot=False)\n",
    "    retrainer.run_dnn(print_details=False)\n",
    "    retrainer.test_prediction_accuracy()\n",
    "    print(date)\n",
    "    return (date,retrainer)\n",
    "\n",
    "from joblib import Parallel, delayed\n",
    "models = Parallel()(delayed(retrain)(d) for d in retraining_dates)"
   ]
  },
  {
   "cell_type": "code",
   "execution_count": null,
   "id": "1710313e-843c-4141-9ee2-05f8b2002890",
   "metadata": {},
   "outputs": [],
   "source": []
  },
  {
   "cell_type": "code",
   "execution_count": null,
   "id": "0d9d233b-7eee-4837-9e00-6fce1fa7a8e9",
   "metadata": {},
   "outputs": [],
   "source": [
    "stop yo"
   ]
  },
  {
   "cell_type": "code",
   "execution_count": null,
   "id": "bd05f55e-106a-4fa8-a155-9f93697029e5",
   "metadata": {},
   "outputs": [],
   "source": [
    "retraining_dates = [d for d in models.keys()]\n",
    "cols = ['cpu','isMAE','isRMSE','osMAE','osRMSE']\n",
    "df = pd.DataFrame(np.tile(np.nan,(len(retraining_dates),len(cols))),columns=cols,index=retraining_dates)\n",
    "\n",
    "for i,row in df.iterrows():\n",
    "    m = models[i]\n",
    "    df.at[i,'cpu'] = m['dnn_runtime']\n",
    "    df.at[i,'isMAE'] = compute_MAE(m['train_data']['insample_error'])\n",
    "    df.at[i,'isRMSE'] = compute_RMSE(m['train_data']['insample_error'])\n",
    "    df.at[i,'osMAE'] = compute_MAE(m['test_data']['outofsample_error'])\n",
    "    df.at[i,'osRMSE'] = compute_RMSE(m['test_data']['outofsample_error'])\n",
    "\n",
    "\n",
    "print(df)"
   ]
  },
  {
   "cell_type": "code",
   "execution_count": null,
   "id": "1ca3f608-3937-4047-8965-a3ccea3ae5f1",
   "metadata": {},
   "outputs": [],
   "source": [
    "from plotters import PlotCols\n",
    "PlotCols(df)"
   ]
  }
 ],
 "metadata": {
  "kernelspec": {
   "display_name": "Python 3 (ipykernel)",
   "language": "python",
   "name": "python3"
  },
  "language_info": {
   "codemirror_mode": {
    "name": "ipython",
    "version": 3
   },
   "file_extension": ".py",
   "mimetype": "text/x-python",
   "name": "python",
   "nbconvert_exporter": "python",
   "pygments_lexer": "ipython3",
   "version": "3.12.7"
  }
 },
 "nbformat": 4,
 "nbformat_minor": 5
}
