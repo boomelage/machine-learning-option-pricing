import os
import modin.pandas as pd; pd.set_option(
    'display.float_format', '{:.5f}'.format)
import numpy as np
import matplotlib.pyplot as plt
import time; start_time = time.time()
import warnings; warnings.filterwarnings(
    "ignore", message=".*defaulting to pandas implementation.*")





models_path = os.path.join(os.getcwd(),'trained_models')
models = os.listdir(models_path)
for i, path in enumerate(models):
    print(f"{i}   {path}")


model = models[8]
model


model_path = os.path.join(models_path,model)


model_files = os.listdir(model_path)
model_files


spec_path = os.path.join(model_path,[file for file in model_files if file.endswith('.txt')][0])


with open(spec_path, "r") as specs:
    for line in specs:
        print(line.strip())


model_files


outsample_path = os.path.join(model_path,[file for file in model_files if file.find('outsample') != -1][0])
outsample = pd.read_csv(outsample_path).iloc[:,1:]
outsample





maturities = outsample['days_to_maturity'].unique().tolist()
barrier_type_names = outsample['barrier_type_name'].unique().tolist()
ws = outsample['w'].unique().tolist()
print(f"\nmaturities:\n     maturities = {maturities}")
print(f"\ntypes:\n     barrier_type_names = {barrier_type_names}\n     ws = {ws}\n")


by_wbt = outsample.copy().set_index(['w','barrier_type_name','days_to_maturity']).sort_index()


RMSE = pd.DataFrame(
    np.zeros((len(maturities),len(barrier_type_names)),dtype=float),
    columns = barrier_type_names,
    index = maturities
)

for t in maturities:
    for b in barrier_type_names:
        RMSE.loc[t,b] = np.sqrt(np.average((by_wbt.loc[(slice(None), b, t),'outofsample_error'])**2))
print(f"\nRMSE:\n{RMSE}")


MAE = pd.DataFrame(
    np.zeros((len(maturities),len(barrier_type_names)),dtype=float),
    index = maturities,
    columns = barrier_type_names
)
for t in maturities:
    for b in barrier_type_names:
        MAE.loc[t,b] = np.average(np.abs(by_wbt.loc[(slice(None), b, t),'outofsample_error']))
print(f"\nMAE:\n{MAE}")


plt.figure(figsize=(4, 3),dpi=80)
for b in barrier_type_names:
    plt.plot(MAE.loc[:, b], label=b)
plt.xlabel('maturity in days')
plt.ylabel('RMSE')
plt.legend()
plt.show()
plt.close()


errors_bypayoff = {}
for w in ws:
    errors = {}
    RMSE = pd.DataFrame(
        np.zeros((len(maturities),len(barrier_type_names)),dtype=float),
        columns = barrier_type_names
        )
    RMSE[w] = maturities
    RMSE = RMSE.set_index(w,drop=True)
    for t in maturities:
        for b in barrier_type_names:
            RMSE.loc[t,b] = np.sqrt(np.average((by_wbt.loc[(w, b, t),'outofsample_error'])**2))
    errors['RMSE'] = RMSE

    MAE = pd.DataFrame(
        np.zeros((len(maturities),len(barrier_type_names)),dtype=float),
        columns = barrier_type_names
    )
    MAE[w] = maturities
    MAE = MAE.set_index(w,drop=True)
    for t in maturities:
        for b in barrier_type_names:
            MAE.loc[t,b] = np.average(np.abs(by_wbt.loc[(w, b, t),'outofsample_error']))
    errors['MAE'] = MAE

    errors_bypayoff[w] = errors


for w, errors in errors_bypayoff.items():
    print("RMSE:\n")
    print(errors['RMSE'])
    print()


plt.figure(figsize=(4, 3),dpi=80)
for w, errors in errors_bypayoff.items():
    for b in barrier_type_names: 
        MAE = errors['RMSE'][b]
        plt.plot(
            MAE.sort_values(), label=f"{b} {w}s ",
        )
plt.legend(loc='best')
plt.ylabel('RMSE')
plt.xlabel('maturity in days')
plt.show()
plt.close()


for w, errors in errors_bypayoff.items():
    print("MAE:\n")
    print(errors['MAE'])
    print()


plt.figure(figsize=(4, 3),dpi=80)
for w, errors in errors_bypayoff.items():
    for b in barrier_type_names: 
        MAE = errors['MAE'][b]
        plt.plot(
            MAE.sort_values(), label=f"{b} {w}s ",
        )
plt.legend(loc='best')
plt.ylabel('MAE')
plt.xlabel('maturity in days')
plt.show()
plt.close()


end_time = time.time()
runtime = end_time - start_time
print(f"cpu: {runtime}")
pd.reset_option("display.max_columns")
pd.reset_option("display.max_rows")



