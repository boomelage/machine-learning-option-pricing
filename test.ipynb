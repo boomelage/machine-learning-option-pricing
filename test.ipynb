{
 "cells": [
  {
   "cell_type": "code",
   "execution_count": 1,
   "id": "85b0017c-6e58-4d06-8e65-25da35403995",
   "metadata": {},
   "outputs": [],
   "source": [
    "import os\n",
    "import numpy as np\n",
    "import pandas as pd\n",
    "import seaborn as sns\n",
    "import matplotlib.pyplot as plt\n",
    "from pathlib import Path"
   ]
  },
  {
   "cell_type": "code",
   "execution_count": 2,
   "id": "4117b397-8e27-4c12-90d5-bc54eb832e02",
   "metadata": {},
   "outputs": [
    {
     "name": "stdout",
     "output_type": "stream",
     "text": [
      "0   2024-12-03 115353819604 inital cboe spx relative asian\n",
      "1   2024-12-03 221708375538 inital cboe spx relative barrier\n",
      "2   2024-12-06 024553040968 inital cboe spx relative barrier\n"
     ]
    },
    {
     "name": "stdin",
     "output_type": "stream",
     "text": [
      "select model:  2\n"
     ]
    }
   ],
   "source": [
    "from model_settings import ms\n",
    "ms.find_root(Path())\n",
    "models_dir = os.path.join(ms.root,ms.trained_models)\n",
    "\n",
    "import convsklearn.load_model as load\n",
    "model = load(models_dir)\n",
    "fitted = model['fitted']"
   ]
  },
  {
   "cell_type": "code",
   "execution_count": 3,
   "id": "aded07b3-98e5-4e14-8123-3d60825a0c7a",
   "metadata": {},
   "outputs": [
    {
     "data": {
      "text/plain": [
       "['days_to_maturity',\n",
       " 'dividend_rate',\n",
       " 'risk_free_rate',\n",
       " 'theta',\n",
       " 'kappa',\n",
       " 'rho',\n",
       " 'eta',\n",
       " 'v0',\n",
       " 'relative_spot',\n",
       " 'relative_barrier',\n",
       " 'relative_rebate',\n",
       " 'w',\n",
       " 'barrier_type_name']"
      ]
     },
     "execution_count": 3,
     "metadata": {},
     "output_type": "execute_result"
    }
   ],
   "source": [
    "model['feature_set']"
   ]
  },
  {
   "cell_type": "code",
   "execution_count": 6,
   "id": "423374ce-d927-488d-9d9b-71ce4653aca7",
   "metadata": {},
   "outputs": [],
   "source": [
    "dataset = model['dataset']\n",
    "test = model['test_data']"
   ]
  },
  {
   "cell_type": "raw",
   "id": "8fc48a2b-fe09-412e-b98c-94a6a2c5a423",
   "metadata": {},
   "source": [
    "test = model['test_data']\n",
    "test['sqerr'] = test['outofsample_error']**2\n",
    "plot = sns.pairplot(test,vars=[model['target_name'],'sqerr'],hue='days_to_maturity')\n",
    "plt.show()\n",
    "plt.close()"
   ]
  },
  {
   "cell_type": "raw",
   "id": "2808d1ef-4d83-4de2-aadf-fb069d41bc3c",
   "metadata": {},
   "source": [
    "sns.pairplot(dataset,vars=['relative_spot','relative_observed'])\n",
    "plt.show()\n",
    "plt.close()"
   ]
  },
  {
   "cell_type": "code",
   "execution_count": null,
   "id": "6fa155b0-28cb-4acc-b73e-64ed17b584be",
   "metadata": {},
   "outputs": [],
   "source": [
    "dataset['relative_observed'].describe()"
   ]
  },
  {
   "cell_type": "code",
   "execution_count": null,
   "id": "deef1617-fbd0-481c-a885-38a82e090fd1",
   "metadata": {},
   "outputs": [],
   "source": [
    "np.sqrt(np.mean(test['sqerr']))"
   ]
  },
  {
   "cell_type": "code",
   "execution_count": null,
   "id": "c59343cd-9408-4bf2-8dbe-6f01906d4093",
   "metadata": {},
   "outputs": [],
   "source": [
    "np.mean(np.abs(test['outofsample_prediction']))"
   ]
  },
  {
   "cell_type": "code",
   "execution_count": null,
   "id": "4d99f984-e5bd-4a78-ac47-2d016ff9bce6",
   "metadata": {},
   "outputs": [],
   "source": [
    "predicted = model['test_data']['outofsample_prediction']\n",
    "predicted.describe()"
   ]
  },
  {
   "cell_type": "code",
   "execution_count": null,
   "id": "d8c74c37-e579-4a05-89b6-98a3ed9da96e",
   "metadata": {},
   "outputs": [],
   "source": [
    "predicted[predicted>1].describe()"
   ]
  },
  {
   "cell_type": "code",
   "execution_count": null,
   "id": "960bb587-4925-4bf5-9b78-acd7d35b23f4",
   "metadata": {},
   "outputs": [],
   "source": []
  },
  {
   "cell_type": "code",
   "execution_count": null,
   "id": "dd70c6f2-e06a-44dd-be76-0bdb8763f886",
   "metadata": {
    "scrolled": true
   },
   "outputs": [],
   "source": [
    "fitted[1].__dict__"
   ]
  },
  {
   "cell_type": "code",
   "execution_count": null,
   "id": "e227c817-e034-416b-bc9d-d28fd1ad4bb9",
   "metadata": {},
   "outputs": [],
   "source": []
  },
  {
   "cell_type": "code",
   "execution_count": null,
   "id": "6df80be4-c076-4c95-82ce-0d4566aa8d6b",
   "metadata": {},
   "outputs": [],
   "source": []
  },
  {
   "cell_type": "code",
   "execution_count": null,
   "id": "fbe33d70-f8d2-4131-ad10-82e918393d95",
   "metadata": {},
   "outputs": [],
   "source": []
  },
  {
   "cell_type": "code",
   "execution_count": null,
   "id": "d1b45e76-d449-4c63-9ae9-065071346011",
   "metadata": {},
   "outputs": [],
   "source": []
  }
 ],
 "metadata": {
  "kernelspec": {
   "display_name": "Python 3 (ipykernel)",
   "language": "python",
   "name": "python3"
  },
  "language_info": {
   "codemirror_mode": {
    "name": "ipython",
    "version": 3
   },
   "file_extension": ".py",
   "mimetype": "text/x-python",
   "name": "python",
   "nbconvert_exporter": "python",
   "pygments_lexer": "ipython3",
   "version": "3.13.1"
  }
 },
 "nbformat": 4,
 "nbformat_minor": 5
}
