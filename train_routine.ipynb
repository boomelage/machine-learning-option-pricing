{
 "cells": [
  {
   "cell_type": "code",
   "execution_count": null,
   "id": "756bdd82-6c20-4e3d-999a-7bd7497bfe98",
   "metadata": {},
   "outputs": [],
   "source": [
    "import os\n",
    "import sys\n",
    "import time\n",
    "import joblib\n",
    "import numpy as np\n",
    "import pandas as pd\n",
    "import matplotlib.pyplot as plt\n",
    "from tqdm import tqdm\n",
    "from pathlib import Path\n",
    "from datetime import datetime\n",
    "from model_settings import ms\n",
    "os.chdir(os.path.abspath(str(Path())))\n",
    "pd.set_option(\"display.max_columns\",None)\n",
    "pd.options.display.float_format = '{:.5f}'.format\n",
    "notebook_dir = str(Path().resolve())\n",
    "sys.path.append(os.path.join(notebook_dir,'historical_data','historical_generation'))\n",
    "train_start = time.time()\n",
    "train_start_datetime = datetime.fromtimestamp(train_start)\n",
    "train_start_tag = train_start_datetime.strftime('%c')\n",
    "print(\"\\n\"+\"#\"*18+\"\\n# training start #\\n\"+\n",
    "      \"#\"*18+\"\\n\"+f\"\\n{train_start_tag}\\n\")"
   ]
  },
  {
   "cell_type": "markdown",
   "id": "108afe68-dd3e-4537-8406-cb618ca7c4a2",
   "metadata": {},
   "source": [
    "# Loading data"
   ]
  },
  {
   "cell_type": "code",
   "execution_count": null,
   "id": "f9c5e82f-7486-4c6b-aac9-237735ffe2df",
   "metadata": {},
   "outputs": [],
   "source": [
    "root = Path().resolve().parent.parent\n",
    "datadir = os.path.join(root,ms.cboe_spx_asians['dump'])\n",
    "files = [f for f in os.listdir(datadir) if f.endswith('.csv')]\n",
    "files = [os.path.join(datadir,f) for f in files]\n",
    "dfs = []\n",
    "bar = tqdm(total=len(files)+1)\n",
    "for f in files:\n",
    "    dfs.append(pd.read_csv(f).iloc[:,1:])\n",
    "    bar.update(1)\n",
    "dataset = pd.concat(dfs,ignore_index=True).dropna().reset_index(drop=True)\n",
    "bar.update(1)\n",
    "bar.close()"
   ]
  },
  {
   "cell_type": "code",
   "execution_count": null,
   "id": "8e489495-1b34-4f16-b034-35c6e8b8acf9",
   "metadata": {},
   "outputs": [],
   "source": [
    "from quantlib_pricers import vanilla_pricer\n",
    "vanillas = vanilla_pricer()\n",
    "dataset['calculation_date'] = pd.to_datetime(dataset['calculation_date'],format='%Y-%m-%d')"
   ]
  },
  {
   "cell_type": "markdown",
   "id": "e82e52a7-7dbb-464d-a638-54108c2eb45b",
   "metadata": {},
   "source": [
    "# Preprocessing"
   ]
  },
  {
   "cell_type": "code",
   "execution_count": null,
   "id": "e6206662-c9d3-4b83-a0fb-c12717bee58a",
   "metadata": {},
   "outputs": [],
   "source": [
    "from convsklearn import asian_trainer, barrier_trainer\n",
    "price = 'asian'\n",
    "trainer = asian_trainer\n",
    "trainer.activation_function = 'relu'\n",
    "trainer.solver = 'sgd'\n",
    "dataset[price] = pd.to_numeric(dataset[price],errors='coerce')\n",
    "dataset['observed_price'] = np.maximum(dataset[price] + np.random.normal(scale=(0.15)**2,size=dataset.shape[0]),0)\n",
    "dataset = dataset.dropna()"
   ]
  },
  {
   "cell_type": "markdown",
   "id": "3fc232ac-17b4-4341-9c0b-bf9ab5a58ad4",
   "metadata": {},
   "source": [
    "## Train/test split"
   ]
  },
  {
   "cell_type": "code",
   "execution_count": null,
   "id": "220af35b-93fd-4145-9761-0e8ec0950db8",
   "metadata": {},
   "outputs": [],
   "source": [
    "unique_dates = dataset['calculation_date'].sort_values(\n",
    "    ascending=True).unique().tolist()\n",
    "pd.Series(unique_dates)"
   ]
  },
  {
   "cell_type": "code",
   "execution_count": null,
   "id": "60bb3773-1120-4322-a5c3-4368ef490e75",
   "metadata": {},
   "outputs": [],
   "source": [
    "development_dates = unique_dates[:250]\n",
    "train_data = dataset[dataset['calculation_date'].isin(development_dates)]\n",
    "test_data = dataset[~dataset['calculation_date'].isin(development_dates)]"
   ]
  },
  {
   "cell_type": "code",
   "execution_count": null,
   "id": "5a85944d-4371-482f-b39e-9431270ca5ee",
   "metadata": {
    "scrolled": true
   },
   "outputs": [],
   "source": [
    "arrs = trainer.get_train_test_arrays(\n",
    "    train_data, test_data)\n",
    "preprocessor = trainer.preprocess()\n",
    "train_X = arrs['train_X'] \n",
    "train_y = arrs['train_y']\n",
    "test_X = arrs['test_X']\n",
    "test_y = arrs['test_y']"
   ]
  },
  {
   "cell_type": "markdown",
   "id": "ea60807a-e929-4919-bd91-12539c89689b",
   "metadata": {},
   "source": [
    "# Training"
   ]
  },
  {
   "cell_type": "code",
   "execution_count": null,
   "id": "14ac662c-5a7a-42d9-bf95-24c081b262df",
   "metadata": {},
   "outputs": [],
   "source": [
    "print(\"features:\")\n",
    "for f in trainer.feature_set:\n",
    "    print(f\"    {f.replace('_',' ')}\")\n",
    "print(f\"target:\\n    {trainer.target_name.replace('_',' ')}\")"
   ]
  },
  {
   "cell_type": "code",
   "execution_count": null,
   "id": "22b25bd4-4e1d-4f21-8963-ab86f780d371",
   "metadata": {
    "scrolled": true
   },
   "outputs": [],
   "source": [
    "model_fit, runtime, specs = trainer.run_dnn(preprocessor,train_X,train_y)\n",
    "train_end = time.time()\n",
    "train_runtime = train_end-train_start\n",
    "print(f\"\\ncpu: {train_runtime}\")"
   ]
  },
  {
   "cell_type": "markdown",
   "id": "cc6405bd-60e1-43f3-90b5-21dc0b8eb241",
   "metadata": {},
   "source": [
    "# Testing"
   ]
  },
  {
   "cell_type": "code",
   "execution_count": null,
   "id": "6309a771-7200-49b7-9871-8fa9da1843d0",
   "metadata": {},
   "outputs": [],
   "source": [
    "model_fit"
   ]
  },
  {
   "cell_type": "code",
   "execution_count": null,
   "id": "e0401ccf-cc21-4867-9a9b-bf5b6a269418",
   "metadata": {},
   "outputs": [],
   "source": [
    "insample, outsample, errors = trainer.test_prediction_accuracy(\n",
    "        model_fit,\n",
    "        test_data,\n",
    "        train_data\n",
    ")\n",
    "outofsample_RMSE = errors['outofsample_RMSE']"
   ]
  },
  {
   "cell_type": "markdown",
   "id": "0d3d455a-0c63-4d2d-8ee6-0c26f2a11163",
   "metadata": {},
   "source": [
    "# Saving"
   ]
  },
  {
   "cell_type": "code",
   "execution_count": null,
   "id": "1fe42f9f-e635-4240-a881-cbd3c336ef21",
   "metadata": {
    "jupyter": {
     "source_hidden": true
    }
   },
   "outputs": [],
   "source": [
    "train_end_tag = str(datetime.fromtimestamp(\n",
    "    train_end).strftime(\"%Y_%m_%d %H-%M-%S\"))\n",
    "file_tag = str(train_end_tag + \" \" + specs[0] + \" \" + price)\n",
    "os.chdir(os.path.join(notebook_dir,'trained_models'))\n",
    "files_dir = os.path.join(\n",
    "    notebook_dir,'trained_models','trained_models',\n",
    "    file_tag)\n",
    "\n",
    "def save_model():\n",
    "    if Path(files_dir).exists():\n",
    "        pass\n",
    "    else:\n",
    "        os.mkdir(files_dir)\n",
    "    file_dir = os.path.join(files_dir,file_tag)\n",
    "    S = np.sort(train_data['spot_price'].unique())\n",
    "    K = np.sort(train_data['strike_price'].unique())\n",
    "    T = np.sort(train_data['days_to_maturity'].unique())\n",
    "    W = np.sort(train_data['w'].unique())\n",
    "    n_calls = train_data[train_data['w']=='call'].shape[0]\n",
    "    n_puts = train_data[train_data['w']=='put'].shape[0]\n",
    "    insample.to_csv(f\"{file_dir} insample.csv\")\n",
    "    outsample.to_csv(f\"{file_dir} outsample.csv\")\n",
    "    joblib.dump(model_fit,str(f\"{file_dir}.pkl\"))\n",
    "    pd.set_option(\"display.max_columns\",None)\n",
    "    \n",
    "    with open(f'{file_dir}.txt', 'w') as file:\n",
    "        file.write(train_start_tag)\n",
    "        file.write(f\"\\nspot(s):\\n{S}\")\n",
    "        file.write(f\"\\n\\nstrikes:\\n{K}\\n\")\n",
    "        file.write(f\"\\nmaturities:\\n{T}\\n\")\n",
    "        file.write(f\"\\ntypes:\\n{W}\\n\")\n",
    "        try:\n",
    "            file.write(f\"\\n{train_data['barrier_type_name'].unique()}\")\n",
    "        except Exception:\n",
    "            pass\n",
    "        try:\n",
    "            for col in ['averaging_type','fixing_frequency','past_fixings','n_fixings']:\n",
    "                file.write(f\"\\n{col}:\")\n",
    "                file.write(f\"\\n{dataset[col].drop_duplicates().sort_values().values}\\n\")\n",
    "        except Exception:\n",
    "            pass\n",
    "        file.write(f\"\\nnumber of calls, puts:\\n{n_calls},{n_puts}\\n\")\n",
    "        file.write(f\"\\ntotal prices:\\n{train_data.shape[0]}\\n\")\n",
    "        for spec in specs:\n",
    "            file.write(f\"{spec}\\n\")\n",
    "        file.write(\"#\"*17+\"\\n# training data #\\n\"+\"#\"*17+\n",
    "              f\"\\n{train_data.describe()}\\n\")\n",
    "        file.write(\"#\"*13+\"\\n# test data #\\n\"+\"#\"*13+\n",
    "              f\"\\n{test_data.describe()}\\n\")\n",
    "        file.write(f\"\\n{dataset.dtypes}\")\n",
    "        file.write(\n",
    "            f\"\\nin sample results:\"\n",
    "            f\"\\n     RMSE: {errors['insample_RMSE']}\"\n",
    "            f\"\\n     MAE: {errors['insample_MAE']}\\n\"\n",
    "            f\"\\nout of sample results:\"\n",
    "            f\"\\n     RMSE: {errors['outofsample_RMSE']}\"\n",
    "            f\"\\n     MAE: {errors['outofsample_MAE']}\\n\"\n",
    "            )\n",
    "        file.write(\"\\nfeatures:\\n\")\n",
    "        for feature in trainer.feature_set:\n",
    "            file.write(f\"     {feature}\\n\")\n",
    "        file.write(f\"\\ntarget: {trainer.target_name}\\n\")\n",
    "        file.write(f\"\\ncpu: {train_runtime}\\n\")\n",
    "        file.write(datetime.fromtimestamp(train_end).strftime('%c'))\n",
    "        print(f\"model saved to {file_dir}\")\n",
    "\n",
    "print(f\"execute the command 'save_model()' to save the following model: {file_tag}\")"
   ]
  }
 ],
 "metadata": {
  "kernelspec": {
   "display_name": "Python 3 (ipykernel)",
   "language": "python",
   "name": "python3"
  },
  "language_info": {
   "codemirror_mode": {
    "name": "ipython",
    "version": 3
   },
   "file_extension": ".py",
   "mimetype": "text/x-python",
   "name": "python",
   "nbconvert_exporter": "python",
   "pygments_lexer": "ipython3",
   "version": "3.12.7"
  }
 },
 "nbformat": 4,
 "nbformat_minor": 5
}
