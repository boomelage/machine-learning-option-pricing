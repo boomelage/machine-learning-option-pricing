{
 "cells": [
  {
   "cell_type": "code",
   "execution_count": 11,
   "id": "756bdd82-6c20-4e3d-999a-7bd7497bfe98",
   "metadata": {},
   "outputs": [
    {
     "name": "stdout",
     "output_type": "stream",
     "text": [
      "\n",
      "##################\n",
      "# training start #\n",
      "##################\n",
      "\n",
      "Fri Oct 11 11:29:12 2024\n",
      "\n"
     ]
    }
   ],
   "source": [
    "import os\n",
    "import sys\n",
    "import time\n",
    "from datetime import datetime\n",
    "import joblib\n",
    "import numpy as np\n",
    "import pandas as pd\n",
    "from pathlib import Path\n",
    "from model_settings import ms\n",
    "jupyter_dir = os.path.abspath(str(Path()))\n",
    "os.chdir(jupyter_dir)\n",
    "sys.path.append(os.path.join(jupyter_dir,'train_data'))\n",
    "sys.path.append(os.path.join(\n",
    "    jupyter_dir,\n",
    "    'historical_data',\n",
    "    'historical_generation'))\n",
    "pd.set_option(\"display.max_columns\",None)\n",
    "pd.options.display.float_format = '{:.5f}'.format\n",
    "\n",
    "train_start = time.time()\n",
    "train_start_datetime = datetime.fromtimestamp(train_start)\n",
    "train_start_tag = train_start_datetime.strftime('%c')\n",
    "\n",
    "print(\"\\n\"+\"#\"*18+\"\\n# training start #\\n\"+\n",
    "      \"#\"*18+\"\\n\"+f\"\\n{train_start_tag}\\n\")"
   ]
  },
  {
   "cell_type": "markdown",
   "id": "108afe68-dd3e-4537-8406-cb618ca7c4a2",
   "metadata": {},
   "source": [
    "# Loading data"
   ]
  },
  {
   "cell_type": "code",
   "execution_count": 12,
   "id": "11cad02c-843f-4841-a031-af615fbda833",
   "metadata": {},
   "outputs": [],
   "source": [
    "from HDF_collection import contracts\n",
    "dataset = contracts.copy()"
   ]
  },
  {
   "cell_type": "markdown",
   "id": "5413533a-bc98-498f-b9bd-ad63a948f0b1",
   "metadata": {},
   "source": [
    "# Preprocessing"
   ]
  },
  {
   "cell_type": "code",
   "execution_count": 13,
   "id": "ca4c94ea-c013-4078-967c-41b7d838bca3",
   "metadata": {},
   "outputs": [],
   "source": [
    "from convsklearn import barrier_trainer\n",
    "bt = barrier_trainer"
   ]
  },
  {
   "cell_type": "code",
   "execution_count": 14,
   "id": "43aa7a2b-8966-4d73-aa91-d80208fad7c0",
   "metadata": {},
   "outputs": [],
   "source": [
    "\"\"\"\n",
    "manual train/test split\n",
    "\"\"\"\n",
    "unique_dates = dataset['calculation_date'].sort_values(\n",
    "    ascending=True).unique().tolist()\n",
    "filter_date = unique_dates[int(0.85*len(unique_dates))]\n",
    "\n",
    "train_data = dataset[\n",
    "    (\n",
    "      # (dataset['calculation_date']>=datetime(2007,1,1))\n",
    "      #  &\n",
    "        (dataset['calculation_date']<=filter_date)\n",
    "      )].copy()\n",
    "\n",
    "test_data = dataset[\n",
    "    (\n",
    "      (dataset['calculation_date']>filter_date)\n",
    "      # &\n",
    "      # (dataset['calculation_date']<=datetime(2012,12,31))\n",
    "      )].copy()\n",
    "\n"
   ]
  },
  {
   "cell_type": "code",
   "execution_count": 15,
   "id": "5a85944d-4371-482f-b39e-9431270ca5ee",
   "metadata": {
    "scrolled": true
   },
   "outputs": [
    {
     "name": "stdout",
     "output_type": "stream",
     "text": [
      "\n",
      "training from\n",
      "Wednesday, 2007-01-03\n",
      "to\n",
      "Monday, 2009-03-16\n",
      "\n"
     ]
    }
   ],
   "source": [
    "\"\"\"\n",
    "preprocessing\n",
    "\"\"\"\n",
    "train_X, train_y, test_X, test_y = bt.get_train_test_arrays(\n",
    "    train_data, test_data)\n",
    "preprocessor = bt.preprocess()\n",
    "train_startdate = train_data.describe()['calculation_date']['min'].strftime('%A, %Y-%m-%d')\n",
    "train_enddate = train_data.describe()['calculation_date']['max'].strftime('%A, %Y-%m-%d')\n",
    "print(f\"\\ntraining from\\n{train_startdate}\\nto\\n{train_enddate}\\n\")"
   ]
  },
  {
   "cell_type": "code",
   "execution_count": 16,
   "id": "407bf74a-3013-41a9-a175-cf2c9f6d6cea",
   "metadata": {},
   "outputs": [
    {
     "name": "stdout",
     "output_type": "stream",
     "text": [
      "\n",
      "spot_price                  float64\n",
      "strike_price                float64\n",
      "barrier                     float64\n",
      "days_to_maturity              int64\n",
      "barrier_price               float64\n",
      "updown                       object\n",
      "outin                        object\n",
      "w                            object\n",
      "barrier_type_name            object\n",
      "rebate                      float64\n",
      "dividend_rate               float64\n",
      "risk_free_rate              float64\n",
      "theta                       float64\n",
      "kappa                       float64\n",
      "rho                         float64\n",
      "eta                         float64\n",
      "v0                          float64\n",
      "calculation_date     datetime64[ns]\n",
      "expiration_date      datetime64[ns]\n",
      "moneyness                   float64\n",
      "observed_price              float64\n",
      "dtype: object\n",
      "\n",
      "train/test: 81/19\n"
     ]
    }
   ],
   "source": [
    "print(f\"\\n{train_data.dtypes}\")\n",
    "test_train_ratio = test_data.describe(\n",
    "    ).iloc[0,0]/train_data.describe().iloc[0,0]\n",
    "\n",
    "print(f\"\\ntrain/test: {int(round((1-test_train_ratio)*100,0))}/\"\n",
    "      +str(int(round(test_train_ratio*100,0))))"
   ]
  },
  {
   "cell_type": "markdown",
   "id": "ea60807a-e929-4919-bd91-12539c89689b",
   "metadata": {},
   "source": [
    "# Training"
   ]
  },
  {
   "cell_type": "code",
   "execution_count": null,
   "id": "22b25bd4-4e1d-4f21-8963-ab86f780d371",
   "metadata": {
    "scrolled": true
   },
   "outputs": [
    {
     "name": "stdout",
     "output_type": "stream",
     "text": [
      "\n",
      "training...\n",
      "\n",
      "Deep Neural Network\n",
      "hidden layers sizes: (13, 13, 13)\n",
      "learning rate: adaptive\n",
      "activation: relu\n",
      "solver: sgd\n",
      "alpha: 0.0001\n"
     ]
    }
   ],
   "source": [
    "model_fit, runtime, specs = bt.run_dnn(preprocessor,train_X,train_y)\n",
    "train_end = time.time()\n",
    "train_runtime = train_end-train_start\n",
    "print(f\"\\ncpu: {train_runtime}\")"
   ]
  },
  {
   "cell_type": "markdown",
   "id": "cc6405bd-60e1-43f3-90b5-21dc0b8eb241",
   "metadata": {},
   "source": [
    "# Testing"
   ]
  },
  {
   "cell_type": "code",
   "execution_count": null,
   "id": "6309a771-7200-49b7-9871-8fa9da1843d0",
   "metadata": {},
   "outputs": [],
   "source": [
    "test_data.describe()"
   ]
  },
  {
   "cell_type": "code",
   "execution_count": null,
   "id": "e0401ccf-cc21-4867-9a9b-bf5b6a269418",
   "metadata": {},
   "outputs": [],
   "source": [
    "insample, outsample, errors = bt.test_prediction_accuracy(\n",
    "        model_fit,\n",
    "        test_data,\n",
    "        train_data\n",
    "        )"
   ]
  },
  {
   "cell_type": "markdown",
   "id": "0d3d455a-0c63-4d2d-8ee6-0c26f2a11163",
   "metadata": {},
   "source": [
    "# Saving"
   ]
  },
  {
   "cell_type": "code",
   "execution_count": null,
   "id": "5baf5ec1-538e-4a04-b948-e4f27541a33f",
   "metadata": {},
   "outputs": [],
   "source": [
    "train_end_tag = str(datetime.fromtimestamp(\n",
    "    train_end).strftime(\"%Y_%m_%d %H-%M-%S\"))\n",
    "file_tag = str(train_end_tag + \" \" + specs[0] )\n",
    "os.chdir(os.path.join(jupyter_dir,'trained_models'))\n",
    "files_dir = os.path.join(\n",
    "    jupyter_dir,'trained_models','trained_models',\n",
    "    file_tag)\n",
    "\n",
    "if Path(files_dir).exists():\n",
    "    pass\n",
    "else:\n",
    "    os.mkdir(files_dir)\n",
    "\n",
    "file_dir = os.path.join(files_dir,file_tag)\n",
    "\n",
    "S = np.sort(train_data['spot_price'].unique())\n",
    "K = np.sort(train_data['strike_price'].unique())\n",
    "T = np.sort(train_data['days_to_maturity'].unique())\n",
    "W = np.sort(train_data['w'].unique())\n",
    "n_calls = train_data[train_data['w']=='call'].shape[0]\n",
    "n_puts = train_data[train_data['w']=='put'].shape[0]\n",
    "insample.to_csv(f\"{file_dir} insample.csv\")\n",
    "outsample.to_csv(f\"{file_dir} outsample.csv\")\n",
    "joblib.dump(model_fit,str(f\"{file_dir}.pkl\"))\n",
    "pd.set_option(\"display.max_columns\",None)\n",
    "\n",
    "with open(f'{file_dir}.txt', 'w') as file:\n",
    "    file.write(train_start_tag)\n",
    "    file.write(f\"\\nspot(s):\\n{S}\")\n",
    "    file.write(f\"\\n\\nstrikes:\\n{K}\\n\")\n",
    "    file.write(f\"\\nmaturities:\\n{T}\\n\")\n",
    "    file.write(f\"\\ntypes:\\n{W}\\n\")\n",
    "    try:\n",
    "        file.write(f\"\\n{train_data['barrier_type_name'].unique()}\")\n",
    "    except Exception:\n",
    "        pass\n",
    "    file.write(\"\")\n",
    "    file.write(f\"\\nnumber of calls, puts:\\n{n_calls},{n_puts}\\n\")\n",
    "    file.write(f\"\\ntotal prices:\\n{train_data.shape[0]}\\n\")\n",
    "    for spec in specs:\n",
    "        file.write(f\"{spec}\\n\")\n",
    "    file.write(\"#\"*17+\"\\n# training data #\\n\"+\"#\"*17+\n",
    "          f\"\\n{train_data.describe()}\\n\")\n",
    "    file.write(\"#\"*13+\"\\n# test data #\\n\"+\"#\"*13+\n",
    "          f\"\\n{test_data.describe()}\\n\")\n",
    "    file.write(f\"\\n{dataset.dtypes}\")\n",
    "    file.write(\n",
    "        f\"\\nin sample results:\"\n",
    "        f\"\\n     RMSE: {errors['insample_RMSE']}\"\n",
    "        f\"\\n     MAE: {errors['insample_MAE']}\\n\"\n",
    "        f\"\\nout of sample results:\"\n",
    "        f\"\\n     RMSE: {errors['outofsample_RMSE']}\"\n",
    "        f\"\\n     MAE: {errors['outofsample_MAE']}\\n\"\n",
    "        )\n",
    "    file.write(\"\\nfeatures:\\n\")\n",
    "    for feature in bt.feature_set:\n",
    "        file.write(f\"     {feature}\\n\")\n",
    "    file.write(f\"\\ntarget: {bt.target_name}\\n\")\n",
    "    file.write(f\"\\ncpu: {train_runtime}\\n\")\n",
    "    file.write(datetime.fromtimestamp(train_end).strftime('%c'))"
   ]
  }
 ],
 "metadata": {
  "kernelspec": {
   "display_name": "Python 3 (ipykernel)",
   "language": "python",
   "name": "python3"
  },
  "language_info": {
   "codemirror_mode": {
    "name": "ipython",
    "version": 3
   },
   "file_extension": ".py",
   "mimetype": "text/x-python",
   "name": "python",
   "nbconvert_exporter": "python",
   "pygments_lexer": "ipython3",
   "version": "3.12.7"
  }
 },
 "nbformat": 4,
 "nbformat_minor": 5
}
