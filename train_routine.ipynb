{
 "cells": [
  {
   "cell_type": "code",
   "execution_count": 1,
   "id": "756bdd82-6c20-4e3d-999a-7bd7497bfe98",
   "metadata": {},
   "outputs": [
    {
     "name": "stdout",
     "output_type": "stream",
     "text": [
      "\n",
      "pricing settings:\n",
      "Actual/365 (Fixed) day counter\n",
      "New York stock exchange calendar\n",
      "compounding: continuous\n",
      "frequency: annual\n",
      "\n",
      "\n",
      "##################\n",
      "# training start #\n",
      "##################\n",
      "\n",
      "Fri Oct 11 12:50:50 2024\n",
      "\n"
     ]
    }
   ],
   "source": [
    "import os\n",
    "import sys\n",
    "import time\n",
    "from datetime import datetime\n",
    "import joblib\n",
    "import numpy as np\n",
    "import pandas as pd\n",
    "from pathlib import Path\n",
    "from model_settings import ms\n",
    "import matplotlib.pyplot as plt\n",
    "os.chdir(os.path.abspath(str(Path())))\n",
    "pd.set_option(\"display.max_columns\",None)\n",
    "pd.options.display.float_format = '{:.5f}'.format\n",
    "notebook_dir = str(Path().resolve())\n",
    "sys.path.append(os.path.join(notebook_dir,'historical_data','historical_generation'))\n",
    "train_start = time.time()\n",
    "train_start_datetime = datetime.fromtimestamp(train_start)\n",
    "train_start_tag = train_start_datetime.strftime('%c')\n",
    "print(\"\\n\"+\"#\"*18+\"\\n# training start #\\n\"+\n",
    "      \"#\"*18+\"\\n\"+f\"\\n{train_start_tag}\\n\")"
   ]
  },
  {
   "cell_type": "markdown",
   "id": "108afe68-dd3e-4537-8406-cb618ca7c4a2",
   "metadata": {},
   "source": [
    "# Loading data"
   ]
  },
  {
   "cell_type": "code",
   "execution_count": 2,
   "id": "11cad02c-843f-4841-a031-af615fbda833",
   "metadata": {},
   "outputs": [
    {
     "name": "stdout",
     "output_type": "stream",
     "text": [
      "\n",
      "importing dataset(s)...\n",
      "\n"
     ]
    },
    {
     "name": "stderr",
     "output_type": "stream",
     "text": [
      "loading: 100%|█████████████████████████████████████████████████████████████████████| 1246/1246 [00:20<00:00, 59.43it/s]\n"
     ]
    },
    {
     "name": "stdout",
     "output_type": "stream",
     "text": [
      "\n",
      "preparing data...\n",
      "\n",
      "\n",
      "         spot_price  strike_price       barrier  days_to_maturity  \\\n",
      "count 6771002.00000 6771002.00000 6771002.00000     6771002.00000   \n",
      "mean     1233.34316    1232.60081    1233.43707         328.99475   \n",
      "min       676.03000     608.42700     338.01500          60.00000   \n",
      "25%       920.98000     941.34067     859.11847          90.00000   \n",
      "50%      1329.75000    1313.52318    1183.13120         360.00000   \n",
      "75%      1466.35000    1448.69559    1552.19655         540.00000   \n",
      "max      1565.18000    1721.69800    2347.77000         720.00000   \n",
      "std       263.75498     273.44447     470.77454         241.54975   \n",
      "\n",
      "       barrier_price        rebate  dividend_rate  risk_free_rate  \\\n",
      "count  6771002.00000 6771002.00000  6771002.00000   6771002.00000   \n",
      "mean        53.40253       0.00000        0.02324         0.04000   \n",
      "min          0.00000       0.00000        0.01780         0.04000   \n",
      "25%          3.57276       0.00000        0.01915         0.04000   \n",
      "50%         33.70755       0.00000        0.02210         0.04000   \n",
      "75%         91.96444       0.00000        0.02505         0.04000   \n",
      "max        293.09806       0.00000        0.03560         0.04000   \n",
      "std         55.96271       0.00000        0.00477         0.00000   \n",
      "\n",
      "              theta         kappa           rho           eta            v0  \\\n",
      "count 6771002.00000 6771002.00000 6771002.00000 6771002.00000 6771002.00000   \n",
      "mean        0.07169       3.27908      -0.95618       0.22671       0.07508   \n",
      "min         0.01992       0.03970      -1.00000       0.08818       0.00524   \n",
      "25%         0.05097       1.58742      -1.00000       0.16702       0.03393   \n",
      "50%         0.05789       2.30859      -1.00000       0.19232       0.05112   \n",
      "75%         0.08539       4.81628      -0.99996       0.22901       0.08756   \n",
      "max         0.40505      12.32603      -0.24433       1.52388       0.38708   \n",
      "std         0.03792       2.41016       0.14135       0.15984       0.06798   \n",
      "\n",
      "                    calculation_date                expiration_date  \\\n",
      "count                        6771002                        6771002   \n",
      "mean   2008-05-26 16:53:02.567069952  2009-04-20 16:45:29.346822912   \n",
      "min              2007-01-03 00:00:00            2007-03-04 00:00:00   \n",
      "25%              2007-10-23 00:00:00            2008-08-04 00:00:00   \n",
      "50%              2008-05-22 00:00:00            2009-04-22 00:00:00   \n",
      "75%              2009-01-07 00:00:00            2009-12-09 00:00:00   \n",
      "max              2009-08-04 00:00:00            2011-07-25 00:00:00   \n",
      "std                              NaN                            NaN   \n",
      "\n",
      "          moneyness  observed_price  \n",
      "count 6771002.00000   6771002.00000  \n",
      "mean        3.02491        53.40883  \n",
      "min        -0.96515         0.00000  \n",
      "25%        -0.77406         3.57414  \n",
      "50%        -0.09084        33.70755  \n",
      "75%         3.24413        91.96633  \n",
      "max        27.69497       293.08170  \n",
      "std         6.26570        55.95687  \n",
      "\n",
      "spot_price                  float64\n",
      "strike_price                float64\n",
      "barrier                     float64\n",
      "days_to_maturity              int64\n",
      "barrier_price               float64\n",
      "updown                       object\n",
      "outin                        object\n",
      "w                            object\n",
      "barrier_type_name            object\n",
      "rebate                      float64\n",
      "dividend_rate               float64\n",
      "risk_free_rate              float64\n",
      "theta                       float64\n",
      "kappa                       float64\n",
      "rho                         float64\n",
      "eta                         float64\n",
      "v0                          float64\n",
      "calculation_date     datetime64[ns]\n",
      "expiration_date      datetime64[ns]\n",
      "moneyness                   float64\n",
      "observed_price              float64\n",
      "dtype: object\n",
      "\n",
      "\n",
      "runtime: 29.4846 seconds\n",
      "\n"
     ]
    },
    {
     "data": {
      "image/png": "[encoded data removed]",
      "text/plain": [
       "<Figure size 640x480 with 1 Axes>"
      ]
     },
     "metadata": {},
     "output_type": "display_data"
    },
    {
     "data": {
      "image/png": "[encoded data removed]",
      "text/plain": [
       "<Figure size 640x480 with 1 Axes>"
      ]
     },
     "metadata": {},
     "output_type": "display_data"
    },
    {
     "data": {
      "text/plain": [
       "<Figure size 640x480 with 0 Axes>"
      ]
     },
     "metadata": {},
     "output_type": "display_data"
    }
   ],
   "source": [
    "from HDF_collection import contracts\n",
    "dataset = contracts.copy()"
   ]
  },
  {
   "cell_type": "markdown",
   "id": "5413533a-bc98-498f-b9bd-ad63a948f0b1",
   "metadata": {},
   "source": [
    "# Data Cleaning"
   ]
  },
  {
   "cell_type": "markdown",
   "id": "76953f9e-6cec-46df-96a1-02df75db5e6f",
   "metadata": {},
   "source": [
    "## Checking data"
   ]
  },
  {
   "cell_type": "code",
   "execution_count": null,
   "id": "1c2f28bf-c67e-4e79-9f5c-998834d702c8",
   "metadata": {},
   "outputs": [],
   "source": [
    "check = dataset.copy().set_index('calculation_date').sort_index(ascending=True)\n",
    "check = check[\n",
    "    (check.index>datetime(2008,9,29))\n",
    "    &\n",
    "    (check.index<datetime(2008,11,5))\n",
    "]\n",
    "check\n",
    "plt.figure()\n",
    "plt.plot(check['spot_price'])\n",
    "plt.xticks(rotation=45)\n",
    "plt.title('possible anomanly in time series')\n",
    "plt.show()\n",
    "plt.clf()"
   ]
  },
  {
   "cell_type": "markdown",
   "id": "6f89bad5-75ee-4112-a23b-777aef0f0dbe",
   "metadata": {},
   "source": [
    "## Filtering data"
   ]
  },
  {
   "cell_type": "code",
   "execution_count": null,
   "id": "921617ee-b8b9-497d-98cd-96e3c8bf586d",
   "metadata": {},
   "outputs": [],
   "source": [
    "dataset = dataset.set_index('calculation_date')\n",
    "dataset = dataset[\n",
    "    ~(\n",
    "    (dataset.index>datetime(2008,9,30))\n",
    "        &\n",
    "    (dataset.index<datetime(2008,11,4))\n",
    "    )\n",
    "]\n",
    "plt.figure()\n",
    "plt.plot(dataset['spot_price'].copy().drop_duplicates(),color='black')\n",
    "plt.xticks(rotation=45)\n",
    "plt.title('exclusion of anomaly')\n",
    "plt.show()\n",
    "plt.clf()\n",
    "dataset = dataset.reset_index()\n",
    "print(dataset.describe().iloc[1:,:])\n",
    "print(f\"\\ncount {dataset.shape[0]}\")"
   ]
  },
  {
   "cell_type": "code",
   "execution_count": null,
   "id": "ca4c94ea-c013-4078-967c-41b7d838bca3",
   "metadata": {},
   "outputs": [],
   "source": [
    "from convsklearn import barrier_trainer\n",
    "bt = barrier_trainer"
   ]
  },
  {
   "cell_type": "markdown",
   "id": "3fc232ac-17b4-4341-9c0b-bf9ab5a58ad4",
   "metadata": {},
   "source": [
    "## Splitting data"
   ]
  },
  {
   "cell_type": "code",
   "execution_count": null,
   "id": "43aa7a2b-8966-4d73-aa91-d80208fad7c0",
   "metadata": {},
   "outputs": [],
   "source": [
    "\"\"\"\n",
    "train/test split\n",
    "\"\"\"\n",
    "unique_dates = dataset['calculation_date'].sort_values(\n",
    "    ascending=True).unique().tolist()\n",
    "filter_date = unique_dates[int(0.85*len(unique_dates))]\n",
    "\n",
    "train_data = dataset[\n",
    "    (\n",
    "      # (dataset['calculation_date']>=datetime(2007,1,1))\n",
    "      #  &\n",
    "      (dataset['calculation_date']<=filter_date)\n",
    "    )\n",
    "].copy()\n",
    "\n",
    "test_data = dataset[\n",
    "    (\n",
    "        (dataset['calculation_date']>filter_date)\n",
    "        # &\n",
    "        # (dataset['calculation_date']<=datetime(2012,12,31))\n",
    "    )\n",
    "].copy()"
   ]
  },
  {
   "cell_type": "markdown",
   "id": "e82e52a7-7dbb-464d-a638-54108c2eb45b",
   "metadata": {},
   "source": [
    "# Preprocessing"
   ]
  },
  {
   "cell_type": "code",
   "execution_count": null,
   "id": "5a85944d-4371-482f-b39e-9431270ca5ee",
   "metadata": {
    "scrolled": true
   },
   "outputs": [],
   "source": [
    "train_X, train_y, test_X, test_y = bt.get_train_test_arrays(\n",
    "    train_data, test_data)\n",
    "preprocessor = bt.preprocess()\n",
    "train_startdate = train_data.describe()['calculation_date']['min'].strftime('%A, %Y-%m-%d')\n",
    "train_enddate = train_data.describe()['calculation_date']['max'].strftime('%A, %Y-%m-%d')\n",
    "print(f\"\\ntraining from\\n{train_startdate}\\nto\\n{train_enddate}\\n\")"
   ]
  },
  {
   "cell_type": "code",
   "execution_count": null,
   "id": "407bf74a-3013-41a9-a175-cf2c9f6d6cea",
   "metadata": {},
   "outputs": [],
   "source": [
    "print(f\"\\n{train_data.dtypes}\")\n",
    "test_train_ratio = test_data.describe(\n",
    "    ).iloc[0,0]/train_data.describe().iloc[0,0]\n",
    "\n",
    "print(f\"\\ntrain/test: {int(round((1-test_train_ratio)*100,0))}/\"\n",
    "      +str(int(round(test_train_ratio*100,0))))"
   ]
  },
  {
   "cell_type": "markdown",
   "id": "ea60807a-e929-4919-bd91-12539c89689b",
   "metadata": {},
   "source": [
    "# Training"
   ]
  },
  {
   "cell_type": "code",
   "execution_count": null,
   "id": "22b25bd4-4e1d-4f21-8963-ab86f780d371",
   "metadata": {
    "scrolled": true
   },
   "outputs": [
    {
     "name": "stdout",
     "output_type": "stream",
     "text": [
      "\n",
      "training...\n",
      "\n",
      "Deep Neural Network\n",
      "hidden layers sizes: (13, 13, 13)\n",
      "learning rate: adaptive\n",
      "activation: relu\n",
      "solver: sgd\n",
      "alpha: 0.0001\n"
     ]
    }
   ],
   "source": [
    "model_fit, runtime, specs = bt.run_dnn(preprocessor,train_X,train_y)\n",
    "train_end = time.time()\n",
    "train_runtime = train_end-train_start\n",
    "print(f\"\\ncpu: {train_runtime}\")"
   ]
  },
  {
   "cell_type": "markdown",
   "id": "cc6405bd-60e1-43f3-90b5-21dc0b8eb241",
   "metadata": {},
   "source": [
    "# Testing"
   ]
  },
  {
   "cell_type": "code",
   "execution_count": null,
   "id": "6309a771-7200-49b7-9871-8fa9da1843d0",
   "metadata": {},
   "outputs": [],
   "source": [
    "test_data.describe()"
   ]
  },
  {
   "cell_type": "code",
   "execution_count": null,
   "id": "e0401ccf-cc21-4867-9a9b-bf5b6a269418",
   "metadata": {},
   "outputs": [],
   "source": [
    "insample, outsample, errors = bt.test_prediction_accuracy(\n",
    "        model_fit,\n",
    "        test_data,\n",
    "        train_data\n",
    "        )"
   ]
  },
  {
   "cell_type": "markdown",
   "id": "0d3d455a-0c63-4d2d-8ee6-0c26f2a11163",
   "metadata": {},
   "source": [
    "# Saving"
   ]
  },
  {
   "cell_type": "code",
   "execution_count": null,
   "id": "5baf5ec1-538e-4a04-b948-e4f27541a33f",
   "metadata": {},
   "outputs": [],
   "source": [
    "train_end_tag = str(datetime.fromtimestamp(\n",
    "    train_end).strftime(\"%Y_%m_%d %H-%M-%S\"))\n",
    "file_tag = str(train_end_tag + \" \" + specs[0] )\n",
    "os.chdir(os.path.join(notebook_dir,'trained_models'))\n",
    "files_dir = os.path.join(\n",
    "    notebook_dir,'trained_models','trained_models',\n",
    "    file_tag)\n",
    "\n",
    "if Path(files_dir).exists():\n",
    "    pass\n",
    "else:\n",
    "    os.mkdir(files_dir)\n",
    "\n",
    "file_dir = os.path.join(files_dir,file_tag)\n",
    "\n",
    "S = np.sort(train_data['spot_price'].unique())\n",
    "K = np.sort(train_data['strike_price'].unique())\n",
    "T = np.sort(train_data['days_to_maturity'].unique())\n",
    "W = np.sort(train_data['w'].unique())\n",
    "n_calls = train_data[train_data['w']=='call'].shape[0]\n",
    "n_puts = train_data[train_data['w']=='put'].shape[0]\n",
    "insample.to_csv(f\"{file_dir} insample.csv\")\n",
    "outsample.to_csv(f\"{file_dir} outsample.csv\")\n",
    "joblib.dump(model_fit,str(f\"{file_dir}.pkl\"))\n",
    "pd.set_option(\"display.max_columns\",None)\n",
    "\n",
    "with open(f'{file_dir}.txt', 'w') as file:\n",
    "    file.write(train_start_tag)\n",
    "    file.write(f\"\\nspot(s):\\n{S}\")\n",
    "    file.write(f\"\\n\\nstrikes:\\n{K}\\n\")\n",
    "    file.write(f\"\\nmaturities:\\n{T}\\n\")\n",
    "    file.write(f\"\\ntypes:\\n{W}\\n\")\n",
    "    try:\n",
    "        file.write(f\"\\n{train_data['barrier_type_name'].unique()}\")\n",
    "    except Exception:\n",
    "        pass\n",
    "    file.write(\"\")\n",
    "    file.write(f\"\\nnumber of calls, puts:\\n{n_calls},{n_puts}\\n\")\n",
    "    file.write(f\"\\ntotal prices:\\n{train_data.shape[0]}\\n\")\n",
    "    for spec in specs:\n",
    "        file.write(f\"{spec}\\n\")\n",
    "    file.write(\"#\"*17+\"\\n# training data #\\n\"+\"#\"*17+\n",
    "          f\"\\n{train_data.describe()}\\n\")\n",
    "    file.write(\"#\"*13+\"\\n# test data #\\n\"+\"#\"*13+\n",
    "          f\"\\n{test_data.describe()}\\n\")\n",
    "    file.write(f\"\\n{dataset.dtypes}\")\n",
    "    file.write(\n",
    "        f\"\\nin sample results:\"\n",
    "        f\"\\n     RMSE: {errors['insample_RMSE']}\"\n",
    "        f\"\\n     MAE: {errors['insample_MAE']}\\n\"\n",
    "        f\"\\nout of sample results:\"\n",
    "        f\"\\n     RMSE: {errors['outofsample_RMSE']}\"\n",
    "        f\"\\n     MAE: {errors['outofsample_MAE']}\\n\"\n",
    "        )\n",
    "    file.write(\"\\nfeatures:\\n\")\n",
    "    for feature in bt.feature_set:\n",
    "        file.write(f\"     {feature}\\n\")\n",
    "    file.write(f\"\\ntarget: {bt.target_name}\\n\")\n",
    "    file.write(f\"\\ncpu: {train_runtime}\\n\")\n",
    "    file.write(datetime.fromtimestamp(train_end).strftime('%c'))"
   ]
  }
 ],
 "metadata": {
  "kernelspec": {
   "display_name": "Python 3 (ipykernel)",
   "language": "python",
   "name": "python3"
  },
  "language_info": {
   "codemirror_mode": {
    "name": "ipython",
    "version": 3
   },
   "file_extension": ".py",
   "mimetype": "text/x-python",
   "name": "python",
   "nbconvert_exporter": "python",
   "pygments_lexer": "ipython3",
   "version": "3.12.7"
  }
 },
 "nbformat": 4,
 "nbformat_minor": 5
}
