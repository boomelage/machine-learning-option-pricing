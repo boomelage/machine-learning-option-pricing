{
 "cells": [
  {
   "cell_type": "code",
   "execution_count": null,
   "id": "756bdd82-6c20-4e3d-999a-7bd7497bfe98",
   "metadata": {},
   "outputs": [],
   "source": [
    "import os\n",
    "import sys\n",
    "import time\n",
    "import joblib\n",
    "import numpy as np\n",
    "import pandas as pd\n",
    "import matplotlib.pyplot as plt\n",
    "\n",
    "from tqdm import tqdm\n",
    "from pathlib import Path\n",
    "from datetime import datetime\n",
    "\n",
    "from model_settings import ms\n",
    "from feature_collector import collect_features\n",
    "\n",
    "os.chdir(os.path.abspath(str(Path())))\n",
    "pd.set_option(\"display.max_columns\",None)\n",
    "pd.options.display.float_format = '{:.5f}'.format\n",
    "notebook_dir = str(Path().resolve())\n",
    "root = Path().resolve().parent.parent\n",
    "models_dir = os.path.join(root,ms.trained_models)"
   ]
  },
  {
   "cell_type": "markdown",
   "id": "53d438f8-c781-406c-9e99-f8b1999f7b17",
   "metadata": {},
   "source": [
    "# initializing"
   ]
  },
  {
   "cell_type": "code",
   "execution_count": null,
   "id": "fd578101-a596-4e58-9def-d2a4981157f9",
   "metadata": {},
   "outputs": [],
   "source": [
    "from convsklearn import barrier_trainer, asian_trainer\n",
    "price_name = 'barrier_price' \n",
    "filetag = 'live cboe barriers'\n",
    "trainer = barrier_trainer\n",
    "datadir = os.path.join(root,ms.cboe_spx_barriers['dump'])\n",
    "\n",
    "dataset = collect_features(datadir,price_name)\n",
    "\n",
    "\n",
    "train_start = time.time()\n",
    "train_start_datetime = datetime.fromtimestamp(train_start)\n",
    "train_start_tag = train_start_datetime.strftime('%c')\n",
    "print(\"\\n\"+\"#\"*18+\"\\n# training start #\\n\"+\n",
    "      \"#\"*18+\"\\n\"+f\"\\n{train_start_tag}\\n\")"
   ]
  },
  {
   "cell_type": "markdown",
   "id": "e82e52a7-7dbb-464d-a638-54108c2eb45b",
   "metadata": {},
   "source": [
    "# preprocessing"
   ]
  },
  {
   "cell_type": "markdown",
   "id": "3fc232ac-17b4-4341-9c0b-bf9ab5a58ad4",
   "metadata": {},
   "source": [
    "## train/test split"
   ]
  },
  {
   "cell_type": "code",
   "execution_count": null,
   "id": "60bb3773-1120-4322-a5c3-4368ef490e75",
   "metadata": {},
   "outputs": [],
   "source": [
    "dates = pd.Series(np.sort(dataset['calculation_date'].unique()))\n",
    "development_dates = dates[:len(dates)*3//4]\n",
    "# development_dates = dates[dates<=pd.Timestamp(2008,8,1)]\n",
    "test_dates = dates[~dates.isin(development_dates)]\n",
    "train_data = dataset[dataset['calculation_date'].isin(development_dates)]\n",
    "test_data = dataset[dataset['calculation_date'].isin(test_dates)]\n",
    "train_plot = train_data[['calculation_date','spot_price']].copy().set_index('calculation_date').drop_duplicates()\n",
    "test_plot = test_data[['calculation_date','spot_price']].copy().set_index('calculation_date').drop_duplicates()\n",
    "trainplotx = pd.date_range(start=min(train_plot.index),end=max(train_plot.index),periods=len(train_plot))\n",
    "testplotx = pd.date_range(start=min(test_plot.index),end=max(test_plot.index),periods=len(test_plot))\n",
    "\n",
    "plt.figure()\n",
    "plt.xticks(rotation=45)\n",
    "plt.plot(testplotx,test_plot,color='purple',label='out-of-sample')\n",
    "plt.plot(trainplotx,train_plot,color='green',label='in-sample')\n",
    "plt.legend()\n",
    "plt.show()\n",
    "arrs = trainer.get_train_test_arrays(\n",
    "    train_data, test_data)\n",
    "train_X = arrs['train_X']\n",
    "train_y = arrs['train_y']\n",
    "test_X = arrs['test_X']\n",
    "test_y = arrs['test_y']\n",
    "preprocessor = trainer.preprocess()\n",
    "print(len(train_y),len(test_X))"
   ]
  },
  {
   "cell_type": "code",
   "execution_count": null,
   "id": "fd36430b-9406-4a75-9ca3-63653fc52cc3",
   "metadata": {},
   "outputs": [],
   "source": [
    "model_fit = trainer.run_dnn(preprocessor,train_X,train_y)\n",
    "train_test = trainer.test_prediction_accuracy(train_data,test_data,model_fit)\n",
    "train_data = train_test['train_data']\n",
    "test_data = train_test['test_data']"
   ]
  },
  {
   "cell_type": "markdown",
   "id": "0d3d455a-0c63-4d2d-8ee6-0c26f2a11163",
   "metadata": {},
   "source": [
    "# saving"
   ]
  },
  {
   "cell_type": "code",
   "execution_count": null,
   "id": "1fe42f9f-e635-4240-a881-cbd3c336ef21",
   "metadata": {},
   "outputs": [],
   "source": [
    "train_end = time.time()\n",
    "train_end_tag = str(datetime.fromtimestamp(\n",
    "    train_end).strftime(\"%Y_%m_%d %H%M%S%f\"))\n",
    "file_tag = str(train_end_tag + \" \" + filetag)\n",
    "files_dir = os.path.join(models_dir,file_tag)\n",
    "\n",
    "def save_model():\n",
    "    if Path(files_dir).exists():\n",
    "        pass\n",
    "    else:\n",
    "        os.mkdir(files_dir)\n",
    "    file_dir = os.path.join(files_dir,file_tag)\n",
    "    n_calls = train_data[train_data['w']=='call'].shape[0]\n",
    "    n_puts = train_data[train_data['w']=='put'].shape[0]\n",
    "    train_data.to_csv(f\"{file_dir} train_data.csv\")\n",
    "    test_data.to_csv(f\"{file_dir} test_data.csv\")\n",
    "    joblib.dump(model_fit,str(f\"{file_dir}.pkl\"))\n",
    "    pd.set_option(\"display.max_columns\",None)\n",
    "    print(f\"model saved to {file_dir}\")\n",
    "\n",
    "print(f\"execute the command 'save_model()' to save the following model: {file_tag}\")\n",
    "train_runtime = train_end-train_start\n",
    "print(f\"\\ncpu: {train_runtime}\")"
   ]
  }
 ],
 "metadata": {
  "kernelspec": {
   "display_name": "Python 3 (ipykernel)",
   "language": "python",
   "name": "python3"
  },
  "language_info": {
   "codemirror_mode": {
    "name": "ipython",
    "version": 3
   },
   "file_extension": ".py",
   "mimetype": "text/x-python",
   "name": "python",
   "nbconvert_exporter": "python",
   "pygments_lexer": "ipython3",
   "version": "3.12.7"
  }
 },
 "nbformat": 4,
 "nbformat_minor": 5
}
