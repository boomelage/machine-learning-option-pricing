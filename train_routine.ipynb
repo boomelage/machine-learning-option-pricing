{
 "cells": [
  {
   "cell_type": "code",
   "execution_count": 1,
   "id": "756bdd82-6c20-4e3d-999a-7bd7497bfe98",
   "metadata": {},
   "outputs": [
    {
     "name": "stdout",
     "output_type": "stream",
     "text": [
      "\n",
      "##################\n",
      "# training start #\n",
      "##################\n",
      "\n",
      "Fri Oct 25 14:53:07 2024\n",
      "\n"
     ]
    }
   ],
   "source": [
    "import os\n",
    "import sys\n",
    "import time\n",
    "import joblib\n",
    "import numpy as np\n",
    "import pandas as pd\n",
    "import matplotlib.pyplot as plt\n",
    "from tqdm import tqdm\n",
    "from pathlib import Path\n",
    "from datetime import datetime\n",
    "from model_settings import ms\n",
    "os.chdir(os.path.abspath(str(Path())))\n",
    "pd.set_option(\"display.max_columns\",None)\n",
    "pd.options.display.float_format = '{:.5f}'.format\n",
    "notebook_dir = str(Path().resolve())\n",
    "sys.path.append(os.path.join(notebook_dir,'historical_data','historical_generation'))\n",
    "train_start = time.time()\n",
    "train_start_datetime = datetime.fromtimestamp(train_start)\n",
    "train_start_tag = train_start_datetime.strftime('%c')\n",
    "print(\"\\n\"+\"#\"*18+\"\\n# training start #\\n\"+\n",
    "      \"#\"*18+\"\\n\"+f\"\\n{train_start_tag}\\n\")"
   ]
  },
  {
   "cell_type": "markdown",
   "id": "108afe68-dd3e-4537-8406-cb618ca7c4a2",
   "metadata": {},
   "source": [
    "# Loading data"
   ]
  },
  {
   "cell_type": "code",
   "execution_count": 2,
   "id": "f9c5e82f-7486-4c6b-aac9-237735ffe2df",
   "metadata": {},
   "outputs": [
    {
     "name": "stderr",
     "output_type": "stream",
     "text": [
      "100%|█████████████████████████████████████████████████████████████████████████████| 1511/1511 [00:11<00:00, 126.12it/s]\n"
     ]
    }
   ],
   "source": [
    "root = Path().resolve().parent.parent\n",
    "datadir = os.path.join(root,ms.bloomberg_spx_barriers['dump'])\n",
    "files = [f for f in os.listdir(datadir) if f.endswith('.csv')]\n",
    "files = [os.path.join(datadir,f) for f in files]\n",
    "dfs = []\n",
    "bar = tqdm(total=len(files)+1)\n",
    "for f in files:\n",
    "    dfs.append(pd.read_csv(f).iloc[:,1:])\n",
    "    bar.update(1)\n",
    "dataset = pd.concat(dfs,ignore_index=True).dropna().reset_index(drop=True)\n",
    "bar.update(1)\n",
    "bar.close()"
   ]
  },
  {
   "cell_type": "code",
   "execution_count": 3,
   "id": "8e489495-1b34-4f16-b034-35c6e8b8acf9",
   "metadata": {},
   "outputs": [
    {
     "name": "stdout",
     "output_type": "stream",
     "text": [
      "\n",
      "initializing vanilla pricer\n",
      "Actual/365 (Fixed) day counter\n",
      "seed: 123\n",
      "\n"
     ]
    }
   ],
   "source": [
    "from quantlib_pricers import vanilla_pricer\n",
    "vanillas = vanilla_pricer()\n",
    "dataset['calculation_date'] = pd.to_datetime(dataset['calculation_date'],format='%Y-%m-%d')"
   ]
  },
  {
   "cell_type": "markdown",
   "id": "e82e52a7-7dbb-464d-a638-54108c2eb45b",
   "metadata": {},
   "source": [
    "# Preprocessing"
   ]
  },
  {
   "cell_type": "code",
   "execution_count": 4,
   "id": "e6206662-c9d3-4b83-a0fb-c12717bee58a",
   "metadata": {},
   "outputs": [],
   "source": [
    "from convsklearn import asian_trainer, barrier_trainer\n",
    "price = 'barrier_price'\n",
    "trainer = barrier_trainer\n",
    "trainer.activation_function = 'relu'\n",
    "trainer.solver = 'lbfgs'\n",
    "dataset[price] = pd.to_numeric(dataset[price],errors='coerce')\n",
    "dataset['observed_price'] = np.maximum(dataset[price] + np.random.normal(scale=(0.15)**2,size=dataset.shape[0]),0)\n",
    "dataset = dataset.dropna()"
   ]
  },
  {
   "cell_type": "markdown",
   "id": "3fc232ac-17b4-4341-9c0b-bf9ab5a58ad4",
   "metadata": {},
   "source": [
    "## Train/test split"
   ]
  },
  {
   "cell_type": "code",
   "execution_count": 5,
   "id": "220af35b-93fd-4145-9761-0e8ec0950db8",
   "metadata": {},
   "outputs": [
    {
     "data": {
      "text/plain": [
       "0      2007-01-03\n",
       "1      2007-01-04\n",
       "2      2007-01-05\n",
       "3      2007-01-08\n",
       "4      2007-01-09\n",
       "          ...    \n",
       "1505   2012-12-24\n",
       "1506   2012-12-26\n",
       "1507   2012-12-27\n",
       "1508   2012-12-28\n",
       "1509   2012-12-31\n",
       "Length: 1510, dtype: datetime64[ns]"
      ]
     },
     "execution_count": 5,
     "metadata": {},
     "output_type": "execute_result"
    }
   ],
   "source": [
    "unique_dates = dataset['calculation_date'].sort_values(\n",
    "    ascending=True).unique().tolist()\n",
    "pd.Series(unique_dates)"
   ]
  },
  {
   "cell_type": "code",
   "execution_count": 6,
   "id": "60bb3773-1120-4322-a5c3-4368ef490e75",
   "metadata": {},
   "outputs": [],
   "source": [
    "development_dates = unique_dates[:400]\n",
    "train_data = dataset[dataset['calculation_date'].isin(development_dates)]\n",
    "test_data = dataset[~dataset['calculation_date'].isin(development_dates)]"
   ]
  },
  {
   "cell_type": "code",
   "execution_count": 7,
   "id": "5a85944d-4371-482f-b39e-9431270ca5ee",
   "metadata": {
    "scrolled": true
   },
   "outputs": [],
   "source": [
    "arrs = trainer.get_train_test_arrays(\n",
    "    train_data, test_data)\n",
    "preprocessor = trainer.preprocess()\n",
    "train_X = arrs['train_X'] \n",
    "train_y = arrs['train_y']\n",
    "test_X = arrs['test_X']\n",
    "test_y = arrs['test_y']"
   ]
  },
  {
   "cell_type": "markdown",
   "id": "ea60807a-e929-4919-bd91-12539c89689b",
   "metadata": {},
   "source": [
    "# Training"
   ]
  },
  {
   "cell_type": "code",
   "execution_count": 8,
   "id": "14ac662c-5a7a-42d9-bf95-24c081b262df",
   "metadata": {},
   "outputs": [
    {
     "name": "stdout",
     "output_type": "stream",
     "text": [
      "features:\n",
      "    spot price\n",
      "    strike price\n",
      "    days to maturity\n",
      "    risk free rate\n",
      "    dividend rate\n",
      "    kappa\n",
      "    theta\n",
      "    rho\n",
      "    eta\n",
      "    v0\n",
      "    barrier\n",
      "    barrier type name\n",
      "    w\n",
      "target:\n",
      "    observed price\n"
     ]
    }
   ],
   "source": [
    "print(\"features:\")\n",
    "for f in trainer.feature_set:\n",
    "    print(f\"    {f.replace('_',' ')}\")\n",
    "print(f\"target:\\n    {trainer.target_name.replace('_',' ')}\")"
   ]
  },
  {
   "cell_type": "code",
   "execution_count": 9,
   "id": "22b25bd4-4e1d-4f21-8963-ab86f780d371",
   "metadata": {
    "scrolled": true
   },
   "outputs": [
    {
     "name": "stdout",
     "output_type": "stream",
     "text": [
      "\n",
      "training...\n",
      "\n",
      "Deep Neural Network\n",
      "hidden layers sizes: (13, 13, 13)\n",
      "learning rate: adaptive\n",
      "activation: relu\n",
      "solver: lbfgs\n",
      "alpha: 0.0001\n",
      "\n",
      "cpu: 572.6605195999146\n"
     ]
    },
    {
     "name": "stderr",
     "output_type": "stream",
     "text": [
      "E:\\Python\\Lib\\site-packages\\sklearn\\neural_network\\_multilayer_perceptron.py:545: ConvergenceWarning: lbfgs failed to converge (status=1):\n",
      "STOP: TOTAL NO. of ITERATIONS REACHED LIMIT.\n",
      "\n",
      "Increase the number of iterations (max_iter) or scale the data as shown in:\n",
      "    https://scikit-learn.org/stable/modules/preprocessing.html\n"
     ]
    }
   ],
   "source": [
    "model_fit, runtime, specs = trainer.run_dnn(preprocessor,train_X,train_y)\n",
    "train_end = time.time()\n",
    "train_runtime = train_end-train_start\n",
    "print(f\"\\ncpu: {train_runtime}\")"
   ]
  },
  {
   "cell_type": "markdown",
   "id": "cc6405bd-60e1-43f3-90b5-21dc0b8eb241",
   "metadata": {},
   "source": [
    "# Testing"
   ]
  },
  {
   "cell_type": "code",
   "execution_count": 10,
   "id": "6309a771-7200-49b7-9871-8fa9da1843d0",
   "metadata": {},
   "outputs": [
    {
     "data": {
      "text/html": [
       "<div>\n",
       "<style scoped>\n",
       "    .dataframe tbody tr th:only-of-type {\n",
       "        vertical-align: middle;\n",
       "    }\n",
       "\n",
       "    .dataframe tbody tr th {\n",
       "        vertical-align: top;\n",
       "    }\n",
       "\n",
       "    .dataframe thead th {\n",
       "        text-align: right;\n",
       "    }\n",
       "</style>\n",
       "<table border=\"1\" class=\"dataframe\">\n",
       "  <thead>\n",
       "    <tr style=\"text-align: right;\">\n",
       "      <th></th>\n",
       "      <th>spot_price</th>\n",
       "      <th>strike_price</th>\n",
       "      <th>barrier</th>\n",
       "      <th>days_to_maturity</th>\n",
       "      <th>rebate</th>\n",
       "      <th>dividend_rate</th>\n",
       "      <th>risk_free_rate</th>\n",
       "      <th>theta</th>\n",
       "      <th>kappa</th>\n",
       "      <th>rho</th>\n",
       "      <th>eta</th>\n",
       "      <th>v0</th>\n",
       "      <th>calculation_date</th>\n",
       "      <th>barrier_price</th>\n",
       "      <th>observed_price</th>\n",
       "    </tr>\n",
       "  </thead>\n",
       "  <tbody>\n",
       "    <tr>\n",
       "      <th>count</th>\n",
       "      <td>2362680.00000</td>\n",
       "      <td>2362680.00000</td>\n",
       "      <td>2362680.00000</td>\n",
       "      <td>2362680.00000</td>\n",
       "      <td>2362680.00000</td>\n",
       "      <td>2362680.00000</td>\n",
       "      <td>2362680.00000</td>\n",
       "      <td>2362680.00000</td>\n",
       "      <td>2362680.00000</td>\n",
       "      <td>2362680.00000</td>\n",
       "      <td>2362680.00000</td>\n",
       "      <td>2362680.00000</td>\n",
       "      <td>2362680</td>\n",
       "      <td>2362680.00000</td>\n",
       "      <td>2362680.00000</td>\n",
       "    </tr>\n",
       "    <tr>\n",
       "      <th>mean</th>\n",
       "      <td>1173.51118</td>\n",
       "      <td>1173.51118</td>\n",
       "      <td>1173.51118</td>\n",
       "      <td>322.74341</td>\n",
       "      <td>0.00000</td>\n",
       "      <td>0.02268</td>\n",
       "      <td>0.04000</td>\n",
       "      <td>0.07625</td>\n",
       "      <td>3.35364</td>\n",
       "      <td>-0.86936</td>\n",
       "      <td>0.22328</td>\n",
       "      <td>0.05759</td>\n",
       "      <td>2010-10-27 02:56:50.757275648</td>\n",
       "      <td>48.74184</td>\n",
       "      <td>48.74254</td>\n",
       "    </tr>\n",
       "    <tr>\n",
       "      <th>min</th>\n",
       "      <td>676.03000</td>\n",
       "      <td>608.42700</td>\n",
       "      <td>338.01500</td>\n",
       "      <td>60.00000</td>\n",
       "      <td>0.00000</td>\n",
       "      <td>0.01791</td>\n",
       "      <td>0.04000</td>\n",
       "      <td>0.03784</td>\n",
       "      <td>0.08326</td>\n",
       "      <td>-1.00000</td>\n",
       "      <td>0.11096</td>\n",
       "      <td>0.00739</td>\n",
       "      <td>2008-08-05 00:00:00</td>\n",
       "      <td>0.00000</td>\n",
       "      <td>0.00000</td>\n",
       "    </tr>\n",
       "    <tr>\n",
       "      <th>25%</th>\n",
       "      <td>1069.52000</td>\n",
       "      <td>1040.60650</td>\n",
       "      <td>842.50395</td>\n",
       "      <td>90.00000</td>\n",
       "      <td>0.00000</td>\n",
       "      <td>0.02052</td>\n",
       "      <td>0.04000</td>\n",
       "      <td>0.05613</td>\n",
       "      <td>1.73717</td>\n",
       "      <td>-1.00000</td>\n",
       "      <td>0.16547</td>\n",
       "      <td>0.01945</td>\n",
       "      <td>2009-09-28 00:00:00</td>\n",
       "      <td>1.46678</td>\n",
       "      <td>1.46752</td>\n",
       "    </tr>\n",
       "    <tr>\n",
       "      <th>50%</th>\n",
       "      <td>1193.38000</td>\n",
       "      <td>1190.19225</td>\n",
       "      <td>1152.36960</td>\n",
       "      <td>180.00000</td>\n",
       "      <td>0.00000</td>\n",
       "      <td>0.02187</td>\n",
       "      <td>0.04000</td>\n",
       "      <td>0.06728</td>\n",
       "      <td>2.80148</td>\n",
       "      <td>-0.98702</td>\n",
       "      <td>0.19079</td>\n",
       "      <td>0.03150</td>\n",
       "      <td>2010-10-27 00:00:00</td>\n",
       "      <td>26.19813</td>\n",
       "      <td>26.19809</td>\n",
       "    </tr>\n",
       "    <tr>\n",
       "      <th>75%</th>\n",
       "      <td>1320.45000</td>\n",
       "      <td>1317.70700</td>\n",
       "      <td>1462.62720</td>\n",
       "      <td>540.00000</td>\n",
       "      <td>0.00000</td>\n",
       "      <td>0.02306</td>\n",
       "      <td>0.04000</td>\n",
       "      <td>0.07999</td>\n",
       "      <td>4.57044</td>\n",
       "      <td>-0.79616</td>\n",
       "      <td>0.23728</td>\n",
       "      <td>0.06123</td>\n",
       "      <td>2011-11-28 00:00:00</td>\n",
       "      <td>85.53697</td>\n",
       "      <td>85.53729</td>\n",
       "    </tr>\n",
       "    <tr>\n",
       "      <th>max</th>\n",
       "      <td>1465.27000</td>\n",
       "      <td>1611.79700</td>\n",
       "      <td>2197.90500</td>\n",
       "      <td>720.00000</td>\n",
       "      <td>0.00000</td>\n",
       "      <td>0.03773</td>\n",
       "      <td>0.04000</td>\n",
       "      <td>0.35610</td>\n",
       "      <td>15.99144</td>\n",
       "      <td>-0.18176</td>\n",
       "      <td>1.52882</td>\n",
       "      <td>0.69402</td>\n",
       "      <td>2012-12-31 00:00:00</td>\n",
       "      <td>280.85321</td>\n",
       "      <td>280.85847</td>\n",
       "    </tr>\n",
       "    <tr>\n",
       "      <th>std</th>\n",
       "      <td>180.31182</td>\n",
       "      <td>195.92309</td>\n",
       "      <td>408.02101</td>\n",
       "      <td>241.24743</td>\n",
       "      <td>0.00000</td>\n",
       "      <td>0.00367</td>\n",
       "      <td>0.00000</td>\n",
       "      <td>0.03492</td>\n",
       "      <td>2.19695</td>\n",
       "      <td>0.18668</td>\n",
       "      <td>0.12900</td>\n",
       "      <td>0.06939</td>\n",
       "      <td>NaN</td>\n",
       "      <td>54.10619</td>\n",
       "      <td>54.10559</td>\n",
       "    </tr>\n",
       "  </tbody>\n",
       "</table>\n",
       "</div>"
      ],
      "text/plain": [
       "         spot_price  strike_price       barrier  days_to_maturity  \\\n",
       "count 2362680.00000 2362680.00000 2362680.00000     2362680.00000   \n",
       "mean     1173.51118    1173.51118    1173.51118         322.74341   \n",
       "min       676.03000     608.42700     338.01500          60.00000   \n",
       "25%      1069.52000    1040.60650     842.50395          90.00000   \n",
       "50%      1193.38000    1190.19225    1152.36960         180.00000   \n",
       "75%      1320.45000    1317.70700    1462.62720         540.00000   \n",
       "max      1465.27000    1611.79700    2197.90500         720.00000   \n",
       "std       180.31182     195.92309     408.02101         241.24743   \n",
       "\n",
       "             rebate  dividend_rate  risk_free_rate         theta  \\\n",
       "count 2362680.00000  2362680.00000   2362680.00000 2362680.00000   \n",
       "mean        0.00000        0.02268         0.04000       0.07625   \n",
       "min         0.00000        0.01791         0.04000       0.03784   \n",
       "25%         0.00000        0.02052         0.04000       0.05613   \n",
       "50%         0.00000        0.02187         0.04000       0.06728   \n",
       "75%         0.00000        0.02306         0.04000       0.07999   \n",
       "max         0.00000        0.03773         0.04000       0.35610   \n",
       "std         0.00000        0.00367         0.00000       0.03492   \n",
       "\n",
       "              kappa           rho           eta            v0  \\\n",
       "count 2362680.00000 2362680.00000 2362680.00000 2362680.00000   \n",
       "mean        3.35364      -0.86936       0.22328       0.05759   \n",
       "min         0.08326      -1.00000       0.11096       0.00739   \n",
       "25%         1.73717      -1.00000       0.16547       0.01945   \n",
       "50%         2.80148      -0.98702       0.19079       0.03150   \n",
       "75%         4.57044      -0.79616       0.23728       0.06123   \n",
       "max        15.99144      -0.18176       1.52882       0.69402   \n",
       "std         2.19695       0.18668       0.12900       0.06939   \n",
       "\n",
       "                    calculation_date  barrier_price  observed_price  \n",
       "count                        2362680  2362680.00000   2362680.00000  \n",
       "mean   2010-10-27 02:56:50.757275648       48.74184        48.74254  \n",
       "min              2008-08-05 00:00:00        0.00000         0.00000  \n",
       "25%              2009-09-28 00:00:00        1.46678         1.46752  \n",
       "50%              2010-10-27 00:00:00       26.19813        26.19809  \n",
       "75%              2011-11-28 00:00:00       85.53697        85.53729  \n",
       "max              2012-12-31 00:00:00      280.85321       280.85847  \n",
       "std                              NaN       54.10619        54.10559  "
      ]
     },
     "execution_count": 10,
     "metadata": {},
     "output_type": "execute_result"
    }
   ],
   "source": [
    "test_data.describe()"
   ]
  },
  {
   "cell_type": "code",
   "execution_count": 11,
   "id": "e0401ccf-cc21-4867-9a9b-bf5b6a269418",
   "metadata": {},
   "outputs": [
    {
     "name": "stdout",
     "output_type": "stream",
     "text": [
      "\n",
      "in sample:\n",
      "     RMSE: 5.066311241242096\n",
      "     MAE: 3.2188905312152643\n",
      "\n",
      "out of sample:\n",
      "     RMSE: 16.574356617084927\n",
      "     MAE: 9.637504514538643\n"
     ]
    }
   ],
   "source": [
    "insample, outsample, errors = trainer.test_prediction_accuracy(\n",
    "        model_fit,\n",
    "        test_data,\n",
    "        train_data\n",
    ")\n",
    "outofsample_RMSE = errors['outofsample_RMSE']"
   ]
  },
  {
   "cell_type": "markdown",
   "id": "0d3d455a-0c63-4d2d-8ee6-0c26f2a11163",
   "metadata": {},
   "source": [
    "# Saving"
   ]
  },
  {
   "cell_type": "code",
   "execution_count": 12,
   "id": "1fe42f9f-e635-4240-a881-cbd3c336ef21",
   "metadata": {
    "jupyter": {
     "source_hidden": true
    }
   },
   "outputs": [],
   "source": [
    "train_end_tag = str(datetime.fromtimestamp(\n",
    "    train_end).strftime(\"%Y_%m_%d %H-%M-%S\"))\n",
    "file_tag = str(train_end_tag + \" \" + specs[0] + \" \" + price)\n",
    "os.chdir(os.path.join(notebook_dir,'trained_models'))\n",
    "files_dir = os.path.join(\n",
    "    notebook_dir,'trained_models','trained_models',\n",
    "    file_tag)\n",
    "\n",
    "def save_model():\n",
    "    if Path(files_dir).exists():\n",
    "        pass\n",
    "    else:\n",
    "        os.mkdir(files_dir)\n",
    "    file_dir = os.path.join(files_dir,file_tag)\n",
    "    S = np.sort(train_data['spot_price'].unique())\n",
    "    K = np.sort(train_data['strike_price'].unique())\n",
    "    T = np.sort(train_data['days_to_maturity'].unique())\n",
    "    W = np.sort(train_data['w'].unique())\n",
    "    n_calls = train_data[train_data['w']=='call'].shape[0]\n",
    "    n_puts = train_data[train_data['w']=='put'].shape[0]\n",
    "    insample.to_csv(f\"{file_dir} insample.csv\")\n",
    "    outsample.to_csv(f\"{file_dir} outsample.csv\")\n",
    "    joblib.dump(model_fit,str(f\"{file_dir}.pkl\"))\n",
    "    pd.set_option(\"display.max_columns\",None)\n",
    "    \n",
    "    with open(f'{file_dir}.txt', 'w') as file:\n",
    "        file.write(train_start_tag)\n",
    "        file.write(f\"\\nspot(s):\\n{S}\")\n",
    "        file.write(f\"\\n\\nstrikes:\\n{K}\\n\")\n",
    "        file.write(f\"\\nmaturities:\\n{T}\\n\")\n",
    "        file.write(f\"\\ntypes:\\n{W}\\n\")\n",
    "        try:\n",
    "            file.write(f\"\\n{train_data['barrier_type_name'].unique()}\")\n",
    "        except Exception:\n",
    "            pass\n",
    "        try:\n",
    "            for col in ['averaging_type','fixing_frequency','past_fixings','n_fixings']:\n",
    "                file.write(f\"\\n{col}:\")\n",
    "                file.write(f\"\\n{dataset[col].drop_duplicates().sort_values().values}\\n\")\n",
    "        except Exception as e:\n",
    "            print(e)\n",
    "            pass\n",
    "        file.write(f\"\\nnumber of calls, puts:\\n{n_calls},{n_puts}\\n\")\n",
    "        file.write(f\"\\ntotal prices:\\n{train_data.shape[0]}\\n\")\n",
    "        for spec in specs:\n",
    "            file.write(f\"{spec}\\n\")\n",
    "        file.write(\"#\"*17+\"\\n# training data #\\n\"+\"#\"*17+\n",
    "              f\"\\n{train_data.describe()}\\n\")\n",
    "        file.write(\"#\"*13+\"\\n# test data #\\n\"+\"#\"*13+\n",
    "              f\"\\n{test_data.describe()}\\n\")\n",
    "        file.write(f\"\\n{dataset.dtypes}\")\n",
    "        file.write(\n",
    "            f\"\\nin sample results:\"\n",
    "            f\"\\n     RMSE: {errors['insample_RMSE']}\"\n",
    "            f\"\\n     MAE: {errors['insample_MAE']}\\n\"\n",
    "            f\"\\nout of sample results:\"\n",
    "            f\"\\n     RMSE: {errors['outofsample_RMSE']}\"\n",
    "            f\"\\n     MAE: {errors['outofsample_MAE']}\\n\"\n",
    "            )\n",
    "        file.write(\"\\nfeatures:\\n\")\n",
    "        for feature in trainer.feature_set:\n",
    "            file.write(f\"     {feature}\\n\")\n",
    "        file.write(f\"\\ntarget: {trainer.target_name}\\n\")\n",
    "        file.write(f\"\\ncpu: {train_runtime}\\n\")\n",
    "        file.write(datetime.fromtimestamp(train_end).strftime('%c'))\n",
    "        print(f\"model saved to {file_dir}\")"
   ]
  },
  {
   "cell_type": "code",
   "execution_count": null,
   "id": "b4edfa26-8eed-4eda-a81a-3247da6f1574",
   "metadata": {},
   "outputs": [],
   "source": []
  }
 ],
 "metadata": {
  "kernelspec": {
   "display_name": "Python 3 (ipykernel)",
   "language": "python",
   "name": "python3"
  },
  "language_info": {
   "codemirror_mode": {
    "name": "ipython",
    "version": 3
   },
   "file_extension": ".py",
   "mimetype": "text/x-python",
   "name": "python",
   "nbconvert_exporter": "python",
   "pygments_lexer": "ipython3",
   "version": "3.12.7"
  }
 },
 "nbformat": 4,
 "nbformat_minor": 5
}
