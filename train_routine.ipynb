{
 "cells": [
  {
   "cell_type": "code",
   "execution_count": 1,
   "id": "756bdd82-6c20-4e3d-999a-7bd7497bfe98",
   "metadata": {},
   "outputs": [
    {
     "name": "stdout",
     "output_type": "stream",
     "text": [
      "\n",
      "##################\n",
      "# training start #\n",
      "##################\n",
      "\n",
      "Wed Nov  6 18:57:07 2024\n"
     ]
    }
   ],
   "source": [
    "import os\n",
    "import time\n",
    "import joblib\n",
    "import numpy as np\n",
    "import pandas as pd\n",
    "from pathlib import Path\n",
    "from datetime import datetime\n",
    "from model_settings import ms\n",
    "from feature_collector import preprocess_data\n",
    "from df_collector import df_collector\n",
    "pd.set_option(\"display.max_columns\",None)\n",
    "pd.options.display.float_format = '{:.5f}'.format\n",
    "root = Path().resolve().parent.parent\n",
    "df_collector.root = root\n",
    "models_dir = os.path.join(root,ms.trained_models)\n",
    "train_start = time.time()\n",
    "train_start_datetime = datetime.fromtimestamp(train_start)\n",
    "train_start_tag = train_start_datetime.strftime('%c')\n",
    "print(\"\\n\"+\"#\"*18+\"\\n# training start #\\n\"+\n",
    "      \"#\"*18+\"\\n\"+f\"\\n{train_start_tag}\")"
   ]
  },
  {
   "cell_type": "code",
   "execution_count": null,
   "id": "d6a0d19f-83ac-4525-b33a-f55afa3c9da3",
   "metadata": {},
   "outputs": [],
   "source": [
    "filetag = 'cboe spx asians'\n",
    "data = df_collector.cboe_spx_barriers().iloc[:,1:]\n",
    "print('data collected')\n",
    "data = data[data['barrier_price']<data['spot_price']]\n",
    "data['observed_price'] = data['barrier_price'].values + np.random.normal(scale=0.1,size=data.shape[0])"
   ]
  },
  {
   "cell_type": "code",
   "execution_count": null,
   "id": "b5187a6b-8f47-45a0-9e5c-a6d794a52ac2",
   "metadata": {},
   "outputs": [],
   "source": [
    "from convsklearn import convsklearn, barrier_features\n",
    "trainer = convsklearn()\n",
    "trainer.__dict__"
   ]
  },
  {
   "cell_type": "code",
   "execution_count": null,
   "id": "5b2e079e-cbbf-4218-9a07-5a023fe5cc53",
   "metadata": {
    "scrolled": true
   },
   "outputs": [],
   "source": [
    "trainer.load_data(data)\n",
    "trainer.__dict__"
   ]
  },
  {
   "cell_type": "markdown",
   "id": "ea17b297-4ae2-4a81-8fff-8942b943a843",
   "metadata": {},
   "source": [
    "# preprocessing"
   ]
  },
  {
   "cell_type": "code",
   "execution_count": null,
   "id": "fd578101-a596-4e58-9def-d2a4981157f9",
   "metadata": {
    "scrolled": true
   },
   "outputs": [],
   "source": [
    "dates = pd.Series(np.sort(data['date'].unique()))\n",
    "dates"
   ]
  },
  {
   "cell_type": "code",
   "execution_count": null,
   "id": "9d16a1f0-d8ab-4054-b34b-ef6a4942c858",
   "metadata": {},
   "outputs": [],
   "source": [
    "development_dates = dates[:1]#[:len(dates)//4]\n",
    "test_dates = dates[1:2]#[~dates.isin(development_dates)]"
   ]
  },
  {
   "cell_type": "code",
   "execution_count": null,
   "id": "c5939a4b-67d3-4fc9-a008-873df297869f",
   "metadata": {
    "scrolled": true
   },
   "outputs": [],
   "source": [
    "trainer.__dict__"
   ]
  },
  {
   "cell_type": "code",
   "execution_count": null,
   "id": "cb640d1b-c20e-467c-9acb-b77fbae270e9",
   "metadata": {},
   "outputs": [],
   "source": [
    "trainer.preprocess_data(development_dates,test_dates)"
   ]
  },
  {
   "cell_type": "markdown",
   "id": "c7052011-8582-4eb0-b290-20ee59e53b0f",
   "metadata": {},
   "source": [
    "# training"
   ]
  },
  {
   "cell_type": "code",
   "execution_count": null,
   "id": "fd36430b-9406-4a75-9ca3-63653fc52cc3",
   "metadata": {},
   "outputs": [],
   "source": [
    "trainer.run_dnn()\n",
    "trainer.model_fit"
   ]
  },
  {
   "cell_type": "code",
   "execution_count": null,
   "id": "57ec44a1-d6a1-4edc-932e-ac0ffa206c8c",
   "metadata": {
    "scrolled": true
   },
   "outputs": [],
   "source": [
    "trainer.__dict__"
   ]
  },
  {
   "cell_type": "code",
   "execution_count": null,
   "id": "c138781a-757b-46fb-9608-23c1400fbc8a",
   "metadata": {},
   "outputs": [],
   "source": [
    "trainer.model_fit"
   ]
  },
  {
   "cell_type": "markdown",
   "id": "adb7f936-ce4a-401e-addb-276b0d297551",
   "metadata": {},
   "source": [
    "### initial test"
   ]
  },
  {
   "cell_type": "code",
   "execution_count": null,
   "id": "93d332cf-355a-46db-976b-bef54d021abc",
   "metadata": {},
   "outputs": [],
   "source": [
    "train_test = trainer.test_prediction_accuracy()"
   ]
  },
  {
   "cell_type": "markdown",
   "id": "0d3d455a-0c63-4d2d-8ee6-0c26f2a11163",
   "metadata": {},
   "source": [
    "# saving"
   ]
  },
  {
   "cell_type": "code",
   "execution_count": null,
   "id": "af25cd08-41b6-4ade-aa2c-487f41e03811",
   "metadata": {},
   "outputs": [],
   "source": [
    "train_end = time.time()\n",
    "train_end_tag = str(datetime.fromtimestamp(\n",
    "    train_end).strftime(\"%Y_%m_%d %H%M%S%f\"))\n",
    "file_tag = str(train_end_tag + \" \" + filetag)\n",
    "files_dir = os.path.join(models_dir,file_tag)\n",
    "\n",
    "def save_model():\n",
    "    if Path(files_dir).exists():\n",
    "        pass\n",
    "    else:\n",
    "        os.mkdir(files_dir)\n",
    "    file_dir = os.path.join(files_dir,file_tag)\n",
    "    joblib.dump(trainer.__dict__,str(f\"{file_dir}.pkl\"))\n",
    "    pd.set_option(\"display.max_columns\",None)\n",
    "    print(f\"model saved to {file_dir}\")\n",
    "\n",
    "print(f\"execute the command 'save_model()' to save the following model: {file_tag}\")\n",
    "train_runtime = train_end-train_start\n",
    "print(f\"\\ncpu: {train_runtime}\")"
   ]
  }
 ],
 "metadata": {
  "kernelspec": {
   "display_name": "Python 3 (ipykernel)",
   "language": "python",
   "name": "python3"
  },
  "language_info": {
   "codemirror_mode": {
    "name": "ipython",
    "version": 3
   },
   "file_extension": ".py",
   "mimetype": "text/x-python",
   "name": "python",
   "nbconvert_exporter": "python",
   "pygments_lexer": "ipython3",
   "version": "3.12.7"
  }
 },
 "nbformat": 4,
 "nbformat_minor": 5
}
