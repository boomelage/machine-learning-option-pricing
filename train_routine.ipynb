{
 "cells": [
  {
   "cell_type": "code",
   "execution_count": 1,
   "id": "756bdd82-6c20-4e3d-999a-7bd7497bfe98",
   "metadata": {},
   "outputs": [
    {
     "name": "stdout",
     "output_type": "stream",
     "text": [
      "\n",
      "##################\n",
      "# training start #\n",
      "##################\n",
      "\n",
      "Mon Oct 28 23:51:27 2024\n",
      "\n"
     ]
    }
   ],
   "source": [
    "import os\n",
    "import sys\n",
    "import time\n",
    "import joblib\n",
    "import numpy as np\n",
    "import pandas as pd\n",
    "import matplotlib.pyplot as plt\n",
    "from tqdm import tqdm\n",
    "from pathlib import Path\n",
    "from datetime import datetime\n",
    "from model_settings import ms\n",
    "os.chdir(os.path.abspath(str(Path())))\n",
    "pd.set_option(\"display.max_columns\",None)\n",
    "pd.options.display.float_format = '{:.5f}'.format\n",
    "notebook_dir = str(Path().resolve())\n",
    "sys.path.append(os.path.join(notebook_dir,'historical_data','historical_generation'))\n",
    "train_start = time.time()\n",
    "train_start_datetime = datetime.fromtimestamp(train_start)\n",
    "train_start_tag = train_start_datetime.strftime('%c')\n",
    "print(\"\\n\"+\"#\"*18+\"\\n# training start #\\n\"+\n",
    "      \"#\"*18+\"\\n\"+f\"\\n{train_start_tag}\\n\")"
   ]
  },
  {
   "cell_type": "markdown",
   "id": "108afe68-dd3e-4537-8406-cb618ca7c4a2",
   "metadata": {},
   "source": [
    "# loading data"
   ]
  },
  {
   "cell_type": "code",
   "execution_count": 2,
   "id": "f9c5e82f-7486-4c6b-aac9-237735ffe2df",
   "metadata": {},
   "outputs": [
    {
     "name": "stderr",
     "output_type": "stream",
     "text": [
      "100%|█████████████████████████████████████████████████████████████████████████████| 1511/1511 [00:11<00:00, 133.60it/s]\n"
     ]
    }
   ],
   "source": [
    "root = Path().resolve().parent.parent\n",
    "datadir = os.path.join(root,ms.bloomberg_spx_barriers['dump'])\n",
    "files = [f for f in os.listdir(datadir) if f.endswith('.csv')]\n",
    "files = [os.path.join(datadir,f) for f in files]\n",
    "dfs = []\n",
    "bar = tqdm(total=len(files)+1)\n",
    "for f in files:\n",
    "    dfs.append(pd.read_csv(f).iloc[:,1:])\n",
    "    bar.update(1)\n",
    "dataset = pd.concat(dfs,ignore_index=True).dropna().reset_index(drop=True)\n",
    "bar.update(1)\n",
    "bar.close()"
   ]
  },
  {
   "cell_type": "code",
   "execution_count": 3,
   "id": "8e489495-1b34-4f16-b034-35c6e8b8acf9",
   "metadata": {},
   "outputs": [
    {
     "name": "stdout",
     "output_type": "stream",
     "text": [
      "\n",
      "initializing vanilla pricer\n",
      "Actual/365 (Fixed) day counter\n",
      "seed: 123\n",
      "\n"
     ]
    }
   ],
   "source": [
    "from quantlib_pricers import vanilla_pricer\n",
    "vanillas = vanilla_pricer()\n",
    "dataset['calculation_date'] = pd.to_datetime(dataset['calculation_date'],format='%Y-%m-%d')"
   ]
  },
  {
   "cell_type": "markdown",
   "id": "af6ec9da-e852-4e93-8ea9-40d63d505a37",
   "metadata": {},
   "source": [
    "# model specification"
   ]
  },
  {
   "cell_type": "code",
   "execution_count": 4,
   "id": "a1a5c203-64ea-4595-a22e-fd44fb86a163",
   "metadata": {},
   "outputs": [],
   "source": [
    "from convsklearn import barrier_trainer\n",
    "price = 'barrier_price' \n",
    "filetag = 'intraday barrier options'\n",
    "trainer = barrier_trainer"
   ]
  },
  {
   "cell_type": "markdown",
   "id": "e82e52a7-7dbb-464d-a638-54108c2eb45b",
   "metadata": {},
   "source": [
    "# preprocessing"
   ]
  },
  {
   "cell_type": "code",
   "execution_count": 5,
   "id": "e6206662-c9d3-4b83-a0fb-c12717bee58a",
   "metadata": {},
   "outputs": [
    {
     "data": {
      "text/html": [
       "<div>\n",
       "<style scoped>\n",
       "    .dataframe tbody tr th:only-of-type {\n",
       "        vertical-align: middle;\n",
       "    }\n",
       "\n",
       "    .dataframe tbody tr th {\n",
       "        vertical-align: top;\n",
       "    }\n",
       "\n",
       "    .dataframe thead th {\n",
       "        text-align: right;\n",
       "    }\n",
       "</style>\n",
       "<table border=\"1\" class=\"dataframe\">\n",
       "  <thead>\n",
       "    <tr style=\"text-align: right;\">\n",
       "      <th></th>\n",
       "      <th>spot_price</th>\n",
       "      <th>strike_price</th>\n",
       "      <th>barrier</th>\n",
       "      <th>days_to_maturity</th>\n",
       "      <th>rebate</th>\n",
       "      <th>dividend_rate</th>\n",
       "      <th>risk_free_rate</th>\n",
       "      <th>theta</th>\n",
       "      <th>kappa</th>\n",
       "      <th>rho</th>\n",
       "      <th>eta</th>\n",
       "      <th>v0</th>\n",
       "      <th>calculation_date</th>\n",
       "      <th>barrier_price</th>\n",
       "      <th>observed_price</th>\n",
       "    </tr>\n",
       "  </thead>\n",
       "  <tbody>\n",
       "    <tr>\n",
       "      <th>count</th>\n",
       "      <td>3226680.00000</td>\n",
       "      <td>3226680.00000</td>\n",
       "      <td>3226680.00000</td>\n",
       "      <td>3226680.00000</td>\n",
       "      <td>3226680.00000</td>\n",
       "      <td>3226680.00000</td>\n",
       "      <td>3226680.00000</td>\n",
       "      <td>3226680.00000</td>\n",
       "      <td>3226680.00000</td>\n",
       "      <td>3226680.00000</td>\n",
       "      <td>3226680.00000</td>\n",
       "      <td>3226680.00000</td>\n",
       "      <td>3226680</td>\n",
       "      <td>3226680.00000</td>\n",
       "      <td>3226680.00000</td>\n",
       "    </tr>\n",
       "    <tr>\n",
       "      <th>mean</th>\n",
       "      <td>1241.58404</td>\n",
       "      <td>1241.58404</td>\n",
       "      <td>1241.58404</td>\n",
       "      <td>323.34765</td>\n",
       "      <td>0.00000</td>\n",
       "      <td>0.02194</td>\n",
       "      <td>0.04000</td>\n",
       "      <td>0.06826</td>\n",
       "      <td>3.01194</td>\n",
       "      <td>-0.89051</td>\n",
       "      <td>0.21430</td>\n",
       "      <td>0.05174</td>\n",
       "      <td>2010-01-04 11:51:24.279818496</td>\n",
       "      <td>48.96650</td>\n",
       "      <td>48.96721</td>\n",
       "    </tr>\n",
       "    <tr>\n",
       "      <th>min</th>\n",
       "      <td>676.03000</td>\n",
       "      <td>608.42700</td>\n",
       "      <td>338.01500</td>\n",
       "      <td>60.00000</td>\n",
       "      <td>0.00000</td>\n",
       "      <td>0.01780</td>\n",
       "      <td>0.04000</td>\n",
       "      <td>0.01992</td>\n",
       "      <td>0.03970</td>\n",
       "      <td>-1.00000</td>\n",
       "      <td>0.08818</td>\n",
       "      <td>0.00524</td>\n",
       "      <td>2007-01-03 00:00:00</td>\n",
       "      <td>0.00000</td>\n",
       "      <td>0.00000</td>\n",
       "    </tr>\n",
       "    <tr>\n",
       "      <th>25%</th>\n",
       "      <td>1108.72000</td>\n",
       "      <td>1102.88675</td>\n",
       "      <td>889.14787</td>\n",
       "      <td>90.00000</td>\n",
       "      <td>0.00000</td>\n",
       "      <td>0.01963</td>\n",
       "      <td>0.04000</td>\n",
       "      <td>0.05171</td>\n",
       "      <td>1.54387</td>\n",
       "      <td>-1.00000</td>\n",
       "      <td>0.15604</td>\n",
       "      <td>0.01891</td>\n",
       "      <td>2008-06-26 00:00:00</td>\n",
       "      <td>1.10267</td>\n",
       "      <td>1.10292</td>\n",
       "    </tr>\n",
       "    <tr>\n",
       "      <th>50%</th>\n",
       "      <td>1284.21000</td>\n",
       "      <td>1264.23375</td>\n",
       "      <td>1221.79568</td>\n",
       "      <td>180.00000</td>\n",
       "      <td>0.00000</td>\n",
       "      <td>0.02142</td>\n",
       "      <td>0.04000</td>\n",
       "      <td>0.06148</td>\n",
       "      <td>2.30859</td>\n",
       "      <td>-0.99998</td>\n",
       "      <td>0.18637</td>\n",
       "      <td>0.03175</td>\n",
       "      <td>2010-01-12 00:00:00</td>\n",
       "      <td>25.38862</td>\n",
       "      <td>25.39002</td>\n",
       "    </tr>\n",
       "    <tr>\n",
       "      <th>75%</th>\n",
       "      <td>1397.95000</td>\n",
       "      <td>1397.95000</td>\n",
       "      <td>1545.73500</td>\n",
       "      <td>540.00000</td>\n",
       "      <td>0.00000</td>\n",
       "      <td>0.02264</td>\n",
       "      <td>0.04000</td>\n",
       "      <td>0.07378</td>\n",
       "      <td>4.07581</td>\n",
       "      <td>-0.82945</td>\n",
       "      <td>0.22585</td>\n",
       "      <td>0.05573</td>\n",
       "      <td>2011-07-07 00:00:00</td>\n",
       "      <td>85.79311</td>\n",
       "      <td>85.79288</td>\n",
       "    </tr>\n",
       "    <tr>\n",
       "      <th>max</th>\n",
       "      <td>1565.18000</td>\n",
       "      <td>1721.69800</td>\n",
       "      <td>2347.77000</td>\n",
       "      <td>720.00000</td>\n",
       "      <td>0.00000</td>\n",
       "      <td>0.03773</td>\n",
       "      <td>0.04000</td>\n",
       "      <td>0.40505</td>\n",
       "      <td>15.99144</td>\n",
       "      <td>-0.18176</td>\n",
       "      <td>1.52882</td>\n",
       "      <td>0.69402</td>\n",
       "      <td>2012-12-31 00:00:00</td>\n",
       "      <td>293.09806</td>\n",
       "      <td>293.13285</td>\n",
       "    </tr>\n",
       "    <tr>\n",
       "      <th>std</th>\n",
       "      <td>195.40461</td>\n",
       "      <td>211.57766</td>\n",
       "      <td>433.95284</td>\n",
       "      <td>241.31868</td>\n",
       "      <td>0.00000</td>\n",
       "      <td>0.00347</td>\n",
       "      <td>0.00000</td>\n",
       "      <td>0.03476</td>\n",
       "      <td>2.16348</td>\n",
       "      <td>0.17935</td>\n",
       "      <td>0.13010</td>\n",
       "      <td>0.06115</td>\n",
       "      <td>NaN</td>\n",
       "      <td>55.18902</td>\n",
       "      <td>55.18839</td>\n",
       "    </tr>\n",
       "  </tbody>\n",
       "</table>\n",
       "</div>"
      ],
      "text/plain": [
       "         spot_price  strike_price       barrier  days_to_maturity  \\\n",
       "count 3226680.00000 3226680.00000 3226680.00000     3226680.00000   \n",
       "mean     1241.58404    1241.58404    1241.58404         323.34765   \n",
       "min       676.03000     608.42700     338.01500          60.00000   \n",
       "25%      1108.72000    1102.88675     889.14787          90.00000   \n",
       "50%      1284.21000    1264.23375    1221.79568         180.00000   \n",
       "75%      1397.95000    1397.95000    1545.73500         540.00000   \n",
       "max      1565.18000    1721.69800    2347.77000         720.00000   \n",
       "std       195.40461     211.57766     433.95284         241.31868   \n",
       "\n",
       "             rebate  dividend_rate  risk_free_rate         theta  \\\n",
       "count 3226680.00000  3226680.00000   3226680.00000 3226680.00000   \n",
       "mean        0.00000        0.02194         0.04000       0.06826   \n",
       "min         0.00000        0.01780         0.04000       0.01992   \n",
       "25%         0.00000        0.01963         0.04000       0.05171   \n",
       "50%         0.00000        0.02142         0.04000       0.06148   \n",
       "75%         0.00000        0.02264         0.04000       0.07378   \n",
       "max         0.00000        0.03773         0.04000       0.40505   \n",
       "std         0.00000        0.00347         0.00000       0.03476   \n",
       "\n",
       "              kappa           rho           eta            v0  \\\n",
       "count 3226680.00000 3226680.00000 3226680.00000 3226680.00000   \n",
       "mean        3.01194      -0.89051       0.21430       0.05174   \n",
       "min         0.03970      -1.00000       0.08818       0.00524   \n",
       "25%         1.54387      -1.00000       0.15604       0.01891   \n",
       "50%         2.30859      -0.99998       0.18637       0.03175   \n",
       "75%         4.07581      -0.82945       0.22585       0.05573   \n",
       "max        15.99144      -0.18176       1.52882       0.69402   \n",
       "std         2.16348       0.17935       0.13010       0.06115   \n",
       "\n",
       "                    calculation_date  barrier_price  observed_price  \n",
       "count                        3226680  3226680.00000   3226680.00000  \n",
       "mean   2010-01-04 11:51:24.279818496       48.96650        48.96721  \n",
       "min              2007-01-03 00:00:00        0.00000         0.00000  \n",
       "25%              2008-06-26 00:00:00        1.10267         1.10292  \n",
       "50%              2010-01-12 00:00:00       25.38862        25.39002  \n",
       "75%              2011-07-07 00:00:00       85.79311        85.79288  \n",
       "max              2012-12-31 00:00:00      293.09806       293.13285  \n",
       "std                              NaN       55.18902        55.18839  "
      ]
     },
     "execution_count": 5,
     "metadata": {},
     "output_type": "execute_result"
    }
   ],
   "source": [
    "dataset[price] = pd.to_numeric(dataset[price],errors='coerce')\n",
    "dataset['observed_price'] = np.maximum(dataset[price] + np.random.normal(scale=(0.15)**2,size=dataset.shape[0]),0)\n",
    "dataset['calculation_date'] = pd.to_datetime(dataset['calculation_date'])\n",
    "dataset = dataset.sort_values(by='calculation_date')\n",
    "dataset = dataset.dropna().reset_index(drop=True)\n",
    "unique_dates = dataset['calculation_date'].drop_duplicates().squeeze()\n",
    "dataset.describe()"
   ]
  },
  {
   "cell_type": "markdown",
   "id": "3fc232ac-17b4-4341-9c0b-bf9ab5a58ad4",
   "metadata": {},
   "source": [
    "## train/test split"
   ]
  },
  {
   "cell_type": "code",
   "execution_count": 6,
   "id": "beb9dc02-dd81-4a05-8748-aca162c18230",
   "metadata": {},
   "outputs": [
    {
     "data": {
      "text/plain": [
       "0         2007-01-03\n",
       "2160      2007-01-04\n",
       "4320      2007-01-05\n",
       "6480      2007-01-08\n",
       "8640      2007-01-09\n",
       "             ...    \n",
       "3215880   2012-12-24\n",
       "3218040   2012-12-26\n",
       "3220200   2012-12-27\n",
       "3222360   2012-12-28\n",
       "3224520   2012-12-31\n",
       "Name: calculation_date, Length: 1510, dtype: datetime64[ns]"
      ]
     },
     "execution_count": 6,
     "metadata": {},
     "output_type": "execute_result"
    }
   ],
   "source": [
    "unique_dates"
   ]
  },
  {
   "cell_type": "code",
   "execution_count": 7,
   "id": "60bb3773-1120-4322-a5c3-4368ef490e75",
   "metadata": {},
   "outputs": [],
   "source": [
    "development_dates = unique_dates[unique_dates<=pd.Timestamp(2008,9,1)]\n",
    "development_dates = unique_dates[:len(unique_dates)//3]\n",
    "test_dates = unique_dates[~unique_dates.isin(development_dates)]\n",
    "train_data = dataset[dataset['calculation_date'].isin(development_dates)]\n",
    "test_data = dataset[dataset['calculation_date'].isin(test_dates)]"
   ]
  },
  {
   "cell_type": "code",
   "execution_count": 8,
   "id": "630755b6-22a3-4b94-b305-4d67255a8eba",
   "metadata": {},
   "outputs": [
    {
     "name": "stdout",
     "output_type": "stream",
     "text": [
      "1052640 2174040\n"
     ]
    }
   ],
   "source": [
    "arrs = trainer.get_train_test_arrays(\n",
    "    train_data, test_data)\n",
    "preprocessor = trainer.preprocess()\n",
    "train_X = arrs['train_X'] \n",
    "train_y = arrs['train_y']\n",
    "test_X = arrs['test_X']\n",
    "test_y = arrs['test_y']\n",
    "print(len(train_y),len(test_y))"
   ]
  },
  {
   "cell_type": "markdown",
   "id": "ea60807a-e929-4919-bd91-12539c89689b",
   "metadata": {},
   "source": [
    "# training"
   ]
  },
  {
   "cell_type": "code",
   "execution_count": null,
   "id": "22b25bd4-4e1d-4f21-8963-ab86f780d371",
   "metadata": {
    "scrolled": true
   },
   "outputs": [
    {
     "name": "stdout",
     "output_type": "stream",
     "text": [
      "\n",
      "training...\n",
      "\n",
      "alpha: 0.01\n",
      "hidden_layer_sizes: (13, 13)\n",
      "learning_rate: adaptive\n",
      "learning_rate_init: 0.1\n",
      "solver: sgd\n",
      "early_stopping: False\n",
      "max_iter: 500\n",
      "warm_start: True\n"
     ]
    }
   ],
   "source": [
    "model_fit = trainer.run_dnn(preprocessor,train_X,train_y)\n",
    "train_end = time.time()\n",
    "train_runtime = train_end-train_start\n",
    "print(f\"\\ncpu: {train_runtime}\")"
   ]
  },
  {
   "cell_type": "markdown",
   "id": "cc6405bd-60e1-43f3-90b5-21dc0b8eb241",
   "metadata": {},
   "source": [
    "# testing"
   ]
  },
  {
   "cell_type": "code",
   "execution_count": null,
   "id": "6309a771-7200-49b7-9871-8fa9da1843d0",
   "metadata": {},
   "outputs": [],
   "source": [
    "model_fit"
   ]
  },
  {
   "cell_type": "code",
   "execution_count": null,
   "id": "e0401ccf-cc21-4867-9a9b-bf5b6a269418",
   "metadata": {},
   "outputs": [],
   "source": [
    "insample, outsample, errors = trainer.test_prediction_accuracy(\n",
    "        model_fit,\n",
    "        test_data,\n",
    "        train_data\n",
    ")\n",
    "outofsample_RMSE = errors['outofsample_RMSE']"
   ]
  },
  {
   "cell_type": "markdown",
   "id": "0d3d455a-0c63-4d2d-8ee6-0c26f2a11163",
   "metadata": {},
   "source": [
    "# saving"
   ]
  },
  {
   "cell_type": "code",
   "execution_count": null,
   "id": "1fe42f9f-e635-4240-a881-cbd3c336ef21",
   "metadata": {
    "jupyter": {
     "source_hidden": true
    }
   },
   "outputs": [],
   "source": [
    "train_end_tag = str(datetime.fromtimestamp(\n",
    "    train_end).strftime(\"%Y_%m_%d %H-%M-%S\"))\n",
    "file_tag = str(train_end_tag + \" \" + specs[0] + \" \" + filetag)\n",
    "os.chdir(os.path.join(notebook_dir,'trained_models'))\n",
    "files_dir = os.path.join(\n",
    "    notebook_dir,'trained_models','trained_models',\n",
    "    file_tag)\n",
    "\n",
    "def save_model():\n",
    "    if Path(files_dir).exists():\n",
    "        pass\n",
    "    else:\n",
    "        os.mkdir(files_dir)\n",
    "    file_dir = os.path.join(files_dir,file_tag)\n",
    "    S = np.sort(train_data['spot_price'].unique())\n",
    "    K = np.sort(train_data['strike_price'].unique())\n",
    "    T = np.sort(train_data['days_to_maturity'].unique())\n",
    "    W = np.sort(train_data['w'].unique())\n",
    "    n_calls = train_data[train_data['w']=='call'].shape[0]\n",
    "    n_puts = train_data[train_data['w']=='put'].shape[0]\n",
    "    insample.to_csv(f\"{file_dir} insample.csv\")\n",
    "    outsample.to_csv(f\"{file_dir} outsample.csv\")\n",
    "    joblib.dump(model_fit,str(f\"{file_dir}.pkl\"))\n",
    "    pd.set_option(\"display.max_columns\",None)\n",
    "    \n",
    "    with open(f'{file_dir}.txt', 'w') as file:\n",
    "        file.write(train_start_tag)\n",
    "        file.write(f\"\\nspot(s):\\n{S}\")\n",
    "        file.write(f\"\\n\\nstrikes:\\n{K}\\n\")\n",
    "        file.write(f\"\\nmaturities:\\n{T}\\n\")\n",
    "        file.write(f\"\\ntypes:\\n{W}\\n\")\n",
    "        try:\n",
    "            file.write(f\"\\n{train_data['barrier_type_name'].unique()}\")\n",
    "        except Exception:\n",
    "            pass\n",
    "        try:\n",
    "            for col in ['averaging_type','fixing_frequency','past_fixings','n_fixings']:\n",
    "                file.write(f\"\\n{col}:\")\n",
    "                file.write(f\"\\n{dataset[col].drop_duplicates().sort_values().values}\\n\")\n",
    "        except Exception:\n",
    "            pass\n",
    "        file.write(f\"\\nnumber of calls, puts:\\n{n_calls},{n_puts}\\n\")\n",
    "        file.write(f\"\\ntotal prices:\\n{train_data.shape[0]}\\n\")\n",
    "        for spec in specs:\n",
    "            file.write(f\"{spec}\\n\")\n",
    "        file.write(\"#\"*17+\"\\n# training data #\\n\"+\"#\"*17+\n",
    "              f\"\\n{train_data.describe()}\\n\")\n",
    "        file.write(\"#\"*13+\"\\n# test data #\\n\"+\"#\"*13+\n",
    "              f\"\\n{test_data.describe()}\\n\")\n",
    "        file.write(f\"\\n{dataset.dtypes}\")\n",
    "        file.write(\n",
    "            f\"\\nin sample results:\"\n",
    "            f\"\\n     RMSE: {errors['insample_RMSE']}\"\n",
    "            f\"\\n     MAE: {errors['insample_MAE']}\\n\"\n",
    "            f\"\\nout of sample results:\"\n",
    "            f\"\\n     RMSE: {errors['outofsample_RMSE']}\"\n",
    "            f\"\\n     MAE: {errors['outofsample_MAE']}\\n\"\n",
    "            )\n",
    "        file.write(\"\\nfeatures:\\n\")\n",
    "        for feature in trainer.feature_set:\n",
    "            file.write(f\"     {feature}\\n\")\n",
    "        file.write(f\"\\ntarget: {trainer.target_name}\\n\")\n",
    "        file.write(f\"\\ncpu: {train_runtime}\\n\")\n",
    "        file.write(datetime.fromtimestamp(train_end).strftime('%c'))\n",
    "        print(f\"model saved to {file_dir}\")\n",
    "\n",
    "print(f\"execute the command 'save_model()' to save the following model: {file_tag}\")"
   ]
  }
 ],
 "metadata": {
  "kernelspec": {
   "display_name": "Python 3 (ipykernel)",
   "language": "python",
   "name": "python3"
  },
  "language_info": {
   "codemirror_mode": {
    "name": "ipython",
    "version": 3
   },
   "file_extension": ".py",
   "mimetype": "text/x-python",
   "name": "python",
   "nbconvert_exporter": "python",
   "pygments_lexer": "ipython3",
   "version": "3.12.7"
  }
 },
 "nbformat": 4,
 "nbformat_minor": 5
}
