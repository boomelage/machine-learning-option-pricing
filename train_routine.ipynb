{
 "cells": [
  {
   "cell_type": "code",
   "execution_count": 1,
   "id": "756bdd82-6c20-4e3d-999a-7bd7497bfe98",
   "metadata": {},
   "outputs": [],
   "source": [
    "import os\n",
    "import sys\n",
    "import time\n",
    "import joblib\n",
    "import numpy as np\n",
    "import pandas as pd\n",
    "import matplotlib.pyplot as plt\n",
    "\n",
    "from tqdm import tqdm\n",
    "from pathlib import Path\n",
    "from datetime import datetime\n",
    "\n",
    "from model_settings import ms\n",
    "from feature_collector import collect_features\n",
    "\n",
    "os.chdir(os.path.abspath(str(Path())))\n",
    "pd.set_option(\"display.max_columns\",None)\n",
    "pd.options.display.float_format = '{:.5f}'.format\n",
    "notebook_dir = str(Path().resolve())\n",
    "root = Path().resolve().parent.parent\n",
    "models_dir = os.path.join(root,ms.trained_models)"
   ]
  },
  {
   "cell_type": "markdown",
   "id": "53d438f8-c781-406c-9e99-f8b1999f7b17",
   "metadata": {},
   "source": [
    "# initializing"
   ]
  },
  {
   "cell_type": "code",
   "execution_count": 2,
   "id": "fd578101-a596-4e58-9def-d2a4981157f9",
   "metadata": {},
   "outputs": [
    {
     "name": "stderr",
     "output_type": "stream",
     "text": [
      "100%|██████████████████████████████████████████████████████████████████████████████████████████████████████████████████████████████████████████████████████████████████████████████████████████████████████████████| 7/7 [00:00<00:00, 670.17it/s]"
     ]
    },
    {
     "name": "stdout",
     "output_type": "stream",
     "text": [
      "\n",
      "##################\n",
      "# training start #\n",
      "##################\n",
      "\n",
      "Thu Oct 31 19:27:37 2024\n",
      "\n"
     ]
    },
    {
     "name": "stderr",
     "output_type": "stream",
     "text": [
      "\n"
     ]
    }
   ],
   "source": [
    "from convsklearn import barrier_trainer, asian_trainer\n",
    "price_name = 'asian' \n",
    "filetag = 'asian options'\n",
    "trainer = asian_trainer\n",
    "datadir = os.path.join(root,ms.cboe_spx_asians['dump'])\n",
    "\n",
    "dataset = collect_features(datadir,price_name)\n",
    "\n",
    "\n",
    "train_start = time.time()\n",
    "train_start_datetime = datetime.fromtimestamp(train_start)\n",
    "train_start_tag = train_start_datetime.strftime('%c')\n",
    "print(\"\\n\"+\"#\"*18+\"\\n# training start #\\n\"+\n",
    "      \"#\"*18+\"\\n\"+f\"\\n{train_start_tag}\\n\")"
   ]
  },
  {
   "cell_type": "markdown",
   "id": "e82e52a7-7dbb-464d-a638-54108c2eb45b",
   "metadata": {},
   "source": [
    "# preprocessing"
   ]
  },
  {
   "cell_type": "markdown",
   "id": "3fc232ac-17b4-4341-9c0b-bf9ab5a58ad4",
   "metadata": {},
   "source": [
    "## train/test split"
   ]
  },
  {
   "cell_type": "code",
   "execution_count": 3,
   "id": "60bb3773-1120-4322-a5c3-4368ef490e75",
   "metadata": {},
   "outputs": [
    {
     "data": {
      "image/png": "[encoded data removed]",
      "text/plain": [
       "<Figure size 640x480 with 1 Axes>"
      ]
     },
     "metadata": {},
     "output_type": "display_data"
    },
    {
     "name": "stdout",
     "output_type": "stream",
     "text": [
      "1482 754\n"
     ]
    }
   ],
   "source": [
    "dates = pd.Series(np.sort(dataset['calculation_date'].unique()))\n",
    "development_dates = dates[:len(dates)*3//4]\n",
    "test_dates = dates[~dates.isin(development_dates)]\n",
    "train_data = dataset[dataset['calculation_date'].isin(development_dates)]\n",
    "test_data = dataset[dataset['calculation_date'].isin(test_dates)]\n",
    "\n",
    "train_plot = train_data[['calculation_date','spot_price']].copy().set_index('calculation_date').drop_duplicates()\n",
    "test_plot = test_data[['calculation_date','spot_price']].copy().set_index('calculation_date').drop_duplicates()\n",
    "plt.figure()\n",
    "plt.xticks(rotation=45)\n",
    "plt.plot(test_plot,color='purple',label='out-of-sample')\n",
    "plt.plot(train_plot,color='green',label='in-sample')\n",
    "plt.legend()\n",
    "plt.show()\n",
    "arrs = trainer.get_train_test_arrays(\n",
    "    train_data, test_data)\n",
    "train_X = arrs['train_X']\n",
    "train_y = arrs['train_y']\n",
    "test_X = arrs['test_X']\n",
    "test_y = arrs['test_y']\n",
    "preprocessor = trainer.preprocess()\n",
    "print(len(train_y),len(test_X))"
   ]
  },
  {
   "cell_type": "code",
   "execution_count": 4,
   "id": "fd36430b-9406-4a75-9ca3-63653fc52cc3",
   "metadata": {},
   "outputs": [
    {
     "name": "stdout",
     "output_type": "stream",
     "text": [
      "\n",
      "training...\n",
      "\n",
      "alpha: 0.01\n",
      "hidden_layer_sizes: (15, 15)\n",
      "learning_rate: adaptive\n",
      "learning_rate_init: 0.1\n",
      "solver: sgd\n",
      "early_stopping: False\n",
      "max_iter: 500\n",
      "warm_start: True\n",
      "tol: 0.0001\n",
      "cpu: 0.09462714195251465\n",
      "\n",
      "in sample:\n",
      "     RMSE: 34.34669382925834\n",
      "     MAE: 24.364449785185716\n",
      "\n",
      "out of sample:\n",
      "     RMSE: 689.0398096310577\n",
      "     MAE: 568.6938707847053\n"
     ]
    }
   ],
   "source": [
    "model_fit = trainer.run_dnn(preprocessor,train_X,train_y)\n",
    "train_test = trainer.test_prediction_accuracy(train_data,test_data,model_fit)\n",
    "train_data = train_test['train_data']\n",
    "test_data = train_test['test_data']"
   ]
  },
  {
   "cell_type": "markdown",
   "id": "0d3d455a-0c63-4d2d-8ee6-0c26f2a11163",
   "metadata": {},
   "source": [
    "# saving"
   ]
  },
  {
   "cell_type": "code",
   "execution_count": 5,
   "id": "1fe42f9f-e635-4240-a881-cbd3c336ef21",
   "metadata": {},
   "outputs": [
    {
     "name": "stdout",
     "output_type": "stream",
     "text": [
      "execute the command 'save_model()' to save the following model: 2024_10_31 192737724177 asian options\n",
      "\n",
      "cpu: 0.16296601295471191\n"
     ]
    }
   ],
   "source": [
    "train_end = time.time()\n",
    "train_end_tag = str(datetime.fromtimestamp(\n",
    "    train_end).strftime(\"%Y_%m_%d %H%M%S%f\"))\n",
    "file_tag = str(train_end_tag + \" \" + filetag)\n",
    "files_dir = os.path.join(models_dir,file_tag)\n",
    "\n",
    "def save_model():\n",
    "    if Path(files_dir).exists():\n",
    "        pass\n",
    "    else:\n",
    "        os.mkdir(files_dir)\n",
    "    file_dir = os.path.join(files_dir,file_tag)\n",
    "    S = np.sort(train_data['spot_price'].unique())\n",
    "    K = np.sort(train_data['strike_price'].unique())\n",
    "    T = np.sort(train_data['days_to_maturity'].unique())\n",
    "    W = np.sort(train_data['w'].unique())\n",
    "    n_calls = train_data[train_data['w']=='call'].shape[0]\n",
    "    n_puts = train_data[train_data['w']=='put'].shape[0]\n",
    "    insample.to_csv(f\"{file_dir} insample.csv\")\n",
    "    outsample.to_csv(f\"{file_dir} outsample.csv\")\n",
    "    joblib.dump(model_fit,str(f\"{file_dir}.pkl\"))\n",
    "    pd.set_option(\"display.max_columns\",None)\n",
    "    \n",
    "    with open(f'{file_dir}.txt', 'w') as file:\n",
    "        file.write(train_start_tag)\n",
    "        file.write(f\"\\nspot(s):\\n{S}\")\n",
    "        file.write(f\"\\n\\nstrikes:\\n{K}\\n\")\n",
    "        file.write(f\"\\nmaturities:\\n{T}\\n\")\n",
    "        file.write(f\"\\ntypes:\\n{W}\\n\")\n",
    "        try:\n",
    "            file.write(f\"\\n{train_data['barrier_type_name'].unique()}\")\n",
    "        except Exception:\n",
    "            pass\n",
    "        try:\n",
    "            for col in ['averaging_type','fixing_frequency','past_fixings','n_fixings']:\n",
    "                file.write(f\"\\n{col}:\")\n",
    "                file.write(f\"\\n{dataset[col].drop_duplicates().sort_values().values}\\n\")\n",
    "        except Exception:\n",
    "            pass\n",
    "        file.write(f\"\\nnumber of calls, puts:\\n{n_calls},{n_puts}\\n\")\n",
    "        file.write(f\"\\ntotal prices:\\n{train_data.shape[0]}\\n\")\n",
    "\n",
    "        file.write(\"#\"*17+\"\\n# training data #\\n\"+\"#\"*17+\n",
    "              f\"\\n{train_data.describe()}\\n\")\n",
    "        file.write(\"#\"*13+\"\\n# test data #\\n\"+\"#\"*13+\n",
    "              f\"\\n\\n{test_data.describe()}\\n\")\n",
    "        file.write(f\"\\n{dataset.dtypes}\")\n",
    "        file.write(\n",
    "            f\"\\nin sample results:\"\n",
    "            f\"\\n     RMSE: {errors['insample_RMSE']}\"\n",
    "            f\"\\n     MAE: {errors['insample_MAE']}\\n\"\n",
    "            f\"\\nout of sample results:\"\n",
    "            f\"\\n     RMSE: {errors['outofsample_RMSE']}\"\n",
    "            f\"\\n     MAE: {errors['outofsample_MAE']}\\n\"\n",
    "            )\n",
    "        file.write(\"\\nfeatures:\\n\")\n",
    "        for feature in trainer.feature_set:\n",
    "            file.write(f\"     {feature}\\n\")\n",
    "        file.write(f\"\\ntarget: {trainer.target_name}\\n\")\n",
    "        file.write(f\"\\ncpu: {train_runtime}\\n\")\n",
    "        file.write(datetime.fromtimestamp(train_end).strftime('%c'))\n",
    "        print(f\"model saved to {file_dir}\")\n",
    "\n",
    "print(f\"execute the command 'save_model()' to save the following model: {file_tag}\")\n",
    "train_runtime = train_end-train_start\n",
    "print(f\"\\ncpu: {train_runtime}\")"
   ]
  }
 ],
 "metadata": {
  "kernelspec": {
   "display_name": "Python 3 (ipykernel)",
   "language": "python",
   "name": "python3"
  },
  "language_info": {
   "codemirror_mode": {
    "name": "ipython",
    "version": 3
   },
   "file_extension": ".py",
   "mimetype": "text/x-python",
   "name": "python",
   "nbconvert_exporter": "python",
   "pygments_lexer": "ipython3",
   "version": "3.12.7"
  }
 },
 "nbformat": 4,
 "nbformat_minor": 5
}
