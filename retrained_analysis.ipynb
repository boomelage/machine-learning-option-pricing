{
 "cells": [
  {
   "cell_type": "code",
   "execution_count": 1,
   "id": "f6048ff2-6143-40d1-8fbb-5d45851f868b",
   "metadata": {},
   "outputs": [],
   "source": [
    "import os\n",
    "import joblib\n",
    "import pandas as pd\n",
    "import numpy as np\n",
    "import matplotlib.pyplot as plt\n",
    "\n",
    "from pathlib import Path\n",
    "from model_settings import ms\n",
    "from plotters import PlotCols\n",
    "\n",
    "ms.find_root(Path())\n",
    "\n",
    "\n",
    "pd.set_option('display.max_columns',None)\n",
    "\n",
    "def HistCols(df,columns=None,sharex=True):\n",
    "    if columns == None:\n",
    "        columns = df.columns.tolist()\n",
    "        sharex = False\n",
    "\n",
    "    fig,axs=plt.subplots(len(columns),sharex=sharex,figsize=(10,20))\n",
    "    for i,col in enumerate(columns):\n",
    "        axs[i].hist(df[col],label=col.replace('_',' '),color='purple',bins=int(np.sqrt(df.shape[0])))\n",
    "        axs[i].legend()\n",
    "\n",
    "def test_model(df,pricename):\n",
    "    df = df.copy()\n",
    "    df['target_price'] = df[pricename]\n",
    "    df['observed_price'] = df['relative_observed']*df['strike_price']\n",
    "    df['pricing_error'] = df['observed_price']-df[pricename]\n",
    "    df['relative_error'] = df['pricing_error']/df[pricename]\n",
    "    df['squared_error'] = df['pricing_error']**2\n",
    "    df['absolute_error'] = np.abs(df['pricing_error'])\n",
    "    df['absolute_relative'] = np.abs(df['relative_error'])\n",
    "    desc = df.describe()\n",
    "    MAE = desc.loc['mean','absolute_error']\n",
    "    RMSE = np.sqrt(desc.loc['mean','squared_error'])\n",
    "    MARE = desc.loc['mean','absolute_relative']\n",
    "    print(f\"MAE:\\n   {round(MAE,4)}\\nRMSE:\\n   {round(RMSE,4)}\\nMARE:\\n   {round(100*MARE,4)}%\")\n",
    "    return df.iloc[:,-7:]"
   ]
  },
  {
   "cell_type": "code",
   "execution_count": 4,
   "id": "f3d8ada8-64a6-41f6-801a-fbf7ecbaef34",
   "metadata": {},
   "outputs": [],
   "source": [
    "models_dir = os.path.join(ms.root,ms.MacDirEx,Path(ms.trained_models).parent)"
   ]
  },
  {
   "cell_type": "code",
   "execution_count": 5,
   "id": "fd349284-8859-43a9-bbf8-6407ffd6342d",
   "metadata": {},
   "outputs": [
    {
     "data": {
      "text/plain": [
       "['2024-11-09 124248013907 retrained_relative_asian_options.pkl',\n",
       " '2024-11-09 223743847698 retrained_relative_barrier_options.pkl']"
      ]
     },
     "execution_count": 5,
     "metadata": {},
     "output_type": "execute_result"
    }
   ],
   "source": [
    "models = [f for f in os.listdir(models_dir) if f.endswith('.pkl')]\n",
    "models"
   ]
  },
  {
   "cell_type": "code",
   "execution_count": 6,
   "id": "1205353e-6fa5-4e69-a114-65371c9edac2",
   "metadata": {},
   "outputs": [
    {
     "data": {
      "text/plain": [
       "dict_keys(['errors', 'models'])"
      ]
     },
     "execution_count": 6,
     "metadata": {},
     "output_type": "execute_result"
    }
   ],
   "source": [
    "model = joblib.load(os.path.join(models_dir,models[0]))\n",
    "model.keys()"
   ]
  },
  {
   "cell_type": "code",
   "execution_count": 7,
   "id": "ecd09785-ff39-4aae-a08f-16860c58f64d",
   "metadata": {},
   "outputs": [],
   "source": [
    "errors = model['errors']\n",
    "models = model['models']"
   ]
  },
  {
   "cell_type": "code",
   "execution_count": null,
   "id": "443db8d0-921d-4616-b494-ad08403c1ca4",
   "metadata": {},
   "outputs": [],
   "source": [
    "PlotCols(errors,figsize=(5,5))"
   ]
  },
  {
   "cell_type": "code",
   "execution_count": null,
   "id": "6089c0d4-ad55-4ec0-a760-67af87fbf249",
   "metadata": {},
   "outputs": [],
   "source": [
    "dates = pd.Series([d for d in models.keys()])\n",
    "dates.describe()[['min','max']]"
   ]
  },
  {
   "cell_type": "code",
   "execution_count": null,
   "id": "f9e66bc0-df54-4135-98ae-0ffbe1365410",
   "metadata": {
    "scrolled": true
   },
   "outputs": [],
   "source": [
    "model = models[dates.iloc[-1]]\n",
    "data = model['test_data']\n",
    "pricename = [n for n in data.columns if n.find('barrier_price')!=-1 or n.find('asian_price')!=-1][0]"
   ]
  },
  {
   "cell_type": "code",
   "execution_count": null,
   "id": "7b512a7b-e9ed-4b10-9d36-bca23c121064",
   "metadata": {},
   "outputs": [],
   "source": [
    "df = test_model(data,pricename)\n",
    "df.columns"
   ]
  },
  {
   "cell_type": "code",
   "execution_count": null,
   "id": "f0bc9683-1257-4f01-858c-703861774068",
   "metadata": {},
   "outputs": [],
   "source": [
    "HistCols(df,sharex=False)"
   ]
  },
  {
   "cell_type": "code",
   "execution_count": null,
   "id": "ddf09fd4-3571-4ca6-a10f-f51609d985fc",
   "metadata": {},
   "outputs": [],
   "source": [
    "estimation = df['observed_price']\n",
    "target = df['target_price']\n",
    "relative = df['relative_error']"
   ]
  },
  {
   "cell_type": "code",
   "execution_count": null,
   "id": "7559605d-468d-4e97-9520-5040761ed135",
   "metadata": {},
   "outputs": [],
   "source": [
    "for k in model.keys():\n",
    "    print(k)"
   ]
  },
  {
   "cell_type": "code",
   "execution_count": null,
   "id": "da12cc6e-ea06-4084-af0d-332f0f00c8ca",
   "metadata": {},
   "outputs": [],
   "source": [
    "trained = model['model']\n",
    "trained"
   ]
  },
  {
   "cell_type": "code",
   "execution_count": null,
   "id": "3d2ab0e5-184e-4804-9db7-03544ba82fa3",
   "metadata": {},
   "outputs": [],
   "source": [
    "import quantlib_pricers as qlp"
   ]
  },
  {
   "cell_type": "code",
   "execution_count": null,
   "id": "5b69add4-5f52-4d42-832e-13a5a3fd8c33",
   "metadata": {},
   "outputs": [],
   "source": [
    "params = model['test_data'][['calculation_date','kappa','theta','eta','rho','v0']].copy().set_index('calculation_date').drop_duplicates(keep='last')\n",
    "params"
   ]
  },
  {
   "cell_type": "code",
   "execution_count": null,
   "id": "bf216729-652b-4419-a7e5-bee6ea311da9",
   "metadata": {},
   "outputs": [],
   "source": [
    "import pandas as pd\n",
    "import numpy as np\n",
    "from itertools import product\n",
    "\n",
    "s = [100]\n",
    "K = [80,100,120]\n",
    "T = [30,60,90]\n",
    "\n",
    "features_dict = {\n",
    "    'spot_price':s,\n",
    "    'strike_price':K,\n",
    "    'days_to_maturity':T,\n",
    "    'risk_free_rate':[0.04],\n",
    "    'dividend_rate':[0.00],\n",
    "    'w':['call','put'],\n",
    "    'barrier_type_name':['DownOut'],\n",
    "    'rebate':[0],\n",
    "    'barrier':[50,100,150],\n",
    "}\n",
    "\n",
    "def CartesianProduct(features_dict):\n",
    "    return pd.DataFrame(product(*features_dict.values()),columns=features_dict.keys())"
   ]
  },
  {
   "cell_type": "code",
   "execution_count": null,
   "id": "e5f69b24-68b2-42df-aeda-5f2de4276c55",
   "metadata": {},
   "outputs": [],
   "source": [
    "params.iloc[0].values"
   ]
  },
  {
   "cell_type": "code",
   "execution_count": null,
   "id": "a0a13c51-76d1-4e6a-b95f-8119a695bd73",
   "metadata": {},
   "outputs": [],
   "source": [
    "features = CartesianProduct(features_dict)\n",
    "features[['kappa','theta','eta','rho','v0']] = np.tile(params.iloc[0].values,(features.shape[0],1))\n",
    "features['vanilla'] = qlp.vanillas.df_heston_price(features)\n",
    "features['barrier_price'] = qlp.barriers.df_barrier_price(features)\n",
    "features"
   ]
  },
  {
   "cell_type": "code",
   "execution_count": null,
   "id": "a084437f-a83d-4ffc-8b29-2b96388ce943",
   "metadata": {},
   "outputs": [],
   "source": []
  },
  {
   "cell_type": "code",
   "execution_count": null,
   "id": "3a51e392-a204-4098-b612-bd0c859e6536",
   "metadata": {},
   "outputs": [],
   "source": []
  },
  {
   "cell_type": "code",
   "execution_count": null,
   "id": "483ddc2b-0b73-449d-ba8f-437ccffae7c7",
   "metadata": {},
   "outputs": [],
   "source": []
  },
  {
   "cell_type": "code",
   "execution_count": null,
   "id": "adc990f5-1bb3-4b71-a8ea-4dcdadc7b8c8",
   "metadata": {},
   "outputs": [],
   "source": []
  },
  {
   "cell_type": "code",
   "execution_count": null,
   "id": "d5636af4-b110-4d68-8aec-b0f2399b1ffc",
   "metadata": {},
   "outputs": [],
   "source": []
  },
  {
   "cell_type": "code",
   "execution_count": null,
   "id": "535f06b5-5f9a-4743-a062-345d5b0f4a20",
   "metadata": {},
   "outputs": [],
   "source": []
  }
 ],
 "metadata": {
  "kernelspec": {
   "display_name": "Python 3 (ipykernel)",
   "language": "python",
   "name": "python3"
  },
  "language_info": {
   "codemirror_mode": {
    "name": "ipython",
    "version": 3
   },
   "file_extension": ".py",
   "mimetype": "text/x-python",
   "name": "python",
   "nbconvert_exporter": "python",
   "pygments_lexer": "ipython3",
   "version": "3.12.7"
  }
 },
 "nbformat": 4,
 "nbformat_minor": 5
}
