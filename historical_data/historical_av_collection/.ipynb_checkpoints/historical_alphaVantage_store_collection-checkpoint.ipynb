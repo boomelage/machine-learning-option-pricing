{
 "cells": [
  {
   "cell_type": "code",
   "execution_count": 15,
   "id": "18468afc-ec8f-4901-b7b8-ffb63dca4e95",
   "metadata": {},
   "outputs": [],
   "source": [
    "from pathlib import Path\n",
    "from model_settings import ms\n",
    "import pandas as pd\n",
    "import sys\n",
    "import os\n",
    "import numpy as np\n",
    "jupyter_dir = os.path.abspath(str(Path()))\n",
    "os.chdir(jupyter_dir)\n",
    "\n",
    "from model_settings import ms\n",
    "import requests\n",
    "import numpy as np\n",
    "from scipy import interpolate\n",
    "import pandas as pd\n",
    "import matplotlib.pyplot as plt\n",
    "from matplotlib import cm\n",
    "import QuantLib as ql\n",
    "from datetime import datetime"
   ]
  },
  {
   "cell_type": "code",
   "execution_count": 16,
   "id": "ff5e1c1c-a1a3-42e6-aab0-f2d01b1ff9fe",
   "metadata": {},
   "outputs": [
    {
     "data": {
      "text/plain": [
       "'E:\\\\git\\\\machine-learning-option-pricing\\\\historical_data\\\\historical_av_collection'"
      ]
     },
     "execution_count": 16,
     "metadata": {},
     "output_type": "execute_result"
    }
   ],
   "source": [
    "os.getcwd()"
   ]
  },
  {
   "cell_type": "code",
   "execution_count": 17,
   "id": "36adf20c-de2e-431a-b6c8-314caba322ac",
   "metadata": {},
   "outputs": [],
   "source": [
    "store = pd.HDFStore(r'alphaVantage Vanillas.h5')\n",
    "keys = store.keys()"
   ]
  },
  {
   "cell_type": "code",
   "execution_count": 18,
   "id": "70f30b07-e466-46ae-b71e-96b78f762356",
   "metadata": {},
   "outputs": [],
   "source": [
    "keys = [key for key in keys if key.find('surface')!=-1]"
   ]
  },
  {
   "cell_type": "code",
   "execution_count": 19,
   "id": "d0e5869e-e5a0-495b-a054-fc3e7d24d8fe",
   "metadata": {},
   "outputs": [],
   "source": [
    "key = keys[0]"
   ]
  },
  {
   "cell_type": "code",
   "execution_count": 22,
   "id": "f26e906d-c7bb-4e46-b4be-96599874ce03",
   "metadata": {},
   "outputs": [],
   "source": [
    "date = datetime.strptime(key[key.find('date')+5:key.find('date')+15],'%Y_%m_%d').strftime('%A, %Y-%m-%d')"
   ]
  },
  {
   "cell_type": "code",
   "execution_count": 23,
   "id": "b4c8c951-1af5-4e9a-95fc-93f2444cdbe0",
   "metadata": {},
   "outputs": [
    {
     "data": {
      "text/plain": [
       "'Wednesday, 2024-10-09'"
      ]
     },
     "execution_count": 23,
     "metadata": {},
     "output_type": "execute_result"
    }
   ],
   "source": [
    "date"
   ]
  },
  {
   "cell_type": "code",
   "execution_count": null,
   "id": "127a50e0-5359-4b25-83d5-5bc47a59a610",
   "metadata": {
    "scrolled": true
   },
   "outputs": [],
   "source": [
    "for key in keys:\n",
    "    printdate = datetime.strptime(\n",
    "        key[key.find('date')+5:key.find('date')+15],'%Y_%m_%d'\n",
    "    ).strftime('%A, %Y-%m-%d')\n",
    "    \n",
    "    vol_matrix = store[key]\n",
    "    K = vol_matrix.index.tolist()\n",
    "    T = vol_matrix.columns.tolist()\n",
    "    KK,TT = np.meshgrid(K,T)\n",
    "    VV = np.array(\n",
    "            [[vol_matrix.loc[k,t] for k in K] for t in T]\n",
    "            )\n",
    "    fig = plt.figure(figsize=plt.figaspect(0.5))\n",
    "    \n",
    "    ax1 = fig.add_subplot(1, 2, 1, projection='3d')\n",
    "    surf = ax1.plot_surface(KK, TT, VV, rstride=1, cstride=1, cmap=cm.magma, linewidth=0.1)\n",
    "    \n",
    "    \n",
    "    ax1.set_zlim(0, float(max(vol_matrix.values.flatten())))\n",
    "    ax1.set_title(f\"volatiltiy surface {printdate}\")\n",
    "    ax1.set_xlabel('strike')\n",
    "    ax1.set_ylabel('maturity')\n",
    "    \n",
    "    # Second subplot for wireframe plot\n",
    "    ax2 = fig.add_subplot(1, 2, 2, projection='3d')\n",
    "    ax2.plot_wireframe(KK, TT, VV, rstride=1, cstride=1,color='black')\n",
    "    ax2.set_zlim(0, float(max(vol_matrix.values.flatten())))\n",
    "    ax2.set_title('wireframe')\n",
    "    ax2.set_xlabel('strike')\n",
    "    ax2.set_ylabel('maturity')\n",
    "    \n",
    "    plt.tight_layout()\n",
    "    plt.show()"
   ]
  },
  {
   "cell_type": "code",
   "execution_count": null,
   "id": "ce9403d4-dbe8-46e9-80d9-21600efc9375",
   "metadata": {},
   "outputs": [],
   "source": []
  },
  {
   "cell_type": "code",
   "execution_count": null,
   "id": "6a85ad74-6a62-42c0-bc80-adbffdce449c",
   "metadata": {},
   "outputs": [],
   "source": []
  },
  {
   "cell_type": "code",
   "execution_count": null,
   "id": "a1b2119c-4e8c-4ad2-9efc-03dac925b862",
   "metadata": {},
   "outputs": [],
   "source": []
  }
 ],
 "metadata": {
  "kernelspec": {
   "display_name": "Python 3 (ipykernel)",
   "language": "python",
   "name": "python3"
  },
  "language_info": {
   "codemirror_mode": {
    "name": "ipython",
    "version": 3
   },
   "file_extension": ".py",
   "mimetype": "text/x-python",
   "name": "python",
   "nbconvert_exporter": "python",
   "pygments_lexer": "ipython3",
   "version": "3.12.7"
  }
 },
 "nbformat": 4,
 "nbformat_minor": 5
}
