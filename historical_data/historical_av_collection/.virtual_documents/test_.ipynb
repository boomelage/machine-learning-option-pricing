from historical_alphaVantage_collection import chain, start_date


chain


surface = chain[start_date]['calls']['surface']
contracts = chain[start_date]['calls']['contracts']



