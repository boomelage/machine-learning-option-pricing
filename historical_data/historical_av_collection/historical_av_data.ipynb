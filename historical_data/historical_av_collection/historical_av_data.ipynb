{
 "cells": [
  {
   "cell_type": "code",
   "execution_count": null,
   "id": "08564c15-ddb8-4d2c-bed4-0bfade8f2afe",
   "metadata": {},
   "outputs": [],
   "source": [
    "import os\n",
    "import sys\n",
    "import time\n",
    "import warnings\n",
    "import pandas as pd\n",
    "import numpy as np\n",
    "import QuantLib as ql\n",
    "from pathlib import Path\n",
    "import modin.pandas as md\n",
    "import matplotlib.pyplot as plt\n",
    "from tqdm import tqdm\n",
    "from datetime import datetime\n",
    "from matplotlib import cm\n",
    "from model_settings import ms\n",
    "pd.set_option(\"display.float_format\", \"{:.6f}\".format)\n",
    "warnings.filterwarnings(\"ignore\", \".*defaulting to pandas implementation.*\")\n",
    "notebook_dir = str(Path().resolve())\n",
    "sys.path.append(str(Path().resolve().parent))\n",
    "sys.path.append(str(Path().resolve().parent.parent))\n",
    "from historical_av_key_collector import keys_df, symbol, h5_name\n",
    "h5_path = os.path.join(notebook_dir,f'alphaVantage {symbol}.h5')\n",
    "store = pd.HDFStore(h5_path)\n",
    "store.close()"
   ]
  },
  {
   "cell_type": "markdown",
   "id": "6d16afa9-1912-495a-a43f-4c826718f27f",
   "metadata": {},
   "source": [
    "# data"
   ]
  },
  {
   "cell_type": "raw",
   "id": "5bb500bf-7903-42ad-8bec-301a5a729ee1",
   "metadata": {
    "scrolled": true
   },
   "source": [
    "spot_keys = keys_df.loc[:,['spot_price','date']].dropna()\n",
    "spots = pd.Series()\n",
    "store.open()\n",
    "for i,row in spot_keys.iterrows():\n",
    "    spot_price = float(store[row['spot_price']].iloc[0])\n",
    "    date = str(store[row['date']].iloc[0])\n",
    "    date = datetime.strptime(date,'%Y-%m-%d')\n",
    "    spots.loc[date] = spot_price\n",
    "store.close()\n",
    "plt.figure()\n",
    "plt.plot(spots,color='black')\n",
    "plt.xticks(rotation=45)\n",
    "plt.title(symbol + ' options data available')\n",
    "plt.show()\n",
    "plt.clf()"
   ]
  },
  {
   "cell_type": "markdown",
   "id": "b4c02e94-1d89-44cb-9419-29cbaf644373",
   "metadata": {
    "jp-MarkdownHeadingCollapsed": true
   },
   "source": [
    "# calibrations"
   ]
  },
  {
   "cell_type": "raw",
   "id": "cf53cb2b-7adc-42ff-bf19-fd9b515f3910",
   "metadata": {
    "scrolled": true
   },
   "source": [
    "calibration_keys = keys_df.copy().dropna(subset=['calibration_key','parameter_key'])\n",
    "calibrations = []\n",
    "parameters = {}\n",
    "while True:\n",
    "    try:\n",
    "        store.open()\n",
    "        for i,row in calibration_keys.iterrows():\n",
    "            calibrations.append(store[row['calibration_key']])\n",
    "            parameters[row['date']] = store[row['parameter_key']]\n",
    "        break\n",
    "    except Exception as e:\n",
    "        print(e)\n",
    "        print('retrying in...')\n",
    "        for i in range(2):\n",
    "            print(2-i)\n",
    "            time.sleep(1)\n",
    "    finally:\n",
    "        store.close()\n",
    "\n",
    "calibrations = pd.concat(calibrations,ignore_index=True).dropna(subset='strike_price')\n",
    "calibrations['calculation_date'] = pd.to_datetime(calibrations['calculation_date'],format='%Y-%m-%d')\n",
    "calibrations = calibrations.set_index('calculation_date').sort_index()\n",
    "parameters = calibrations[['spot_price','theta','kappa','rho','eta','v0']].drop_duplicates()\n",
    "\n",
    "for col in parameters.columns:\n",
    "    plt.figure()\n",
    "    plt.plot(calibrations[col], color='black')\n",
    "    plt.xticks(rotation=45)\n",
    "    plt.title(symbol + ' ' + col)\n",
    "    plt.show()\n",
    "    plt.clf()\n",
    "print(f\"\\n{calibrations.reset_index().describe()}\")"
   ]
  },
  {
   "cell_type": "markdown",
   "id": "b3b96187-f795-4324-9896-c9db8589b228",
   "metadata": {},
   "source": [
    "## calibration testing"
   ]
  },
  {
   "cell_type": "raw",
   "id": "d1929d90-d7c0-4f1a-8f21-2354631eb681",
   "metadata": {
    "scrolled": true
   },
   "source": [
    "problem_parameter = 'v0'\n",
    "problem_theshold = 0.2\n",
    "problems = pd.Series(calibrations[problem_parameter][calibrations[problem_parameter]>problem_theshold].drop_duplicates().index).dt.strftime('/date_%Y_%m_%d/heston_calibration/calibration_results')\n",
    "dfs = {}\n",
    "with pd.HDFStore(h5_name) as store:\n",
    "    for key in problems:\n",
    "        dfs[key] = store[key]\n",
    "store.close()\n",
    "print('problem calibration(s):')\n",
    "for i,dfk in enumerate(dfs.keys()):\n",
    "    print(f\"{i}     {dfk}\")\n",
    "problem_keys = keys_df[keys_df['calibration_key'].isin(problems)]"
   ]
  },
  {
   "cell_type": "raw",
   "id": "35d77a10-b535-4754-82d0-52b240b1bd6c",
   "metadata": {},
   "source": [
    "if problem_keys.shape[0] == 0:\n",
    "    print(f\"no issues with {problem_parameter}\")\n",
    "    pass\n",
    "else:\n",
    "    problem_idx = 1\n",
    "    with pd.HDFStore(h5_name) as store:\n",
    "        surface = store[problem_keys['surface_key'].iloc[problem_idx]].drop_duplicates()\n",
    "        heston_parameters = store[problem_keys['parameter_key'].iloc[problem_idx]]\n",
    "        calibration = store[problem_keys['calibration_key'].iloc[problem_idx]]\n",
    "        raw_data = store[problem_keys['raw_data_key'].iloc[problem_idx]]\n",
    "        problem_date = str(store[problem_keys['date'].iloc[problem_idx]].iloc[0])\n",
    "        problem_spot = float(store[problem_keys['spot_price'].iloc[problem_idx]].iloc[0])\n",
    "    store.close()\n",
    "    print(problem_date)\n",
    "    previous_avgabs = np.mean(np.abs(calibration['error']))\n",
    "    print(\"original calibration:\")\n",
    "    plot_vol_surface(surface)\n",
    "    print(heston_parameters)\n",
    "    calculation_datetime = datetime.strptime(problem_date,'%Y-%m-%d')\n",
    "    calculation_date = ql.Date(\n",
    "        calculation_datetime.day,\n",
    "        calculation_datetime.month,\n",
    "        calculation_datetime.year\n",
    "    )\n",
    "    printdate = str(calculation_datetime.strftime('%A, ')+str(calculation_date))\n",
    "    print(f\"average absolute error: {round(previous_avgabs,2)}\")\n",
    "    print(printdate)\n",
    "\n",
    "    \n",
    "    spot = problem_spot\n",
    "    df = raw_data.copy()\n",
    "    df['volume'] = pd.to_numeric(df['volume'])\n",
    "    df['implied_volatility'] = pd.to_numeric(df['implied_volatility'])\n",
    "    df['strike'] = pd.to_numeric(df['strike'])\n",
    "    df['volume'] = pd.to_numeric(df['volume'])\n",
    "    df['expiration'] = pd.to_datetime(df['expiration'],format='%Y-%m-%d')\n",
    "    df['date'] = pd.to_datetime(df['date'],format='%Y-%m-%d')\n",
    "    df['days_to_maturity'] = df['expiration'] - df['date']\n",
    "    df['days_to_maturity'] = df['days_to_maturity'] // np.timedelta64(1, 'D')\n",
    "    df['days_to_maturity'] = df['days_to_maturity'].astype('int64')\n",
    "    df = df[(df['days_to_maturity']>=30)&(df['days_to_maturity']<=400)]\n",
    "    df = df[['strike','implied_volatility','days_to_maturity','volume','type']]\n",
    "    df = df[df['volume']>0].copy()\n",
    "    df['spot_price'] = spot\n",
    "    df['moneyness'] = ms.vmoneyness(df['spot_price'],df['strike'],df['type'])\n",
    "    df = df[(df['moneyness']<0)&(df['moneyness']>-0.5)]\n",
    "    indexed = df.copy().set_index(['strike','days_to_maturity'])\n",
    "    \n",
    "    T = np.sort(df['days_to_maturity'].unique()).tolist()\n",
    "    K = np.sort(df['strike'].unique()).tolist()\n",
    "    raw_surface = pd.DataFrame(\n",
    "        np.tile(np.nan,(len(K),len(T))),\n",
    "        index = K,\n",
    "        columns = T\n",
    "    )\n",
    "    \n",
    "    for k in K:\n",
    "        for t in T:\n",
    "            try:\n",
    "                raw_surface.loc[k,t] = indexed.loc[(k,t),'implied_volatility']\n",
    "            except Exception:\n",
    "                pass\n",
    "    raw_data = df.copy()\n",
    "    raw_surface = raw_surface.dropna(how='any',axis=0).dropna(how='any',axis=1)\n",
    "    print(f\"{symbol} spot price: {spot}\")\n",
    "    vol_matrix = raw_surface.copy()"
   ]
  },
  {
   "cell_type": "markdown",
   "id": "0e9e9410-ddaf-45f5-abb6-c4269c3e3546",
   "metadata": {},
   "source": [
    "## manual recalibration"
   ]
  },
  {
   "cell_type": "raw",
   "id": "16a1e1c8-4828-4d10-a094-265cdfdd04e1",
   "metadata": {},
   "source": [
    "if problem_keys.shape[0] == 0:\n",
    "    print(f\"no issues with {problem_parameter}\")\n",
    "    pass\n",
    "else:\n",
    "    raw_data = raw_data.rename(\n",
    "        columns={\n",
    "            'strike':'strike_price',\n",
    "            'type':'w',\n",
    "            'implied_volatility':'volatility'\n",
    "        }\n",
    "    )\n",
    "    vol_matrix = vol_matrix.sort_index().drop_duplicates()\n",
    "    s = spot\n",
    "    T = vol_matrix.columns.tolist()\n",
    "    K = vol_matrix.index.tolist()\n",
    "    r = 0.04\n",
    "    g = 0.0\n",
    "    \n",
    "    ql.Settings.instance().evaluationDate = calculation_date\n",
    "    flat_ts, dividend_ts = ms.ql_ts_rg(r, g, calculation_date)\n",
    "    S_handle = ql.QuoteHandle(ql.SimpleQuote(s))\n",
    "    \n",
    "    heston_helpers = []\n",
    "    v0 = 0.01; kappa = 0.2; theta = 0.02; rho = -0.75; eta = 0.5;\n",
    "    process = ql.HestonProcess(\n",
    "        flat_ts,\n",
    "        dividend_ts,\n",
    "        S_handle,\n",
    "        v0,                # Initial volatility\n",
    "        kappa,             # Mean reversion speed\n",
    "        theta,             # Long-run variance (volatility squared)\n",
    "        eta,               # Volatility of the volatility\n",
    "        rho                # Correlation between asset and volatility\n",
    "    )\n",
    "    model = ql.HestonModel(process)\n",
    "    engine = ql.AnalyticHestonEngine(model)\n",
    "    \n",
    "    for t in T:\n",
    "        for k in K:\n",
    "            p = ql.Period(int(t),ql.Days)\n",
    "            volatility = vol_matrix.loc[k,t]\n",
    "            helper = ql.HestonModelHelper(\n",
    "                p, ms.calendar, float(s), k, \n",
    "                ql.QuoteHandle(ql.SimpleQuote(volatility)), \n",
    "                flat_ts, \n",
    "                dividend_ts\n",
    "                )\n",
    "            helper.setPricingEngine(engine)\n",
    "            heston_helpers.append(helper)\n",
    "    \n",
    "    lm = ql.LevenbergMarquardt(1e-8, 1e-8, 1e-8)\n",
    "    \n",
    "    model.calibrate(heston_helpers, lm,\n",
    "                      ql.EndCriteria(1000, 50, 1.0e-8,1.0e-8, 1.0e-8))\n",
    "    \n",
    "    theta, kappa, eta, rho, v0 = model.params()\n",
    "    heston_parameters = pd.Series(\n",
    "        [theta, kappa, eta, rho, v0],\n",
    "        index = ['theta', 'kappa', 'eta', 'rho', 'v0'],\n",
    "        dtype = float\n",
    "    )\n",
    "    calibration_test_data = raw_data.copy()\n",
    "    calibration_test_data['spot_price'] = s\n",
    "    calibration_test_data['risk_free_rate'] = r\n",
    "    calibration_test_data['dividend_rate'] = g\n",
    "    calibration_test_data = calibration_test_data[calibration_test_data['days_to_maturity'].isin(df['days_to_maturity'])]\n",
    "    calibration_test_data[heston_parameters.index.tolist()] = np.tile(heston_parameters,(calibration_test_data.shape[0],1))\n",
    "    calibration_test_data.loc[:,'moneyness'] = ms.vmoneyness(\n",
    "        calibration_test_data['spot_price'].values,\n",
    "        calibration_test_data['strike_price'].values,\n",
    "        calibration_test_data['w'].values\n",
    "    )\n",
    "    calibration_test_data['calculation_date'] = problem_date\n",
    "    calibration_test_data['black_scholes'] = ms.vector_black_scholes(calibration_test_data)\n",
    "    calibration_test_data['heston_price'] = ms.vector_heston_price(calibration_test_data)\n",
    "    calibration_test_data.loc[:,'error'] = calibration_test_data['heston_price'].values - calibration_test_data['black_scholes'].values\n",
    "    avg = np.mean(np.abs(calibration_test_data['error']))\n",
    "\n",
    "    print(\"recalibrated:\")\n",
    "    plot_vol_surface(vol_matrix)\n",
    "    print(f\"\\n{printdate}\\n{heston_parameters}\\n\\naverage absolute error: {round(avg,3)}\")\n",
    "    print(f\"previous error: {round(previous_avgabs,3)}\\nchange: {round(avg-previous_avgabs,4)}\")\n",
    "    print(f\"\\n\\ncalibration testing dataset:\\n{calibration_test_data.describe()}\")\n",
    "    print(f\"\\n{calibration_test_data.dtypes}\")"
   ]
  },
  {
   "cell_type": "markdown",
   "id": "257e2a04-7b85-465f-82d1-01fdd79d2ab0",
   "metadata": {},
   "source": [
    "### ENTRY REPLACEMENT"
   ]
  },
  {
   "cell_type": "raw",
   "id": "0ae288b6-ee06-4b3d-a8d7-20f6a8a758ac",
   "metadata": {},
   "source": [
    "def replace_calibration_data():\n",
    "    results_replacement_key = problem_keys.iloc[problem_idx]['calibration_key']\n",
    "    parameter_replacement_key = problem_keys.iloc[problem_idx]['parameter_key']\n",
    "    surface_replacement_key = problem_keys.iloc[problem_idx]['surface_key']\n",
    "    with pd.HDFStore(h5_name) as store:\n",
    "        store.put(surface_replacement_key,vol_matrix,format='table',append=False)\n",
    "        store.put(parameter_replacement_key,heston_parameters,format='table',append=False)\n",
    "        store.put(results_replacement_key,calibration_test_data,format='table',append=False)\n",
    "        print(f'{results_replacement_key} | {parameter_replacement_key} | {surface_replacement_key}:     replaced')\n",
    "    store.close()\n",
    "try:\n",
    "    print(printdate)\n",
    "except Exception:\n",
    "    pass"
   ]
  },
  {
   "cell_type": "markdown",
   "id": "a98c12e8-1968-4ed1-bb02-b41736f68d0e",
   "metadata": {},
   "source": [
    "# checking dates"
   ]
  },
  {
   "cell_type": "code",
   "execution_count": null,
   "id": "ff4e6473-f845-4d6f-9d7d-87bc26ee7e1a",
   "metadata": {},
   "outputs": [],
   "source": [
    "keys_df"
   ]
  },
  {
   "cell_type": "code",
   "execution_count": null,
   "id": "ee0bd08b-193d-46b4-b9f3-89667e72a751",
   "metadata": {},
   "outputs": [],
   "source": [
    "keys_df_dates = keys_df.copy().dropna(subset=['calibration_key'])\n",
    "bar = tqdm(total=(keys_df_dates.shape[0]*keys_df_dates.shape[1]))\n",
    "while True:\n",
    "    try:\n",
    "        with pd.HDFStore(h5_name) as store:\n",
    "            for i, row in keys_df_dates.iterrows():   \n",
    "                keys_df_dates.at[i,'calibration_date'] = store[row['calibration_key']]['calculation_date'].drop_duplicates().iloc[0]\n",
    "                keys_df_dates.at[i,'data_date'] = store[row['raw_data_key']]['date'].drop_duplicates().iloc[0]\n",
    "                keys_df_dates.at[i,'spot_price_date'] = row['spot_price']\n",
    "                bar.update(1)\n",
    "    except OSError as e:\n",
    "        print('waiting for file')\n",
    "        time.sleep(2)\n",
    "    finally:\n",
    "        store.close()\n",
    "        bar.close()\n",
    "keys_df_dates = keys_df_dates.copy()[['calibration_date','data_date','spot_price_date']]"
   ]
  },
  {
   "cell_type": "code",
   "execution_count": null,
   "id": "9e75aa20-1bbd-4ea1-942e-017fb6f13162",
   "metadata": {},
   "outputs": [],
   "source": [
    "keys_df_dates"
   ]
  },
  {
   "cell_type": "code",
   "execution_count": null,
   "id": "30405647-75a7-4e16-adc7-b32842ea05fb",
   "metadata": {},
   "outputs": [],
   "source": [
    "dates_analysis = keys_df_dates.copy()\n",
    "def extract_date_from_string(s):\n",
    "    first_hyphen_pos = s.find('_',0)\n",
    "    second_slash_pos = s.rfind('/',1)\n",
    "    return s[first_hyphen_pos+1:second_slash_pos].replace('_','-')\n",
    "\n",
    "dates_analysis['spot_price_date'] = dates_analysis['spot_price_date'].apply(extract_date_from_string)\n",
    "print(dates_analysis.dtypes)\n",
    "dates_analysis"
   ]
  },
  {
   "cell_type": "code",
   "execution_count": null,
   "id": "0bfbfb00-ce00-4d2a-a69f-2dd929f7ef26",
   "metadata": {},
   "outputs": [],
   "source": [
    "dates_analysis_problems = dates_analysis[dates_analysis.apply(lambda row: len(set(row)) > 1, axis=1)]\n",
    "dates_analysis_problems"
   ]
  },
  {
   "cell_type": "code",
   "execution_count": null,
   "id": "dc888335-4be3-4398-9067-e9282a604d71",
   "metadata": {},
   "outputs": [],
   "source": [
    "problem_date_keys = keys_df.loc[dates_analysis_problems.index,:]\n",
    "problem_date_keys"
   ]
  },
  {
   "cell_type": "code",
   "execution_count": null,
   "id": "42a89104-78bf-4b23-afab-b99ee4456155",
   "metadata": {},
   "outputs": [],
   "source": []
  }
 ],
 "metadata": {
  "kernelspec": {
   "display_name": "Python 3 (ipykernel)",
   "language": "python",
   "name": "python3"
  },
  "language_info": {
   "codemirror_mode": {
    "name": "ipython",
    "version": 3
   },
   "file_extension": ".py",
   "mimetype": "text/x-python",
   "name": "python",
   "nbconvert_exporter": "python",
   "pygments_lexer": "ipython3",
   "version": "3.12.7"
  }
 },
 "nbformat": 4,
 "nbformat_minor": 5
}
