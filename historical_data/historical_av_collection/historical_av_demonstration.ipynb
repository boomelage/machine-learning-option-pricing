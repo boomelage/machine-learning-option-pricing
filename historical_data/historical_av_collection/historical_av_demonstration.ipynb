{
 "cells": [
  {
   "cell_type": "code",
   "execution_count": 18,
   "id": "c0249a65-f367-427b-9931-d83520606172",
   "metadata": {},
   "outputs": [
    {
     "data": {
      "text/html": [
       "<div>\n",
       "<style scoped>\n",
       "    .dataframe tbody tr th:only-of-type {\n",
       "        vertical-align: middle;\n",
       "    }\n",
       "\n",
       "    .dataframe tbody tr th {\n",
       "        vertical-align: top;\n",
       "    }\n",
       "\n",
       "    .dataframe thead th {\n",
       "        text-align: right;\n",
       "    }\n",
       "</style>\n",
       "<table border=\"1\" class=\"dataframe\">\n",
       "  <thead>\n",
       "    <tr style=\"text-align: right;\">\n",
       "      <th></th>\n",
       "      <th>1. symbol</th>\n",
       "      <th>2. name</th>\n",
       "      <th>3. type</th>\n",
       "      <th>4. region</th>\n",
       "      <th>5. marketOpen</th>\n",
       "      <th>6. marketClose</th>\n",
       "      <th>7. timezone</th>\n",
       "      <th>8. currency</th>\n",
       "      <th>9. matchScore</th>\n",
       "    </tr>\n",
       "  </thead>\n",
       "  <tbody>\n",
       "    <tr>\n",
       "      <th>0</th>\n",
       "      <td>USD</td>\n",
       "      <td>PROSHARES ULTRA SEMICONDUCTORS</td>\n",
       "      <td>ETF</td>\n",
       "      <td>United States</td>\n",
       "      <td>09:30</td>\n",
       "      <td>16:00</td>\n",
       "      <td>UTC-04</td>\n",
       "      <td>USD</td>\n",
       "      <td>1.0000</td>\n",
       "    </tr>\n",
       "    <tr>\n",
       "      <th>1</th>\n",
       "      <td>USDC</td>\n",
       "      <td>USDATA Corp</td>\n",
       "      <td>Equity</td>\n",
       "      <td>United States</td>\n",
       "      <td>09:30</td>\n",
       "      <td>16:00</td>\n",
       "      <td>UTC-04</td>\n",
       "      <td>USD</td>\n",
       "      <td>0.8571</td>\n",
       "    </tr>\n",
       "    <tr>\n",
       "      <th>2</th>\n",
       "      <td>USDF</td>\n",
       "      <td>US-Dadi Fertilizer Industry International Inc</td>\n",
       "      <td>Equity</td>\n",
       "      <td>United States</td>\n",
       "      <td>09:30</td>\n",
       "      <td>16:00</td>\n",
       "      <td>UTC-04</td>\n",
       "      <td>USD</td>\n",
       "      <td>0.8571</td>\n",
       "    </tr>\n",
       "    <tr>\n",
       "      <th>3</th>\n",
       "      <td>USDP</td>\n",
       "      <td>USD Partners LP</td>\n",
       "      <td>Equity</td>\n",
       "      <td>United States</td>\n",
       "      <td>09:30</td>\n",
       "      <td>16:00</td>\n",
       "      <td>UTC-04</td>\n",
       "      <td>USD</td>\n",
       "      <td>0.8571</td>\n",
       "    </tr>\n",
       "    <tr>\n",
       "      <th>4</th>\n",
       "      <td>USDR</td>\n",
       "      <td>UAS Drone Corp</td>\n",
       "      <td>Equity</td>\n",
       "      <td>United States</td>\n",
       "      <td>09:30</td>\n",
       "      <td>16:00</td>\n",
       "      <td>UTC-04</td>\n",
       "      <td>USD</td>\n",
       "      <td>0.8571</td>\n",
       "    </tr>\n",
       "    <tr>\n",
       "      <th>5</th>\n",
       "      <td>USDIX</td>\n",
       "      <td>UBS ULTRA SHORT INCOME FUND CLASS I</td>\n",
       "      <td>Mutual Fund</td>\n",
       "      <td>United States</td>\n",
       "      <td>09:30</td>\n",
       "      <td>16:00</td>\n",
       "      <td>UTC-04</td>\n",
       "      <td>USD</td>\n",
       "      <td>0.7500</td>\n",
       "    </tr>\n",
       "    <tr>\n",
       "      <th>6</th>\n",
       "      <td>USDMY</td>\n",
       "      <td>Usinas Siderurgicas De Minas Gerais S.A.</td>\n",
       "      <td>Equity</td>\n",
       "      <td>United States</td>\n",
       "      <td>09:30</td>\n",
       "      <td>16:00</td>\n",
       "      <td>UTC-04</td>\n",
       "      <td>USD</td>\n",
       "      <td>0.7500</td>\n",
       "    </tr>\n",
       "    <tr>\n",
       "      <th>7</th>\n",
       "      <td>USDC.LON</td>\n",
       "      <td>L&amp;G ESG USD Corporate Bond UCITS ETF</td>\n",
       "      <td>ETF</td>\n",
       "      <td>United Kingdom</td>\n",
       "      <td>08:00</td>\n",
       "      <td>16:30</td>\n",
       "      <td>UTC+01</td>\n",
       "      <td>USD</td>\n",
       "      <td>0.6667</td>\n",
       "    </tr>\n",
       "    <tr>\n",
       "      <th>8</th>\n",
       "      <td>USDG.LON</td>\n",
       "      <td>L&amp;G ESG USD Corporate Bond UCITS ETF GBP</td>\n",
       "      <td>ETF</td>\n",
       "      <td>United Kingdom</td>\n",
       "      <td>08:00</td>\n",
       "      <td>16:30</td>\n",
       "      <td>UTC+01</td>\n",
       "      <td>GBX</td>\n",
       "      <td>0.6667</td>\n",
       "    </tr>\n",
       "    <tr>\n",
       "      <th>9</th>\n",
       "      <td>USDB11.SAO</td>\n",
       "      <td>Investo Bloomberg Us Bond Etf Fundo De Investi...</td>\n",
       "      <td>ETF</td>\n",
       "      <td>Brazil/Sao Paolo</td>\n",
       "      <td>10:00</td>\n",
       "      <td>17:30</td>\n",
       "      <td>UTC-03</td>\n",
       "      <td>BRL</td>\n",
       "      <td>0.5000</td>\n",
       "    </tr>\n",
       "  </tbody>\n",
       "</table>\n",
       "</div>"
      ],
      "text/plain": [
       "    1. symbol                                            2. name      3. type  \\\n",
       "0         USD                    PROSHARES ULTRA SEMICONDUCTORS           ETF   \n",
       "1        USDC                                        USDATA Corp       Equity   \n",
       "2        USDF      US-Dadi Fertilizer Industry International Inc       Equity   \n",
       "3        USDP                                    USD Partners LP       Equity   \n",
       "4        USDR                                     UAS Drone Corp       Equity   \n",
       "5       USDIX                UBS ULTRA SHORT INCOME FUND CLASS I  Mutual Fund   \n",
       "6       USDMY           Usinas Siderurgicas De Minas Gerais S.A.       Equity   \n",
       "7    USDC.LON               L&G ESG USD Corporate Bond UCITS ETF          ETF   \n",
       "8    USDG.LON           L&G ESG USD Corporate Bond UCITS ETF GBP          ETF   \n",
       "9  USDB11.SAO  Investo Bloomberg Us Bond Etf Fundo De Investi...          ETF   \n",
       "\n",
       "          4. region 5. marketOpen 6. marketClose 7. timezone 8. currency  \\\n",
       "0     United States         09:30          16:00      UTC-04         USD   \n",
       "1     United States         09:30          16:00      UTC-04         USD   \n",
       "2     United States         09:30          16:00      UTC-04         USD   \n",
       "3     United States         09:30          16:00      UTC-04         USD   \n",
       "4     United States         09:30          16:00      UTC-04         USD   \n",
       "5     United States         09:30          16:00      UTC-04         USD   \n",
       "6     United States         09:30          16:00      UTC-04         USD   \n",
       "7    United Kingdom         08:00          16:30      UTC+01         USD   \n",
       "8    United Kingdom         08:00          16:30      UTC+01         GBX   \n",
       "9  Brazil/Sao Paolo         10:00          17:30      UTC-03         BRL   \n",
       "\n",
       "  9. matchScore  \n",
       "0        1.0000  \n",
       "1        0.8571  \n",
       "2        0.8571  \n",
       "3        0.8571  \n",
       "4        0.8571  \n",
       "5        0.7500  \n",
       "6        0.7500  \n",
       "7        0.6667  \n",
       "8        0.6667  \n",
       "9        0.5000  "
      ]
     },
     "execution_count": 18,
     "metadata": {},
     "output_type": "execute_result"
    }
   ],
   "source": [
    "import os\n",
    "import sys\n",
    "import requests\n",
    "import pandas as pd\n",
    "import numpy as np\n",
    "import QuantLib as ql\n",
    "from pathlib import Path\n",
    "import matplotlib.pyplot as plt\n",
    "from tqdm import tqdm\n",
    "from itertools import product\n",
    "from datetime import datetime\n",
    "from datetime import timedelta\n",
    "from model_settings import ms\n",
    "from historical_av_plot_vol_surface import plot_vol_surface\n",
    "fontsize=6\n",
    "plt.rcParams.update(\n",
    "    {\n",
    "        'axes.labelsize': fontsize,\n",
    "        'xtick.labelsize': fontsize,\n",
    "        'ytick.labelsize': fontsize,\n",
    "        'figure.titlesize': fontsize,\n",
    "        'axes.linewidth': 1/3,\n",
    "    }\n",
    ")\n",
    "search_symbol = 'USD'\n",
    "url = f\"https://www.alphavantage.co/query?function=SYMBOL_SEARCH&keywords={search_symbol}&apikey={ms.av_key}\"\n",
    "r = requests.get(url)\n",
    "data = r.json()\n",
    "pd.DataFrame(data['bestMatches'])"
   ]
  },
  {
   "cell_type": "code",
   "execution_count": null,
   "id": "a657551c-0c23-479d-ade8-e8d0547a534b",
   "metadata": {},
   "outputs": [],
   "source": [
    "symbol='USD&to_currency=GBP'\n",
    "url = str(\n",
    "\t'https://www.alphavantage.co/query?function=TIME_SERIES_DAILY&symbol='+\n",
    "\tsymbol+'&outputsize=full&apikey='+\n",
    "\tms.av_key)\n",
    "print(symbol)\n",
    "r = requests.get(url)\n",
    "spots = pd.Series(pd.DataFrame(r.json()['Time Series (Daily)']).transpose()['4. close'].squeeze())\n",
    "spots = pd.to_numeric(spots,errors='coerce')\n",
    "print(spots)"
   ]
  },
  {
   "cell_type": "markdown",
   "id": "28bb3c23-b34e-46d8-93d7-b610069d78c3",
   "metadata": {},
   "source": [
    "# example data collection"
   ]
  },
  {
   "cell_type": "markdown",
   "id": "8ad10d09-75db-4e8f-b7a5-0a4581d1523c",
   "metadata": {},
   "source": [
    "let us collect a few recent trading days and inspect the data"
   ]
  },
  {
   "cell_type": "code",
   "execution_count": 2,
   "id": "e7222664-a621-49f7-bd1e-cd5176a63039",
   "metadata": {},
   "outputs": [
    {
     "name": "stdout",
     "output_type": "stream",
     "text": [
      "0    2024-10-11\n",
      "1    2024-10-10\n",
      "2    2024-10-09\n",
      "3    2024-10-08\n",
      "4    2024-10-07\n",
      "dtype: object\n"
     ]
    }
   ],
   "source": [
    "dates = spots.index\n",
    "dates = pd.Series(dates[:5])\n",
    "print(dates)"
   ]
  },
  {
   "cell_type": "code",
   "execution_count": 3,
   "id": "e37d59ed-3039-4363-8b6d-713160c31ae4",
   "metadata": {},
   "outputs": [
    {
     "name": "stderr",
     "output_type": "stream",
     "text": [
      "100%|████████████████████████████████████████████████████████████████████████████████████| 5/5 [00:04<00:00,  1.13it/s]\n"
     ]
    }
   ],
   "source": [
    "from historical_alphaVantage_collection import collect_av_link\n",
    "chain = {}\n",
    "bar = tqdm(total=len(dates))\n",
    "for date in dates:\n",
    "    spot = float(spots[date])\n",
    "    link = collect_av_link(date,spot,symbol)\n",
    "    printdate = datetime.strptime(date, '%Y-%m-%d').strftime('%A, %Y-%m-%d')\n",
    "    chain[date] = link\n",
    "    bar.update(1)\n",
    "bar.close()"
   ]
  },
  {
   "cell_type": "code",
   "execution_count": 4,
   "id": "f80914eb-394e-4262-a26c-27aa24aa2f8c",
   "metadata": {},
   "outputs": [
    {
     "data": {
      "image/png": "[encoded data removed]",
      "text/plain": [
       "<Figure size 640x480 with 1 Axes>"
      ]
     },
     "metadata": {},
     "output_type": "display_data"
    },
    {
     "data": {
      "text/plain": [
       "<Figure size 640x480 with 0 Axes>"
      ]
     },
     "metadata": {},
     "output_type": "display_data"
    }
   ],
   "source": [
    "demo_spots = spots[dates]\n",
    "demo_spots.index = pd.to_datetime(demo_spots.index, format='%Y-%m-%d')\n",
    "plt.figure()\n",
    "plt.plot(demo_spots,color='black')\n",
    "plt.title(f'{symbol} option data collected')\n",
    "plt.xticks(rotation=45)\n",
    "plt.show()\n",
    "plt.clf()"
   ]
  },
  {
   "cell_type": "markdown",
   "id": "294ac0eb-6e8f-4314-973a-c192a1a8a8cd",
   "metadata": {},
   "source": [
    "# example calibraion"
   ]
  },
  {
   "cell_type": "markdown",
   "id": "dc137805-8699-4457-b4ba-ed5139e40cfd",
   "metadata": {},
   "source": [
    "now why not select the one trading day and porceed with an example calibration of our Heston (1993) model"
   ]
  },
  {
   "cell_type": "code",
   "execution_count": 5,
   "id": "1422ad50-0417-4ccb-b4ba-e7da52b2f932",
   "metadata": {},
   "outputs": [
    {
     "name": "stdout",
     "output_type": "stream",
     "text": [
      "Wednesday, October 9th, 2024\n"
     ]
    }
   ],
   "source": [
    "date = dates[2]\n",
    "raw_data = chain[date]\n",
    "calculation_datetime = datetime.strptime(date,'%Y-%m-%d')\n",
    "calculation_date = ql.Date(\n",
    "    calculation_datetime.day,\n",
    "    calculation_datetime.month,\n",
    "    calculation_datetime.year,\n",
    ")\n",
    "notebook_printdate = str(calculation_datetime.strftime('%A, '))+str(calculation_date)\n",
    "print(notebook_printdate)"
   ]
  },
  {
   "cell_type": "markdown",
   "id": "e866b009-f368-4662-89ea-a95dca69d215",
   "metadata": {},
   "source": [
    "## modelling the volatility surface"
   ]
  },
  {
   "cell_type": "code",
   "execution_count": 6,
   "id": "678b1db2-3f9a-428d-b55b-f6ca7941def3",
   "metadata": {},
   "outputs": [
    {
     "ename": "KeyError",
     "evalue": "(np.float64(134.0), np.float64(37.0))",
     "output_type": "error",
     "traceback": [
      "\u001b[1;31m---------------------------------------------------------------------------\u001b[0m",
      "\u001b[1;31mKeyError\u001b[0m                                  Traceback (most recent call last)",
      "File \u001b[1;32mE:\\Python\\Lib\\site-packages\\pandas\\core\\indexes\\multi.py:3220\u001b[0m, in \u001b[0;36mMultiIndex._get_loc_level\u001b[1;34m(self, key, level)\u001b[0m\n\u001b[0;32m   3219\u001b[0m \u001b[38;5;28;01mtry\u001b[39;00m:\n\u001b[1;32m-> 3220\u001b[0m     \u001b[38;5;28;01mreturn\u001b[39;00m (\u001b[38;5;28;43mself\u001b[39;49m\u001b[38;5;241;43m.\u001b[39;49m\u001b[43m_engine\u001b[49m\u001b[38;5;241;43m.\u001b[39;49m\u001b[43mget_loc\u001b[49m\u001b[43m(\u001b[49m\u001b[43mkey\u001b[49m\u001b[43m)\u001b[49m, \u001b[38;5;28;01mNone\u001b[39;00m)\n\u001b[0;32m   3221\u001b[0m \u001b[38;5;28;01mexcept\u001b[39;00m \u001b[38;5;167;01mKeyError\u001b[39;00m \u001b[38;5;28;01mas\u001b[39;00m err:\n",
      "File \u001b[1;32mindex.pyx:776\u001b[0m, in \u001b[0;36mpandas._libs.index.BaseMultiIndexCodesEngine.get_loc\u001b[1;34m()\u001b[0m\n",
      "File \u001b[1;32mindex.pyx:167\u001b[0m, in \u001b[0;36mpandas._libs.index.IndexEngine.get_loc\u001b[1;34m()\u001b[0m\n",
      "File \u001b[1;32mindex.pyx:196\u001b[0m, in \u001b[0;36mpandas._libs.index.IndexEngine.get_loc\u001b[1;34m()\u001b[0m\n",
      "File \u001b[1;32mpandas\\\\_libs\\\\hashtable_class_helper.pxi:2152\u001b[0m, in \u001b[0;36mpandas._libs.hashtable.UInt64HashTable.get_item\u001b[1;34m()\u001b[0m\n",
      "File \u001b[1;32mpandas\\\\_libs\\\\hashtable_class_helper.pxi:2176\u001b[0m, in \u001b[0;36mpandas._libs.hashtable.UInt64HashTable.get_item\u001b[1;34m()\u001b[0m\n",
      "\u001b[1;31mKeyError\u001b[0m: 98",
      "\nThe above exception was the direct cause of the following exception:\n",
      "\u001b[1;31mKeyError\u001b[0m                                  Traceback (most recent call last)",
      "Cell \u001b[1;32mIn[6], line 61\u001b[0m\n\u001b[0;32m     59\u001b[0m \u001b[38;5;28;01mfor\u001b[39;00m col \u001b[38;5;129;01min\u001b[39;00m cols_to_map:\n\u001b[0;32m     60\u001b[0m     \u001b[38;5;28;01mfor\u001b[39;00m i,row \u001b[38;5;129;01min\u001b[39;00m hottest_contracts\u001b[38;5;241m.\u001b[39miterrows():\n\u001b[1;32m---> 61\u001b[0m         hottest_contracts\u001b[38;5;241m.\u001b[39mat[i,col] \u001b[38;5;241m=\u001b[39m \u001b[43mindexed\u001b[49m\u001b[38;5;241;43m.\u001b[39;49m\u001b[43mloc\u001b[49m\u001b[43m[\u001b[49m\u001b[43m(\u001b[49m\u001b[43mrow\u001b[49m\u001b[43m[\u001b[49m\u001b[38;5;124;43m'\u001b[39;49m\u001b[38;5;124;43mk\u001b[39;49m\u001b[38;5;124;43m'\u001b[39;49m\u001b[43m]\u001b[49m\u001b[43m,\u001b[49m\u001b[43mrow\u001b[49m\u001b[43m[\u001b[49m\u001b[38;5;124;43m'\u001b[39;49m\u001b[38;5;124;43mt\u001b[39;49m\u001b[38;5;124;43m'\u001b[39;49m\u001b[43m]\u001b[49m\u001b[43m)\u001b[49m\u001b[43m,\u001b[49m\u001b[43mcol\u001b[49m\u001b[43m]\u001b[49m\n\u001b[0;32m     63\u001b[0m hottest_contracts \u001b[38;5;241m=\u001b[39m hottest_contracts\u001b[38;5;241m.\u001b[39mrename(\n\u001b[0;32m     64\u001b[0m     columns\u001b[38;5;241m=\u001b[39m{\u001b[38;5;124m'\u001b[39m\u001b[38;5;124mt\u001b[39m\u001b[38;5;124m'\u001b[39m:\u001b[38;5;124m'\u001b[39m\u001b[38;5;124mdays_to_maturity\u001b[39m\u001b[38;5;124m'\u001b[39m,\u001b[38;5;124m'\u001b[39m\u001b[38;5;124mk\u001b[39m\u001b[38;5;124m'\u001b[39m:\u001b[38;5;124m'\u001b[39m\u001b[38;5;124mstrike_price\u001b[39m\u001b[38;5;124m'\u001b[39m})\u001b[38;5;241m.\u001b[39mcopy()\n",
      "File \u001b[1;32mE:\\Python\\Lib\\site-packages\\pandas\\core\\indexing.py:1184\u001b[0m, in \u001b[0;36m_LocationIndexer.__getitem__\u001b[1;34m(self, key)\u001b[0m\n\u001b[0;32m   1182\u001b[0m     \u001b[38;5;28;01mif\u001b[39;00m \u001b[38;5;28mself\u001b[39m\u001b[38;5;241m.\u001b[39m_is_scalar_access(key):\n\u001b[0;32m   1183\u001b[0m         \u001b[38;5;28;01mreturn\u001b[39;00m \u001b[38;5;28mself\u001b[39m\u001b[38;5;241m.\u001b[39mobj\u001b[38;5;241m.\u001b[39m_get_value(\u001b[38;5;241m*\u001b[39mkey, takeable\u001b[38;5;241m=\u001b[39m\u001b[38;5;28mself\u001b[39m\u001b[38;5;241m.\u001b[39m_takeable)\n\u001b[1;32m-> 1184\u001b[0m     \u001b[38;5;28;01mreturn\u001b[39;00m \u001b[38;5;28;43mself\u001b[39;49m\u001b[38;5;241;43m.\u001b[39;49m\u001b[43m_getitem_tuple\u001b[49m\u001b[43m(\u001b[49m\u001b[43mkey\u001b[49m\u001b[43m)\u001b[49m\n\u001b[0;32m   1185\u001b[0m \u001b[38;5;28;01melse\u001b[39;00m:\n\u001b[0;32m   1186\u001b[0m     \u001b[38;5;66;03m# we by definition only have the 0th axis\u001b[39;00m\n\u001b[0;32m   1187\u001b[0m     axis \u001b[38;5;241m=\u001b[39m \u001b[38;5;28mself\u001b[39m\u001b[38;5;241m.\u001b[39maxis \u001b[38;5;129;01mor\u001b[39;00m \u001b[38;5;241m0\u001b[39m\n",
      "File \u001b[1;32mE:\\Python\\Lib\\site-packages\\pandas\\core\\indexing.py:1368\u001b[0m, in \u001b[0;36m_LocIndexer._getitem_tuple\u001b[1;34m(self, tup)\u001b[0m\n\u001b[0;32m   1366\u001b[0m \u001b[38;5;28;01mwith\u001b[39;00m suppress(IndexingError):\n\u001b[0;32m   1367\u001b[0m     tup \u001b[38;5;241m=\u001b[39m \u001b[38;5;28mself\u001b[39m\u001b[38;5;241m.\u001b[39m_expand_ellipsis(tup)\n\u001b[1;32m-> 1368\u001b[0m     \u001b[38;5;28;01mreturn\u001b[39;00m \u001b[38;5;28;43mself\u001b[39;49m\u001b[38;5;241;43m.\u001b[39;49m\u001b[43m_getitem_lowerdim\u001b[49m\u001b[43m(\u001b[49m\u001b[43mtup\u001b[49m\u001b[43m)\u001b[49m\n\u001b[0;32m   1370\u001b[0m \u001b[38;5;66;03m# no multi-index, so validate all of the indexers\u001b[39;00m\n\u001b[0;32m   1371\u001b[0m tup \u001b[38;5;241m=\u001b[39m \u001b[38;5;28mself\u001b[39m\u001b[38;5;241m.\u001b[39m_validate_tuple_indexer(tup)\n",
      "File \u001b[1;32mE:\\Python\\Lib\\site-packages\\pandas\\core\\indexing.py:1041\u001b[0m, in \u001b[0;36m_LocationIndexer._getitem_lowerdim\u001b[1;34m(self, tup)\u001b[0m\n\u001b[0;32m   1039\u001b[0m \u001b[38;5;66;03m# we may have a nested tuples indexer here\u001b[39;00m\n\u001b[0;32m   1040\u001b[0m \u001b[38;5;28;01mif\u001b[39;00m \u001b[38;5;28mself\u001b[39m\u001b[38;5;241m.\u001b[39m_is_nested_tuple_indexer(tup):\n\u001b[1;32m-> 1041\u001b[0m     \u001b[38;5;28;01mreturn\u001b[39;00m \u001b[38;5;28;43mself\u001b[39;49m\u001b[38;5;241;43m.\u001b[39;49m\u001b[43m_getitem_nested_tuple\u001b[49m\u001b[43m(\u001b[49m\u001b[43mtup\u001b[49m\u001b[43m)\u001b[49m\n\u001b[0;32m   1043\u001b[0m \u001b[38;5;66;03m# we maybe be using a tuple to represent multiple dimensions here\u001b[39;00m\n\u001b[0;32m   1044\u001b[0m ax0 \u001b[38;5;241m=\u001b[39m \u001b[38;5;28mself\u001b[39m\u001b[38;5;241m.\u001b[39mobj\u001b[38;5;241m.\u001b[39m_get_axis(\u001b[38;5;241m0\u001b[39m)\n",
      "File \u001b[1;32mE:\\Python\\Lib\\site-packages\\pandas\\core\\indexing.py:1153\u001b[0m, in \u001b[0;36m_LocationIndexer._getitem_nested_tuple\u001b[1;34m(self, tup)\u001b[0m\n\u001b[0;32m   1150\u001b[0m     axis \u001b[38;5;241m-\u001b[39m\u001b[38;5;241m=\u001b[39m \u001b[38;5;241m1\u001b[39m\n\u001b[0;32m   1151\u001b[0m     \u001b[38;5;28;01mcontinue\u001b[39;00m\n\u001b[1;32m-> 1153\u001b[0m obj \u001b[38;5;241m=\u001b[39m \u001b[38;5;28;43mgetattr\u001b[39;49m\u001b[43m(\u001b[49m\u001b[43mobj\u001b[49m\u001b[43m,\u001b[49m\u001b[43m \u001b[49m\u001b[38;5;28;43mself\u001b[39;49m\u001b[38;5;241;43m.\u001b[39;49m\u001b[43mname\u001b[49m\u001b[43m)\u001b[49m\u001b[38;5;241;43m.\u001b[39;49m\u001b[43m_getitem_axis\u001b[49m\u001b[43m(\u001b[49m\u001b[43mkey\u001b[49m\u001b[43m,\u001b[49m\u001b[43m \u001b[49m\u001b[43maxis\u001b[49m\u001b[38;5;241;43m=\u001b[39;49m\u001b[43maxis\u001b[49m\u001b[43m)\u001b[49m\n\u001b[0;32m   1154\u001b[0m axis \u001b[38;5;241m-\u001b[39m\u001b[38;5;241m=\u001b[39m \u001b[38;5;241m1\u001b[39m\n\u001b[0;32m   1156\u001b[0m \u001b[38;5;66;03m# if we have a scalar, we are done\u001b[39;00m\n",
      "File \u001b[1;32mE:\\Python\\Lib\\site-packages\\pandas\\core\\indexing.py:1431\u001b[0m, in \u001b[0;36m_LocIndexer._getitem_axis\u001b[1;34m(self, key, axis)\u001b[0m\n\u001b[0;32m   1429\u001b[0m \u001b[38;5;66;03m# fall thru to straight lookup\u001b[39;00m\n\u001b[0;32m   1430\u001b[0m \u001b[38;5;28mself\u001b[39m\u001b[38;5;241m.\u001b[39m_validate_key(key, axis)\n\u001b[1;32m-> 1431\u001b[0m \u001b[38;5;28;01mreturn\u001b[39;00m \u001b[38;5;28;43mself\u001b[39;49m\u001b[38;5;241;43m.\u001b[39;49m\u001b[43m_get_label\u001b[49m\u001b[43m(\u001b[49m\u001b[43mkey\u001b[49m\u001b[43m,\u001b[49m\u001b[43m \u001b[49m\u001b[43maxis\u001b[49m\u001b[38;5;241;43m=\u001b[39;49m\u001b[43maxis\u001b[49m\u001b[43m)\u001b[49m\n",
      "File \u001b[1;32mE:\\Python\\Lib\\site-packages\\pandas\\core\\indexing.py:1381\u001b[0m, in \u001b[0;36m_LocIndexer._get_label\u001b[1;34m(self, label, axis)\u001b[0m\n\u001b[0;32m   1379\u001b[0m \u001b[38;5;28;01mdef\u001b[39;00m \u001b[38;5;21m_get_label\u001b[39m(\u001b[38;5;28mself\u001b[39m, label, axis: AxisInt):\n\u001b[0;32m   1380\u001b[0m     \u001b[38;5;66;03m# GH#5567 this will fail if the label is not present in the axis.\u001b[39;00m\n\u001b[1;32m-> 1381\u001b[0m     \u001b[38;5;28;01mreturn\u001b[39;00m \u001b[38;5;28;43mself\u001b[39;49m\u001b[38;5;241;43m.\u001b[39;49m\u001b[43mobj\u001b[49m\u001b[38;5;241;43m.\u001b[39;49m\u001b[43mxs\u001b[49m\u001b[43m(\u001b[49m\u001b[43mlabel\u001b[49m\u001b[43m,\u001b[49m\u001b[43m \u001b[49m\u001b[43maxis\u001b[49m\u001b[38;5;241;43m=\u001b[39;49m\u001b[43maxis\u001b[49m\u001b[43m)\u001b[49m\n",
      "File \u001b[1;32mE:\\Python\\Lib\\site-packages\\pandas\\core\\generic.py:4293\u001b[0m, in \u001b[0;36mNDFrame.xs\u001b[1;34m(self, key, axis, level, drop_level)\u001b[0m\n\u001b[0;32m   4290\u001b[0m     index \u001b[38;5;241m=\u001b[39m \u001b[38;5;28mself\u001b[39m\u001b[38;5;241m.\u001b[39mindex\n\u001b[0;32m   4292\u001b[0m \u001b[38;5;28;01mif\u001b[39;00m \u001b[38;5;28misinstance\u001b[39m(index, MultiIndex):\n\u001b[1;32m-> 4293\u001b[0m     loc, new_index \u001b[38;5;241m=\u001b[39m \u001b[43mindex\u001b[49m\u001b[38;5;241;43m.\u001b[39;49m\u001b[43m_get_loc_level\u001b[49m\u001b[43m(\u001b[49m\u001b[43mkey\u001b[49m\u001b[43m,\u001b[49m\u001b[43m \u001b[49m\u001b[43mlevel\u001b[49m\u001b[38;5;241;43m=\u001b[39;49m\u001b[38;5;241;43m0\u001b[39;49m\u001b[43m)\u001b[49m\n\u001b[0;32m   4294\u001b[0m     \u001b[38;5;28;01mif\u001b[39;00m \u001b[38;5;129;01mnot\u001b[39;00m drop_level:\n\u001b[0;32m   4295\u001b[0m         \u001b[38;5;28;01mif\u001b[39;00m lib\u001b[38;5;241m.\u001b[39mis_integer(loc):\n\u001b[0;32m   4296\u001b[0m             \u001b[38;5;66;03m# Slice index must be an integer or None\u001b[39;00m\n",
      "File \u001b[1;32mE:\\Python\\Lib\\site-packages\\pandas\\core\\indexes\\multi.py:3222\u001b[0m, in \u001b[0;36mMultiIndex._get_loc_level\u001b[1;34m(self, key, level)\u001b[0m\n\u001b[0;32m   3220\u001b[0m     \u001b[38;5;28;01mreturn\u001b[39;00m (\u001b[38;5;28mself\u001b[39m\u001b[38;5;241m.\u001b[39m_engine\u001b[38;5;241m.\u001b[39mget_loc(key), \u001b[38;5;28;01mNone\u001b[39;00m)\n\u001b[0;32m   3221\u001b[0m \u001b[38;5;28;01mexcept\u001b[39;00m \u001b[38;5;167;01mKeyError\u001b[39;00m \u001b[38;5;28;01mas\u001b[39;00m err:\n\u001b[1;32m-> 3222\u001b[0m     \u001b[38;5;28;01mraise\u001b[39;00m \u001b[38;5;167;01mKeyError\u001b[39;00m(key) \u001b[38;5;28;01mfrom\u001b[39;00m \u001b[38;5;21;01merr\u001b[39;00m\n\u001b[0;32m   3223\u001b[0m \u001b[38;5;28;01mexcept\u001b[39;00m \u001b[38;5;167;01mTypeError\u001b[39;00m:\n\u001b[0;32m   3224\u001b[0m     \u001b[38;5;66;03m# e.g. partial string indexing\u001b[39;00m\n\u001b[0;32m   3225\u001b[0m     \u001b[38;5;66;03m#  test_partial_string_timestamp_multiindex\u001b[39;00m\n\u001b[0;32m   3226\u001b[0m     \u001b[38;5;28;01mpass\u001b[39;00m\n",
      "\u001b[1;31mKeyError\u001b[0m: (np.float64(134.0), np.float64(37.0))"
     ]
    }
   ],
   "source": [
    "df = raw_data.copy()\n",
    "df['volume'] = pd.to_numeric(df['volume'])\n",
    "df['implied_volatility'] = pd.to_numeric(df['implied_volatility'])\n",
    "df['strike'] = pd.to_numeric(df['strike'])\n",
    "df['volume'] = pd.to_numeric(df['volume'])\n",
    "df['expiration'] = pd.to_datetime(df['expiration'],format='%Y-%m-%d')\n",
    "df['date'] = pd.to_datetime(df['date'],format='%Y-%m-%d')\n",
    "df['days_to_maturity'] = df['expiration'] - df['date']\n",
    "df['days_to_maturity'] = df['days_to_maturity'] / np.timedelta64(1, 'D')\n",
    "df['days_to_maturity'] = df['days_to_maturity'].astype('int64')\n",
    "df = df[(df['days_to_maturity']>=30)&(df['days_to_maturity']<=400)]\n",
    "df = df[df['volume']>0].copy()\n",
    "df['spot_price'] = spot\n",
    "df['moneyness'] = ms.vmoneyness(df['spot_price'],df['strike'],df['type'])\n",
    "df = df[(df['moneyness']<0)&(df['moneyness']>-0.5)]\n",
    "indexed = df.copy().set_index(['strike','days_to_maturity'])\n",
    "\n",
    "T = np.sort(df['days_to_maturity'].unique()).tolist()\n",
    "K = np.sort(df['strike'].unique()).tolist()\n",
    "volume_heatmap = pd.DataFrame(\n",
    "    np.full((len(K), len(T)), np.nan), index=K, columns=T)\n",
    "for k in K:\n",
    "    for t in T:\n",
    "        try:\n",
    "            volume_heatmap.loc[k,t] = indexed.loc[(k,t),'volume']\n",
    "        except Exception:\n",
    "            pass\n",
    "        \n",
    "        \n",
    "hottest_contracts = pd.DataFrame(\n",
    "    volume_heatmap.unstack().sort_values(\n",
    "        ascending=False)).head(50).reset_index()\n",
    "hottest_contracts.columns = ['t','k','volume']\n",
    "T = np.sort(hottest_contracts['t'].unique()).tolist()\n",
    "K = np.sort(hottest_contracts['k'].unique()).tolist()\n",
    "\n",
    "vol_matrix = pd.DataFrame(\n",
    "    np.full((len(K),len(T)),np.nan),\n",
    "    index = K,\n",
    "    columns = T\n",
    ")\n",
    "for k in K:\n",
    "    for t in T:\n",
    "        try:\n",
    "            vol_matrix.loc[k,t] = indexed.loc[(k,float(t)),'implied_volatility']\n",
    "        except Exception:\n",
    "            pass\n",
    "\n",
    "vol_matrix = vol_matrix.dropna().copy()\n",
    "T = vol_matrix.columns.tolist()\n",
    "K = vol_matrix.index.tolist()\n",
    "\n",
    "cols_to_map = [\n",
    "        'contractID', 'symbol', 'expiration', 'type', 'last', 'mark',\n",
    "        'bid', 'bid_size', 'ask', 'ask_size', 'volume', 'open_interest', 'date',\n",
    "        'implied_volatility', 'delta', 'gamma', 'theta', 'vega', 'rho',\n",
    "        'spot_price', 'moneyness'\n",
    "]\n",
    "for col in cols_to_map:\n",
    "    for i,row in hottest_contracts.iterrows():\n",
    "        hottest_contracts.at[i,col] = indexed.loc[(row['k'],row['t']),col]\n",
    "        \n",
    "hottest_contracts = hottest_contracts.rename(\n",
    "    columns={'t':'days_to_maturity','k':'strike_price'}).copy()"
   ]
  },
  {
   "cell_type": "code",
   "execution_count": null,
   "id": "0e2136c0-27a6-43d8-ba09-7310b8807500",
   "metadata": {},
   "outputs": [],
   "source": [
    "s = float(df['spot_price'].unique()[0])\n",
    "print(f\"\\n{symbol} spot price: {s}\")\n",
    "plot_vol_surface(vol_matrix)\n",
    "vol_matrix"
   ]
  },
  {
   "cell_type": "markdown",
   "id": "ecb08af0-6ff4-43b1-ad94-8b7be89693a8",
   "metadata": {},
   "source": [
    "## calibrating a Heston (1993) model"
   ]
  },
  {
   "cell_type": "code",
   "execution_count": null,
   "id": "f3140868-c6a4-4e37-9467-1ec64336051d",
   "metadata": {},
   "outputs": [],
   "source": [
    "vol_matrix = vol_matrix.sort_index().drop_duplicates()\n",
    "pd.to_numeric(raw_data['last'])\n",
    "raw_data['date'] = pd.to_datetime(raw_data['date'])\n",
    "raw_data['expiration'] = pd.to_datetime(raw_data['expiration'])\n",
    "raw_data['implied_volatility'] = pd.to_numeric(raw_data['implied_volatility']).astype(float)\n",
    "raw_data['strike'] = pd.to_numeric(raw_data['strike'])\n",
    "raw_data['last'] = pd.to_numeric(raw_data['last'])\n",
    "contract_maturities = np.array((raw_data['expiration'] - raw_data['date']) / timedelta(days=1)).astype(int)\n",
    "raw_data['days_to_maturity'] = contract_maturities\n",
    "\n",
    "T = vol_matrix.columns.tolist()\n",
    "K = vol_matrix.index.tolist()\n",
    "r = 0.04\n",
    "g = 0.0\n",
    "\n",
    "ql.Settings.instance().evaluationDate = calculation_date\n",
    "flat_ts, dividend_ts = ms.ql_ts_rg(r, g, calculation_date)\n",
    "S_handle = ql.QuoteHandle(ql.SimpleQuote(s))\n",
    "\n",
    "heston_helpers = []\n",
    "v0 = 0.01; kappa = 0.2; theta = 0.02; rho = -0.75; eta = 0.5;\n",
    "process = ql.HestonProcess(\n",
    "    flat_ts,\n",
    "    dividend_ts,\n",
    "    S_handle,\n",
    "    v0,                # Initial volatility\n",
    "    kappa,             # Mean reversion speed\n",
    "    theta,             # Long-run variance (volatility squared)\n",
    "    eta,               # Volatility of the volatility\n",
    "    rho                # Correlation between asset and volatility\n",
    ")\n",
    "model = ql.HestonModel(process)\n",
    "engine = ql.AnalyticHestonEngine(model)\n",
    "\n",
    "for t in T:\n",
    "    for k in K:\n",
    "        p = ql.Period(int(t),ql.Days)\n",
    "        volatility = vol_matrix.loc[k,t]\n",
    "        helper = ql.HestonModelHelper(\n",
    "            p, ms.calendar, float(s), k, \n",
    "            ql.QuoteHandle(ql.SimpleQuote(volatility)), \n",
    "            flat_ts, \n",
    "            dividend_ts\n",
    "            )\n",
    "        helper.setPricingEngine(engine)\n",
    "        heston_helpers.append(helper)\n",
    "\n",
    "lm = ql.LevenbergMarquardt(1e-8, 1e-8, 1e-8)\n",
    "\n",
    "\n",
    "model.calibrate(heston_helpers, lm,\n",
    "                  ql.EndCriteria(1000, 50, 1.0e-8,1.0e-8, 1.0e-8))\n",
    "\n",
    "theta, kappa, eta, rho, v0 = model.params()\n",
    "heston_parameters = pd.Series(\n",
    "    [theta, kappa, eta, rho, v0],\n",
    "    index = ['theta', 'kappa', 'eta', 'rho', 'v0'],\n",
    "    dtype = float\n",
    ")\n",
    "calibration_test_data = raw_data.copy()[['strike','type','last','implied_volatility','days_to_maturity']]\n",
    "calibration_test_data.columns = ['strike_price','w','market_price','volatility','days_to_maturity']\n",
    "calibration_test_data['spot_price'] = s\n",
    "calibration_test_data['risk_free_rate'] = r\n",
    "calibration_test_data['dividend_rate'] = g\n",
    "calibration_test_data = calibration_test_data[calibration_test_data['days_to_maturity'].isin(df['days_to_maturity'])]\n",
    "calibration_test_data[heston_parameters.index.tolist()] = np.tile(heston_parameters,(calibration_test_data.shape[0],1))\n",
    "calibration_test_data.loc[:,'moneyness'] = ms.vmoneyness(\n",
    "    calibration_test_data['spot_price'].values,\n",
    "    calibration_test_data['strike_price'].values,\n",
    "    calibration_test_data['w'].values)\n",
    "calibration_test_data['calculation_date'] = calculation_datetime\n",
    "calibration_test_data['black_scholes'] = ms.vector_black_scholes(calibration_test_data)\n",
    "calibration_test_data['heston_price'] = ms.vector_heston_price(calibration_test_data)"
   ]
  },
  {
   "cell_type": "markdown",
   "id": "cbf0d324-7a28-4fac-a20d-d5368d953bea",
   "metadata": {},
   "source": [
    "## testing calibration accuracy"
   ]
  },
  {
   "cell_type": "code",
   "execution_count": null,
   "id": "53485c4c-00bc-4f3e-b034-aecf29fbc374",
   "metadata": {},
   "outputs": [],
   "source": [
    "calibration_test_data.loc[:,'error'] = calibration_test_data['heston_price'].values - calibration_test_data['black_scholes'].values\n",
    "avg = np.mean(np.abs(calibration_test_data['error']))\n",
    "print(f\"\\n{printdate}\\n{heston_parameters}\\naverage absolute error: {round(avg,3)}\")\n",
    "print(f\"calibration testing dataset:\\n{calibration_test_data.describe()}\")"
   ]
  },
  {
   "cell_type": "markdown",
   "id": "25fa0600-e383-4caa-bd34-8d8cb5a3d4aa",
   "metadata": {},
   "source": [
    "# train data generation"
   ]
  },
  {
   "cell_type": "raw",
   "id": "8a26e9b2-789a-4d13-b950-2820ce6856b1",
   "metadata": {},
   "source": [
    "now that we have calibrated our pricing engine, let us proceed with generating \n",
    "all real down barrier option contract combinations for this trading day\n",
    "(i.e., all barriers less than underlying spot price)"
   ]
  },
  {
   "cell_type": "code",
   "execution_count": null,
   "id": "c984e090-f08d-44d9-be00-040d8f31d657",
   "metadata": {},
   "outputs": [],
   "source": [
    "strike_spread = 0.2\n",
    "strike_step = 5\n",
    "K = np.arange(\n",
    "    int(s*(1-strike_spread)),\n",
    "    int(s*(1+strike_spread)),\n",
    "    strike_step\n",
    ").astype(int).tolist()\n",
    "\n",
    "barrier_step = 10\n",
    "down_barriers =  np.arange(\n",
    "    s*0.5,\n",
    "    s*0.99,\n",
    "    barrier_step\n",
    ").astype(int).tolist()\n",
    "\n",
    "T = [\n",
    "    30,60,90,\n",
    "    180,360,540,720\n",
    "]\n",
    "print(f\"\\n{symbol} spot price:\\n     {spot}\\n\\nstrikes:\\n     {K}\\n\\nbarriers:\\n     {down_barriers}\\n\\nmaturities:\\n     {T}\\n\")"
   ]
  },
  {
   "cell_type": "code",
   "execution_count": null,
   "id": "a681f397-bfd6-40fc-8004-3920f36782ce",
   "metadata": {},
   "outputs": [],
   "source": [
    "print('generating contracts...')\n",
    "features = pd.DataFrame(\n",
    "    product(\n",
    "        [spot],\n",
    "        K,\n",
    "        T,\n",
    "        down_barriers,\n",
    "        [0.0], # rebate\n",
    "        ['put','call'],\n",
    "        [0.04], # risk-free rate\n",
    "        [0.0], # dividend rate\n",
    "        [theta], \n",
    "        [kappa], \n",
    "        [eta], \n",
    "        [rho], \n",
    "        [v0],\n",
    "        [calculation_datetime],\n",
    "        ['Out','In']\n",
    "    ),\n",
    "    columns = [\n",
    "        'spot_price',\n",
    "        'strike_price',\n",
    "        'days_to_maturity',\n",
    "        'barrier',\n",
    "        'rebate',\n",
    "        'w',\n",
    "        'risk_free_rate',\n",
    "        'dividend_rate',\n",
    "        'theta', 'kappa', 'eta', 'rho', 'v0',\n",
    "        'calculation_date',\n",
    "        'outin',\n",
    "    ]\n",
    ")\n",
    "features['moneyness'] = ms.vmoneyness(features['spot_price'],features['strike_price'],features['w'])\n",
    "features['barrier_type_name'] = 'Down' + features['outin']\n",
    "print('contracts generated')\n",
    "print(f'pricing {features.shape[0]} contracts...')\n",
    "features['vanilla_price'] = ms.vector_heston_price(features)\n",
    "features['barrier_price'] = ms.vector_barrier_price(features)\n",
    "featuresby_t = features.copy().set_index('days_to_maturity')\n",
    "print('priced!')"
   ]
  },
  {
   "cell_type": "code",
   "execution_count": null,
   "id": "ace577a8-e4ef-4942-8a7c-d41797012d96",
   "metadata": {},
   "outputs": [],
   "source": [
    "for t in T:\n",
    "    plt.figure(figsize=(3, 2), dpi=150)\n",
    "    prices= featuresby_t.loc[t,'barrier_price']\n",
    "    plt.hist(prices,bins=int(np.sqrt(prices.shape[0])))\n",
    "    plt.tick_params(axis='both', which='major', length=1, width=1/3)  # Thinner tick marks\n",
    "    plt.title(f'{t} day maturity', fontsize=fontsize)\n",
    "    plt.show()\n",
    "    plt.clf()"
   ]
  },
  {
   "cell_type": "markdown",
   "id": "57a1b88a-f65a-4a2b-8e36-c1e4987f47d0",
   "metadata": {},
   "source": [
    "# model training"
   ]
  },
  {
   "cell_type": "raw",
   "id": "9aa3a5db-db54-4f48-97a2-05021d4c8093",
   "metadata": {},
   "source": [
    "now that we have a dataset, we can for example, test whether our model is able to predict \n",
    "the prices of our two year barrier options while only having seen the others in training"
   ]
  },
  {
   "cell_type": "code",
   "execution_count": null,
   "id": "bafe363f-5c13-445a-be3b-3d2c0fe80096",
   "metadata": {
    "scrolled": true
   },
   "outputs": [],
   "source": [
    "import convsklearn\n",
    "help(convsklearn)"
   ]
  },
  {
   "cell_type": "code",
   "execution_count": null,
   "id": "638ec416-3c1b-46f7-b914-0c34d88cbc11",
   "metadata": {
    "scrolled": true
   },
   "outputs": [],
   "source": [
    "help(convsklearn.convsklearn)"
   ]
  },
  {
   "cell_type": "code",
   "execution_count": null,
   "id": "ccc5e96f-787e-4924-8369-009681ebd309",
   "metadata": {},
   "outputs": [],
   "source": [
    "from convsklearn import target_name, numerical_features, categorical_features, transformers, target_transformer_pipeline"
   ]
  },
  {
   "cell_type": "code",
   "execution_count": null,
   "id": "d4d5a5cf-98e6-4260-8083-8ce94a4bcadb",
   "metadata": {},
   "outputs": [],
   "source": [
    "barrier_trainer = convsklearn.convsklearn(\n",
    "    target_name=target_name, \n",
    "    numerical_features=numerical_features, \n",
    "    categorical_features=categorical_features, \n",
    "    transformers=transformers, \n",
    "    target_transformer_pipeline=target_transformer_pipeline, \n",
    "    max_iter=1000\n",
    ")"
   ]
  },
  {
   "cell_type": "code",
   "execution_count": null,
   "id": "d0f43683-f6d4-445c-a195-8f3bc4d94407",
   "metadata": {
    "scrolled": true
   },
   "outputs": [],
   "source": [
    "features['observed_price'] = ms.noisyfier(features.loc[:,'barrier_price']) \n",
    "    # apply slight peturbation in the form of a random normal with standard deviation 0.15\n",
    "train_data = features[features['days_to_maturity']!=720]\n",
    "test_data = features[features['days_to_maturity']==720]\n",
    "print(f\"train data count: {train_data.shape[0]}\")\n",
    "print(f\"test data count: {test_data.shape[0]}\")\n",
    "arrs = barrier_trainer.get_train_test_arrays(train_data,test_data)\n",
    "train_X = arrs['train_X']\n",
    "train_y = arrs['train_y']\n",
    "test_X = arrs['test_X']\n",
    "test_y = arrs['train_y']\n",
    "preprocessor = barrier_trainer.preprocess()\n",
    "dnn_barriers, runtime, specs = barrier_trainer.run_dnn(preprocessor, train_X, train_y)\n",
    "in_sample, out_of_sample, errors = barrier_trainer.test_prediction_accuracy(dnn_barriers, test_data, train_data)\n",
    "outsample = out_of_sample.rename(\n",
    "    columns = {\n",
    "        'strike_price':'k',\n",
    "        'days_to_maturity':'t',\n",
    "        'barrier_type_name':'type',\n",
    "        'barrier_price':'price',\n",
    "        'vanilla_price':'vanilla',\n",
    "        'spot_price':'spot',\n",
    "        'outofsample_target':'target', \n",
    "        'outofsample_prediction':'dnn', \n",
    "        'outofsample_error' : 'error',\n",
    "        'barrier':'b'\n",
    "        }\n",
    ")\n",
    "outsample = outsample[[\n",
    "    'spot', 'k', 'b','price', 'vanilla', 'type', 'w','t', \n",
    "    'target', 'dnn', 'error'\n",
    "]]\n",
    "pd.set_option(\"display.float_format\", \"{:.2f}\".format)\n",
    "pd.set_option(\"display.max_rows\",None)\n",
    "print(f\"\\n{outsample.describe()}\")\n",
    "outsample_preview = outsample.copy().sort_values(by=['w','type','k','b'],ascending=False).reset_index(drop=True)\n",
    "print(f\"\\n{symbol} down barrier options for {notebook_printdate}\")\n",
    "print(f\"\\n{outsample_preview}\")\n",
    "pd.reset_option(\"display.max_rows\")\n",
    "pd.reset_option(\"display.float_format\") "
   ]
  }
 ],
 "metadata": {
  "kernelspec": {
   "display_name": "Python 3 (ipykernel)",
   "language": "python",
   "name": "python3"
  },
  "language_info": {
   "codemirror_mode": {
    "name": "ipython",
    "version": 3
   },
   "file_extension": ".py",
   "mimetype": "text/x-python",
   "name": "python",
   "nbconvert_exporter": "python",
   "pygments_lexer": "ipython3",
   "version": "3.12.7"
  }
 },
 "nbformat": 4,
 "nbformat_minor": 5
}
