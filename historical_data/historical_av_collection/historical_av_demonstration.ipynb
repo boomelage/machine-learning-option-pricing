{
 "cells": [
  {
   "cell_type": "code",
   "execution_count": 1,
   "id": "c0249a65-f367-427b-9931-d83520606172",
   "metadata": {},
   "outputs": [
    {
     "name": "stdout",
     "output_type": "stream",
     "text": [
      "\n",
      "pricing settings:\n",
      "Actual/365 (Fixed) day counter\n",
      "New York stock exchange calendar\n",
      "compounding: continuous\n",
      "frequency: annual\n",
      "\n",
      "                            contract_key               raw_data_key  \\\n",
      "0     /date_2024_10_11/hottest_contracts  /date_2024_10_11/raw_data   \n",
      "1     /date_2024_10_10/hottest_contracts  /date_2024_10_10/raw_data   \n",
      "2     /date_2024_10_09/hottest_contracts  /date_2024_10_09/raw_data   \n",
      "3     /date_2024_10_08/hottest_contracts  /date_2024_10_08/raw_data   \n",
      "4     /date_2024_10_07/hottest_contracts  /date_2024_10_07/raw_data   \n",
      "...                                  ...                        ...   \n",
      "1078  /date_2020_06_30/hottest_contracts  /date_2020_06_30/raw_data   \n",
      "1079  /date_2020_06_29/hottest_contracts  /date_2020_06_29/raw_data   \n",
      "1080  /date_2020_06_26/hottest_contracts  /date_2020_06_26/raw_data   \n",
      "1081  /date_2020_06_25/hottest_contracts  /date_2020_06_25/raw_data   \n",
      "1082  /date_2020_06_24/hottest_contracts  /date_2020_06_24/raw_data   \n",
      "\n",
      "                   surface_key               calibration_key  \\\n",
      "0     /date_2024_10_11/surface  /date_2024_10_11/calibration   \n",
      "1     /date_2024_10_10/surface  /date_2024_10_10/calibration   \n",
      "2     /date_2024_10_09/surface  /date_2024_10_09/calibration   \n",
      "3     /date_2024_10_08/surface  /date_2024_10_08/calibration   \n",
      "4     /date_2024_10_07/surface  /date_2024_10_07/calibration   \n",
      "...                        ...                           ...   \n",
      "1078  /date_2020_06_30/surface                           NaN   \n",
      "1079  /date_2020_06_29/surface                           NaN   \n",
      "1080  /date_2020_06_26/surface                           NaN   \n",
      "1081  /date_2020_06_25/surface                           NaN   \n",
      "1082  /date_2020_06_24/surface                           NaN   \n",
      "\n",
      "     priced_securities_key       date  \n",
      "0                      NaN 2024-10-11  \n",
      "1                      NaN 2024-10-10  \n",
      "2                      NaN 2024-10-09  \n",
      "3                      NaN 2024-10-08  \n",
      "4                      NaN 2024-10-07  \n",
      "...                    ...        ...  \n",
      "1078                   NaN 2020-06-30  \n",
      "1079                   NaN 2020-06-29  \n",
      "1080                   NaN 2020-06-26  \n",
      "1081                   NaN 2020-06-25  \n",
      "1082                   NaN 2020-06-24  \n",
      "\n",
      "[1083 rows x 6 columns]\n",
      "2020-06-23    312.0500\n",
      "2020-06-22    310.6200\n",
      "2020-06-19    308.6400\n",
      "2020-06-18    311.7800\n",
      "2020-06-17    311.6600\n",
      "                ...   \n",
      "1999-11-05    137.8750\n",
      "1999-11-04    136.5312\n",
      "1999-11-03    135.5000\n",
      "1999-11-02    134.5937\n",
      "1999-11-01    135.5625\n",
      "Name: 4. close, Length: 5194, dtype: float64\n"
     ]
    }
   ],
   "source": [
    "import os\n",
    "import sys\n",
    "import pandas as pd\n",
    "from pathlib import Path\n",
    "from datetime import datetime\n",
    "from model_settings import ms\n",
    "notebook_dir = str(Path().resolve())\n",
    "\n",
    "from historical_av_underlying_fetcher import spots, symbol"
   ]
  },
  {
   "cell_type": "code",
   "execution_count": 2,
   "id": "e7222664-a621-49f7-bd1e-cd5176a63039",
   "metadata": {},
   "outputs": [
    {
     "name": "stdout",
     "output_type": "stream",
     "text": [
      "2020-06-23\n",
      "2020-06-22\n",
      "2020-06-19\n"
     ]
    }
   ],
   "source": [
    "dates = spots.index\n",
    "dates = dates[:3]\n",
    "for date in dates:\n",
    "    print(date)"
   ]
  },
  {
   "cell_type": "code",
   "execution_count": 3,
   "id": "e37d59ed-3039-4363-8b6d-713160c31ae4",
   "metadata": {},
   "outputs": [
    {
     "name": "stdout",
     "output_type": "stream",
     "text": [
      "error for Tuesday, 2020-06-23:\n",
      "\"None of [Index(['strike', 'last', 'mark', 'bid', 'bid_size', 'ask', 'ask_size',\\n       'volume', 'open_interest', 'implied_volatility', 'delta', 'gamma',\\n       'theta', 'vega', 'rho'],\\n      dtype='object')] are in the [columns]\"\n",
      "retrying in ...\n",
      "2\n",
      "1\n",
      "error for Tuesday, 2020-06-23:\n",
      "\"None of [Index(['strike', 'last', 'mark', 'bid', 'bid_size', 'ask', 'ask_size',\\n       'volume', 'open_interest', 'implied_volatility', 'delta', 'gamma',\\n       'theta', 'vega', 'rho'],\\n      dtype='object')] are in the [columns]\"\n",
      "retrying in ...\n",
      "2\n",
      "1\n",
      "proceeding...\n"
     ]
    },
    {
     "name": "stderr",
     "output_type": "stream",
     "text": [
      "E:\\git\\machine-learning-option-pricing\\historical_data\\historical_av_collection\\historical_alphaVantage_collection.py:64: PerformanceWarning: indexing past lexsort depth may impact performance.\n",
      "  volume_heatmap.loc[k,t] = indexed.loc[(k,t),'volume']\n",
      "E:\\git\\machine-learning-option-pricing\\historical_data\\historical_av_collection\\historical_alphaVantage_collection.py:84: PerformanceWarning: indexing past lexsort depth may impact performance.\n",
      "  vol_matrix.loc[k,t] = indexed.loc[(k,float(t)),'implied_volatility']\n",
      "E:\\git\\machine-learning-option-pricing\\historical_data\\historical_av_collection\\historical_alphaVantage_collection.py:100: PerformanceWarning: indexing past lexsort depth may impact performance.\n",
      "  hottest_contracts.at[i,col] = indexed.loc[(row['k'],row['t']),col]\n"
     ]
    },
    {
     "name": "stdout",
     "output_type": "stream",
     "text": [
      "error for Monday, 2020-06-22:\n",
      "(np.float64(160.0), np.float64(30.0))\n",
      "retrying in ...\n",
      "2\n",
      "1\n"
     ]
    },
    {
     "name": "stderr",
     "output_type": "stream",
     "text": [
      "E:\\git\\machine-learning-option-pricing\\historical_data\\historical_av_collection\\historical_alphaVantage_collection.py:64: PerformanceWarning: indexing past lexsort depth may impact performance.\n",
      "  volume_heatmap.loc[k,t] = indexed.loc[(k,t),'volume']\n",
      "E:\\git\\machine-learning-option-pricing\\historical_data\\historical_av_collection\\historical_alphaVantage_collection.py:84: PerformanceWarning: indexing past lexsort depth may impact performance.\n",
      "  vol_matrix.loc[k,t] = indexed.loc[(k,float(t)),'implied_volatility']\n",
      "E:\\git\\machine-learning-option-pricing\\historical_data\\historical_av_collection\\historical_alphaVantage_collection.py:100: PerformanceWarning: indexing past lexsort depth may impact performance.\n",
      "  hottest_contracts.at[i,col] = indexed.loc[(row['k'],row['t']),col]\n"
     ]
    },
    {
     "name": "stdout",
     "output_type": "stream",
     "text": [
      "error for Monday, 2020-06-22:\n",
      "(np.float64(160.0), np.float64(30.0))\n",
      "retrying in ...\n",
      "2\n",
      "1\n",
      "proceeding...\n"
     ]
    }
   ],
   "source": [
    "from historical_alphaVantage_collection import collect_av_link\n",
    "chain = {}\n",
    "for date in dates:\n",
    "    spot = float(spots[date])\n",
    "    link = collect_av_link(date)\n",
    "    printdate = datetime.strptime(date, '%Y-%m-%d').strftime('%A, %Y-%m-%d')\n",
    "    chain[date] = link"
   ]
  },
  {
   "cell_type": "code",
   "execution_count": 4,
   "id": "f459e6ae-1f16-48e8-a330-ef7efcf503b0",
   "metadata": {},
   "outputs": [
    {
     "name": "stdout",
     "output_type": "stream",
     "text": [
      "<class 'dict'>\n",
      "2020-06-23\n",
      "2020-06-22\n",
      "2020-06-19\n"
     ]
    }
   ],
   "source": [
    "print(type(chain))\n",
    "for key in chain.keys():\n",
    "    print(key)"
   ]
  },
  {
   "cell_type": "code",
   "execution_count": 5,
   "id": "723716f2-13a2-4531-8e4a-1f2b00ae21c1",
   "metadata": {},
   "outputs": [
    {
     "ename": "TypeError",
     "evalue": "'NoneType' object is not subscriptable",
     "output_type": "error",
     "traceback": [
      "\u001b[1;31m---------------------------------------------------------------------------\u001b[0m",
      "\u001b[1;31mTypeError\u001b[0m                                 Traceback (most recent call last)",
      "Cell \u001b[1;32mIn[5], line 3\u001b[0m\n\u001b[0;32m      1\u001b[0m contracts \u001b[38;5;241m=\u001b[39m []\n\u001b[0;32m      2\u001b[0m \u001b[38;5;28;01mfor\u001b[39;00m key,link \u001b[38;5;129;01min\u001b[39;00m chain\u001b[38;5;241m.\u001b[39mitems():\n\u001b[1;32m----> 3\u001b[0m     contracts\u001b[38;5;241m.\u001b[39mappend(\u001b[43mlink\u001b[49m\u001b[43m[\u001b[49m\u001b[38;5;124;43m'\u001b[39;49m\u001b[38;5;124;43mraw_data\u001b[39;49m\u001b[38;5;124;43m'\u001b[39;49m\u001b[43m]\u001b[49m)\n\u001b[0;32m      4\u001b[0m contracts \u001b[38;5;241m=\u001b[39m pd\u001b[38;5;241m.\u001b[39mconcat(contracts,ignore_index\u001b[38;5;241m=\u001b[39m\u001b[38;5;28;01mTrue\u001b[39;00m)\n\u001b[0;32m      5\u001b[0m contracts\n",
      "\u001b[1;31mTypeError\u001b[0m: 'NoneType' object is not subscriptable"
     ]
    }
   ],
   "source": [
    "contracts = []\n",
    "for key,link in chain.items():\n",
    "    contracts.append(link['raw_data'])\n",
    "contracts = pd.concat(contracts,ignore_index=True)\n",
    "contracts"
   ]
  },
  {
   "cell_type": "code",
   "execution_count": null,
   "id": "2ced6e4f-5935-4994-b2ee-ef9760ba1050",
   "metadata": {},
   "outputs": [],
   "source": [
    "from historical_av_plot_vol_surface import plot_vol_surface\n",
    "for key,link in chain.items():\n",
    "    plot_vol_surface(link['surface'])"
   ]
  },
  {
   "cell_type": "code",
   "execution_count": null,
   "id": "f3140868-c6a4-4e37-9467-1ec64336051d",
   "metadata": {},
   "outputs": [],
   "source": []
  },
  {
   "cell_type": "code",
   "execution_count": null,
   "id": "93a01eae-d4b8-4ff1-9f6e-377ee6d6f870",
   "metadata": {},
   "outputs": [],
   "source": []
  }
 ],
 "metadata": {
  "kernelspec": {
   "display_name": "Python 3 (ipykernel)",
   "language": "python",
   "name": "python3"
  },
  "language_info": {
   "codemirror_mode": {
    "name": "ipython",
    "version": 3
   },
   "file_extension": ".py",
   "mimetype": "text/x-python",
   "name": "python",
   "nbconvert_exporter": "python",
   "pygments_lexer": "ipython3",
   "version": "3.12.7"
  }
 },
 "nbformat": 4,
 "nbformat_minor": 5
}
