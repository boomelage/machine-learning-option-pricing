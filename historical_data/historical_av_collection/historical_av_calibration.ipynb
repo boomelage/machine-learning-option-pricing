{
 "cells": [
  {
   "cell_type": "code",
   "execution_count": null,
   "id": "18468afc-ec8f-4901-b7b8-ffb63dca4e95",
   "metadata": {},
   "outputs": [],
   "source": [
    "from pathlib import Path\n",
    "from model_settings import ms\n",
    "import pandas as pd\n",
    "import sys\n",
    "import os\n",
    "import numpy as np\n",
    "from model_settings import ms\n",
    "import numpy as np\n",
    "import matplotlib.pyplot as plt\n",
    "from matplotlib import cm\n",
    "import matplotlib.dates as mdates\n",
    "from datetime import datetime\n",
    "from datetime import timedelta\n",
    "import QuantLib as ql\n",
    "from itertools import product"
   ]
  },
  {
   "cell_type": "code",
   "execution_count": null,
   "id": "73fd2f6a-7f89-4f2d-aa24-688910cd2853",
   "metadata": {},
   "outputs": [],
   "source": [
    "os.chdir(str(Path().resolve()))"
   ]
  },
  {
   "cell_type": "code",
   "execution_count": null,
   "id": "4e560719-f15f-4ea2-bc59-648d6f464ecc",
   "metadata": {},
   "outputs": [],
   "source": [
    "store = pd.HDFStore(r'alphaVantage Vanillas.h5')\n",
    "keys = store.keys()\n",
    "store.close()\n",
    "len(keys)"
   ]
  },
  {
   "cell_type": "code",
   "execution_count": null,
   "id": "351a4c0b-2106-4b11-8ccb-80f6786398a3",
   "metadata": {},
   "outputs": [],
   "source": [
    "contract_keys = [key for key in keys if key.find('hottest_contracts')!= -1]\n",
    "len(contract_keys)"
   ]
  },
  {
   "cell_type": "code",
   "execution_count": null,
   "id": "bf02d1af-44f8-4bb4-9bba-1e694a95eb8b",
   "metadata": {},
   "outputs": [],
   "source": [
    "surface_keys = [key for key in keys if key.find('surface')!= -1]\n",
    "len(surface_keys)"
   ]
  },
  {
   "cell_type": "code",
   "execution_count": null,
   "id": "9f61b16a-b383-4a61-880e-17a2af72b0d5",
   "metadata": {},
   "outputs": [],
   "source": [
    "raw_data_keys = [key for key in keys if key.find('raw_data')!=-1]\n",
    "len(raw_data_keys)"
   ]
  },
  {
   "cell_type": "markdown",
   "id": "66865e3d-a977-4818-8cb8-189b1d14e934",
   "metadata": {},
   "source": [
    "# Routine Start"
   ]
  },
  {
   "cell_type": "code",
   "execution_count": null,
   "id": "bb65c81f-b59d-470c-967b-dc14bfa3801c",
   "metadata": {},
   "outputs": [],
   "source": [
    "store.close()"
   ]
  },
  {
   "cell_type": "code",
   "execution_count": null,
   "id": "6f39913f-047e-43b8-881a-93b7914a0e05",
   "metadata": {},
   "outputs": [],
   "source": [
    "surface_key = surface_keys[2]\n",
    "surface_key"
   ]
  },
  {
   "cell_type": "markdown",
   "id": "7c5ef1fc-5f22-4c0d-b290-8c61322df4d7",
   "metadata": {},
   "source": [
    "## loop start"
   ]
  },
  {
   "cell_type": "code",
   "execution_count": null,
   "id": "06de30c5-b219-4fc3-b57e-12e2a620333f",
   "metadata": {},
   "outputs": [],
   "source": [
    "second_backslash_pos = surface_key.find('/', 1)\n",
    "date_key_component = surface_key[:second_backslash_pos+1]\n",
    "date_key_component"
   ]
  },
  {
   "cell_type": "code",
   "execution_count": null,
   "id": "bde823f9-51b9-4153-b21a-c1502e4aefec",
   "metadata": {},
   "outputs": [],
   "source": [
    "accomp = [key for key in contract_keys if f'{date_key_component}hottest_contracts' in contract_keys][0]\n",
    "accomp"
   ]
  },
  {
   "cell_type": "code",
   "execution_count": null,
   "id": "1843aad3-495c-4e4c-8e15-f3110b3831f4",
   "metadata": {},
   "outputs": [],
   "source": [
    "raw_data_key = [key for key in raw_data_keys if f'{date_key_component}raw_data' in raw_data_keys][0]\n",
    "raw_data_key"
   ]
  },
  {
   "cell_type": "code",
   "execution_count": null,
   "id": "97d34149-36a9-4259-acbf-964fd10457a6",
   "metadata": {},
   "outputs": [],
   "source": [
    "date_string = date_key_component[date_key_component.find('_',0)+1:date_key_component.find('_',0)+11]\n",
    "date_string"
   ]
  },
  {
   "cell_type": "code",
   "execution_count": null,
   "id": "0ba01ab6-cecd-4f9b-8efc-f32f14a701ee",
   "metadata": {},
   "outputs": [],
   "source": [
    "calculation_datetime = datetime.strptime(date_string,'%Y_%m_%d')\n",
    "calculation_datetime"
   ]
  },
  {
   "cell_type": "code",
   "execution_count": null,
   "id": "7be4c56e-3b2f-4739-b741-e90f5a034b94",
   "metadata": {},
   "outputs": [],
   "source": [
    "\"\"\"\n",
    "HDF5 collection\n",
    "\"\"\"\n",
    "while True:\n",
    "    try:\n",
    "        store.open()\n",
    "        raw_data = pd.DataFrame(store[raw_data_key])\n",
    "        contracts = pd.DataFrame(store[accomp])\n",
    "        vol_matrix = pd.DataFrame(store[surface_key])\n",
    "        break\n",
    "    except OSError:\n",
    "        print(OSError)\n",
    "        print('retrying in')\n",
    "        for i in range (0,5):\n",
    "            print(5-i)\n",
    "    finally:\n",
    "        store.close()"
   ]
  },
  {
   "cell_type": "code",
   "execution_count": null,
   "id": "b376ebc9-d474-421e-a7a2-f747e5231537",
   "metadata": {},
   "outputs": [],
   "source": [
    "pd.to_numeric(raw_data['last'])\n",
    "raw_data['date'] = pd.to_datetime(raw_data['date'])\n",
    "raw_data['expiration'] = pd.to_datetime(raw_data['expiration'])\n",
    "raw_data['implied_volatility'] = pd.to_numeric(raw_data['implied_volatility'])\n",
    "raw_data['strike'] = pd.to_numeric(raw_data['strike'])\n",
    "raw_data['last'] = pd.to_numeric(raw_data['last'])\n",
    "raw_data.dtypes"
   ]
  },
  {
   "cell_type": "code",
   "execution_count": null,
   "id": "7fbd63bf-389d-446f-ad26-a0b8b3ffde8e",
   "metadata": {},
   "outputs": [],
   "source": [
    "contract_maturities = np.array((raw_data['expiration'] - raw_data['date']) / timedelta(days=1)).astype(int)\n",
    "raw_data['days_to_maturity'] = contract_maturities"
   ]
  },
  {
   "cell_type": "code",
   "execution_count": null,
   "id": "e0929c02-6d22-46bf-8471-28159a7b4324",
   "metadata": {},
   "outputs": [],
   "source": [
    "vol_matrix"
   ]
  },
  {
   "cell_type": "code",
   "execution_count": null,
   "id": "2c5e7e92-9b9b-4ad3-9ce6-4af23573a8c8",
   "metadata": {},
   "outputs": [],
   "source": [
    "contracts.iloc[:5,:]"
   ]
  },
  {
   "cell_type": "code",
   "execution_count": null,
   "id": "27586583-eff2-4f0f-93e0-067a7a0299ae",
   "metadata": {},
   "outputs": [],
   "source": [
    "store.close()"
   ]
  },
  {
   "cell_type": "code",
   "execution_count": null,
   "id": "82f08285-7363-4546-9c6c-46d317d6beef",
   "metadata": {},
   "outputs": [],
   "source": [
    "contracts['spot_price'].unique()"
   ]
  },
  {
   "cell_type": "code",
   "execution_count": null,
   "id": "b2e0450b-54f5-4ec9-92cb-c62a11fc14d1",
   "metadata": {},
   "outputs": [],
   "source": [
    "spot = float(contracts['spot_price'].unique()[0])\n",
    "spot"
   ]
  },
  {
   "cell_type": "code",
   "execution_count": null,
   "id": "0cac3f16-aa9b-47b3-aeac-f85fbf29cd03",
   "metadata": {},
   "outputs": [],
   "source": [
    "T = vol_matrix.columns.tolist()\n",
    "K = vol_matrix.index.tolist()\n",
    "print(f\"\\nmaturitites:\\n     {T}\\nstrikes:\\n     {K}\\n\")"
   ]
  },
  {
   "cell_type": "code",
   "execution_count": null,
   "id": "eb0f3f9a-9276-4577-8531-e995fdcbe723",
   "metadata": {},
   "outputs": [],
   "source": [
    "calculation_date = ql.Date(\n",
    "    calculation_datetime.day,\n",
    "    calculation_datetime.month,\n",
    "    calculation_datetime.year)\n",
    "print(calculation_date)"
   ]
  },
  {
   "cell_type": "code",
   "execution_count": null,
   "id": "80a35d68-f614-49c9-9502-9926a9b2a395",
   "metadata": {},
   "outputs": [],
   "source": [
    "r = 0.04\n",
    "g = 0.018"
   ]
  },
  {
   "cell_type": "code",
   "execution_count": null,
   "id": "792db226-de68-4474-a21a-c61ed6315c0d",
   "metadata": {},
   "outputs": [],
   "source": [
    "s = spot\n",
    "s"
   ]
  },
  {
   "cell_type": "code",
   "execution_count": null,
   "id": "1b221310-1345-43be-9720-df9d47202db3",
   "metadata": {},
   "outputs": [],
   "source": [
    "ql.Settings.instance().evaluationDate = calculation_date\n",
    "flat_ts, dividend_ts = ms.ql_ts_rg(r, g, calculation_date)\n",
    "S_handle = ql.QuoteHandle(ql.SimpleQuote(s))\n",
    "\n",
    "heston_helpers = []\n",
    "v0 = 0.01; kappa = 0.2; theta = 0.02; rho = -0.75; eta = 0.5;\n",
    "process = ql.HestonProcess(\n",
    "    flat_ts,\n",
    "    dividend_ts,\n",
    "    S_handle,\n",
    "    v0,                # Initial volatility\n",
    "    kappa,             # Mean reversion speed\n",
    "    theta,             # Long-run variance (volatility squared)\n",
    "    eta,               # Volatility of the volatility\n",
    "    rho                # Correlation between asset and volatility\n",
    ")\n",
    "model = ql.HestonModel(process)\n",
    "engine = ql.AnalyticHestonEngine(model)\n",
    "\n",
    "for t in T:\n",
    "    for k in K:\n",
    "        p = ql.Period(int(t),ql.Days)\n",
    "        volatility = vol_matrix.loc[k,t]\n",
    "        helper = ql.HestonModelHelper(\n",
    "            p, ms.calendar, float(s), k, \n",
    "            ql.QuoteHandle(ql.SimpleQuote(volatility)), \n",
    "            flat_ts, \n",
    "            dividend_ts\n",
    "            )\n",
    "        helper.setPricingEngine(engine)\n",
    "        heston_helpers.append(helper)\n",
    "\n",
    "lm = ql.LevenbergMarquardt(1e-8, 1e-8, 1e-8)\n",
    "\n",
    "\n",
    "model.calibrate(heston_helpers, lm,\n",
    "                  ql.EndCriteria(1000, 50, 1.0e-8,1.0e-8, 1.0e-8))\n",
    "\n",
    "theta, kappa, eta, rho, v0 = model.params()\n",
    "heston_parameters = pd.Series(\n",
    "    [theta, kappa, eta, rho, v0],\n",
    "    index = ['theta', 'kappa', 'eta', 'rho', 'v0'],\n",
    "    dtype = float\n",
    ")\n",
    "print(heston_parameters)"
   ]
  },
  {
   "cell_type": "markdown",
   "id": "627ebd88-c518-4398-8fc7-1022119fcd09",
   "metadata": {},
   "source": [
    "# Plotting"
   ]
  },
  {
   "cell_type": "code",
   "execution_count": null,
   "id": "e76f9efd-7065-4341-a91e-13768e9c29f7",
   "metadata": {
    "scrolled": true
   },
   "outputs": [],
   "source": [
    "printdate = calculation_datetime.strftime('%A, %Y-%m-%d')\n",
    "KK,TT = np.meshgrid(K,T)\n",
    "VV = np.array(\n",
    "        [[vol_matrix.loc[k,t] for k in K] for t in T]\n",
    "        )\n",
    "fig = plt.figure(figsize=plt.figaspect(0.5))\n",
    "\n",
    "ax1 = fig.add_subplot(1, 2, 1, projection='3d')\n",
    "surf = ax1.plot_surface(KK, TT, VV, rstride=1, cstride=1, cmap=cm.magma, linewidth=0.1)\n",
    "\n",
    "\n",
    "ax1.set_zlim(0, float(max(vol_matrix.values.flatten())))\n",
    "ax1.set_title(f\"volatiltiy surface {printdate}\")\n",
    "ax1.set_xlabel('strike')\n",
    "ax1.set_ylabel('maturity')\n",
    "\n",
    "# Second subplot for wireframe plot\n",
    "ax2 = fig.add_subplot(1, 2, 2, projection='3d')\n",
    "ax2.plot_wireframe(KK, TT, VV, rstride=1, cstride=1,color='black')\n",
    "ax2.set_zlim(0, float(max(vol_matrix.values.flatten())))\n",
    "ax2.set_title('wireframe')\n",
    "ax2.set_xlabel('strike')\n",
    "ax2.set_ylabel('maturity')\n",
    "plt.tight_layout()\n",
    "plt.show()\n",
    "plt.clf()"
   ]
  },
  {
   "cell_type": "markdown",
   "id": "f1ea1656-f762-429d-ba63-44b2f1dcb238",
   "metadata": {},
   "source": [
    "# Testing"
   ]
  },
  {
   "cell_type": "code",
   "execution_count": null,
   "id": "6e85bdde-78f2-4324-b0fd-9a1a411afaad",
   "metadata": {},
   "outputs": [],
   "source": [
    "contracts.iloc[:5,:]"
   ]
  },
  {
   "cell_type": "code",
   "execution_count": null,
   "id": "5db0fdfd-3877-4a40-87c1-9218c2fc599d",
   "metadata": {},
   "outputs": [],
   "source": [
    "calibration_test_data = raw_data.copy()[['strike','type','last','implied_volatility','days_to_maturity']]\n",
    "calibration_test_data.columns = ['strike_price','w','market_price','volatility','days_to_maturity']\n",
    "calibration_test_data['spot_price'] = s\n",
    "calibration_test_data['risk_free_rate'] = r\n",
    "calibration_test_data['dividend_rate'] = g\n",
    "calibration_test_data = calibration_test_data[calibration_test_data['days_to_maturity'].isin(contracts['days_to_maturity'])]\n",
    "calibration_test_data = calibration_test_data[calibration_test_data['days_to_maturity'].isin(contracts['days_to_maturity'])]\n",
    "calibration_test_data.dtypes"
   ]
  },
  {
   "cell_type": "code",
   "execution_count": null,
   "id": "99098323-bd91-4041-959f-50aef8d53b47",
   "metadata": {},
   "outputs": [],
   "source": [
    "calibration_test_data"
   ]
  },
  {
   "cell_type": "code",
   "execution_count": null,
   "id": "ea719f86-2a97-4450-bba3-248749236087",
   "metadata": {},
   "outputs": [],
   "source": [
    "calibration_test_data[heston_parameters.index.tolist()] = np.tile(heston_parameters,(calibration_test_data.shape[0],1))\n",
    "calibration_test_data.loc[:,'moneyness'] = ms.vmoneyness(calibration_test_data['spot_price'].values,calibration_test_data['strike_price'].values,calibration_test_data['w'].values)\n",
    "calibration_test_data['calculation_date'] = calculation_datetime\n",
    "calibration_test_data['black_scholes'] = ms.vector_black_scholes(calibration_test_data)\n",
    "calibration_test_data['heston_price'] = ms.vector_heston_price(calibration_test_data)\n",
    "calibration_test_data.loc[:,'absolute_error'] = calibration_test_data['heston_price'].values - calibration_test_data['black_scholes'].values\n",
    "plt.figure()\n",
    "plt.hist(calibration_test_data['absolute_error'],bins=int(calibration_test_data.shape[0]**(1/2)))\n",
    "plt.xlabel('absolute relative pricing error')\n",
    "plt.title('distribution of pricing error of Heston against Black Scholes')\n",
    "plt.show()\n",
    "plt.clf()"
   ]
  },
  {
   "cell_type": "code",
   "execution_count": null,
   "id": "13908571-90f3-4dfe-826f-bea87767ca2c",
   "metadata": {},
   "outputs": [],
   "source": [
    "large_errors = calibration_test_data.copy()[calibration_test_data['absolute_error']>=1]\n",
    "print(large_errors.describe())"
   ]
  },
  {
   "cell_type": "markdown",
   "id": "ff292039-4832-45db-b7cf-872eb97e9630",
   "metadata": {},
   "source": [
    "# Bulk Calibration Testing"
   ]
  },
  {
   "cell_type": "code",
   "execution_count": null,
   "id": "978d1e84-7e84-4a3b-8ea5-96f7d7282475",
   "metadata": {},
   "outputs": [],
   "source": [
    "from pathlib import Path\n",
    "import os"
   ]
  },
  {
   "cell_type": "code",
   "execution_count": null,
   "id": "63d98f81-2685-461b-9cc9-20477e936b72",
   "metadata": {},
   "outputs": [],
   "source": [
    "historical_calibration = pd.read_csv(\n",
    "    os.path.join(\n",
    "        str(Path().resolve()),'AlphaVantageCalibrated.csv'\n",
    "    )\n",
    ").iloc[:,1:].copy()\n",
    "print(historical_calibration.dtypes)"
   ]
  },
  {
   "cell_type": "code",
   "execution_count": null,
   "id": "c43ef98c-d02c-4947-9807-14a34b2c2c61",
   "metadata": {},
   "outputs": [],
   "source": [
    "historical_calibration['calculation_date'] = pd.to_datetime(\n",
    "    historical_calibration['calculation_date'],format='%Y-%m-%d')"
   ]
  },
  {
   "cell_type": "code",
   "execution_count": null,
   "id": "dc3a12d6-71cd-4c8f-9b47-c2460000c76d",
   "metadata": {},
   "outputs": [],
   "source": [
    "print(\n",
    "    historical_calibration.copy().describe()[[\n",
    "        'strike_price', 'volatility', 'days_to_maturity',\n",
    "        'spot_price', 'risk_free_rate', 'dividend_rate', \n",
    "        'moneyness', 'black_scholes', 'heston_price','market_price'\n",
    "    ]].iloc[1:,:]\n",
    ")\n",
    "print(f\"\\ncount: {historical_calibration.shape[0]}\")"
   ]
  },
  {
   "cell_type": "code",
   "execution_count": null,
   "id": "764c531e-4668-4b96-aa34-a1f0301e8d13",
   "metadata": {
    "scrolled": true
   },
   "outputs": [],
   "source": [
    "historical_heston_parameters = historical_calibration[[\n",
    "    'calculation_date','theta','kappa','rho','eta','v0']].copy().set_index(\n",
    "    'calculation_date').drop_duplicates().sort_index(ascending=False)\n",
    "print(historical_heston_parameters.describe().iloc[1:,:])\n",
    "print(f\"\\ncount: {historical_heston_parameters.shape[0]}\")"
   ]
  },
  {
   "cell_type": "code",
   "execution_count": null,
   "id": "cb399043-b45e-4e93-a640-9d49dbf2eda5",
   "metadata": {
    "scrolled": true
   },
   "outputs": [],
   "source": [
    "pd.set_option('display.max_rows',None)\n",
    "pd.set_option('display.float_format','{:.6f}'.format)\n",
    "print(historical_heston_parameters)\n",
    "pd.reset_option('display.max_rows')\n",
    "pd.reset_option('display.float_format')"
   ]
  },
  {
   "cell_type": "code",
   "execution_count": null,
   "id": "438ddcc6-fee9-4ff4-b827-0448e507dcf1",
   "metadata": {},
   "outputs": [],
   "source": [
    "from plotnine import ggplot, aes, geom_point, labs, theme\n",
    "def heat_scatter(\n",
    "            df, X_name, Y_name, xlabel, ylabel, runtime, title):\n",
    "        predictive_performance_plot = (\n",
    "            ggplot(df, \n",
    "                   aes(x=X_name, y=Y_name)) + \n",
    "            geom_point(alpha=0.1) + \n",
    "            labs(x=xlabel, \n",
    "                 y=ylabel,\n",
    "                 title=title) + \n",
    "            theme(legend_position=\"\")\n",
    "            )\n",
    "        predictive_performance_plot.show()\n",
    "        plt.clf()\n",
    "        return predictive_performance_plot   "
   ]
  },
  {
   "cell_type": "code",
   "execution_count": null,
   "id": "1ec29828-f108-4d3b-9999-18ff0b34e157",
   "metadata": {},
   "outputs": [],
   "source": [
    "heat_scatters = []\n",
    "df = historical_heston_parameters.copy().reset_index()\n",
    "for col in historical_heston_parameters:\n",
    "    heat_scatters.append(heat_scatter(\n",
    "            df, 'calculation_date', col, '', col, '', col)\n",
    "    )"
   ]
  }
 ],
 "metadata": {
  "kernelspec": {
   "display_name": "Python 3 (ipykernel)",
   "language": "python",
   "name": "python3"
  },
  "language_info": {
   "codemirror_mode": {
    "name": "ipython",
    "version": 3
   },
   "file_extension": ".py",
   "mimetype": "text/x-python",
   "name": "python",
   "nbconvert_exporter": "python",
   "pygments_lexer": "ipython3",
   "version": "3.12.7"
  }
 },
 "nbformat": 4,
 "nbformat_minor": 5
}
