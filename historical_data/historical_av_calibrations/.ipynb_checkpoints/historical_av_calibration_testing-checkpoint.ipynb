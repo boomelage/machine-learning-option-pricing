{
 "cells": [
  {
   "cell_type": "code",
   "execution_count": 1,
   "id": "43527991-1b6f-4913-b57b-578a844f9e5d",
   "metadata": {},
   "outputs": [
    {
     "data": {
      "text/plain": [
       "WindowsPath('E:/git/machine-learning-option-pricing/historical_data')"
      ]
     },
     "execution_count": 1,
     "metadata": {},
     "output_type": "execute_result"
    }
   ],
   "source": [
    "from pathlib import Path\n",
    "current_dir = Path.cwd()\n",
    "current_dir"
   ]
  },
  {
   "cell_type": "code",
   "execution_count": 2,
   "id": "50717a0e-f1a2-4923-bc79-53587c5ba461",
   "metadata": {},
   "outputs": [],
   "source": [
    "import os\n",
    "filedir = os.path.join(current_dir,'historical_av_calibrations')\n",
    "os.chdir(filedir)"
   ]
  },
  {
   "cell_type": "code",
   "execution_count": 3,
   "id": "f45428e4-6f8e-40d9-887d-bffd73bc56f1",
   "metadata": {},
   "outputs": [
    {
     "data": {
      "text/plain": [
       "WindowsPath('E:/git/machine-learning-option-pricing/historical_data/historical_av_calibrations')"
      ]
     },
     "execution_count": 3,
     "metadata": {},
     "output_type": "execute_result"
    }
   ],
   "source": [
    "Path.cwd()"
   ]
  },
  {
   "cell_type": "code",
   "execution_count": 4,
   "id": "8f35fc0e-26dc-4d96-9f6c-e6f15fc92fd8",
   "metadata": {},
   "outputs": [
    {
     "name": "stdout",
     "output_type": "stream",
     "text": [
      "\n",
      "pricing settings:\n",
      "Actual/365 (Fixed) day counter\n",
      "New York stock exchange calendar\n",
      "compounding: continuous\n",
      "frequency: annual\n",
      "\n",
      "0. av_calibrated puts 2020-01-01_2024-10-08.csv\n",
      "1. av_calibrated puts 2024-09-01_2024-10-08.csv\n"
     ]
    }
   ],
   "source": [
    "from model_settings import ms\n",
    "csvs = ms.csv_query\n",
    "for i,f in enumerate(csvs):\n",
    "    print(f\"{i}. {f}\")"
   ]
  },
  {
   "cell_type": "code",
   "execution_count": 5,
   "id": "04d36811-b69a-4026-b1eb-1c87ab4f7a09",
   "metadata": {},
   "outputs": [],
   "source": [
    "import pandas as pd\n",
    "df = pd.read_csv(csvs[0])\n",
    "df = df.iloc[:,1:].copy()"
   ]
  },
  {
   "cell_type": "code",
   "execution_count": 6,
   "id": "e8c84cbe-2ccb-499b-aa69-553bf102ad35",
   "metadata": {},
   "outputs": [
    {
     "data": {
      "text/html": [
       "<div>\n",
       "<style scoped>\n",
       "    .dataframe tbody tr th:only-of-type {\n",
       "        vertical-align: middle;\n",
       "    }\n",
       "\n",
       "    .dataframe tbody tr th {\n",
       "        vertical-align: top;\n",
       "    }\n",
       "\n",
       "    .dataframe thead th {\n",
       "        text-align: right;\n",
       "    }\n",
       "</style>\n",
       "<table border=\"1\" class=\"dataframe\">\n",
       "  <thead>\n",
       "    <tr style=\"text-align: right;\">\n",
       "      <th></th>\n",
       "      <th>spot_price</th>\n",
       "      <th>theta</th>\n",
       "      <th>rho</th>\n",
       "      <th>kappa</th>\n",
       "      <th>eta</th>\n",
       "      <th>v0</th>\n",
       "      <th>relative_error</th>\n",
       "    </tr>\n",
       "  </thead>\n",
       "  <tbody>\n",
       "    <tr>\n",
       "      <th>count</th>\n",
       "      <td>1136.000000</td>\n",
       "      <td>1.136000e+03</td>\n",
       "      <td>1136.000000</td>\n",
       "      <td>1.136000e+03</td>\n",
       "      <td>1.136000e+03</td>\n",
       "      <td>1.136000e+03</td>\n",
       "      <td>1.136000e+03</td>\n",
       "    </tr>\n",
       "    <tr>\n",
       "      <th>mean</th>\n",
       "      <td>418.510531</td>\n",
       "      <td>9.176104e+00</td>\n",
       "      <td>-0.294741</td>\n",
       "      <td>1.703108e+02</td>\n",
       "      <td>2.362364e+02</td>\n",
       "      <td>1.652907e+00</td>\n",
       "      <td>1.040892e+09</td>\n",
       "    </tr>\n",
       "    <tr>\n",
       "      <th>std</th>\n",
       "      <td>69.608788</td>\n",
       "      <td>7.480576e+01</td>\n",
       "      <td>0.412369</td>\n",
       "      <td>1.344172e+03</td>\n",
       "      <td>1.823815e+03</td>\n",
       "      <td>1.621057e+01</td>\n",
       "      <td>3.108259e+10</td>\n",
       "    </tr>\n",
       "    <tr>\n",
       "      <th>min</th>\n",
       "      <td>223.970000</td>\n",
       "      <td>2.604705e-13</td>\n",
       "      <td>-1.000000</td>\n",
       "      <td>8.772929e-09</td>\n",
       "      <td>9.425137e-09</td>\n",
       "      <td>4.470130e-10</td>\n",
       "      <td>3.172878e-03</td>\n",
       "    </tr>\n",
       "    <tr>\n",
       "      <th>25%</th>\n",
       "      <td>378.040000</td>\n",
       "      <td>9.431139e-02</td>\n",
       "      <td>-0.601105</td>\n",
       "      <td>4.485103e-02</td>\n",
       "      <td>1.990344e+00</td>\n",
       "      <td>2.443487e-02</td>\n",
       "      <td>6.790605e-02</td>\n",
       "    </tr>\n",
       "    <tr>\n",
       "      <th>50%</th>\n",
       "      <td>420.215000</td>\n",
       "      <td>1.438032e-01</td>\n",
       "      <td>-0.344533</td>\n",
       "      <td>2.243822e+00</td>\n",
       "      <td>3.653256e+00</td>\n",
       "      <td>4.406558e-02</td>\n",
       "      <td>9.824958e-02</td>\n",
       "    </tr>\n",
       "    <tr>\n",
       "      <th>75%</th>\n",
       "      <td>454.713750</td>\n",
       "      <td>1.418432e+00</td>\n",
       "      <td>0.026015</td>\n",
       "      <td>5.873114e+00</td>\n",
       "      <td>6.014827e+00</td>\n",
       "      <td>7.031603e-02</td>\n",
       "      <td>1.326135e-01</td>\n",
       "    </tr>\n",
       "    <tr>\n",
       "      <th>max</th>\n",
       "      <td>572.320000</td>\n",
       "      <td>1.674265e+03</td>\n",
       "      <td>0.999909</td>\n",
       "      <td>2.386247e+04</td>\n",
       "      <td>3.479557e+04</td>\n",
       "      <td>3.966430e+02</td>\n",
       "      <td>1.042981e+12</td>\n",
       "    </tr>\n",
       "  </tbody>\n",
       "</table>\n",
       "</div>"
      ],
      "text/plain": [
       "        spot_price         theta          rho         kappa           eta  \\\n",
       "count  1136.000000  1.136000e+03  1136.000000  1.136000e+03  1.136000e+03   \n",
       "mean    418.510531  9.176104e+00    -0.294741  1.703108e+02  2.362364e+02   \n",
       "std      69.608788  7.480576e+01     0.412369  1.344172e+03  1.823815e+03   \n",
       "min     223.970000  2.604705e-13    -1.000000  8.772929e-09  9.425137e-09   \n",
       "25%     378.040000  9.431139e-02    -0.601105  4.485103e-02  1.990344e+00   \n",
       "50%     420.215000  1.438032e-01    -0.344533  2.243822e+00  3.653256e+00   \n",
       "75%     454.713750  1.418432e+00     0.026015  5.873114e+00  6.014827e+00   \n",
       "max     572.320000  1.674265e+03     0.999909  2.386247e+04  3.479557e+04   \n",
       "\n",
       "                 v0  relative_error  \n",
       "count  1.136000e+03    1.136000e+03  \n",
       "mean   1.652907e+00    1.040892e+09  \n",
       "std    1.621057e+01    3.108259e+10  \n",
       "min    4.470130e-10    3.172878e-03  \n",
       "25%    2.443487e-02    6.790605e-02  \n",
       "50%    4.406558e-02    9.824958e-02  \n",
       "75%    7.031603e-02    1.326135e-01  \n",
       "max    3.966430e+02    1.042981e+12  "
      ]
     },
     "execution_count": 6,
     "metadata": {},
     "output_type": "execute_result"
    }
   ],
   "source": [
    "df.describe()"
   ]
  },
  {
   "cell_type": "code",
   "execution_count": 11,
   "id": "890cea78-3e50-462f-a1dc-a36587521eb3",
   "metadata": {},
   "outputs": [
    {
     "data": {
      "text/html": [
       "<div>\n",
       "<style scoped>\n",
       "    .dataframe tbody tr th:only-of-type {\n",
       "        vertical-align: middle;\n",
       "    }\n",
       "\n",
       "    .dataframe tbody tr th {\n",
       "        vertical-align: top;\n",
       "    }\n",
       "\n",
       "    .dataframe thead th {\n",
       "        text-align: right;\n",
       "    }\n",
       "</style>\n",
       "<table border=\"1\" class=\"dataframe\">\n",
       "  <thead>\n",
       "    <tr style=\"text-align: right;\">\n",
       "      <th></th>\n",
       "      <th>spot_price</th>\n",
       "      <th>calculation_date</th>\n",
       "      <th>theta</th>\n",
       "      <th>rho</th>\n",
       "      <th>kappa</th>\n",
       "      <th>eta</th>\n",
       "      <th>v0</th>\n",
       "      <th>relative_error</th>\n",
       "      <th>w</th>\n",
       "    </tr>\n",
       "  </thead>\n",
       "  <tbody>\n",
       "    <tr>\n",
       "      <th>0</th>\n",
       "      <td>323.71000</td>\n",
       "      <td>2020-01-02</td>\n",
       "      <td>0.067323</td>\n",
       "      <td>-0.534180</td>\n",
       "      <td>2.446704</td>\n",
       "      <td>1.714163</td>\n",
       "      <td>0.012489</td>\n",
       "      <td>0.032893</td>\n",
       "      <td>puts</td>\n",
       "    </tr>\n",
       "    <tr>\n",
       "      <th>1</th>\n",
       "      <td>322.37000</td>\n",
       "      <td>2020-01-03</td>\n",
       "      <td>0.050029</td>\n",
       "      <td>-0.613393</td>\n",
       "      <td>5.476240</td>\n",
       "      <td>2.232813</td>\n",
       "      <td>0.012026</td>\n",
       "      <td>0.030073</td>\n",
       "      <td>puts</td>\n",
       "    </tr>\n",
       "    <tr>\n",
       "      <th>2</th>\n",
       "      <td>322.04500</td>\n",
       "      <td>2020-01-06</td>\n",
       "      <td>0.051965</td>\n",
       "      <td>-0.632509</td>\n",
       "      <td>4.004673</td>\n",
       "      <td>1.661999</td>\n",
       "      <td>0.014319</td>\n",
       "      <td>0.026312</td>\n",
       "      <td>puts</td>\n",
       "    </tr>\n",
       "    <tr>\n",
       "      <th>3</th>\n",
       "      <td>322.89000</td>\n",
       "      <td>2020-01-07</td>\n",
       "      <td>0.158072</td>\n",
       "      <td>-0.422042</td>\n",
       "      <td>0.721757</td>\n",
       "      <td>1.544762</td>\n",
       "      <td>0.018725</td>\n",
       "      <td>0.046045</td>\n",
       "      <td>puts</td>\n",
       "    </tr>\n",
       "    <tr>\n",
       "      <th>4</th>\n",
       "      <td>324.22500</td>\n",
       "      <td>2020-01-08</td>\n",
       "      <td>0.042281</td>\n",
       "      <td>-0.676738</td>\n",
       "      <td>5.350000</td>\n",
       "      <td>1.654111</td>\n",
       "      <td>0.012423</td>\n",
       "      <td>0.019367</td>\n",
       "      <td>puts</td>\n",
       "    </tr>\n",
       "    <tr>\n",
       "      <th>...</th>\n",
       "      <td>...</td>\n",
       "      <td>...</td>\n",
       "      <td>...</td>\n",
       "      <td>...</td>\n",
       "      <td>...</td>\n",
       "      <td>...</td>\n",
       "      <td>...</td>\n",
       "      <td>...</td>\n",
       "      <td>...</td>\n",
       "    </tr>\n",
       "    <tr>\n",
       "      <th>964</th>\n",
       "      <td>570.03110</td>\n",
       "      <td>2024-10-01</td>\n",
       "      <td>0.624390</td>\n",
       "      <td>-0.169221</td>\n",
       "      <td>2.198334</td>\n",
       "      <td>26.574356</td>\n",
       "      <td>0.100556</td>\n",
       "      <td>0.092769</td>\n",
       "      <td>puts</td>\n",
       "    </tr>\n",
       "    <tr>\n",
       "      <th>965</th>\n",
       "      <td>567.58500</td>\n",
       "      <td>2024-10-02</td>\n",
       "      <td>0.126180</td>\n",
       "      <td>-0.299852</td>\n",
       "      <td>10.192830</td>\n",
       "      <td>16.505321</td>\n",
       "      <td>0.046384</td>\n",
       "      <td>0.097556</td>\n",
       "      <td>puts</td>\n",
       "    </tr>\n",
       "    <tr>\n",
       "      <th>966</th>\n",
       "      <td>567.64625</td>\n",
       "      <td>2024-10-03</td>\n",
       "      <td>0.079279</td>\n",
       "      <td>-1.000000</td>\n",
       "      <td>1.090833</td>\n",
       "      <td>0.244937</td>\n",
       "      <td>0.017958</td>\n",
       "      <td>0.058716</td>\n",
       "      <td>puts</td>\n",
       "    </tr>\n",
       "    <tr>\n",
       "      <th>967</th>\n",
       "      <td>570.73000</td>\n",
       "      <td>2024-10-04</td>\n",
       "      <td>11.963353</td>\n",
       "      <td>-0.004504</td>\n",
       "      <td>0.029324</td>\n",
       "      <td>8.042351</td>\n",
       "      <td>0.061405</td>\n",
       "      <td>0.147108</td>\n",
       "      <td>puts</td>\n",
       "    </tr>\n",
       "    <tr>\n",
       "      <th>968</th>\n",
       "      <td>569.29495</td>\n",
       "      <td>2024-10-07</td>\n",
       "      <td>0.207201</td>\n",
       "      <td>-0.296147</td>\n",
       "      <td>2.632373</td>\n",
       "      <td>8.651216</td>\n",
       "      <td>0.075057</td>\n",
       "      <td>0.069731</td>\n",
       "      <td>puts</td>\n",
       "    </tr>\n",
       "  </tbody>\n",
       "</table>\n",
       "<p>969 rows × 9 columns</p>\n",
       "</div>"
      ],
      "text/plain": [
       "     spot_price calculation_date      theta       rho      kappa        eta  \\\n",
       "0     323.71000       2020-01-02   0.067323 -0.534180   2.446704   1.714163   \n",
       "1     322.37000       2020-01-03   0.050029 -0.613393   5.476240   2.232813   \n",
       "2     322.04500       2020-01-06   0.051965 -0.632509   4.004673   1.661999   \n",
       "3     322.89000       2020-01-07   0.158072 -0.422042   0.721757   1.544762   \n",
       "4     324.22500       2020-01-08   0.042281 -0.676738   5.350000   1.654111   \n",
       "..          ...              ...        ...       ...        ...        ...   \n",
       "964   570.03110       2024-10-01   0.624390 -0.169221   2.198334  26.574356   \n",
       "965   567.58500       2024-10-02   0.126180 -0.299852  10.192830  16.505321   \n",
       "966   567.64625       2024-10-03   0.079279 -1.000000   1.090833   0.244937   \n",
       "967   570.73000       2024-10-04  11.963353 -0.004504   0.029324   8.042351   \n",
       "968   569.29495       2024-10-07   0.207201 -0.296147   2.632373   8.651216   \n",
       "\n",
       "           v0  relative_error     w  \n",
       "0    0.012489        0.032893  puts  \n",
       "1    0.012026        0.030073  puts  \n",
       "2    0.014319        0.026312  puts  \n",
       "3    0.018725        0.046045  puts  \n",
       "4    0.012423        0.019367  puts  \n",
       "..        ...             ...   ...  \n",
       "964  0.100556        0.092769  puts  \n",
       "965  0.046384        0.097556  puts  \n",
       "966  0.017958        0.058716  puts  \n",
       "967  0.061405        0.147108  puts  \n",
       "968  0.075057        0.069731  puts  \n",
       "\n",
       "[969 rows x 9 columns]"
      ]
     },
     "execution_count": 11,
     "metadata": {},
     "output_type": "execute_result"
    }
   ],
   "source": [
    "df = df[df['relative_error']<0.2].reset_index(drop=True).copy()\n",
    "df"
   ]
  },
  {
   "cell_type": "code",
   "execution_count": 17,
   "id": "6e081d77-c72f-41bb-a118-508c931a3ec4",
   "metadata": {},
   "outputs": [
    {
     "data": {
      "text/plain": [
       "spot_price                 float64\n",
       "calculation_date    datetime64[ns]\n",
       "theta                      float64\n",
       "rho                        float64\n",
       "kappa                      float64\n",
       "eta                        float64\n",
       "v0                         float64\n",
       "relative_error             float64\n",
       "w                           object\n",
       "dtype: object"
      ]
     },
     "execution_count": 17,
     "metadata": {},
     "output_type": "execute_result"
    }
   ],
   "source": [
    "df.dtypes"
   ]
  },
  {
   "cell_type": "code",
   "execution_count": 18,
   "id": "9cfa7a88-dd0b-4d05-beb1-a56a3efc8359",
   "metadata": {},
   "outputs": [],
   "source": [
    "df['calculation_date'] = pd.to_datetime(df['calculation_date'],format=\"%Y-%m-%d\")"
   ]
  },
  {
   "cell_type": "code",
   "execution_count": 19,
   "id": "8ed5c783-216d-489a-835c-12c43229fcf8",
   "metadata": {},
   "outputs": [
    {
     "data": {
      "text/plain": [
       "spot_price                 float64\n",
       "calculation_date    datetime64[ns]\n",
       "theta                      float64\n",
       "rho                        float64\n",
       "kappa                      float64\n",
       "eta                        float64\n",
       "v0                         float64\n",
       "relative_error             float64\n",
       "w                           object\n",
       "dtype: object"
      ]
     },
     "execution_count": 19,
     "metadata": {},
     "output_type": "execute_result"
    }
   ],
   "source": [
    "df.dtypes"
   ]
  },
  {
   "cell_type": "code",
   "execution_count": 21,
   "id": "1c5a4a53-42dd-4c0d-89bd-74f73635ca64",
   "metadata": {},
   "outputs": [
    {
     "data": {
      "image/png": "[encoded data removed]",
      "text/plain": [
       "<Figure size 640x480 with 1 Axes>"
      ]
     },
     "metadata": {},
     "output_type": "display_data"
    },
    {
     "data": {
      "text/plain": [
       "<Figure size 640x480 with 0 Axes>"
      ]
     },
     "metadata": {},
     "output_type": "display_data"
    }
   ],
   "source": [
    "import matplotlib.pyplot as plt\n",
    "\n",
    "plt.figure()\n",
    "plt.plot(df.set_index('calculation_date')['relative_error'],color='black')\n",
    "plt.title('absolute relative calibration error for SPY')\n",
    "plt.show()\n",
    "plt.clf()"
   ]
  },
  {
   "cell_type": "code",
   "execution_count": null,
   "id": "000e09d8-090a-4238-8626-f1693c237144",
   "metadata": {},
   "outputs": [],
   "source": []
  }
 ],
 "metadata": {
  "kernelspec": {
   "display_name": "Python 3 (ipykernel)",
   "language": "python",
   "name": "python3"
  },
  "language_info": {
   "codemirror_mode": {
    "name": "ipython",
    "version": 3
   },
   "file_extension": ".py",
   "mimetype": "text/x-python",
   "name": "python",
   "nbconvert_exporter": "python",
   "pygments_lexer": "ipython3",
   "version": "3.12.7"
  }
 },
 "nbformat": 4,
 "nbformat_minor": 5
}
