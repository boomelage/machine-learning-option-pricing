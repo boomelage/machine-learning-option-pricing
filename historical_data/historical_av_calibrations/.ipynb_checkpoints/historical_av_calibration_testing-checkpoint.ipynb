{
 "cells": [
  {
   "cell_type": "code",
   "execution_count": 46,
   "id": "1ffbf094-f122-4a9e-a0ca-b348db5915ad",
   "metadata": {},
   "outputs": [
    {
     "name": "stdout",
     "output_type": "stream",
     "text": [
      "E:\\git\\machine-learning-option-pricing\\historical_data\\historical_av_calibrations\n"
     ]
    }
   ],
   "source": [
    "from pathlib import Path\n",
    "current_dir = Path.cwd()"
   ]
  },
  {
   "cell_type": "code",
   "execution_count": 47,
   "id": "8f35fc0e-26dc-4d96-9f6c-e6f15fc92fd8",
   "metadata": {},
   "outputs": [
    {
     "name": "stdout",
     "output_type": "stream",
     "text": [
      "0. av_calibrated puts 2024-09-01_2024-10-08.csv\n"
     ]
    }
   ],
   "source": [
    "from model_settings import ms\n",
    "csvs = ms.csv_query\n",
    "for i,f in enumerate(csvs):\n",
    "    print(f\"{i}. {f}\")"
   ]
  },
  {
   "cell_type": "code",
   "execution_count": 48,
   "id": "04d36811-b69a-4026-b1eb-1c87ab4f7a09",
   "metadata": {},
   "outputs": [],
   "source": [
    "import pandas as pd\n",
    "df = pd.read_csv(csvs[0])\n",
    "df = df.iloc[:,1:].copy()"
   ]
  },
  {
   "cell_type": "code",
   "execution_count": 49,
   "id": "e8c84cbe-2ccb-499b-aa69-553bf102ad35",
   "metadata": {},
   "outputs": [
    {
     "data": {
      "text/html": [
       "<div>\n",
       "<style scoped>\n",
       "    .dataframe tbody tr th:only-of-type {\n",
       "        vertical-align: middle;\n",
       "    }\n",
       "\n",
       "    .dataframe tbody tr th {\n",
       "        vertical-align: top;\n",
       "    }\n",
       "\n",
       "    .dataframe thead th {\n",
       "        text-align: right;\n",
       "    }\n",
       "</style>\n",
       "<table border=\"1\" class=\"dataframe\">\n",
       "  <thead>\n",
       "    <tr style=\"text-align: right;\">\n",
       "      <th></th>\n",
       "      <th>spot_price</th>\n",
       "      <th>theta</th>\n",
       "      <th>rho</th>\n",
       "      <th>kappa</th>\n",
       "      <th>eta</th>\n",
       "      <th>v0</th>\n",
       "      <th>relative_error</th>\n",
       "    </tr>\n",
       "  </thead>\n",
       "  <tbody>\n",
       "    <tr>\n",
       "      <th>count</th>\n",
       "      <td>25.000000</td>\n",
       "      <td>25.000000</td>\n",
       "      <td>25.000000</td>\n",
       "      <td>25.000000</td>\n",
       "      <td>25.000000</td>\n",
       "      <td>25.000000</td>\n",
       "      <td>25.000000</td>\n",
       "    </tr>\n",
       "    <tr>\n",
       "      <th>mean</th>\n",
       "      <td>562.296632</td>\n",
       "      <td>12.406107</td>\n",
       "      <td>-0.046269</td>\n",
       "      <td>2.861129</td>\n",
       "      <td>8.706479</td>\n",
       "      <td>0.054141</td>\n",
       "      <td>0.086867</td>\n",
       "    </tr>\n",
       "    <tr>\n",
       "      <th>std</th>\n",
       "      <td>9.499156</td>\n",
       "      <td>18.938358</td>\n",
       "      <td>0.270011</td>\n",
       "      <td>4.653810</td>\n",
       "      <td>8.365058</td>\n",
       "      <td>0.020695</td>\n",
       "      <td>0.026726</td>\n",
       "    </tr>\n",
       "    <tr>\n",
       "      <th>min</th>\n",
       "      <td>545.195000</td>\n",
       "      <td>0.068274</td>\n",
       "      <td>-1.000000</td>\n",
       "      <td>0.003619</td>\n",
       "      <td>0.244937</td>\n",
       "      <td>0.017958</td>\n",
       "      <td>0.046431</td>\n",
       "    </tr>\n",
       "    <tr>\n",
       "      <th>25%</th>\n",
       "      <td>555.160000</td>\n",
       "      <td>0.126180</td>\n",
       "      <td>-0.140956</td>\n",
       "      <td>0.008135</td>\n",
       "      <td>3.692021</td>\n",
       "      <td>0.040947</td>\n",
       "      <td>0.069091</td>\n",
       "    </tr>\n",
       "    <tr>\n",
       "      <th>50%</th>\n",
       "      <td>567.240000</td>\n",
       "      <td>0.624390</td>\n",
       "      <td>-0.038711</td>\n",
       "      <td>0.272515</td>\n",
       "      <td>6.688938</td>\n",
       "      <td>0.049873</td>\n",
       "      <td>0.086220</td>\n",
       "    </tr>\n",
       "    <tr>\n",
       "      <th>75%</th>\n",
       "      <td>570.031100</td>\n",
       "      <td>16.618512</td>\n",
       "      <td>0.073048</td>\n",
       "      <td>3.103302</td>\n",
       "      <td>11.511932</td>\n",
       "      <td>0.061373</td>\n",
       "      <td>0.097556</td>\n",
       "    </tr>\n",
       "    <tr>\n",
       "      <th>max</th>\n",
       "      <td>572.320000</td>\n",
       "      <td>56.449573</td>\n",
       "      <td>0.353071</td>\n",
       "      <td>18.298542</td>\n",
       "      <td>38.208132</td>\n",
       "      <td>0.100556</td>\n",
       "      <td>0.147108</td>\n",
       "    </tr>\n",
       "  </tbody>\n",
       "</table>\n",
       "</div>"
      ],
      "text/plain": [
       "       spot_price      theta        rho      kappa        eta         v0  \\\n",
       "count   25.000000  25.000000  25.000000  25.000000  25.000000  25.000000   \n",
       "mean   562.296632  12.406107  -0.046269   2.861129   8.706479   0.054141   \n",
       "std      9.499156  18.938358   0.270011   4.653810   8.365058   0.020695   \n",
       "min    545.195000   0.068274  -1.000000   0.003619   0.244937   0.017958   \n",
       "25%    555.160000   0.126180  -0.140956   0.008135   3.692021   0.040947   \n",
       "50%    567.240000   0.624390  -0.038711   0.272515   6.688938   0.049873   \n",
       "75%    570.031100  16.618512   0.073048   3.103302  11.511932   0.061373   \n",
       "max    572.320000  56.449573   0.353071  18.298542  38.208132   0.100556   \n",
       "\n",
       "       relative_error  \n",
       "count       25.000000  \n",
       "mean         0.086867  \n",
       "std          0.026726  \n",
       "min          0.046431  \n",
       "25%          0.069091  \n",
       "50%          0.086220  \n",
       "75%          0.097556  \n",
       "max          0.147108  "
      ]
     },
     "execution_count": 49,
     "metadata": {},
     "output_type": "execute_result"
    }
   ],
   "source": [
    "df.describe()"
   ]
  },
  {
   "cell_type": "code",
   "execution_count": null,
   "id": "890cea78-3e50-462f-a1dc-a36587521eb3",
   "metadata": {},
   "outputs": [],
   "source": []
  }
 ],
 "metadata": {
  "kernelspec": {
   "display_name": "Python 3 (ipykernel)",
   "language": "python",
   "name": "python3"
  },
  "language_info": {
   "codemirror_mode": {
    "name": "ipython",
    "version": 3
   },
   "file_extension": ".py",
   "mimetype": "text/x-python",
   "name": "python",
   "nbconvert_exporter": "python",
   "pygments_lexer": "ipython3",
   "version": "3.12.7"
  }
 },
 "nbformat": 4,
 "nbformat_minor": 5
}
