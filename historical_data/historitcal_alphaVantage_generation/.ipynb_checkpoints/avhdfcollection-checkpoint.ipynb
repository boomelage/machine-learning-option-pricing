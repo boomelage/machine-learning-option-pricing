{
 "cells": [
  {
   "cell_type": "code",
   "execution_count": 1,
   "id": "ec2cfc19-c210-4117-b99c-69d64ac1954a",
   "metadata": {},
   "outputs": [],
   "source": [
    "import pandas as pd\n",
    "import os\n",
    "from tqdm import tqdm\n",
    "from datetime import datetime"
   ]
  },
  {
   "cell_type": "code",
   "execution_count": 2,
   "id": "7d18ab65-5ae4-440d-954e-ef4936a5f7c5",
   "metadata": {},
   "outputs": [],
   "source": [
    "os.chdir(r\"E:\\git\\machine-learning-option-pricing\\historical_data\\historitcal_alphaVantage_generation\")\n",
    "store = pd.HDFStore(r'alphaVantage vanillas.h5')\n",
    "contract_keys = [key for key in store.keys() if 'contracts' in key]\n",
    "store.close()"
   ]
  },
  {
   "cell_type": "code",
   "execution_count": 3,
   "id": "a6ebe050-eb73-48bd-a303-a59df327dc64",
   "metadata": {},
   "outputs": [],
   "source": [
    "start_date = datetime(2018,1,1)\n",
    "# end_date = datetime(2024,1,1)\n",
    "end_date = datetime.today()\n",
    "contract_keys = [key for key in contract_keys if start_date <= datetime.strptime(key[key.find('date')+5:],'%Y_%m_%d') <= end_date]"
   ]
  },
  {
   "cell_type": "code",
   "execution_count": 4,
   "id": "d6152e2f-123f-4eb1-971f-91517467fe92",
   "metadata": {},
   "outputs": [
    {
     "name": "stderr",
     "output_type": "stream",
     "text": [
      "                                                                                                                       \r"
     ]
    }
   ],
   "source": [
    "store.open()\n",
    "dfs = []\n",
    "bar = tqdm(total = len(contract_keys),leave=False)\n",
    "for key in contract_keys:\n",
    "    dfs.append(store[key])\n",
    "    dfs.append(store[key])\n",
    "    bar.update(1)\n",
    "bar.close()\n",
    "store.close()"
   ]
  },
  {
   "cell_type": "code",
   "execution_count": 5,
   "id": "6c289400-cff7-4c95-b901-e137901512c1",
   "metadata": {},
   "outputs": [
    {
     "data": {
      "text/html": [
       "<div>\n",
       "<style scoped>\n",
       "    .dataframe tbody tr th:only-of-type {\n",
       "        vertical-align: middle;\n",
       "    }\n",
       "\n",
       "    .dataframe tbody tr th {\n",
       "        vertical-align: top;\n",
       "    }\n",
       "\n",
       "    .dataframe thead th {\n",
       "        text-align: right;\n",
       "    }\n",
       "</style>\n",
       "<table border=\"1\" class=\"dataframe\">\n",
       "  <thead>\n",
       "    <tr style=\"text-align: right;\">\n",
       "      <th></th>\n",
       "      <th>strike_price</th>\n",
       "      <th>volatility</th>\n",
       "      <th>w</th>\n",
       "      <th>bid</th>\n",
       "      <th>ask</th>\n",
       "      <th>calculation_date</th>\n",
       "      <th>expiration_date</th>\n",
       "      <th>mid</th>\n",
       "      <th>spot_price</th>\n",
       "      <th>days_to_maturity</th>\n",
       "    </tr>\n",
       "  </thead>\n",
       "  <tbody>\n",
       "    <tr>\n",
       "      <th>0</th>\n",
       "      <td>115.0</td>\n",
       "      <td>0.45519</td>\n",
       "      <td>put</td>\n",
       "      <td>0.00</td>\n",
       "      <td>0.01</td>\n",
       "      <td>2012-01-03</td>\n",
       "      <td>2012-01-06</td>\n",
       "      <td>0.005</td>\n",
       "      <td>127.905</td>\n",
       "      <td>3</td>\n",
       "    </tr>\n",
       "    <tr>\n",
       "      <th>1</th>\n",
       "      <td>116.0</td>\n",
       "      <td>0.42104</td>\n",
       "      <td>put</td>\n",
       "      <td>0.00</td>\n",
       "      <td>0.01</td>\n",
       "      <td>2012-01-03</td>\n",
       "      <td>2012-01-06</td>\n",
       "      <td>0.005</td>\n",
       "      <td>127.905</td>\n",
       "      <td>3</td>\n",
       "    </tr>\n",
       "    <tr>\n",
       "      <th>2</th>\n",
       "      <td>117.0</td>\n",
       "      <td>0.38690</td>\n",
       "      <td>put</td>\n",
       "      <td>0.00</td>\n",
       "      <td>0.01</td>\n",
       "      <td>2012-01-03</td>\n",
       "      <td>2012-01-06</td>\n",
       "      <td>0.005</td>\n",
       "      <td>127.905</td>\n",
       "      <td>3</td>\n",
       "    </tr>\n",
       "    <tr>\n",
       "      <th>3</th>\n",
       "      <td>118.0</td>\n",
       "      <td>0.35275</td>\n",
       "      <td>put</td>\n",
       "      <td>0.01</td>\n",
       "      <td>0.02</td>\n",
       "      <td>2012-01-03</td>\n",
       "      <td>2012-01-06</td>\n",
       "      <td>0.015</td>\n",
       "      <td>127.905</td>\n",
       "      <td>3</td>\n",
       "    </tr>\n",
       "    <tr>\n",
       "      <th>4</th>\n",
       "      <td>119.0</td>\n",
       "      <td>0.31861</td>\n",
       "      <td>put</td>\n",
       "      <td>0.01</td>\n",
       "      <td>0.02</td>\n",
       "      <td>2012-01-03</td>\n",
       "      <td>2012-01-06</td>\n",
       "      <td>0.015</td>\n",
       "      <td>127.905</td>\n",
       "      <td>3</td>\n",
       "    </tr>\n",
       "    <tr>\n",
       "      <th>...</th>\n",
       "      <td>...</td>\n",
       "      <td>...</td>\n",
       "      <td>...</td>\n",
       "      <td>...</td>\n",
       "      <td>...</td>\n",
       "      <td>...</td>\n",
       "      <td>...</td>\n",
       "      <td>...</td>\n",
       "      <td>...</td>\n",
       "      <td>...</td>\n",
       "    </tr>\n",
       "    <tr>\n",
       "      <th>17851081</th>\n",
       "      <td>820.0</td>\n",
       "      <td>0.10931</td>\n",
       "      <td>call</td>\n",
       "      <td>2.08</td>\n",
       "      <td>3.34</td>\n",
       "      <td>2024-07-18</td>\n",
       "      <td>2026-12-18</td>\n",
       "      <td>2.710</td>\n",
       "      <td>554.975</td>\n",
       "      <td>883</td>\n",
       "    </tr>\n",
       "    <tr>\n",
       "      <th>17851082</th>\n",
       "      <td>825.0</td>\n",
       "      <td>0.11084</td>\n",
       "      <td>call</td>\n",
       "      <td>2.26</td>\n",
       "      <td>3.11</td>\n",
       "      <td>2024-07-18</td>\n",
       "      <td>2026-12-18</td>\n",
       "      <td>2.685</td>\n",
       "      <td>554.975</td>\n",
       "      <td>883</td>\n",
       "    </tr>\n",
       "    <tr>\n",
       "      <th>17851083</th>\n",
       "      <td>830.0</td>\n",
       "      <td>0.11068</td>\n",
       "      <td>call</td>\n",
       "      <td>2.00</td>\n",
       "      <td>2.90</td>\n",
       "      <td>2024-07-18</td>\n",
       "      <td>2026-12-18</td>\n",
       "      <td>2.450</td>\n",
       "      <td>554.975</td>\n",
       "      <td>883</td>\n",
       "    </tr>\n",
       "    <tr>\n",
       "      <th>17851084</th>\n",
       "      <td>835.0</td>\n",
       "      <td>0.10946</td>\n",
       "      <td>call</td>\n",
       "      <td>1.59</td>\n",
       "      <td>2.71</td>\n",
       "      <td>2024-07-18</td>\n",
       "      <td>2026-12-18</td>\n",
       "      <td>2.150</td>\n",
       "      <td>554.975</td>\n",
       "      <td>883</td>\n",
       "    </tr>\n",
       "    <tr>\n",
       "      <th>17851085</th>\n",
       "      <td>840.0</td>\n",
       "      <td>0.11221</td>\n",
       "      <td>call</td>\n",
       "      <td>1.95</td>\n",
       "      <td>2.53</td>\n",
       "      <td>2024-07-18</td>\n",
       "      <td>2026-12-18</td>\n",
       "      <td>2.240</td>\n",
       "      <td>554.975</td>\n",
       "      <td>883</td>\n",
       "    </tr>\n",
       "  </tbody>\n",
       "</table>\n",
       "<p>17851086 rows × 10 columns</p>\n",
       "</div>"
      ],
      "text/plain": [
       "          strike_price  volatility     w   bid   ask calculation_date  \\\n",
       "0                115.0     0.45519   put  0.00  0.01       2012-01-03   \n",
       "1                116.0     0.42104   put  0.00  0.01       2012-01-03   \n",
       "2                117.0     0.38690   put  0.00  0.01       2012-01-03   \n",
       "3                118.0     0.35275   put  0.01  0.02       2012-01-03   \n",
       "4                119.0     0.31861   put  0.01  0.02       2012-01-03   \n",
       "...                ...         ...   ...   ...   ...              ...   \n",
       "17851081         820.0     0.10931  call  2.08  3.34       2024-07-18   \n",
       "17851082         825.0     0.11084  call  2.26  3.11       2024-07-18   \n",
       "17851083         830.0     0.11068  call  2.00  2.90       2024-07-18   \n",
       "17851084         835.0     0.10946  call  1.59  2.71       2024-07-18   \n",
       "17851085         840.0     0.11221  call  1.95  2.53       2024-07-18   \n",
       "\n",
       "         expiration_date    mid  spot_price  days_to_maturity  \n",
       "0             2012-01-06  0.005     127.905                 3  \n",
       "1             2012-01-06  0.005     127.905                 3  \n",
       "2             2012-01-06  0.005     127.905                 3  \n",
       "3             2012-01-06  0.015     127.905                 3  \n",
       "4             2012-01-06  0.015     127.905                 3  \n",
       "...                  ...    ...         ...               ...  \n",
       "17851081      2026-12-18  2.710     554.975               883  \n",
       "17851082      2026-12-18  2.685     554.975               883  \n",
       "17851083      2026-12-18  2.450     554.975               883  \n",
       "17851084      2026-12-18  2.150     554.975               883  \n",
       "17851085      2026-12-18  2.240     554.975               883  \n",
       "\n",
       "[17851086 rows x 10 columns]"
      ]
     },
     "execution_count": 5,
     "metadata": {},
     "output_type": "execute_result"
    }
   ],
   "source": [
    "df = pd.concat(dfs,ignore_index=True)\n",
    "df"
   ]
  },
  {
   "cell_type": "code",
   "execution_count": 6,
   "id": "a869f972-c592-4b62-a4d8-b9ca736ba949",
   "metadata": {},
   "outputs": [
    {
     "data": {
      "text/plain": [
       "calculation_date\n",
       "2012-01-03    127.90500\n",
       "2012-01-04    127.26000\n",
       "2012-01-05    127.33000\n",
       "2012-01-06    127.75500\n",
       "2012-01-09    127.79500\n",
       "                ...    \n",
       "2024-07-11    559.08000\n",
       "2024-07-12    560.41000\n",
       "2024-07-15    562.23355\n",
       "2024-07-17    558.56000\n",
       "2024-07-18    554.97500\n",
       "Name: spot_price, Length: 1086, dtype: float64"
      ]
     },
     "execution_count": 6,
     "metadata": {},
     "output_type": "execute_result"
    }
   ],
   "source": [
    "spots = df.set_index('calculation_date')['spot_price'].drop_duplicates().copy()\n",
    "spots"
   ]
  },
  {
   "cell_type": "code",
   "execution_count": 7,
   "id": "67a434e1-d48c-49b0-a654-eb7c5cfe5327",
   "metadata": {},
   "outputs": [
    {
     "data": {
      "image/png": "[encoded data removed]",
      "text/plain": [
       "<Figure size 640x480 with 1 Axes>"
      ]
     },
     "metadata": {},
     "output_type": "display_data"
    },
    {
     "data": {
      "text/plain": [
       "<Figure size 640x480 with 0 Axes>"
      ]
     },
     "metadata": {},
     "output_type": "display_data"
    }
   ],
   "source": [
    "import matplotlib.pyplot as plt\n",
    "plt.figure()\n",
    "plt.plot(spots,color='black')\n",
    "plt.xticks(rotation=45)\n",
    "plt.show()\n",
    "plt.clf()"
   ]
  }
 ],
 "metadata": {
  "kernelspec": {
   "display_name": "Python 3 (ipykernel)",
   "language": "python",
   "name": "python3"
  },
  "language_info": {
   "codemirror_mode": {
    "name": "ipython",
    "version": 3
   },
   "file_extension": ".py",
   "mimetype": "text/x-python",
   "name": "python",
   "nbconvert_exporter": "python",
   "pygments_lexer": "ipython3",
   "version": "3.12.7"
  }
 },
 "nbformat": 4,
 "nbformat_minor": 5
}
