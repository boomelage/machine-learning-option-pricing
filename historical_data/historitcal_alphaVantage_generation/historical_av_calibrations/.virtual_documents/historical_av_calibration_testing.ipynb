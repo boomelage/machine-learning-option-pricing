import os
import pandas as pd
from datetime import datetime


df = pd.read_csv(os.listdir()[2])
df = df.iloc[:,1:].copy()


df.describe()


df['calculation_date'] = pd.to_datetime(df['calculation_date'],format="%Y-%m-%d")
df.dtypes


big = df[((df['relative_error']>=0.2)&(df['relative_error']<1))].copy()
abberrations = df[df['relative_error']>1].copy()
df = df[df['relative_error']<0.2].reset_index(drop=True)
df = df[df['calculation_date']>=datetime(2018,1,1)].copy()


df.describe()





import matplotlib.pyplot as plt
plt.figure()
plt.plot(df.set_index('calculation_date')['relative_error'],color='black')
plt.title('absolute relative calibration error for SPY')
plt.show()
plt.clf()


pd.set_option("display.max_rows",None)
big.sort_values(by='relative_error',ascending=False).reset_index(drop=True)


pd.set_option("display.max_rows",None)
abberrations.sort_values(by='relative_error',ascending=False).reset_index(drop=True)
