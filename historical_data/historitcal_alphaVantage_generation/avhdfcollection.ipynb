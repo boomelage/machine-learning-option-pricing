{
 "cells": [
  {
   "cell_type": "code",
   "execution_count": 1,
   "id": "ec2cfc19-c210-4117-b99c-69d64ac1954a",
   "metadata": {},
   "outputs": [],
   "source": [
    "import pandas as pd\n",
    "import os\n",
    "from tqdm import tqdm\n",
    "from datetime import datetime"
   ]
  },
  {
   "cell_type": "code",
   "execution_count": 2,
   "id": "7d18ab65-5ae4-440d-954e-ef4936a5f7c5",
   "metadata": {},
   "outputs": [
    {
     "ename": "HDF5ExtError",
     "evalue": "HDF5 error back trace\n\n  File \"D:\\bld\\hdf5_1717586849786\\work\\src\\H5F.c\", line 836, in H5Fopen\n    unable to synchronously open file\n  File \"D:\\bld\\hdf5_1717586849786\\work\\src\\H5F.c\", line 796, in H5F__open_api_common\n    unable to open file\n  File \"D:\\bld\\hdf5_1717586849786\\work\\src\\H5VLcallback.c\", line 3863, in H5VL_file_open\n    open failed\n  File \"D:\\bld\\hdf5_1717586849786\\work\\src\\H5VLcallback.c\", line 3675, in H5VL__file_open\n    open failed\n  File \"D:\\bld\\hdf5_1717586849786\\work\\src\\H5VLnative_file.c\", line 128, in H5VL__native_file_open\n    unable to open file\n  File \"D:\\bld\\hdf5_1717586849786\\work\\src\\H5Fint.c\", line 1910, in H5F_open\n    unable to lock the file\n  File \"D:\\bld\\hdf5_1717586849786\\work\\src\\H5FD.c\", line 2412, in H5FD_lock\n    driver lock request failed\n  File \"D:\\bld\\hdf5_1717586849786\\work\\src\\H5FDsec2.c\", line 941, in H5FD__sec2_lock\n    unable to lock file, errno = 0, error message = 'No error', Win32 GetLastError() = 33\n\nEnd of HDF5 error back trace\n\nUnable to open/create file 'alphaVantage vanillas.h5'",
     "output_type": "error",
     "traceback": [
      "\u001b[1;31m---------------------------------------------------------------------------\u001b[0m",
      "\u001b[1;31mHDF5ExtError\u001b[0m                              Traceback (most recent call last)",
      "Cell \u001b[1;32mIn[2], line 2\u001b[0m\n\u001b[0;32m      1\u001b[0m os\u001b[38;5;241m.\u001b[39mchdir(\u001b[38;5;124mr\u001b[39m\u001b[38;5;124m\"\u001b[39m\u001b[38;5;124mE:\u001b[39m\u001b[38;5;124m\\\u001b[39m\u001b[38;5;124mgit\u001b[39m\u001b[38;5;124m\\\u001b[39m\u001b[38;5;124mmachine-learning-option-pricing\u001b[39m\u001b[38;5;124m\\\u001b[39m\u001b[38;5;124mhistorical_data\u001b[39m\u001b[38;5;124m\\\u001b[39m\u001b[38;5;124mhistoritcal_alphaVantage_generation\u001b[39m\u001b[38;5;124m\"\u001b[39m)\n\u001b[1;32m----> 2\u001b[0m store \u001b[38;5;241m=\u001b[39m \u001b[43mpd\u001b[49m\u001b[38;5;241;43m.\u001b[39;49m\u001b[43mHDFStore\u001b[49m\u001b[43m(\u001b[49m\u001b[38;5;124;43mr\u001b[39;49m\u001b[38;5;124;43m'\u001b[39;49m\u001b[38;5;124;43malphaVantage vanillas.h5\u001b[39;49m\u001b[38;5;124;43m'\u001b[39;49m\u001b[43m)\u001b[49m\n\u001b[0;32m      3\u001b[0m contract_keys \u001b[38;5;241m=\u001b[39m [key \u001b[38;5;28;01mfor\u001b[39;00m key \u001b[38;5;129;01min\u001b[39;00m store\u001b[38;5;241m.\u001b[39mkeys() \u001b[38;5;28;01mif\u001b[39;00m \u001b[38;5;124m'\u001b[39m\u001b[38;5;124mcontracts\u001b[39m\u001b[38;5;124m'\u001b[39m \u001b[38;5;129;01min\u001b[39;00m key]\n\u001b[0;32m      4\u001b[0m store\u001b[38;5;241m.\u001b[39mclose()\n",
      "File \u001b[1;32mE:\\Python\\Lib\\site-packages\\pandas\\io\\pytables.py:585\u001b[0m, in \u001b[0;36mHDFStore.__init__\u001b[1;34m(self, path, mode, complevel, complib, fletcher32, **kwargs)\u001b[0m\n\u001b[0;32m    583\u001b[0m \u001b[38;5;28mself\u001b[39m\u001b[38;5;241m.\u001b[39m_fletcher32 \u001b[38;5;241m=\u001b[39m fletcher32\n\u001b[0;32m    584\u001b[0m \u001b[38;5;28mself\u001b[39m\u001b[38;5;241m.\u001b[39m_filters \u001b[38;5;241m=\u001b[39m \u001b[38;5;28;01mNone\u001b[39;00m\n\u001b[1;32m--> 585\u001b[0m \u001b[38;5;28;43mself\u001b[39;49m\u001b[38;5;241;43m.\u001b[39;49m\u001b[43mopen\u001b[49m\u001b[43m(\u001b[49m\u001b[43mmode\u001b[49m\u001b[38;5;241;43m=\u001b[39;49m\u001b[43mmode\u001b[49m\u001b[43m,\u001b[49m\u001b[43m \u001b[49m\u001b[38;5;241;43m*\u001b[39;49m\u001b[38;5;241;43m*\u001b[39;49m\u001b[43mkwargs\u001b[49m\u001b[43m)\u001b[49m\n",
      "File \u001b[1;32mE:\\Python\\Lib\\site-packages\\pandas\\io\\pytables.py:745\u001b[0m, in \u001b[0;36mHDFStore.open\u001b[1;34m(self, mode, **kwargs)\u001b[0m\n\u001b[0;32m    739\u001b[0m     msg \u001b[38;5;241m=\u001b[39m (\n\u001b[0;32m    740\u001b[0m         \u001b[38;5;124m\"\u001b[39m\u001b[38;5;124mCannot open HDF5 file, which is already opened, \u001b[39m\u001b[38;5;124m\"\u001b[39m\n\u001b[0;32m    741\u001b[0m         \u001b[38;5;124m\"\u001b[39m\u001b[38;5;124meven in read-only mode.\u001b[39m\u001b[38;5;124m\"\u001b[39m\n\u001b[0;32m    742\u001b[0m     )\n\u001b[0;32m    743\u001b[0m     \u001b[38;5;28;01mraise\u001b[39;00m \u001b[38;5;167;01mValueError\u001b[39;00m(msg)\n\u001b[1;32m--> 745\u001b[0m \u001b[38;5;28mself\u001b[39m\u001b[38;5;241m.\u001b[39m_handle \u001b[38;5;241m=\u001b[39m \u001b[43mtables\u001b[49m\u001b[38;5;241;43m.\u001b[39;49m\u001b[43mopen_file\u001b[49m\u001b[43m(\u001b[49m\u001b[38;5;28;43mself\u001b[39;49m\u001b[38;5;241;43m.\u001b[39;49m\u001b[43m_path\u001b[49m\u001b[43m,\u001b[49m\u001b[43m \u001b[49m\u001b[38;5;28;43mself\u001b[39;49m\u001b[38;5;241;43m.\u001b[39;49m\u001b[43m_mode\u001b[49m\u001b[43m,\u001b[49m\u001b[43m \u001b[49m\u001b[38;5;241;43m*\u001b[39;49m\u001b[38;5;241;43m*\u001b[39;49m\u001b[43mkwargs\u001b[49m\u001b[43m)\u001b[49m\n",
      "File \u001b[1;32mE:\\Python\\Lib\\site-packages\\tables\\file.py:296\u001b[0m, in \u001b[0;36mopen_file\u001b[1;34m(filename, mode, title, root_uep, filters, **kwargs)\u001b[0m\n\u001b[0;32m    291\u001b[0m             \u001b[38;5;28;01mraise\u001b[39;00m \u001b[38;5;167;01mValueError\u001b[39;00m(\n\u001b[0;32m    292\u001b[0m                 \u001b[38;5;124m\"\u001b[39m\u001b[38;5;124mThe file \u001b[39m\u001b[38;5;124m'\u001b[39m\u001b[38;5;132;01m%s\u001b[39;00m\u001b[38;5;124m'\u001b[39m\u001b[38;5;124m is already opened.  Please \u001b[39m\u001b[38;5;124m\"\u001b[39m\n\u001b[0;32m    293\u001b[0m                 \u001b[38;5;124m\"\u001b[39m\u001b[38;5;124mclose it before reopening in write mode.\u001b[39m\u001b[38;5;124m\"\u001b[39m \u001b[38;5;241m%\u001b[39m filename)\n\u001b[0;32m    295\u001b[0m \u001b[38;5;66;03m# Finally, create the File instance, and return it\u001b[39;00m\n\u001b[1;32m--> 296\u001b[0m \u001b[38;5;28;01mreturn\u001b[39;00m \u001b[43mFile\u001b[49m\u001b[43m(\u001b[49m\u001b[43mfilename\u001b[49m\u001b[43m,\u001b[49m\u001b[43m \u001b[49m\u001b[43mmode\u001b[49m\u001b[43m,\u001b[49m\u001b[43m \u001b[49m\u001b[43mtitle\u001b[49m\u001b[43m,\u001b[49m\u001b[43m \u001b[49m\u001b[43mroot_uep\u001b[49m\u001b[43m,\u001b[49m\u001b[43m \u001b[49m\u001b[43mfilters\u001b[49m\u001b[43m,\u001b[49m\u001b[43m \u001b[49m\u001b[38;5;241;43m*\u001b[39;49m\u001b[38;5;241;43m*\u001b[39;49m\u001b[43mkwargs\u001b[49m\u001b[43m)\u001b[49m\n",
      "File \u001b[1;32mE:\\Python\\Lib\\site-packages\\tables\\file.py:746\u001b[0m, in \u001b[0;36mFile.__init__\u001b[1;34m(self, filename, mode, title, root_uep, filters, **kwargs)\u001b[0m\n\u001b[0;32m    743\u001b[0m \u001b[38;5;28mself\u001b[39m\u001b[38;5;241m.\u001b[39mparams \u001b[38;5;241m=\u001b[39m params\n\u001b[0;32m    745\u001b[0m \u001b[38;5;66;03m# Now, it is time to initialize the File extension\u001b[39;00m\n\u001b[1;32m--> 746\u001b[0m \u001b[38;5;28;43mself\u001b[39;49m\u001b[38;5;241;43m.\u001b[39;49m\u001b[43m_g_new\u001b[49m\u001b[43m(\u001b[49m\u001b[43mfilename\u001b[49m\u001b[43m,\u001b[49m\u001b[43m \u001b[49m\u001b[43mmode\u001b[49m\u001b[43m,\u001b[49m\u001b[43m \u001b[49m\u001b[38;5;241;43m*\u001b[39;49m\u001b[38;5;241;43m*\u001b[39;49m\u001b[43mparams\u001b[49m\u001b[43m)\u001b[49m\n\u001b[0;32m    748\u001b[0m \u001b[38;5;66;03m# Check filters and set PyTables format version for new files.\u001b[39;00m\n\u001b[0;32m    749\u001b[0m new \u001b[38;5;241m=\u001b[39m \u001b[38;5;28mself\u001b[39m\u001b[38;5;241m.\u001b[39m_v_new\n",
      "File \u001b[1;32mE:\\Python\\Lib\\site-packages\\tables\\hdf5extension.pyx:514\u001b[0m, in \u001b[0;36mtables.hdf5extension.File._g_new\u001b[1;34m()\u001b[0m\n",
      "\u001b[1;31mHDF5ExtError\u001b[0m: HDF5 error back trace\n\n  File \"D:\\bld\\hdf5_1717586849786\\work\\src\\H5F.c\", line 836, in H5Fopen\n    unable to synchronously open file\n  File \"D:\\bld\\hdf5_1717586849786\\work\\src\\H5F.c\", line 796, in H5F__open_api_common\n    unable to open file\n  File \"D:\\bld\\hdf5_1717586849786\\work\\src\\H5VLcallback.c\", line 3863, in H5VL_file_open\n    open failed\n  File \"D:\\bld\\hdf5_1717586849786\\work\\src\\H5VLcallback.c\", line 3675, in H5VL__file_open\n    open failed\n  File \"D:\\bld\\hdf5_1717586849786\\work\\src\\H5VLnative_file.c\", line 128, in H5VL__native_file_open\n    unable to open file\n  File \"D:\\bld\\hdf5_1717586849786\\work\\src\\H5Fint.c\", line 1910, in H5F_open\n    unable to lock the file\n  File \"D:\\bld\\hdf5_1717586849786\\work\\src\\H5FD.c\", line 2412, in H5FD_lock\n    driver lock request failed\n  File \"D:\\bld\\hdf5_1717586849786\\work\\src\\H5FDsec2.c\", line 941, in H5FD__sec2_lock\n    unable to lock file, errno = 0, error message = 'No error', Win32 GetLastError() = 33\n\nEnd of HDF5 error back trace\n\nUnable to open/create file 'alphaVantage vanillas.h5'"
     ]
    }
   ],
   "source": [
    "os.chdir(r\"E:\\git\\machine-learning-option-pricing\\historical_data\\historitcal_alphaVantage_generation\")\n",
    "store = pd.HDFStore(r'alphaVantage vanillas.h5')\n",
    "contract_keys = [key for key in store.keys() if 'contracts' in key]\n",
    "store.close()"
   ]
  },
  {
   "cell_type": "code",
   "execution_count": 3,
   "id": "a6ebe050-eb73-48bd-a303-a59df327dc64",
   "metadata": {},
   "outputs": [
    {
     "ename": "NameError",
     "evalue": "name 'contract_keys' is not defined",
     "output_type": "error",
     "traceback": [
      "\u001b[1;31m---------------------------------------------------------------------------\u001b[0m",
      "\u001b[1;31mNameError\u001b[0m                                 Traceback (most recent call last)",
      "Cell \u001b[1;32mIn[3], line 4\u001b[0m\n\u001b[0;32m      2\u001b[0m \u001b[38;5;66;03m# end_date = datetime(2024,1,1)\u001b[39;00m\n\u001b[0;32m      3\u001b[0m end_date \u001b[38;5;241m=\u001b[39m datetime\u001b[38;5;241m.\u001b[39mtoday()\n\u001b[1;32m----> 4\u001b[0m contract_keys \u001b[38;5;241m=\u001b[39m [key \u001b[38;5;28;01mfor\u001b[39;00m key \u001b[38;5;129;01min\u001b[39;00m \u001b[43mcontract_keys\u001b[49m \u001b[38;5;28;01mif\u001b[39;00m start_date \u001b[38;5;241m<\u001b[39m\u001b[38;5;241m=\u001b[39m datetime\u001b[38;5;241m.\u001b[39mstrptime(key[key\u001b[38;5;241m.\u001b[39mfind(\u001b[38;5;124m'\u001b[39m\u001b[38;5;124mdate\u001b[39m\u001b[38;5;124m'\u001b[39m)\u001b[38;5;241m+\u001b[39m\u001b[38;5;241m5\u001b[39m:],\u001b[38;5;124m'\u001b[39m\u001b[38;5;124m%\u001b[39m\u001b[38;5;124mY_\u001b[39m\u001b[38;5;124m%\u001b[39m\u001b[38;5;124mm_\u001b[39m\u001b[38;5;132;01m%d\u001b[39;00m\u001b[38;5;124m'\u001b[39m) \u001b[38;5;241m<\u001b[39m\u001b[38;5;241m=\u001b[39m end_date]\n",
      "\u001b[1;31mNameError\u001b[0m: name 'contract_keys' is not defined"
     ]
    }
   ],
   "source": [
    "start_date = datetime(2018,1,1)\n",
    "# end_date = datetime(2024,1,1)\n",
    "end_date = datetime.today()\n",
    "contract_keys = [key for key in contract_keys if start_date <= datetime.strptime(key[key.find('date')+5:],'%Y_%m_%d') <= end_date]"
   ]
  },
  {
   "cell_type": "code",
   "execution_count": 4,
   "id": "d6152e2f-123f-4eb1-971f-91517467fe92",
   "metadata": {},
   "outputs": [
    {
     "name": "stderr",
     "output_type": "stream",
     "text": [
      "                                                                                                                       \r"
     ]
    }
   ],
   "source": [
    "store.open()\n",
    "dfs = []\n",
    "bar = tqdm(total = len(contract_keys),leave=False)\n",
    "for key in contract_keys:\n",
    "    dfs.append(store[key])\n",
    "    dfs.append(store[key])\n",
    "    bar.update(1)\n",
    "bar.close()\n",
    "store.close()"
   ]
  },
  {
   "cell_type": "code",
   "execution_count": 5,
   "id": "6c289400-cff7-4c95-b901-e137901512c1",
   "metadata": {},
   "outputs": [
    {
     "data": {
      "text/html": [
       "<div>\n",
       "<style scoped>\n",
       "    .dataframe tbody tr th:only-of-type {\n",
       "        vertical-align: middle;\n",
       "    }\n",
       "\n",
       "    .dataframe tbody tr th {\n",
       "        vertical-align: top;\n",
       "    }\n",
       "\n",
       "    .dataframe thead th {\n",
       "        text-align: right;\n",
       "    }\n",
       "</style>\n",
       "<table border=\"1\" class=\"dataframe\">\n",
       "  <thead>\n",
       "    <tr style=\"text-align: right;\">\n",
       "      <th></th>\n",
       "      <th>strike_price</th>\n",
       "      <th>volatility</th>\n",
       "      <th>w</th>\n",
       "      <th>bid</th>\n",
       "      <th>ask</th>\n",
       "      <th>calculation_date</th>\n",
       "      <th>expiration_date</th>\n",
       "      <th>mid</th>\n",
       "      <th>spot_price</th>\n",
       "      <th>days_to_maturity</th>\n",
       "    </tr>\n",
       "  </thead>\n",
       "  <tbody>\n",
       "    <tr>\n",
       "      <th>0</th>\n",
       "      <td>235.0</td>\n",
       "      <td>0.92408</td>\n",
       "      <td>put</td>\n",
       "      <td>0.00</td>\n",
       "      <td>0.01</td>\n",
       "      <td>2018-01-02</td>\n",
       "      <td>2018-01-03</td>\n",
       "      <td>0.005</td>\n",
       "      <td>268.105</td>\n",
       "      <td>1</td>\n",
       "    </tr>\n",
       "    <tr>\n",
       "      <th>1</th>\n",
       "      <td>240.0</td>\n",
       "      <td>0.79161</td>\n",
       "      <td>put</td>\n",
       "      <td>0.00</td>\n",
       "      <td>0.01</td>\n",
       "      <td>2018-01-02</td>\n",
       "      <td>2018-01-03</td>\n",
       "      <td>0.005</td>\n",
       "      <td>268.105</td>\n",
       "      <td>1</td>\n",
       "    </tr>\n",
       "    <tr>\n",
       "      <th>2</th>\n",
       "      <td>242.5</td>\n",
       "      <td>0.72576</td>\n",
       "      <td>put</td>\n",
       "      <td>0.00</td>\n",
       "      <td>0.01</td>\n",
       "      <td>2018-01-02</td>\n",
       "      <td>2018-01-03</td>\n",
       "      <td>0.005</td>\n",
       "      <td>268.105</td>\n",
       "      <td>1</td>\n",
       "    </tr>\n",
       "    <tr>\n",
       "      <th>3</th>\n",
       "      <td>245.0</td>\n",
       "      <td>0.66021</td>\n",
       "      <td>put</td>\n",
       "      <td>0.00</td>\n",
       "      <td>0.01</td>\n",
       "      <td>2018-01-02</td>\n",
       "      <td>2018-01-03</td>\n",
       "      <td>0.005</td>\n",
       "      <td>268.105</td>\n",
       "      <td>1</td>\n",
       "    </tr>\n",
       "    <tr>\n",
       "      <th>4</th>\n",
       "      <td>247.5</td>\n",
       "      <td>0.59467</td>\n",
       "      <td>put</td>\n",
       "      <td>0.00</td>\n",
       "      <td>0.01</td>\n",
       "      <td>2018-01-02</td>\n",
       "      <td>2018-01-03</td>\n",
       "      <td>0.005</td>\n",
       "      <td>268.105</td>\n",
       "      <td>1</td>\n",
       "    </tr>\n",
       "    <tr>\n",
       "      <th>...</th>\n",
       "      <td>...</td>\n",
       "      <td>...</td>\n",
       "      <td>...</td>\n",
       "      <td>...</td>\n",
       "      <td>...</td>\n",
       "      <td>...</td>\n",
       "      <td>...</td>\n",
       "      <td>...</td>\n",
       "      <td>...</td>\n",
       "      <td>...</td>\n",
       "    </tr>\n",
       "    <tr>\n",
       "      <th>17532597</th>\n",
       "      <td>820.0</td>\n",
       "      <td>0.10931</td>\n",
       "      <td>call</td>\n",
       "      <td>2.08</td>\n",
       "      <td>3.34</td>\n",
       "      <td>2024-07-18</td>\n",
       "      <td>2026-12-18</td>\n",
       "      <td>2.710</td>\n",
       "      <td>554.975</td>\n",
       "      <td>883</td>\n",
       "    </tr>\n",
       "    <tr>\n",
       "      <th>17532598</th>\n",
       "      <td>825.0</td>\n",
       "      <td>0.11084</td>\n",
       "      <td>call</td>\n",
       "      <td>2.26</td>\n",
       "      <td>3.11</td>\n",
       "      <td>2024-07-18</td>\n",
       "      <td>2026-12-18</td>\n",
       "      <td>2.685</td>\n",
       "      <td>554.975</td>\n",
       "      <td>883</td>\n",
       "    </tr>\n",
       "    <tr>\n",
       "      <th>17532599</th>\n",
       "      <td>830.0</td>\n",
       "      <td>0.11068</td>\n",
       "      <td>call</td>\n",
       "      <td>2.00</td>\n",
       "      <td>2.90</td>\n",
       "      <td>2024-07-18</td>\n",
       "      <td>2026-12-18</td>\n",
       "      <td>2.450</td>\n",
       "      <td>554.975</td>\n",
       "      <td>883</td>\n",
       "    </tr>\n",
       "    <tr>\n",
       "      <th>17532600</th>\n",
       "      <td>835.0</td>\n",
       "      <td>0.10946</td>\n",
       "      <td>call</td>\n",
       "      <td>1.59</td>\n",
       "      <td>2.71</td>\n",
       "      <td>2024-07-18</td>\n",
       "      <td>2026-12-18</td>\n",
       "      <td>2.150</td>\n",
       "      <td>554.975</td>\n",
       "      <td>883</td>\n",
       "    </tr>\n",
       "    <tr>\n",
       "      <th>17532601</th>\n",
       "      <td>840.0</td>\n",
       "      <td>0.11221</td>\n",
       "      <td>call</td>\n",
       "      <td>1.95</td>\n",
       "      <td>2.53</td>\n",
       "      <td>2024-07-18</td>\n",
       "      <td>2026-12-18</td>\n",
       "      <td>2.240</td>\n",
       "      <td>554.975</td>\n",
       "      <td>883</td>\n",
       "    </tr>\n",
       "  </tbody>\n",
       "</table>\n",
       "<p>17532602 rows × 10 columns</p>\n",
       "</div>"
      ],
      "text/plain": [
       "          strike_price  volatility     w   bid   ask calculation_date  \\\n",
       "0                235.0     0.92408   put  0.00  0.01       2018-01-02   \n",
       "1                240.0     0.79161   put  0.00  0.01       2018-01-02   \n",
       "2                242.5     0.72576   put  0.00  0.01       2018-01-02   \n",
       "3                245.0     0.66021   put  0.00  0.01       2018-01-02   \n",
       "4                247.5     0.59467   put  0.00  0.01       2018-01-02   \n",
       "...                ...         ...   ...   ...   ...              ...   \n",
       "17532597         820.0     0.10931  call  2.08  3.34       2024-07-18   \n",
       "17532598         825.0     0.11084  call  2.26  3.11       2024-07-18   \n",
       "17532599         830.0     0.11068  call  2.00  2.90       2024-07-18   \n",
       "17532600         835.0     0.10946  call  1.59  2.71       2024-07-18   \n",
       "17532601         840.0     0.11221  call  1.95  2.53       2024-07-18   \n",
       "\n",
       "         expiration_date    mid  spot_price  days_to_maturity  \n",
       "0             2018-01-03  0.005     268.105                 1  \n",
       "1             2018-01-03  0.005     268.105                 1  \n",
       "2             2018-01-03  0.005     268.105                 1  \n",
       "3             2018-01-03  0.005     268.105                 1  \n",
       "4             2018-01-03  0.005     268.105                 1  \n",
       "...                  ...    ...         ...               ...  \n",
       "17532597      2026-12-18  2.710     554.975               883  \n",
       "17532598      2026-12-18  2.685     554.975               883  \n",
       "17532599      2026-12-18  2.450     554.975               883  \n",
       "17532600      2026-12-18  2.150     554.975               883  \n",
       "17532601      2026-12-18  2.240     554.975               883  \n",
       "\n",
       "[17532602 rows x 10 columns]"
      ]
     },
     "execution_count": 5,
     "metadata": {},
     "output_type": "execute_result"
    }
   ],
   "source": [
    "df = pd.concat(dfs,ignore_index=True)\n",
    "df"
   ]
  },
  {
   "cell_type": "code",
   "execution_count": 6,
   "id": "a869f972-c592-4b62-a4d8-b9ca736ba949",
   "metadata": {},
   "outputs": [
    {
     "data": {
      "text/plain": [
       "calculation_date\n",
       "2018-01-02    268.10500\n",
       "2018-01-03    269.80000\n",
       "2018-01-04    271.35000\n",
       "2018-01-05    272.75500\n",
       "2018-01-08    273.54000\n",
       "                ...    \n",
       "2024-07-11    559.08000\n",
       "2024-07-12    560.41000\n",
       "2024-07-15    562.23355\n",
       "2024-07-17    558.56000\n",
       "2024-07-18    554.97500\n",
       "Name: spot_price, Length: 1020, dtype: float64"
      ]
     },
     "execution_count": 6,
     "metadata": {},
     "output_type": "execute_result"
    }
   ],
   "source": [
    "spots = df.set_index('calculation_date')['spot_price'].drop_duplicates().copy()\n",
    "spots"
   ]
  },
  {
   "cell_type": "code",
   "execution_count": 7,
   "id": "67a434e1-d48c-49b0-a654-eb7c5cfe5327",
   "metadata": {},
   "outputs": [
    {
     "data": {
      "image/png": "[encoded data removed]",
      "text/plain": [
       "<Figure size 640x480 with 1 Axes>"
      ]
     },
     "metadata": {},
     "output_type": "display_data"
    },
    {
     "data": {
      "text/plain": [
       "<Figure size 640x480 with 0 Axes>"
      ]
     },
     "metadata": {},
     "output_type": "display_data"
    }
   ],
   "source": [
    "import matplotlib.pyplot as plt\n",
    "plt.figure()\n",
    "plt.plot(spots,color='black')\n",
    "plt.xticks(rotation=45)\n",
    "plt.show()\n",
    "plt.clf()"
   ]
  }
 ],
 "metadata": {
  "kernelspec": {
   "display_name": "Python 3 (ipykernel)",
   "language": "python",
   "name": "python3"
  },
  "language_info": {
   "codemirror_mode": {
    "name": "ipython",
    "version": 3
   },
   "file_extension": ".py",
   "mimetype": "text/x-python",
   "name": "python",
   "nbconvert_exporter": "python",
   "pygments_lexer": "ipython3",
   "version": "3.12.7"
  }
 },
 "nbformat": 4,
 "nbformat_minor": 5
}
