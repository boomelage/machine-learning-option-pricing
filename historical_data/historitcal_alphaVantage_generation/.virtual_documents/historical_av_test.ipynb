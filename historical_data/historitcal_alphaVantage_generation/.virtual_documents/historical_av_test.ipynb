from historical_alphaVantage_collection import chain
import numpy as np
from scipy import interpolate
import pandas as pd
import matplotlib.pyplot as plt
from matplotlib import cm
import QuantLib as ql


def plot_term_strucutere(date_key):
    ivol_df = chain[date_key]['puts']['surface']
    ivol_df = ivol_df.dropna(how='all',axis=0).dropna(how='all',axis=1).copy()
    strikes = ivol_df.iloc[:,0].dropna().index
    ivol_df = ivol_df.loc[strikes,:].copy()
    T = ivol_df.columns.tolist()
    K = ivol_df.index.tolist()
    ivol_array = ivol_df.to_numpy()
    x = np.arange(0, ivol_array.shape[1])
    y = np.arange(0, ivol_array.shape[0])
    array = np.ma.masked_invalid(ivol_array)
    xx, yy = np.meshgrid(x, y)
    x1 = xx[~array.mask]
    y1 = yy[~array.mask]
    newarr = array[~array.mask]
    GD1 = interpolate.griddata((x1, y1), newarr.ravel(),
                              (xx, yy),
                                method='cubic')
    vol_surf = pd.DataFrame(
        ivol_array,
        index = K,
        columns = T
    ).copy()
    vol_surf = ivol_df.loc[:,ivol_df.columns>0].dropna(how='any', axis=1).copy()
    K = vol_surf.index.tolist()
    T = vol_surf.columns.tolist()
    vol_matrix = ql.Matrix(len(K),len(T),0.0)
    for i,k in enumerate(K):
        for j,t in enumerate(T):
            vol_matrix[i][j] = float(vol_surf.loc[k,t])
    bicubic_vol = ql.BicubicSpline(T,K,vol_matrix)
    K = np.linspace(
        min(K),
        max(K),
        50
    )
    T = np.linspace(
        1,
        10,
        50
    )
    
    KK,TT = np.meshgrid(K,T)
    
    V = np.array(
        [[bicubic_vol(float(t),float(k),False) for k in K] for t in T]
        )
    
    plt.rcParams['figure.figsize']=(7,5)
    
    fig = plt.figure()
    ax = fig.add_subplot(projection='3d')
    ax.view_init(elev=20, azim=120)  
    surf = ax.plot_surface(KK,TT,V, rstride=1, cstride=1, cmap=cm.coolwarm,
                    linewidth=0.1)
    fig.colorbar(surf, shrink=0.3, aspect=5)
    
    ax.set_xlabel("Strike", size=9)
    ax.set_ylabel("Maturity", size=9)
    ax.set_zlabel("Volatility", size=9)
    
    plt.tight_layout()
    plt.show()
    plt.cla()
    plt.clf()


for key in chain.keys():
    try:
        plot_term_strucutere(key)
    except Exception:
        pass






