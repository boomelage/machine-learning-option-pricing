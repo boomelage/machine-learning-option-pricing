import pandas as pd
import os
from tqdm import tqdm
from datetime import datetime


os.chdir(r"E:\git\machine-learning-option-pricing\historical_data\historitcal_alphaVantage_generation")
store = pd.HDFStore(r'alphaVantage vanillas.h5')
contract_keys = [key for key in store.keys() if 'contracts' in key]
store.close()


start_date = datetime(2018,1,1)
# end_date = datetime(2024,1,1)
end_date = datetime.today()
contract_keys = [key for key in contract_keys if start_date <= datetime.strptime(key[key.find('date')+5:],'%Y_%m_%d') <= end_date]


store.open()
dfs = []
bar = tqdm(total = len(contract_keys),leave=False)
for key in contract_keys:
    dfs.append(store[key])
    dfs.append(store[key])
    bar.update(1)
bar.close()
store.close()


df = pd.concat(dfs,ignore_index=True)
df


spots = df.set_index('calculation_date')['spot_price'].drop_duplicates().copy()
spots


import matplotlib.pyplot as plt
plt.figure()
plt.plot(spots,color='black')
plt.xticks(rotation=45)
plt.show()
plt.clf()






