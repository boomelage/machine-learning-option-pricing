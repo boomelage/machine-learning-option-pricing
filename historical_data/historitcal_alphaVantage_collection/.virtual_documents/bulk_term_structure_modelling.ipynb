from datetime import datetime


import os
import sys
import pandas as pd
import numpy as np
import QuantLib as ql
from scipy import interpolate
import matplotlib.pyplot as plt
from matplotlib import cm

from historical_alphaVantage_collection import chain, start_date


def clean_term_structure(date_key,w):
    ivol_df = chain[date_key][w]['surface']
    ivol_df = ivol_df.dropna(how='all',axis=0).dropna(how='all',axis=1)
    strikes = ivol_df.iloc[:,0].dropna().index
    ivol_df = ivol_df.loc[strikes,:].copy()
    T = ivol_df.columns.tolist()
    K = ivol_df.index.tolist()
    ivol_array = ivol_df.to_numpy()
    x = np.arange(0, ivol_array.shape[1])
    y = np.arange(0, ivol_array.shape[0])
    #mask invalid values
    array = np.ma.masked_invalid(ivol_array)
    xx, yy = np.meshgrid(x, y)
    
    x1 = xx[~array.mask]
    y1 = yy[~array.mask]
    newarr = array[~array.mask]
    
    GD1 = interpolate.griddata((x1, y1), newarr.ravel(),
                              (xx, yy),
                                method='cubic')
    vol_surf = pd.DataFrame(
        GD1,
        index = K,
        columns = T
    ).copy()
    
    vol_surf = ivol_df.loc[:,ivol_df.columns>0].dropna(how='any', axis=0).copy()
    return vol_surf


w = 'puts'


surfs = []
for key in chain.keys():
    surfs.append((key,clean_term_structure(key,w)))


for vol_surf in surfs:
    surface = vol_surf[1]
    date = datetime.strptime(vol_surf[0], '%Y-%m-%d').strftime("%A, %Y-%m-%d")
    T = surface.columns.tolist()
    K = surface.index.tolist()
    vol_matrix = ql.Matrix(len(K),len(T),0.0)
    for i,k in enumerate(K):
        for j,t in enumerate(T):
            vol_matrix[i][j] = float(surface.loc[k,t])
    
    bicubic_vol = ql.BicubicSpline(T,K,vol_matrix)
    
    
    K = np.linspace(
        min(K),
        max(K),
        500
    )
    T = np.linspace(
        min(T),
        60,
        500
    )
    
    KK,TT = np.meshgrid(K,T)
    
    V = np.array(
        [[bicubic_vol(float(t),float(k),True) for k in K] for t in T]
        )
    
    plt.rcParams['figure.figsize']=(7,5)
    
    fig = plt.figure()
    ax = fig.add_subplot(projection='3d')
    ax.view_init(elev=20, azim=120)  
    surf = ax.plot_surface(KK,TT,V, rstride=1, cstride=1, cmap=cm.coolwarm,
                    linewidth=0.1)
    fig.colorbar(surf, shrink=0.3, aspect=5)
    plt.title(f"{date}")
    ax.set_xlabel("Strike", size=9)
    ax.set_ylabel("Maturity", size=9)
    ax.set_zlabel("Volatility", size=9)
    
    plt.tight_layout()
    plt.show()
    plt.cla()
    plt.clf()









