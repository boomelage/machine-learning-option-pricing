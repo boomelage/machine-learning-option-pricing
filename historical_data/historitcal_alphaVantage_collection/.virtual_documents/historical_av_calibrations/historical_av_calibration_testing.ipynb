import os
import pandas as pd
from datetime import datetime
pd.set_option('display.float_format', '{:.5f}'.format)
pd.set_option("display.max_columns",None)
pd.set_option("display.max_rows",None)


os.listdir()


df = pd.read_csv(os.listdir()[2])
df = df.iloc[:,1:].copy()


df.describe()


df['calculation_date'] = pd.to_datetime(df['calculation_date'],format="%Y-%m-%d")
df.dtypes


df = df[df['calculation_date']>=datetime(2018,1,1)]
original_count = df.shape[0]


df = df[df['rho']<0]
print(f"total days lost: {original_count - df.shape[0]} out of {original_count}")


big = df[((df['relative_error']>=0.2)&(df['relative_error']<1))]
aberrations = df[df['relative_error']>1]
df = df[~df.index.isin(big.index) & ~df.index.isin(aberrations.index)]


print(f"total days lost: {original_count - df.shape[0]} out of {original_count}")


df.describe()


df['w'].unique().tolist()


import matplotlib.pyplot as plt
plt.figure()
plt.plot(df.set_index('calculation_date')['relative_error'],color='black')
plt.title('absolute relative calibration error for SPY')
plt.show()
plt.clf()


pd.set_option("display.max_rows",None)
big.sort_values(by='relative_error',ascending=False).reset_index(drop=True)


pd.set_option("display.max_rows",None)
aberrations.sort_values(by='relative_error',ascending=False).reset_index(drop=True)


pd.reset_option("display.max_rows")
pd.reset_option("display.max_columns")
