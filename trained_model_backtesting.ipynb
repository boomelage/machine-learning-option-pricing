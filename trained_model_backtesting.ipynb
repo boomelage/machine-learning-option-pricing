{
 "cells": [
  {
   "cell_type": "markdown",
   "id": "40312f41-f276-4eca-b713-5bb3ca023539",
   "metadata": {},
   "source": [
    "# Loading model"
   ]
  },
  {
   "cell_type": "code",
   "execution_count": null,
   "id": "0e42f590-e7b1-4f16-8fdd-c45dde036a9b",
   "metadata": {},
   "outputs": [],
   "source": [
    "import os\n",
    "import joblib\n",
    "import pandas as pd\n",
    "import numpy as np\n",
    "import matplotlib.pyplot as plt\n",
    "from pathlib import Path\n",
    "from model_settings import ms\n",
    "root = Path().resolve().parent.parent\n",
    "models_dir = os.path.join(Path().resolve(),'trained_models','trained_models')\n",
    "models = [f for f in os.listdir(models_dir) if f.find('ipynb')==-1]\n",
    "for i,m in enumerate(models):\n",
    "    print(f\"{i}     {m}\")"
   ]
  },
  {
   "cell_type": "code",
   "execution_count": null,
   "id": "2ba110ce-0d19-43b2-bc86-2754acfd0311",
   "metadata": {},
   "outputs": [],
   "source": [
    "model = models[3]\n",
    "model_dir = os.path.join(models_dir,model)\n",
    "model_files = [f for f in os.listdir(model_dir) if f.find('ipynb')==-1 and f.find('.html')==-1]\n",
    "for i,m in enumerate(model_files):\n",
    "    print(f\"{i}     {m}\")"
   ]
  },
  {
   "cell_type": "code",
   "execution_count": null,
   "id": "04de7255-d1c2-4f48-8f7a-a34459b4b29b",
   "metadata": {},
   "outputs": [],
   "source": [
    "train_data = pd.read_csv(os.path.join(model_dir,model_files[0])).iloc[:,1:].copy()\n",
    "test_data = pd.read_csv(os.path.join(model_dir,model_files[1])).iloc[:,1:].copy()\n",
    "train_data['calculation_date'] = pd.to_datetime(train_data['calculation_date'])\n",
    "test_data['calculation_date'] = pd.to_datetime(test_data['calculation_date'])\n",
    "train_data = train_data.set_index('calculation_date')\n",
    "test_data = test_data.set_index('calculation_date')\n",
    "model_fit = joblib.load(os.path.join(model_dir,model_files[2]))\n",
    "print('maturities:',np.sort(test_data['days_to_maturity'].unique()))\n",
    "print(model_fit)"
   ]
  },
  {
   "cell_type": "code",
   "execution_count": null,
   "id": "eccc6344-6908-4625-a281-9261e00859c6",
   "metadata": {},
   "outputs": [],
   "source": []
  },
  {
   "cell_type": "code",
   "execution_count": null,
   "id": "9bfd3cae-47f9-4a3b-9a06-d5b5ff0dbe94",
   "metadata": {},
   "outputs": [],
   "source": [
    "train_spots = train_data['spot_price']\n",
    "test_spots = test_data['spot_price']\n",
    "train_dates = pd.Series(train_spots.index)\n",
    "test_dates = pd.Series(test_spots.index)\n",
    "plt.figure()\n",
    "plt.plot(train_spots,color='green',label='development')\n",
    "plt.plot(test_spots,color='purple',label='out-of-sample')\n",
    "plt.title('available data')\n",
    "plt.ylabel('underlying spot price')\n",
    "plt.xticks(rotation=45)\n",
    "plt.legend()\n",
    "plt.show()\n",
    "print(test_data.shape[0])"
   ]
  },
  {
   "cell_type": "code",
   "execution_count": null,
   "id": "6832d365-96c9-4131-a08d-2da43246d19e",
   "metadata": {},
   "outputs": [],
   "source": [
    "diff = test_data['outofsample_error'].copy()\n",
    "def compute_RMSE(diff):\n",
    "    return np.sqrt(np.mean(diff**2))\n",
    "def compute_MAE(diff):\n",
    "    return np.mean(np.abs(diff))\n",
    "test_data['RMSE'] = diff.resample('D').apply(compute_RMSE).dropna()\n",
    "test_data['MAE'] = diff.resample('D').apply(compute_MAE).dropna()\n",
    "regression_data = test_data[\n",
    "    [\n",
    "        'spot_price',\n",
    "        'theta', \n",
    "        'kappa',\n",
    "        'rho',\n",
    "        'eta', \n",
    "        'v0',\n",
    "        'RMSE', 'MAE'\n",
    "    ]\n",
    "].copy().drop_duplicates()"
   ]
  },
  {
   "cell_type": "markdown",
   "id": "cb2134d5-7613-4af9-8834-3057029ef4ee",
   "metadata": {},
   "source": [
    "# Testing"
   ]
  },
  {
   "cell_type": "code",
   "execution_count": null,
   "id": "d1226425-303b-48b3-a218-93fd72cb38ec",
   "metadata": {},
   "outputs": [],
   "source": [
    "from sklearn.linear_model import LinearRegression\n",
    "import scipy.stats as stats"
   ]
  },
  {
   "cell_type": "markdown",
   "id": "b5a03f36-1c8a-4b84-9364-48024963286e",
   "metadata": {},
   "source": [
    "### testing for the effect of the spot level on pricing accuracy"
   ]
  },
  {
   "cell_type": "code",
   "execution_count": null,
   "id": "12cdb503-0f8a-4973-b2d8-c0475106dd9b",
   "metadata": {},
   "outputs": [],
   "source": [
    "regression_data.dtypes"
   ]
  },
  {
   "cell_type": "markdown",
   "id": "7753b1b2-70e9-4cb3-80cd-20a81a01146a",
   "metadata": {},
   "source": [
    "### unrestricted regression"
   ]
  },
  {
   "cell_type": "code",
   "execution_count": null,
   "id": "2ed68fb9-86d9-4a38-a380-98fc4bcffa89",
   "metadata": {},
   "outputs": [],
   "source": [
    "X = regression_data[\n",
    "    [\n",
    "        'spot_price',\n",
    "        'theta', \n",
    "        'v0',\n",
    "    ]\n",
    "].copy()\n",
    "X.iloc[:,1:] = np.sqrt(X.iloc[:,1:])*100\n",
    "\n",
    "train_spots = train_data['spot_price'].drop_duplicates()\n",
    "# train_spots, X.iloc[:,0] = np.log(train_data['spot_price'].drop_duplicates()),np.log(X.iloc[:,0])\n",
    "\n",
    "target_name = 'RMSE'\n",
    "y = regression_data[target_name].loc[X.index]\n",
    "\n",
    "fit_intercept = True\n",
    "\n",
    "fig, ax1 = plt.subplots()\n",
    "plt.xticks(rotation=45)\n",
    "for column in X.columns[1:]:\n",
    "    ax1.plot(X.index, X[column], label=column)\n",
    "ax1.plot(X.index, y, label=target_name, color=\"black\")\n",
    "ax1.legend(loc='upper left')\n",
    "ax2 = ax1.twinx()\n",
    "ax2.plot(X.index, X['spot_price'], label='out-of-sample', color=\"purple\")\n",
    "ax2.plot(train_spots,color='green',label='development')\n",
    "ax2.set_ylabel(\"spot level\")\n",
    "ax2.legend(loc=\"upper right\")\n",
    "plt.show()"
   ]
  },
  {
   "cell_type": "raw",
   "id": "b0fcead1-da60-43ad-978f-64ec9293d814",
   "metadata": {},
   "source": [
    "run the unrestricted regression with all of\n",
    "the above features"
   ]
  },
  {
   "cell_type": "code",
   "execution_count": null,
   "id": "604e6c06-fbcd-4319-a571-74946822ba00",
   "metadata": {},
   "outputs": [],
   "source": [
    "Ufit = LinearRegression(fit_intercept=fit_intercept).fit(X,y)\n",
    "Uyhat = Ufit.predict(X)\n",
    "URSS = sum((Uyhat-y)**2)\n",
    "print(f\"features:\\n{X.dtypes}\\n\\ntarget: {target_name}\\n\")\n",
    "for i,c in enumerate(Ufit.coef_):\n",
    "    print(f\"b{i}:   {c}\")\n",
    "print(f\"intercept: {Ufit.intercept_}\")\n",
    "print(f\"R Squared: {Ufit.score(X,y)}\")\n",
    "print(f\"\\nURSS: {URSS}\")"
   ]
  },
  {
   "cell_type": "markdown",
   "id": "0b991b19-718e-4d87-9c05-000cf2a3a62a",
   "metadata": {},
   "source": [
    "### restricted regression"
   ]
  },
  {
   "cell_type": "raw",
   "id": "6fbd8f93-1ab7-434e-9650-d8823dd0d0e5",
   "metadata": {},
   "source": [
    "run the restricted regression where the spot level\n",
    "is not an explanatory variable to the pricing error"
   ]
  },
  {
   "cell_type": "code",
   "execution_count": null,
   "id": "b6d51f75-4cd8-4410-a8a6-a2909297f089",
   "metadata": {},
   "outputs": [],
   "source": [
    "X = X.iloc[:,1:]\n",
    "Rfit = LinearRegression(fit_intercept=fit_intercept).fit(X,y)\n",
    "Ryhat = Rfit.predict(X)\n",
    "RRSS = sum((Ryhat-y)**2)\n",
    "print(f\"features:\\n{X.dtypes}\\n\\ntarget: {target_name}\\n\")\n",
    "for i,c in enumerate(Rfit.coef_):\n",
    "    print(f\"b{i+1}:   {c}\")\n",
    "print(f\"intercept: {Rfit.intercept_}\")\n",
    "print(f\"R Squared: {Rfit.score(X,y)}\")\n",
    "print(f\"\\nRRSS: {RRSS}\")"
   ]
  },
  {
   "cell_type": "markdown",
   "id": "da568b95-f848-4ed0-bcf9-a7852615c475",
   "metadata": {},
   "source": [
    "### F-Test"
   ]
  },
  {
   "cell_type": "raw",
   "id": "7d4487e6-d436-4665-988f-2db1127c2599",
   "metadata": {},
   "source": [
    "next we perform an F-Test to check whether the level \n",
    "of the underlying asset's spot value explains the \n",
    "pricing error"
   ]
  },
  {
   "cell_type": "code",
   "execution_count": null,
   "id": "da3eede7-ba83-4f29-98f8-8c8c635cc95e",
   "metadata": {},
   "outputs": [],
   "source": [
    "m = len(Ufit.coef_)-len(Rfit.coef_)\n",
    "n = len(y)\n",
    "k = len(Ufit.coef_)\n",
    "dfn = m\n",
    "dfd = n-k-1\n",
    "F = ((RRSS-URSS)/dfn)/(URSS/dfd)\n",
    "alpha = 0.05\n",
    "critF = stats.f.ppf(1 - alpha, dfn=dfn, dfd=dfd)\n",
    "print(f\"F: {F}, Critical F: {critF}\")"
   ]
  },
  {
   "cell_type": "code",
   "execution_count": null,
   "id": "6b5d369f-3001-4e80-8f4c-d99071adfbb9",
   "metadata": {},
   "outputs": [],
   "source": []
  },
  {
   "cell_type": "code",
   "execution_count": null,
   "id": "2435b942-535d-42de-bcec-b70c163d6f40",
   "metadata": {},
   "outputs": [],
   "source": []
  }
 ],
 "metadata": {
  "kernelspec": {
   "display_name": "Python 3 (ipykernel)",
   "language": "python",
   "name": "python3"
  },
  "language_info": {
   "codemirror_mode": {
    "name": "ipython",
    "version": 3
   },
   "file_extension": ".py",
   "mimetype": "text/x-python",
   "name": "python",
   "nbconvert_exporter": "python",
   "pygments_lexer": "ipython3",
   "version": "3.12.7"
  }
 },
 "nbformat": 4,
 "nbformat_minor": 5
}
