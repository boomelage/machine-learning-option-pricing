{
 "cells": [
  {
   "cell_type": "markdown",
   "id": "40312f41-f276-4eca-b713-5bb3ca023539",
   "metadata": {},
   "source": [
    "# Loading model"
   ]
  },
  {
   "cell_type": "code",
   "execution_count": 1,
   "id": "0e42f590-e7b1-4f16-8fdd-c45dde036a9b",
   "metadata": {},
   "outputs": [
    {
     "name": "stdout",
     "output_type": "stream",
     "text": [
      "0     2024_10_27 08-05-24 Deep Neural Network asian options\n"
     ]
    }
   ],
   "source": [
    "import os\n",
    "import joblib\n",
    "import pandas as pd\n",
    "import numpy as np\n",
    "import matplotlib.pyplot as plt\n",
    "from pathlib import Path\n",
    "from model_settings import ms\n",
    "root = Path().resolve().parent.parent\n",
    "models_dir = os.path.join(Path().resolve(),'trained_models','trained_models')\n",
    "models = [f for f in os.listdir(models_dir) if f.find('ipynb')==-1]\n",
    "for i,m in enumerate(models):\n",
    "    print(f\"{i}     {m}\")"
   ]
  },
  {
   "cell_type": "code",
   "execution_count": 2,
   "id": "2ba110ce-0d19-43b2-bc86-2754acfd0311",
   "metadata": {},
   "outputs": [
    {
     "name": "stdout",
     "output_type": "stream",
     "text": [
      "0     2024_10_27 08-05-24 Deep Neural Network asian options insample.csv\n",
      "1     2024_10_27 08-05-24 Deep Neural Network asian options outsample.csv\n",
      "2     2024_10_27 08-05-24 Deep Neural Network asian options.pkl\n",
      "3     2024_10_27 08-05-24 Deep Neural Network asian options.txt\n"
     ]
    }
   ],
   "source": [
    "model = models[0]\n",
    "model_dir = os.path.join(models_dir,model)\n",
    "model_files = [f for f in os.listdir(model_dir) if f.find('ipynb')==-1 and f.find('.html')==-1]\n",
    "for i,m in enumerate(model_files):\n",
    "    print(f\"{i}     {m}\")"
   ]
  },
  {
   "cell_type": "code",
   "execution_count": 3,
   "id": "04de7255-d1c2-4f48-8f7a-a34459b4b29b",
   "metadata": {},
   "outputs": [
    {
     "name": "stdout",
     "output_type": "stream",
     "text": [
      "maturities: [  1   7  28  84 168 336]\n",
      "TransformedTargetRegressor(regressor=Pipeline(steps=[('preprocessor',\n",
      "                                                      ColumnTransformer(transformers=[('StandardScaler',\n",
      "                                                                                       StandardScaler(),\n",
      "                                                                                       ['spot_price',\n",
      "                                                                                        'strike_price',\n",
      "                                                                                        'days_to_maturity',\n",
      "                                                                                        'risk_free_rate',\n",
      "                                                                                        'dividend_rate',\n",
      "                                                                                        'kappa',\n",
      "                                                                                        'theta',\n",
      "                                                                                        'rho',\n",
      "                                                                                        'eta',\n",
      "                                                                                        'v0',\n",
      "                                                                                        'fixing_frequency',\n",
      "                                                                                        'n_fixings',\n",
      "                                                                                        'past_fixings']),\n",
      "                                                                                      ('OneHotEncoder',\n",
      "                                                                                       OneHotEncoder(sparse_output=False),\n",
      "                                                                                       ['averaging_type',\n",
      "                                                                                        'w'])])),\n",
      "                                                     ('regressor',\n",
      "                                                      MLPRegressor(hidden_layer_sizes=(15,\n",
      "                                                                                       15,\n",
      "                                                                                       15),\n",
      "                                                                   learning_rate='adaptive',\n",
      "                                                                   max_iter=1000,\n",
      "                                                                   solver='lbfgs'))]),\n",
      "                           transformer=Pipeline(steps=[('StandardScaler',\n",
      "                                                        StandardScaler())]))\n"
     ]
    }
   ],
   "source": [
    "train_data = pd.read_csv(os.path.join(model_dir,[f for f in model_files if f.find('insample')!=-1][0])).iloc[:,1:].copy()\n",
    "test_data = pd.read_csv(os.path.join(model_dir,[f for f in model_files if f. find('outsample')!=-1][0])).iloc[:,1:].copy()\n",
    "train_data['calculation_date'] = pd.to_datetime(train_data['calculation_date'])\n",
    "test_data['calculation_date'] = pd.to_datetime(test_data['calculation_date'])\n",
    "train_data = train_data.set_index('calculation_date')\n",
    "test_data = test_data.set_index('calculation_date')\n",
    "model_fit = joblib.load(os.path.join(model_dir,[f for f in model_files if f.endswith('.pkl')][0]))\n",
    "print('maturities:',np.sort(test_data['days_to_maturity'].unique()))\n",
    "print(model_fit)"
   ]
  },
  {
   "cell_type": "code",
   "execution_count": 4,
   "id": "9bfd3cae-47f9-4a3b-9a06-d5b5ff0dbe94",
   "metadata": {},
   "outputs": [
    {
     "data": {
      "image/png": "[encoded data removed]",
      "text/plain": [
       "<Figure size 640x480 with 1 Axes>"
      ]
     },
     "metadata": {},
     "output_type": "display_data"
    },
    {
     "name": "stdout",
     "output_type": "stream",
     "text": [
      "458220\n"
     ]
    }
   ],
   "source": [
    "train_spots = train_data['spot_price']\n",
    "test_spots = test_data['spot_price']\n",
    "train_dates = pd.Series(train_spots.index)\n",
    "test_dates = pd.Series(test_spots.index)\n",
    "plt.figure()\n",
    "plt.plot(train_spots,color='green',label='development')\n",
    "plt.plot(test_spots,color='purple',label='out-of-sample')\n",
    "plt.title('available data')\n",
    "plt.ylabel('underlying spot price')\n",
    "plt.xticks(rotation=45)\n",
    "plt.legend()\n",
    "plt.show()\n",
    "print(test_data.shape[0])"
   ]
  },
  {
   "cell_type": "code",
   "execution_count": 5,
   "id": "6832d365-96c9-4131-a08d-2da43246d19e",
   "metadata": {},
   "outputs": [],
   "source": [
    "diff = test_data['outofsample_error'].copy()\n",
    "def compute_RMSE(diff):\n",
    "    return np.sqrt(np.mean(diff**2))\n",
    "def compute_MAE(diff):\n",
    "    return np.mean(np.abs(diff))\n",
    "test_data['RMSE'] = diff.resample('D').apply(compute_RMSE).dropna()\n",
    "test_data['MAE'] = diff.resample('D').apply(compute_MAE).dropna()\n",
    "regression_data = test_data[\n",
    "    [\n",
    "        'spot_price',\n",
    "        'theta', \n",
    "        'kappa',\n",
    "        'rho',\n",
    "        'eta', \n",
    "        'v0',\n",
    "        'RMSE', 'MAE'\n",
    "    ]\n",
    "].copy().drop_duplicates()"
   ]
  },
  {
   "cell_type": "markdown",
   "id": "cb2134d5-7613-4af9-8834-3057029ef4ee",
   "metadata": {},
   "source": [
    "# Testing"
   ]
  },
  {
   "cell_type": "code",
   "execution_count": 6,
   "id": "18062ad0-d93a-45c5-9a0a-8bb133f362f5",
   "metadata": {},
   "outputs": [
    {
     "data": {
      "text/html": [
       "<div>\n",
       "<style scoped>\n",
       "    .dataframe tbody tr th:only-of-type {\n",
       "        vertical-align: middle;\n",
       "    }\n",
       "\n",
       "    .dataframe tbody tr th {\n",
       "        vertical-align: top;\n",
       "    }\n",
       "\n",
       "    .dataframe thead th {\n",
       "        text-align: right;\n",
       "    }\n",
       "</style>\n",
       "<table border=\"1\" class=\"dataframe\">\n",
       "  <thead>\n",
       "    <tr style=\"text-align: right;\">\n",
       "      <th></th>\n",
       "      <th>spot_price</th>\n",
       "      <th>theta</th>\n",
       "      <th>kappa</th>\n",
       "      <th>rho</th>\n",
       "      <th>eta</th>\n",
       "      <th>v0</th>\n",
       "      <th>RMSE</th>\n",
       "      <th>MAE</th>\n",
       "    </tr>\n",
       "    <tr>\n",
       "      <th>calculation_date</th>\n",
       "      <th></th>\n",
       "      <th></th>\n",
       "      <th></th>\n",
       "      <th></th>\n",
       "      <th></th>\n",
       "      <th></th>\n",
       "      <th></th>\n",
       "      <th></th>\n",
       "    </tr>\n",
       "  </thead>\n",
       "  <tbody>\n",
       "    <tr>\n",
       "      <th>2008-09-02</th>\n",
       "      <td>1277.53</td>\n",
       "      <td>0.060409</td>\n",
       "      <td>2.129509</td>\n",
       "      <td>-1.000000</td>\n",
       "      <td>0.172868</td>\n",
       "      <td>0.040641</td>\n",
       "      <td>2.757522</td>\n",
       "      <td>1.789542</td>\n",
       "    </tr>\n",
       "    <tr>\n",
       "      <th>2008-09-03</th>\n",
       "      <td>1275.25</td>\n",
       "      <td>0.058609</td>\n",
       "      <td>2.693908</td>\n",
       "      <td>-1.000000</td>\n",
       "      <td>0.178095</td>\n",
       "      <td>0.038360</td>\n",
       "      <td>2.810832</td>\n",
       "      <td>1.781569</td>\n",
       "    </tr>\n",
       "    <tr>\n",
       "      <th>2008-09-04</th>\n",
       "      <td>1236.81</td>\n",
       "      <td>0.062183</td>\n",
       "      <td>1.521139</td>\n",
       "      <td>-1.000000</td>\n",
       "      <td>0.167885</td>\n",
       "      <td>0.050277</td>\n",
       "      <td>2.844644</td>\n",
       "      <td>1.781019</td>\n",
       "    </tr>\n",
       "    <tr>\n",
       "      <th>2008-09-05</th>\n",
       "      <td>1242.38</td>\n",
       "      <td>0.059311</td>\n",
       "      <td>2.859490</td>\n",
       "      <td>-1.000000</td>\n",
       "      <td>0.183520</td>\n",
       "      <td>0.044849</td>\n",
       "      <td>2.865858</td>\n",
       "      <td>1.795580</td>\n",
       "    </tr>\n",
       "    <tr>\n",
       "      <th>2008-09-08</th>\n",
       "      <td>1267.76</td>\n",
       "      <td>0.055250</td>\n",
       "      <td>3.372719</td>\n",
       "      <td>-0.735338</td>\n",
       "      <td>0.256952</td>\n",
       "      <td>0.043867</td>\n",
       "      <td>2.994667</td>\n",
       "      <td>1.907757</td>\n",
       "    </tr>\n",
       "    <tr>\n",
       "      <th>...</th>\n",
       "      <td>...</td>\n",
       "      <td>...</td>\n",
       "      <td>...</td>\n",
       "      <td>...</td>\n",
       "      <td>...</td>\n",
       "      <td>...</td>\n",
       "      <td>...</td>\n",
       "      <td>...</td>\n",
       "    </tr>\n",
       "    <tr>\n",
       "      <th>2012-12-24</th>\n",
       "      <td>1425.78</td>\n",
       "      <td>0.045075</td>\n",
       "      <td>1.533653</td>\n",
       "      <td>-0.758727</td>\n",
       "      <td>0.187296</td>\n",
       "      <td>0.021678</td>\n",
       "      <td>5.811224</td>\n",
       "      <td>3.491105</td>\n",
       "    </tr>\n",
       "    <tr>\n",
       "      <th>2012-12-26</th>\n",
       "      <td>1419.95</td>\n",
       "      <td>0.045965</td>\n",
       "      <td>1.502570</td>\n",
       "      <td>-0.631430</td>\n",
       "      <td>0.230292</td>\n",
       "      <td>0.024230</td>\n",
       "      <td>5.515436</td>\n",
       "      <td>3.396736</td>\n",
       "    </tr>\n",
       "    <tr>\n",
       "      <th>2012-12-27</th>\n",
       "      <td>1417.38</td>\n",
       "      <td>0.049897</td>\n",
       "      <td>1.254997</td>\n",
       "      <td>-0.471477</td>\n",
       "      <td>0.306944</td>\n",
       "      <td>0.026584</td>\n",
       "      <td>5.195527</td>\n",
       "      <td>3.311010</td>\n",
       "    </tr>\n",
       "    <tr>\n",
       "      <th>2012-12-28</th>\n",
       "      <td>1401.16</td>\n",
       "      <td>0.054307</td>\n",
       "      <td>1.224926</td>\n",
       "      <td>-0.301439</td>\n",
       "      <td>0.498256</td>\n",
       "      <td>0.031667</td>\n",
       "      <td>4.198202</td>\n",
       "      <td>2.796987</td>\n",
       "    </tr>\n",
       "    <tr>\n",
       "      <th>2012-12-31</th>\n",
       "      <td>1425.77</td>\n",
       "      <td>0.056212</td>\n",
       "      <td>0.898211</td>\n",
       "      <td>-0.418973</td>\n",
       "      <td>0.324868</td>\n",
       "      <td>0.024660</td>\n",
       "      <td>5.531494</td>\n",
       "      <td>3.495263</td>\n",
       "    </tr>\n",
       "  </tbody>\n",
       "</table>\n",
       "<p>1091 rows × 8 columns</p>\n",
       "</div>"
      ],
      "text/plain": [
       "                  spot_price     theta     kappa       rho       eta  \\\n",
       "calculation_date                                                       \n",
       "2008-09-02           1277.53  0.060409  2.129509 -1.000000  0.172868   \n",
       "2008-09-03           1275.25  0.058609  2.693908 -1.000000  0.178095   \n",
       "2008-09-04           1236.81  0.062183  1.521139 -1.000000  0.167885   \n",
       "2008-09-05           1242.38  0.059311  2.859490 -1.000000  0.183520   \n",
       "2008-09-08           1267.76  0.055250  3.372719 -0.735338  0.256952   \n",
       "...                      ...       ...       ...       ...       ...   \n",
       "2012-12-24           1425.78  0.045075  1.533653 -0.758727  0.187296   \n",
       "2012-12-26           1419.95  0.045965  1.502570 -0.631430  0.230292   \n",
       "2012-12-27           1417.38  0.049897  1.254997 -0.471477  0.306944   \n",
       "2012-12-28           1401.16  0.054307  1.224926 -0.301439  0.498256   \n",
       "2012-12-31           1425.77  0.056212  0.898211 -0.418973  0.324868   \n",
       "\n",
       "                        v0      RMSE       MAE  \n",
       "calculation_date                                \n",
       "2008-09-02        0.040641  2.757522  1.789542  \n",
       "2008-09-03        0.038360  2.810832  1.781569  \n",
       "2008-09-04        0.050277  2.844644  1.781019  \n",
       "2008-09-05        0.044849  2.865858  1.795580  \n",
       "2008-09-08        0.043867  2.994667  1.907757  \n",
       "...                    ...       ...       ...  \n",
       "2012-12-24        0.021678  5.811224  3.491105  \n",
       "2012-12-26        0.024230  5.515436  3.396736  \n",
       "2012-12-27        0.026584  5.195527  3.311010  \n",
       "2012-12-28        0.031667  4.198202  2.796987  \n",
       "2012-12-31        0.024660  5.531494  3.495263  \n",
       "\n",
       "[1091 rows x 8 columns]"
      ]
     },
     "execution_count": 6,
     "metadata": {},
     "output_type": "execute_result"
    }
   ],
   "source": [
    "regression_data"
   ]
  },
  {
   "cell_type": "code",
   "execution_count": 7,
   "id": "d1226425-303b-48b3-a218-93fd72cb38ec",
   "metadata": {},
   "outputs": [],
   "source": [
    "from sklearn.linear_model import LinearRegression\n",
    "import scipy.stats as stats"
   ]
  },
  {
   "cell_type": "markdown",
   "id": "b5a03f36-1c8a-4b84-9364-48024963286e",
   "metadata": {},
   "source": [
    "### testing for the effect of the spot level on pricing accuracy"
   ]
  },
  {
   "cell_type": "code",
   "execution_count": 8,
   "id": "12cdb503-0f8a-4973-b2d8-c0475106dd9b",
   "metadata": {},
   "outputs": [
    {
     "data": {
      "text/plain": [
       "spot_price    float64\n",
       "theta         float64\n",
       "kappa         float64\n",
       "rho           float64\n",
       "eta           float64\n",
       "v0            float64\n",
       "RMSE          float64\n",
       "MAE           float64\n",
       "dtype: object"
      ]
     },
     "execution_count": 8,
     "metadata": {},
     "output_type": "execute_result"
    }
   ],
   "source": [
    "regression_data.dtypes"
   ]
  },
  {
   "cell_type": "markdown",
   "id": "7753b1b2-70e9-4cb3-80cd-20a81a01146a",
   "metadata": {},
   "source": [
    "### unrestricted regression"
   ]
  },
  {
   "cell_type": "code",
   "execution_count": 9,
   "id": "2ed68fb9-86d9-4a38-a380-98fc4bcffa89",
   "metadata": {},
   "outputs": [
    {
     "ename": "KeyError",
     "evalue": "'spot_/price'",
     "output_type": "error",
     "traceback": [
      "\u001b[1;31m---------------------------------------------------------------------------\u001b[0m",
      "\u001b[1;31mKeyError\u001b[0m                                  Traceback (most recent call last)",
      "File \u001b[1;32mE:\\Python\\Lib\\site-packages\\pandas\\core\\indexes\\base.py:3805\u001b[0m, in \u001b[0;36mIndex.get_loc\u001b[1;34m(self, key)\u001b[0m\n\u001b[0;32m   3804\u001b[0m \u001b[38;5;28;01mtry\u001b[39;00m:\n\u001b[1;32m-> 3805\u001b[0m     \u001b[38;5;28;01mreturn\u001b[39;00m \u001b[38;5;28;43mself\u001b[39;49m\u001b[38;5;241;43m.\u001b[39;49m\u001b[43m_engine\u001b[49m\u001b[38;5;241;43m.\u001b[39;49m\u001b[43mget_loc\u001b[49m\u001b[43m(\u001b[49m\u001b[43mcasted_key\u001b[49m\u001b[43m)\u001b[49m\n\u001b[0;32m   3806\u001b[0m \u001b[38;5;28;01mexcept\u001b[39;00m \u001b[38;5;167;01mKeyError\u001b[39;00m \u001b[38;5;28;01mas\u001b[39;00m err:\n",
      "File \u001b[1;32mindex.pyx:167\u001b[0m, in \u001b[0;36mpandas._libs.index.IndexEngine.get_loc\u001b[1;34m()\u001b[0m\n",
      "File \u001b[1;32mindex.pyx:196\u001b[0m, in \u001b[0;36mpandas._libs.index.IndexEngine.get_loc\u001b[1;34m()\u001b[0m\n",
      "File \u001b[1;32mpandas\\\\_libs\\\\hashtable_class_helper.pxi:7081\u001b[0m, in \u001b[0;36mpandas._libs.hashtable.PyObjectHashTable.get_item\u001b[1;34m()\u001b[0m\n",
      "File \u001b[1;32mpandas\\\\_libs\\\\hashtable_class_helper.pxi:7089\u001b[0m, in \u001b[0;36mpandas._libs.hashtable.PyObjectHashTable.get_item\u001b[1;34m()\u001b[0m\n",
      "\u001b[1;31mKeyError\u001b[0m: 'spot_/price'",
      "\nThe above exception was the direct cause of the following exception:\n",
      "\u001b[1;31mKeyError\u001b[0m                                  Traceback (most recent call last)",
      "Cell \u001b[1;32mIn[9], line 7\u001b[0m\n\u001b[0;32m      4\u001b[0m X[\u001b[38;5;124m'\u001b[39m\u001b[38;5;124mkappa\u001b[39m\u001b[38;5;124m'\u001b[39m] \u001b[38;5;241m=\u001b[39m regression_data[\u001b[38;5;124m'\u001b[39m\u001b[38;5;124mkappa\u001b[39m\u001b[38;5;124m'\u001b[39m]\n\u001b[0;32m      5\u001b[0m X[\u001b[38;5;124m'\u001b[39m\u001b[38;5;124meta\u001b[39m\u001b[38;5;124m'\u001b[39m] \u001b[38;5;241m=\u001b[39m regression_data[\u001b[38;5;124m'\u001b[39m\u001b[38;5;124meta\u001b[39m\u001b[38;5;124m'\u001b[39m]\u001b[38;5;241m*\u001b[39m\u001b[38;5;241m100\u001b[39m\n\u001b[1;32m----> 7\u001b[0m train_spots \u001b[38;5;241m=\u001b[39m \u001b[43mtrain_data\u001b[49m\u001b[43m[\u001b[49m\u001b[38;5;124;43m'\u001b[39;49m\u001b[38;5;124;43mspot_/price\u001b[39;49m\u001b[38;5;124;43m'\u001b[39;49m\u001b[43m]\u001b[49m\u001b[38;5;241m.\u001b[39mdrop_duplicates()\n\u001b[0;32m      8\u001b[0m \u001b[38;5;66;03m# train_spots, X.iloc[:,0] = np.log(train_data['spot_price'].drop_duplicates()),np.log(X.iloc[:,0])\u001b[39;00m\n\u001b[0;32m     10\u001b[0m target_name \u001b[38;5;241m=\u001b[39m \u001b[38;5;124m'\u001b[39m\u001b[38;5;124mRMSE\u001b[39m\u001b[38;5;124m'\u001b[39m\n",
      "File \u001b[1;32mE:\\Python\\Lib\\site-packages\\pandas\\core\\frame.py:4102\u001b[0m, in \u001b[0;36mDataFrame.__getitem__\u001b[1;34m(self, key)\u001b[0m\n\u001b[0;32m   4100\u001b[0m \u001b[38;5;28;01mif\u001b[39;00m \u001b[38;5;28mself\u001b[39m\u001b[38;5;241m.\u001b[39mcolumns\u001b[38;5;241m.\u001b[39mnlevels \u001b[38;5;241m>\u001b[39m \u001b[38;5;241m1\u001b[39m:\n\u001b[0;32m   4101\u001b[0m     \u001b[38;5;28;01mreturn\u001b[39;00m \u001b[38;5;28mself\u001b[39m\u001b[38;5;241m.\u001b[39m_getitem_multilevel(key)\n\u001b[1;32m-> 4102\u001b[0m indexer \u001b[38;5;241m=\u001b[39m \u001b[38;5;28;43mself\u001b[39;49m\u001b[38;5;241;43m.\u001b[39;49m\u001b[43mcolumns\u001b[49m\u001b[38;5;241;43m.\u001b[39;49m\u001b[43mget_loc\u001b[49m\u001b[43m(\u001b[49m\u001b[43mkey\u001b[49m\u001b[43m)\u001b[49m\n\u001b[0;32m   4103\u001b[0m \u001b[38;5;28;01mif\u001b[39;00m is_integer(indexer):\n\u001b[0;32m   4104\u001b[0m     indexer \u001b[38;5;241m=\u001b[39m [indexer]\n",
      "File \u001b[1;32mE:\\Python\\Lib\\site-packages\\pandas\\core\\indexes\\base.py:3812\u001b[0m, in \u001b[0;36mIndex.get_loc\u001b[1;34m(self, key)\u001b[0m\n\u001b[0;32m   3807\u001b[0m     \u001b[38;5;28;01mif\u001b[39;00m \u001b[38;5;28misinstance\u001b[39m(casted_key, \u001b[38;5;28mslice\u001b[39m) \u001b[38;5;129;01mor\u001b[39;00m (\n\u001b[0;32m   3808\u001b[0m         \u001b[38;5;28misinstance\u001b[39m(casted_key, abc\u001b[38;5;241m.\u001b[39mIterable)\n\u001b[0;32m   3809\u001b[0m         \u001b[38;5;129;01mand\u001b[39;00m \u001b[38;5;28many\u001b[39m(\u001b[38;5;28misinstance\u001b[39m(x, \u001b[38;5;28mslice\u001b[39m) \u001b[38;5;28;01mfor\u001b[39;00m x \u001b[38;5;129;01min\u001b[39;00m casted_key)\n\u001b[0;32m   3810\u001b[0m     ):\n\u001b[0;32m   3811\u001b[0m         \u001b[38;5;28;01mraise\u001b[39;00m InvalidIndexError(key)\n\u001b[1;32m-> 3812\u001b[0m     \u001b[38;5;28;01mraise\u001b[39;00m \u001b[38;5;167;01mKeyError\u001b[39;00m(key) \u001b[38;5;28;01mfrom\u001b[39;00m \u001b[38;5;21;01merr\u001b[39;00m\n\u001b[0;32m   3813\u001b[0m \u001b[38;5;28;01mexcept\u001b[39;00m \u001b[38;5;167;01mTypeError\u001b[39;00m:\n\u001b[0;32m   3814\u001b[0m     \u001b[38;5;66;03m# If we have a listlike key, _check_indexing_error will raise\u001b[39;00m\n\u001b[0;32m   3815\u001b[0m     \u001b[38;5;66;03m#  InvalidIndexError. Otherwise we fall through and re-raise\u001b[39;00m\n\u001b[0;32m   3816\u001b[0m     \u001b[38;5;66;03m#  the TypeError.\u001b[39;00m\n\u001b[0;32m   3817\u001b[0m     \u001b[38;5;28mself\u001b[39m\u001b[38;5;241m.\u001b[39m_check_indexing_error(key)\n",
      "\u001b[1;31mKeyError\u001b[0m: 'spot_/price'"
     ]
    }
   ],
   "source": [
    "X = pd.DataFrame()\n",
    "X['spot_price'] = regression_data['spot_price']\n",
    "X[['theta', 'v0',]] = np.sqrt(regression_data[['theta', 'v0']])*100 \n",
    "X['kappa'] = regression_data['kappa']\n",
    "X['eta'] = regression_data['eta']*100\n",
    "\n",
    "train_spots = train_data['spot_price'].drop_duplicates()\n",
    "# train_spots, X.iloc[:,0] = np.log(train_data['spot_price'].drop_duplicates()),np.log(X.iloc[:,0])\n",
    "\n",
    "target_name = 'RMSE'\n",
    "y = regression_data[target_name].loc[X.index]\n",
    "fit_intercept = False\n",
    "\n",
    "fig, ax1 = plt.subplots()\n",
    "ax2 = ax1.twinx()\n",
    "plt.xticks(rotation=45)\n",
    "for column in X.columns[1:]:\n",
    "    ax1.plot(X.index, X[column], label=column)\n",
    "ax1.plot(X.index, y, label=target_name, color=\"black\")\n",
    "ax2.plot(X.index, X['spot_price'], label='out-of-sample', color=\"purple\")\n",
    "ax2.plot(train_spots,color='green',label='development')\n",
    "ax2.set_ylabel(\"spot level\")\n",
    "ax1.legend(loc='lower left')\n",
    "ax2.legend(loc=\"upper right\")\n",
    "plt.show()"
   ]
  },
  {
   "cell_type": "raw",
   "id": "b0fcead1-da60-43ad-978f-64ec9293d814",
   "metadata": {},
   "source": [
    "run the unrestricted regression with all of\n",
    "the above features"
   ]
  },
  {
   "cell_type": "code",
   "execution_count": null,
   "id": "604e6c06-fbcd-4319-a571-74946822ba00",
   "metadata": {},
   "outputs": [],
   "source": [
    "Ufit = LinearRegression(fit_intercept=fit_intercept).fit(X,y)\n",
    "Uyhat = Ufit.predict(X)\n",
    "URSS = sum((Uyhat-y)**2)\n",
    "print(f\"features:\\n{X.dtypes}\\n\\ntarget: {target_name}\\n\")\n",
    "for i,c in enumerate(Ufit.coef_):\n",
    "    print(f\"b{i}:   {c}\")\n",
    "print(f\"intercept: {Ufit.intercept_}\")\n",
    "print(f\"R Squared: {Ufit.score(X,y)}\")\n",
    "print(f\"\\nURSS: {URSS}\")"
   ]
  },
  {
   "cell_type": "markdown",
   "id": "0b991b19-718e-4d87-9c05-000cf2a3a62a",
   "metadata": {},
   "source": [
    "### restricted regression"
   ]
  },
  {
   "cell_type": "raw",
   "id": "6fbd8f93-1ab7-434e-9650-d8823dd0d0e5",
   "metadata": {},
   "source": [
    "run the restricted regression where the spot level\n",
    "is not an explanatory variable to the pricing error"
   ]
  },
  {
   "cell_type": "code",
   "execution_count": null,
   "id": "b6d51f75-4cd8-4410-a8a6-a2909297f089",
   "metadata": {},
   "outputs": [],
   "source": [
    "X = X.iloc[:,1:]\n",
    "Rfit = LinearRegression(fit_intercept=fit_intercept).fit(X,y)\n",
    "Ryhat = Rfit.predict(X)\n",
    "RRSS = sum((Ryhat-y)**2)\n",
    "print(f\"features:\\n{X.dtypes}\\n\\ntarget: {target_name}\\n\")\n",
    "for i,c in enumerate(Rfit.coef_):\n",
    "    print(f\"b{i+1}:   {c}\")\n",
    "print(f\"intercept: {Rfit.intercept_}\")\n",
    "print(f\"R Squared: {Rfit.score(X,y)}\")\n",
    "print(f\"\\nRRSS: {RRSS}\")"
   ]
  },
  {
   "cell_type": "markdown",
   "id": "da568b95-f848-4ed0-bcf9-a7852615c475",
   "metadata": {},
   "source": [
    "### F-Test"
   ]
  },
  {
   "cell_type": "raw",
   "id": "7d4487e6-d436-4665-988f-2db1127c2599",
   "metadata": {},
   "source": [
    "next we perform an F-Test to check whether the level \n",
    "of the underlying asset's spot value explains the \n",
    "pricing error"
   ]
  },
  {
   "cell_type": "code",
   "execution_count": null,
   "id": "da3eede7-ba83-4f29-98f8-8c8c635cc95e",
   "metadata": {},
   "outputs": [],
   "source": [
    "m = len(Ufit.coef_)-len(Rfit.coef_)\n",
    "n = len(y)\n",
    "k = len(Ufit.coef_)\n",
    "dfn = m\n",
    "dfd = n-k-1\n",
    "F = ((RRSS-URSS)/dfn)/(URSS/dfd)\n",
    "alpha = 0.05\n",
    "critF = stats.f.ppf(1 - alpha, dfn=dfn, dfd=dfd)\n",
    "print(f\"F: {F}, Critical F: {critF}\")"
   ]
  }
 ],
 "metadata": {
  "kernelspec": {
   "display_name": "Python 3 (ipykernel)",
   "language": "python",
   "name": "python3"
  },
  "language_info": {
   "codemirror_mode": {
    "name": "ipython",
    "version": 3
   },
   "file_extension": ".py",
   "mimetype": "text/x-python",
   "name": "python",
   "nbconvert_exporter": "python",
   "pygments_lexer": "ipython3",
   "version": "3.12.7"
  }
 },
 "nbformat": 4,
 "nbformat_minor": 5
}
