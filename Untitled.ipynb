{
 "cells": [
  {
   "cell_type": "code",
   "execution_count": 9,
   "id": "cc1c7df7-6d01-4e94-832d-d4c546c55de0",
   "metadata": {},
   "outputs": [],
   "source": [
    "import numpy as np"
   ]
  },
  {
   "cell_type": "code",
   "execution_count": 10,
   "id": "07e4d368-a0fa-4c30-8201-6b474385772d",
   "metadata": {},
   "outputs": [],
   "source": [
    "s = 20\n",
    "K = np.linspace(s*0.5,s*1.5,5)"
   ]
  },
  {
   "cell_type": "code",
   "execution_count": 17,
   "id": "e9011704-3654-41ad-8cdb-5eec2823e7aa",
   "metadata": {},
   "outputs": [
    {
     "ename": "SyntaxError",
     "evalue": "unterminated string literal (detected at line 3) (1200647307.py, line 3)",
     "output_type": "error",
     "traceback": [
      "\u001b[1;36m  Cell \u001b[1;32mIn[17], line 3\u001b[1;36m\u001b[0m\n\u001b[1;33m    sys.path.append(notebook_dir,'historical\u001b[0m\n\u001b[1;37m                                 ^\u001b[0m\n\u001b[1;31mSyntaxError\u001b[0m\u001b[1;31m:\u001b[0m unterminated string literal (detected at line 3)\n"
     ]
    }
   ],
   "source": [
    "from pathlib import Path\n",
    "notebook_dir = str(Path().resolve())\n",
    "sys.path.append(notebook_dir,'historical_data','')"
   ]
  },
  {
   "cell_type": "code",
   "execution_count": null,
   "id": "6b442514-8a0a-43bb-b504-b7e9cf3e43fd",
   "metadata": {},
   "outputs": [],
   "source": []
  }
 ],
 "metadata": {
  "kernelspec": {
   "display_name": "Python 3 (ipykernel)",
   "language": "python",
   "name": "python3"
  },
  "language_info": {
   "codemirror_mode": {
    "name": "ipython",
    "version": 3
   },
   "file_extension": ".py",
   "mimetype": "text/x-python",
   "name": "python",
   "nbconvert_exporter": "python",
   "pygments_lexer": "ipython3",
   "version": "3.12.7"
  }
 },
 "nbformat": 4,
 "nbformat_minor": 5
}
