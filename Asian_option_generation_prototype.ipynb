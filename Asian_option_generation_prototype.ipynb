{
 "cells": [
  {
   "cell_type": "code",
   "execution_count": 5,
   "id": "65aa06e1-36e5-47bc-b654-a6affc90e9f1",
   "metadata": {},
   "outputs": [],
   "source": [
    "import QuantLib as ql\n",
    "from model_settings import ms"
   ]
  },
  {
   "cell_type": "code",
   "execution_count": 6,
   "id": "3fd7a21e-1abf-48f7-9fea-b546b5d41c02",
   "metadata": {},
   "outputs": [],
   "source": [
    "calculation_date = ql.Date.todaysDate()\n",
    "\n",
    "r = 0.05\n",
    "g = 0.02\n",
    "s = 100.00\n",
    "k = 80.00\n",
    "\n",
    "option_type = ql.Option.Call\n",
    "\n",
    "v0 = 0.01 \n",
    "kappa = 0.2\n",
    "theta = 0.02\n",
    "rho = -0.75\n",
    "eta = 0.5\n",
    "\n",
    "rng = \"pseudorandom\" # could use \"lowdiscrepancy\"\n",
    "numPaths = 100000\n",
    "\n",
    "periods = [\n",
    "    ql.Period(\"6M\"), ql.Period(\"12M\"), ql.Period(\"18M\"), ql.Period(\"24M\")\n",
    "    ]\n",
    "pastFixings = 0 # Empty because this is a new contract"
   ]
  },
  {
   "cell_type": "code",
   "execution_count": 7,
   "id": "a1ee1a45-5e7e-4a2a-9d18-64dd61106e87",
   "metadata": {},
   "outputs": [],
   "source": [
    "ql.Settings.instance().evaluationDate = calculation_date\n",
    "\n",
    "s0 = ql.QuoteHandle(ql.SimpleQuote(s))\n",
    "\n",
    "asianFutureFixingDates = [calculation_date + period for period in periods]\n",
    "\n",
    "asianExpiryDate = calculation_date + periods[-1]\n",
    "\n",
    "vanillaPayoff = ql.PlainVanillaPayoff(option_type, k)\n",
    "europeanExercise = ql.EuropeanExercise(asianExpiryDate)\n",
    "\n",
    "flat_r, flat_g = ms.ql_ts_rg(\n",
    "    r,g,calculation_date\n",
    "    )\n",
    "\n",
    "hestonProcess = ql.HestonProcess(\n",
    "    flat_r, flat_g, s0, \n",
    "    v0, kappa, theta, eta, rho)\n",
    "\n",
    "engine = ql.MCDiscreteGeometricAPHestonEngine(\n",
    "    hestonProcess, rng, requiredSamples=numPaths)"
   ]
  },
  {
   "cell_type": "code",
   "execution_count": 8,
   "id": "599ee18a-51e8-4b90-b295-ab8e724a6c24",
   "metadata": {},
   "outputs": [],
   "source": [
    "arithmeticRunningAccumulator = 0.0\n",
    "\n",
    "arithmeticAverage = ql.Average().Arithmetic\n",
    "discreteArithmeticAsianOption = ql.DiscreteAveragingAsianOption(\n",
    "    arithmeticAverage, arithmeticRunningAccumulator, pastFixings, \n",
    "    asianFutureFixingDates, vanillaPayoff, europeanExercise)\n",
    "\n",
    "discreteArithmeticAsianOption.setPricingEngine(engine)\n",
    "arith = discreteArithmeticAsianOption.NPV()"
   ]
  },
  {
   "cell_type": "code",
   "execution_count": 9,
   "id": "6c3fc489-4525-48f4-9a41-71cba93a9985",
   "metadata": {},
   "outputs": [],
   "source": [
    "geometricRunningAccumulator = 1.0\n",
    "\n",
    "geometricAverage = ql.Average().Geometric\n",
    "discreteGeometricAsianOption = ql.DiscreteAveragingAsianOption(\n",
    "    geometricAverage, geometricRunningAccumulator, pastFixings, \n",
    "    asianFutureFixingDates, vanillaPayoff, europeanExercise)\n",
    "\n",
    "discreteGeometricAsianOption.setPricingEngine(engine)\n",
    "geo = discreteGeometricAsianOption.NPV()"
   ]
  },
  {
   "cell_type": "code",
   "execution_count": 10,
   "id": "e50fc1c7-610c-4390-b33b-473221e96022",
   "metadata": {},
   "outputs": [
    {
     "name": "stdout",
     "output_type": "stream",
     "text": [
      "\n",
      "arithmetic: 0.0\n",
      "geometric: 21.891864372473233\n",
      "\n"
     ]
    }
   ],
   "source": [
    "print(f\"\\narithmetic: {arith}\\ngeometric: {geo}\\n\")"
   ]
  },
  {
   "cell_type": "raw",
   "id": "f96cb689-1f58-4eb8-b4ff-f1d5cf7c42e8",
   "metadata": {},
   "source": [
    "\"\"\"\n",
    "continuous\n",
    "\"\"\"\n",
    "continuousGeometricAsianOption = ql.ContinuousAveragingAsianOption(\n",
    "    geometricAverage, vanillaPayoff, europeanExercise)"
   ]
  }
 ],
 "metadata": {
  "kernelspec": {
   "display_name": "Python 3 (ipykernel)",
   "language": "python",
   "name": "python3"
  },
  "language_info": {
   "codemirror_mode": {
    "name": "ipython",
    "version": 3
   },
   "file_extension": ".py",
   "mimetype": "text/x-python",
   "name": "python",
   "nbconvert_exporter": "python",
   "pygments_lexer": "ipython3",
   "version": "3.12.7"
  }
 },
 "nbformat": 4,
 "nbformat_minor": 5
}
