{
 "cells": [
  {
   "cell_type": "code",
   "execution_count": 5,
   "id": "b63506bb-5c41-4976-be79-4b3e9d2ce086",
   "metadata": {},
   "outputs": [
    {
     "name": "stdout",
     "output_type": "stream",
     "text": [
      "\n",
      "##################\n",
      "# training start #\n",
      "##################\n",
      "\n",
      "Thu Oct 31 20:40:05 2024\n",
      "\n"
     ]
    },
    {
     "name": "stderr",
     "output_type": "stream",
     "text": [
      "100%|█████████████████████████████████████████████████████████████████████████████████████████████████████████████████████████████████████████████████████████████████████████| 170/170 [00:01<00:00, 109.45it/s]\n"
     ]
    }
   ],
   "source": [
    "import os\n",
    "import sys\n",
    "import time\n",
    "import joblib\n",
    "import numpy as np\n",
    "import pandas as pd\n",
    "import matplotlib.pyplot as plt\n",
    "from tqdm import tqdm\n",
    "from pathlib import Path\n",
    "from datetime import datetime\n",
    "from model_settings import ms\n",
    "os.chdir(os.path.abspath(str(Path())))\n",
    "pd.set_option(\"display.max_columns\",None)\n",
    "pd.options.display.float_format = '{:.5f}'.format\n",
    "notebook_dir = str(Path().resolve())\n",
    "root = Path().resolve().parent.parent\n",
    "models_dir = os.path.join(root,ms.trained_models)\n",
    "train_start = time.time()\n",
    "train_start_datetime = datetime.fromtimestamp(train_start)\n",
    "train_start_tag = train_start_datetime.strftime('%c')\n",
    "print(\"\\n\"+\"#\"*18+\"\\n# training start #\\n\"+\n",
    "      \"#\"*18+\"\\n\"+f\"\\n{train_start_tag}\\n\")\n",
    "\n",
    "\n",
    "from convsklearn import barrier_trainer, asian_trainer\n",
    "from feature_collector import collect_features\n",
    "price_name = 'barrier_price' \n",
    "filetag = 'bloomberg barrier options'\n",
    "trainer = barrier_trainer\n",
    "data_dir = os.path.join(root,ms.cboe_spx_barriers['dump'])\n",
    "\n",
    "dataset = collect_features(data_dir,price_name)\n"
   ]
  },
  {
   "cell_type": "code",
   "execution_count": 6,
   "id": "68d90a1b-e7a7-4d74-bff8-e1cf5e27bd95",
   "metadata": {},
   "outputs": [
    {
     "ename": "NameError",
     "evalue": "name 'unique_dates' is not defined",
     "output_type": "error",
     "traceback": [
      "\u001b[1;31m---------------------------------------------------------------------------\u001b[0m",
      "\u001b[1;31mNameError\u001b[0m                                 Traceback (most recent call last)",
      "Cell \u001b[1;32mIn[6], line 1\u001b[0m\n\u001b[1;32m----> 1\u001b[0m development_dates \u001b[38;5;241m=\u001b[39m \u001b[43munique_dates\u001b[49m[:\u001b[38;5;28mlen\u001b[39m(unique_dates)\u001b[38;5;241m*\u001b[39m\u001b[38;5;241m3\u001b[39m\u001b[38;5;241m/\u001b[39m\u001b[38;5;241m/\u001b[39m\u001b[38;5;241m4\u001b[39m]\n\u001b[0;32m      2\u001b[0m \u001b[38;5;66;03m# development_dates = unique_dates[unique_dates<=pd.Timestamp(2008,9,1)]\u001b[39;00m\n\u001b[0;32m      3\u001b[0m test_dates \u001b[38;5;241m=\u001b[39m unique_dates[\u001b[38;5;241m~\u001b[39munique_dates\u001b[38;5;241m.\u001b[39misin(development_dates)]\n",
      "\u001b[1;31mNameError\u001b[0m: name 'unique_dates' is not defined"
     ]
    }
   ],
   "source": [
    "daets = pd.Series(np.sort(dataset['calculation_date'].unique()))\n",
    "development_dates = dates[:len(dates)*3//4]\n",
    "# development_dates = dates[dates<=pd.Timestamp(2008,9,1)]\n",
    "test_dates = dates[~dates.isin(development_dates)]\n",
    "train_data = dataset[dataset['calculation_date'].isin(development_dates)]\n",
    "test_data = dataset[dataset['calculation_date'].isin(test_dates)]\n",
    "\n",
    "train_plot = train_data[['calculation_date','spot_price']].copy().set_index('calculation_date').drop_duplicates()\n",
    "test_plot = test_data[['calculation_date','spot_price']].copy().set_index('calculation_date').drop_duplicates()\n",
    "plt.figure()\n",
    "plt.xticks(rotation=45)\n",
    "plt.plot(test_plot,color='purple',label='out-of-sample')\n",
    "plt.plot(train_plot,color='green',label='in-sample')\n",
    "plt.legend()\n",
    "plt.show()\n",
    "arrs = trainer.get_train_test_arrays(\n",
    "    train_data, test_data)\n",
    "train_X = arrs['train_X']\n",
    "train_y = arrs['train_y']\n",
    "test_X = arrs['test_X']\n",
    "test_y = arrs['test_y']\n",
    "preprocessor = trainer.preprocess()\n",
    "print(len(train_y),len(train_X))"
   ]
  },
  {
   "cell_type": "markdown",
   "id": "2d0da825-0077-44a7-98c1-f26787c2e5b4",
   "metadata": {},
   "source": [
    "# need to package the above"
   ]
  },
  {
   "cell_type": "markdown",
   "id": "c52e2acc-2b5c-45c4-961a-f230a2574e32",
   "metadata": {},
   "source": [
    "## stacked regressor"
   ]
  },
  {
   "cell_type": "code",
   "execution_count": null,
   "id": "87cff27c-5885-4888-8da4-d9278f88e25d",
   "metadata": {},
   "outputs": [],
   "source": [
    "from sklearn.ensemble import StackingRegressor, GradientBoostingRegressor\n",
    "from sklearn.neural_network import MLPRegressor\n",
    "from sklearn.pipeline import make_pipeline\n",
    "from sklearn.compose import ColumnTransformer\n",
    "from sklearn.preprocessing import StandardScaler, OneHotEncoder, QuantileTransformer, PowerTransformer\n",
    "from sklearn.compose import TransformedTargetRegressor\n",
    "from sklearn.linear_model import Ridge, RidgeCV\n",
    "from sklearn.model_selection import train_test_split\n",
    "from sklearn.metrics import mean_squared_error\n",
    "trainer.dnn_params['max_iter'] = 1000\n",
    "trainer.dnn_params"
   ]
  },
  {
   "cell_type": "code",
   "execution_count": null,
   "id": "4c3f9d2c-4c12-4955-80a9-28e094000592",
   "metadata": {},
   "outputs": [],
   "source": [
    "numerical_scaler = QuantileTransformer()\n",
    "linear_contributors = [\n",
    "    'spot_price', 'strike_price', 'days_to_maturity', \n",
    "    'risk_free_rate', 'dividend_rate', 'kappa', 'theta',\n",
    "    'v0'\n",
    "]\n",
    "\n",
    "\n",
    "ridge_preprocessor = ColumnTransformer(\n",
    "    transformers=[('scaling', numerical_scaler,linear_contributors)]\n",
    ")\n",
    "\n",
    "ridge_pipeline = make_pipeline(ridge_preprocessor, Ridge())\n",
    "\n",
    "test_ridge = TransformedTargetRegressor(\n",
    "    regressor=ridge_pipeline,\n",
    "    transformer=numerical_scaler\n",
    ")\n",
    "\n",
    "test_ridge_fit = test_ridge.fit(train_X,train_y)"
   ]
  },
  {
   "cell_type": "code",
   "execution_count": null,
   "id": "6d9b15d3-a06d-422e-af83-30ab89e7d876",
   "metadata": {},
   "outputs": [],
   "source": [
    "K = train_X['strike_price'].squeeze().reset_index(drop=True).to_numpy()\n",
    "\n",
    "predictions = test_ridge_fit.predict(train_X)\n",
    "diff = predictions-train_y\n",
    "fig,axs = plt.subplots(2,figsize=(5,5),sharex=True)\n",
    "axs[0].scatter(K,predictions)\n",
    "axs[0].set_title('prediction')\n",
    "axs[1].scatter(K,diff)\n",
    "axs[1].set_title('absolute prediction error')\n",
    "plt.xlabel('strike price_name')\n",
    "plt.show()\n",
    "spots = train_data['spot_price'].copy().squeeze().sort_values().reset_index(drop=True)\n",
    "spots.index = train_data['calculation_date']\n",
    "print(f\"\\ntrain spots:\\n{spots.drop_duplicates()}\")\n",
    "test_ridge"
   ]
  },
  {
   "cell_type": "code",
   "execution_count": null,
   "id": "c16eb92f-6233-48c1-8ea7-a48a5792132a",
   "metadata": {},
   "outputs": [],
   "source": [
    "preprocessor = ColumnTransformer(\n",
    "    transformers=[\n",
    "        ('numerical', numerical_scaler,trainer.numerical_features),\n",
    "        ('categorical',OneHotEncoder(),trainer.categorical_features)\n",
    "    ]\n",
    ")\n",
    "\n",
    "mlp_pipeline = make_pipeline(preprocessor,MLPRegressor())\n",
    "stacked_regressor = StackingRegressor(estimators=[('dnn',mlp_pipeline),('ridge',ridge_pipeline)])\n",
    "stacked_regressor"
   ]
  },
  {
   "cell_type": "code",
   "execution_count": null,
   "id": "78c85344-e400-4870-8ecb-1086078db3e4",
   "metadata": {},
   "outputs": [],
   "source": [
    "train_ybar = numerical_scaler.fit_transform(train_y.values.reshape(-1, 1)).ravel()\n",
    "stacked_regressor.fit(train_X, train_ybar)\n",
    "\n",
    "# Predict and inverse transform the predictions\n",
    "predictions_scaled = stacked_regressor.predict(train_X)\n",
    "predictions = numerical_scaler.inverse_transform(predictions_scaled.reshape(-1, 1)).ravel()\n",
    "end = time.time()\n",
    "runtime = end-train_start"
   ]
  },
  {
   "cell_type": "code",
   "execution_count": null,
   "id": "2f29627f-2486-409c-b75b-4750e84c780d",
   "metadata": {},
   "outputs": [],
   "source": [
    "results = trainer.test_prediction_accuracy(\n",
    "        stacked_regressor,\n",
    "        test_data,\n",
    "        train_data\n",
    ")"
   ]
  },
  {
   "cell_type": "code",
   "execution_count": null,
   "id": "efb46a8c-1f19-4c1b-88c2-0ebf05236626",
   "metadata": {},
   "outputs": [],
   "source": [
    "results"
   ]
  },
  {
   "cell_type": "code",
   "execution_count": null,
   "id": "42fb79b3-11c0-4989-a830-d4e86ffabcd5",
   "metadata": {},
   "outputs": [],
   "source": [
    "og = trainer.run_dnn(preprocessor,train_X,train_y)\n",
    "runtime = end-train_start\n",
    "insample, outsample, errors = trainer.test_prediction_accuracy(\n",
    "        og,\n",
    "        test_data,\n",
    "        train_data\n",
    ")\n",
    "outofsample_RMSE = errors['outofsample_RMSE']\n",
    "\n",
    "print(f\"cpu: {runtime}\")\n",
    "og"
   ]
  }
 ],
 "metadata": {
  "kernelspec": {
   "display_name": "Python 3 (ipykernel)",
   "language": "python",
   "name": "python3"
  },
  "language_info": {
   "codemirror_mode": {
    "name": "ipython",
    "version": 3
   },
   "file_extension": ".py",
   "mimetype": "text/x-python",
   "name": "python",
   "nbconvert_exporter": "python",
   "pygments_lexer": "ipython3",
   "version": "3.12.7"
  }
 },
 "nbformat": 4,
 "nbformat_minor": 5
}
