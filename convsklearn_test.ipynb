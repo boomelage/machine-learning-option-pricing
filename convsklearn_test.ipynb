{
 "cells": [
  {
   "cell_type": "code",
   "execution_count": 1,
   "id": "e73b31ad-74ad-429c-bd73-3265c0b7c1cb",
   "metadata": {},
   "outputs": [
    {
     "name": "stdout",
     "output_type": "stream",
     "text": [
      "test size: 1.0%\n",
      "random state: None\n",
      "maximum iterations: 1000\n",
      "\n",
      "target: \n",
      "observed_price\n",
      "\n",
      "features: \n",
      "['spot_price', 'strike_price', 'days_to_maturity', 'risk_free_rate', 'dividend_rate', 'kappa', 'theta', 'rho', 'eta', 'v0', 'barrier', 'barrier_type_name', 'w']\n",
      "\n",
      "feature transformer(s):\n",
      "('StandardScaler', StandardScaler(), ['spot_price', 'strike_price', 'days_to_maturity', 'risk_free_rate', 'dividend_rate', 'kappa', 'theta', 'rho', 'eta', 'v0', 'barrier'])\n",
      "\n",
      "('OneHotEncoder', OneHotEncoder(sparse_output=False), ['barrier_type_name', 'w'])\n",
      "\n",
      "target transformer(s):\n",
      "StandardScaler()\n",
      "\n"
     ]
    }
   ],
   "source": [
    "from convsklearn import barrier_trainer"
   ]
  },
  {
   "cell_type": "code",
   "execution_count": 3,
   "id": "e10f0b25-e994-49cc-89ca-1b65f77c9040",
   "metadata": {},
   "outputs": [],
   "source": [
    "bt = barrier_trainer"
   ]
  },
  {
   "cell_type": "code",
   "execution_count": 4,
   "id": "85b20ed1-b17d-4d0a-90c8-4b2510cee22c",
   "metadata": {},
   "outputs": [
    {
     "data": {
      "text/plain": [
       "<convsklearn.convsklearn.convsklearn at 0x2dc621dc290>"
      ]
     },
     "execution_count": 4,
     "metadata": {},
     "output_type": "execute_result"
    }
   ],
   "source": [
    "bt"
   ]
  },
  {
   "cell_type": "code",
   "execution_count": null,
   "id": "5c396f15-0c17-42b6-88b3-bd6e1a80e980",
   "metadata": {},
   "outputs": [],
   "source": []
  }
 ],
 "metadata": {
  "kernelspec": {
   "display_name": "Python 3 (ipykernel)",
   "language": "python",
   "name": "python3"
  },
  "language_info": {
   "codemirror_mode": {
    "name": "ipython",
    "version": 3
   },
   "file_extension": ".py",
   "mimetype": "text/x-python",
   "name": "python",
   "nbconvert_exporter": "python",
   "pygments_lexer": "ipython3",
   "version": "3.12.7"
  }
 },
 "nbformat": 4,
 "nbformat_minor": 5
}
