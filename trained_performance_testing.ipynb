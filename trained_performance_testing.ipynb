{
 "cells": [
  {
   "cell_type": "code",
   "execution_count": 1,
   "id": "d72f964e-11b6-4ae9-a6e6-4fc4cf43c250",
   "metadata": {},
   "outputs": [
    {
     "data": {
      "text/plain": [
       "['2024-11-15 164145753233 cboe spx relative asian',\n",
       " '2024-11-15 164315824655 cboe spx relative barrier']"
      ]
     },
     "execution_count": 1,
     "metadata": {},
     "output_type": "execute_result"
    }
   ],
   "source": [
    "import os\n",
    "import joblib\n",
    "from pathlib import Path\n",
    "from time import time\n",
    "import pandas as pd\n",
    "import numpy as np\n",
    "from tqdm import tqdm\n",
    "from model_settings import ms\n",
    "from quantlib_pricers import barriers, asians\n",
    "\n",
    "ms.find_root(Path())\n",
    "ms.__dict__\n",
    "\n",
    "modelsdir = os.path.join(ms.root,ms.trained_models)\n",
    "folders = [f for f in os.listdir(modelsdir) if f.find('Legacy')==-1 and not f.startswith('.')]\n",
    "folders"
   ]
  },
  {
   "cell_type": "code",
   "execution_count": 2,
   "id": "422cc5de-2b2b-4358-9a74-22cfc5de88e5",
   "metadata": {},
   "outputs": [
    {
     "data": {
      "text/plain": [
       "<bound method asian_option_pricer.df_asian_option_price of <quantlib_pricers.asian_option_pricer.asian_option_pricer object at 0x000001E6F5017530>>"
      ]
     },
     "execution_count": 2,
     "metadata": {},
     "output_type": "execute_result"
    }
   ],
   "source": [
    "model_folder = folders[0]\n",
    "pricename = str(model_folder[model_folder.rfind(' ')+1:])+'_price'\n",
    "model_dir = os.path.join(modelsdir,model_folder)\n",
    "pickle = [f for f in os.listdir(model_dir) if f.endswith('.pkl') and f.find(model_folder)!=-1][0]\n",
    "model = joblib.load(os.path.join(model_dir,pickle))\n",
    "est = model['model']\n",
    "df = model['train_data'].iloc[:,:-4].copy().reset_index(drop=True)\n",
    "df = df.drop(columns=[c for c in df.columns if c.find(pricename)!=-1])\n",
    "if pricename == 'barrier_price':\n",
    "    pricer = barriers.df_barrier_price\n",
    "\n",
    "elif pricename == 'asian_price':\n",
    "    pricer = asians.df_asian_option_price\n",
    "\n",
    "pricer"
   ]
  },
  {
   "cell_type": "code",
   "execution_count": 3,
   "id": "2a17fb7d-b95b-4b59-9473-775df2ff85b3",
   "metadata": {},
   "outputs": [
    {
     "data": {
      "text/plain": [
       "['days_to_maturity',\n",
       " 'fixing_frequency',\n",
       " 'past_fixings',\n",
       " 'risk_free_rate',\n",
       " 'dividend_rate',\n",
       " 'kappa',\n",
       " 'theta',\n",
       " 'rho',\n",
       " 'eta',\n",
       " 'v0',\n",
       " 'relative_spot',\n",
       " 'averaging_type',\n",
       " 'w']"
      ]
     },
     "execution_count": 3,
     "metadata": {},
     "output_type": "execute_result"
    }
   ],
   "source": [
    "feature_set = model['feature_set']\n",
    "feature_set"
   ]
  },
  {
   "cell_type": "code",
   "execution_count": 4,
   "id": "bcf24943-28e6-4041-a36e-09dd152fcb95",
   "metadata": {
    "scrolled": true
   },
   "outputs": [],
   "source": [
    "def price_row(row):\n",
    "    tic = time()\n",
    "    features = row[1][model['feature_set']].to_frame().T\n",
    "    price = est.predict(features)[0]\n",
    "    MLP = time() - tic\n",
    "    return {'MLP':price,'MLP_cpu':MLP}\n",
    "\n",
    "from joblib import Parallel, delayed\n",
    "results = Parallel()(delayed(price_row)(row) for row in df.iterrows())\n",
    "results = pd.DataFrame(results)\n",
    "df[results.columns] = results"
   ]
  },
  {
   "cell_type": "code",
   "execution_count": 5,
   "id": "1932e1b4-075c-4daf-9c21-a28f1a4a626d",
   "metadata": {},
   "outputs": [],
   "source": [
    "prices = pd.DataFrame(pricer(df))\n",
    "df[prices.columns] = prices"
   ]
  },
  {
   "cell_type": "code",
   "execution_count": 6,
   "id": "1e22d16c-90c0-4602-b814-eb1e97702ad1",
   "metadata": {},
   "outputs": [],
   "source": [
    "df.to_csv(f\"{ms.timetag()} {pricename[:pricename.find('_')]} performance.csv\")"
   ]
  },
  {
   "cell_type": "code",
   "execution_count": 7,
   "id": "98275a28-2134-445d-817b-c607694dc2e7",
   "metadata": {},
   "outputs": [],
   "source": [
    "file = [f for f  in os.listdir(Path()) if f.endswith('.csv')][0]"
   ]
  },
  {
   "cell_type": "code",
   "execution_count": 8,
   "id": "b728d47f-4cd3-41c3-a841-0d759b836078",
   "metadata": {},
   "outputs": [
    {
     "data": {
      "text/plain": [
       "spot_price           float64\n",
       "strike_price         float64\n",
       "barrier              float64\n",
       "days_to_maturity       int64\n",
       "updown                object\n",
       "outin                 object\n",
       "w                     object\n",
       "barrier_type_name     object\n",
       "rebate               float64\n",
       "dividend_rate        float64\n",
       "risk_free_rate       float64\n",
       "theta                float64\n",
       "kappa                float64\n",
       "rho                  float64\n",
       "eta                  float64\n",
       "v0                   float64\n",
       "calculation_date      object\n",
       "date                  object\n",
       "relative_spot        float64\n",
       "relative_barrier     float64\n",
       "relative_rebate      float64\n",
       "MLP                  float64\n",
       "MLP_cpu              float64\n",
       "barrier_price        float64\n",
       "barrier_cpu          float64\n",
       "dtype: object"
      ]
     },
     "execution_count": 8,
     "metadata": {},
     "output_type": "execute_result"
    }
   ],
   "source": [
    "df = pd.read_csv(os.path.join(Path(),file)).iloc[:,1:].copy()\n",
    "df.dtypes"
   ]
  }
 ],
 "metadata": {
  "kernelspec": {
   "display_name": "Python 3 (ipykernel)",
   "language": "python",
   "name": "python3"
  },
  "language_info": {
   "codemirror_mode": {
    "name": "ipython",
    "version": 3
   },
   "file_extension": ".py",
   "mimetype": "text/x-python",
   "name": "python",
   "nbconvert_exporter": "python",
   "pygments_lexer": "ipython3",
   "version": "3.12.7"
  }
 },
 "nbformat": 4,
 "nbformat_minor": 5
}
