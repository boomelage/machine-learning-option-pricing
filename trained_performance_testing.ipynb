{
 "cells": [
  {
   "cell_type": "code",
   "execution_count": 1,
   "id": "d72f964e-11b6-4ae9-a6e6-4fc4cf43c250",
   "metadata": {},
   "outputs": [
    {
     "data": {
      "text/plain": [
       "['2024-11-15 164145753233 cboe spx relative asian',\n",
       " '2024-11-15 164315824655 cboe spx relative barrier']"
      ]
     },
     "execution_count": 1,
     "metadata": {},
     "output_type": "execute_result"
    }
   ],
   "source": [
    "import os\n",
    "import joblib\n",
    "from pathlib import Path\n",
    "from time import time\n",
    "import pandas as pd\n",
    "import numpy as np\n",
    "from tqdm import tqdm\n",
    "from model_settings import ms\n",
    "from quantlib_pricers import barriers\n",
    "\n",
    "ms.find_root(Path())\n",
    "ms.__dict__\n",
    "\n",
    "modelsdir = os.path.join(ms.root,ms.trained_models)\n",
    "folders = [f for f in os.listdir(modelsdir) if f.find('Legacy')==-1]\n",
    "folders"
   ]
  },
  {
   "cell_type": "code",
   "execution_count": 2,
   "id": "422cc5de-2b2b-4358-9a74-22cfc5de88e5",
   "metadata": {},
   "outputs": [
    {
     "data": {
      "text/plain": [
       "'barrier_price'"
      ]
     },
     "execution_count": 2,
     "metadata": {},
     "output_type": "execute_result"
    }
   ],
   "source": [
    "model_folder = folders[1]\n",
    "pricename = str(model_folder[model_folder.rfind(' ')+1:])+'_price'\n",
    "model_dir = os.path.join(modelsdir,model_folder)\n",
    "pickle = [f for f in os.listdir(model_dir) if f.endswith('.pkl') and f.find(model_folder)!=-1][0]\n",
    "model = joblib.load(os.path.join(model_dir,pickle))\n",
    "est = model['model']\n",
    "df = model['train_data'].iloc[:,:-4].copy().reset_index(drop=True)\n",
    "df = df.drop(columns=[c for c in df.columns if c.find(pricename)!=-1])\n",
    "pricename"
   ]
  },
  {
   "cell_type": "code",
   "execution_count": null,
   "id": "e44da8f4-ce58-42d7-870c-16d00b16c488",
   "metadata": {
    "scrolled": true
   },
   "outputs": [
    {
     "name": "stderr",
     "output_type": "stream",
     "text": [
      "  4%|██▉                                                                       | 10400/266781 [00:27<11:22, 375.39it/s]"
     ]
    }
   ],
   "source": [
    "bar = tqdm(total=df.shape[0])\n",
    "for i,row in df.iterrows():\n",
    "    tic = time()\n",
    "    df.at[i, 'MLP'] = est.predict(df.iloc[[i]].loc[:, model['feature_set']])\n",
    "    MLP = time() - tic\n",
    "    df.at[i,'MLP_cpu'] = MLP \n",
    "    bar.update(1)\n",
    "bar.close()"
   ]
  },
  {
   "cell_type": "code",
   "execution_count": null,
   "id": "98275a28-2134-445d-817b-c607694dc2e7",
   "metadata": {},
   "outputs": [],
   "source": [
    "df = barriers.df_barrier_price(df)\n",
    "df.to_csv(f\"{ms.timetag()} {pricename[pricename.find('_'):]} performance.csv\")"
   ]
  }
 ],
 "metadata": {
  "kernelspec": {
   "display_name": "Python 3 (ipykernel)",
   "language": "python",
   "name": "python3"
  },
  "language_info": {
   "codemirror_mode": {
    "name": "ipython",
    "version": 3
   },
   "file_extension": ".py",
   "mimetype": "text/x-python",
   "name": "python",
   "nbconvert_exporter": "python",
   "pygments_lexer": "ipython3",
   "version": "3.12.7"
  }
 },
 "nbformat": 4,
 "nbformat_minor": 5
}
