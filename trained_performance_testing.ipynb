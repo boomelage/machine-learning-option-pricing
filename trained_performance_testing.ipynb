{
 "cells": [
  {
   "cell_type": "code",
   "execution_count": 1,
   "id": "d72f964e-11b6-4ae9-a6e6-4fc4cf43c250",
   "metadata": {},
   "outputs": [
    {
     "data": {
      "text/plain": [
       "['2024-11-15 164145753233 cboe spx relative asian',\n",
       " '2024-11-15 164315824655 cboe spx relative barrier']"
      ]
     },
     "execution_count": 1,
     "metadata": {},
     "output_type": "execute_result"
    }
   ],
   "source": [
    "import os\n",
    "import joblib\n",
    "from pathlib import Path\n",
    "from time import time\n",
    "import pandas as pd\n",
    "import numpy as np\n",
    "from tqdm import tqdm\n",
    "from model_settings import ms\n",
    "from quantlib_pricers import barriers\n",
    "\n",
    "ms.find_root(Path())\n",
    "ms.__dict__\n",
    "\n",
    "modelsdir = os.path.join(ms.root,ms.trained_models)\n",
    "folders = [f for f in os.listdir(modelsdir) if f.find('Legacy')==-1]\n",
    "folders"
   ]
  },
  {
   "cell_type": "code",
   "execution_count": 2,
   "id": "422cc5de-2b2b-4358-9a74-22cfc5de88e5",
   "metadata": {},
   "outputs": [
    {
     "data": {
      "text/plain": [
       "'barrier_price'"
      ]
     },
     "execution_count": 2,
     "metadata": {},
     "output_type": "execute_result"
    }
   ],
   "source": [
    "model_folder = folders[1]\n",
    "pricename = str(model_folder[model_folder.rfind(' ')+1:])+'_price'\n",
    "model_dir = os.path.join(modelsdir,model_folder)\n",
    "pickle = [f for f in os.listdir(model_dir) if f.endswith('.pkl') and f.find(model_folder)!=-1][0]\n",
    "model = joblib.load(os.path.join(model_dir,pickle))\n",
    "est = model['model']\n",
    "df = model['train_data'].iloc[:,:-4].copy().reset_index(drop=True)\n",
    "df = df.drop(columns=[c for c in df.columns if c.find(pricename)!=-1])\n",
    "pricename"
   ]
  },
  {
   "cell_type": "raw",
   "id": "54c8ad6f-eca9-4628-a0b5-380f720a3ccd",
   "metadata": {
    "scrolled": true
   },
   "source": [
    "bar = tqdm(total=df.shape[0])\n",
    "for i,row in df.iterrows():\n",
    "    tic = time()\n",
    "    df.at[i, 'MLP'] = est.predict(df.iloc[[i]].loc[:, model['feature_set']])\n",
    "    MLP = time() - tic\n",
    "    df.at[i,'MLP_cpu'] = MLP \n",
    "    bar.update(1)\n",
    "bar.close()\n",
    "\n",
    "df = barriers.df_barrier_price(df)\n",
    "df.to_csv(f\"{ms.timetag()} {pricename[:pricename.find('_')]} performance.csv\")"
   ]
  },
  {
   "cell_type": "code",
   "execution_count": 6,
   "id": "98275a28-2134-445d-817b-c607694dc2e7",
   "metadata": {},
   "outputs": [],
   "source": [
    "file = [f for f  in os.listdir(Path()) if f.endswith('.csv')][0]"
   ]
  },
  {
   "cell_type": "code",
   "execution_count": 15,
   "id": "b728d47f-4cd3-41c3-a841-0d759b836078",
   "metadata": {},
   "outputs": [
    {
     "name": "stdout",
     "output_type": "stream",
     "text": [
      "             MLP_cpu  barrier_price    barrier_cpu          error\n",
      "count  266781.000000  266781.000000  266781.000000  266781.000000\n",
      "mean        0.002466      75.071199       0.086366       0.009121\n",
      "std         0.005487     139.369805       0.040133      20.478774\n",
      "min         0.000000       0.000000       0.029513   -1243.591005\n",
      "25%         0.000000       0.872015       0.051859      -7.773526\n",
      "50%         0.000000      22.787113       0.098603       1.654734\n",
      "75%         0.000000      93.719801       0.110251       7.462184\n",
      "max         0.091941    1323.022061       0.331892     231.333478\n"
     ]
    }
   ],
   "source": [
    "df = pd.read_csv(os.path.join(Path(),file)).iloc[:,1:].copy()\n",
    "df['MLP'] = df['MLP']*df['strike_price']\n",
    "df['error'] = df['MLP']-df[pricename]\n",
    "results = df.iloc[:,-4:].copy()\n",
    "print(results.describe())"
   ]
  },
  {
   "cell_type": "code",
   "execution_count": 18,
   "id": "3ba74770-f59f-4395-8431-aa00b6d17ad9",
   "metadata": {},
   "outputs": [],
   "source": [
    "MAE = np.mean(np.abs(df['error']))\n",
    "RMSE = np.sqrt(np.mean(df['error']**2))"
   ]
  },
  {
   "cell_type": "code",
   "execution_count": 19,
   "id": "6ec54405-c4fe-43a4-8c03-38a5f40430b8",
   "metadata": {},
   "outputs": [
    {
     "data": {
      "text/plain": [
       "np.float64(12.914962435003947)"
      ]
     },
     "execution_count": 19,
     "metadata": {},
     "output_type": "execute_result"
    }
   ],
   "source": [
    "MAE"
   ]
  },
  {
   "cell_type": "code",
   "execution_count": 20,
   "id": "c8a480ae-4301-4e6c-b29e-db27402b17fe",
   "metadata": {},
   "outputs": [
    {
     "data": {
      "text/plain": [
       "np.float64(20.47873765947515)"
      ]
     },
     "execution_count": 20,
     "metadata": {},
     "output_type": "execute_result"
    }
   ],
   "source": [
    "RMSE"
   ]
  },
  {
   "cell_type": "code",
   "execution_count": null,
   "id": "d6296e1c-19c7-4f88-96d5-570412b9fca9",
   "metadata": {},
   "outputs": [],
   "source": []
  }
 ],
 "metadata": {
  "kernelspec": {
   "display_name": "Python 3 (ipykernel)",
   "language": "python",
   "name": "python3"
  },
  "language_info": {
   "codemirror_mode": {
    "name": "ipython",
    "version": 3
   },
   "file_extension": ".py",
   "mimetype": "text/x-python",
   "name": "python",
   "nbconvert_exporter": "python",
   "pygments_lexer": "ipython3",
   "version": "3.12.7"
  }
 },
 "nbformat": 4,
 "nbformat_minor": 5
}
