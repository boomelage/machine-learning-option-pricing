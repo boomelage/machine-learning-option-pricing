{
 "cells": [
  {
   "cell_type": "code",
   "execution_count": 1,
   "id": "f0d2f96b-933e-4b58-be45-8212f496a6eb",
   "metadata": {},
   "outputs": [
    {
     "name": "stdout",
     "output_type": "stream",
     "text": [
      "0  2024-12-03 115353819604 inital cboe spx relative asian\n",
      "1  2024-12-03 221708375538 inital cboe spx relative barrier\n"
     ]
    },
    {
     "name": "stdin",
     "output_type": "stream",
     "text": [
      "select model:  0\n"
     ]
    }
   ],
   "source": [
    "import os\n",
    "import joblib\n",
    "import numpy as np\n",
    "from model_settings import ms\n",
    "from pathlib import Path\n",
    "ms.find_root(Path())\n",
    "models_dir = os.path.join(ms.root,ms.trained_models)\n",
    "models = [f for f in os.listdir(models_dir) if f.find('.')==-1]\n",
    "for i,m in enumerate(models):\n",
    "    print(f\"{i}  {m}\")\n",
    "i = int(input('select model: '))\n",
    "model_dir = os.path.join(models_dir,models[i])\n",
    "pickle = os.path.join(model_dir,models[i]+'.pkl')\n",
    "\n",
    "def test_performance(model,net):\n",
    "    inpred = net.predict(model['train_X'])\n",
    "    intar = model['train_data'][model['target_name']].values\n",
    "    indiff = inpred-intar\n",
    "    inRMSE = np.sqrt(np.mean(indiff**2))\n",
    "    inMAE = np.mean(np.abs(indiff))\n",
    "    print(f\"in sample\\n   RMSE:\\n      {inRMSE}\")\n",
    "    print(f\"   MAE:\\n      {inMAE}\")\n",
    "\n",
    "    outpred = net.predict(model['test_X'])\n",
    "    outtar = model['test_data'][model['target_name']].values\n",
    "    outdiff = outpred-outtar\n",
    "    outRMSE = np.sqrt(np.mean(outdiff**2))\n",
    "    outMAE = np.mean(np.abs(outdiff))\n",
    "    print(f\"out of sample\\n   RMSE:\\n      {outRMSE}\")\n",
    "    print(f\"   MAE:\\n      {outMAE}\")"
   ]
  },
  {
   "cell_type": "code",
   "execution_count": 2,
   "id": "30c9e4b4-1b59-4662-9545-a25e90d3aa60",
   "metadata": {
    "scrolled": true
   },
   "outputs": [],
   "source": [
    "model = joblib.load(pickle)"
   ]
  },
  {
   "cell_type": "code",
   "execution_count": 3,
   "id": "7b8d6ed8-f822-4f1c-a347-bde2e73ab552",
   "metadata": {},
   "outputs": [
    {
     "data": {
      "text/plain": [
       "{'solver': 'sgd',\n",
       " 'activation': 'relu',\n",
       " 'max_iter': 500,\n",
       " 'random_state': 1312,\n",
       " 'early_stopping': True,\n",
       " 'hidden_layer_sizes': (20,),\n",
       " 'learning_rate': 'adaptive',\n",
       " 'learning_rate_init': 0.1,\n",
       " 'n_iter_no_change': 20,\n",
       " 'tol': 0.0001,\n",
       " 'warm_start': False}"
      ]
     },
     "execution_count": 3,
     "metadata": {},
     "output_type": "execute_result"
    }
   ],
   "source": [
    "model['mlp_params']"
   ]
  },
  {
   "cell_type": "code",
   "execution_count": 4,
   "id": "8af4c6e7-3d6e-43da-bf54-e80df9cce429",
   "metadata": {},
   "outputs": [
    {
     "name": "stdout",
     "output_type": "stream",
     "text": [
      "{'activation': 'relu', 'solver': 'sgd', 'alpha': 0.0001, 'batch_size': 'auto', 'learning_rate': 'adaptive', 'learning_rate_init': 0.1, 'power_t': 0.5, 'max_iter': 500, 'loss': 'squared_error', 'hidden_layer_sizes': (20,), 'shuffle': True, 'random_state': 1312, 'tol': 0.0001, 'verbose': False, 'warm_start': False, 'momentum': 0.9, 'nesterovs_momentum': True, 'early_stopping': True, 'validation_fraction': 0.1, 'beta_1': 0.9, 'beta_2': 0.999, 'epsilon': 1e-08, 'n_iter_no_change': 20, 'max_fun': 15000}\n",
      "\n",
      "Pipeline(steps=[('preprocessor',\n",
      "                 ColumnTransformer(transformers=[('StandardScaler',\n",
      "                                                  StandardScaler(),\n",
      "                                                  ['days_to_maturity',\n",
      "                                                   'fixing_frequency',\n",
      "                                                   'past_fixings',\n",
      "                                                   'risk_free_rate',\n",
      "                                                   'dividend_rate', 'kappa',\n",
      "                                                   'theta', 'rho', 'eta', 'v0',\n",
      "                                                   'relative_spot']),\n",
      "                                                 ('OneHotEncoder',\n",
      "                                                  OneHotEncoder(sparse_output=False),\n",
      "                                                  ['averaging_type', 'w'])])),\n",
      "                ('regressor',\n",
      "                 MLPRegressor(early_stopping=True, hidden_layer_sizes=(20,),\n",
      "                              learning_rate='adaptive', learning_rate_init=0.1,\n",
      "                              max_iter=500, n_iter_no_change=20,\n",
      "                              random_state=1312, solver='sgd'))])\n",
      "\n",
      "out activation:  identity\n"
     ]
    }
   ],
   "source": [
    "from sklearn.neural_network import MLPRegressor\n",
    "from sklearn.pipeline import Pipeline\n",
    "mlp = MLPRegressor(**model['mlp_params'])\n",
    "identity = Pipeline([\n",
    "            (\"preprocessor\", model['preprocessor']),\n",
    "            (\"regressor\", mlp)\n",
    "        ])\n",
    "print(identity[1].__dict__)\n",
    "print()\n",
    "print(identity.fit(model['train_X'],model['train_y']))\n",
    "print()\n",
    "print('out activation: ',identity[1].__dict__['out_activation_'])"
   ]
  },
  {
   "cell_type": "code",
   "execution_count": 5,
   "id": "f7407c2e-5111-4f70-9818-0762e5dd0992",
   "metadata": {},
   "outputs": [
    {
     "name": "stdout",
     "output_type": "stream",
     "text": [
      "{'activation': 'relu', 'solver': 'sgd', 'alpha': 0.0001, 'batch_size': 'auto', 'learning_rate': 'adaptive', 'learning_rate_init': 0.1, 'power_t': 0.5, 'max_iter': 500, 'loss': 'squared_error', 'hidden_layer_sizes': (20,), 'shuffle': True, 'random_state': 1312, 'tol': 0.0001, 'verbose': False, 'warm_start': False, 'momentum': 0.9, 'nesterovs_momentum': True, 'early_stopping': True, 'validation_fraction': 0.1, 'beta_1': 0.9, 'beta_2': 0.999, 'epsilon': 1e-08, 'n_iter_no_change': 20, 'max_fun': 15000}\n",
      "\n",
      "Pipeline(steps=[('preprocessor',\n",
      "                 ColumnTransformer(transformers=[('StandardScaler',\n",
      "                                                  StandardScaler(),\n",
      "                                                  ['days_to_maturity',\n",
      "                                                   'fixing_frequency',\n",
      "                                                   'past_fixings',\n",
      "                                                   'risk_free_rate',\n",
      "                                                   'dividend_rate', 'kappa',\n",
      "                                                   'theta', 'rho', 'eta', 'v0',\n",
      "                                                   'relative_spot']),\n",
      "                                                 ('OneHotEncoder',\n",
      "                                                  OneHotEncoder(sparse_output=False),\n",
      "                                                  ['averaging_type', 'w'])])),\n",
      "                ('regressor',\n",
      "                 MLPRegressor(early_stopping=True, hidden_layer_sizes=(20,),\n",
      "                              learning_rate='adaptive', learning_rate_init=0.1,\n",
      "                              max_iter=500, n_iter_no_change=20,\n",
      "                              random_state=1312, solver='sgd'))])\n",
      "\n",
      "out activation:  relu\n"
     ]
    }
   ],
   "source": [
    "mlp = MLPRegressor(**model['mlp_params'])\n",
    "relu = Pipeline([\n",
    "            (\"preprocessor\", model['preprocessor']),\n",
    "            (\"regressor\", mlp)\n",
    "        ])\n",
    "print(relu[1].__dict__)\n",
    "print()\n",
    "print(relu.fit(model['train_X'],model['train_y']))\n",
    "print()\n",
    "relu[1].__dict__['out_activation_'] = 'relu'\n",
    "print('out activation: ',relu[1].__dict__['out_activation_'])"
   ]
  },
  {
   "cell_type": "code",
   "execution_count": 6,
   "id": "8abd2d2e-74d7-4497-95bd-be3529385deb",
   "metadata": {},
   "outputs": [
    {
     "name": "stdout",
     "output_type": "stream",
     "text": [
      "identity:\n",
      "in sample\n",
      "   RMSE:\n",
      "      0.005038507274035199\n",
      "   MAE:\n",
      "      0.003040082877120672\n",
      "out of sample\n",
      "   RMSE:\n",
      "      0.05114941358661329\n",
      "   MAE:\n",
      "      0.03269348023657448\n",
      "\n",
      "relu:\n",
      "in sample\n",
      "   RMSE:\n",
      "      0.005036100109108606\n",
      "   MAE:\n",
      "      0.00299173319064644\n",
      "out of sample\n",
      "   RMSE:\n",
      "      0.0353026686355799\n",
      "   MAE:\n",
      "      0.016282666365836203\n"
     ]
    }
   ],
   "source": [
    "print('identity:')\n",
    "test_performance(model,identity)\n",
    "print('\\nrelu:')\n",
    "test_performance(model,relu)"
   ]
  },
  {
   "cell_type": "raw",
   "id": "3591693d-f951-489b-9426-e3abb423b103",
   "metadata": {},
   "source": [
    "import pandas as pd\n",
    "param_df = pd.DataFrame()\n",
    "for k,v in net[1].__dict__.items():\n",
    "    try:\n",
    "        param_df.loc[str(k),'specification'] = str(v)\n",
    "    except Exception:\n",
    "        pass\n",
    "\n",
    "param_df = param_df[:31].copy()\n",
    "param_df = param_df.drop(index=[i for i in param_df.index if i.startswith('_')]).reset_index()\n",
    "param_df = param_df.rename(columns={'index':'parameter'})\n",
    "latex_table = param_df.to_latex(index=False, escape=False)\n",
    "print(latex_table)"
   ]
  },
  {
   "cell_type": "code",
   "execution_count": null,
   "id": "41c90dd2-b3f2-4ce5-9c77-af92b5228dbd",
   "metadata": {},
   "outputs": [],
   "source": []
  }
 ],
 "metadata": {
  "kernelspec": {
   "display_name": "Python 3 (ipykernel)",
   "language": "python",
   "name": "python3"
  },
  "language_info": {
   "codemirror_mode": {
    "name": "ipython",
    "version": 3
   },
   "file_extension": ".py",
   "mimetype": "text/x-python",
   "name": "python",
   "nbconvert_exporter": "python",
   "pygments_lexer": "ipython3",
   "version": "3.12.7"
  }
 },
 "nbformat": 4,
 "nbformat_minor": 5
}
