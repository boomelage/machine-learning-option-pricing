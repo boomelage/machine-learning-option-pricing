{
 "cells": [
  {
   "cell_type": "code",
   "execution_count": 31,
   "id": "f0d2f96b-933e-4b58-be45-8212f496a6eb",
   "metadata": {},
   "outputs": [
    {
     "name": "stdout",
     "output_type": "stream",
     "text": [
      "0  2024-12-03 115353819604 inital cboe spx relative asian\n",
      "1  2024-12-03 221708375538 inital cboe spx relative barrier\n",
      "2  2024-12-06 024553040968 inital cboe spx relative barrier\n"
     ]
    }
   ],
   "source": [
    "import os\n",
    "import joblib\n",
    "import numpy as np\n",
    "import matplotlib.pyplot as plt\n",
    "from model_settings import ms\n",
    "from pathlib import Path\n",
    "ms.find_root(Path())\n",
    "models_dir = os.path.join(ms.root,ms.trained_models)\n",
    "models = [f for f in os.listdir(models_dir) if f.find('.')==-1]\n",
    "for i,m in enumerate(models):\n",
    "    print(f\"{i}  {m}\")\n",
    "# i = int(input('select model: '))\n",
    "i=-1\n",
    "model_dir = os.path.join(models_dir,models[i])\n",
    "pickle = os.path.join(model_dir,models[i]+'.pkl')\n",
    "\n",
    "def test_performance(model,net):\n",
    "    inpred = net.predict(model['train_X'])\n",
    "    intar = model['train_data'][model['target_name']].values\n",
    "    indiff = inpred-intar\n",
    "    inRMSE = np.sqrt(np.mean(indiff**2))\n",
    "    inMAE = np.mean(np.abs(indiff))\n",
    "    print(f\"in sample\\n   RMSE:\\n      {inRMSE}\")\n",
    "    print(f\"   MAE:\\n      {inMAE}\")\n",
    "\n",
    "    outpred = net.predict(model['test_X'])\n",
    "    outtar = model['test_data'][model['target_name']].values\n",
    "    outdiff = outpred-outtar\n",
    "    outRMSE = np.sqrt(np.mean(outdiff**2))\n",
    "    outMAE = np.mean(np.abs(outdiff))\n",
    "    print(f\"out of sample\\n   RMSE:\\n      {outRMSE}\")\n",
    "    print(f\"   MAE:\\n      {outMAE}\")"
   ]
  },
  {
   "cell_type": "code",
   "execution_count": 32,
   "id": "30c9e4b4-1b59-4662-9545-a25e90d3aa60",
   "metadata": {
    "scrolled": true
   },
   "outputs": [],
   "source": [
    "model = joblib.load(pickle)"
   ]
  },
  {
   "cell_type": "code",
   "execution_count": 33,
   "id": "7b8d6ed8-f822-4f1c-a347-bde2e73ab552",
   "metadata": {},
   "outputs": [
    {
     "data": {
      "text/plain": [
       "{'solver': 'sgd',\n",
       " 'activation': 'relu',\n",
       " 'max_iter': 500,\n",
       " 'random_state': 710,\n",
       " 'early_stopping': True,\n",
       " 'hidden_layer_sizes': (20,),\n",
       " 'learning_rate': 'adaptive',\n",
       " 'learning_rate_init': 0.1,\n",
       " 'n_iter_no_change': 20,\n",
       " 'tol': 0.0001,\n",
       " 'warm_start': False}"
      ]
     },
     "execution_count": 33,
     "metadata": {},
     "output_type": "execute_result"
    }
   ],
   "source": [
    "model['mlp_params']"
   ]
  },
  {
   "cell_type": "code",
   "execution_count": 34,
   "id": "8af4c6e7-3d6e-43da-bf54-e80df9cce429",
   "metadata": {},
   "outputs": [],
   "source": [
    "from sklearn.neural_network import MLPRegressor\n",
    "from sklearn.pipeline import Pipeline"
   ]
  },
  {
   "cell_type": "code",
   "execution_count": 35,
   "id": "fd3729fb-222e-4d10-8be4-39b25084d8b6",
   "metadata": {},
   "outputs": [],
   "source": [
    "mlp = model['fitted']\n",
    "mlp[1].out_activation_ = 'relu'"
   ]
  },
  {
   "cell_type": "code",
   "execution_count": 36,
   "id": "9e42ced5-5eef-40a3-ab72-f63b57a6013d",
   "metadata": {},
   "outputs": [
    {
     "name": "stdout",
     "output_type": "stream",
     "text": [
      "in sample\n",
      "   RMSE:\n",
      "      0.04982492956128657\n",
      "   MAE:\n",
      "      0.024180624363508776\n",
      "out of sample\n",
      "   RMSE:\n",
      "      0.3635187406668067\n",
      "   MAE:\n",
      "      0.18823574538357962\n"
     ]
    }
   ],
   "source": [
    "test_performance(model,mlp)"
   ]
  },
  {
   "cell_type": "code",
   "execution_count": 28,
   "id": "3c9eaea7-3a1f-4a20-ae9f-223efad8599a",
   "metadata": {},
   "outputs": [
    {
     "name": "stdout",
     "output_type": "stream",
     "text": [
      "\\begin{tabular}{ll}\n",
      "\\toprule\n",
      "parameter & specification \\\\\n",
      "\\midrule\n",
      "activation & relu \\\\\n",
      "solver & sgd \\\\\n",
      "alpha & 0.0001 \\\\\n",
      "batch_size & auto \\\\\n",
      "learning_rate & adaptive \\\\\n",
      "learning_rate_init & 0.1 \\\\\n",
      "power_t & 0.5 \\\\\n",
      "max_iter & 500 \\\\\n",
      "loss & squared_error \\\\\n",
      "hidden_layer_sizes & (10,) \\\\\n",
      "shuffle & True \\\\\n",
      "random_state & 1312 \\\\\n",
      "tol & 0.0001 \\\\\n",
      "verbose & False \\\\\n",
      "warm_start & False \\\\\n",
      "momentum & 0.9 \\\\\n",
      "nesterovs_momentum & True \\\\\n",
      "early_stopping & True \\\\\n",
      "validation_fraction & 0.1 \\\\\n",
      "beta_1 & 0.9 \\\\\n",
      "beta_2 & 0.999 \\\\\n",
      "epsilon & 1e-08 \\\\\n",
      "n_iter_no_change & 20 \\\\\n",
      "max_fun & 15000 \\\\\n",
      "n_features_in_ & 17 \\\\\n",
      "n_outputs_ & 1 \\\\\n",
      "n_iter_ & 299 \\\\\n",
      "t_ & 71833554 \\\\\n",
      "n_layers_ & 3 \\\\\n",
      "out_activation_ & relu \\\\\n",
      "\\bottomrule\n",
      "\\end{tabular}\n",
      "\n"
     ]
    }
   ],
   "source": [
    "import pandas as pd\n",
    "param_df = pd.DataFrame()\n",
    "for k,v in mlp[1].__dict__.items():\n",
    "    try:\n",
    "        param_df.loc[str(k),'specification'] = str(v)\n",
    "    except Exception:\n",
    "        pass\n",
    "\n",
    "param_df = param_df[:31].copy()\n",
    "param_df = param_df.drop(index=[i for i in param_df.index if i.startswith('_')]).reset_index()\n",
    "param_df = param_df.rename(columns={'index':'parameter'})\n",
    "latex_table = param_df.to_latex(index=False, escape=False)\n",
    "print(latex_table)"
   ]
  }
 ],
 "metadata": {
  "kernelspec": {
   "display_name": "Python 3 (ipykernel)",
   "language": "python",
   "name": "python3"
  },
  "language_info": {
   "codemirror_mode": {
    "name": "ipython",
    "version": 3
   },
   "file_extension": ".py",
   "mimetype": "text/x-python",
   "name": "python",
   "nbconvert_exporter": "python",
   "pygments_lexer": "ipython3",
   "version": "3.12.7"
  }
 },
 "nbformat": 4,
 "nbformat_minor": 5
}
