{
 "cells": [
  {
   "cell_type": "code",
   "execution_count": null,
   "id": "6176769e-ecd5-48c0-8101-aefbbf1c906d",
   "metadata": {},
   "outputs": [],
   "source": [
    "import os\n",
    "import pandas as pd\n",
    "import numpy as np\n",
    "import matplotlib.pyplot as plt\n",
    "from pathlib import Path\n",
    "pd.set_option('display.float_format', '{:.6f}'.format)"
   ]
  },
  {
   "cell_type": "markdown",
   "id": "0083861f-2c9c-4675-a4bf-c685939b59f6",
   "metadata": {},
   "source": [
    "# Import Model"
   ]
  },
  {
   "cell_type": "code",
   "execution_count": null,
   "id": "6fb60afc-ba16-4768-933e-f5b353dda074",
   "metadata": {},
   "outputs": [],
   "source": [
    "jupyter_dir = os.path.abspath(str(Path()))\n",
    "jupyter_dir"
   ]
  },
  {
   "cell_type": "code",
   "execution_count": null,
   "id": "7a80bd33-fd82-4d4f-9e9b-4138f279af96",
   "metadata": {},
   "outputs": [],
   "source": [
    "models_path = os.path.join(jupyter_dir,'trained_models','trained_models')\n",
    "models = os.listdir(models_path)\n",
    "for i, path in enumerate(models):\n",
    "    print(f\"{i}   {path}\")"
   ]
  },
  {
   "cell_type": "code",
   "execution_count": null,
   "id": "cbc8c764-60f4-4d9d-a282-59b4a93917bc",
   "metadata": {},
   "outputs": [],
   "source": [
    "model = models[1]\n",
    "model"
   ]
  },
  {
   "cell_type": "code",
   "execution_count": null,
   "id": "bdf95fb7-76a0-43bf-9449-13c42c404812",
   "metadata": {},
   "outputs": [],
   "source": [
    "model_path = os.path.join(models_path,model)"
   ]
  },
  {
   "cell_type": "code",
   "execution_count": null,
   "id": "474beaf4-9cdc-47c3-983d-cca07d043e3f",
   "metadata": {},
   "outputs": [],
   "source": [
    "model_files = os.listdir(model_path)\n",
    "model_files"
   ]
  },
  {
   "cell_type": "code",
   "execution_count": null,
   "id": "c244e9dd-f898-43a7-876f-f51df8f80157",
   "metadata": {},
   "outputs": [],
   "source": [
    "spec_path = os.path.join(model_path,[file for file in model_files if file.endswith('.txt')][0])"
   ]
  },
  {
   "cell_type": "code",
   "execution_count": null,
   "id": "72cbbc52-d5d0-4024-a89e-c11e1e749f50",
   "metadata": {},
   "outputs": [],
   "source": [
    "import joblib"
   ]
  },
  {
   "cell_type": "code",
   "execution_count": null,
   "id": "e97eff4b-339f-47c6-aebb-7b0fd5061b77",
   "metadata": {},
   "outputs": [],
   "source": [
    "model_fit = joblib.load(os.path.join(model_path,[file for file in model_files if file.endswith('.pkl')][0]))"
   ]
  },
  {
   "cell_type": "code",
   "execution_count": null,
   "id": "1632bb15-9412-4548-8a1a-d1d1381dad10",
   "metadata": {
    "scrolled": true
   },
   "outputs": [],
   "source": [
    "with open(spec_path, \"r\") as specs:\n",
    "    for line in specs:\n",
    "        print(line.strip())"
   ]
  },
  {
   "cell_type": "code",
   "execution_count": null,
   "id": "6963be62-331b-41f8-997f-cce11f301fe1",
   "metadata": {},
   "outputs": [],
   "source": [
    "model_files"
   ]
  },
  {
   "cell_type": "code",
   "execution_count": null,
   "id": "74bcc688-02b2-4d31-8006-34ffe08bd416",
   "metadata": {},
   "outputs": [],
   "source": [
    "pd.reset_option(\"display.max_rows\")\n",
    "pd.reset_option(\"display.max_columns\")\n",
    "\n",
    "outsample_path = os.path.join(model_path,[file for file in model_files if file.find('outsample') != -1][0])\n",
    "outsample = pd.read_csv(outsample_path).iloc[:,1:]\n",
    "\n",
    "insample_path = os.path.join(model_path,[file for file in model_files if file.find('insample') != -1][0])\n",
    "insample = pd.read_csv(insample_path).iloc[:,1:]"
   ]
  },
  {
   "cell_type": "markdown",
   "id": "fd86083b-98aa-41db-b0eb-de633e316c3d",
   "metadata": {},
   "source": [
    "# Test Model"
   ]
  },
  {
   "cell_type": "code",
   "execution_count": null,
   "id": "f5fd9994-2cb6-47e7-817b-ff7142ece932",
   "metadata": {},
   "outputs": [],
   "source": [
    "maturities = outsample['days_to_maturity'].unique().tolist()\n",
    "barrier_type_names = outsample['barrier_type_name'].unique().tolist()\n",
    "ws = outsample['w'].unique().tolist()\n",
    "print(f\"\\nmaturities:\\n     maturities = {maturities}\")\n",
    "print(f\"\\ntypes:\\n     barrier_type_names = {barrier_type_names}\\n     ws = {ws}\\n\")"
   ]
  },
  {
   "cell_type": "code",
   "execution_count": null,
   "id": "26a98412-cbf1-4bfe-ac10-7bc0278d1894",
   "metadata": {},
   "outputs": [],
   "source": [
    "by_wbt = outsample.copy().set_index(['w','barrier_type_name','days_to_maturity']).sort_index()"
   ]
  },
  {
   "cell_type": "code",
   "execution_count": null,
   "id": "9f0cde77-b6db-4a60-89ce-b3d01b97ba2d",
   "metadata": {},
   "outputs": [],
   "source": [
    "RMSE = pd.DataFrame(\n",
    "    np.zeros((len(maturities),len(barrier_type_names)),dtype=float),\n",
    "    columns = barrier_type_names,\n",
    "    index = maturities\n",
    ")\n",
    "\n",
    "for t in maturities:\n",
    "    for b in barrier_type_names:\n",
    "        RMSE.loc[t,b] = np.sqrt(np.average((by_wbt.loc[(slice(None), b, t),'outofsample_error'])**2))\n",
    "print(f\"\\nRMSE:\\n{RMSE}\")"
   ]
  },
  {
   "cell_type": "code",
   "execution_count": null,
   "id": "ba16d6ea-b7bb-4912-bb95-02beb3909bb3",
   "metadata": {},
   "outputs": [],
   "source": [
    "MAE = pd.DataFrame(\n",
    "    np.zeros((len(maturities),len(barrier_type_names)),dtype=float),\n",
    "    index = maturities,\n",
    "    columns = barrier_type_names\n",
    ")\n",
    "for t in maturities:\n",
    "    for b in barrier_type_names:\n",
    "        MAE.loc[t,b] = np.average(np.abs(by_wbt.loc[(slice(None), b, t),'outofsample_error']))\n",
    "print(f\"\\nMAE:\\n{MAE}\")"
   ]
  },
  {
   "cell_type": "code",
   "execution_count": null,
   "id": "96f3b859-d7a2-4471-bd0d-ae90522f8669",
   "metadata": {
    "scrolled": true
   },
   "outputs": [],
   "source": [
    "errors_bypayoff = {}\n",
    "for w in ws:\n",
    "    errors = {}\n",
    "    print(\n",
    "        f\"\\n         {'#'*(len(w)+5)}\"\n",
    "        f\"\\n         # {w}s #\"\n",
    "        f\"\\n         {'#'*(len(w)+5)}\"\n",
    "    )\n",
    "    RMSE = pd.DataFrame(\n",
    "        np.zeros((len(maturities),len(barrier_type_names)),dtype=float),\n",
    "        columns = barrier_type_names\n",
    "        )\n",
    "    RMSE[w] = maturities\n",
    "    RMSE = RMSE.set_index(w,drop=True)\n",
    "    for t in maturities:\n",
    "        for b in barrier_type_names:\n",
    "            RMSE.loc[t,b] = np.sqrt(np.average((by_wbt.loc[(w, b, t),'outofsample_error'])**2))\n",
    "    print(f\"RMSE:\\n{RMSE}\")\n",
    "    print()\n",
    "    errors['RMSE'] = RMSE\n",
    "    \n",
    "\n",
    "\n",
    "    MAE = pd.DataFrame(\n",
    "        np.zeros((len(maturities),len(barrier_type_names)),dtype=float),\n",
    "        columns = barrier_type_names\n",
    "    )\n",
    "    MAE[w] = maturities\n",
    "    MAE = MAE.set_index(w,drop=True)\n",
    "    for t in maturities:\n",
    "        for b in barrier_type_names:\n",
    "            MAE.loc[t,b] = np.average(np.abs(by_wbt.loc[(w, b, t),'outofsample_error']))\n",
    "    print(f\"MAE:\\n{MAE}\")\n",
    "    print()\n",
    "    errors['MAE'] = MAE\n",
    "    errors_bypayoff[w] = errors"
   ]
  },
  {
   "cell_type": "code",
   "execution_count": null,
   "id": "d2bdc13e-17f1-426c-b5ad-490083a16ac1",
   "metadata": {},
   "outputs": [],
   "source": [
    "max_MAE = max(errors['MAE'].values.flatten())\n",
    "max_RMSE = max(errors['RMSE'].values.flatten())\n",
    "plot_height = max(max_RMSE,max_MAE)*1.05\n",
    "maturities = errors['MAE'].index.astype(str).tolist()"
   ]
  },
  {
   "cell_type": "code",
   "execution_count": null,
   "id": "1c7703a4-6b28-4fb3-8d14-4d77960af8f2",
   "metadata": {},
   "outputs": [],
   "source": [
    "fig, axs = plt.subplots(2, 4, figsize=(15,10))\n",
    "bar_width = 0.4\n",
    "i = 0\n",
    "for w, errors in errors_bypayoff.items():\n",
    "    for b in barrier_type_names:\n",
    "\n",
    "        MAE = errors['MAE'][b]\n",
    "        RMSE = errors['RMSE'][b]\n",
    "        x_positions = range(len(maturities))\n",
    "        axs[i // 4, i % 4].grid(True,which='both', linestyle='--', color='gray')\n",
    "        axs[i // 4, i % 4].bar(\n",
    "            [x - 0.5 * bar_width for x in x_positions], MAE, width=bar_width, color='green',label=\"MAE\"\n",
    "        )\n",
    "        \n",
    "        axs[i // 4, i % 4].bar(\n",
    "            [x + 0.5 * bar_width for x in x_positions], RMSE, width=bar_width, color='purple', label=\"RMSE\"\n",
    "        )\n",
    "        axs[i // 4, i % 4].set_title(f'{b} {w}s')\n",
    "        axs[i // 4, i % 4].set_xticks(x_positions)\n",
    "        axs[i // 4, i % 4].set_xticklabels(maturities)\n",
    "        axs[i // 4, i % 4].set_ylim(0, plot_height)\n",
    "        axs[i // 4, i % 4].legend()\n",
    "        i += 1\n",
    "\n",
    "fig.supxlabel('maturities')\n",
    "\n",
    "plt.tight_layout()\n",
    "plt.show()"
   ]
  },
  {
   "cell_type": "code",
   "execution_count": null,
   "id": "7a2563de-60f9-4ca9-a667-411e09853169",
   "metadata": {},
   "outputs": [],
   "source": [
    "types  = ['DownOut', 'DownIn', 'UpOut', 'UpIn']"
   ]
  },
  {
   "cell_type": "code",
   "execution_count": null,
   "id": "57a44bce-c7d7-4ca0-b342-e6e7142230be",
   "metadata": {},
   "outputs": [],
   "source": [
    "for b in types:\n",
    "    print(f\"\\n{b}\")\n",
    "    print(by_wbt.loc[('call',b,slice(None)),:].shape[0])"
   ]
  },
  {
   "cell_type": "code",
   "execution_count": null,
   "id": "e02d13c1-3482-41ac-8c2c-2881b298f10d",
   "metadata": {},
   "outputs": [],
   "source": [
    "types  = ['DownOut', 'DownIn', 'UpOut', 'UpIn']\n",
    "for b in types:\n",
    "    print(f\"\\n{b}\")\n",
    "    print(by_wbt.loc[('put',b,slice(None)),:].shape[0])"
   ]
  },
  {
   "cell_type": "code",
   "execution_count": null,
   "id": "2b37d06a-afee-436b-bb5e-e6508338bc5b",
   "metadata": {},
   "outputs": [],
   "source": [
    "outsample.loc[:,'security_type'] = outsample['w'] + outsample['barrier_type_name']"
   ]
  },
  {
   "cell_type": "code",
   "execution_count": null,
   "id": "8761f6f4-9b32-4fc2-aca0-954f7df264c4",
   "metadata": {},
   "outputs": [],
   "source": [
    "down_calls = outsample.copy()[\n",
    "    (\n",
    "        (outsample['w'] == 'call')\n",
    "        &\n",
    "        (outsample['updown'] =='Down')\n",
    "    )\n",
    "]\n",
    "observed_price = np.sum(down_calls['barrier_price'])\n",
    "outofsample_prediction = np.sum(down_calls['outofsample_prediction'])\n",
    "print(f\"\\n{observed_price}\\n{outofsample_prediction}\\n\")\n",
    "RMSE = float(np.sqrt(np.mean(np.array(down_calls['outofsample_prediction']-down_calls['barrier_price'])**2)))\n",
    "print(RMSE)\n",
    "MAE = float(np.average(np.abs(np.array(down_calls['outofsample_prediction']-down_calls['barrier_price']))))\n",
    "MAE"
   ]
  },
  {
   "cell_type": "code",
   "execution_count": null,
   "id": "d3d0e1a5-f0f3-4d1e-9442-468211c21204",
   "metadata": {},
   "outputs": [],
   "source": [
    "down_puts = outsample.copy()[\n",
    "    (\n",
    "        (outsample['w'] == 'put')\n",
    "        &\n",
    "        (outsample['updown'] =='Down')\n",
    "    )\n",
    "]\n",
    "observed_price = np.sum(down_puts['barrier_price'])\n",
    "outofsample_prediction = np.sum(down_puts['outofsample_prediction'])\n",
    "print(f\"\\n{observed_price}\\n{outofsample_prediction}\\n\")\n",
    "RMSE = float(np.sqrt(np.mean(np.array(down_puts['outofsample_prediction']-down_puts['barrier_price'])**2)))\n",
    "print(RMSE)\n",
    "MAE = float(np.average(np.abs(np.array(down_puts['outofsample_prediction']-down_puts['barrier_price']))))\n",
    "MAE"
   ]
  },
  {
   "cell_type": "code",
   "execution_count": null,
   "id": "27e50554-4f4e-49a3-8c3d-944bf7c8f54f",
   "metadata": {},
   "outputs": [],
   "source": [
    "up_calls = outsample.copy()[\n",
    "    (\n",
    "        (outsample['w'] == 'call')\n",
    "        &\n",
    "        (outsample['updown'] =='Up')\n",
    "    )\n",
    "]\n",
    "observed_price = np.sum(up_calls['barrier_price'])\n",
    "outofsample_prediction = np.sum(up_calls['outofsample_prediction'])\n",
    "print(f\"\\n{observed_price}\\n{outofsample_prediction}\\n\")\n",
    "RMSE = float(np.sqrt(np.mean(np.array(up_calls['outofsample_prediction']-up_calls['barrier_price'])**2)))\n",
    "print(RMSE)\n",
    "MAE = float(np.average(np.abs(np.array(up_calls['outofsample_prediction']-up_calls['barrier_price']))))\n",
    "MAE"
   ]
  },
  {
   "cell_type": "code",
   "execution_count": null,
   "id": "1341e620-e50b-489f-bc2f-d55b35984e11",
   "metadata": {},
   "outputs": [],
   "source": [
    "up_puts = outsample.copy()[\n",
    "    (\n",
    "        (outsample['w'] == 'put')\n",
    "        &\n",
    "        (outsample['updown'] =='Up')\n",
    "    )\n",
    "]\n",
    "observed_price = np.sum(up_puts['barrier_price'])\n",
    "outofsample_prediction = np.sum(up_puts['outofsample_prediction'])\n",
    "print(f\"\\n{observed_price}\\n{outofsample_prediction}\\n\")\n",
    "RMSE = float(np.sqrt(np.mean(np.array(up_puts['outofsample_prediction']-up_puts['barrier_price'])**2)))\n",
    "print(RMSE)\n",
    "MAE = float(np.average(np.abs(np.array(up_puts['outofsample_prediction']-up_puts['barrier_price']))))\n",
    "MAE"
   ]
  }
 ],
 "metadata": {
  "kernelspec": {
   "display_name": "Python 3 (ipykernel)",
   "language": "python",
   "name": "python3"
  },
  "language_info": {
   "codemirror_mode": {
    "name": "ipython",
    "version": 3
   },
   "file_extension": ".py",
   "mimetype": "text/x-python",
   "name": "python",
   "nbconvert_exporter": "python",
   "pygments_lexer": "ipython3",
   "version": "3.12.7"
  }
 },
 "nbformat": 4,
 "nbformat_minor": 5
}
