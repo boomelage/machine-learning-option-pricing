{
 "cells": [
  {
   "cell_type": "code",
   "execution_count": 1,
   "id": "d72f964e-11b6-4ae9-a6e6-4fc4cf43c250",
   "metadata": {},
   "outputs": [
    {
     "data": {
      "text/plain": [
       "['2024-11-15 164145753233 cboe spx relative asian',\n",
       " '2024-11-15 164315824655 cboe spx relative barrier']"
      ]
     },
     "execution_count": 1,
     "metadata": {},
     "output_type": "execute_result"
    }
   ],
   "source": [
    "import os\n",
    "import joblib\n",
    "from pathlib import Path\n",
    "from time import time\n",
    "import pandas as pd\n",
    "import numpy as np\n",
    "import matplotlib.pyplot as plt\n",
    "from tqdm import tqdm\n",
    "from model_settings import ms\n",
    "from quantlib_pricers import barriers, asians\n",
    "\n",
    "ms.find_root(Path())\n",
    "ms.__dict__\n",
    "\n",
    "modelsdir = os.path.join(ms.root,ms.trained_models)\n",
    "folders = [f for f in os.listdir(modelsdir) if f.find('Legacy')==-1 and not f.startswith('.')]\n",
    "folders"
   ]
  },
  {
   "cell_type": "code",
   "execution_count": 2,
   "id": "422cc5de-2b2b-4358-9a74-22cfc5de88e5",
   "metadata": {},
   "outputs": [
    {
     "data": {
      "text/plain": [
       "<bound method asian_option_pricer.df_asian_option_price of <quantlib_pricers.asian_option_pricer.asian_option_pricer object at 0x0000020C22216C90>>"
      ]
     },
     "execution_count": 2,
     "metadata": {},
     "output_type": "execute_result"
    }
   ],
   "source": [
    "model_folder = folders[0]\n",
    "pricename = str(model_folder[model_folder.rfind(' ')+1:])+'_price'\n",
    "model_dir = os.path.join(modelsdir,model_folder)\n",
    "pickle = [f for f in os.listdir(model_dir) if f.endswith('.pkl') and f.find(model_folder)!=-1][0]\n",
    "model = joblib.load(os.path.join(model_dir,pickle))\n",
    "est = model['model']\n",
    "df = model['train_data'].iloc[:,:-4].copy().reset_index(drop=True)\n",
    "df = df.drop(columns=[c for c in df.columns if c.find(pricename)!=-1])\n",
    "if pricename == 'barrier_price':\n",
    "    pricer = barriers.df_barrier_price\n",
    "\n",
    "elif pricename == 'asian_price':\n",
    "    pricer = asians.df_asian_option_price\n",
    "\n",
    "pricer"
   ]
  },
  {
   "cell_type": "code",
   "execution_count": 3,
   "id": "2a17fb7d-b95b-4b59-9473-775df2ff85b3",
   "metadata": {},
   "outputs": [
    {
     "data": {
      "text/plain": [
       "['days_to_maturity',\n",
       " 'fixing_frequency',\n",
       " 'past_fixings',\n",
       " 'risk_free_rate',\n",
       " 'dividend_rate',\n",
       " 'kappa',\n",
       " 'theta',\n",
       " 'rho',\n",
       " 'eta',\n",
       " 'v0',\n",
       " 'relative_spot',\n",
       " 'averaging_type',\n",
       " 'w']"
      ]
     },
     "execution_count": 3,
     "metadata": {},
     "output_type": "execute_result"
    }
   ],
   "source": [
    "feature_set = model['feature_set']\n",
    "feature_set"
   ]
  },
  {
   "cell_type": "raw",
   "id": "8598291e-38cb-490d-8c22-ab16e72df227",
   "metadata": {
    "scrolled": true
   },
   "source": [
    "def price_row(row):\n",
    "    tic = time()\n",
    "    features = row[1][model['feature_set']].to_frame().T\n",
    "    price = est.predict(features)[0]\n",
    "    MLP = time() - tic\n",
    "    return {'MLP':price,'MLP_cpu':MLP}\n",
    "\n",
    "from joblib import Parallel, delayed\n",
    "results = Parallel()(delayed(price_row)(row) for row in df.iterrows())\n",
    "results = pd.DataFrame(results)\n",
    "df[results.columns] = results\n",
    "\n",
    "prices = pd.DataFrame(pricer(df))\n",
    "df[prices.columns] = prices\n",
    "\n",
    "df.to_csv(f\"{ms.timetag()} {pricename[:pricename.find('_')]} performance.csv\")"
   ]
  },
  {
   "cell_type": "code",
   "execution_count": 4,
   "id": "98275a28-2134-445d-817b-c607694dc2e7",
   "metadata": {},
   "outputs": [],
   "source": [
    "file = [f for f  in os.listdir(Path()) if f.find(pricename[:pricename.find('_')]) !=-1 ][0]"
   ]
  },
  {
   "cell_type": "code",
   "execution_count": 5,
   "id": "b728d47f-4cd3-41c3-a841-0d759b836078",
   "metadata": {},
   "outputs": [
    {
     "data": {
      "image/png": "[encoded data removed]",
      "text/plain": [
       "<Figure size 640x480 with 1 Axes>"
      ]
     },
     "metadata": {},
     "output_type": "display_data"
    },
    {
     "name": "stdout",
     "output_type": "stream",
     "text": [
      "asian_cpu    16246.420247\n",
      "MLP_cpu         29.064395\n",
      "Name: 23579, dtype: float64\n",
      "99.8211% gain in computational efficiency\n"
     ]
    }
   ],
   "source": [
    "df = pd.read_csv(os.path.join(Path(),file)).iloc[:,1:].copy()\n",
    "times = df[[pricename.replace('price','cpu'),'MLP_cpu']].cumsum()\n",
    "plt.figure()\n",
    "plt.plot(times.iloc[:,0],label='original pricing function',color='green')\n",
    "plt.plot(times.iloc[:,1],label='multilayer perception',color='purple')\n",
    "plt.show()\n",
    "totals = times.iloc[-1]\n",
    "print(totals)\n",
    "original = totals[pricename.replace('price','cpu')]\n",
    "mlp = totals['MLP_cpu']\n",
    "gain = 1-mlp/original\n",
    "print(f\"{round(gain*100,4)}% gain in computational efficiency\")"
   ]
  }
 ],
 "metadata": {
  "kernelspec": {
   "display_name": "Python 3 (ipykernel)",
   "language": "python",
   "name": "python3"
  },
  "language_info": {
   "codemirror_mode": {
    "name": "ipython",
    "version": 3
   },
   "file_extension": ".py",
   "mimetype": "text/x-python",
   "name": "python",
   "nbconvert_exporter": "python",
   "pygments_lexer": "ipython3",
   "version": "3.12.7"
  }
 },
 "nbformat": 4,
 "nbformat_minor": 5
}
